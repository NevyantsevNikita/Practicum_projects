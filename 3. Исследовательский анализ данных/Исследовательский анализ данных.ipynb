{
 "cells": [
  {
   "cell_type": "markdown",
   "metadata": {
    "id": "-VFbjcb3Awb7"
   },
   "source": [
    "# Исследование объявлений о продаже квартир\n",
    "\n",
    "В вашем распоряжении данные сервиса Яндекс Недвижимость — архив объявлений о продаже квартир в Санкт-Петербурге и соседних населённых пунктах за несколько лет. Вам нужно научиться определять рыночную стоимость объектов недвижимости. Для этого проведите исследовательский анализ данных и установите параметры, влияющие на цену объектов. Это позволит построить автоматизированную систему: она отследит аномалии и мошенническую деятельность.\n",
    "\n",
    "По каждой квартире на продажу доступны два вида данных. Первые вписаны пользователем, вторые — получены автоматически на основе картографических данных. Например, расстояние до центра, аэропорта и других объектов — эти данные автоматически получены из геосервисов. Количество парков и водоёмов также заполняется без участия пользователя."
   ]
  },
  {
   "cell_type": "markdown",
   "metadata": {},
   "source": [
    "#### Описание данных таблицы\n",
    "`airports_nearest` — расстояние до ближайшего аэропорта в метрах (м)  \n",
    "`balcony` — число балконов  \n",
    "`ceiling_height` — высота потолков (м)  \n",
    "`cityCenters_nearest` — расстояние до центра города (м)  \n",
    "`days_exposition` — сколько дней было размещено объявление (от публикации до снятия)  \n",
    "`first_day_exposition` — дата публикации  \n",
    "`floor` — этаж  \n",
    "`floors_total` — всего этажей в доме  \n",
    "`is_apartment` — апартаменты (булев тип)  \n",
    "`kitchen_area` — площадь кухни в квадратных метрах (м²)  \n",
    "`last_price` — цена на момент снятия с публикации  \n",
    "`living_area` — жилая площадь в квадратных метрах (м²)  \n",
    "`locality_name` — название населённого пункта  \n",
    "`open_plan` — свободная планировка (булев тип)  \n",
    "`parks_around3000` — число парков в радиусе 3 км  \n",
    "`parks_nearest` — расстояние до ближайшего парка (м)  \n",
    "`ponds_around3000` — число водоёмов в радиусе 3 км  \n",
    "`ponds_nearest` — расстояние до ближайшего водоёма (м)  \n",
    "`rooms` — число комнат  \n",
    "`studio` — квартира-студия (булев тип)  \n",
    "`total_area` — общая площадь квартиры в квадратных метрах (м²)  \n",
    "`total_images` — число фотографий квартиры в объявлении  "
   ]
  },
  {
   "cell_type": "markdown",
   "metadata": {
    "id": "aeFLH07FAwb9"
   },
   "source": [
    "## Откройте файл с данными и изучите общую информацию"
   ]
  },
  {
   "cell_type": "markdown",
   "metadata": {
    "id": "7MZxY65pAwb9"
   },
   "source": [
    "### Импорт библиотек"
   ]
  },
  {
   "cell_type": "code",
   "execution_count": 1,
   "metadata": {},
   "outputs": [],
   "source": [
    "import pandas as pd\n",
    "import matplotlib.pyplot as plt"
   ]
  },
  {
   "cell_type": "markdown",
   "metadata": {},
   "source": [
    "### Прочтение файлов"
   ]
  },
  {
   "cell_type": "code",
   "execution_count": 2,
   "metadata": {},
   "outputs": [],
   "source": [
    "df = pd.read_csv('/datasets/real_estate_data.csv', sep='\\t')"
   ]
  },
  {
   "cell_type": "markdown",
   "metadata": {},
   "source": [
    "### Изучение файла"
   ]
  },
  {
   "cell_type": "code",
   "execution_count": 3,
   "metadata": {},
   "outputs": [
    {
     "data": {
      "text/html": [
       "<div>\n",
       "<style scoped>\n",
       "    .dataframe tbody tr th:only-of-type {\n",
       "        vertical-align: middle;\n",
       "    }\n",
       "\n",
       "    .dataframe tbody tr th {\n",
       "        vertical-align: top;\n",
       "    }\n",
       "\n",
       "    .dataframe thead th {\n",
       "        text-align: right;\n",
       "    }\n",
       "</style>\n",
       "<table border=\"1\" class=\"dataframe\">\n",
       "  <thead>\n",
       "    <tr style=\"text-align: right;\">\n",
       "      <th></th>\n",
       "      <th>total_images</th>\n",
       "      <th>last_price</th>\n",
       "      <th>total_area</th>\n",
       "      <th>first_day_exposition</th>\n",
       "      <th>rooms</th>\n",
       "      <th>ceiling_height</th>\n",
       "      <th>floors_total</th>\n",
       "      <th>living_area</th>\n",
       "      <th>floor</th>\n",
       "      <th>is_apartment</th>\n",
       "      <th>...</th>\n",
       "      <th>kitchen_area</th>\n",
       "      <th>balcony</th>\n",
       "      <th>locality_name</th>\n",
       "      <th>airports_nearest</th>\n",
       "      <th>cityCenters_nearest</th>\n",
       "      <th>parks_around3000</th>\n",
       "      <th>parks_nearest</th>\n",
       "      <th>ponds_around3000</th>\n",
       "      <th>ponds_nearest</th>\n",
       "      <th>days_exposition</th>\n",
       "    </tr>\n",
       "  </thead>\n",
       "  <tbody>\n",
       "    <tr>\n",
       "      <th>0</th>\n",
       "      <td>20</td>\n",
       "      <td>13000000.0</td>\n",
       "      <td>108.00</td>\n",
       "      <td>2019-03-07T00:00:00</td>\n",
       "      <td>3</td>\n",
       "      <td>2.70</td>\n",
       "      <td>16.0</td>\n",
       "      <td>51.00</td>\n",
       "      <td>8</td>\n",
       "      <td>NaN</td>\n",
       "      <td>...</td>\n",
       "      <td>25.00</td>\n",
       "      <td>NaN</td>\n",
       "      <td>Санкт-Петербург</td>\n",
       "      <td>18863.0</td>\n",
       "      <td>16028.0</td>\n",
       "      <td>1.0</td>\n",
       "      <td>482.0</td>\n",
       "      <td>2.0</td>\n",
       "      <td>755.0</td>\n",
       "      <td>NaN</td>\n",
       "    </tr>\n",
       "    <tr>\n",
       "      <th>1</th>\n",
       "      <td>7</td>\n",
       "      <td>3350000.0</td>\n",
       "      <td>40.40</td>\n",
       "      <td>2018-12-04T00:00:00</td>\n",
       "      <td>1</td>\n",
       "      <td>NaN</td>\n",
       "      <td>11.0</td>\n",
       "      <td>18.60</td>\n",
       "      <td>1</td>\n",
       "      <td>NaN</td>\n",
       "      <td>...</td>\n",
       "      <td>11.00</td>\n",
       "      <td>2.0</td>\n",
       "      <td>посёлок Шушары</td>\n",
       "      <td>12817.0</td>\n",
       "      <td>18603.0</td>\n",
       "      <td>0.0</td>\n",
       "      <td>NaN</td>\n",
       "      <td>0.0</td>\n",
       "      <td>NaN</td>\n",
       "      <td>81.0</td>\n",
       "    </tr>\n",
       "    <tr>\n",
       "      <th>2</th>\n",
       "      <td>10</td>\n",
       "      <td>5196000.0</td>\n",
       "      <td>56.00</td>\n",
       "      <td>2015-08-20T00:00:00</td>\n",
       "      <td>2</td>\n",
       "      <td>NaN</td>\n",
       "      <td>5.0</td>\n",
       "      <td>34.30</td>\n",
       "      <td>4</td>\n",
       "      <td>NaN</td>\n",
       "      <td>...</td>\n",
       "      <td>8.30</td>\n",
       "      <td>0.0</td>\n",
       "      <td>Санкт-Петербург</td>\n",
       "      <td>21741.0</td>\n",
       "      <td>13933.0</td>\n",
       "      <td>1.0</td>\n",
       "      <td>90.0</td>\n",
       "      <td>2.0</td>\n",
       "      <td>574.0</td>\n",
       "      <td>558.0</td>\n",
       "    </tr>\n",
       "    <tr>\n",
       "      <th>3</th>\n",
       "      <td>0</td>\n",
       "      <td>64900000.0</td>\n",
       "      <td>159.00</td>\n",
       "      <td>2015-07-24T00:00:00</td>\n",
       "      <td>3</td>\n",
       "      <td>NaN</td>\n",
       "      <td>14.0</td>\n",
       "      <td>NaN</td>\n",
       "      <td>9</td>\n",
       "      <td>NaN</td>\n",
       "      <td>...</td>\n",
       "      <td>NaN</td>\n",
       "      <td>0.0</td>\n",
       "      <td>Санкт-Петербург</td>\n",
       "      <td>28098.0</td>\n",
       "      <td>6800.0</td>\n",
       "      <td>2.0</td>\n",
       "      <td>84.0</td>\n",
       "      <td>3.0</td>\n",
       "      <td>234.0</td>\n",
       "      <td>424.0</td>\n",
       "    </tr>\n",
       "    <tr>\n",
       "      <th>4</th>\n",
       "      <td>2</td>\n",
       "      <td>10000000.0</td>\n",
       "      <td>100.00</td>\n",
       "      <td>2018-06-19T00:00:00</td>\n",
       "      <td>2</td>\n",
       "      <td>3.03</td>\n",
       "      <td>14.0</td>\n",
       "      <td>32.00</td>\n",
       "      <td>13</td>\n",
       "      <td>NaN</td>\n",
       "      <td>...</td>\n",
       "      <td>41.00</td>\n",
       "      <td>NaN</td>\n",
       "      <td>Санкт-Петербург</td>\n",
       "      <td>31856.0</td>\n",
       "      <td>8098.0</td>\n",
       "      <td>2.0</td>\n",
       "      <td>112.0</td>\n",
       "      <td>1.0</td>\n",
       "      <td>48.0</td>\n",
       "      <td>121.0</td>\n",
       "    </tr>\n",
       "    <tr>\n",
       "      <th>5</th>\n",
       "      <td>10</td>\n",
       "      <td>2890000.0</td>\n",
       "      <td>30.40</td>\n",
       "      <td>2018-09-10T00:00:00</td>\n",
       "      <td>1</td>\n",
       "      <td>NaN</td>\n",
       "      <td>12.0</td>\n",
       "      <td>14.40</td>\n",
       "      <td>5</td>\n",
       "      <td>NaN</td>\n",
       "      <td>...</td>\n",
       "      <td>9.10</td>\n",
       "      <td>NaN</td>\n",
       "      <td>городской посёлок Янино-1</td>\n",
       "      <td>NaN</td>\n",
       "      <td>NaN</td>\n",
       "      <td>NaN</td>\n",
       "      <td>NaN</td>\n",
       "      <td>NaN</td>\n",
       "      <td>NaN</td>\n",
       "      <td>55.0</td>\n",
       "    </tr>\n",
       "    <tr>\n",
       "      <th>6</th>\n",
       "      <td>6</td>\n",
       "      <td>3700000.0</td>\n",
       "      <td>37.30</td>\n",
       "      <td>2017-11-02T00:00:00</td>\n",
       "      <td>1</td>\n",
       "      <td>NaN</td>\n",
       "      <td>26.0</td>\n",
       "      <td>10.60</td>\n",
       "      <td>6</td>\n",
       "      <td>NaN</td>\n",
       "      <td>...</td>\n",
       "      <td>14.40</td>\n",
       "      <td>1.0</td>\n",
       "      <td>посёлок Парголово</td>\n",
       "      <td>52996.0</td>\n",
       "      <td>19143.0</td>\n",
       "      <td>0.0</td>\n",
       "      <td>NaN</td>\n",
       "      <td>0.0</td>\n",
       "      <td>NaN</td>\n",
       "      <td>155.0</td>\n",
       "    </tr>\n",
       "    <tr>\n",
       "      <th>7</th>\n",
       "      <td>5</td>\n",
       "      <td>7915000.0</td>\n",
       "      <td>71.60</td>\n",
       "      <td>2019-04-18T00:00:00</td>\n",
       "      <td>2</td>\n",
       "      <td>NaN</td>\n",
       "      <td>24.0</td>\n",
       "      <td>NaN</td>\n",
       "      <td>22</td>\n",
       "      <td>NaN</td>\n",
       "      <td>...</td>\n",
       "      <td>18.90</td>\n",
       "      <td>2.0</td>\n",
       "      <td>Санкт-Петербург</td>\n",
       "      <td>23982.0</td>\n",
       "      <td>11634.0</td>\n",
       "      <td>0.0</td>\n",
       "      <td>NaN</td>\n",
       "      <td>0.0</td>\n",
       "      <td>NaN</td>\n",
       "      <td>NaN</td>\n",
       "    </tr>\n",
       "    <tr>\n",
       "      <th>8</th>\n",
       "      <td>20</td>\n",
       "      <td>2900000.0</td>\n",
       "      <td>33.16</td>\n",
       "      <td>2018-05-23T00:00:00</td>\n",
       "      <td>1</td>\n",
       "      <td>NaN</td>\n",
       "      <td>27.0</td>\n",
       "      <td>15.43</td>\n",
       "      <td>26</td>\n",
       "      <td>NaN</td>\n",
       "      <td>...</td>\n",
       "      <td>8.81</td>\n",
       "      <td>NaN</td>\n",
       "      <td>посёлок Мурино</td>\n",
       "      <td>NaN</td>\n",
       "      <td>NaN</td>\n",
       "      <td>NaN</td>\n",
       "      <td>NaN</td>\n",
       "      <td>NaN</td>\n",
       "      <td>NaN</td>\n",
       "      <td>189.0</td>\n",
       "    </tr>\n",
       "    <tr>\n",
       "      <th>9</th>\n",
       "      <td>18</td>\n",
       "      <td>5400000.0</td>\n",
       "      <td>61.00</td>\n",
       "      <td>2017-02-26T00:00:00</td>\n",
       "      <td>3</td>\n",
       "      <td>2.50</td>\n",
       "      <td>9.0</td>\n",
       "      <td>43.60</td>\n",
       "      <td>7</td>\n",
       "      <td>NaN</td>\n",
       "      <td>...</td>\n",
       "      <td>6.50</td>\n",
       "      <td>2.0</td>\n",
       "      <td>Санкт-Петербург</td>\n",
       "      <td>50898.0</td>\n",
       "      <td>15008.0</td>\n",
       "      <td>0.0</td>\n",
       "      <td>NaN</td>\n",
       "      <td>0.0</td>\n",
       "      <td>NaN</td>\n",
       "      <td>289.0</td>\n",
       "    </tr>\n",
       "  </tbody>\n",
       "</table>\n",
       "<p>10 rows × 22 columns</p>\n",
       "</div>"
      ],
      "text/plain": [
       "   total_images  last_price  total_area first_day_exposition  rooms  \\\n",
       "0            20  13000000.0      108.00  2019-03-07T00:00:00      3   \n",
       "1             7   3350000.0       40.40  2018-12-04T00:00:00      1   \n",
       "2            10   5196000.0       56.00  2015-08-20T00:00:00      2   \n",
       "3             0  64900000.0      159.00  2015-07-24T00:00:00      3   \n",
       "4             2  10000000.0      100.00  2018-06-19T00:00:00      2   \n",
       "5            10   2890000.0       30.40  2018-09-10T00:00:00      1   \n",
       "6             6   3700000.0       37.30  2017-11-02T00:00:00      1   \n",
       "7             5   7915000.0       71.60  2019-04-18T00:00:00      2   \n",
       "8            20   2900000.0       33.16  2018-05-23T00:00:00      1   \n",
       "9            18   5400000.0       61.00  2017-02-26T00:00:00      3   \n",
       "\n",
       "   ceiling_height  floors_total  living_area  floor is_apartment  ...  \\\n",
       "0            2.70          16.0        51.00      8          NaN  ...   \n",
       "1             NaN          11.0        18.60      1          NaN  ...   \n",
       "2             NaN           5.0        34.30      4          NaN  ...   \n",
       "3             NaN          14.0          NaN      9          NaN  ...   \n",
       "4            3.03          14.0        32.00     13          NaN  ...   \n",
       "5             NaN          12.0        14.40      5          NaN  ...   \n",
       "6             NaN          26.0        10.60      6          NaN  ...   \n",
       "7             NaN          24.0          NaN     22          NaN  ...   \n",
       "8             NaN          27.0        15.43     26          NaN  ...   \n",
       "9            2.50           9.0        43.60      7          NaN  ...   \n",
       "\n",
       "   kitchen_area  balcony              locality_name  airports_nearest  \\\n",
       "0         25.00      NaN            Санкт-Петербург           18863.0   \n",
       "1         11.00      2.0             посёлок Шушары           12817.0   \n",
       "2          8.30      0.0            Санкт-Петербург           21741.0   \n",
       "3           NaN      0.0            Санкт-Петербург           28098.0   \n",
       "4         41.00      NaN            Санкт-Петербург           31856.0   \n",
       "5          9.10      NaN  городской посёлок Янино-1               NaN   \n",
       "6         14.40      1.0          посёлок Парголово           52996.0   \n",
       "7         18.90      2.0            Санкт-Петербург           23982.0   \n",
       "8          8.81      NaN             посёлок Мурино               NaN   \n",
       "9          6.50      2.0            Санкт-Петербург           50898.0   \n",
       "\n",
       "  cityCenters_nearest  parks_around3000  parks_nearest  ponds_around3000  \\\n",
       "0             16028.0               1.0          482.0               2.0   \n",
       "1             18603.0               0.0            NaN               0.0   \n",
       "2             13933.0               1.0           90.0               2.0   \n",
       "3              6800.0               2.0           84.0               3.0   \n",
       "4              8098.0               2.0          112.0               1.0   \n",
       "5                 NaN               NaN            NaN               NaN   \n",
       "6             19143.0               0.0            NaN               0.0   \n",
       "7             11634.0               0.0            NaN               0.0   \n",
       "8                 NaN               NaN            NaN               NaN   \n",
       "9             15008.0               0.0            NaN               0.0   \n",
       "\n",
       "   ponds_nearest  days_exposition  \n",
       "0          755.0              NaN  \n",
       "1            NaN             81.0  \n",
       "2          574.0            558.0  \n",
       "3          234.0            424.0  \n",
       "4           48.0            121.0  \n",
       "5            NaN             55.0  \n",
       "6            NaN            155.0  \n",
       "7            NaN              NaN  \n",
       "8            NaN            189.0  \n",
       "9            NaN            289.0  \n",
       "\n",
       "[10 rows x 22 columns]"
      ]
     },
     "execution_count": 3,
     "metadata": {},
     "output_type": "execute_result"
    }
   ],
   "source": [
    "#Вывод первых 10 строк датафрейма\n",
    "df.head(10)"
   ]
  },
  {
   "cell_type": "code",
   "execution_count": 4,
   "metadata": {},
   "outputs": [
    {
     "name": "stdout",
     "output_type": "stream",
     "text": [
      "<class 'pandas.core.frame.DataFrame'>\n",
      "RangeIndex: 23699 entries, 0 to 23698\n",
      "Data columns (total 22 columns):\n",
      " #   Column                Non-Null Count  Dtype  \n",
      "---  ------                --------------  -----  \n",
      " 0   total_images          23699 non-null  int64  \n",
      " 1   last_price            23699 non-null  float64\n",
      " 2   total_area            23699 non-null  float64\n",
      " 3   first_day_exposition  23699 non-null  object \n",
      " 4   rooms                 23699 non-null  int64  \n",
      " 5   ceiling_height        14504 non-null  float64\n",
      " 6   floors_total          23613 non-null  float64\n",
      " 7   living_area           21796 non-null  float64\n",
      " 8   floor                 23699 non-null  int64  \n",
      " 9   is_apartment          2775 non-null   object \n",
      " 10  studio                23699 non-null  bool   \n",
      " 11  open_plan             23699 non-null  bool   \n",
      " 12  kitchen_area          21421 non-null  float64\n",
      " 13  balcony               12180 non-null  float64\n",
      " 14  locality_name         23650 non-null  object \n",
      " 15  airports_nearest      18157 non-null  float64\n",
      " 16  cityCenters_nearest   18180 non-null  float64\n",
      " 17  parks_around3000      18181 non-null  float64\n",
      " 18  parks_nearest         8079 non-null   float64\n",
      " 19  ponds_around3000      18181 non-null  float64\n",
      " 20  ponds_nearest         9110 non-null   float64\n",
      " 21  days_exposition       20518 non-null  float64\n",
      "dtypes: bool(2), float64(14), int64(3), object(3)\n",
      "memory usage: 3.7+ MB\n"
     ]
    }
   ],
   "source": [
    "#Вывод общей информации по датафрейму\n",
    "df.info()"
   ]
  },
  {
   "cell_type": "code",
   "execution_count": 5,
   "metadata": {},
   "outputs": [
    {
     "data": {
      "image/png": "[encoded data removed]",
      "text/plain": [
       "<Figure size 1080x1080 with 20 Axes>"
      ]
     },
     "metadata": {
      "needs_background": "light"
     },
     "output_type": "display_data"
    }
   ],
   "source": [
    "#Построение гистограммы\n",
    "df.hist(figsize=(15,15));"
   ]
  },
  {
   "cell_type": "markdown",
   "metadata": {},
   "source": [
    "Всего в таблице 23699 записей. Почти во всех столбцах встречаются пустые значения. \n",
    "В некоторых столбцах указан неверный тип данных."
   ]
  },
  {
   "cell_type": "markdown",
   "metadata": {
    "id": "-O5NtivEAwb9"
   },
   "source": [
    "## Выполните предобработку данных"
   ]
  },
  {
   "cell_type": "markdown",
   "metadata": {
    "id": "7v3vAeTuAwb-"
   },
   "source": [
    "### Поиск пропущенных значений"
   ]
  },
  {
   "cell_type": "code",
   "execution_count": 6,
   "metadata": {},
   "outputs": [
    {
     "data": {
      "text/plain": [
       "total_images                0\n",
       "last_price                  0\n",
       "total_area                  0\n",
       "first_day_exposition        0\n",
       "rooms                       0\n",
       "ceiling_height           9195\n",
       "floors_total               86\n",
       "living_area              1903\n",
       "floor                       0\n",
       "is_apartment            20924\n",
       "studio                      0\n",
       "open_plan                   0\n",
       "kitchen_area             2278\n",
       "balcony                 11519\n",
       "locality_name              49\n",
       "airports_nearest         5542\n",
       "cityCenters_nearest      5519\n",
       "parks_around3000         5518\n",
       "parks_nearest           15620\n",
       "ponds_around3000         5518\n",
       "ponds_nearest           14589\n",
       "days_exposition          3181\n",
       "dtype: int64"
      ]
     },
     "execution_count": 6,
     "metadata": {},
     "output_type": "execute_result"
    }
   ],
   "source": [
    "df.isna().sum()"
   ]
  },
  {
   "cell_type": "code",
   "execution_count": 7,
   "metadata": {},
   "outputs": [
    {
     "name": "stdout",
     "output_type": "stream",
     "text": [
      "<class 'pandas.core.frame.DataFrame'>\n",
      "RangeIndex: 23699 entries, 0 to 23698\n",
      "Data columns (total 22 columns):\n",
      " #   Column                Non-Null Count  Dtype  \n",
      "---  ------                --------------  -----  \n",
      " 0   total_images          23699 non-null  int64  \n",
      " 1   last_price            23699 non-null  float64\n",
      " 2   total_area            23699 non-null  float64\n",
      " 3   first_day_exposition  23699 non-null  object \n",
      " 4   rooms                 23699 non-null  int64  \n",
      " 5   ceiling_height        14504 non-null  float64\n",
      " 6   floors_total          23613 non-null  float64\n",
      " 7   living_area           21796 non-null  float64\n",
      " 8   floor                 23699 non-null  int64  \n",
      " 9   is_apartment          2775 non-null   object \n",
      " 10  studio                23699 non-null  bool   \n",
      " 11  open_plan             23699 non-null  bool   \n",
      " 12  kitchen_area          21421 non-null  float64\n",
      " 13  balcony               12180 non-null  float64\n",
      " 14  locality_name         23650 non-null  object \n",
      " 15  airports_nearest      18157 non-null  float64\n",
      " 16  city_centers_nearest  18180 non-null  float64\n",
      " 17  parks_around3000      18181 non-null  float64\n",
      " 18  parks_nearest         8079 non-null   float64\n",
      " 19  ponds_around3000      18181 non-null  float64\n",
      " 20  ponds_nearest         9110 non-null   float64\n",
      " 21  days_exposition       20518 non-null  float64\n",
      "dtypes: bool(2), float64(14), int64(3), object(3)\n",
      "memory usage: 3.7+ MB\n"
     ]
    }
   ],
   "source": [
    "#Необходимо изменить название стобца cityCenters_nearest на city_centers_nearest для более удобнйо работы\n",
    "df.rename(columns={'cityCenters_nearest' : 'city_centers_nearest'}, inplace=True)\n",
    "df.info()"
   ]
  },
  {
   "cell_type": "markdown",
   "metadata": {},
   "source": [
    "### Заполнение пропусков"
   ]
  },
  {
   "cell_type": "markdown",
   "metadata": {},
   "source": [
    "#### celling_height - высота потолков\n",
    "Заменю пропуски на медиальное значние"
   ]
  },
  {
   "cell_type": "code",
   "execution_count": 8,
   "metadata": {},
   "outputs": [
    {
     "data": {
      "text/plain": [
       "22869    100.0\n",
       "3148      32.0\n",
       "22336     32.0\n",
       "21377     27.5\n",
       "4876      27.0\n",
       "17857     27.0\n",
       "5246      27.0\n",
       "20478     27.0\n",
       "22938     27.0\n",
       "5807      27.0\n",
       "21824     27.0\n",
       "10773     27.0\n",
       "5669      26.0\n",
       "18545     25.0\n",
       "4643      25.0\n",
       "9379      25.0\n",
       "11285     25.0\n",
       "14382     25.0\n",
       "355       25.0\n",
       "6246      25.0\n",
       "5076      24.0\n",
       "20507     22.6\n",
       "17496     20.0\n",
       "15061     14.0\n",
       "22309     10.3\n",
       "5863       8.3\n",
       "3474       8.0\n",
       "15743      8.0\n",
       "17442      8.0\n",
       "20264      6.0\n",
       "21227      5.8\n",
       "1388       5.6\n",
       "7578       5.5\n",
       "12628      5.3\n",
       "1026       5.3\n",
       "464        5.2\n",
       "1053       5.0\n",
       "21923      4.9\n",
       "2802       4.8\n",
       "1300       4.7\n",
       "Name: ceiling_height, dtype: float64"
      ]
     },
     "execution_count": 8,
     "metadata": {},
     "output_type": "execute_result"
    }
   ],
   "source": [
    "df['ceiling_height'] = df['ceiling_height'].fillna(df['ceiling_height'].median())\n",
    "df['ceiling_height'].sort_values(ascending=False).head(40)"
   ]
  },
  {
   "cell_type": "code",
   "execution_count": 9,
   "metadata": {},
   "outputs": [
    {
     "data": {
      "text/plain": [
       "15061    14.00\n",
       "22309    10.30\n",
       "22869    10.00\n",
       "5863      8.30\n",
       "17442     8.00\n",
       "15743     8.00\n",
       "3474      8.00\n",
       "20264     6.00\n",
       "21227     5.80\n",
       "1388      5.60\n",
       "7578      5.50\n",
       "1026      5.30\n",
       "12628     5.30\n",
       "464       5.20\n",
       "1053      5.00\n",
       "21923     4.90\n",
       "2802      4.80\n",
       "19142     4.70\n",
       "1300      4.70\n",
       "12401     4.65\n",
       "6802      4.50\n",
       "14519     4.50\n",
       "13224     4.50\n",
       "10159     4.50\n",
       "2823      4.50\n",
       "9783      4.50\n",
       "3067      4.50\n",
       "8018      4.45\n",
       "7521      4.45\n",
       "6728      4.40\n",
       "11651     4.40\n",
       "7274      4.40\n",
       "4201      4.37\n",
       "10754     4.30\n",
       "17078     4.25\n",
       "7279      4.20\n",
       "11128     4.20\n",
       "2843      4.20\n",
       "19041     4.20\n",
       "22494     4.20\n",
       "Name: ceiling_height, dtype: float64"
      ]
     },
     "execution_count": 9,
     "metadata": {},
     "output_type": "execute_result"
    }
   ],
   "source": [
    "#По значениям, которые записаны в таблице, можно сделать вывод что это похоже на явные ошибки. \n",
    "#Чтобы избавиться от этой ошибки нужно перенести все запятые на 1 знак в значениях от 20 и выше\n",
    "df.loc[df['ceiling_height']>=20, 'ceiling_height'] = df['ceiling_height']/10\n",
    "df['ceiling_height'].sort_values(ascending=False).head(40)"
   ]
  },
  {
   "cell_type": "markdown",
   "metadata": {},
   "source": [
    "В Санкт-Петербурге в старых домах встречаются потолки выше 4 метров. Значений больше этой величины не так много, поэтому \n",
    "считаю что это не сильно скажется на итоговых расчетах."
   ]
  },
  {
   "cell_type": "markdown",
   "metadata": {},
   "source": [
    "#### floors_total - общее количество этажей в доме.\n",
    "Его удобнее заменить на медиальное значение."
   ]
  },
  {
   "cell_type": "raw",
   "metadata": {},
   "source": [
    "df['floors_total'] = df['floors_total'].fillna(df['floors_total'].median())"
   ]
  },
  {
   "cell_type": "markdown",
   "metadata": {},
   "source": [
    "#### is_apartment - тип квартиры\n",
    "Судя по количеству пропусков ячейки заполнены только если квартира является апартаментами. \n",
    "Все пустные значения для удобства лучше запомнить значением False и перевести в тип данных bool"
   ]
  },
  {
   "cell_type": "code",
   "execution_count": 10,
   "metadata": {},
   "outputs": [
    {
     "data": {
      "text/plain": [
       "array([nan, False, True], dtype=object)"
      ]
     },
     "execution_count": 10,
     "metadata": {},
     "output_type": "execute_result"
    }
   ],
   "source": [
    "df['is_apartment'].unique()"
   ]
  },
  {
   "cell_type": "code",
   "execution_count": 11,
   "metadata": {},
   "outputs": [],
   "source": [
    "df['is_apartment'] = df['is_apartment'].fillna(False)\n",
    "df['is_apartment'] = df['is_apartment'].astype('bool')"
   ]
  },
  {
   "cell_type": "markdown",
   "metadata": {},
   "source": [
    "#### kitchen_area - площадь кухни.\n",
    "Чтобы узнать есть ли зависимость площади кухни от других значений нужно проверить её корреляцию."
   ]
  },
  {
   "cell_type": "code",
   "execution_count": 12,
   "metadata": {
    "scrolled": false
   },
   "outputs": [
    {
     "data": {
      "text/plain": [
       "kitchen_area            1.000000\n",
       "total_area              0.609121\n",
       "last_price              0.519869\n",
       "living_area             0.428674\n",
       "ceiling_height          0.299071\n",
       "rooms                   0.269945\n",
       "floors_total            0.163944\n",
       "ponds_around3000        0.150148\n",
       "floor                   0.135531\n",
       "total_images            0.104756\n",
       "days_exposition         0.100586\n",
       "balcony                 0.098634\n",
       "parks_around3000        0.087503\n",
       "is_apartment            0.049034\n",
       "parks_nearest           0.029641\n",
       "airports_nearest        0.008200\n",
       "ponds_nearest          -0.105223\n",
       "city_centers_nearest   -0.190049\n",
       "studio                       NaN\n",
       "open_plan                    NaN\n",
       "Name: kitchen_area, dtype: float64"
      ]
     },
     "execution_count": 12,
     "metadata": {},
     "output_type": "execute_result"
    }
   ],
   "source": [
    "df.corr().sort_values(by='kitchen_area', ascending=False)['kitchen_area']"
   ]
  },
  {
   "cell_type": "code",
   "execution_count": 13,
   "metadata": {},
   "outputs": [
    {
     "data": {
      "text/plain": [
       "count    21421.000000\n",
       "mean        10.569807\n",
       "std          5.905438\n",
       "min          1.300000\n",
       "25%          7.000000\n",
       "50%          9.100000\n",
       "75%         12.000000\n",
       "max        112.000000\n",
       "Name: kitchen_area, dtype: float64"
      ]
     },
     "execution_count": 13,
     "metadata": {},
     "output_type": "execute_result"
    }
   ],
   "source": [
    "df['kitchen_area'].describe()"
   ]
  },
  {
   "cell_type": "markdown",
   "metadata": {},
   "source": [
    "Явной зависимости между значениями нет. Скорее всего при заполнении не указали наличие кухни или её нет вообще.\n",
    "Так как столбец имеет вещественный тип данных пропуски заменим как 15% от общей площади квартиры."
   ]
  },
  {
   "cell_type": "code",
   "execution_count": 14,
   "metadata": {},
   "outputs": [
    {
     "data": {
      "text/plain": [
       "count    23699.000000\n",
       "mean        10.369541\n",
       "std          5.958944\n",
       "min          1.300000\n",
       "25%          7.000000\n",
       "50%          9.000000\n",
       "75%         11.800000\n",
       "max        112.000000\n",
       "Name: kitchen_area, dtype: float64"
      ]
     },
     "execution_count": 14,
     "metadata": {},
     "output_type": "execute_result"
    }
   ],
   "source": [
    "df['kitchen_area'] = df['kitchen_area'].fillna(df['total_area']*0.15)\n",
    "df['kitchen_area'].describe()"
   ]
  },
  {
   "cell_type": "markdown",
   "metadata": {},
   "source": [
    "#### balcony - количество балконов\n",
    "Чтобы узнать есть ли зависимость количества балконов от других значений нужно проверить её корреляцию."
   ]
  },
  {
   "cell_type": "code",
   "execution_count": 15,
   "metadata": {
    "scrolled": false
   },
   "outputs": [
    {
     "data": {
      "text/plain": [
       "balcony                 1.000000\n",
       "floors_total            0.194065\n",
       "floor                   0.168773\n",
       "total_images            0.121693\n",
       "kitchen_area            0.088448\n",
       "airports_nearest        0.066834\n",
       "parks_nearest           0.052328\n",
       "city_centers_nearest    0.051051\n",
       "total_area              0.047937\n",
       "is_apartment            0.043119\n",
       "studio                  0.031455\n",
       "last_price              0.029646\n",
       "open_plan               0.019491\n",
       "living_area             0.018849\n",
       "rooms                   0.017991\n",
       "ponds_nearest           0.010847\n",
       "ceiling_height         -0.010558\n",
       "ponds_around3000       -0.032709\n",
       "days_exposition        -0.032909\n",
       "parks_around3000       -0.082850\n",
       "Name: balcony, dtype: float64"
      ]
     },
     "execution_count": 15,
     "metadata": {},
     "output_type": "execute_result"
    }
   ],
   "source": [
    "df.corr().sort_values(by='balcony', ascending=False)['balcony']"
   ]
  },
  {
   "cell_type": "markdown",
   "metadata": {},
   "source": [
    "Явной зависимости нет. Скорее всего балконы не указали потому что их нет в квартирах. Заменим пустые значения на 0."
   ]
  },
  {
   "cell_type": "code",
   "execution_count": 16,
   "metadata": {},
   "outputs": [],
   "source": [
    "df['balcony'] = df['balcony'].fillna(0)"
   ]
  },
  {
   "cell_type": "markdown",
   "metadata": {},
   "source": [
    "#### locality_name - место где находится квартира\n",
    "Так как мы не знаем что должно быть заполнено на местах пустых значений, то предлагаю заполнить их как unknown"
   ]
  },
  {
   "cell_type": "code",
   "execution_count": 17,
   "metadata": {
    "scrolled": true
   },
   "outputs": [
    {
     "data": {
      "text/plain": [
       "array(['Санкт-Петербург', 'посёлок Шушары', 'городской посёлок Янино-1',\n",
       "       'посёлок Парголово', 'посёлок Мурино', 'Ломоносов', 'Сертолово',\n",
       "       'Петергоф', 'Пушкин', 'деревня Кудрово', 'Коммунар', 'Колпино',\n",
       "       'поселок городского типа Красный Бор', 'Гатчина', 'поселок Мурино',\n",
       "       'деревня Фёдоровское', 'Выборг', 'Кронштадт', 'Кировск',\n",
       "       'деревня Новое Девяткино', 'посёлок Металлострой',\n",
       "       'посёлок городского типа Лебяжье',\n",
       "       'посёлок городского типа Сиверский', 'поселок Молодцово',\n",
       "       'поселок городского типа Кузьмоловский',\n",
       "       'садовое товарищество Новая Ропша', 'Павловск',\n",
       "       'деревня Пикколово', 'Всеволожск', 'Волхов', 'Кингисепп',\n",
       "       'Приозерск', 'Сестрорецк', 'деревня Куттузи', 'посёлок Аннино',\n",
       "       'поселок городского типа Ефимовский', 'посёлок Плодовое',\n",
       "       'деревня Заклинье', 'поселок Торковичи', 'поселок Первомайское',\n",
       "       'Красное Село', 'посёлок Понтонный', 'Сясьстрой', 'деревня Старая',\n",
       "       'деревня Лесколово', 'посёлок Новый Свет', 'Сланцы',\n",
       "       'село Путилово', 'Ивангород', 'Мурино', 'Шлиссельбург',\n",
       "       'Никольское', 'Зеленогорск', 'Сосновый Бор', 'поселок Новый Свет',\n",
       "       'деревня Оржицы', 'деревня Кальтино', 'Кудрово',\n",
       "       'поселок Романовка', 'посёлок Бугры', 'поселок Бугры',\n",
       "       'поселок городского типа Рощино', 'Кириши', 'Луга', 'Волосово',\n",
       "       'Отрадное', 'село Павлово', 'поселок Оредеж', 'село Копорье',\n",
       "       'посёлок городского типа Красный Бор', 'посёлок Молодёжное',\n",
       "       'Тихвин', 'посёлок Победа', 'деревня Нурма',\n",
       "       'поселок городского типа Синявино', 'Тосно',\n",
       "       'посёлок городского типа Кузьмоловский', 'посёлок Стрельна',\n",
       "       'Бокситогорск', 'посёлок Александровская', 'деревня Лопухинка',\n",
       "       'Пикалёво', 'поселок Терволово',\n",
       "       'поселок городского типа Советский', 'Подпорожье',\n",
       "       'посёлок Петровское', 'посёлок городского типа Токсово',\n",
       "       'поселок Сельцо', 'посёлок городского типа Вырица',\n",
       "       'деревня Кипень', 'деревня Келози', 'деревня Вартемяги',\n",
       "       'посёлок Тельмана', 'поселок Севастьяново',\n",
       "       'городской поселок Большая Ижора', 'unknown',\n",
       "       'городской посёлок Павлово', 'деревня Агалатово',\n",
       "       'посёлок Новогорелово', 'городской посёлок Лесогорский',\n",
       "       'деревня Лаголово', 'поселок Цвелодубово',\n",
       "       'поселок городского типа Рахья', 'поселок городского типа Вырица',\n",
       "       'деревня Белогорка', 'поселок Заводской',\n",
       "       'городской посёлок Новоселье', 'деревня Большие Колпаны',\n",
       "       'деревня Горбунки', 'деревня Батово', 'деревня Заневка',\n",
       "       'деревня Иссад', 'Приморск', 'городской посёлок Фёдоровское',\n",
       "       'деревня Мистолово', 'Новая Ладога', 'поселок Зимитицы',\n",
       "       'поселок Барышево', 'деревня Разметелево',\n",
       "       'поселок городского типа имени Свердлова', 'деревня Пеники',\n",
       "       'поселок Рябово', 'деревня Пудомяги', 'поселок станции Корнево',\n",
       "       'деревня Низино', 'деревня Бегуницы', 'посёлок Поляны',\n",
       "       'городской посёлок Мга', 'поселок Елизаветино',\n",
       "       'посёлок городского типа Кузнечное', 'деревня Колтуши',\n",
       "       'поселок Запорожское', 'посёлок городского типа Рощино',\n",
       "       'деревня Гостилицы', 'деревня Малое Карлино',\n",
       "       'посёлок Мичуринское', 'посёлок городского типа имени Морозова',\n",
       "       'посёлок Песочный', 'посёлок Сосново', 'деревня Аро',\n",
       "       'поселок Ильичёво', 'посёлок городского типа Тайцы',\n",
       "       'деревня Малое Верево', 'деревня Извара', 'поселок станции Вещево',\n",
       "       'село Паша', 'деревня Калитино',\n",
       "       'посёлок городского типа Ульяновка', 'деревня Чудской Бор',\n",
       "       'поселок городского типа Дубровка', 'деревня Мины',\n",
       "       'поселок Войсковицы', 'посёлок городского типа имени Свердлова',\n",
       "       'деревня Коркино', 'посёлок Ропша',\n",
       "       'поселок городского типа Приладожский', 'посёлок Щеглово',\n",
       "       'посёлок Гаврилово', 'Лодейное Поле', 'деревня Рабитицы',\n",
       "       'поселок городского типа Никольский', 'деревня Кузьмолово',\n",
       "       'деревня Малые Колпаны', 'поселок Тельмана',\n",
       "       'посёлок Петро-Славянка', 'городской посёлок Назия',\n",
       "       'посёлок Репино', 'посёлок Ильичёво', 'поселок Углово',\n",
       "       'поселок Старая Малукса', 'садовое товарищество Рахья',\n",
       "       'поселок Аннино', 'поселок Победа', 'деревня Меньково',\n",
       "       'деревня Старые Бегуницы', 'посёлок Сапёрный', 'поселок Семрино',\n",
       "       'поселок Гаврилово', 'поселок Глажево', 'поселок Кобринское',\n",
       "       'деревня Гарболово', 'деревня Юкки',\n",
       "       'поселок станции Приветнинское', 'деревня Мануйлово',\n",
       "       'деревня Пчева', 'поселок Поляны', 'поселок Цвылёво',\n",
       "       'поселок Мельниково', 'посёлок Пудость', 'посёлок Усть-Луга',\n",
       "       'Светогорск', 'Любань', 'поселок Селезнёво',\n",
       "       'поселок городского типа Рябово', 'Каменногорск', 'деревня Кривко',\n",
       "       'поселок Глебычево', 'деревня Парицы', 'поселок Жилпосёлок',\n",
       "       'посёлок городского типа Мга', 'городской поселок Янино-1',\n",
       "       'посёлок Войскорово', 'село Никольское', 'посёлок Терволово',\n",
       "       'поселок Стеклянный', 'посёлок городского типа Важины',\n",
       "       'посёлок Мыза-Ивановка', 'село Русско-Высоцкое',\n",
       "       'поселок городского типа Лебяжье',\n",
       "       'поселок городского типа Форносово', 'село Старая Ладога',\n",
       "       'поселок Житково', 'городской посёлок Виллози', 'деревня Лампово',\n",
       "       'деревня Шпаньково', 'деревня Лаврики', 'посёлок Сумино',\n",
       "       'посёлок Возрождение', 'деревня Старосиверская',\n",
       "       'посёлок Кикерино', 'поселок Возрождение',\n",
       "       'деревня Старое Хинколово', 'посёлок Пригородный',\n",
       "       'посёлок Торфяное', 'городской посёлок Будогощь',\n",
       "       'поселок Суходолье', 'поселок Красная Долина', 'деревня Хапо-Ое',\n",
       "       'поселок городского типа Дружная Горка', 'поселок Лисий Нос',\n",
       "       'деревня Яльгелево', 'посёлок Стеклянный', 'село Рождествено',\n",
       "       'деревня Старополье', 'посёлок Левашово', 'деревня Сяськелево',\n",
       "       'деревня Камышовка',\n",
       "       'садоводческое некоммерческое товарищество Лесная Поляна',\n",
       "       'деревня Хязельки', 'поселок Жилгородок',\n",
       "       'посёлок городского типа Павлово', 'деревня Ялгино',\n",
       "       'поселок Новый Учхоз', 'городской посёлок Рощино',\n",
       "       'поселок Гончарово', 'поселок Почап', 'посёлок Сапёрное',\n",
       "       'посёлок Платформа 69-й километр', 'поселок Каложицы',\n",
       "       'деревня Фалилеево', 'деревня Пельгора',\n",
       "       'поселок городского типа Лесогорский', 'деревня Торошковичи',\n",
       "       'посёлок Белоостров', 'посёлок Алексеевка', 'поселок Серебрянский',\n",
       "       'поселок Лукаши', 'поселок Петровское', 'деревня Щеглово',\n",
       "       'поселок Мичуринское', 'деревня Тарасово', 'поселок Кингисеппский',\n",
       "       'посёлок при железнодорожной станции Вещево', 'поселок Ушаки',\n",
       "       'деревня Котлы', 'деревня Сижно', 'деревня Торосово',\n",
       "       'посёлок Форт Красная Горка', 'поселок городского типа Токсово',\n",
       "       'деревня Новолисино', 'посёлок станции Громово', 'деревня Глинка',\n",
       "       'посёлок Мельниково', 'поселок городского типа Назия',\n",
       "       'деревня Старая Пустошь', 'поселок Коммунары', 'поселок Починок',\n",
       "       'посёлок городского типа Вознесенье', 'деревня Разбегаево',\n",
       "       'посёлок городского типа Рябово', 'поселок Гладкое',\n",
       "       'посёлок при железнодорожной станции Приветнинское',\n",
       "       'поселок Тёсово-4', 'посёлок Жилгородок', 'деревня Бор',\n",
       "       'посёлок Коробицыно', 'деревня Большая Вруда', 'деревня Курковицы',\n",
       "       'посёлок Лисий Нос', 'городской посёлок Советский',\n",
       "       'посёлок Кобралово', 'деревня Суоранда', 'поселок Кобралово',\n",
       "       'поселок городского типа Кондратьево',\n",
       "       'коттеджный поселок Счастье', 'поселок Любань', 'деревня Реброво',\n",
       "       'деревня Зимитицы', 'деревня Тойворово', 'поселок Семиозерье',\n",
       "       'поселок Лесное', 'поселок Совхозный', 'поселок Усть-Луга',\n",
       "       'посёлок Ленинское', 'посёлок Суйда',\n",
       "       'посёлок городского типа Форносово', 'деревня Нижние Осельки',\n",
       "       'посёлок станции Свирь', 'поселок Перово', 'Высоцк',\n",
       "       'поселок Гарболово', 'село Шум', 'поселок Котельский',\n",
       "       'поселок станции Лужайка', 'деревня Большая Пустомержа',\n",
       "       'поселок Красносельское', 'деревня Вахнова Кара', 'деревня Пижма',\n",
       "       'коттеджный поселок Кивеннапа Север', 'поселок Коробицыно',\n",
       "       'поселок Ромашки', 'посёлок Перово', 'деревня Каськово',\n",
       "       'деревня Куровицы', 'посёлок Плоское', 'поселок Сумино',\n",
       "       'поселок городского типа Большая Ижора', 'поселок Кирпичное',\n",
       "       'деревня Ям-Тесово', 'деревня Раздолье', 'деревня Терпилицы',\n",
       "       'посёлок Шугозеро', 'деревня Ваганово', 'поселок Пушное',\n",
       "       'садовое товарищество Садко', 'посёлок Усть-Ижора',\n",
       "       'деревня Выскатка', 'городской посёлок Свирьстрой',\n",
       "       'поселок Громово', 'деревня Кисельня', 'посёлок Старая Малукса',\n",
       "       'деревня Трубников Бор', 'поселок Калитино',\n",
       "       'посёлок Высокоключевой', 'садовое товарищество Приладожский',\n",
       "       'посёлок Пансионат Зелёный Бор', 'деревня Ненимяки',\n",
       "       'поселок Пансионат Зелёный Бор', 'деревня Снегирёвка',\n",
       "       'деревня Рапполово', 'деревня Пустынка', 'поселок Рабитицы',\n",
       "       'деревня Большой Сабск', 'деревня Русско', 'деревня Лупполово',\n",
       "       'деревня Большое Рейзино', 'деревня Малая Романовка',\n",
       "       'поселок Дружноселье', 'поселок Пчевжа', 'поселок Володарское',\n",
       "       'деревня Нижняя', 'коттеджный посёлок Лесное', 'деревня Тихковицы',\n",
       "       'деревня Борисова Грива', 'посёлок Дзержинского'], dtype=object)"
      ]
     },
     "execution_count": 17,
     "metadata": {},
     "output_type": "execute_result"
    }
   ],
   "source": [
    "df['locality_name'] = df['locality_name'].fillna('unknown')\n",
    "df['locality_name'].unique()"
   ]
  },
  {
   "cell_type": "markdown",
   "metadata": {},
   "source": [
    "#### parks_around3000 - количество парков в 3км от дома\n",
    "Пустые значения скорее всего указывают на то, что на этом расстоянии от дома нет парков. Предлагаю заполнить их как 0"
   ]
  },
  {
   "cell_type": "code",
   "execution_count": 18,
   "metadata": {},
   "outputs": [],
   "source": [
    "df['parks_around3000'] = df['parks_around3000'].fillna(0)"
   ]
  },
  {
   "cell_type": "markdown",
   "metadata": {},
   "source": [
    "#### ponds_around3000 - количество прудов в 3км от дома\n",
    "Пустые значения скорее всего указывают на то, что на этом расстоянии от дома нет прудов. Предлагаю заполнить их как 0"
   ]
  },
  {
   "cell_type": "code",
   "execution_count": 19,
   "metadata": {},
   "outputs": [],
   "source": [
    "df['ponds_around3000'] = df['ponds_around3000'].fillna(0)"
   ]
  },
  {
   "cell_type": "markdown",
   "metadata": {},
   "source": [
    "### Изменение типов данных"
   ]
  },
  {
   "cell_type": "markdown",
   "metadata": {},
   "source": [
    "#### last_price - цена на момент снятия квартиры с продажи. \n",
    "Считаю что этот столбец должен иметь тип данных int, потому что в таблице встречаются только целые числа."
   ]
  },
  {
   "cell_type": "code",
   "execution_count": 20,
   "metadata": {},
   "outputs": [],
   "source": [
    "df['last_price'] = df['last_price'].astype('int')"
   ]
  },
  {
   "cell_type": "markdown",
   "metadata": {},
   "source": [
    "#### first_day_exposition - дата публикации.\n",
    "Нужно изменить тип данных этого столбца на datetime. "
   ]
  },
  {
   "cell_type": "code",
   "execution_count": 21,
   "metadata": {},
   "outputs": [],
   "source": [
    "df['first_day_exposition'] = pd.to_datetime(df['first_day_exposition'], format='%Y-%m-%d')"
   ]
  },
  {
   "cell_type": "markdown",
   "metadata": {},
   "source": [
    "#### balcony - количество балконов.\n",
    "Нужно изменить тип данных на int, потому что количество балконов может быть только целым числом."
   ]
  },
  {
   "cell_type": "code",
   "execution_count": 22,
   "metadata": {},
   "outputs": [],
   "source": [
    "df['balcony'] = df['balcony'].astype('int')"
   ]
  },
  {
   "cell_type": "markdown",
   "metadata": {},
   "source": [
    "#### parks_around3000 - количество парков в 3км от дома\n",
    "Изменю тип данных на int для более удобного отображения"
   ]
  },
  {
   "cell_type": "code",
   "execution_count": 23,
   "metadata": {},
   "outputs": [],
   "source": [
    "df['parks_around3000'] = df['parks_around3000'].astype('int')"
   ]
  },
  {
   "cell_type": "markdown",
   "metadata": {},
   "source": [
    "#### ponds_around3000 - количество парков в 3км от дома\n",
    "Изменю тип данных на int для более удобного отображения"
   ]
  },
  {
   "cell_type": "code",
   "execution_count": 24,
   "metadata": {},
   "outputs": [],
   "source": [
    "df['ponds_around3000'] = df['ponds_around3000'].astype('int')"
   ]
  },
  {
   "cell_type": "markdown",
   "metadata": {},
   "source": [
    "### Устранение неявных дубликатов в названиях населенных пунктов."
   ]
  },
  {
   "cell_type": "markdown",
   "metadata": {},
   "source": [
    "Перевод всех букв в строчные"
   ]
  },
  {
   "cell_type": "code",
   "execution_count": 25,
   "metadata": {
    "scrolled": true
   },
   "outputs": [
    {
     "data": {
      "text/plain": [
       "array(['санкт-петербург', 'посёлок шушары', 'городской посёлок янино-1',\n",
       "       'посёлок парголово', 'посёлок мурино', 'ломоносов', 'сертолово',\n",
       "       'петергоф', 'пушкин', 'деревня кудрово', 'коммунар', 'колпино',\n",
       "       'поселок городского типа красный бор', 'гатчина', 'поселок мурино',\n",
       "       'деревня фёдоровское', 'выборг', 'кронштадт', 'кировск',\n",
       "       'деревня новое девяткино', 'посёлок металлострой',\n",
       "       'посёлок городского типа лебяжье',\n",
       "       'посёлок городского типа сиверский', 'поселок молодцово',\n",
       "       'поселок городского типа кузьмоловский',\n",
       "       'садовое товарищество новая ропша', 'павловск',\n",
       "       'деревня пикколово', 'всеволожск', 'волхов', 'кингисепп',\n",
       "       'приозерск', 'сестрорецк', 'деревня куттузи', 'посёлок аннино',\n",
       "       'поселок городского типа ефимовский', 'посёлок плодовое',\n",
       "       'деревня заклинье', 'поселок торковичи', 'поселок первомайское',\n",
       "       'красное село', 'посёлок понтонный', 'сясьстрой', 'деревня старая',\n",
       "       'деревня лесколово', 'посёлок новый свет', 'сланцы',\n",
       "       'село путилово', 'ивангород', 'мурино', 'шлиссельбург',\n",
       "       'никольское', 'зеленогорск', 'сосновый бор', 'поселок новый свет',\n",
       "       'деревня оржицы', 'деревня кальтино', 'кудрово',\n",
       "       'поселок романовка', 'посёлок бугры', 'поселок бугры',\n",
       "       'поселок городского типа рощино', 'кириши', 'луга', 'волосово',\n",
       "       'отрадное', 'село павлово', 'поселок оредеж', 'село копорье',\n",
       "       'посёлок городского типа красный бор', 'посёлок молодёжное',\n",
       "       'тихвин', 'посёлок победа', 'деревня нурма',\n",
       "       'поселок городского типа синявино', 'тосно',\n",
       "       'посёлок городского типа кузьмоловский', 'посёлок стрельна',\n",
       "       'бокситогорск', 'посёлок александровская', 'деревня лопухинка',\n",
       "       'пикалёво', 'поселок терволово',\n",
       "       'поселок городского типа советский', 'подпорожье',\n",
       "       'посёлок петровское', 'посёлок городского типа токсово',\n",
       "       'поселок сельцо', 'посёлок городского типа вырица',\n",
       "       'деревня кипень', 'деревня келози', 'деревня вартемяги',\n",
       "       'посёлок тельмана', 'поселок севастьяново',\n",
       "       'городской поселок большая ижора', 'unknown',\n",
       "       'городской посёлок павлово', 'деревня агалатово',\n",
       "       'посёлок новогорелово', 'городской посёлок лесогорский',\n",
       "       'деревня лаголово', 'поселок цвелодубово',\n",
       "       'поселок городского типа рахья', 'поселок городского типа вырица',\n",
       "       'деревня белогорка', 'поселок заводской',\n",
       "       'городской посёлок новоселье', 'деревня большие колпаны',\n",
       "       'деревня горбунки', 'деревня батово', 'деревня заневка',\n",
       "       'деревня иссад', 'приморск', 'городской посёлок фёдоровское',\n",
       "       'деревня мистолово', 'новая ладога', 'поселок зимитицы',\n",
       "       'поселок барышево', 'деревня разметелево',\n",
       "       'поселок городского типа имени свердлова', 'деревня пеники',\n",
       "       'поселок рябово', 'деревня пудомяги', 'поселок станции корнево',\n",
       "       'деревня низино', 'деревня бегуницы', 'посёлок поляны',\n",
       "       'городской посёлок мга', 'поселок елизаветино',\n",
       "       'посёлок городского типа кузнечное', 'деревня колтуши',\n",
       "       'поселок запорожское', 'посёлок городского типа рощино',\n",
       "       'деревня гостилицы', 'деревня малое карлино',\n",
       "       'посёлок мичуринское', 'посёлок городского типа имени морозова',\n",
       "       'посёлок песочный', 'посёлок сосново', 'деревня аро',\n",
       "       'поселок ильичёво', 'посёлок городского типа тайцы',\n",
       "       'деревня малое верево', 'деревня извара', 'поселок станции вещево',\n",
       "       'село паша', 'деревня калитино',\n",
       "       'посёлок городского типа ульяновка', 'деревня чудской бор',\n",
       "       'поселок городского типа дубровка', 'деревня мины',\n",
       "       'поселок войсковицы', 'посёлок городского типа имени свердлова',\n",
       "       'деревня коркино', 'посёлок ропша',\n",
       "       'поселок городского типа приладожский', 'посёлок щеглово',\n",
       "       'посёлок гаврилово', 'лодейное поле', 'деревня рабитицы',\n",
       "       'поселок городского типа никольский', 'деревня кузьмолово',\n",
       "       'деревня малые колпаны', 'поселок тельмана',\n",
       "       'посёлок петро-славянка', 'городской посёлок назия',\n",
       "       'посёлок репино', 'посёлок ильичёво', 'поселок углово',\n",
       "       'поселок старая малукса', 'садовое товарищество рахья',\n",
       "       'поселок аннино', 'поселок победа', 'деревня меньково',\n",
       "       'деревня старые бегуницы', 'посёлок сапёрный', 'поселок семрино',\n",
       "       'поселок гаврилово', 'поселок глажево', 'поселок кобринское',\n",
       "       'деревня гарболово', 'деревня юкки',\n",
       "       'поселок станции приветнинское', 'деревня мануйлово',\n",
       "       'деревня пчева', 'поселок поляны', 'поселок цвылёво',\n",
       "       'поселок мельниково', 'посёлок пудость', 'посёлок усть-луга',\n",
       "       'светогорск', 'любань', 'поселок селезнёво',\n",
       "       'поселок городского типа рябово', 'каменногорск', 'деревня кривко',\n",
       "       'поселок глебычево', 'деревня парицы', 'поселок жилпосёлок',\n",
       "       'посёлок городского типа мга', 'городской поселок янино-1',\n",
       "       'посёлок войскорово', 'село никольское', 'посёлок терволово',\n",
       "       'поселок стеклянный', 'посёлок городского типа важины',\n",
       "       'посёлок мыза-ивановка', 'село русско-высоцкое',\n",
       "       'поселок городского типа лебяжье',\n",
       "       'поселок городского типа форносово', 'село старая ладога',\n",
       "       'поселок житково', 'городской посёлок виллози', 'деревня лампово',\n",
       "       'деревня шпаньково', 'деревня лаврики', 'посёлок сумино',\n",
       "       'посёлок возрождение', 'деревня старосиверская',\n",
       "       'посёлок кикерино', 'поселок возрождение',\n",
       "       'деревня старое хинколово', 'посёлок пригородный',\n",
       "       'посёлок торфяное', 'городской посёлок будогощь',\n",
       "       'поселок суходолье', 'поселок красная долина', 'деревня хапо-ое',\n",
       "       'поселок городского типа дружная горка', 'поселок лисий нос',\n",
       "       'деревня яльгелево', 'посёлок стеклянный', 'село рождествено',\n",
       "       'деревня старополье', 'посёлок левашово', 'деревня сяськелево',\n",
       "       'деревня камышовка',\n",
       "       'садоводческое некоммерческое товарищество лесная поляна',\n",
       "       'деревня хязельки', 'поселок жилгородок',\n",
       "       'посёлок городского типа павлово', 'деревня ялгино',\n",
       "       'поселок новый учхоз', 'городской посёлок рощино',\n",
       "       'поселок гончарово', 'поселок почап', 'посёлок сапёрное',\n",
       "       'посёлок платформа 69-й километр', 'поселок каложицы',\n",
       "       'деревня фалилеево', 'деревня пельгора',\n",
       "       'поселок городского типа лесогорский', 'деревня торошковичи',\n",
       "       'посёлок белоостров', 'посёлок алексеевка', 'поселок серебрянский',\n",
       "       'поселок лукаши', 'поселок петровское', 'деревня щеглово',\n",
       "       'поселок мичуринское', 'деревня тарасово', 'поселок кингисеппский',\n",
       "       'посёлок при железнодорожной станции вещево', 'поселок ушаки',\n",
       "       'деревня котлы', 'деревня сижно', 'деревня торосово',\n",
       "       'посёлок форт красная горка', 'поселок городского типа токсово',\n",
       "       'деревня новолисино', 'посёлок станции громово', 'деревня глинка',\n",
       "       'посёлок мельниково', 'поселок городского типа назия',\n",
       "       'деревня старая пустошь', 'поселок коммунары', 'поселок починок',\n",
       "       'посёлок городского типа вознесенье', 'деревня разбегаево',\n",
       "       'посёлок городского типа рябово', 'поселок гладкое',\n",
       "       'посёлок при железнодорожной станции приветнинское',\n",
       "       'поселок тёсово-4', 'посёлок жилгородок', 'деревня бор',\n",
       "       'посёлок коробицыно', 'деревня большая вруда', 'деревня курковицы',\n",
       "       'посёлок лисий нос', 'городской посёлок советский',\n",
       "       'посёлок кобралово', 'деревня суоранда', 'поселок кобралово',\n",
       "       'поселок городского типа кондратьево',\n",
       "       'коттеджный поселок счастье', 'поселок любань', 'деревня реброво',\n",
       "       'деревня зимитицы', 'деревня тойворово', 'поселок семиозерье',\n",
       "       'поселок лесное', 'поселок совхозный', 'поселок усть-луга',\n",
       "       'посёлок ленинское', 'посёлок суйда',\n",
       "       'посёлок городского типа форносово', 'деревня нижние осельки',\n",
       "       'посёлок станции свирь', 'поселок перово', 'высоцк',\n",
       "       'поселок гарболово', 'село шум', 'поселок котельский',\n",
       "       'поселок станции лужайка', 'деревня большая пустомержа',\n",
       "       'поселок красносельское', 'деревня вахнова кара', 'деревня пижма',\n",
       "       'коттеджный поселок кивеннапа север', 'поселок коробицыно',\n",
       "       'поселок ромашки', 'посёлок перово', 'деревня каськово',\n",
       "       'деревня куровицы', 'посёлок плоское', 'поселок сумино',\n",
       "       'поселок городского типа большая ижора', 'поселок кирпичное',\n",
       "       'деревня ям-тесово', 'деревня раздолье', 'деревня терпилицы',\n",
       "       'посёлок шугозеро', 'деревня ваганово', 'поселок пушное',\n",
       "       'садовое товарищество садко', 'посёлок усть-ижора',\n",
       "       'деревня выскатка', 'городской посёлок свирьстрой',\n",
       "       'поселок громово', 'деревня кисельня', 'посёлок старая малукса',\n",
       "       'деревня трубников бор', 'поселок калитино',\n",
       "       'посёлок высокоключевой', 'садовое товарищество приладожский',\n",
       "       'посёлок пансионат зелёный бор', 'деревня ненимяки',\n",
       "       'поселок пансионат зелёный бор', 'деревня снегирёвка',\n",
       "       'деревня рапполово', 'деревня пустынка', 'поселок рабитицы',\n",
       "       'деревня большой сабск', 'деревня русско', 'деревня лупполово',\n",
       "       'деревня большое рейзино', 'деревня малая романовка',\n",
       "       'поселок дружноселье', 'поселок пчевжа', 'поселок володарское',\n",
       "       'деревня нижняя', 'коттеджный посёлок лесное', 'деревня тихковицы',\n",
       "       'деревня борисова грива', 'посёлок дзержинского'], dtype=object)"
      ]
     },
     "execution_count": 25,
     "metadata": {},
     "output_type": "execute_result"
    }
   ],
   "source": [
    "df['locality_name'] = df['locality_name'].str.lower()\n",
    "df['locality_name'].unique()"
   ]
  },
  {
   "cell_type": "markdown",
   "metadata": {},
   "source": [
    "Замена всех буквы 'ё' на 'е'"
   ]
  },
  {
   "cell_type": "code",
   "execution_count": 26,
   "metadata": {},
   "outputs": [
    {
     "data": {
      "text/plain": [
       "array(['санкт-петербург', 'поселок шушары', 'городской поселок янино-1',\n",
       "       'поселок парголово', 'поселок мурино', 'ломоносов', 'сертолово',\n",
       "       'петергоф', 'пушкин', 'деревня кудрово', 'коммунар', 'колпино',\n",
       "       'поселок городского типа красный бор', 'гатчина',\n",
       "       'деревня федоровское', 'выборг', 'кронштадт', 'кировск',\n",
       "       'деревня новое девяткино', 'поселок металлострой',\n",
       "       'поселок городского типа лебяжье',\n",
       "       'поселок городского типа сиверский', 'поселок молодцово',\n",
       "       'поселок городского типа кузьмоловский',\n",
       "       'садовое товарищество новая ропша', 'павловск',\n",
       "       'деревня пикколово', 'всеволожск', 'волхов', 'кингисепп',\n",
       "       'приозерск', 'сестрорецк', 'деревня куттузи', 'поселок аннино',\n",
       "       'поселок городского типа ефимовский', 'поселок плодовое',\n",
       "       'деревня заклинье', 'поселок торковичи', 'поселок первомайское',\n",
       "       'красное село', 'поселок понтонный', 'сясьстрой', 'деревня старая',\n",
       "       'деревня лесколово', 'поселок новый свет', 'сланцы',\n",
       "       'село путилово', 'ивангород', 'мурино', 'шлиссельбург',\n",
       "       'никольское', 'зеленогорск', 'сосновый бор', 'деревня оржицы',\n",
       "       'деревня кальтино', 'кудрово', 'поселок романовка',\n",
       "       'поселок бугры', 'поселок городского типа рощино', 'кириши',\n",
       "       'луга', 'волосово', 'отрадное', 'село павлово', 'поселок оредеж',\n",
       "       'село копорье', 'поселок молодежное', 'тихвин', 'поселок победа',\n",
       "       'деревня нурма', 'поселок городского типа синявино', 'тосно',\n",
       "       'поселок стрельна', 'бокситогорск', 'поселок александровская',\n",
       "       'деревня лопухинка', 'пикалево', 'поселок терволово',\n",
       "       'поселок городского типа советский', 'подпорожье',\n",
       "       'поселок петровское', 'поселок городского типа токсово',\n",
       "       'поселок сельцо', 'поселок городского типа вырица',\n",
       "       'деревня кипень', 'деревня келози', 'деревня вартемяги',\n",
       "       'поселок тельмана', 'поселок севастьяново',\n",
       "       'городской поселок большая ижора', 'unknown',\n",
       "       'городской поселок павлово', 'деревня агалатово',\n",
       "       'поселок новогорелово', 'городской поселок лесогорский',\n",
       "       'деревня лаголово', 'поселок цвелодубово',\n",
       "       'поселок городского типа рахья', 'деревня белогорка',\n",
       "       'поселок заводской', 'городской поселок новоселье',\n",
       "       'деревня большие колпаны', 'деревня горбунки', 'деревня батово',\n",
       "       'деревня заневка', 'деревня иссад', 'приморск',\n",
       "       'городской поселок федоровское', 'деревня мистолово',\n",
       "       'новая ладога', 'поселок зимитицы', 'поселок барышево',\n",
       "       'деревня разметелево', 'поселок городского типа имени свердлова',\n",
       "       'деревня пеники', 'поселок рябово', 'деревня пудомяги',\n",
       "       'поселок станции корнево', 'деревня низино', 'деревня бегуницы',\n",
       "       'поселок поляны', 'городской поселок мга', 'поселок елизаветино',\n",
       "       'поселок городского типа кузнечное', 'деревня колтуши',\n",
       "       'поселок запорожское', 'деревня гостилицы',\n",
       "       'деревня малое карлино', 'поселок мичуринское',\n",
       "       'поселок городского типа имени морозова', 'поселок песочный',\n",
       "       'поселок сосново', 'деревня аро', 'поселок ильичево',\n",
       "       'поселок городского типа тайцы', 'деревня малое верево',\n",
       "       'деревня извара', 'поселок станции вещево', 'село паша',\n",
       "       'деревня калитино', 'поселок городского типа ульяновка',\n",
       "       'деревня чудской бор', 'поселок городского типа дубровка',\n",
       "       'деревня мины', 'поселок войсковицы', 'деревня коркино',\n",
       "       'поселок ропша', 'поселок городского типа приладожский',\n",
       "       'поселок щеглово', 'поселок гаврилово', 'лодейное поле',\n",
       "       'деревня рабитицы', 'поселок городского типа никольский',\n",
       "       'деревня кузьмолово', 'деревня малые колпаны',\n",
       "       'поселок петро-славянка', 'городской поселок назия',\n",
       "       'поселок репино', 'поселок углово', 'поселок старая малукса',\n",
       "       'садовое товарищество рахья', 'деревня меньково',\n",
       "       'деревня старые бегуницы', 'поселок саперный', 'поселок семрино',\n",
       "       'поселок глажево', 'поселок кобринское', 'деревня гарболово',\n",
       "       'деревня юкки', 'поселок станции приветнинское',\n",
       "       'деревня мануйлово', 'деревня пчева', 'поселок цвылево',\n",
       "       'поселок мельниково', 'поселок пудость', 'поселок усть-луга',\n",
       "       'светогорск', 'любань', 'поселок селезнево',\n",
       "       'поселок городского типа рябово', 'каменногорск', 'деревня кривко',\n",
       "       'поселок глебычево', 'деревня парицы', 'поселок жилпоселок',\n",
       "       'поселок городского типа мга', 'поселок войскорово',\n",
       "       'село никольское', 'поселок стеклянный',\n",
       "       'поселок городского типа важины', 'поселок мыза-ивановка',\n",
       "       'село русско-высоцкое', 'поселок городского типа форносово',\n",
       "       'село старая ладога', 'поселок житково',\n",
       "       'городской поселок виллози', 'деревня лампово',\n",
       "       'деревня шпаньково', 'деревня лаврики', 'поселок сумино',\n",
       "       'поселок возрождение', 'деревня старосиверская',\n",
       "       'поселок кикерино', 'деревня старое хинколово',\n",
       "       'поселок пригородный', 'поселок торфяное',\n",
       "       'городской поселок будогощь', 'поселок суходолье',\n",
       "       'поселок красная долина', 'деревня хапо-ое',\n",
       "       'поселок городского типа дружная горка', 'поселок лисий нос',\n",
       "       'деревня яльгелево', 'село рождествено', 'деревня старополье',\n",
       "       'поселок левашово', 'деревня сяськелево', 'деревня камышовка',\n",
       "       'садоводческое некоммерческое товарищество лесная поляна',\n",
       "       'деревня хязельки', 'поселок жилгородок',\n",
       "       'поселок городского типа павлово', 'деревня ялгино',\n",
       "       'поселок новый учхоз', 'городской поселок рощино',\n",
       "       'поселок гончарово', 'поселок почап', 'поселок саперное',\n",
       "       'поселок платформа 69-й километр', 'поселок каложицы',\n",
       "       'деревня фалилеево', 'деревня пельгора',\n",
       "       'поселок городского типа лесогорский', 'деревня торошковичи',\n",
       "       'поселок белоостров', 'поселок алексеевка', 'поселок серебрянский',\n",
       "       'поселок лукаши', 'деревня щеглово', 'деревня тарасово',\n",
       "       'поселок кингисеппский',\n",
       "       'поселок при железнодорожной станции вещево', 'поселок ушаки',\n",
       "       'деревня котлы', 'деревня сижно', 'деревня торосово',\n",
       "       'поселок форт красная горка', 'деревня новолисино',\n",
       "       'поселок станции громово', 'деревня глинка',\n",
       "       'поселок городского типа назия', 'деревня старая пустошь',\n",
       "       'поселок коммунары', 'поселок починок',\n",
       "       'поселок городского типа вознесенье', 'деревня разбегаево',\n",
       "       'поселок гладкое',\n",
       "       'поселок при железнодорожной станции приветнинское',\n",
       "       'поселок тесово-4', 'деревня бор', 'поселок коробицыно',\n",
       "       'деревня большая вруда', 'деревня курковицы',\n",
       "       'городской поселок советский', 'поселок кобралово',\n",
       "       'деревня суоранда', 'поселок городского типа кондратьево',\n",
       "       'коттеджный поселок счастье', 'поселок любань', 'деревня реброво',\n",
       "       'деревня зимитицы', 'деревня тойворово', 'поселок семиозерье',\n",
       "       'поселок лесное', 'поселок совхозный', 'поселок ленинское',\n",
       "       'поселок суйда', 'деревня нижние осельки', 'поселок станции свирь',\n",
       "       'поселок перово', 'высоцк', 'поселок гарболово', 'село шум',\n",
       "       'поселок котельский', 'поселок станции лужайка',\n",
       "       'деревня большая пустомержа', 'поселок красносельское',\n",
       "       'деревня вахнова кара', 'деревня пижма',\n",
       "       'коттеджный поселок кивеннапа север', 'поселок ромашки',\n",
       "       'деревня каськово', 'деревня куровицы', 'поселок плоское',\n",
       "       'поселок городского типа большая ижора', 'поселок кирпичное',\n",
       "       'деревня ям-тесово', 'деревня раздолье', 'деревня терпилицы',\n",
       "       'поселок шугозеро', 'деревня ваганово', 'поселок пушное',\n",
       "       'садовое товарищество садко', 'поселок усть-ижора',\n",
       "       'деревня выскатка', 'городской поселок свирьстрой',\n",
       "       'поселок громово', 'деревня кисельня', 'деревня трубников бор',\n",
       "       'поселок калитино', 'поселок высокоключевой',\n",
       "       'садовое товарищество приладожский',\n",
       "       'поселок пансионат зеленый бор', 'деревня ненимяки',\n",
       "       'деревня снегиревка', 'деревня рапполово', 'деревня пустынка',\n",
       "       'поселок рабитицы', 'деревня большой сабск', 'деревня русско',\n",
       "       'деревня лупполово', 'деревня большое рейзино',\n",
       "       'деревня малая романовка', 'поселок дружноселье', 'поселок пчевжа',\n",
       "       'поселок володарское', 'деревня нижняя',\n",
       "       'коттеджный поселок лесное', 'деревня тихковицы',\n",
       "       'деревня борисова грива', 'поселок дзержинского'], dtype=object)"
      ]
     },
     "execution_count": 26,
     "metadata": {},
     "output_type": "execute_result"
    }
   ],
   "source": [
    "df['locality_name'] = df['locality_name'].str.replace('ё','е')\n",
    "df['locality_name'].unique()"
   ]
  },
  {
   "cell_type": "markdown",
   "metadata": {},
   "source": [
    "Чтобы не было дубликатов по типу 'поселок мурино' и 'мурино' необходимо оставить только названия населенных пунктов"
   ]
  },
  {
   "cell_type": "code",
   "execution_count": 27,
   "metadata": {
    "scrolled": true
   },
   "outputs": [
    {
     "data": {
      "text/plain": [
       "array(['санкт-петербург', 'шушары', 'янино-1', 'парголово', 'мурино',\n",
       "       'ломоносов', 'сертолово', 'петергоф', 'пушкин', 'кудрово',\n",
       "       'коммунар', 'колпино', 'красный бор', 'гатчина', 'федоровское',\n",
       "       'выборг', 'кронштадт', 'кировск', 'новое девяткино',\n",
       "       'металлострой', 'лебяжье', 'сиверский', 'молодцово',\n",
       "       'кузьмоловский', 'новая ропша', 'павловск', 'пикколово',\n",
       "       'всеволожск', 'волхов', 'кингисепп', 'приозерск', 'сестрорецк',\n",
       "       'куттузи', 'аннино', 'ефимовский', 'плодовое', 'заклинье',\n",
       "       'торковичи', 'первомайское', 'красное село', 'понтонный',\n",
       "       'сясьстрой', 'старая', 'лесколово', 'новый свет', 'сланцы',\n",
       "       'путилово', 'ивангород', 'шлиссельбург', 'никольское',\n",
       "       'зеленогорск', 'сосновый бор', 'оржицы', 'кальтино', 'романовка',\n",
       "       'бугры', 'рощино', 'кириши', 'луга', 'волосово', 'отрадное',\n",
       "       'павлово', 'оредеж', 'копорье', 'молодежное', 'тихвин', 'победа',\n",
       "       'нурма', 'синявино', 'тосно', 'стрельна', 'бокситогорск',\n",
       "       'александровская', 'лопухинка', 'пикалево', 'терволово',\n",
       "       'советский', 'подпорожье', 'петровское', 'токсово', 'сельцо',\n",
       "       'вырица', 'кипень', 'келози', 'вартемяги', 'тельмана',\n",
       "       'севастьяново', 'большая ижора', 'unknown', 'агалатово',\n",
       "       'новогорелово', 'лесогорский', 'лаголово', 'цвелодубово', 'рахья',\n",
       "       'белогорка', 'заводской', 'новоселье', 'большие колпаны',\n",
       "       'горбунки', 'батово', 'заневка', 'иссад', 'приморск', 'мистолово',\n",
       "       'новая ладога', 'зимитицы', 'барышево', 'разметелево',\n",
       "       'имени свердлова', 'пеники', 'рябово', 'пудомяги',\n",
       "       'станции корнево', 'низино', 'бегуницы', 'поляны', 'мга',\n",
       "       'елизаветино', 'кузнечное', 'колтуши', 'запорожское', 'гостилицы',\n",
       "       'малое карлино', 'мичуринское', 'имени морозова', 'песочный',\n",
       "       'сосново', 'аро', 'ильичево', 'тайцы', 'малое верево', 'извара',\n",
       "       'станции вещево', 'паша', 'калитино', 'ульяновка', 'чудской бор',\n",
       "       'дубровка', 'мины', 'войсковицы', 'коркино', 'ропша',\n",
       "       'приладожский', 'щеглово', 'гаврилово', 'лодейное поле',\n",
       "       'рабитицы', 'никольский', 'кузьмолово', 'малые колпаны',\n",
       "       'петро-славянка', 'назия', 'репино', 'углово', 'старая малукса',\n",
       "       'меньково', 'старые бегуницы', 'саперный', 'семрино', 'глажево',\n",
       "       'кобринское', 'гарболово', 'юкки', 'станции приветнинское',\n",
       "       'мануйлово', 'пчева', 'цвылево', 'мельниково', 'пудость',\n",
       "       'усть-луга', 'светогорск', 'любань', 'селезнево', 'каменногорск',\n",
       "       'кривко', 'глебычево', 'парицы', 'жилпоселок', 'войскорово',\n",
       "       'стеклянный', 'важины', 'мыза-ивановка', 'русско-высоцкое',\n",
       "       'форносово', 'старая ладога', 'житково', 'виллози', 'лампово',\n",
       "       'шпаньково', 'лаврики', 'сумино', 'возрождение', 'старосиверская',\n",
       "       'кикерино', 'старое хинколово', 'пригородный', 'торфяное',\n",
       "       'будогощь', 'суходолье', 'красная долина', 'хапо-ое',\n",
       "       'дружная горка', 'лисий нос', 'яльгелево', 'рождествено',\n",
       "       'старополье', 'левашово', 'сяськелево', 'камышовка',\n",
       "       'лесная поляна', 'хязельки', 'жилгородок', 'ялгино', 'новый учхоз',\n",
       "       'гончарово', 'почап', 'саперное', ' 69-й километр', 'каложицы',\n",
       "       'фалилеево', 'пельгора', 'торошковичи', 'белоостров', 'алексеевка',\n",
       "       'серебрянский', 'лукаши', 'тарасово', 'кингисеппский', 'вещево',\n",
       "       'ушаки', 'котлы', 'сижно', 'торосово', 'форт красная горка',\n",
       "       'новолисино', 'станции громово', 'глинка', 'старая пустошь',\n",
       "       'коммунары', 'починок', 'вознесенье', 'разбегаево', 'гладкое',\n",
       "       'приветнинское', 'тесово-4', 'бор', 'коробицыно', 'большая вруда',\n",
       "       'курковицы', 'кобралово', 'суоранда', 'кондратьево', 'счастье',\n",
       "       'реброво', 'тойворово', 'семиозерье', 'лесное', 'совхозный',\n",
       "       'ленинское', 'суйда', 'нижние осельки', 'станции свирь', 'перово',\n",
       "       'высоцк', 'шум', 'котельский', 'станции лужайка',\n",
       "       'большая пустомержа', 'красносельское', 'вахнова кара', 'пижма',\n",
       "       'кивеннапа север', 'ромашки', 'каськово', 'куровицы', 'плоское',\n",
       "       'кирпичное', 'ям-тесово', 'раздолье', 'терпилицы', 'шугозеро',\n",
       "       'ваганово', 'пушное', 'садко', 'усть-ижора', 'выскатка',\n",
       "       'свирьстрой', 'громово', 'кисельня', 'трубников бор',\n",
       "       'высокоключевой', 'зеленый бор', 'ненимяки', 'снегиревка',\n",
       "       'рапполово', 'пустынка', 'большой сабск', 'русско', 'лупполово',\n",
       "       'большое рейзино', 'малая романовка', 'дружноселье', 'пчевжа',\n",
       "       'володарское', 'нижняя', 'тихковицы', 'борисова грива',\n",
       "       'дзержинского'], dtype=object)"
      ]
     },
     "execution_count": 27,
     "metadata": {},
     "output_type": "execute_result"
    }
   ],
   "source": [
    "df['locality_name'] = (\n",
    "    df['locality_name']\n",
    "    .replace(['городской поселок ', 'поселок городского типа ', 'деревня ', 'село ',\n",
    "             'садовое товарищество ', 'садоводческое некоммерческое товарищество ','коттеджный поселок ',\n",
    "              'поселок ', 'при железнодорожной станции ', 'пансионат ',\n",
    "             'платформа'], '', regex=True))\n",
    "df['locality_name'].unique()"
   ]
  },
  {
   "cell_type": "markdown",
   "metadata": {},
   "source": [
    "### Вывод по предобработке данных"
   ]
  },
  {
   "cell_type": "code",
   "execution_count": 28,
   "metadata": {},
   "outputs": [
    {
     "name": "stdout",
     "output_type": "stream",
     "text": [
      "<class 'pandas.core.frame.DataFrame'>\n",
      "RangeIndex: 23699 entries, 0 to 23698\n",
      "Data columns (total 22 columns):\n",
      " #   Column                Non-Null Count  Dtype         \n",
      "---  ------                --------------  -----         \n",
      " 0   total_images          23699 non-null  int64         \n",
      " 1   last_price            23699 non-null  int64         \n",
      " 2   total_area            23699 non-null  float64       \n",
      " 3   first_day_exposition  23699 non-null  datetime64[ns]\n",
      " 4   rooms                 23699 non-null  int64         \n",
      " 5   ceiling_height        23699 non-null  float64       \n",
      " 6   floors_total          23613 non-null  float64       \n",
      " 7   living_area           21796 non-null  float64       \n",
      " 8   floor                 23699 non-null  int64         \n",
      " 9   is_apartment          23699 non-null  bool          \n",
      " 10  studio                23699 non-null  bool          \n",
      " 11  open_plan             23699 non-null  bool          \n",
      " 12  kitchen_area          23699 non-null  float64       \n",
      " 13  balcony               23699 non-null  int64         \n",
      " 14  locality_name         23699 non-null  object        \n",
      " 15  airports_nearest      18157 non-null  float64       \n",
      " 16  city_centers_nearest  18180 non-null  float64       \n",
      " 17  parks_around3000      23699 non-null  int64         \n",
      " 18  parks_nearest         8079 non-null   float64       \n",
      " 19  ponds_around3000      23699 non-null  int64         \n",
      " 20  ponds_nearest         9110 non-null   float64       \n",
      " 21  days_exposition       20518 non-null  float64       \n",
      "dtypes: bool(3), datetime64[ns](1), float64(10), int64(7), object(1)\n",
      "memory usage: 3.5+ MB\n"
     ]
    }
   ],
   "source": [
    "df.info()"
   ]
  },
  {
   "cell_type": "markdown",
   "metadata": {},
   "source": [
    "В ходе выполнения предобработки были найдены и заполнены пустные значения в следующих столбцах:\n",
    "\n",
    "1. Сelling_height - высота потолков. Пустые значения были заполнены медиальными.\n",
    "2. is_apartment - тип квартиры. Помимо пропущенных значений столбец так же содержит значения true и false. Скорее всего пустые значения указывают на то, что квартиры не являются апартаментами, значит заполним их как false.\n",
    "3. kitchen_area - площадь кухни. Явной зависимости между значениями нет. Скорее всего при заполнении не указали наличие кухни или её нет вообще. Так как столбец имеет вещественный тип данных пропуски заменим как 15% от общей площади квартиры.\n",
    "4. balcony - былконы. Пустные значения скорее всего не заполнили из-за того что в квартирах нет балконов. Пустые значения были заполнены нулями.\n",
    "5. locality_name - место где находится квартира. Из-за того что точно неизвестно где располагается квартира было принято регение заполнить пустные значение как unknown.\n",
    "6. parks_around3000 и ponds_around3000 это количество парков и пркдов сообтветственно. Скорее всего пустые значения появились из-за того что в радиусе 3 км от квартиры нет ни парков, ни прудов. Пустные значения были заполнены нулями.\n",
    "\n",
    "Некоторые данные пришлось оставить без изменений:\n",
    "1. living_area - жилая площадь. Так как жилая площадь это общая площадь квартиры без учета нежилых зон (балкона, кухни, коридора и т.п) было принято решение оставить все значения без изменений чтобы избежать искажения данных.\n",
    "2. airports_nearest, city_centers_nearest, parks_nearest и ponds_nearest. Скорее всего пустые данные указывают на слишком большое удаление от того или инного места. Чтобы избежать искажения данных было принято решение оставить столбцы без изменений.\n",
    "3. days_exposition - количество дней в продаже. Скорее всего пустые значения указывают на то, что квартира еще не продана, поэтому было принято решение оставить все как есть.\n",
    "4. floors_total - общее количество этажей в доме. Так как пропусков очень мало (менее 1%), то они никак не повлияют на итог.\n",
    "\n",
    "Причиной пропусков могли стать человеческий фактор или несовершенность програмной оболочки (не все поля обязательные или нет проверки введенных данных)\n",
    "\n",
    "Также кроме заполнения пропусков были изменены типы данных в некоторых столбцах для более удобной работы с даннымии переименован столбец cityCenters_nearest в city_centers_nearest\n",
    "\n",
    "Были устраныне неявные дубликаты в названиях населенных пунктов (locality_name)."
   ]
  },
  {
   "cell_type": "markdown",
   "metadata": {
    "id": "QCcvyY6YAwb-"
   },
   "source": [
    "## Добавьте в таблицу новые столбцы"
   ]
  },
  {
   "cell_type": "markdown",
   "metadata": {
    "id": "Z8eJek3IAwb-"
   },
   "source": [
    "### Цена одного квадратного метра"
   ]
  },
  {
   "cell_type": "code",
   "execution_count": 29,
   "metadata": {},
   "outputs": [
    {
     "data": {
      "text/html": [
       "<div>\n",
       "<style scoped>\n",
       "    .dataframe tbody tr th:only-of-type {\n",
       "        vertical-align: middle;\n",
       "    }\n",
       "\n",
       "    .dataframe tbody tr th {\n",
       "        vertical-align: top;\n",
       "    }\n",
       "\n",
       "    .dataframe thead th {\n",
       "        text-align: right;\n",
       "    }\n",
       "</style>\n",
       "<table border=\"1\" class=\"dataframe\">\n",
       "  <thead>\n",
       "    <tr style=\"text-align: right;\">\n",
       "      <th></th>\n",
       "      <th>total_images</th>\n",
       "      <th>last_price</th>\n",
       "      <th>total_area</th>\n",
       "      <th>first_day_exposition</th>\n",
       "      <th>rooms</th>\n",
       "      <th>ceiling_height</th>\n",
       "      <th>floors_total</th>\n",
       "      <th>living_area</th>\n",
       "      <th>floor</th>\n",
       "      <th>is_apartment</th>\n",
       "      <th>...</th>\n",
       "      <th>balcony</th>\n",
       "      <th>locality_name</th>\n",
       "      <th>airports_nearest</th>\n",
       "      <th>city_centers_nearest</th>\n",
       "      <th>parks_around3000</th>\n",
       "      <th>parks_nearest</th>\n",
       "      <th>ponds_around3000</th>\n",
       "      <th>ponds_nearest</th>\n",
       "      <th>days_exposition</th>\n",
       "      <th>squire_meter_price</th>\n",
       "    </tr>\n",
       "  </thead>\n",
       "  <tbody>\n",
       "    <tr>\n",
       "      <th>0</th>\n",
       "      <td>20</td>\n",
       "      <td>13000000</td>\n",
       "      <td>108.0</td>\n",
       "      <td>2019-03-07</td>\n",
       "      <td>3</td>\n",
       "      <td>2.70</td>\n",
       "      <td>16.0</td>\n",
       "      <td>51.0</td>\n",
       "      <td>8</td>\n",
       "      <td>False</td>\n",
       "      <td>...</td>\n",
       "      <td>0</td>\n",
       "      <td>санкт-петербург</td>\n",
       "      <td>18863.0</td>\n",
       "      <td>16028.0</td>\n",
       "      <td>1</td>\n",
       "      <td>482.0</td>\n",
       "      <td>2</td>\n",
       "      <td>755.0</td>\n",
       "      <td>NaN</td>\n",
       "      <td>120370.370370</td>\n",
       "    </tr>\n",
       "    <tr>\n",
       "      <th>1</th>\n",
       "      <td>7</td>\n",
       "      <td>3350000</td>\n",
       "      <td>40.4</td>\n",
       "      <td>2018-12-04</td>\n",
       "      <td>1</td>\n",
       "      <td>2.65</td>\n",
       "      <td>11.0</td>\n",
       "      <td>18.6</td>\n",
       "      <td>1</td>\n",
       "      <td>False</td>\n",
       "      <td>...</td>\n",
       "      <td>2</td>\n",
       "      <td>шушары</td>\n",
       "      <td>12817.0</td>\n",
       "      <td>18603.0</td>\n",
       "      <td>0</td>\n",
       "      <td>NaN</td>\n",
       "      <td>0</td>\n",
       "      <td>NaN</td>\n",
       "      <td>81.0</td>\n",
       "      <td>82920.792079</td>\n",
       "    </tr>\n",
       "    <tr>\n",
       "      <th>2</th>\n",
       "      <td>10</td>\n",
       "      <td>5196000</td>\n",
       "      <td>56.0</td>\n",
       "      <td>2015-08-20</td>\n",
       "      <td>2</td>\n",
       "      <td>2.65</td>\n",
       "      <td>5.0</td>\n",
       "      <td>34.3</td>\n",
       "      <td>4</td>\n",
       "      <td>False</td>\n",
       "      <td>...</td>\n",
       "      <td>0</td>\n",
       "      <td>санкт-петербург</td>\n",
       "      <td>21741.0</td>\n",
       "      <td>13933.0</td>\n",
       "      <td>1</td>\n",
       "      <td>90.0</td>\n",
       "      <td>2</td>\n",
       "      <td>574.0</td>\n",
       "      <td>558.0</td>\n",
       "      <td>92785.714286</td>\n",
       "    </tr>\n",
       "    <tr>\n",
       "      <th>3</th>\n",
       "      <td>0</td>\n",
       "      <td>64900000</td>\n",
       "      <td>159.0</td>\n",
       "      <td>2015-07-24</td>\n",
       "      <td>3</td>\n",
       "      <td>2.65</td>\n",
       "      <td>14.0</td>\n",
       "      <td>NaN</td>\n",
       "      <td>9</td>\n",
       "      <td>False</td>\n",
       "      <td>...</td>\n",
       "      <td>0</td>\n",
       "      <td>санкт-петербург</td>\n",
       "      <td>28098.0</td>\n",
       "      <td>6800.0</td>\n",
       "      <td>2</td>\n",
       "      <td>84.0</td>\n",
       "      <td>3</td>\n",
       "      <td>234.0</td>\n",
       "      <td>424.0</td>\n",
       "      <td>408176.100629</td>\n",
       "    </tr>\n",
       "    <tr>\n",
       "      <th>4</th>\n",
       "      <td>2</td>\n",
       "      <td>10000000</td>\n",
       "      <td>100.0</td>\n",
       "      <td>2018-06-19</td>\n",
       "      <td>2</td>\n",
       "      <td>3.03</td>\n",
       "      <td>14.0</td>\n",
       "      <td>32.0</td>\n",
       "      <td>13</td>\n",
       "      <td>False</td>\n",
       "      <td>...</td>\n",
       "      <td>0</td>\n",
       "      <td>санкт-петербург</td>\n",
       "      <td>31856.0</td>\n",
       "      <td>8098.0</td>\n",
       "      <td>2</td>\n",
       "      <td>112.0</td>\n",
       "      <td>1</td>\n",
       "      <td>48.0</td>\n",
       "      <td>121.0</td>\n",
       "      <td>100000.000000</td>\n",
       "    </tr>\n",
       "  </tbody>\n",
       "</table>\n",
       "<p>5 rows × 23 columns</p>\n",
       "</div>"
      ],
      "text/plain": [
       "   total_images  last_price  total_area first_day_exposition  rooms  \\\n",
       "0            20    13000000       108.0           2019-03-07      3   \n",
       "1             7     3350000        40.4           2018-12-04      1   \n",
       "2            10     5196000        56.0           2015-08-20      2   \n",
       "3             0    64900000       159.0           2015-07-24      3   \n",
       "4             2    10000000       100.0           2018-06-19      2   \n",
       "\n",
       "   ceiling_height  floors_total  living_area  floor  is_apartment  ...  \\\n",
       "0            2.70          16.0         51.0      8         False  ...   \n",
       "1            2.65          11.0         18.6      1         False  ...   \n",
       "2            2.65           5.0         34.3      4         False  ...   \n",
       "3            2.65          14.0          NaN      9         False  ...   \n",
       "4            3.03          14.0         32.0     13         False  ...   \n",
       "\n",
       "   balcony    locality_name  airports_nearest  city_centers_nearest  \\\n",
       "0        0  санкт-петербург           18863.0               16028.0   \n",
       "1        2           шушары           12817.0               18603.0   \n",
       "2        0  санкт-петербург           21741.0               13933.0   \n",
       "3        0  санкт-петербург           28098.0                6800.0   \n",
       "4        0  санкт-петербург           31856.0                8098.0   \n",
       "\n",
       "  parks_around3000  parks_nearest  ponds_around3000  ponds_nearest  \\\n",
       "0                1          482.0                 2          755.0   \n",
       "1                0            NaN                 0            NaN   \n",
       "2                1           90.0                 2          574.0   \n",
       "3                2           84.0                 3          234.0   \n",
       "4                2          112.0                 1           48.0   \n",
       "\n",
       "   days_exposition  squire_meter_price  \n",
       "0              NaN       120370.370370  \n",
       "1             81.0        82920.792079  \n",
       "2            558.0        92785.714286  \n",
       "3            424.0       408176.100629  \n",
       "4            121.0       100000.000000  \n",
       "\n",
       "[5 rows x 23 columns]"
      ]
     },
     "execution_count": 29,
     "metadata": {},
     "output_type": "execute_result"
    }
   ],
   "source": [
    "df['squire_meter_price'] = df['last_price']/df['total_area'].round(2)\n",
    "df.head()"
   ]
  },
  {
   "cell_type": "markdown",
   "metadata": {},
   "source": [
    "### День публикации объявления (0 - понедельник, 1 - вторник и т. д.)"
   ]
  },
  {
   "cell_type": "code",
   "execution_count": 30,
   "metadata": {},
   "outputs": [
    {
     "data": {
      "text/plain": [
       "0    3\n",
       "1    1\n",
       "2    3\n",
       "3    4\n",
       "4    1\n",
       "Name: publication_weekday, dtype: int64"
      ]
     },
     "execution_count": 30,
     "metadata": {},
     "output_type": "execute_result"
    }
   ],
   "source": [
    "df['publication_weekday'] = df['first_day_exposition'].dt.weekday\n",
    "df['publication_weekday'].head()"
   ]
  },
  {
   "cell_type": "markdown",
   "metadata": {},
   "source": [
    "### Месяц публикации объявления"
   ]
  },
  {
   "cell_type": "code",
   "execution_count": 31,
   "metadata": {},
   "outputs": [
    {
     "data": {
      "text/plain": [
       "0     3\n",
       "1    12\n",
       "2     8\n",
       "3     7\n",
       "4     6\n",
       "Name: publication_monts, dtype: int64"
      ]
     },
     "execution_count": 31,
     "metadata": {},
     "output_type": "execute_result"
    }
   ],
   "source": [
    "df['publication_monts'] = df['first_day_exposition'].dt.month\n",
    "df['publication_monts'].head()"
   ]
  },
  {
   "cell_type": "markdown",
   "metadata": {},
   "source": [
    "### Год публикации объявления"
   ]
  },
  {
   "cell_type": "code",
   "execution_count": 32,
   "metadata": {},
   "outputs": [
    {
     "data": {
      "text/plain": [
       "0    2019\n",
       "1    2018\n",
       "2    2015\n",
       "3    2015\n",
       "4    2018\n",
       "Name: publication_years, dtype: int64"
      ]
     },
     "execution_count": 32,
     "metadata": {},
     "output_type": "execute_result"
    }
   ],
   "source": [
    "df['publication_years'] = df['first_day_exposition'].dt.year\n",
    "df['publication_years'].head()"
   ]
  },
  {
   "cell_type": "markdown",
   "metadata": {},
   "source": [
    "### Тип этажа квартиры (значения — «первый», «последний», «другой»)"
   ]
  },
  {
   "cell_type": "code",
   "execution_count": 33,
   "metadata": {},
   "outputs": [
    {
     "data": {
      "text/html": [
       "<div>\n",
       "<style scoped>\n",
       "    .dataframe tbody tr th:only-of-type {\n",
       "        vertical-align: middle;\n",
       "    }\n",
       "\n",
       "    .dataframe tbody tr th {\n",
       "        vertical-align: top;\n",
       "    }\n",
       "\n",
       "    .dataframe thead th {\n",
       "        text-align: right;\n",
       "    }\n",
       "</style>\n",
       "<table border=\"1\" class=\"dataframe\">\n",
       "  <thead>\n",
       "    <tr style=\"text-align: right;\">\n",
       "      <th></th>\n",
       "      <th>total_images</th>\n",
       "      <th>last_price</th>\n",
       "      <th>total_area</th>\n",
       "      <th>first_day_exposition</th>\n",
       "      <th>rooms</th>\n",
       "      <th>ceiling_height</th>\n",
       "      <th>floors_total</th>\n",
       "      <th>living_area</th>\n",
       "      <th>floor</th>\n",
       "      <th>is_apartment</th>\n",
       "      <th>...</th>\n",
       "      <th>parks_around3000</th>\n",
       "      <th>parks_nearest</th>\n",
       "      <th>ponds_around3000</th>\n",
       "      <th>ponds_nearest</th>\n",
       "      <th>days_exposition</th>\n",
       "      <th>squire_meter_price</th>\n",
       "      <th>publication_weekday</th>\n",
       "      <th>publication_monts</th>\n",
       "      <th>publication_years</th>\n",
       "      <th>floor_type</th>\n",
       "    </tr>\n",
       "  </thead>\n",
       "  <tbody>\n",
       "    <tr>\n",
       "      <th>0</th>\n",
       "      <td>20</td>\n",
       "      <td>13000000</td>\n",
       "      <td>108.0</td>\n",
       "      <td>2019-03-07</td>\n",
       "      <td>3</td>\n",
       "      <td>2.70</td>\n",
       "      <td>16.0</td>\n",
       "      <td>51.0</td>\n",
       "      <td>8</td>\n",
       "      <td>False</td>\n",
       "      <td>...</td>\n",
       "      <td>1</td>\n",
       "      <td>482.0</td>\n",
       "      <td>2</td>\n",
       "      <td>755.0</td>\n",
       "      <td>NaN</td>\n",
       "      <td>120370.370370</td>\n",
       "      <td>3</td>\n",
       "      <td>3</td>\n",
       "      <td>2019</td>\n",
       "      <td>другой</td>\n",
       "    </tr>\n",
       "    <tr>\n",
       "      <th>1</th>\n",
       "      <td>7</td>\n",
       "      <td>3350000</td>\n",
       "      <td>40.4</td>\n",
       "      <td>2018-12-04</td>\n",
       "      <td>1</td>\n",
       "      <td>2.65</td>\n",
       "      <td>11.0</td>\n",
       "      <td>18.6</td>\n",
       "      <td>1</td>\n",
       "      <td>False</td>\n",
       "      <td>...</td>\n",
       "      <td>0</td>\n",
       "      <td>NaN</td>\n",
       "      <td>0</td>\n",
       "      <td>NaN</td>\n",
       "      <td>81.0</td>\n",
       "      <td>82920.792079</td>\n",
       "      <td>1</td>\n",
       "      <td>12</td>\n",
       "      <td>2018</td>\n",
       "      <td>первый</td>\n",
       "    </tr>\n",
       "    <tr>\n",
       "      <th>2</th>\n",
       "      <td>10</td>\n",
       "      <td>5196000</td>\n",
       "      <td>56.0</td>\n",
       "      <td>2015-08-20</td>\n",
       "      <td>2</td>\n",
       "      <td>2.65</td>\n",
       "      <td>5.0</td>\n",
       "      <td>34.3</td>\n",
       "      <td>4</td>\n",
       "      <td>False</td>\n",
       "      <td>...</td>\n",
       "      <td>1</td>\n",
       "      <td>90.0</td>\n",
       "      <td>2</td>\n",
       "      <td>574.0</td>\n",
       "      <td>558.0</td>\n",
       "      <td>92785.714286</td>\n",
       "      <td>3</td>\n",
       "      <td>8</td>\n",
       "      <td>2015</td>\n",
       "      <td>другой</td>\n",
       "    </tr>\n",
       "    <tr>\n",
       "      <th>3</th>\n",
       "      <td>0</td>\n",
       "      <td>64900000</td>\n",
       "      <td>159.0</td>\n",
       "      <td>2015-07-24</td>\n",
       "      <td>3</td>\n",
       "      <td>2.65</td>\n",
       "      <td>14.0</td>\n",
       "      <td>NaN</td>\n",
       "      <td>9</td>\n",
       "      <td>False</td>\n",
       "      <td>...</td>\n",
       "      <td>2</td>\n",
       "      <td>84.0</td>\n",
       "      <td>3</td>\n",
       "      <td>234.0</td>\n",
       "      <td>424.0</td>\n",
       "      <td>408176.100629</td>\n",
       "      <td>4</td>\n",
       "      <td>7</td>\n",
       "      <td>2015</td>\n",
       "      <td>другой</td>\n",
       "    </tr>\n",
       "    <tr>\n",
       "      <th>4</th>\n",
       "      <td>2</td>\n",
       "      <td>10000000</td>\n",
       "      <td>100.0</td>\n",
       "      <td>2018-06-19</td>\n",
       "      <td>2</td>\n",
       "      <td>3.03</td>\n",
       "      <td>14.0</td>\n",
       "      <td>32.0</td>\n",
       "      <td>13</td>\n",
       "      <td>False</td>\n",
       "      <td>...</td>\n",
       "      <td>2</td>\n",
       "      <td>112.0</td>\n",
       "      <td>1</td>\n",
       "      <td>48.0</td>\n",
       "      <td>121.0</td>\n",
       "      <td>100000.000000</td>\n",
       "      <td>1</td>\n",
       "      <td>6</td>\n",
       "      <td>2018</td>\n",
       "      <td>другой</td>\n",
       "    </tr>\n",
       "  </tbody>\n",
       "</table>\n",
       "<p>5 rows × 27 columns</p>\n",
       "</div>"
      ],
      "text/plain": [
       "   total_images  last_price  total_area first_day_exposition  rooms  \\\n",
       "0            20    13000000       108.0           2019-03-07      3   \n",
       "1             7     3350000        40.4           2018-12-04      1   \n",
       "2            10     5196000        56.0           2015-08-20      2   \n",
       "3             0    64900000       159.0           2015-07-24      3   \n",
       "4             2    10000000       100.0           2018-06-19      2   \n",
       "\n",
       "   ceiling_height  floors_total  living_area  floor  is_apartment  ...  \\\n",
       "0            2.70          16.0         51.0      8         False  ...   \n",
       "1            2.65          11.0         18.6      1         False  ...   \n",
       "2            2.65           5.0         34.3      4         False  ...   \n",
       "3            2.65          14.0          NaN      9         False  ...   \n",
       "4            3.03          14.0         32.0     13         False  ...   \n",
       "\n",
       "   parks_around3000  parks_nearest  ponds_around3000  ponds_nearest  \\\n",
       "0                 1          482.0                 2          755.0   \n",
       "1                 0            NaN                 0            NaN   \n",
       "2                 1           90.0                 2          574.0   \n",
       "3                 2           84.0                 3          234.0   \n",
       "4                 2          112.0                 1           48.0   \n",
       "\n",
       "  days_exposition  squire_meter_price  publication_weekday  publication_monts  \\\n",
       "0             NaN       120370.370370                    3                  3   \n",
       "1            81.0        82920.792079                    1                 12   \n",
       "2           558.0        92785.714286                    3                  8   \n",
       "3           424.0       408176.100629                    4                  7   \n",
       "4           121.0       100000.000000                    1                  6   \n",
       "\n",
       "   publication_years  floor_type  \n",
       "0               2019      другой  \n",
       "1               2018      первый  \n",
       "2               2015      другой  \n",
       "3               2015      другой  \n",
       "4               2018      другой  \n",
       "\n",
       "[5 rows x 27 columns]"
      ]
     },
     "execution_count": 33,
     "metadata": {},
     "output_type": "execute_result"
    }
   ],
   "source": [
    "def floor(f):\n",
    "    if f['floor'] == 1:\n",
    "        return('первый')\n",
    "    elif f['floor'] == f['floors_total']:\n",
    "        return('последний')\n",
    "    else:\n",
    "        return('другой')\n",
    "df['floor_type'] = df.apply(floor, axis=1)\n",
    "df.head()"
   ]
  },
  {
   "cell_type": "markdown",
   "metadata": {},
   "source": [
    "### Расстояние до центра города в километрах"
   ]
  },
  {
   "cell_type": "code",
   "execution_count": 34,
   "metadata": {},
   "outputs": [
    {
     "data": {
      "text/plain": [
       "0    16.0\n",
       "1    19.0\n",
       "2    14.0\n",
       "3     7.0\n",
       "4     8.0\n",
       "Name: center_distance, dtype: float64"
      ]
     },
     "execution_count": 34,
     "metadata": {},
     "output_type": "execute_result"
    }
   ],
   "source": [
    "df['center_distance'] = (df['city_centers_nearest'] / 1000).round(0)\n",
    "df['center_distance'].head()"
   ]
  },
  {
   "cell_type": "markdown",
   "metadata": {
    "id": "pPyxrKWTAwb-"
   },
   "source": [
    "## Проведите исследовательский анализ данных"
   ]
  },
  {
   "cell_type": "code",
   "execution_count": 35,
   "metadata": {},
   "outputs": [],
   "source": [
    "q1 = df['last_price'].quantile(.25) \n",
    "q3 = df['last_price'].quantile(.75)\n",
    "iqr = q3 - q1 \n",
    "df = df[((df['last_price'] > (q1 - 1.5 * iqr)) & (df['last_price'] < (q3 + 1.5 * iqr)))]"
   ]
  },
  {
   "cell_type": "markdown",
   "metadata": {
    "id": "V2f0D3kLAwb-"
   },
   "source": [
    "### Изучение и описание зависимостей количества квартир от разных параметров"
   ]
  },
  {
   "cell_type": "markdown",
   "metadata": {},
   "source": [
    "#### Общая площадь квартир"
   ]
  },
  {
   "cell_type": "code",
   "execution_count": 36,
   "metadata": {},
   "outputs": [
    {
     "data": {
      "text/plain": [
       "count    21638.000000\n",
       "mean        53.262692\n",
       "std         19.059902\n",
       "min         12.000000\n",
       "25%         39.000000\n",
       "50%         49.200000\n",
       "75%         63.500000\n",
       "max        230.000000\n",
       "Name: total_area, dtype: float64"
      ]
     },
     "execution_count": 36,
     "metadata": {},
     "output_type": "execute_result"
    }
   ],
   "source": [
    "df['total_area'].describe()"
   ]
  },
  {
   "cell_type": "code",
   "execution_count": 37,
   "metadata": {},
   "outputs": [
    {
     "data": {
      "image/png": "[encoded data removed]",
      "text/plain": [
       "<Figure size 432x288 with 1 Axes>"
      ]
     },
     "metadata": {
      "needs_background": "light"
     },
     "output_type": "display_data"
    }
   ],
   "source": [
    "df['total_area'].hist(bins=50, range=(12,100))\n",
    "plt.title('Зависимость количества квартир от площади квартир')\n",
    "plt.xlabel('площадь квартир')\n",
    "plt.ylabel('количество квартир')\n",
    "plt.show();"
   ]
  },
  {
   "cell_type": "markdown",
   "metadata": {},
   "source": [
    "Самое большое количество предложений квартир на рынке по общей жилой площади от 30 до 62 кв.м. Максимальное количество предложений - 42 кв.м."
   ]
  },
  {
   "cell_type": "markdown",
   "metadata": {},
   "source": [
    "#### Жилая площадь"
   ]
  },
  {
   "cell_type": "code",
   "execution_count": 38,
   "metadata": {},
   "outputs": [
    {
     "data": {
      "text/plain": [
       "count    19950.000000\n",
       "mean        30.549146\n",
       "std         13.472802\n",
       "min          2.000000\n",
       "25%         18.000000\n",
       "50%         29.005000\n",
       "75%         39.300000\n",
       "max        127.000000\n",
       "Name: living_area, dtype: float64"
      ]
     },
     "execution_count": 38,
     "metadata": {},
     "output_type": "execute_result"
    }
   ],
   "source": [
    "df['living_area'].describe()"
   ]
  },
  {
   "cell_type": "code",
   "execution_count": 39,
   "metadata": {},
   "outputs": [
    {
     "data": {
      "image/png": "[encoded data removed]",
      "text/plain": [
       "<Figure size 432x288 with 1 Axes>"
      ]
     },
     "metadata": {
      "needs_background": "light"
     },
     "output_type": "display_data"
    }
   ],
   "source": [
    "df['living_area'].hist(bins=100,  range=(0,100))\n",
    "plt.title('Зависимость количества квартир от жилой площади')\n",
    "plt.xlabel('жилая площадь квартир')\n",
    "plt.ylabel('количество квартир');"
   ]
  },
  {
   "cell_type": "markdown",
   "metadata": {},
   "source": [
    "Больше всего продают квартир с жилой площадью от 15 до 30 кв.м., при этом прослеживается спад в зоне 23-24 кв.м."
   ]
  },
  {
   "cell_type": "markdown",
   "metadata": {},
   "source": [
    "#### Площадь кухни"
   ]
  },
  {
   "cell_type": "code",
   "execution_count": 40,
   "metadata": {},
   "outputs": [
    {
     "data": {
      "text/plain": [
       "count    21638.000000\n",
       "mean         9.386495\n",
       "std          3.821444\n",
       "min          1.300000\n",
       "25%          6.800000\n",
       "50%          8.800000\n",
       "75%         11.000000\n",
       "max         64.000000\n",
       "Name: kitchen_area, dtype: float64"
      ]
     },
     "execution_count": 40,
     "metadata": {},
     "output_type": "execute_result"
    }
   ],
   "source": [
    "df['kitchen_area'].describe()"
   ]
  },
  {
   "cell_type": "code",
   "execution_count": 41,
   "metadata": {},
   "outputs": [
    {
     "data": {
      "image/png": "[encoded data removed]",
      "text/plain": [
       "<Figure size 432x288 with 1 Axes>"
      ]
     },
     "metadata": {
      "needs_background": "light"
     },
     "output_type": "display_data"
    }
   ],
   "source": [
    "df['kitchen_area'].hist(bins=50, range=(0,40))\n",
    "plt.title('Зависимость количества квартир от площади кухни')\n",
    "plt.xlabel('площадь кухни')\n",
    "plt.ylabel('количество квартир');"
   ]
  },
  {
   "cell_type": "markdown",
   "metadata": {},
   "source": [
    "Больше всего предложений по размеру кухни 6 и 10 кв.м., при этом заметны всплески на всех целых значениях от 6 до 12 кв.м."
   ]
  },
  {
   "cell_type": "markdown",
   "metadata": {},
   "source": [
    "#### Количество комнат"
   ]
  },
  {
   "cell_type": "code",
   "execution_count": 42,
   "metadata": {},
   "outputs": [
    {
     "data": {
      "text/plain": [
       "count    21638.000000\n",
       "mean         1.930077\n",
       "std          0.912070\n",
       "min          0.000000\n",
       "25%          1.000000\n",
       "50%          2.000000\n",
       "75%          3.000000\n",
       "max          7.000000\n",
       "Name: rooms, dtype: float64"
      ]
     },
     "execution_count": 42,
     "metadata": {},
     "output_type": "execute_result"
    }
   ],
   "source": [
    "df['rooms'].describe()"
   ]
  },
  {
   "cell_type": "code",
   "execution_count": 43,
   "metadata": {},
   "outputs": [
    {
     "data": {
      "image/png": "[encoded data removed]",
      "text/plain": [
       "<Figure size 432x288 with 1 Axes>"
      ]
     },
     "metadata": {
      "needs_background": "light"
     },
     "output_type": "display_data"
    }
   ],
   "source": [
    "df['rooms'].hist(bins=5, range=(0,7))\n",
    "plt.title('Зависимость количества квартир от количества комнат')\n",
    "plt.xlabel('количество комнат')\n",
    "plt.ylabel('количество квартир');"
   ]
  },
  {
   "cell_type": "markdown",
   "metadata": {},
   "source": [
    "Больше всего однокомнатных квартир на рынке. С по вышением количества комнат предложений меньше."
   ]
  },
  {
   "cell_type": "markdown",
   "metadata": {},
   "source": [
    "#### Цена квартиры"
   ]
  },
  {
   "cell_type": "code",
   "execution_count": 44,
   "metadata": {},
   "outputs": [
    {
     "data": {
      "text/plain": [
       "count    2.163800e+04\n",
       "mean     4.839970e+06\n",
       "std      2.217341e+06\n",
       "min      1.219000e+04\n",
       "25%      3.300000e+06\n",
       "50%      4.400000e+06\n",
       "75%      6.000000e+06\n",
       "max      1.189440e+07\n",
       "Name: last_price, dtype: float64"
      ]
     },
     "execution_count": 44,
     "metadata": {},
     "output_type": "execute_result"
    }
   ],
   "source": [
    "df['last_price'].describe()"
   ]
  },
  {
   "cell_type": "code",
   "execution_count": 45,
   "metadata": {},
   "outputs": [
    {
     "data": {
      "image/png": "[encoded data removed]",
      "text/plain": [
       "<Figure size 432x288 with 1 Axes>"
      ]
     },
     "metadata": {
      "needs_background": "light"
     },
     "output_type": "display_data"
    }
   ],
   "source": [
    "df['last_price'].hist(bins=50, range=(1.219000e+04,9.000000e+06))\n",
    "plt.xlabel('цена квартиры в 10 млн. руб')\n",
    "plt.ylabel('количество квартир')\n",
    "plt.title('Зависимость количества квартир от цен на квартиры');"
   ]
  },
  {
   "cell_type": "markdown",
   "metadata": {},
   "source": [
    "Чаще квартиры продаются по цене от 2 до 6 млн. рублей с пиком в 3.8 млн."
   ]
  },
  {
   "cell_type": "markdown",
   "metadata": {},
   "source": [
    "#### Высота потолков"
   ]
  },
  {
   "cell_type": "code",
   "execution_count": 46,
   "metadata": {},
   "outputs": [
    {
     "data": {
      "text/plain": [
       "count    21638.000000\n",
       "mean         2.674597\n",
       "std          0.218560\n",
       "min          1.000000\n",
       "25%          2.600000\n",
       "50%          2.650000\n",
       "75%          2.700000\n",
       "max         14.000000\n",
       "Name: ceiling_height, dtype: float64"
      ]
     },
     "execution_count": 46,
     "metadata": {},
     "output_type": "execute_result"
    }
   ],
   "source": [
    "df['ceiling_height'].describe()"
   ]
  },
  {
   "cell_type": "code",
   "execution_count": 47,
   "metadata": {},
   "outputs": [
    {
     "data": {
      "image/png": "[encoded data removed]",
      "text/plain": [
       "<Figure size 432x288 with 1 Axes>"
      ]
     },
     "metadata": {
      "needs_background": "light"
     },
     "output_type": "display_data"
    }
   ],
   "source": [
    "df['ceiling_height'].hist(bins=50, range=(2,4))\n",
    "plt.xlabel('высота потолков в метрах')\n",
    "plt.ylabel('количество квартир')\n",
    "plt.title('Зависимость количества квартир от высоты потолков');"
   ]
  },
  {
   "cell_type": "markdown",
   "metadata": {},
   "source": [
    "Подавляющее большинство квартир имеет потолки высотой 2.65 метра."
   ]
  },
  {
   "cell_type": "markdown",
   "metadata": {},
   "source": [
    "#### Тип этажа квартиры («первый», «последний», «другой»)"
   ]
  },
  {
   "cell_type": "code",
   "execution_count": 48,
   "metadata": {},
   "outputs": [
    {
     "data": {
      "image/png": "[encoded data removed]",
      "text/plain": [
       "<Figure size 720x504 with 1 Axes>"
      ]
     },
     "metadata": {},
     "output_type": "display_data"
    }
   ],
   "source": [
    "(df.pivot_table(index='floor_type',values='last_price',aggfunc='count')\n",
    "  .plot.pie(y='last_price', figsize=(10,7), label=''\n",
    "            , title='Диаграмма распределения предложений в зависимости от этажа')\n",
    ")\n",
    "plt.show();\n"
   ]
  },
  {
   "cell_type": "markdown",
   "metadata": {},
   "source": [
    "На рынке меньше всего квартир расположенных на первом этаже, чуть больше квартир расположенных на последнем этаже. Квартиры расположенные между перым и последним этажами занимают 75% рынка."
   ]
  },
  {
   "cell_type": "markdown",
   "metadata": {},
   "source": [
    "#### Общее количество этажей в доме"
   ]
  },
  {
   "cell_type": "code",
   "execution_count": 49,
   "metadata": {},
   "outputs": [
    {
     "data": {
      "text/plain": [
       "count    21564.000000\n",
       "mean        10.759136\n",
       "std          6.641100\n",
       "min          1.000000\n",
       "25%          5.000000\n",
       "50%          9.000000\n",
       "75%         16.000000\n",
       "max         60.000000\n",
       "Name: floors_total, dtype: float64"
      ]
     },
     "execution_count": 49,
     "metadata": {},
     "output_type": "execute_result"
    }
   ],
   "source": [
    "df['floors_total'].describe()"
   ]
  },
  {
   "cell_type": "code",
   "execution_count": 50,
   "metadata": {},
   "outputs": [
    {
     "data": {
      "image/png": "[encoded data removed]",
      "text/plain": [
       "<Figure size 432x288 with 1 Axes>"
      ]
     },
     "metadata": {
      "needs_background": "light"
     },
     "output_type": "display_data"
    }
   ],
   "source": [
    "df['floors_total'].hist(bins=25, range=(0,40))\n",
    "plt.xlabel('количество этажей')\n",
    "plt.ylabel('количество квартир')\n",
    "plt.title('Зависимость количества квартир от общего количества этажей в доме');"
   ]
  },
  {
   "cell_type": "markdown",
   "metadata": {},
   "source": [
    "Больше всего предложений в пятиэтажных домах. Также наблюдается всплеск количества квартир в девятиэтажных домах."
   ]
  },
  {
   "cell_type": "markdown",
   "metadata": {},
   "source": [
    "#### Расстояние до центра города в метрах"
   ]
  },
  {
   "cell_type": "code",
   "execution_count": 51,
   "metadata": {},
   "outputs": [
    {
     "data": {
      "text/plain": [
       "count    16147.00000\n",
       "mean     14978.49198\n",
       "std       8560.16494\n",
       "min        208.00000\n",
       "25%      10602.00000\n",
       "50%      13624.00000\n",
       "75%      16722.00000\n",
       "max      65968.00000\n",
       "Name: city_centers_nearest, dtype: float64"
      ]
     },
     "execution_count": 51,
     "metadata": {},
     "output_type": "execute_result"
    }
   ],
   "source": [
    "df['city_centers_nearest'].describe()"
   ]
  },
  {
   "cell_type": "code",
   "execution_count": 52,
   "metadata": {},
   "outputs": [
    {
     "data": {
      "image/png": "[encoded data removed]",
      "text/plain": [
       "<Figure size 432x288 with 1 Axes>"
      ]
     },
     "metadata": {
      "needs_background": "light"
     },
     "output_type": "display_data"
    }
   ],
   "source": [
    "df['city_centers_nearest'].hist(bins=100,  range=(0,30000))\n",
    "plt.xlabel('расстояние до центра города в метрах')\n",
    "plt.ylabel('количество квартир')\n",
    "plt.title('Зависимость количества квартир от расстояния до центра города');"
   ]
  },
  {
   "cell_type": "markdown",
   "metadata": {},
   "source": [
    "Больше всего квартир находятся в 10-17 км от центра города."
   ]
  },
  {
   "cell_type": "markdown",
   "metadata": {},
   "source": [
    "#### Расстояние до ближайшего парка"
   ]
  },
  {
   "cell_type": "code",
   "execution_count": 53,
   "metadata": {},
   "outputs": [
    {
     "data": {
      "text/plain": [
       "count    6724.000000\n",
       "mean      487.799227\n",
       "std       326.507587\n",
       "min         1.000000\n",
       "25%       289.000000\n",
       "50%       455.500000\n",
       "75%       613.000000\n",
       "max      3190.000000\n",
       "Name: parks_nearest, dtype: float64"
      ]
     },
     "execution_count": 53,
     "metadata": {},
     "output_type": "execute_result"
    }
   ],
   "source": [
    "df['parks_nearest'].describe()"
   ]
  },
  {
   "cell_type": "code",
   "execution_count": 54,
   "metadata": {},
   "outputs": [
    {
     "data": {
      "image/png": "[encoded data removed]",
      "text/plain": [
       "<Figure size 432x288 with 1 Axes>"
      ]
     },
     "metadata": {
      "needs_background": "light"
     },
     "output_type": "display_data"
    }
   ],
   "source": [
    "df['parks_nearest'].hist(bins=100, range=(0,700))\n",
    "plt.xlabel('расстояние до ближайшего парка в метрах')\n",
    "plt.ylabel('количество квартир')\n",
    "plt.title('Зависимость количества квартир от расстояния до ближайшего парка');"
   ]
  },
  {
   "cell_type": "markdown",
   "metadata": {},
   "source": [
    "Расстояние до парков никак не влияет на количество продаваемых квартир."
   ]
  },
  {
   "cell_type": "markdown",
   "metadata": {},
   "source": [
    "#### Общий вывод по разделу"
   ]
  },
  {
   "cell_type": "markdown",
   "metadata": {},
   "source": [
    "Во время изучения зависимости количества квартир от разных параметров были сделаны следующие выводы:\n",
    "\n",
    "1. Самое большое количество предложений квартир на рынке по общей жилой площади от 30 до 62 кв.м. Максимальное количество предложений - 42 кв.м.\n",
    "2. Больше всего продают квартир с жилой площадью от 15 до 30 кв.м., при этом прослеживается спад в зоне 23-24 кв.м.\n",
    "3. Больше всего предложений по размеру кухни 6 и 10 кв.м., при этом заметны всплески на всех целых значениях от 6 до 12 кв.м.\n",
    "4. Больше всего однокомнатных квартир на рынке. С по вышением количества комнат предложений меньше.\n",
    "5. Чаще квартиры продаются по цене от 2.5 до 6 млн. рублей с пиком в 4.2 млн.\n",
    "6. Подавляющее большинство квартир имеет потолки высотой 2.65 метра.\n",
    "7. На рынке меньше всего квартир расположенных на первом этаже, чуть больше квартир расположенных на последнем этаже. Квартиры расположенные между перым и последним этажами занимают 75% рынка.\n",
    "8. Больше всего предложений в пятиэтажных домах. \n",
    "9. Больше всего квартир находятся в 10-17 км от центра города.\n",
    "10. Расстояние до парков никак не влияет на количество продаваемых квартир."
   ]
  },
  {
   "cell_type": "markdown",
   "metadata": {},
   "source": [
    "### Изучите, как быстро продавались квартиры (столбец days_exposition)"
   ]
  },
  {
   "cell_type": "code",
   "execution_count": 55,
   "metadata": {},
   "outputs": [
    {
     "data": {
      "text/plain": [
       "count    19001.000000\n",
       "mean       173.210989\n",
       "std        211.617082\n",
       "min          1.000000\n",
       "25%         44.000000\n",
       "50%         91.000000\n",
       "75%        219.000000\n",
       "max       1580.000000\n",
       "Name: days_exposition, dtype: float64"
      ]
     },
     "execution_count": 55,
     "metadata": {},
     "output_type": "execute_result"
    }
   ],
   "source": [
    "df['days_exposition'].describe()"
   ]
  },
  {
   "cell_type": "code",
   "execution_count": 56,
   "metadata": {},
   "outputs": [
    {
     "data": {
      "image/png": "[encoded data removed]",
      "text/plain": [
       "<Figure size 432x288 with 1 Axes>"
      ]
     },
     "metadata": {
      "needs_background": "light"
     },
     "output_type": "display_data"
    }
   ],
   "source": [
    "df['days_exposition'].plot(\n",
    "    kind='hist', bins=100, range=(0, 200),\n",
    "    title='График распределения количества продаж по времени')\n",
    "plt.xlabel('количество дней')\n",
    "plt.ylabel('количество продаж');"
   ]
  },
  {
   "cell_type": "markdown",
   "metadata": {},
   "source": [
    "__Вывод__\n",
    "\n",
    "Среднее время проажи квартир - 180 дней, в то время как медиальное - 95. Более правдивой цифрой кажется медиальное значение потому что оно менее подвеженое выбросам и нестандартным значениям. Исходя из этого можно сделать вывод что среднее время продажи квартир 3 месяца. Быстрыми можно считать продажи состоявшиеся за 45 дней, долгими в свою очередь можно назвать квартиры, которые стоят в продаже больше 232 дней. \n",
    "На графике так же видны всплески на 48 и 60 день. Возможно в эти дни квартиры снимались с продажи и выставлялись по новой."
   ]
  },
  {
   "cell_type": "markdown",
   "metadata": {},
   "source": [
    "### Определите факторы, которые больше всего влияют на общую (полную) стоимость объекта"
   ]
  },
  {
   "cell_type": "code",
   "execution_count": 57,
   "metadata": {},
   "outputs": [
    {
     "data": {
      "text/html": [
       "<div>\n",
       "<style scoped>\n",
       "    .dataframe tbody tr th:only-of-type {\n",
       "        vertical-align: middle;\n",
       "    }\n",
       "\n",
       "    .dataframe tbody tr th {\n",
       "        vertical-align: top;\n",
       "    }\n",
       "\n",
       "    .dataframe thead th {\n",
       "        text-align: right;\n",
       "    }\n",
       "</style>\n",
       "<table border=\"1\" class=\"dataframe\">\n",
       "  <thead>\n",
       "    <tr style=\"text-align: right;\">\n",
       "      <th></th>\n",
       "      <th>kitchen_area</th>\n",
       "      <th>last_price</th>\n",
       "      <th>living_area</th>\n",
       "      <th>publication_monts</th>\n",
       "      <th>publication_weekday</th>\n",
       "      <th>publication_years</th>\n",
       "      <th>rooms</th>\n",
       "      <th>total_area</th>\n",
       "    </tr>\n",
       "  </thead>\n",
       "  <tbody>\n",
       "    <tr>\n",
       "      <th>kitchen_area</th>\n",
       "      <td>1.000000</td>\n",
       "      <td>0.716937</td>\n",
       "      <td>-0.132466</td>\n",
       "      <td>0.110709</td>\n",
       "      <td>-0.232599</td>\n",
       "      <td>-0.042949</td>\n",
       "      <td>-0.097630</td>\n",
       "      <td>0.399755</td>\n",
       "    </tr>\n",
       "    <tr>\n",
       "      <th>last_price</th>\n",
       "      <td>0.716937</td>\n",
       "      <td>1.000000</td>\n",
       "      <td>0.332086</td>\n",
       "      <td>-0.025719</td>\n",
       "      <td>-0.114338</td>\n",
       "      <td>0.107588</td>\n",
       "      <td>0.358365</td>\n",
       "      <td>0.697101</td>\n",
       "    </tr>\n",
       "    <tr>\n",
       "      <th>living_area</th>\n",
       "      <td>-0.132466</td>\n",
       "      <td>0.332086</td>\n",
       "      <td>1.000000</td>\n",
       "      <td>0.063315</td>\n",
       "      <td>0.142977</td>\n",
       "      <td>-0.052397</td>\n",
       "      <td>0.964972</td>\n",
       "      <td>0.839290</td>\n",
       "    </tr>\n",
       "    <tr>\n",
       "      <th>publication_monts</th>\n",
       "      <td>0.110709</td>\n",
       "      <td>-0.025719</td>\n",
       "      <td>0.063315</td>\n",
       "      <td>1.000000</td>\n",
       "      <td>0.041517</td>\n",
       "      <td>-0.863498</td>\n",
       "      <td>0.011846</td>\n",
       "      <td>0.056168</td>\n",
       "    </tr>\n",
       "    <tr>\n",
       "      <th>publication_weekday</th>\n",
       "      <td>-0.232599</td>\n",
       "      <td>-0.114338</td>\n",
       "      <td>0.142977</td>\n",
       "      <td>0.041517</td>\n",
       "      <td>1.000000</td>\n",
       "      <td>-0.075456</td>\n",
       "      <td>0.190053</td>\n",
       "      <td>0.017274</td>\n",
       "    </tr>\n",
       "    <tr>\n",
       "      <th>publication_years</th>\n",
       "      <td>-0.042949</td>\n",
       "      <td>0.107588</td>\n",
       "      <td>-0.052397</td>\n",
       "      <td>-0.863498</td>\n",
       "      <td>-0.075456</td>\n",
       "      <td>1.000000</td>\n",
       "      <td>0.003395</td>\n",
       "      <td>-0.019843</td>\n",
       "    </tr>\n",
       "    <tr>\n",
       "      <th>rooms</th>\n",
       "      <td>-0.097630</td>\n",
       "      <td>0.358365</td>\n",
       "      <td>0.964972</td>\n",
       "      <td>0.011846</td>\n",
       "      <td>0.190053</td>\n",
       "      <td>0.003395</td>\n",
       "      <td>1.000000</td>\n",
       "      <td>0.812280</td>\n",
       "    </tr>\n",
       "    <tr>\n",
       "      <th>total_area</th>\n",
       "      <td>0.399755</td>\n",
       "      <td>0.697101</td>\n",
       "      <td>0.839290</td>\n",
       "      <td>0.056168</td>\n",
       "      <td>0.017274</td>\n",
       "      <td>-0.019843</td>\n",
       "      <td>0.812280</td>\n",
       "      <td>1.000000</td>\n",
       "    </tr>\n",
       "  </tbody>\n",
       "</table>\n",
       "</div>"
      ],
      "text/plain": [
       "                     kitchen_area  last_price  living_area  publication_monts  \\\n",
       "kitchen_area             1.000000    0.716937    -0.132466           0.110709   \n",
       "last_price               0.716937    1.000000     0.332086          -0.025719   \n",
       "living_area             -0.132466    0.332086     1.000000           0.063315   \n",
       "publication_monts        0.110709   -0.025719     0.063315           1.000000   \n",
       "publication_weekday     -0.232599   -0.114338     0.142977           0.041517   \n",
       "publication_years       -0.042949    0.107588    -0.052397          -0.863498   \n",
       "rooms                   -0.097630    0.358365     0.964972           0.011846   \n",
       "total_area               0.399755    0.697101     0.839290           0.056168   \n",
       "\n",
       "                     publication_weekday  publication_years     rooms  \\\n",
       "kitchen_area                   -0.232599          -0.042949 -0.097630   \n",
       "last_price                     -0.114338           0.107588  0.358365   \n",
       "living_area                     0.142977          -0.052397  0.964972   \n",
       "publication_monts               0.041517          -0.863498  0.011846   \n",
       "publication_weekday             1.000000          -0.075456  0.190053   \n",
       "publication_years              -0.075456           1.000000  0.003395   \n",
       "rooms                           0.190053           0.003395  1.000000   \n",
       "total_area                      0.017274          -0.019843  0.812280   \n",
       "\n",
       "                     total_area  \n",
       "kitchen_area           0.399755  \n",
       "last_price             0.697101  \n",
       "living_area            0.839290  \n",
       "publication_monts      0.056168  \n",
       "publication_weekday    0.017274  \n",
       "publication_years     -0.019843  \n",
       "rooms                  0.812280  \n",
       "total_area             1.000000  "
      ]
     },
     "execution_count": 57,
     "metadata": {},
     "output_type": "execute_result"
    }
   ],
   "source": [
    "df.pivot_table(index='total_images', values=['last_price','total_area','living_area',\n",
    "                                             'kitchen_area','rooms','publication_weekday',\n",
    "                                             'publication_monts','publication_years']).corr()"
   ]
  },
  {
   "cell_type": "markdown",
   "metadata": {},
   "source": [
    "Корреляция по данным указывает, что цена от общей площади (ровно как и от площади кухни и жилой площади) и количества комат в квартире, в то время как от даты публикации корреляции почти нет.  \n",
    "Проверим этот вывод сравнивая каждый из параметров с ценой квартир."
   ]
  },
  {
   "cell_type": "markdown",
   "metadata": {},
   "source": [
    "### Зависимость цены на квартиру от разных параметров"
   ]
  },
  {
   "cell_type": "markdown",
   "metadata": {},
   "source": [
    "#### Зависимость цены на квартиру от общей площади"
   ]
  },
  {
   "cell_type": "code",
   "execution_count": 58,
   "metadata": {},
   "outputs": [
    {
     "data": {
      "image/png": "[encoded data removed]",
      "text/plain": [
       "<Figure size 432x288 with 1 Axes>"
      ]
     },
     "metadata": {
      "needs_background": "light"
     },
     "output_type": "display_data"
    }
   ],
   "source": [
    "(\n",
    "    df.pivot_table(index='total_area', values='last_price').\n",
    "    query('total_area<100 & last_price<9.000000e+06').\n",
    "    plot(title = 'Зависимость цены на квартиру от общей площади', \n",
    "         xlabel='Общая площадь', \n",
    "         ylabel='Стоимость квартиры', style='o')\n",
    ");\n"
   ]
  },
  {
   "cell_type": "markdown",
   "metadata": {},
   "source": [
    "#### Зависимость цены на квартиру от жилой площади"
   ]
  },
  {
   "cell_type": "code",
   "execution_count": 59,
   "metadata": {},
   "outputs": [
    {
     "data": {
      "image/png": "[encoded data removed]",
      "text/plain": [
       "<Figure size 432x288 with 1 Axes>"
      ]
     },
     "metadata": {
      "needs_background": "light"
     },
     "output_type": "display_data"
    }
   ],
   "source": [
    "(\n",
    "    df.pivot_table(index='living_area', values='last_price').\n",
    "    query('living_area<60 & last_price<9.000000e+06').\n",
    "    plot(title = 'Зависимость цены на квартиру от жилой площади', \n",
    "         xlabel='Жилая площадь', \n",
    "         ylabel='Стоимость квартиры', style='o')\n",
    ");"
   ]
  },
  {
   "cell_type": "markdown",
   "metadata": {},
   "source": [
    "#### Зависимость цены на квартиру от площади кухни"
   ]
  },
  {
   "cell_type": "code",
   "execution_count": 60,
   "metadata": {},
   "outputs": [
    {
     "data": {
      "image/png": "[encoded data removed]",
      "text/plain": [
       "<Figure size 432x288 with 1 Axes>"
      ]
     },
     "metadata": {
      "needs_background": "light"
     },
     "output_type": "display_data"
    }
   ],
   "source": [
    "(\n",
    "    df.pivot_table(index='kitchen_area', values='last_price').\n",
    "    query('kitchen_area<15 & last_price<9.000000e+06').\n",
    "    plot(title = 'Зависимость цены на квартиру от площади кухни', \n",
    "         xlabel='Площадь кухни', \n",
    "         ylabel='Стоимость квартиры', style='o')\n",
    ");"
   ]
  },
  {
   "cell_type": "markdown",
   "metadata": {},
   "source": [
    "#### Зависимость цены на квартиру от количества комнат"
   ]
  },
  {
   "cell_type": "code",
   "execution_count": 61,
   "metadata": {},
   "outputs": [
    {
     "data": {
      "image/png": "[encoded data removed]",
      "text/plain": [
       "<Figure size 432x288 with 1 Axes>"
      ]
     },
     "metadata": {
      "needs_background": "light"
     },
     "output_type": "display_data"
    }
   ],
   "source": [
    "(\n",
    "    df.pivot_table(index='rooms', values='last_price').\n",
    "    query('rooms<6 & last_price<9.000000e+06').\n",
    "    plot(title = 'Зависимость цены на квартиру от количества комнат', \n",
    "         xlabel='Количество комнат', \n",
    "         ylabel='Стоимость квартиры', style='o-')\n",
    ");"
   ]
  },
  {
   "cell_type": "markdown",
   "metadata": {},
   "source": [
    "#### Зависимость цены на квартиру от типа этажа"
   ]
  },
  {
   "cell_type": "code",
   "execution_count": 62,
   "metadata": {},
   "outputs": [
    {
     "data": {
      "image/png": "[encoded data removed]",
      "text/plain": [
       "<Figure size 432x288 with 1 Axes>"
      ]
     },
     "metadata": {
      "needs_background": "light"
     },
     "output_type": "display_data"
    }
   ],
   "source": [
    "(\n",
    "    df.pivot_table(index='floor_type', values='last_price').    \n",
    "    plot(title = 'Зависимость цены на квартиру от типа этажа', \n",
    "         xlabel='Тип этажа', \n",
    "         ylabel='Стоимость квартиры', style='o-')\n",
    ");"
   ]
  },
  {
   "cell_type": "markdown",
   "metadata": {},
   "source": [
    "#### Зависимость цены на квартиру от дня недели"
   ]
  },
  {
   "cell_type": "code",
   "execution_count": 63,
   "metadata": {},
   "outputs": [
    {
     "data": {
      "image/png": "[encoded data removed]",
      "text/plain": [
       "<Figure size 432x288 with 1 Axes>"
      ]
     },
     "metadata": {
      "needs_background": "light"
     },
     "output_type": "display_data"
    }
   ],
   "source": [
    "(\n",
    "    df.pivot_table(index='publication_weekday', values='last_price').\n",
    "    query('last_price<9.000000e+06').\n",
    "    plot(title = 'Зависимость цены на квартиру от дня недели', \n",
    "         xlabel='День недели (0-понедельник, 1-вторник и т.д.)', \n",
    "         ylabel='Стоимость квартиры', style='o-')\n",
    ");"
   ]
  },
  {
   "cell_type": "markdown",
   "metadata": {},
   "source": [
    "#### Зависимость цены на квартиру от месяца"
   ]
  },
  {
   "cell_type": "code",
   "execution_count": 64,
   "metadata": {},
   "outputs": [
    {
     "data": {
      "image/png": "[encoded data removed]",
      "text/plain": [
       "<Figure size 432x288 with 1 Axes>"
      ]
     },
     "metadata": {
      "needs_background": "light"
     },
     "output_type": "display_data"
    }
   ],
   "source": [
    "(\n",
    "    df.pivot_table(index='publication_monts', values='last_price').\n",
    "    query('last_price<9.000000e+06').\n",
    "    plot(title = 'Зависимость цены на квартиру от месяца', \n",
    "         xlabel='Месяц', \n",
    "         ylabel='Стоимость квартиры', style='o-')\n",
    ");"
   ]
  },
  {
   "cell_type": "markdown",
   "metadata": {},
   "source": [
    "#### Зависимость цены на квартиру от года"
   ]
  },
  {
   "cell_type": "code",
   "execution_count": 65,
   "metadata": {},
   "outputs": [
    {
     "data": {
      "image/png": "[encoded data removed]",
      "text/plain": [
       "<Figure size 432x288 with 1 Axes>"
      ]
     },
     "metadata": {
      "needs_background": "light"
     },
     "output_type": "display_data"
    }
   ],
   "source": [
    "(\n",
    "    df.pivot_table(index='publication_years', values='last_price').\n",
    "    query('last_price<9.000000e+06').\n",
    "    plot(title = 'Зависимость цены на квартиру от года', \n",
    "         xlabel='Год', \n",
    "         ylabel='Стоимость квартиры', style='o-')\n",
    ")\n",
    "plt.xticks(range(2015, 2020));"
   ]
  },
  {
   "cell_type": "markdown",
   "metadata": {},
   "source": [
    "Предварительный вывод подствердился. Чем больше площадь (а так же кухни и жилой зоны) и больше комнат в квартире тем выше цена. День, месяц и год публикации квартиры никаким образом не сказываются на цене квартиры.  \n",
    "На первых и последних этажах в среднем цены ниже, чем на остальных этажах."
   ]
  },
  {
   "cell_type": "markdown",
   "metadata": {},
   "source": [
    "### Посчитайте среднюю цену одного квадратного метра в 10 населённых пунктах с наибольшим числом объявлений"
   ]
  },
  {
   "cell_type": "code",
   "execution_count": 66,
   "metadata": {},
   "outputs": [
    {
     "data": {
      "text/html": [
       "<div>\n",
       "<style scoped>\n",
       "    .dataframe tbody tr th:only-of-type {\n",
       "        vertical-align: middle;\n",
       "    }\n",
       "\n",
       "    .dataframe tbody tr th {\n",
       "        vertical-align: top;\n",
       "    }\n",
       "\n",
       "    .dataframe thead th {\n",
       "        text-align: right;\n",
       "    }\n",
       "</style>\n",
       "<table border=\"1\" class=\"dataframe\">\n",
       "  <thead>\n",
       "    <tr style=\"text-align: right;\">\n",
       "      <th></th>\n",
       "      <th>count</th>\n",
       "      <th>squire_meter_price</th>\n",
       "    </tr>\n",
       "    <tr>\n",
       "      <th>locality_name</th>\n",
       "      <th></th>\n",
       "      <th></th>\n",
       "    </tr>\n",
       "  </thead>\n",
       "  <tbody>\n",
       "    <tr>\n",
       "      <th>санкт-петербург</th>\n",
       "      <td>13737</td>\n",
       "      <td>105425.27</td>\n",
       "    </tr>\n",
       "    <tr>\n",
       "      <th>мурино</th>\n",
       "      <td>590</td>\n",
       "      <td>86087.51</td>\n",
       "    </tr>\n",
       "    <tr>\n",
       "      <th>кудрово</th>\n",
       "      <td>470</td>\n",
       "      <td>95152.07</td>\n",
       "    </tr>\n",
       "    <tr>\n",
       "      <th>шушары</th>\n",
       "      <td>440</td>\n",
       "      <td>78677.36</td>\n",
       "    </tr>\n",
       "    <tr>\n",
       "      <th>всеволожск</th>\n",
       "      <td>397</td>\n",
       "      <td>67214.25</td>\n",
       "    </tr>\n",
       "    <tr>\n",
       "      <th>пушкин</th>\n",
       "      <td>338</td>\n",
       "      <td>100290.60</td>\n",
       "    </tr>\n",
       "    <tr>\n",
       "      <th>колпино</th>\n",
       "      <td>336</td>\n",
       "      <td>75185.48</td>\n",
       "    </tr>\n",
       "    <tr>\n",
       "      <th>парголово</th>\n",
       "      <td>327</td>\n",
       "      <td>90175.91</td>\n",
       "    </tr>\n",
       "    <tr>\n",
       "      <th>гатчина</th>\n",
       "      <td>305</td>\n",
       "      <td>68421.90</td>\n",
       "    </tr>\n",
       "    <tr>\n",
       "      <th>выборг</th>\n",
       "      <td>236</td>\n",
       "      <td>57932.88</td>\n",
       "    </tr>\n",
       "  </tbody>\n",
       "</table>\n",
       "</div>"
      ],
      "text/plain": [
       "                 count  squire_meter_price\n",
       "locality_name                             \n",
       "санкт-петербург  13737           105425.27\n",
       "мурино             590            86087.51\n",
       "кудрово            470            95152.07\n",
       "шушары             440            78677.36\n",
       "всеволожск         397            67214.25\n",
       "пушкин             338           100290.60\n",
       "колпино            336            75185.48\n",
       "парголово          327            90175.91\n",
       "гатчина            305            68421.90\n",
       "выборг             236            57932.88"
      ]
     },
     "execution_count": 66,
     "metadata": {},
     "output_type": "execute_result"
    }
   ],
   "source": [
    "local_name = df.pivot_table(index='locality_name', \n",
    "                            values='last_price', \n",
    "                            aggfunc='count').sort_values(by='last_price', ascending=False)\n",
    "local_name.columns = ['count']\n",
    "local_name['squire_meter_price'] = df.pivot_table(index='locality_name', values='squire_meter_price').round(2)\n",
    "local_name.head(10)"
   ]
  },
  {
   "cell_type": "markdown",
   "metadata": {},
   "source": [
    "__Вывод__\n",
    "\n",
    "Наибольшая стоимость квартир в Санкт-Петербурге, далее идет Мурино и Кудрово. Скорее всего это связано с хорошей инфраструктурой в этих районах и большим количеством парков и прудов. В конце списка Выборг, Гатчина и Парголово, которые находятся на большом удалении от крупных городов и имеют низкое население и менее развитую инфраструктуру в сравнении с лидерами по продажи квартир."
   ]
  },
  {
   "cell_type": "markdown",
   "metadata": {},
   "source": [
    "### Выделите квартиры в Санкт-Петербурге с помощью столбца locality_name и вычислите их среднюю стоимость на разном удалении от центра"
   ]
  },
  {
   "cell_type": "code",
   "execution_count": 67,
   "metadata": {},
   "outputs": [
    {
     "data": {
      "text/plain": [
       "count    13695.000000\n",
       "mean        12.231471\n",
       "std          4.599597\n",
       "min          0.000000\n",
       "25%         10.000000\n",
       "50%         13.000000\n",
       "75%         15.000000\n",
       "max         29.000000\n",
       "Name: center_distance, dtype: float64"
      ]
     },
     "execution_count": 67,
     "metadata": {},
     "output_type": "execute_result"
    }
   ],
   "source": [
    "df.query('locality_name == \"санкт-петербург\"')['center_distance'].describe()"
   ]
  },
  {
   "cell_type": "code",
   "execution_count": 68,
   "metadata": {},
   "outputs": [
    {
     "data": {
      "image/png": "[encoded data removed]",
      "text/plain": [
       "<Figure size 720x360 with 1 Axes>"
      ]
     },
     "metadata": {
      "needs_background": "light"
     },
     "output_type": "display_data"
    },
    {
     "data": {
      "text/html": [
       "<div>\n",
       "<style scoped>\n",
       "    .dataframe tbody tr th:only-of-type {\n",
       "        vertical-align: middle;\n",
       "    }\n",
       "\n",
       "    .dataframe tbody tr th {\n",
       "        vertical-align: top;\n",
       "    }\n",
       "\n",
       "    .dataframe thead th {\n",
       "        text-align: right;\n",
       "    }\n",
       "</style>\n",
       "<table border=\"1\" class=\"dataframe\">\n",
       "  <thead>\n",
       "    <tr style=\"text-align: right;\">\n",
       "      <th></th>\n",
       "      <th>last_price</th>\n",
       "    </tr>\n",
       "    <tr>\n",
       "      <th>center_distance</th>\n",
       "      <th></th>\n",
       "    </tr>\n",
       "  </thead>\n",
       "  <tbody>\n",
       "    <tr>\n",
       "      <th>0.0</th>\n",
       "      <td>8,398,000.0</td>\n",
       "    </tr>\n",
       "    <tr>\n",
       "      <th>1.0</th>\n",
       "      <td>8,145,277.2</td>\n",
       "    </tr>\n",
       "    <tr>\n",
       "      <th>2.0</th>\n",
       "      <td>7,970,519.3</td>\n",
       "    </tr>\n",
       "    <tr>\n",
       "      <th>3.0</th>\n",
       "      <td>7,346,575.4</td>\n",
       "    </tr>\n",
       "    <tr>\n",
       "      <th>4.0</th>\n",
       "      <td>7,606,618.3</td>\n",
       "    </tr>\n",
       "    <tr>\n",
       "      <th>5.0</th>\n",
       "      <td>7,661,224.9</td>\n",
       "    </tr>\n",
       "    <tr>\n",
       "      <th>6.0</th>\n",
       "      <td>7,108,233.8</td>\n",
       "    </tr>\n",
       "    <tr>\n",
       "      <th>7.0</th>\n",
       "      <td>6,635,321.1</td>\n",
       "    </tr>\n",
       "    <tr>\n",
       "      <th>8.0</th>\n",
       "      <td>6,617,244.4</td>\n",
       "    </tr>\n",
       "    <tr>\n",
       "      <th>9.0</th>\n",
       "      <td>5,516,021.6</td>\n",
       "    </tr>\n",
       "    <tr>\n",
       "      <th>10.0</th>\n",
       "      <td>5,426,308.6</td>\n",
       "    </tr>\n",
       "    <tr>\n",
       "      <th>11.0</th>\n",
       "      <td>5,316,968.0</td>\n",
       "    </tr>\n",
       "    <tr>\n",
       "      <th>12.0</th>\n",
       "      <td>5,287,691.7</td>\n",
       "    </tr>\n",
       "    <tr>\n",
       "      <th>13.0</th>\n",
       "      <td>5,509,984.4</td>\n",
       "    </tr>\n",
       "    <tr>\n",
       "      <th>14.0</th>\n",
       "      <td>5,269,605.4</td>\n",
       "    </tr>\n",
       "    <tr>\n",
       "      <th>15.0</th>\n",
       "      <td>5,292,484.6</td>\n",
       "    </tr>\n",
       "    <tr>\n",
       "      <th>16.0</th>\n",
       "      <td>5,097,523.0</td>\n",
       "    </tr>\n",
       "    <tr>\n",
       "      <th>17.0</th>\n",
       "      <td>4,863,588.7</td>\n",
       "    </tr>\n",
       "    <tr>\n",
       "      <th>18.0</th>\n",
       "      <td>4,707,131.8</td>\n",
       "    </tr>\n",
       "    <tr>\n",
       "      <th>19.0</th>\n",
       "      <td>4,809,313.5</td>\n",
       "    </tr>\n",
       "  </tbody>\n",
       "</table>\n",
       "</div>"
      ],
      "text/plain": [
       "                 last_price\n",
       "center_distance            \n",
       "0.0             8,398,000.0\n",
       "1.0             8,145,277.2\n",
       "2.0             7,970,519.3\n",
       "3.0             7,346,575.4\n",
       "4.0             7,606,618.3\n",
       "5.0             7,661,224.9\n",
       "6.0             7,108,233.8\n",
       "7.0             6,635,321.1\n",
       "8.0             6,617,244.4\n",
       "9.0             5,516,021.6\n",
       "10.0            5,426,308.6\n",
       "11.0            5,316,968.0\n",
       "12.0            5,287,691.7\n",
       "13.0            5,509,984.4\n",
       "14.0            5,269,605.4\n",
       "15.0            5,292,484.6\n",
       "16.0            5,097,523.0\n",
       "17.0            4,863,588.7\n",
       "18.0            4,707,131.8\n",
       "19.0            4,809,313.5"
      ]
     },
     "execution_count": 68,
     "metadata": {},
     "output_type": "execute_result"
    }
   ],
   "source": [
    "(\n",
    "    df.query('locality_name == \"санкт-петербург\" & last_price<8.000000e+06 & center_distance<19')\n",
    "    .pivot_table(index='center_distance', values='last_price')\n",
    "    .plot(grid=True, style='o-', figsize=(10,5))\n",
    ")\n",
    "\n",
    "plt.title('Зависимость цены на квартиры от удаления от центра города')\n",
    "plt.xlabel('Расстояние от центра города в км')\n",
    "plt.ylabel('Цена квартир')\n",
    "plt.show()\n",
    "pd.options.display.float_format = '{:,.1f}'.format\n",
    "(\n",
    "    df.query('locality_name == \"санкт-петербург\" & center_distance<20').\n",
    "    pivot_table(index='center_distance', values='last_price')\n",
    "    \n",
    ")\n"
   ]
  },
  {
   "cell_type": "markdown",
   "metadata": {},
   "source": [
    "__Вывод__\n",
    "\n",
    "Самая высокая стоимость квартир в центре и их стоимость уменьшается с увеличением расстояния."
   ]
  },
  {
   "cell_type": "markdown",
   "metadata": {
    "id": "h7VpzkIDAwb-"
   },
   "source": [
    "## Напишите общий вывод"
   ]
  },
  {
   "cell_type": "markdown",
   "metadata": {
    "id": "3H4lnp_KAwb-"
   },
   "source": [
    "В процессе исследования объявлений о продаже квартир были выполнены следующие этапы и сделаны выводы по ним:\n",
    "\n",
    "1. Всего в таблице 23699 записей. Почти во всех столбцах встречаются пустые значения. В некоторых столбцах указан неверный тип данных.\n",
    "2. В ходе выполнения предобработки были найдены и заполнены пустные значения в следующих столбцах:\n",
    "        * Сelling_height - высота потолков. Пустые значения были заполнены медиальными.\n",
    "        * floors_total - общее количество этажей в доме. Так же были заполнены медиальными значениями.\n",
    "        * is_apartment - тип квартиры. Помимо пропущенных значений столбец так же содержит значения true и false. Скорее всего пустые значения указывают на то, что квартиры не являются апартаментами, значит заполним их как false.\n",
    "        * kitchen_area - площадь кухни. При проверке выяснилось что нет никакой зависимости этой величины от других. Скорее всего это связано с тем что в квартирах нет четко выделенной площади кухни. Пустые значения было принято заполнить нулями.\n",
    "        * balcony - былконы. Пустные значения скорее всего не заполнили из-за того что в квартирах нет балконов. Пустые значения были заполнены нулями.\n",
    "        * locality_name - место где находится квартира. Из-за того что точно неизвестно где располагается квартира было принято регение заполнить пустные значение как unknown.\n",
    "        * parks_around3000 и ponds_around3000 это количество парков и пркдов сообтветственно. Скорее всего пустые значения появились из-за того что в радиусе 3 км от квартиры нет ни парков, ни прудов. Пустные значения были заполнены нулями.\n",
    "    Некоторые данные пришлось оставить без изменений:\n",
    "        * living_area - жилая площадь. Так как жилая площадь это общая площадь квартиры без учета нежилых зон (балкона, кухни, коридора и т.п) было принято решение оставить все значения без изменений чтобы избежать искажения данных.\n",
    "        * airports_nearest, city_centers_nearest, parks_nearest и ponds_nearest. Скорее всего пустые данные указывают на слишком большое удаление от того или инного места. Чтобы избежать искажения данных было принято решение оставить столбцы без изменений.\n",
    "        * days_exposition - количество дней в продаже. Скорее всего пустые значения указывают на то, что квартира еще не продана, поэтому было принято решение оставить все как есть.\n",
    "    Причиной пропусков могли стать человеческий фактор или несовершенность програмной оболочки (не все поля обязательные или нет проверки введенных данных).  \n",
    "    Также кроме заполнения пропусков были изменены типы данных в некоторых столбцах для более удобной работы с даннымии переименован столбец cityCenters_nearest в city_centers_nearest.  \n",
    "    Были устраныне неявные дубликаты в названиях населенных пунктов (locality_name). \n",
    "    \n",
    "    \n",
    "3. Добавлены новые столбцы в таблицу:\n",
    "        * squire_meter_price - цена квадратного метра.\n",
    "        * publication_weekday - день публикации.\n",
    "        * publication_monts - месяц публикации.\n",
    "        * publication_years - год публикации.\n",
    "        * floor_type - тип этажа (\"первый\", \"другой\", \"последний\").\n",
    "        * center_distance - расстояние от центра города в километрах.\n",
    "4. Проведен исследовательский анализ данных:  \n",
    "\n",
    "    4.1. Изучены и описаны зависимости количества квартир от разных параметров:\n",
    "        * Самое большое количество предложений квартир на рынке по общей жилой площади от 30 до 62 кв.м. Максимальное количество предложений - 42 кв.м.\n",
    "        * Больше всего продают квартир с жилой площадью от 15 до 30 кв.м., при этом прослеживается спад в зоне 23-24 кв.м.\n",
    "        * Больше всего предложений по размеру кухни 6 и 10 кв.м., при этом заметны всплески на всех целых значениях от 6 до 12 кв.м.\n",
    "        * Больше всего однокомнатных квартир на рынке. С по вышением количества комнат предложений меньше.\n",
    "        * Чаще квартиры продаются по цене от 2.5 до 6 млн. рублей с пиком в 4.2 млн.\n",
    "        * Подавляющее большинство квартир имеет потолки высотой 2.6 метра.\n",
    "        * На рынке меньше всего квартир расположенных на первом этаже, чуть больше квартир расположенных на последнем этаже. Квартиры расположенные между перым и последним этажами занимают 75% рынка.\n",
    "        * Больше всего предложений в пятиэтажных домах. \n",
    "        * Больше всего квартир находятся в 10-17 км от центра города.\n",
    "        * Расстояние до парков никак не влияет на количество продаваемых квартир.\n",
    "    4.2. Изучено как быстро продавались квартиры:\n",
    "        * Среднее время проажи квартир - 180 дней, в то время как медиальное - 95, что является для нас более показательно, потому что менее подвержено выбросам и нестандартным значениям. \n",
    "        * Среднее время продажи квартир 3 месяца. Быстрыми можно считать продажи состоявшиеся за 45 дней, долгими в свою очередь можно назвать квартиры, которые стоят в продаже больше 232 дней. \n",
    "    4.3. Определены факторы влияющие на цену квартир:\n",
    "        * Чем выше общая площадь квартиры, а так же количество комнат, тем выше её цена.\n",
    "        * Чем выше квартира в доме, тем больше она стоит. Квартиры на 1 этаже имеют наименьшую стоимость, в то время как квартиры на последнем этаже наоборот самую большую.\n",
    "    4.4. Посчитана цена квадратного метра в 10 населенных пунктах с наибольшим количеством объявлений:\n",
    "        * Наибольшая стоимость квартир в Санкт-Петербурге, далее идет Мурино и Кудрово. Скорее всего это связано с хорошей инфраструктурой в этих районах и большим количеством парков и прудов. В конце списка Выборг, Гатчина и Парголово, которые находятся на большом удалении от крупных городов и имеют низкое население и менее развитую инфраструктуру в сравнении с лидерами по продажи квартир.\n",
    "    4.5. Вычислена средняя стоимость квартиры на разном удалении от центра Санкт-Петербурга:\n",
    "        * Самая высокая стоимость квартир в центре и их стоимость уменьшается с увеличением расстояния.\n",
    "        \n",
    "    "
   ]
  }
 ],
 "metadata": {
  "ExecuteTimeLog": [
   {
    "duration": 377,
    "start_time": "2024-04-03T10:05:43.380Z"
   },
   {
    "duration": 380,
    "start_time": "2024-04-03T10:06:22.924Z"
   },
   {
    "duration": 66,
    "start_time": "2024-04-03T10:08:58.550Z"
   },
   {
    "duration": 263,
    "start_time": "2024-04-03T10:09:10.405Z"
   },
   {
    "duration": 11,
    "start_time": "2024-04-03T10:09:43.802Z"
   },
   {
    "duration": 11,
    "start_time": "2024-04-03T10:09:55.531Z"
   },
   {
    "duration": 7,
    "start_time": "2024-04-03T10:10:15.937Z"
   },
   {
    "duration": 86,
    "start_time": "2024-04-03T10:10:20.961Z"
   },
   {
    "duration": 20,
    "start_time": "2024-04-03T10:10:23.012Z"
   },
   {
    "duration": 12,
    "start_time": "2024-04-03T10:10:38.145Z"
   },
   {
    "duration": 20,
    "start_time": "2024-04-03T10:12:53.282Z"
   },
   {
    "duration": 30,
    "start_time": "2024-04-03T10:14:36.166Z"
   },
   {
    "duration": 11,
    "start_time": "2024-04-03T10:14:38.549Z"
   },
   {
    "duration": 1015,
    "start_time": "2024-04-03T10:19:51.026Z"
   },
   {
    "duration": 1106,
    "start_time": "2024-04-03T10:20:13.702Z"
   },
   {
    "duration": 1473,
    "start_time": "2024-04-03T10:20:27.296Z"
   },
   {
    "duration": 8,
    "start_time": "2024-04-03T10:26:24.400Z"
   },
   {
    "duration": 86,
    "start_time": "2024-04-03T10:28:45.970Z"
   },
   {
    "duration": 90,
    "start_time": "2024-04-03T10:28:52.306Z"
   },
   {
    "duration": 14,
    "start_time": "2024-04-03T10:29:15.745Z"
   },
   {
    "duration": 19,
    "start_time": "2024-04-03T10:29:26.081Z"
   },
   {
    "duration": 1412,
    "start_time": "2024-04-03T10:36:00.931Z"
   },
   {
    "duration": 1314,
    "start_time": "2024-04-03T10:36:10.781Z"
   },
   {
    "duration": 4,
    "start_time": "2024-04-03T10:36:18.973Z"
   },
   {
    "duration": 6,
    "start_time": "2024-04-03T10:37:27.361Z"
   },
   {
    "duration": 11,
    "start_time": "2024-04-03T10:37:44.840Z"
   },
   {
    "duration": 7,
    "start_time": "2024-04-03T10:38:01.794Z"
   },
   {
    "duration": 7,
    "start_time": "2024-04-03T10:38:11.296Z"
   },
   {
    "duration": 8,
    "start_time": "2024-04-03T10:38:19.359Z"
   },
   {
    "duration": 8,
    "start_time": "2024-04-03T10:38:22.974Z"
   },
   {
    "duration": 12,
    "start_time": "2024-04-03T10:38:27.878Z"
   },
   {
    "duration": 9,
    "start_time": "2024-04-03T10:46:18.961Z"
   },
   {
    "duration": 8,
    "start_time": "2024-04-03T10:46:52.350Z"
   },
   {
    "duration": 8,
    "start_time": "2024-04-03T10:47:55.736Z"
   },
   {
    "duration": 3,
    "start_time": "2024-04-03T11:00:46.040Z"
   },
   {
    "duration": 6,
    "start_time": "2024-04-03T11:01:56.861Z"
   },
   {
    "duration": 8,
    "start_time": "2024-04-03T11:02:10.404Z"
   },
   {
    "duration": 8,
    "start_time": "2024-04-03T11:02:19.203Z"
   },
   {
    "duration": 8,
    "start_time": "2024-04-03T11:02:41.250Z"
   },
   {
    "duration": 4,
    "start_time": "2024-04-03T11:03:56.758Z"
   },
   {
    "duration": 6,
    "start_time": "2024-04-03T11:04:02.110Z"
   },
   {
    "duration": 18,
    "start_time": "2024-04-03T11:04:09.982Z"
   },
   {
    "duration": 6,
    "start_time": "2024-04-03T11:04:41.460Z"
   },
   {
    "duration": 23,
    "start_time": "2024-04-03T11:19:29.077Z"
   },
   {
    "duration": 87,
    "start_time": "2024-04-03T11:24:34.228Z"
   },
   {
    "duration": 9,
    "start_time": "2024-04-03T11:24:56.564Z"
   },
   {
    "duration": 12,
    "start_time": "2024-04-03T11:25:25.858Z"
   },
   {
    "duration": 83,
    "start_time": "2024-04-03T11:26:17.576Z"
   },
   {
    "duration": 1225,
    "start_time": "2024-04-03T11:29:37.519Z"
   },
   {
    "duration": 4,
    "start_time": "2024-04-03T11:29:49.745Z"
   },
   {
    "duration": 5,
    "start_time": "2024-04-03T11:30:10.341Z"
   },
   {
    "duration": 5,
    "start_time": "2024-04-03T11:31:17.041Z"
   },
   {
    "duration": 15,
    "start_time": "2024-04-03T11:32:54.013Z"
   },
   {
    "duration": 9,
    "start_time": "2024-04-03T11:32:58.284Z"
   },
   {
    "duration": 6,
    "start_time": "2024-04-03T11:33:51.433Z"
   },
   {
    "duration": 8,
    "start_time": "2024-04-03T11:33:57.305Z"
   },
   {
    "duration": 5,
    "start_time": "2024-04-03T11:34:10.809Z"
   },
   {
    "duration": 15,
    "start_time": "2024-04-03T11:34:24.383Z"
   },
   {
    "duration": 12,
    "start_time": "2024-04-03T11:34:41.310Z"
   },
   {
    "duration": 15,
    "start_time": "2024-04-03T11:36:18.010Z"
   },
   {
    "duration": 3,
    "start_time": "2024-04-03T11:36:23.937Z"
   },
   {
    "duration": 5,
    "start_time": "2024-04-03T11:36:36.849Z"
   },
   {
    "duration": 3,
    "start_time": "2024-04-03T11:36:40.744Z"
   },
   {
    "duration": 4,
    "start_time": "2024-04-03T11:40:47.197Z"
   },
   {
    "duration": 5,
    "start_time": "2024-04-03T11:41:23.892Z"
   },
   {
    "duration": 5,
    "start_time": "2024-04-03T11:42:49.312Z"
   },
   {
    "duration": 7,
    "start_time": "2024-04-03T11:50:38.593Z"
   },
   {
    "duration": 8,
    "start_time": "2024-04-03T11:52:59.626Z"
   },
   {
    "duration": 7,
    "start_time": "2024-04-03T11:53:13.233Z"
   },
   {
    "duration": 92,
    "start_time": "2024-04-03T11:53:20.890Z"
   },
   {
    "duration": 91,
    "start_time": "2024-04-03T11:53:27.744Z"
   },
   {
    "duration": 5,
    "start_time": "2024-04-03T11:54:04.711Z"
   },
   {
    "duration": 7,
    "start_time": "2024-04-03T11:54:13.343Z"
   },
   {
    "duration": 2,
    "start_time": "2024-04-03T11:57:03.863Z"
   },
   {
    "duration": 85,
    "start_time": "2024-04-03T11:57:05.054Z"
   },
   {
    "duration": 25,
    "start_time": "2024-04-03T11:57:05.783Z"
   },
   {
    "duration": 12,
    "start_time": "2024-04-03T11:57:07.742Z"
   },
   {
    "duration": 1420,
    "start_time": "2024-04-03T11:57:08.902Z"
   },
   {
    "duration": 101,
    "start_time": "2024-04-03T11:57:19.990Z"
   },
   {
    "duration": 8,
    "start_time": "2024-04-03T11:57:21.830Z"
   },
   {
    "duration": 13,
    "start_time": "2024-04-03T11:57:25.190Z"
   },
   {
    "duration": 4,
    "start_time": "2024-04-03T11:57:27.629Z"
   },
   {
    "duration": 8,
    "start_time": "2024-04-03T11:57:32.701Z"
   },
   {
    "duration": 11,
    "start_time": "2024-04-03T11:57:35.292Z"
   },
   {
    "duration": 10,
    "start_time": "2024-04-03T11:57:57.724Z"
   },
   {
    "duration": 9,
    "start_time": "2024-04-03T11:58:21.060Z"
   },
   {
    "duration": 9,
    "start_time": "2024-04-03T11:58:21.763Z"
   },
   {
    "duration": 4,
    "start_time": "2024-04-03T11:58:25.723Z"
   },
   {
    "duration": 3,
    "start_time": "2024-04-03T11:58:30.940Z"
   },
   {
    "duration": 3,
    "start_time": "2024-04-03T11:58:36.090Z"
   },
   {
    "duration": 9,
    "start_time": "2024-04-03T12:02:07.753Z"
   },
   {
    "duration": 9,
    "start_time": "2024-04-03T12:07:28.321Z"
   },
   {
    "duration": 3,
    "start_time": "2024-04-03T12:08:14.199Z"
   },
   {
    "duration": 7,
    "start_time": "2024-04-03T12:08:34.623Z"
   },
   {
    "duration": 5,
    "start_time": "2024-04-03T12:08:39.078Z"
   },
   {
    "duration": 2,
    "start_time": "2024-04-03T12:10:08.922Z"
   },
   {
    "duration": 81,
    "start_time": "2024-04-03T12:10:09.825Z"
   },
   {
    "duration": 23,
    "start_time": "2024-04-03T12:10:11.812Z"
   },
   {
    "duration": 30,
    "start_time": "2024-04-03T12:10:19.883Z"
   },
   {
    "duration": 5,
    "start_time": "2024-04-03T12:10:59.489Z"
   },
   {
    "duration": 22,
    "start_time": "2024-04-03T12:11:13.695Z"
   },
   {
    "duration": 7,
    "start_time": "2024-04-03T12:11:25.350Z"
   },
   {
    "duration": 6,
    "start_time": "2024-04-03T12:11:33.926Z"
   },
   {
    "duration": 3,
    "start_time": "2024-04-03T12:11:40.253Z"
   },
   {
    "duration": 9,
    "start_time": "2024-04-03T12:12:16.453Z"
   },
   {
    "duration": 51,
    "start_time": "2024-04-03T12:18:58.865Z"
   },
   {
    "duration": 35,
    "start_time": "2024-04-03T12:19:16.906Z"
   },
   {
    "duration": 34,
    "start_time": "2024-04-03T12:19:29.543Z"
   },
   {
    "duration": 4,
    "start_time": "2024-04-03T12:22:33.111Z"
   },
   {
    "duration": 3,
    "start_time": "2024-04-03T12:22:44.390Z"
   },
   {
    "duration": 36,
    "start_time": "2024-04-03T12:24:56.599Z"
   },
   {
    "duration": 3,
    "start_time": "2024-04-03T12:26:38.380Z"
   },
   {
    "duration": 3,
    "start_time": "2024-04-03T12:29:00.136Z"
   },
   {
    "duration": 8,
    "start_time": "2024-04-03T12:40:47.346Z"
   },
   {
    "duration": 4,
    "start_time": "2024-04-03T12:46:39.578Z"
   },
   {
    "duration": 3,
    "start_time": "2024-04-03T12:47:52.214Z"
   },
   {
    "duration": 11,
    "start_time": "2024-04-03T12:52:50.215Z"
   },
   {
    "duration": 18,
    "start_time": "2024-04-03T12:55:27.528Z"
   },
   {
    "duration": 14,
    "start_time": "2024-04-03T12:55:55.375Z"
   },
   {
    "duration": 92,
    "start_time": "2024-04-03T13:05:37.246Z"
   },
   {
    "duration": 12,
    "start_time": "2024-04-03T13:05:49.758Z"
   },
   {
    "duration": 168,
    "start_time": "2024-04-03T13:06:05.453Z"
   },
   {
    "duration": 14,
    "start_time": "2024-04-03T13:06:16.197Z"
   },
   {
    "duration": 16,
    "start_time": "2024-04-03T13:06:35.494Z"
   },
   {
    "duration": 15,
    "start_time": "2024-04-03T13:07:29.810Z"
   },
   {
    "duration": 15,
    "start_time": "2024-04-03T13:07:40.250Z"
   },
   {
    "duration": 19,
    "start_time": "2024-04-03T13:07:56.186Z"
   },
   {
    "duration": 2,
    "start_time": "2024-04-03T13:08:31.591Z"
   },
   {
    "duration": 79,
    "start_time": "2024-04-03T13:08:31.911Z"
   },
   {
    "duration": 23,
    "start_time": "2024-04-03T13:08:33.849Z"
   },
   {
    "duration": 12,
    "start_time": "2024-04-03T13:08:33.999Z"
   },
   {
    "duration": 1447,
    "start_time": "2024-04-03T13:08:34.159Z"
   },
   {
    "duration": 7,
    "start_time": "2024-04-03T13:08:35.608Z"
   },
   {
    "duration": 15,
    "start_time": "2024-04-03T13:08:35.617Z"
   },
   {
    "duration": 7,
    "start_time": "2024-04-03T13:08:35.634Z"
   },
   {
    "duration": 22,
    "start_time": "2024-04-03T13:08:35.642Z"
   },
   {
    "duration": 3,
    "start_time": "2024-04-03T13:08:37.033Z"
   },
   {
    "duration": 5,
    "start_time": "2024-04-03T13:08:37.343Z"
   },
   {
    "duration": 33,
    "start_time": "2024-04-03T13:08:37.671Z"
   },
   {
    "duration": 3,
    "start_time": "2024-04-03T13:08:38.007Z"
   },
   {
    "duration": 35,
    "start_time": "2024-04-03T13:08:38.391Z"
   },
   {
    "duration": 3,
    "start_time": "2024-04-03T13:08:38.831Z"
   },
   {
    "duration": 7,
    "start_time": "2024-04-03T13:08:40.105Z"
   },
   {
    "duration": 4,
    "start_time": "2024-04-03T13:08:42.807Z"
   },
   {
    "duration": 3,
    "start_time": "2024-04-03T13:08:44.054Z"
   },
   {
    "duration": 4,
    "start_time": "2024-04-03T13:08:44.678Z"
   },
   {
    "duration": 6,
    "start_time": "2024-04-03T13:08:45.383Z"
   },
   {
    "duration": 4,
    "start_time": "2024-04-03T13:08:45.951Z"
   },
   {
    "duration": 3,
    "start_time": "2024-04-03T13:08:46.375Z"
   },
   {
    "duration": 17,
    "start_time": "2024-04-03T13:08:47.231Z"
   },
   {
    "duration": 15,
    "start_time": "2024-04-03T13:08:49.006Z"
   },
   {
    "duration": 15,
    "start_time": "2024-04-03T13:09:26.365Z"
   },
   {
    "duration": 114,
    "start_time": "2024-04-03T13:09:49.333Z"
   },
   {
    "duration": 139,
    "start_time": "2024-04-03T13:10:04.629Z"
   },
   {
    "duration": 151,
    "start_time": "2024-04-03T13:10:18.772Z"
   },
   {
    "duration": 182,
    "start_time": "2024-04-03T13:11:52.864Z"
   },
   {
    "duration": 172,
    "start_time": "2024-04-03T13:12:01.239Z"
   },
   {
    "duration": 183,
    "start_time": "2024-04-03T13:12:05.345Z"
   },
   {
    "duration": 208,
    "start_time": "2024-04-03T13:12:34.590Z"
   },
   {
    "duration": 214,
    "start_time": "2024-04-03T13:12:54.255Z"
   },
   {
    "duration": 206,
    "start_time": "2024-04-03T13:13:05.089Z"
   },
   {
    "duration": 3,
    "start_time": "2024-04-03T13:13:22.357Z"
   },
   {
    "duration": 82,
    "start_time": "2024-04-03T13:13:23.852Z"
   },
   {
    "duration": 202,
    "start_time": "2024-04-03T13:14:19.946Z"
   },
   {
    "duration": 17,
    "start_time": "2024-04-03T13:14:34.425Z"
   },
   {
    "duration": 14,
    "start_time": "2024-04-03T13:14:37.922Z"
   },
   {
    "duration": 203,
    "start_time": "2024-04-03T13:14:40.729Z"
   },
   {
    "duration": 199,
    "start_time": "2024-04-03T13:15:02.953Z"
   },
   {
    "duration": 61,
    "start_time": "2024-04-05T04:53:29.451Z"
   },
   {
    "duration": 897,
    "start_time": "2024-04-05T04:53:36.792Z"
   },
   {
    "duration": 303,
    "start_time": "2024-04-05T04:53:37.692Z"
   },
   {
    "duration": 34,
    "start_time": "2024-04-05T04:53:37.997Z"
   },
   {
    "duration": 16,
    "start_time": "2024-04-05T04:53:38.033Z"
   },
   {
    "duration": 1999,
    "start_time": "2024-04-05T04:53:38.050Z"
   },
   {
    "duration": 10,
    "start_time": "2024-04-05T04:53:40.051Z"
   },
   {
    "duration": 35,
    "start_time": "2024-04-05T04:53:40.063Z"
   },
   {
    "duration": 13,
    "start_time": "2024-04-05T04:53:40.099Z"
   },
   {
    "duration": 22,
    "start_time": "2024-04-05T04:53:40.114Z"
   },
   {
    "duration": 4,
    "start_time": "2024-04-05T04:53:40.139Z"
   },
   {
    "duration": 12,
    "start_time": "2024-04-05T04:53:40.145Z"
   },
   {
    "duration": 51,
    "start_time": "2024-04-05T04:53:40.159Z"
   },
   {
    "duration": 4,
    "start_time": "2024-04-05T04:53:40.211Z"
   },
   {
    "duration": 40,
    "start_time": "2024-04-05T04:53:40.216Z"
   },
   {
    "duration": 15,
    "start_time": "2024-04-05T04:53:40.257Z"
   },
   {
    "duration": 17,
    "start_time": "2024-04-05T04:53:40.275Z"
   },
   {
    "duration": 4,
    "start_time": "2024-04-05T04:53:40.295Z"
   },
   {
    "duration": 6,
    "start_time": "2024-04-05T04:53:40.301Z"
   },
   {
    "duration": 5,
    "start_time": "2024-04-05T04:53:40.309Z"
   },
   {
    "duration": 10,
    "start_time": "2024-04-05T04:53:40.316Z"
   },
   {
    "duration": 8,
    "start_time": "2024-04-05T04:53:40.327Z"
   },
   {
    "duration": 34,
    "start_time": "2024-04-05T04:53:40.336Z"
   },
   {
    "duration": 41,
    "start_time": "2024-04-05T04:53:40.372Z"
   },
   {
    "duration": 19,
    "start_time": "2024-04-05T04:53:40.415Z"
   },
   {
    "duration": 266,
    "start_time": "2024-04-05T04:53:40.435Z"
   },
   {
    "duration": 13,
    "start_time": "2024-04-05T04:53:40.702Z"
   },
   {
    "duration": 5,
    "start_time": "2024-04-05T04:58:32.518Z"
   },
   {
    "duration": 7,
    "start_time": "2024-04-05T04:58:54.582Z"
   },
   {
    "duration": 27,
    "start_time": "2024-04-05T04:59:03.629Z"
   },
   {
    "duration": 28,
    "start_time": "2024-04-05T05:03:49.442Z"
   },
   {
    "duration": 26,
    "start_time": "2024-04-05T05:07:33.575Z"
   },
   {
    "duration": 6,
    "start_time": "2024-04-05T05:09:14.066Z"
   },
   {
    "duration": 13,
    "start_time": "2024-04-05T05:10:08.966Z"
   },
   {
    "duration": 1108,
    "start_time": "2024-04-05T05:10:15.903Z"
   },
   {
    "duration": 631,
    "start_time": "2024-04-05T05:11:35.115Z"
   },
   {
    "duration": 610,
    "start_time": "2024-04-05T05:12:35.719Z"
   },
   {
    "duration": 8,
    "start_time": "2024-04-05T05:12:42.927Z"
   },
   {
    "duration": 655,
    "start_time": "2024-04-05T05:12:50.742Z"
   },
   {
    "duration": 653,
    "start_time": "2024-04-05T05:13:07.550Z"
   },
   {
    "duration": 641,
    "start_time": "2024-04-05T05:13:22.950Z"
   },
   {
    "duration": 13,
    "start_time": "2024-04-05T05:14:58.530Z"
   },
   {
    "duration": 9,
    "start_time": "2024-04-05T05:16:06.165Z"
   },
   {
    "duration": 7,
    "start_time": "2024-04-05T05:17:20.266Z"
   },
   {
    "duration": 7,
    "start_time": "2024-04-05T05:17:42.385Z"
   },
   {
    "duration": 7,
    "start_time": "2024-04-05T05:18:38.270Z"
   },
   {
    "duration": 18,
    "start_time": "2024-04-05T05:26:48.783Z"
   },
   {
    "duration": 13,
    "start_time": "2024-04-05T05:26:58.688Z"
   },
   {
    "duration": 356,
    "start_time": "2024-04-05T05:28:13.101Z"
   },
   {
    "duration": 338,
    "start_time": "2024-04-05T05:28:34.597Z"
   },
   {
    "duration": 388,
    "start_time": "2024-04-05T05:28:57.497Z"
   },
   {
    "duration": 340,
    "start_time": "2024-04-05T05:29:05.641Z"
   },
   {
    "duration": 4,
    "start_time": "2024-04-05T05:33:16.621Z"
   },
   {
    "duration": 4,
    "start_time": "2024-04-05T05:33:48.170Z"
   },
   {
    "duration": 605,
    "start_time": "2024-04-05T05:33:52.030Z"
   },
   {
    "duration": 102,
    "start_time": "2024-04-05T05:33:52.639Z"
   },
   {
    "duration": 39,
    "start_time": "2024-04-05T05:33:52.743Z"
   },
   {
    "duration": 15,
    "start_time": "2024-04-05T05:33:52.784Z"
   },
   {
    "duration": 1744,
    "start_time": "2024-04-05T05:33:52.801Z"
   },
   {
    "duration": 10,
    "start_time": "2024-04-05T05:33:54.546Z"
   },
   {
    "duration": 15,
    "start_time": "2024-04-05T05:33:54.557Z"
   },
   {
    "duration": 9,
    "start_time": "2024-04-05T05:33:54.573Z"
   },
   {
    "duration": 10,
    "start_time": "2024-04-05T05:33:54.584Z"
   },
   {
    "duration": 5,
    "start_time": "2024-04-05T05:33:54.596Z"
   },
   {
    "duration": 8,
    "start_time": "2024-04-05T05:33:54.602Z"
   },
   {
    "duration": 58,
    "start_time": "2024-04-05T05:33:54.612Z"
   },
   {
    "duration": 4,
    "start_time": "2024-04-05T05:33:54.672Z"
   },
   {
    "duration": 36,
    "start_time": "2024-04-05T05:33:54.677Z"
   },
   {
    "duration": 3,
    "start_time": "2024-04-05T05:33:54.715Z"
   },
   {
    "duration": 10,
    "start_time": "2024-04-05T05:33:54.720Z"
   },
   {
    "duration": 3,
    "start_time": "2024-04-05T05:33:54.732Z"
   },
   {
    "duration": 32,
    "start_time": "2024-04-05T05:33:54.737Z"
   },
   {
    "duration": 4,
    "start_time": "2024-04-05T05:33:54.771Z"
   },
   {
    "duration": 9,
    "start_time": "2024-04-05T05:33:54.777Z"
   },
   {
    "duration": 16,
    "start_time": "2024-04-05T05:33:54.787Z"
   },
   {
    "duration": 4,
    "start_time": "2024-04-05T05:33:54.804Z"
   },
   {
    "duration": 25,
    "start_time": "2024-04-05T05:33:54.810Z"
   },
   {
    "duration": 7,
    "start_time": "2024-04-05T05:33:54.836Z"
   },
   {
    "duration": 34,
    "start_time": "2024-04-05T05:33:54.845Z"
   },
   {
    "duration": 16,
    "start_time": "2024-04-05T05:33:54.881Z"
   },
   {
    "duration": 229,
    "start_time": "2024-04-05T05:33:54.899Z"
   },
   {
    "duration": 13,
    "start_time": "2024-04-05T05:33:55.130Z"
   },
   {
    "duration": 33,
    "start_time": "2024-04-05T05:33:55.145Z"
   },
   {
    "duration": 7,
    "start_time": "2024-04-05T05:33:55.180Z"
   },
   {
    "duration": 7,
    "start_time": "2024-04-05T05:33:55.188Z"
   },
   {
    "duration": 6,
    "start_time": "2024-04-05T05:33:55.196Z"
   },
   {
    "duration": 401,
    "start_time": "2024-04-05T05:33:55.204Z"
   },
   {
    "duration": 6,
    "start_time": "2024-04-05T05:35:41.532Z"
   },
   {
    "duration": 88,
    "start_time": "2024-04-05T05:35:51.827Z"
   },
   {
    "duration": 6,
    "start_time": "2024-04-05T05:36:08.346Z"
   },
   {
    "duration": 7,
    "start_time": "2024-04-05T05:36:15.969Z"
   },
   {
    "duration": 68,
    "start_time": "2024-04-05T05:41:30.634Z"
   },
   {
    "duration": 8,
    "start_time": "2024-04-05T05:41:39.409Z"
   },
   {
    "duration": 7,
    "start_time": "2024-04-05T05:43:46.794Z"
   },
   {
    "duration": 132,
    "start_time": "2024-04-05T05:44:38.567Z"
   },
   {
    "duration": 231,
    "start_time": "2024-04-05T05:44:45.526Z"
   },
   {
    "duration": 286,
    "start_time": "2024-04-05T05:45:11.725Z"
   },
   {
    "duration": 227,
    "start_time": "2024-04-05T05:45:20.868Z"
   },
   {
    "duration": 232,
    "start_time": "2024-04-05T05:45:41.412Z"
   },
   {
    "duration": 264,
    "start_time": "2024-04-05T05:46:10.339Z"
   },
   {
    "duration": 114,
    "start_time": "2024-04-05T05:46:54.697Z"
   },
   {
    "duration": 244,
    "start_time": "2024-04-05T05:48:19.494Z"
   },
   {
    "duration": 94,
    "start_time": "2024-04-05T05:49:16.945Z"
   },
   {
    "duration": 315,
    "start_time": "2024-04-05T05:49:23.120Z"
   },
   {
    "duration": 243,
    "start_time": "2024-04-05T05:51:55.402Z"
   },
   {
    "duration": 237,
    "start_time": "2024-04-05T05:53:02.494Z"
   },
   {
    "duration": 239,
    "start_time": "2024-04-05T05:53:29.356Z"
   },
   {
    "duration": 103,
    "start_time": "2024-04-05T05:53:58.379Z"
   },
   {
    "duration": 149,
    "start_time": "2024-04-05T05:54:09.484Z"
   },
   {
    "duration": 95,
    "start_time": "2024-04-05T05:54:39.649Z"
   },
   {
    "duration": 118,
    "start_time": "2024-04-05T05:54:46.984Z"
   },
   {
    "duration": 105,
    "start_time": "2024-04-05T05:54:56.297Z"
   },
   {
    "duration": 105,
    "start_time": "2024-04-05T05:55:03.507Z"
   },
   {
    "duration": 334,
    "start_time": "2024-04-05T05:56:39.341Z"
   },
   {
    "duration": 265,
    "start_time": "2024-04-05T05:57:20.042Z"
   },
   {
    "duration": 252,
    "start_time": "2024-04-05T05:58:00.304Z"
   },
   {
    "duration": 234,
    "start_time": "2024-04-05T05:58:10.943Z"
   },
   {
    "duration": 225,
    "start_time": "2024-04-05T05:58:21.238Z"
   },
   {
    "duration": 378,
    "start_time": "2024-04-05T05:58:29.358Z"
   },
   {
    "duration": 243,
    "start_time": "2024-04-05T05:58:39.389Z"
   },
   {
    "duration": 236,
    "start_time": "2024-04-05T05:59:52.755Z"
   },
   {
    "duration": 248,
    "start_time": "2024-04-05T05:59:58.406Z"
   },
   {
    "duration": 251,
    "start_time": "2024-04-05T06:00:10.321Z"
   },
   {
    "duration": 9,
    "start_time": "2024-04-05T06:01:39.983Z"
   },
   {
    "duration": 288,
    "start_time": "2024-04-05T06:03:25.184Z"
   },
   {
    "duration": 234,
    "start_time": "2024-04-05T06:04:03.685Z"
   },
   {
    "duration": 393,
    "start_time": "2024-04-05T06:04:12.710Z"
   },
   {
    "duration": 234,
    "start_time": "2024-04-05T06:04:20.693Z"
   },
   {
    "duration": 9,
    "start_time": "2024-04-05T06:05:17.994Z"
   },
   {
    "duration": 252,
    "start_time": "2024-04-05T06:05:40.241Z"
   },
   {
    "duration": 268,
    "start_time": "2024-04-05T06:06:28.118Z"
   },
   {
    "duration": 235,
    "start_time": "2024-04-05T06:07:17.051Z"
   },
   {
    "duration": 221,
    "start_time": "2024-04-05T06:07:27.698Z"
   },
   {
    "duration": 230,
    "start_time": "2024-04-05T06:07:33.354Z"
   },
   {
    "duration": 238,
    "start_time": "2024-04-05T06:07:59.400Z"
   },
   {
    "duration": 8,
    "start_time": "2024-04-05T06:08:57.989Z"
   },
   {
    "duration": 440,
    "start_time": "2024-04-05T06:09:20.781Z"
   },
   {
    "duration": 224,
    "start_time": "2024-04-05T06:09:28.380Z"
   },
   {
    "duration": 240,
    "start_time": "2024-04-05T06:09:32.588Z"
   },
   {
    "duration": 252,
    "start_time": "2024-04-05T06:09:42.083Z"
   },
   {
    "duration": 241,
    "start_time": "2024-04-05T06:10:42.576Z"
   },
   {
    "duration": 271,
    "start_time": "2024-04-05T06:11:00.327Z"
   },
   {
    "duration": 247,
    "start_time": "2024-04-05T06:11:05.566Z"
   },
   {
    "duration": 151,
    "start_time": "2024-04-05T06:12:27.970Z"
   },
   {
    "duration": 149,
    "start_time": "2024-04-05T06:12:40.465Z"
   },
   {
    "duration": 184,
    "start_time": "2024-04-05T06:12:50.384Z"
   },
   {
    "duration": 181,
    "start_time": "2024-04-05T06:12:54.881Z"
   },
   {
    "duration": 8,
    "start_time": "2024-04-05T06:14:05.388Z"
   },
   {
    "duration": 259,
    "start_time": "2024-04-05T06:14:29.836Z"
   },
   {
    "duration": 484,
    "start_time": "2024-04-05T06:15:18.040Z"
   },
   {
    "duration": 254,
    "start_time": "2024-04-05T06:15:34.496Z"
   },
   {
    "duration": 267,
    "start_time": "2024-04-05T06:15:43.984Z"
   },
   {
    "duration": 266,
    "start_time": "2024-04-05T06:15:50.496Z"
   },
   {
    "duration": 244,
    "start_time": "2024-04-05T06:16:56.315Z"
   },
   {
    "duration": 260,
    "start_time": "2024-04-05T06:17:04.403Z"
   },
   {
    "duration": 222,
    "start_time": "2024-04-05T06:17:17.587Z"
   },
   {
    "duration": 8,
    "start_time": "2024-04-05T06:19:05.836Z"
   },
   {
    "duration": 92,
    "start_time": "2024-04-05T06:21:28.917Z"
   },
   {
    "duration": 9,
    "start_time": "2024-04-05T06:21:36.044Z"
   },
   {
    "duration": 253,
    "start_time": "2024-04-05T06:22:14.931Z"
   },
   {
    "duration": 244,
    "start_time": "2024-04-05T06:22:40.689Z"
   },
   {
    "duration": 184,
    "start_time": "2024-04-05T06:22:52.209Z"
   },
   {
    "duration": 163,
    "start_time": "2024-04-05T06:23:26.727Z"
   },
   {
    "duration": 156,
    "start_time": "2024-04-05T06:23:37.438Z"
   },
   {
    "duration": 203,
    "start_time": "2024-04-05T06:23:45.144Z"
   },
   {
    "duration": 527,
    "start_time": "2024-04-05T06:25:10.402Z"
   },
   {
    "duration": 11,
    "start_time": "2024-04-05T06:28:01.889Z"
   },
   {
    "duration": 16,
    "start_time": "2024-04-05T06:29:44.940Z"
   },
   {
    "duration": 243,
    "start_time": "2024-04-05T06:30:06.067Z"
   },
   {
    "duration": 5,
    "start_time": "2024-04-05T06:30:32.386Z"
   },
   {
    "duration": 241,
    "start_time": "2024-04-05T06:30:36.561Z"
   },
   {
    "duration": 234,
    "start_time": "2024-04-05T06:30:59.226Z"
   },
   {
    "duration": 243,
    "start_time": "2024-04-05T06:33:30.801Z"
   },
   {
    "duration": 337,
    "start_time": "2024-04-05T06:35:57.210Z"
   },
   {
    "duration": 17,
    "start_time": "2024-04-05T06:36:51.832Z"
   },
   {
    "duration": 343,
    "start_time": "2024-04-05T06:37:10.429Z"
   },
   {
    "duration": 9,
    "start_time": "2024-04-05T06:37:30.821Z"
   },
   {
    "duration": 113,
    "start_time": "2024-04-05T06:37:35.812Z"
   },
   {
    "duration": 14,
    "start_time": "2024-04-05T06:38:38.570Z"
   },
   {
    "duration": 15,
    "start_time": "2024-04-05T06:39:44.966Z"
   },
   {
    "duration": 121,
    "start_time": "2024-04-05T06:40:46.723Z"
   },
   {
    "duration": 127,
    "start_time": "2024-04-05T06:41:02.794Z"
   },
   {
    "duration": 124,
    "start_time": "2024-04-05T06:41:08.442Z"
   },
   {
    "duration": 130,
    "start_time": "2024-04-05T06:41:25.976Z"
   },
   {
    "duration": 136,
    "start_time": "2024-04-05T06:41:35.824Z"
   },
   {
    "duration": 8,
    "start_time": "2024-04-05T06:47:09.047Z"
   },
   {
    "duration": 20,
    "start_time": "2024-04-05T06:55:29.913Z"
   },
   {
    "duration": 169,
    "start_time": "2024-04-05T06:56:05.927Z"
   },
   {
    "duration": 152,
    "start_time": "2024-04-05T06:56:56.866Z"
   },
   {
    "duration": 280,
    "start_time": "2024-04-05T06:57:29.768Z"
   },
   {
    "duration": 9,
    "start_time": "2024-04-05T06:58:23.261Z"
   },
   {
    "duration": 263,
    "start_time": "2024-04-05T06:58:24.116Z"
   },
   {
    "duration": 244,
    "start_time": "2024-04-05T06:58:36.837Z"
   },
   {
    "duration": 254,
    "start_time": "2024-04-05T06:58:41.964Z"
   },
   {
    "duration": 206,
    "start_time": "2024-04-05T06:58:48.228Z"
   },
   {
    "duration": 10,
    "start_time": "2024-04-05T07:00:10.015Z"
   },
   {
    "duration": 195,
    "start_time": "2024-04-05T07:00:38.054Z"
   },
   {
    "duration": 252,
    "start_time": "2024-04-05T07:01:23.117Z"
   },
   {
    "duration": 10,
    "start_time": "2024-04-05T07:02:17.857Z"
   },
   {
    "duration": 256,
    "start_time": "2024-04-05T07:03:02.905Z"
   },
   {
    "duration": 647,
    "start_time": "2024-04-05T07:03:13.231Z"
   },
   {
    "duration": 273,
    "start_time": "2024-04-05T07:03:23.918Z"
   },
   {
    "duration": 646,
    "start_time": "2024-04-05T07:04:50.471Z"
   },
   {
    "duration": 96,
    "start_time": "2024-04-05T07:04:51.119Z"
   },
   {
    "duration": 30,
    "start_time": "2024-04-05T07:04:51.216Z"
   },
   {
    "duration": 22,
    "start_time": "2024-04-05T07:04:51.248Z"
   },
   {
    "duration": 1813,
    "start_time": "2024-04-05T07:04:51.272Z"
   },
   {
    "duration": 10,
    "start_time": "2024-04-05T07:04:53.086Z"
   },
   {
    "duration": 33,
    "start_time": "2024-04-05T07:04:53.097Z"
   },
   {
    "duration": 16,
    "start_time": "2024-04-05T07:04:53.131Z"
   },
   {
    "duration": 32,
    "start_time": "2024-04-05T07:04:53.149Z"
   },
   {
    "duration": 40,
    "start_time": "2024-04-05T07:04:53.183Z"
   },
   {
    "duration": 22,
    "start_time": "2024-04-05T07:04:53.225Z"
   },
   {
    "duration": 41,
    "start_time": "2024-04-05T07:04:53.248Z"
   },
   {
    "duration": 3,
    "start_time": "2024-04-05T07:04:53.291Z"
   },
   {
    "duration": 48,
    "start_time": "2024-04-05T07:04:53.295Z"
   },
   {
    "duration": 8,
    "start_time": "2024-04-05T07:04:53.344Z"
   },
   {
    "duration": 27,
    "start_time": "2024-04-05T07:04:53.353Z"
   },
   {
    "duration": 13,
    "start_time": "2024-04-05T07:04:53.381Z"
   },
   {
    "duration": 11,
    "start_time": "2024-04-05T07:04:53.395Z"
   },
   {
    "duration": 8,
    "start_time": "2024-04-05T07:04:53.408Z"
   },
   {
    "duration": 13,
    "start_time": "2024-04-05T07:04:53.418Z"
   },
   {
    "duration": 31,
    "start_time": "2024-04-05T07:04:53.433Z"
   },
   {
    "duration": 14,
    "start_time": "2024-04-05T07:04:53.466Z"
   },
   {
    "duration": 23,
    "start_time": "2024-04-05T07:04:53.482Z"
   },
   {
    "duration": 32,
    "start_time": "2024-04-05T07:04:53.506Z"
   },
   {
    "duration": 30,
    "start_time": "2024-04-05T07:04:53.539Z"
   },
   {
    "duration": 30,
    "start_time": "2024-04-05T07:04:53.570Z"
   },
   {
    "duration": 231,
    "start_time": "2024-04-05T07:04:53.602Z"
   },
   {
    "duration": 14,
    "start_time": "2024-04-05T07:04:53.837Z"
   },
   {
    "duration": 46,
    "start_time": "2024-04-05T07:04:53.853Z"
   },
   {
    "duration": 8,
    "start_time": "2024-04-05T07:04:53.901Z"
   },
   {
    "duration": 14,
    "start_time": "2024-04-05T07:04:53.910Z"
   },
   {
    "duration": 7,
    "start_time": "2024-04-05T07:04:53.926Z"
   },
   {
    "duration": 352,
    "start_time": "2024-04-05T07:04:53.935Z"
   },
   {
    "duration": 7,
    "start_time": "2024-04-05T07:04:54.289Z"
   },
   {
    "duration": 20,
    "start_time": "2024-04-05T07:04:54.297Z"
   },
   {
    "duration": 255,
    "start_time": "2024-04-05T07:04:54.319Z"
   },
   {
    "duration": 8,
    "start_time": "2024-04-05T07:04:54.576Z"
   },
   {
    "duration": 326,
    "start_time": "2024-04-05T07:04:54.585Z"
   },
   {
    "duration": 9,
    "start_time": "2024-04-05T07:04:54.912Z"
   },
   {
    "duration": 201,
    "start_time": "2024-04-05T07:04:54.922Z"
   },
   {
    "duration": 8,
    "start_time": "2024-04-05T07:04:55.125Z"
   },
   {
    "duration": 171,
    "start_time": "2024-04-05T07:04:55.134Z"
   },
   {
    "duration": 9,
    "start_time": "2024-04-05T07:04:55.307Z"
   },
   {
    "duration": 261,
    "start_time": "2024-04-05T07:04:55.317Z"
   },
   {
    "duration": 9,
    "start_time": "2024-04-05T07:04:55.579Z"
   },
   {
    "duration": 210,
    "start_time": "2024-04-05T07:04:55.589Z"
   },
   {
    "duration": 169,
    "start_time": "2024-04-05T07:04:55.800Z"
   },
   {
    "duration": 9,
    "start_time": "2024-04-05T07:04:55.970Z"
   },
   {
    "duration": 217,
    "start_time": "2024-04-05T07:04:55.980Z"
   },
   {
    "duration": 9,
    "start_time": "2024-04-05T07:04:56.198Z"
   },
   {
    "duration": 279,
    "start_time": "2024-04-05T07:04:56.208Z"
   },
   {
    "duration": 8,
    "start_time": "2024-04-05T07:04:56.488Z"
   },
   {
    "duration": 345,
    "start_time": "2024-04-05T07:04:56.498Z"
   },
   {
    "duration": 77,
    "start_time": "2024-04-05T07:30:47.612Z"
   },
   {
    "duration": 9,
    "start_time": "2024-04-05T07:31:03.916Z"
   },
   {
    "duration": 253,
    "start_time": "2024-04-05T07:32:24.175Z"
   },
   {
    "duration": 17,
    "start_time": "2024-04-05T07:38:21.830Z"
   },
   {
    "duration": 12,
    "start_time": "2024-04-05T07:44:31.980Z"
   },
   {
    "duration": 51,
    "start_time": "2024-04-05T07:44:57.771Z"
   },
   {
    "duration": 31,
    "start_time": "2024-04-05T07:45:24.516Z"
   },
   {
    "duration": 120,
    "start_time": "2024-04-05T07:53:34.001Z"
   },
   {
    "duration": 145,
    "start_time": "2024-04-05T07:54:00.632Z"
   },
   {
    "duration": 167,
    "start_time": "2024-04-05T07:54:10.288Z"
   },
   {
    "duration": 135,
    "start_time": "2024-04-05T07:54:42.423Z"
   },
   {
    "duration": 173,
    "start_time": "2024-04-05T07:55:32.629Z"
   },
   {
    "duration": 165,
    "start_time": "2024-04-05T07:56:05.345Z"
   },
   {
    "duration": 160,
    "start_time": "2024-04-05T07:56:10.257Z"
   },
   {
    "duration": 141,
    "start_time": "2024-04-05T07:56:35.785Z"
   },
   {
    "duration": 134,
    "start_time": "2024-04-05T07:57:33.109Z"
   },
   {
    "duration": 138,
    "start_time": "2024-04-05T07:57:52.757Z"
   },
   {
    "duration": 142,
    "start_time": "2024-04-05T07:58:45.738Z"
   },
   {
    "duration": 149,
    "start_time": "2024-04-05T07:58:50.273Z"
   },
   {
    "duration": 154,
    "start_time": "2024-04-05T07:59:36.615Z"
   },
   {
    "duration": 125,
    "start_time": "2024-04-05T07:59:53.295Z"
   },
   {
    "duration": 147,
    "start_time": "2024-04-05T08:00:20.862Z"
   },
   {
    "duration": 275,
    "start_time": "2024-04-05T08:00:32.005Z"
   },
   {
    "duration": 136,
    "start_time": "2024-04-05T08:01:39.746Z"
   },
   {
    "duration": 129,
    "start_time": "2024-04-05T08:04:19.605Z"
   },
   {
    "duration": 138,
    "start_time": "2024-04-05T08:05:33.711Z"
   },
   {
    "duration": 125,
    "start_time": "2024-04-05T08:05:46.486Z"
   },
   {
    "duration": 303,
    "start_time": "2024-04-05T08:06:18.325Z"
   },
   {
    "duration": 136,
    "start_time": "2024-04-05T08:06:46.786Z"
   },
   {
    "duration": 143,
    "start_time": "2024-04-05T08:07:16.426Z"
   },
   {
    "duration": 142,
    "start_time": "2024-04-05T08:07:24.408Z"
   },
   {
    "duration": 136,
    "start_time": "2024-04-05T08:07:32.799Z"
   },
   {
    "duration": 152,
    "start_time": "2024-04-05T08:07:48.142Z"
   },
   {
    "duration": 158,
    "start_time": "2024-04-05T08:08:17.685Z"
   },
   {
    "duration": 248,
    "start_time": "2024-04-05T08:08:46.284Z"
   },
   {
    "duration": 249,
    "start_time": "2024-04-05T08:08:55.781Z"
   },
   {
    "duration": 87,
    "start_time": "2024-04-05T08:09:03.378Z"
   },
   {
    "duration": 366,
    "start_time": "2024-04-05T08:09:07.243Z"
   },
   {
    "duration": 157,
    "start_time": "2024-04-05T08:09:34.204Z"
   },
   {
    "duration": 28,
    "start_time": "2024-04-05T08:11:12.605Z"
   },
   {
    "duration": 173,
    "start_time": "2024-04-05T08:11:13.780Z"
   },
   {
    "duration": 165,
    "start_time": "2024-04-05T08:15:05.729Z"
   },
   {
    "duration": 1324,
    "start_time": "2024-04-05T08:19:32.839Z"
   },
   {
    "duration": 1253,
    "start_time": "2024-04-05T08:19:56.604Z"
   },
   {
    "duration": 86,
    "start_time": "2024-04-05T08:20:18.243Z"
   },
   {
    "duration": 90,
    "start_time": "2024-04-05T08:20:23.081Z"
   },
   {
    "duration": 29,
    "start_time": "2024-04-05T08:21:18.527Z"
   },
   {
    "duration": 186,
    "start_time": "2024-04-05T08:25:35.731Z"
   },
   {
    "duration": 10,
    "start_time": "2024-04-05T08:26:40.751Z"
   },
   {
    "duration": 174,
    "start_time": "2024-04-05T08:26:52.613Z"
   },
   {
    "duration": 51,
    "start_time": "2024-04-05T08:27:15.109Z"
   },
   {
    "duration": 54,
    "start_time": "2024-04-05T08:27:18.053Z"
   },
   {
    "duration": 4,
    "start_time": "2024-04-05T08:27:47.120Z"
   },
   {
    "duration": 38,
    "start_time": "2024-04-05T08:27:54.098Z"
   },
   {
    "duration": 24,
    "start_time": "2024-04-05T08:28:01.866Z"
   },
   {
    "duration": 22,
    "start_time": "2024-04-05T08:28:12.492Z"
   },
   {
    "duration": 47,
    "start_time": "2024-04-05T08:28:14.584Z"
   },
   {
    "duration": 16,
    "start_time": "2024-04-05T08:28:32.456Z"
   },
   {
    "duration": 29,
    "start_time": "2024-04-05T08:28:46.464Z"
   },
   {
    "duration": 30,
    "start_time": "2024-04-05T08:29:54.070Z"
   },
   {
    "duration": 24,
    "start_time": "2024-04-05T08:30:01.509Z"
   },
   {
    "duration": 147,
    "start_time": "2024-04-05T08:31:32.438Z"
   },
   {
    "duration": 703,
    "start_time": "2024-04-05T08:33:01.090Z"
   },
   {
    "duration": 100,
    "start_time": "2024-04-05T08:33:01.795Z"
   },
   {
    "duration": 34,
    "start_time": "2024-04-05T08:33:01.897Z"
   },
   {
    "duration": 97,
    "start_time": "2024-04-05T08:33:01.933Z"
   },
   {
    "duration": 1909,
    "start_time": "2024-04-05T08:33:02.032Z"
   },
   {
    "duration": 13,
    "start_time": "2024-04-05T08:33:03.943Z"
   },
   {
    "duration": 21,
    "start_time": "2024-04-05T08:33:03.958Z"
   },
   {
    "duration": 13,
    "start_time": "2024-04-05T08:33:03.981Z"
   },
   {
    "duration": 14,
    "start_time": "2024-04-05T08:33:03.996Z"
   },
   {
    "duration": 5,
    "start_time": "2024-04-05T08:33:04.014Z"
   },
   {
    "duration": 13,
    "start_time": "2024-04-05T08:33:04.020Z"
   },
   {
    "duration": 68,
    "start_time": "2024-04-05T08:33:04.034Z"
   },
   {
    "duration": 4,
    "start_time": "2024-04-05T08:33:04.104Z"
   },
   {
    "duration": 43,
    "start_time": "2024-04-05T08:33:04.109Z"
   },
   {
    "duration": 15,
    "start_time": "2024-04-05T08:33:04.154Z"
   },
   {
    "duration": 13,
    "start_time": "2024-04-05T08:33:04.171Z"
   },
   {
    "duration": 3,
    "start_time": "2024-04-05T08:33:04.186Z"
   },
   {
    "duration": 5,
    "start_time": "2024-04-05T08:33:04.190Z"
   },
   {
    "duration": 5,
    "start_time": "2024-04-05T08:33:04.196Z"
   },
   {
    "duration": 15,
    "start_time": "2024-04-05T08:33:04.202Z"
   },
   {
    "duration": 25,
    "start_time": "2024-04-05T08:33:04.218Z"
   },
   {
    "duration": 10,
    "start_time": "2024-04-05T08:33:04.245Z"
   },
   {
    "duration": 12,
    "start_time": "2024-04-05T08:33:04.257Z"
   },
   {
    "duration": 5,
    "start_time": "2024-04-05T08:33:04.271Z"
   },
   {
    "duration": 21,
    "start_time": "2024-04-05T08:33:04.277Z"
   },
   {
    "duration": 22,
    "start_time": "2024-04-05T08:33:04.299Z"
   },
   {
    "duration": 282,
    "start_time": "2024-04-05T08:33:04.323Z"
   },
   {
    "duration": 14,
    "start_time": "2024-04-05T08:33:04.609Z"
   },
   {
    "duration": 24,
    "start_time": "2024-04-05T08:33:04.625Z"
   },
   {
    "duration": 24,
    "start_time": "2024-04-05T08:33:04.651Z"
   },
   {
    "duration": 13,
    "start_time": "2024-04-05T08:33:04.677Z"
   },
   {
    "duration": 15,
    "start_time": "2024-04-05T08:33:04.692Z"
   },
   {
    "duration": 358,
    "start_time": "2024-04-05T08:33:04.708Z"
   },
   {
    "duration": 6,
    "start_time": "2024-04-05T08:33:05.068Z"
   },
   {
    "duration": 15,
    "start_time": "2024-04-05T08:33:05.075Z"
   },
   {
    "duration": 264,
    "start_time": "2024-04-05T08:33:05.091Z"
   },
   {
    "duration": 14,
    "start_time": "2024-04-05T08:33:05.357Z"
   },
   {
    "duration": 335,
    "start_time": "2024-04-05T08:33:05.372Z"
   },
   {
    "duration": 8,
    "start_time": "2024-04-05T08:33:05.709Z"
   },
   {
    "duration": 201,
    "start_time": "2024-04-05T08:33:05.719Z"
   },
   {
    "duration": 8,
    "start_time": "2024-04-05T08:33:05.921Z"
   },
   {
    "duration": 171,
    "start_time": "2024-04-05T08:33:05.931Z"
   },
   {
    "duration": 8,
    "start_time": "2024-04-05T08:33:06.104Z"
   },
   {
    "duration": 277,
    "start_time": "2024-04-05T08:33:06.113Z"
   },
   {
    "duration": 8,
    "start_time": "2024-04-05T08:33:06.392Z"
   },
   {
    "duration": 220,
    "start_time": "2024-04-05T08:33:06.402Z"
   },
   {
    "duration": 170,
    "start_time": "2024-04-05T08:33:06.624Z"
   },
   {
    "duration": 8,
    "start_time": "2024-04-05T08:33:06.797Z"
   },
   {
    "duration": 209,
    "start_time": "2024-04-05T08:33:06.807Z"
   },
   {
    "duration": 9,
    "start_time": "2024-04-05T08:33:07.017Z"
   },
   {
    "duration": 263,
    "start_time": "2024-04-05T08:33:07.028Z"
   },
   {
    "duration": 9,
    "start_time": "2024-04-05T08:33:07.292Z"
   },
   {
    "duration": 380,
    "start_time": "2024-04-05T08:33:07.303Z"
   },
   {
    "duration": 10,
    "start_time": "2024-04-05T08:33:07.685Z"
   },
   {
    "duration": 270,
    "start_time": "2024-04-05T08:33:07.696Z"
   },
   {
    "duration": 15,
    "start_time": "2024-04-05T08:33:07.969Z"
   },
   {
    "duration": 34,
    "start_time": "2024-04-05T08:33:07.985Z"
   },
   {
    "duration": 72,
    "start_time": "2024-04-05T08:33:08.021Z"
   },
   {
    "duration": 27,
    "start_time": "2024-04-05T08:33:08.094Z"
   },
   {
    "duration": 169,
    "start_time": "2024-04-05T08:33:08.123Z"
   },
   {
    "duration": 167,
    "start_time": "2024-04-05T08:34:25.619Z"
   },
   {
    "duration": 667,
    "start_time": "2024-04-05T08:34:41.338Z"
   },
   {
    "duration": 98,
    "start_time": "2024-04-05T08:34:42.007Z"
   },
   {
    "duration": 34,
    "start_time": "2024-04-05T08:34:42.107Z"
   },
   {
    "duration": 27,
    "start_time": "2024-04-05T08:34:42.143Z"
   },
   {
    "duration": 1837,
    "start_time": "2024-04-05T08:34:42.172Z"
   },
   {
    "duration": 10,
    "start_time": "2024-04-05T08:34:44.010Z"
   },
   {
    "duration": 28,
    "start_time": "2024-04-05T08:34:44.021Z"
   },
   {
    "duration": 9,
    "start_time": "2024-04-05T08:34:44.051Z"
   },
   {
    "duration": 12,
    "start_time": "2024-04-05T08:34:44.062Z"
   },
   {
    "duration": 7,
    "start_time": "2024-04-05T08:34:44.077Z"
   },
   {
    "duration": 12,
    "start_time": "2024-04-05T08:34:44.086Z"
   },
   {
    "duration": 48,
    "start_time": "2024-04-05T08:34:44.099Z"
   },
   {
    "duration": 3,
    "start_time": "2024-04-05T08:34:44.149Z"
   },
   {
    "duration": 60,
    "start_time": "2024-04-05T08:34:44.154Z"
   },
   {
    "duration": 3,
    "start_time": "2024-04-05T08:34:44.215Z"
   },
   {
    "duration": 15,
    "start_time": "2024-04-05T08:34:44.220Z"
   },
   {
    "duration": 12,
    "start_time": "2024-04-05T08:34:44.236Z"
   },
   {
    "duration": 15,
    "start_time": "2024-04-05T08:34:44.250Z"
   },
   {
    "duration": 21,
    "start_time": "2024-04-05T08:34:44.266Z"
   },
   {
    "duration": 31,
    "start_time": "2024-04-05T08:34:44.288Z"
   },
   {
    "duration": 17,
    "start_time": "2024-04-05T08:34:44.320Z"
   },
   {
    "duration": 12,
    "start_time": "2024-04-05T08:34:44.338Z"
   },
   {
    "duration": 25,
    "start_time": "2024-04-05T08:34:44.352Z"
   },
   {
    "duration": 29,
    "start_time": "2024-04-05T08:34:44.378Z"
   },
   {
    "duration": 36,
    "start_time": "2024-04-05T08:34:44.408Z"
   },
   {
    "duration": 17,
    "start_time": "2024-04-05T08:34:44.445Z"
   },
   {
    "duration": 240,
    "start_time": "2024-04-05T08:34:44.463Z"
   },
   {
    "duration": 13,
    "start_time": "2024-04-05T08:34:44.707Z"
   },
   {
    "duration": 24,
    "start_time": "2024-04-05T08:34:44.722Z"
   },
   {
    "duration": 25,
    "start_time": "2024-04-05T08:34:44.748Z"
   },
   {
    "duration": 10,
    "start_time": "2024-04-05T08:34:44.774Z"
   },
   {
    "duration": 7,
    "start_time": "2024-04-05T08:34:44.786Z"
   },
   {
    "duration": 388,
    "start_time": "2024-04-05T08:34:44.794Z"
   },
   {
    "duration": 5,
    "start_time": "2024-04-05T08:34:45.184Z"
   },
   {
    "duration": 38,
    "start_time": "2024-04-05T08:34:45.191Z"
   },
   {
    "duration": 273,
    "start_time": "2024-04-05T08:34:45.231Z"
   },
   {
    "duration": 9,
    "start_time": "2024-04-05T08:34:45.505Z"
   },
   {
    "duration": 356,
    "start_time": "2024-04-05T08:34:45.515Z"
   },
   {
    "duration": 7,
    "start_time": "2024-04-05T08:34:45.873Z"
   },
   {
    "duration": 217,
    "start_time": "2024-04-05T08:34:45.882Z"
   },
   {
    "duration": 7,
    "start_time": "2024-04-05T08:34:46.101Z"
   },
   {
    "duration": 177,
    "start_time": "2024-04-05T08:34:46.110Z"
   },
   {
    "duration": 9,
    "start_time": "2024-04-05T08:34:46.288Z"
   },
   {
    "duration": 259,
    "start_time": "2024-04-05T08:34:46.298Z"
   },
   {
    "duration": 14,
    "start_time": "2024-04-05T08:34:46.559Z"
   },
   {
    "duration": 214,
    "start_time": "2024-04-05T08:34:46.575Z"
   },
   {
    "duration": 165,
    "start_time": "2024-04-05T08:34:46.791Z"
   },
   {
    "duration": 14,
    "start_time": "2024-04-05T08:34:46.958Z"
   },
   {
    "duration": 210,
    "start_time": "2024-04-05T08:34:46.973Z"
   },
   {
    "duration": 9,
    "start_time": "2024-04-05T08:34:47.184Z"
   },
   {
    "duration": 275,
    "start_time": "2024-04-05T08:34:47.195Z"
   },
   {
    "duration": 12,
    "start_time": "2024-04-05T08:34:47.472Z"
   },
   {
    "duration": 374,
    "start_time": "2024-04-05T08:34:47.485Z"
   },
   {
    "duration": 10,
    "start_time": "2024-04-05T08:34:47.861Z"
   },
   {
    "duration": 256,
    "start_time": "2024-04-05T08:34:47.872Z"
   },
   {
    "duration": 15,
    "start_time": "2024-04-05T08:34:48.130Z"
   },
   {
    "duration": 46,
    "start_time": "2024-04-05T08:34:48.147Z"
   },
   {
    "duration": 30,
    "start_time": "2024-04-05T08:34:48.196Z"
   },
   {
    "duration": 171,
    "start_time": "2024-04-05T08:34:48.227Z"
   },
   {
    "duration": 154,
    "start_time": "2024-04-05T08:35:28.836Z"
   },
   {
    "duration": 133,
    "start_time": "2024-04-05T08:36:46.921Z"
   },
   {
    "duration": 119,
    "start_time": "2024-04-05T08:38:30.597Z"
   },
   {
    "duration": 88,
    "start_time": "2024-04-05T08:38:42.571Z"
   },
   {
    "duration": 94,
    "start_time": "2024-04-05T08:38:54.490Z"
   },
   {
    "duration": 166,
    "start_time": "2024-04-05T08:39:11.778Z"
   },
   {
    "duration": 142,
    "start_time": "2024-04-05T08:41:48.970Z"
   },
   {
    "duration": 637,
    "start_time": "2024-04-05T08:44:38.687Z"
   },
   {
    "duration": 98,
    "start_time": "2024-04-05T08:44:39.326Z"
   },
   {
    "duration": 31,
    "start_time": "2024-04-05T08:44:39.425Z"
   },
   {
    "duration": 19,
    "start_time": "2024-04-05T08:44:39.458Z"
   },
   {
    "duration": 1871,
    "start_time": "2024-04-05T08:44:39.478Z"
   },
   {
    "duration": 11,
    "start_time": "2024-04-05T08:44:41.350Z"
   },
   {
    "duration": 26,
    "start_time": "2024-04-05T08:44:41.362Z"
   },
   {
    "duration": 11,
    "start_time": "2024-04-05T08:44:41.390Z"
   },
   {
    "duration": 12,
    "start_time": "2024-04-05T08:44:41.402Z"
   },
   {
    "duration": 5,
    "start_time": "2024-04-05T08:44:41.416Z"
   },
   {
    "duration": 7,
    "start_time": "2024-04-05T08:44:41.422Z"
   },
   {
    "duration": 63,
    "start_time": "2024-04-05T08:44:41.430Z"
   },
   {
    "duration": 4,
    "start_time": "2024-04-05T08:44:41.496Z"
   },
   {
    "duration": 68,
    "start_time": "2024-04-05T08:44:41.502Z"
   },
   {
    "duration": 4,
    "start_time": "2024-04-05T08:44:41.573Z"
   },
   {
    "duration": 17,
    "start_time": "2024-04-05T08:44:41.579Z"
   },
   {
    "duration": 5,
    "start_time": "2024-04-05T08:44:41.597Z"
   },
   {
    "duration": 4,
    "start_time": "2024-04-05T08:44:41.603Z"
   },
   {
    "duration": 5,
    "start_time": "2024-04-05T08:44:41.608Z"
   },
   {
    "duration": 8,
    "start_time": "2024-04-05T08:44:41.615Z"
   },
   {
    "duration": 5,
    "start_time": "2024-04-05T08:44:41.624Z"
   },
   {
    "duration": 41,
    "start_time": "2024-04-05T08:44:41.630Z"
   },
   {
    "duration": 4,
    "start_time": "2024-04-05T08:44:41.673Z"
   },
   {
    "duration": 9,
    "start_time": "2024-04-05T08:44:41.678Z"
   },
   {
    "duration": 22,
    "start_time": "2024-04-05T08:44:41.688Z"
   },
   {
    "duration": 17,
    "start_time": "2024-04-05T08:44:41.711Z"
   },
   {
    "duration": 285,
    "start_time": "2024-04-05T08:44:41.730Z"
   },
   {
    "duration": 13,
    "start_time": "2024-04-05T08:44:42.018Z"
   },
   {
    "duration": 39,
    "start_time": "2024-04-05T08:44:42.033Z"
   },
   {
    "duration": 7,
    "start_time": "2024-04-05T08:44:42.074Z"
   },
   {
    "duration": 7,
    "start_time": "2024-04-05T08:44:42.083Z"
   },
   {
    "duration": 19,
    "start_time": "2024-04-05T08:44:42.091Z"
   },
   {
    "duration": 357,
    "start_time": "2024-04-05T08:44:42.111Z"
   },
   {
    "duration": 6,
    "start_time": "2024-04-05T08:44:42.470Z"
   },
   {
    "duration": 13,
    "start_time": "2024-04-05T08:44:42.478Z"
   },
   {
    "duration": 283,
    "start_time": "2024-04-05T08:44:42.493Z"
   },
   {
    "duration": 11,
    "start_time": "2024-04-05T08:44:42.778Z"
   },
   {
    "duration": 342,
    "start_time": "2024-04-05T08:44:42.791Z"
   },
   {
    "duration": 9,
    "start_time": "2024-04-05T08:44:43.135Z"
   },
   {
    "duration": 207,
    "start_time": "2024-04-05T08:44:43.145Z"
   },
   {
    "duration": 19,
    "start_time": "2024-04-05T08:44:43.353Z"
   },
   {
    "duration": 160,
    "start_time": "2024-04-05T08:44:43.374Z"
   },
   {
    "duration": 8,
    "start_time": "2024-04-05T08:44:43.536Z"
   },
   {
    "duration": 272,
    "start_time": "2024-04-05T08:44:43.546Z"
   },
   {
    "duration": 9,
    "start_time": "2024-04-05T08:44:43.820Z"
   },
   {
    "duration": 228,
    "start_time": "2024-04-05T08:44:43.831Z"
   },
   {
    "duration": 199,
    "start_time": "2024-04-05T08:44:44.060Z"
   },
   {
    "duration": 14,
    "start_time": "2024-04-05T08:44:44.260Z"
   },
   {
    "duration": 205,
    "start_time": "2024-04-05T08:44:44.276Z"
   },
   {
    "duration": 9,
    "start_time": "2024-04-05T08:44:44.483Z"
   },
   {
    "duration": 267,
    "start_time": "2024-04-05T08:44:44.493Z"
   },
   {
    "duration": 15,
    "start_time": "2024-04-05T08:44:44.762Z"
   },
   {
    "duration": 360,
    "start_time": "2024-04-05T08:44:44.778Z"
   },
   {
    "duration": 9,
    "start_time": "2024-04-05T08:44:45.140Z"
   },
   {
    "duration": 270,
    "start_time": "2024-04-05T08:44:45.150Z"
   },
   {
    "duration": 14,
    "start_time": "2024-04-05T08:44:45.422Z"
   },
   {
    "duration": 54,
    "start_time": "2024-04-05T08:44:45.437Z"
   },
   {
    "duration": 26,
    "start_time": "2024-04-05T08:44:45.493Z"
   },
   {
    "duration": 29,
    "start_time": "2024-04-05T08:44:45.521Z"
   },
   {
    "duration": 193,
    "start_time": "2024-04-05T08:44:45.551Z"
   },
   {
    "duration": 153,
    "start_time": "2024-04-05T08:45:52.813Z"
   },
   {
    "duration": 149,
    "start_time": "2024-04-05T08:46:07.180Z"
   },
   {
    "duration": 148,
    "start_time": "2024-04-05T08:46:12.996Z"
   },
   {
    "duration": 174,
    "start_time": "2024-04-05T08:46:24.596Z"
   },
   {
    "duration": 163,
    "start_time": "2024-04-05T08:46:30.156Z"
   },
   {
    "duration": 138,
    "start_time": "2024-04-05T08:46:34.388Z"
   },
   {
    "duration": 1285,
    "start_time": "2024-04-05T08:47:17.505Z"
   },
   {
    "duration": 160,
    "start_time": "2024-04-05T08:47:33.313Z"
   },
   {
    "duration": 45,
    "start_time": "2024-04-05T08:50:13.266Z"
   },
   {
    "duration": 26,
    "start_time": "2024-04-05T08:50:16.177Z"
   },
   {
    "duration": 169,
    "start_time": "2024-04-05T08:51:21.852Z"
   },
   {
    "duration": 613,
    "start_time": "2024-04-05T08:51:41.897Z"
   },
   {
    "duration": 106,
    "start_time": "2024-04-05T08:51:42.511Z"
   },
   {
    "duration": 32,
    "start_time": "2024-04-05T08:51:42.618Z"
   },
   {
    "duration": 36,
    "start_time": "2024-04-05T08:51:42.652Z"
   },
   {
    "duration": 1768,
    "start_time": "2024-04-05T08:51:42.689Z"
   },
   {
    "duration": 11,
    "start_time": "2024-04-05T08:51:44.458Z"
   },
   {
    "duration": 16,
    "start_time": "2024-04-05T08:51:44.471Z"
   },
   {
    "duration": 9,
    "start_time": "2024-04-05T08:51:44.489Z"
   },
   {
    "duration": 10,
    "start_time": "2024-04-05T08:51:44.500Z"
   },
   {
    "duration": 5,
    "start_time": "2024-04-05T08:51:44.512Z"
   },
   {
    "duration": 17,
    "start_time": "2024-04-05T08:51:44.518Z"
   },
   {
    "duration": 55,
    "start_time": "2024-04-05T08:51:44.537Z"
   },
   {
    "duration": 3,
    "start_time": "2024-04-05T08:51:44.594Z"
   },
   {
    "duration": 39,
    "start_time": "2024-04-05T08:51:44.598Z"
   },
   {
    "duration": 3,
    "start_time": "2024-04-05T08:51:44.639Z"
   },
   {
    "duration": 29,
    "start_time": "2024-04-05T08:51:44.644Z"
   },
   {
    "duration": 4,
    "start_time": "2024-04-05T08:51:44.674Z"
   },
   {
    "duration": 6,
    "start_time": "2024-04-05T08:51:44.679Z"
   },
   {
    "duration": 4,
    "start_time": "2024-04-05T08:51:44.687Z"
   },
   {
    "duration": 8,
    "start_time": "2024-04-05T08:51:44.693Z"
   },
   {
    "duration": 6,
    "start_time": "2024-04-05T08:51:44.703Z"
   },
   {
    "duration": 5,
    "start_time": "2024-04-05T08:51:44.710Z"
   },
   {
    "duration": 6,
    "start_time": "2024-04-05T08:51:44.717Z"
   },
   {
    "duration": 6,
    "start_time": "2024-04-05T08:51:44.725Z"
   },
   {
    "duration": 54,
    "start_time": "2024-04-05T08:51:44.732Z"
   },
   {
    "duration": 17,
    "start_time": "2024-04-05T08:51:44.788Z"
   },
   {
    "duration": 250,
    "start_time": "2024-04-05T08:51:44.807Z"
   },
   {
    "duration": 18,
    "start_time": "2024-04-05T08:51:45.062Z"
   },
   {
    "duration": 49,
    "start_time": "2024-04-05T08:51:45.082Z"
   },
   {
    "duration": 21,
    "start_time": "2024-04-05T08:51:45.132Z"
   },
   {
    "duration": 24,
    "start_time": "2024-04-05T08:51:45.155Z"
   },
   {
    "duration": 20,
    "start_time": "2024-04-05T08:51:45.181Z"
   },
   {
    "duration": 361,
    "start_time": "2024-04-05T08:51:45.203Z"
   },
   {
    "duration": 7,
    "start_time": "2024-04-05T08:51:45.566Z"
   },
   {
    "duration": 20,
    "start_time": "2024-04-05T08:51:45.575Z"
   },
   {
    "duration": 269,
    "start_time": "2024-04-05T08:51:45.596Z"
   },
   {
    "duration": 10,
    "start_time": "2024-04-05T08:51:45.867Z"
   },
   {
    "duration": 339,
    "start_time": "2024-04-05T08:51:45.878Z"
   },
   {
    "duration": 10,
    "start_time": "2024-04-05T08:51:46.218Z"
   },
   {
    "duration": 198,
    "start_time": "2024-04-05T08:51:46.229Z"
   },
   {
    "duration": 7,
    "start_time": "2024-04-05T08:51:46.429Z"
   },
   {
    "duration": 167,
    "start_time": "2024-04-05T08:51:46.437Z"
   },
   {
    "duration": 10,
    "start_time": "2024-04-05T08:51:46.605Z"
   },
   {
    "duration": 248,
    "start_time": "2024-04-05T08:51:46.617Z"
   },
   {
    "duration": 9,
    "start_time": "2024-04-05T08:51:46.867Z"
   },
   {
    "duration": 211,
    "start_time": "2024-04-05T08:51:46.878Z"
   },
   {
    "duration": 167,
    "start_time": "2024-04-05T08:51:47.091Z"
   },
   {
    "duration": 14,
    "start_time": "2024-04-05T08:51:47.260Z"
   },
   {
    "duration": 213,
    "start_time": "2024-04-05T08:51:47.276Z"
   },
   {
    "duration": 9,
    "start_time": "2024-04-05T08:51:47.490Z"
   },
   {
    "duration": 258,
    "start_time": "2024-04-05T08:51:47.500Z"
   },
   {
    "duration": 14,
    "start_time": "2024-04-05T08:51:47.759Z"
   },
   {
    "duration": 348,
    "start_time": "2024-04-05T08:51:47.775Z"
   },
   {
    "duration": 11,
    "start_time": "2024-04-05T08:51:48.125Z"
   },
   {
    "duration": 266,
    "start_time": "2024-04-05T08:51:48.137Z"
   },
   {
    "duration": 15,
    "start_time": "2024-04-05T08:51:48.405Z"
   },
   {
    "duration": 32,
    "start_time": "2024-04-05T08:51:48.421Z"
   },
   {
    "duration": 56,
    "start_time": "2024-04-05T08:51:48.455Z"
   },
   {
    "duration": 30,
    "start_time": "2024-04-05T08:51:48.513Z"
   },
   {
    "duration": 179,
    "start_time": "2024-04-05T08:51:48.545Z"
   },
   {
    "duration": 142,
    "start_time": "2024-04-05T08:54:31.152Z"
   },
   {
    "duration": 146,
    "start_time": "2024-04-05T08:54:34.206Z"
   },
   {
    "duration": 144,
    "start_time": "2024-04-05T08:55:25.692Z"
   },
   {
    "duration": 166,
    "start_time": "2024-04-05T08:55:59.969Z"
   },
   {
    "duration": 646,
    "start_time": "2024-04-05T08:58:34.467Z"
   },
   {
    "duration": 97,
    "start_time": "2024-04-05T08:58:35.114Z"
   },
   {
    "duration": 33,
    "start_time": "2024-04-05T08:58:35.212Z"
   },
   {
    "duration": 26,
    "start_time": "2024-04-05T08:58:35.247Z"
   },
   {
    "duration": 1799,
    "start_time": "2024-04-05T08:58:35.274Z"
   },
   {
    "duration": 9,
    "start_time": "2024-04-05T08:58:37.075Z"
   },
   {
    "duration": 18,
    "start_time": "2024-04-05T08:58:37.085Z"
   },
   {
    "duration": 9,
    "start_time": "2024-04-05T08:58:37.105Z"
   },
   {
    "duration": 13,
    "start_time": "2024-04-05T08:58:37.115Z"
   },
   {
    "duration": 12,
    "start_time": "2024-04-05T08:58:37.131Z"
   },
   {
    "duration": 27,
    "start_time": "2024-04-05T08:58:37.145Z"
   },
   {
    "duration": 40,
    "start_time": "2024-04-05T08:58:37.174Z"
   },
   {
    "duration": 3,
    "start_time": "2024-04-05T08:58:37.215Z"
   },
   {
    "duration": 52,
    "start_time": "2024-04-05T08:58:37.219Z"
   },
   {
    "duration": 3,
    "start_time": "2024-04-05T08:58:37.272Z"
   },
   {
    "duration": 24,
    "start_time": "2024-04-05T08:58:37.277Z"
   },
   {
    "duration": 3,
    "start_time": "2024-04-05T08:58:37.302Z"
   },
   {
    "duration": 8,
    "start_time": "2024-04-05T08:58:37.306Z"
   },
   {
    "duration": 8,
    "start_time": "2024-04-05T08:58:37.315Z"
   },
   {
    "duration": 12,
    "start_time": "2024-04-05T08:58:37.325Z"
   },
   {
    "duration": 36,
    "start_time": "2024-04-05T08:58:37.339Z"
   },
   {
    "duration": 8,
    "start_time": "2024-04-05T08:58:37.377Z"
   },
   {
    "duration": 7,
    "start_time": "2024-04-05T08:58:37.386Z"
   },
   {
    "duration": 15,
    "start_time": "2024-04-05T08:58:37.394Z"
   },
   {
    "duration": 21,
    "start_time": "2024-04-05T08:58:37.410Z"
   },
   {
    "duration": 16,
    "start_time": "2024-04-05T08:58:37.432Z"
   },
   {
    "duration": 229,
    "start_time": "2024-04-05T08:58:37.450Z"
   },
   {
    "duration": 13,
    "start_time": "2024-04-05T08:58:37.683Z"
   },
   {
    "duration": 25,
    "start_time": "2024-04-05T08:58:37.698Z"
   },
   {
    "duration": 7,
    "start_time": "2024-04-05T08:58:37.724Z"
   },
   {
    "duration": 37,
    "start_time": "2024-04-05T08:58:37.732Z"
   },
   {
    "duration": 9,
    "start_time": "2024-04-05T08:58:37.772Z"
   },
   {
    "duration": 373,
    "start_time": "2024-04-05T08:58:37.783Z"
   },
   {
    "duration": 11,
    "start_time": "2024-04-05T08:58:38.158Z"
   },
   {
    "duration": 10,
    "start_time": "2024-04-05T08:58:38.171Z"
   },
   {
    "duration": 263,
    "start_time": "2024-04-05T08:58:38.183Z"
   },
   {
    "duration": 9,
    "start_time": "2024-04-05T08:58:38.447Z"
   },
   {
    "duration": 327,
    "start_time": "2024-04-05T08:58:38.458Z"
   },
   {
    "duration": 8,
    "start_time": "2024-04-05T08:58:38.787Z"
   },
   {
    "duration": 201,
    "start_time": "2024-04-05T08:58:38.796Z"
   },
   {
    "duration": 9,
    "start_time": "2024-04-05T08:58:38.999Z"
   },
   {
    "duration": 168,
    "start_time": "2024-04-05T08:58:39.009Z"
   },
   {
    "duration": 8,
    "start_time": "2024-04-05T08:58:39.178Z"
   },
   {
    "duration": 258,
    "start_time": "2024-04-05T08:58:39.187Z"
   },
   {
    "duration": 8,
    "start_time": "2024-04-05T08:58:39.447Z"
   },
   {
    "duration": 214,
    "start_time": "2024-04-05T08:58:39.457Z"
   },
   {
    "duration": 164,
    "start_time": "2024-04-05T08:58:39.673Z"
   },
   {
    "duration": 9,
    "start_time": "2024-04-05T08:58:39.839Z"
   },
   {
    "duration": 230,
    "start_time": "2024-04-05T08:58:39.849Z"
   },
   {
    "duration": 8,
    "start_time": "2024-04-05T08:58:40.081Z"
   },
   {
    "duration": 265,
    "start_time": "2024-04-05T08:58:40.091Z"
   },
   {
    "duration": 15,
    "start_time": "2024-04-05T08:58:40.357Z"
   },
   {
    "duration": 374,
    "start_time": "2024-04-05T08:58:40.373Z"
   },
   {
    "duration": 9,
    "start_time": "2024-04-05T08:58:40.748Z"
   },
   {
    "duration": 268,
    "start_time": "2024-04-05T08:58:40.758Z"
   },
   {
    "duration": 15,
    "start_time": "2024-04-05T08:58:41.027Z"
   },
   {
    "duration": 92,
    "start_time": "2024-04-05T08:58:41.044Z"
   },
   {
    "duration": 0,
    "start_time": "2024-04-05T08:58:41.138Z"
   },
   {
    "duration": 0,
    "start_time": "2024-04-05T08:58:41.139Z"
   },
   {
    "duration": 0,
    "start_time": "2024-04-05T08:58:41.139Z"
   },
   {
    "duration": 0,
    "start_time": "2024-04-05T08:58:41.140Z"
   },
   {
    "duration": 0,
    "start_time": "2024-04-05T08:58:41.141Z"
   },
   {
    "duration": 678,
    "start_time": "2024-04-05T09:00:04.140Z"
   },
   {
    "duration": 97,
    "start_time": "2024-04-05T09:00:04.819Z"
   },
   {
    "duration": 32,
    "start_time": "2024-04-05T09:00:04.917Z"
   },
   {
    "duration": 24,
    "start_time": "2024-04-05T09:00:04.950Z"
   },
   {
    "duration": 1845,
    "start_time": "2024-04-05T09:00:04.976Z"
   },
   {
    "duration": 8,
    "start_time": "2024-04-05T09:00:06.823Z"
   },
   {
    "duration": 24,
    "start_time": "2024-04-05T09:00:06.833Z"
   },
   {
    "duration": 9,
    "start_time": "2024-04-05T09:00:06.859Z"
   },
   {
    "duration": 9,
    "start_time": "2024-04-05T09:00:06.870Z"
   },
   {
    "duration": 11,
    "start_time": "2024-04-05T09:00:06.881Z"
   },
   {
    "duration": 24,
    "start_time": "2024-04-05T09:00:06.893Z"
   },
   {
    "duration": 42,
    "start_time": "2024-04-05T09:00:06.918Z"
   },
   {
    "duration": 3,
    "start_time": "2024-04-05T09:00:06.962Z"
   },
   {
    "duration": 49,
    "start_time": "2024-04-05T09:00:06.967Z"
   },
   {
    "duration": 3,
    "start_time": "2024-04-05T09:00:07.018Z"
   },
   {
    "duration": 28,
    "start_time": "2024-04-05T09:00:07.023Z"
   },
   {
    "duration": 3,
    "start_time": "2024-04-05T09:00:07.053Z"
   },
   {
    "duration": 8,
    "start_time": "2024-04-05T09:00:07.057Z"
   },
   {
    "duration": 21,
    "start_time": "2024-04-05T09:00:07.066Z"
   },
   {
    "duration": 22,
    "start_time": "2024-04-05T09:00:07.089Z"
   },
   {
    "duration": 19,
    "start_time": "2024-04-05T09:00:07.113Z"
   },
   {
    "duration": 12,
    "start_time": "2024-04-05T09:00:07.134Z"
   },
   {
    "duration": 22,
    "start_time": "2024-04-05T09:00:07.148Z"
   },
   {
    "duration": 24,
    "start_time": "2024-04-05T09:00:07.171Z"
   },
   {
    "duration": 59,
    "start_time": "2024-04-05T09:00:07.197Z"
   },
   {
    "duration": 23,
    "start_time": "2024-04-05T09:00:07.258Z"
   },
   {
    "duration": 223,
    "start_time": "2024-04-05T09:00:07.283Z"
   },
   {
    "duration": 12,
    "start_time": "2024-04-05T09:00:07.510Z"
   },
   {
    "duration": 24,
    "start_time": "2024-04-05T09:00:07.524Z"
   },
   {
    "duration": 25,
    "start_time": "2024-04-05T09:00:07.549Z"
   },
   {
    "duration": 6,
    "start_time": "2024-04-05T09:00:07.576Z"
   },
   {
    "duration": 21,
    "start_time": "2024-04-05T09:00:07.583Z"
   },
   {
    "duration": 355,
    "start_time": "2024-04-05T09:00:07.606Z"
   },
   {
    "duration": 10,
    "start_time": "2024-04-05T09:00:07.962Z"
   },
   {
    "duration": 18,
    "start_time": "2024-04-05T09:00:07.973Z"
   },
   {
    "duration": 257,
    "start_time": "2024-04-05T09:00:07.993Z"
   },
   {
    "duration": 9,
    "start_time": "2024-04-05T09:00:08.251Z"
   },
   {
    "duration": 312,
    "start_time": "2024-04-05T09:00:08.270Z"
   },
   {
    "duration": 8,
    "start_time": "2024-04-05T09:00:08.584Z"
   },
   {
    "duration": 199,
    "start_time": "2024-04-05T09:00:08.594Z"
   },
   {
    "duration": 8,
    "start_time": "2024-04-05T09:00:08.795Z"
   },
   {
    "duration": 168,
    "start_time": "2024-04-05T09:00:08.804Z"
   },
   {
    "duration": 9,
    "start_time": "2024-04-05T09:00:08.974Z"
   },
   {
    "duration": 262,
    "start_time": "2024-04-05T09:00:08.985Z"
   },
   {
    "duration": 8,
    "start_time": "2024-04-05T09:00:09.249Z"
   },
   {
    "duration": 218,
    "start_time": "2024-04-05T09:00:09.259Z"
   },
   {
    "duration": 164,
    "start_time": "2024-04-05T09:00:09.479Z"
   },
   {
    "duration": 8,
    "start_time": "2024-04-05T09:00:09.644Z"
   },
   {
    "duration": 216,
    "start_time": "2024-04-05T09:00:09.653Z"
   },
   {
    "duration": 9,
    "start_time": "2024-04-05T09:00:09.871Z"
   },
   {
    "duration": 306,
    "start_time": "2024-04-05T09:00:09.882Z"
   },
   {
    "duration": 10,
    "start_time": "2024-04-05T09:00:10.189Z"
   },
   {
    "duration": 382,
    "start_time": "2024-04-05T09:00:10.201Z"
   },
   {
    "duration": 9,
    "start_time": "2024-04-05T09:00:10.585Z"
   },
   {
    "duration": 264,
    "start_time": "2024-04-05T09:00:10.595Z"
   },
   {
    "duration": 20,
    "start_time": "2024-04-05T09:00:10.861Z"
   },
   {
    "duration": 26,
    "start_time": "2024-04-05T09:00:10.882Z"
   },
   {
    "duration": 32,
    "start_time": "2024-04-05T09:00:10.910Z"
   },
   {
    "duration": 45,
    "start_time": "2024-04-05T09:00:10.944Z"
   },
   {
    "duration": 153,
    "start_time": "2024-04-05T09:00:10.991Z"
   },
   {
    "duration": 205,
    "start_time": "2024-04-05T09:00:11.146Z"
   },
   {
    "duration": 157,
    "start_time": "2024-04-05T09:00:11.353Z"
   },
   {
    "duration": 85,
    "start_time": "2024-04-05T09:04:40.368Z"
   },
   {
    "duration": 138,
    "start_time": "2024-04-05T09:04:55.119Z"
   },
   {
    "duration": 138,
    "start_time": "2024-04-05T09:07:00.771Z"
   },
   {
    "duration": 15,
    "start_time": "2024-04-05T09:07:50.703Z"
   },
   {
    "duration": 655,
    "start_time": "2024-04-05T09:09:29.904Z"
   },
   {
    "duration": 96,
    "start_time": "2024-04-05T09:09:30.561Z"
   },
   {
    "duration": 31,
    "start_time": "2024-04-05T09:09:30.659Z"
   },
   {
    "duration": 37,
    "start_time": "2024-04-05T09:09:30.692Z"
   },
   {
    "duration": 1822,
    "start_time": "2024-04-05T09:09:30.731Z"
   },
   {
    "duration": 9,
    "start_time": "2024-04-05T09:09:32.555Z"
   },
   {
    "duration": 34,
    "start_time": "2024-04-05T09:09:32.565Z"
   },
   {
    "duration": 99,
    "start_time": "2024-04-05T09:09:32.601Z"
   },
   {
    "duration": 87,
    "start_time": "2024-04-05T09:09:32.701Z"
   },
   {
    "duration": 68,
    "start_time": "2024-04-05T09:09:32.790Z"
   },
   {
    "duration": 43,
    "start_time": "2024-04-05T09:09:32.860Z"
   },
   {
    "duration": 56,
    "start_time": "2024-04-05T09:09:32.904Z"
   },
   {
    "duration": 3,
    "start_time": "2024-04-05T09:09:32.962Z"
   },
   {
    "duration": 54,
    "start_time": "2024-04-05T09:09:32.966Z"
   },
   {
    "duration": 4,
    "start_time": "2024-04-05T09:09:33.021Z"
   },
   {
    "duration": 47,
    "start_time": "2024-04-05T09:09:33.026Z"
   },
   {
    "duration": 23,
    "start_time": "2024-04-05T09:09:33.075Z"
   },
   {
    "duration": 22,
    "start_time": "2024-04-05T09:09:33.100Z"
   },
   {
    "duration": 25,
    "start_time": "2024-04-05T09:09:33.123Z"
   },
   {
    "duration": 26,
    "start_time": "2024-04-05T09:09:33.150Z"
   },
   {
    "duration": 39,
    "start_time": "2024-04-05T09:09:33.177Z"
   },
   {
    "duration": 12,
    "start_time": "2024-04-05T09:09:33.218Z"
   },
   {
    "duration": 20,
    "start_time": "2024-04-05T09:09:33.232Z"
   },
   {
    "duration": 19,
    "start_time": "2024-04-05T09:09:33.253Z"
   },
   {
    "duration": 44,
    "start_time": "2024-04-05T09:09:33.274Z"
   },
   {
    "duration": 32,
    "start_time": "2024-04-05T09:09:33.319Z"
   },
   {
    "duration": 232,
    "start_time": "2024-04-05T09:09:33.352Z"
   },
   {
    "duration": 13,
    "start_time": "2024-04-05T09:09:33.588Z"
   },
   {
    "duration": 25,
    "start_time": "2024-04-05T09:09:33.602Z"
   },
   {
    "duration": 7,
    "start_time": "2024-04-05T09:09:33.628Z"
   },
   {
    "duration": 13,
    "start_time": "2024-04-05T09:09:33.636Z"
   },
   {
    "duration": 7,
    "start_time": "2024-04-05T09:09:33.670Z"
   },
   {
    "duration": 351,
    "start_time": "2024-04-05T09:09:33.679Z"
   },
   {
    "duration": 5,
    "start_time": "2024-04-05T09:09:34.032Z"
   },
   {
    "duration": 12,
    "start_time": "2024-04-05T09:09:34.038Z"
   },
   {
    "duration": 264,
    "start_time": "2024-04-05T09:09:34.051Z"
   },
   {
    "duration": 9,
    "start_time": "2024-04-05T09:09:34.316Z"
   },
   {
    "duration": 327,
    "start_time": "2024-04-05T09:09:34.327Z"
   },
   {
    "duration": 14,
    "start_time": "2024-04-05T09:09:34.656Z"
   },
   {
    "duration": 191,
    "start_time": "2024-04-05T09:09:34.672Z"
   },
   {
    "duration": 8,
    "start_time": "2024-04-05T09:09:34.869Z"
   },
   {
    "duration": 153,
    "start_time": "2024-04-05T09:09:34.879Z"
   },
   {
    "duration": 9,
    "start_time": "2024-04-05T09:09:35.034Z"
   },
   {
    "duration": 248,
    "start_time": "2024-04-05T09:09:35.045Z"
   },
   {
    "duration": 9,
    "start_time": "2024-04-05T09:09:35.295Z"
   },
   {
    "duration": 211,
    "start_time": "2024-04-05T09:09:35.306Z"
   },
   {
    "duration": 184,
    "start_time": "2024-04-05T09:09:35.519Z"
   },
   {
    "duration": 8,
    "start_time": "2024-04-05T09:09:35.704Z"
   },
   {
    "duration": 207,
    "start_time": "2024-04-05T09:09:35.713Z"
   },
   {
    "duration": 8,
    "start_time": "2024-04-05T09:09:35.921Z"
   },
   {
    "duration": 258,
    "start_time": "2024-04-05T09:09:35.931Z"
   },
   {
    "duration": 8,
    "start_time": "2024-04-05T09:09:36.190Z"
   },
   {
    "duration": 349,
    "start_time": "2024-04-05T09:09:36.200Z"
   },
   {
    "duration": 9,
    "start_time": "2024-04-05T09:09:36.550Z"
   },
   {
    "duration": 258,
    "start_time": "2024-04-05T09:09:36.570Z"
   },
   {
    "duration": 24,
    "start_time": "2024-04-05T09:09:36.830Z"
   },
   {
    "duration": 41,
    "start_time": "2024-04-05T09:09:36.856Z"
   },
   {
    "duration": 25,
    "start_time": "2024-04-05T09:09:36.899Z"
   },
   {
    "duration": 152,
    "start_time": "2024-04-05T09:09:36.925Z"
   },
   {
    "duration": 156,
    "start_time": "2024-04-05T09:09:37.079Z"
   },
   {
    "duration": 160,
    "start_time": "2024-04-05T09:09:37.237Z"
   },
   {
    "duration": 142,
    "start_time": "2024-04-05T09:09:37.399Z"
   },
   {
    "duration": 135,
    "start_time": "2024-04-05T09:09:37.543Z"
   },
   {
    "duration": 153,
    "start_time": "2024-04-05T09:09:37.679Z"
   },
   {
    "duration": 142,
    "start_time": "2024-04-05T09:09:37.834Z"
   },
   {
    "duration": 153,
    "start_time": "2024-04-05T09:09:37.977Z"
   },
   {
    "duration": 15,
    "start_time": "2024-04-05T09:09:38.132Z"
   },
   {
    "duration": 15,
    "start_time": "2024-04-05T09:18:03.346Z"
   },
   {
    "duration": 11,
    "start_time": "2024-04-05T09:19:00.880Z"
   },
   {
    "duration": 15,
    "start_time": "2024-04-05T09:19:14.512Z"
   },
   {
    "duration": 87,
    "start_time": "2024-04-05T09:20:06.140Z"
   },
   {
    "duration": 16,
    "start_time": "2024-04-05T09:21:14.690Z"
   },
   {
    "duration": 15,
    "start_time": "2024-04-05T09:21:59.840Z"
   },
   {
    "duration": 23,
    "start_time": "2024-04-05T09:24:18.425Z"
   },
   {
    "duration": 24,
    "start_time": "2024-04-05T09:24:26.208Z"
   },
   {
    "duration": 27,
    "start_time": "2024-04-05T09:24:49.748Z"
   },
   {
    "duration": 32,
    "start_time": "2024-04-05T09:29:55.481Z"
   },
   {
    "duration": 21,
    "start_time": "2024-04-05T09:30:21.338Z"
   },
   {
    "duration": 19,
    "start_time": "2024-04-05T09:31:36.587Z"
   },
   {
    "duration": 18,
    "start_time": "2024-04-05T09:31:59.491Z"
   },
   {
    "duration": 21,
    "start_time": "2024-04-05T09:33:24.694Z"
   },
   {
    "duration": 20,
    "start_time": "2024-04-05T09:34:13.075Z"
   },
   {
    "duration": 19,
    "start_time": "2024-04-05T09:34:54.370Z"
   },
   {
    "duration": 232,
    "start_time": "2024-04-05T09:35:02.034Z"
   },
   {
    "duration": 241,
    "start_time": "2024-04-05T09:35:36.119Z"
   },
   {
    "duration": 195,
    "start_time": "2024-04-05T09:35:46.551Z"
   },
   {
    "duration": 1261,
    "start_time": "2024-04-05T09:36:30.596Z"
   },
   {
    "duration": 14,
    "start_time": "2024-04-05T09:36:39.812Z"
   },
   {
    "duration": 190,
    "start_time": "2024-04-05T09:36:42.547Z"
   },
   {
    "duration": 13,
    "start_time": "2024-04-05T09:36:57.851Z"
   },
   {
    "duration": 13,
    "start_time": "2024-04-05T09:37:04.690Z"
   },
   {
    "duration": 213,
    "start_time": "2024-04-05T09:37:15.643Z"
   },
   {
    "duration": 310,
    "start_time": "2024-04-05T09:37:46.361Z"
   },
   {
    "duration": 205,
    "start_time": "2024-04-05T09:37:56.320Z"
   },
   {
    "duration": 256,
    "start_time": "2024-04-05T09:38:43.462Z"
   },
   {
    "duration": 201,
    "start_time": "2024-04-05T09:38:54.345Z"
   },
   {
    "duration": 88,
    "start_time": "2024-04-05T09:39:59.066Z"
   },
   {
    "duration": 186,
    "start_time": "2024-04-05T09:40:08.810Z"
   },
   {
    "duration": 653,
    "start_time": "2024-04-05T09:40:14.830Z"
   },
   {
    "duration": 100,
    "start_time": "2024-04-05T09:40:15.484Z"
   },
   {
    "duration": 35,
    "start_time": "2024-04-05T09:40:15.585Z"
   },
   {
    "duration": 15,
    "start_time": "2024-04-05T09:40:15.623Z"
   },
   {
    "duration": 1786,
    "start_time": "2024-04-05T09:40:15.639Z"
   },
   {
    "duration": 9,
    "start_time": "2024-04-05T09:40:17.426Z"
   },
   {
    "duration": 16,
    "start_time": "2024-04-05T09:40:17.437Z"
   },
   {
    "duration": 14,
    "start_time": "2024-04-05T09:40:17.455Z"
   },
   {
    "duration": 10,
    "start_time": "2024-04-05T09:40:17.471Z"
   },
   {
    "duration": 4,
    "start_time": "2024-04-05T09:40:17.483Z"
   },
   {
    "duration": 7,
    "start_time": "2024-04-05T09:40:17.489Z"
   },
   {
    "duration": 40,
    "start_time": "2024-04-05T09:40:17.497Z"
   },
   {
    "duration": 3,
    "start_time": "2024-04-05T09:40:17.538Z"
   },
   {
    "duration": 56,
    "start_time": "2024-04-05T09:40:17.543Z"
   },
   {
    "duration": 3,
    "start_time": "2024-04-05T09:40:17.601Z"
   },
   {
    "duration": 15,
    "start_time": "2024-04-05T09:40:17.606Z"
   },
   {
    "duration": 11,
    "start_time": "2024-04-05T09:40:17.623Z"
   },
   {
    "duration": 5,
    "start_time": "2024-04-05T09:40:17.636Z"
   },
   {
    "duration": 11,
    "start_time": "2024-04-05T09:40:17.643Z"
   },
   {
    "duration": 17,
    "start_time": "2024-04-05T09:40:17.656Z"
   },
   {
    "duration": 8,
    "start_time": "2024-04-05T09:40:17.674Z"
   },
   {
    "duration": 6,
    "start_time": "2024-04-05T09:40:17.684Z"
   },
   {
    "duration": 11,
    "start_time": "2024-04-05T09:40:17.691Z"
   },
   {
    "duration": 5,
    "start_time": "2024-04-05T09:40:17.703Z"
   },
   {
    "duration": 20,
    "start_time": "2024-04-05T09:40:17.709Z"
   },
   {
    "duration": 17,
    "start_time": "2024-04-05T09:40:17.730Z"
   },
   {
    "duration": 234,
    "start_time": "2024-04-05T09:40:17.748Z"
   },
   {
    "duration": 13,
    "start_time": "2024-04-05T09:40:17.986Z"
   },
   {
    "duration": 24,
    "start_time": "2024-04-05T09:40:18.000Z"
   },
   {
    "duration": 7,
    "start_time": "2024-04-05T09:40:18.026Z"
   },
   {
    "duration": 11,
    "start_time": "2024-04-05T09:40:18.034Z"
   },
   {
    "duration": 29,
    "start_time": "2024-04-05T09:40:18.046Z"
   },
   {
    "duration": 356,
    "start_time": "2024-04-05T09:40:18.077Z"
   },
   {
    "duration": 100,
    "start_time": "2024-04-05T09:40:18.434Z"
   },
   {
    "duration": 0,
    "start_time": "2024-04-05T09:40:18.535Z"
   },
   {
    "duration": 0,
    "start_time": "2024-04-05T09:40:18.537Z"
   },
   {
    "duration": 0,
    "start_time": "2024-04-05T09:40:18.537Z"
   },
   {
    "duration": 0,
    "start_time": "2024-04-05T09:40:18.538Z"
   },
   {
    "duration": 0,
    "start_time": "2024-04-05T09:40:18.539Z"
   },
   {
    "duration": 0,
    "start_time": "2024-04-05T09:40:18.540Z"
   },
   {
    "duration": 0,
    "start_time": "2024-04-05T09:40:18.541Z"
   },
   {
    "duration": 0,
    "start_time": "2024-04-05T09:40:18.543Z"
   },
   {
    "duration": 0,
    "start_time": "2024-04-05T09:40:18.544Z"
   },
   {
    "duration": 0,
    "start_time": "2024-04-05T09:40:18.545Z"
   },
   {
    "duration": 0,
    "start_time": "2024-04-05T09:40:18.546Z"
   },
   {
    "duration": 0,
    "start_time": "2024-04-05T09:40:18.548Z"
   },
   {
    "duration": 0,
    "start_time": "2024-04-05T09:40:18.549Z"
   },
   {
    "duration": 0,
    "start_time": "2024-04-05T09:40:18.550Z"
   },
   {
    "duration": 0,
    "start_time": "2024-04-05T09:40:18.552Z"
   },
   {
    "duration": 0,
    "start_time": "2024-04-05T09:40:18.553Z"
   },
   {
    "duration": 0,
    "start_time": "2024-04-05T09:40:18.554Z"
   },
   {
    "duration": 0,
    "start_time": "2024-04-05T09:40:18.555Z"
   },
   {
    "duration": 0,
    "start_time": "2024-04-05T09:40:18.557Z"
   },
   {
    "duration": 0,
    "start_time": "2024-04-05T09:40:18.558Z"
   },
   {
    "duration": 0,
    "start_time": "2024-04-05T09:40:18.559Z"
   },
   {
    "duration": 0,
    "start_time": "2024-04-05T09:40:18.560Z"
   },
   {
    "duration": 0,
    "start_time": "2024-04-05T09:40:18.561Z"
   },
   {
    "duration": 0,
    "start_time": "2024-04-05T09:40:18.563Z"
   },
   {
    "duration": 0,
    "start_time": "2024-04-05T09:40:18.564Z"
   },
   {
    "duration": 0,
    "start_time": "2024-04-05T09:40:18.565Z"
   },
   {
    "duration": 0,
    "start_time": "2024-04-05T09:40:18.567Z"
   },
   {
    "duration": 0,
    "start_time": "2024-04-05T09:40:18.568Z"
   },
   {
    "duration": 0,
    "start_time": "2024-04-05T09:40:18.569Z"
   },
   {
    "duration": 0,
    "start_time": "2024-04-05T09:40:18.570Z"
   },
   {
    "duration": 0,
    "start_time": "2024-04-05T09:40:18.572Z"
   },
   {
    "duration": 0,
    "start_time": "2024-04-05T09:40:18.573Z"
   },
   {
    "duration": 0,
    "start_time": "2024-04-05T09:40:18.575Z"
   },
   {
    "duration": 0,
    "start_time": "2024-04-05T09:40:18.576Z"
   },
   {
    "duration": 0,
    "start_time": "2024-04-05T09:40:18.577Z"
   },
   {
    "duration": 0,
    "start_time": "2024-04-05T09:40:18.579Z"
   },
   {
    "duration": 657,
    "start_time": "2024-04-05T09:40:43.070Z"
   },
   {
    "duration": 93,
    "start_time": "2024-04-05T09:40:43.729Z"
   },
   {
    "duration": 30,
    "start_time": "2024-04-05T09:40:43.824Z"
   },
   {
    "duration": 26,
    "start_time": "2024-04-05T09:40:43.856Z"
   },
   {
    "duration": 1811,
    "start_time": "2024-04-05T09:40:43.884Z"
   },
   {
    "duration": 10,
    "start_time": "2024-04-05T09:40:45.696Z"
   },
   {
    "duration": 31,
    "start_time": "2024-04-05T09:40:45.707Z"
   },
   {
    "duration": 22,
    "start_time": "2024-04-05T09:40:45.739Z"
   },
   {
    "duration": 13,
    "start_time": "2024-04-05T09:40:45.762Z"
   },
   {
    "duration": 10,
    "start_time": "2024-04-05T09:40:45.778Z"
   },
   {
    "duration": 10,
    "start_time": "2024-04-05T09:40:45.789Z"
   },
   {
    "duration": 48,
    "start_time": "2024-04-05T09:40:45.800Z"
   },
   {
    "duration": 3,
    "start_time": "2024-04-05T09:40:45.850Z"
   },
   {
    "duration": 44,
    "start_time": "2024-04-05T09:40:45.854Z"
   },
   {
    "duration": 3,
    "start_time": "2024-04-05T09:40:45.900Z"
   },
   {
    "duration": 11,
    "start_time": "2024-04-05T09:40:45.904Z"
   },
   {
    "duration": 22,
    "start_time": "2024-04-05T09:40:45.916Z"
   },
   {
    "duration": 13,
    "start_time": "2024-04-05T09:40:45.940Z"
   },
   {
    "duration": 20,
    "start_time": "2024-04-05T09:40:45.954Z"
   },
   {
    "duration": 14,
    "start_time": "2024-04-05T09:40:45.975Z"
   },
   {
    "duration": 7,
    "start_time": "2024-04-05T09:40:45.990Z"
   },
   {
    "duration": 4,
    "start_time": "2024-04-05T09:40:45.998Z"
   },
   {
    "duration": 4,
    "start_time": "2024-04-05T09:40:46.003Z"
   },
   {
    "duration": 10,
    "start_time": "2024-04-05T09:40:46.008Z"
   },
   {
    "duration": 22,
    "start_time": "2024-04-05T09:40:46.020Z"
   },
   {
    "duration": 37,
    "start_time": "2024-04-05T09:40:46.043Z"
   },
   {
    "duration": 246,
    "start_time": "2024-04-05T09:40:46.082Z"
   },
   {
    "duration": 13,
    "start_time": "2024-04-05T09:40:46.332Z"
   },
   {
    "duration": 38,
    "start_time": "2024-04-05T09:40:46.346Z"
   },
   {
    "duration": 6,
    "start_time": "2024-04-05T09:40:46.386Z"
   },
   {
    "duration": 8,
    "start_time": "2024-04-05T09:40:46.393Z"
   },
   {
    "duration": 16,
    "start_time": "2024-04-05T09:40:46.403Z"
   },
   {
    "duration": 344,
    "start_time": "2024-04-05T09:40:46.421Z"
   },
   {
    "duration": 7,
    "start_time": "2024-04-05T09:40:46.767Z"
   },
   {
    "duration": 37,
    "start_time": "2024-04-05T09:40:46.775Z"
   },
   {
    "duration": 258,
    "start_time": "2024-04-05T09:40:46.813Z"
   },
   {
    "duration": 9,
    "start_time": "2024-04-05T09:40:47.073Z"
   },
   {
    "duration": 349,
    "start_time": "2024-04-05T09:40:47.084Z"
   },
   {
    "duration": 9,
    "start_time": "2024-04-05T09:40:47.434Z"
   },
   {
    "duration": 217,
    "start_time": "2024-04-05T09:40:47.444Z"
   },
   {
    "duration": 14,
    "start_time": "2024-04-05T09:40:47.662Z"
   },
   {
    "duration": 164,
    "start_time": "2024-04-05T09:40:47.678Z"
   },
   {
    "duration": 8,
    "start_time": "2024-04-05T09:40:47.844Z"
   },
   {
    "duration": 259,
    "start_time": "2024-04-05T09:40:47.853Z"
   },
   {
    "duration": 9,
    "start_time": "2024-04-05T09:40:48.113Z"
   },
   {
    "duration": 235,
    "start_time": "2024-04-05T09:40:48.124Z"
   },
   {
    "duration": 183,
    "start_time": "2024-04-05T09:40:48.360Z"
   },
   {
    "duration": 9,
    "start_time": "2024-04-05T09:40:48.545Z"
   },
   {
    "duration": 223,
    "start_time": "2024-04-05T09:40:48.555Z"
   },
   {
    "duration": 9,
    "start_time": "2024-04-05T09:40:48.779Z"
   },
   {
    "duration": 265,
    "start_time": "2024-04-05T09:40:48.790Z"
   },
   {
    "duration": 14,
    "start_time": "2024-04-05T09:40:49.056Z"
   },
   {
    "duration": 362,
    "start_time": "2024-04-05T09:40:49.072Z"
   },
   {
    "duration": 9,
    "start_time": "2024-04-05T09:40:49.435Z"
   },
   {
    "duration": 277,
    "start_time": "2024-04-05T09:40:49.445Z"
   },
   {
    "duration": 27,
    "start_time": "2024-04-05T09:40:49.724Z"
   },
   {
    "duration": 53,
    "start_time": "2024-04-05T09:40:49.753Z"
   },
   {
    "duration": 30,
    "start_time": "2024-04-05T09:40:49.813Z"
   },
   {
    "duration": 172,
    "start_time": "2024-04-05T09:40:49.845Z"
   },
   {
    "duration": 166,
    "start_time": "2024-04-05T09:40:50.019Z"
   },
   {
    "duration": 171,
    "start_time": "2024-04-05T09:40:50.186Z"
   },
   {
    "duration": 164,
    "start_time": "2024-04-05T09:40:50.359Z"
   },
   {
    "duration": 135,
    "start_time": "2024-04-05T09:40:50.524Z"
   },
   {
    "duration": 162,
    "start_time": "2024-04-05T09:40:50.660Z"
   },
   {
    "duration": 158,
    "start_time": "2024-04-05T09:40:50.824Z"
   },
   {
    "duration": 174,
    "start_time": "2024-04-05T09:40:50.984Z"
   },
   {
    "duration": 20,
    "start_time": "2024-04-05T09:40:51.159Z"
   },
   {
    "duration": 25,
    "start_time": "2024-04-05T09:40:51.181Z"
   },
   {
    "duration": 15,
    "start_time": "2024-04-05T09:40:51.208Z"
   },
   {
    "duration": 192,
    "start_time": "2024-04-05T09:40:51.224Z"
   },
   {
    "duration": 185,
    "start_time": "2024-04-05T09:41:14.623Z"
   },
   {
    "duration": 158,
    "start_time": "2024-04-05T09:41:24.232Z"
   },
   {
    "duration": 119,
    "start_time": "2024-04-05T09:42:15.389Z"
   },
   {
    "duration": 160,
    "start_time": "2024-04-05T09:42:28.029Z"
   },
   {
    "duration": 156,
    "start_time": "2024-04-05T09:43:57.439Z"
   },
   {
    "duration": 284,
    "start_time": "2024-04-05T09:44:16.637Z"
   },
   {
    "duration": 174,
    "start_time": "2024-04-05T09:44:32.044Z"
   },
   {
    "duration": 670,
    "start_time": "2024-04-05T09:45:18.129Z"
   },
   {
    "duration": 101,
    "start_time": "2024-04-05T09:45:18.801Z"
   },
   {
    "duration": 33,
    "start_time": "2024-04-05T09:45:18.904Z"
   },
   {
    "duration": 31,
    "start_time": "2024-04-05T09:45:18.939Z"
   },
   {
    "duration": 1902,
    "start_time": "2024-04-05T09:45:18.971Z"
   },
   {
    "duration": 10,
    "start_time": "2024-04-05T09:45:20.875Z"
   },
   {
    "duration": 22,
    "start_time": "2024-04-05T09:45:20.887Z"
   },
   {
    "duration": 10,
    "start_time": "2024-04-05T09:45:20.911Z"
   },
   {
    "duration": 12,
    "start_time": "2024-04-05T09:45:20.922Z"
   },
   {
    "duration": 4,
    "start_time": "2024-04-05T09:45:20.936Z"
   },
   {
    "duration": 31,
    "start_time": "2024-04-05T09:45:20.941Z"
   },
   {
    "duration": 39,
    "start_time": "2024-04-05T09:45:20.974Z"
   },
   {
    "duration": 3,
    "start_time": "2024-04-05T09:45:21.015Z"
   },
   {
    "duration": 60,
    "start_time": "2024-04-05T09:45:21.019Z"
   },
   {
    "duration": 3,
    "start_time": "2024-04-05T09:45:21.081Z"
   },
   {
    "duration": 17,
    "start_time": "2024-04-05T09:45:21.085Z"
   },
   {
    "duration": 18,
    "start_time": "2024-04-05T09:45:21.103Z"
   },
   {
    "duration": 31,
    "start_time": "2024-04-05T09:45:21.122Z"
   },
   {
    "duration": 9,
    "start_time": "2024-04-05T09:45:21.154Z"
   },
   {
    "duration": 17,
    "start_time": "2024-04-05T09:45:21.164Z"
   },
   {
    "duration": 12,
    "start_time": "2024-04-05T09:45:21.183Z"
   },
   {
    "duration": 4,
    "start_time": "2024-04-05T09:45:21.197Z"
   },
   {
    "duration": 4,
    "start_time": "2024-04-05T09:45:21.202Z"
   },
   {
    "duration": 16,
    "start_time": "2024-04-05T09:45:21.207Z"
   },
   {
    "duration": 24,
    "start_time": "2024-04-05T09:45:21.225Z"
   },
   {
    "duration": 19,
    "start_time": "2024-04-05T09:45:21.251Z"
   },
   {
    "duration": 268,
    "start_time": "2024-04-05T09:45:21.272Z"
   },
   {
    "duration": 25,
    "start_time": "2024-04-05T09:45:21.546Z"
   },
   {
    "duration": 24,
    "start_time": "2024-04-05T09:45:21.573Z"
   },
   {
    "duration": 7,
    "start_time": "2024-04-05T09:45:21.598Z"
   },
   {
    "duration": 14,
    "start_time": "2024-04-05T09:45:21.607Z"
   },
   {
    "duration": 6,
    "start_time": "2024-04-05T09:45:21.623Z"
   },
   {
    "duration": 378,
    "start_time": "2024-04-05T09:45:21.630Z"
   },
   {
    "duration": 6,
    "start_time": "2024-04-05T09:45:22.009Z"
   },
   {
    "duration": 42,
    "start_time": "2024-04-05T09:45:22.017Z"
   },
   {
    "duration": 261,
    "start_time": "2024-04-05T09:45:22.060Z"
   },
   {
    "duration": 10,
    "start_time": "2024-04-05T09:45:22.323Z"
   },
   {
    "duration": 335,
    "start_time": "2024-04-05T09:45:22.334Z"
   },
   {
    "duration": 10,
    "start_time": "2024-04-05T09:45:22.671Z"
   },
   {
    "duration": 213,
    "start_time": "2024-04-05T09:45:22.682Z"
   },
   {
    "duration": 9,
    "start_time": "2024-04-05T09:45:22.897Z"
   },
   {
    "duration": 177,
    "start_time": "2024-04-05T09:45:22.907Z"
   },
   {
    "duration": 9,
    "start_time": "2024-04-05T09:45:23.086Z"
   },
   {
    "duration": 262,
    "start_time": "2024-04-05T09:45:23.096Z"
   },
   {
    "duration": 16,
    "start_time": "2024-04-05T09:45:23.360Z"
   },
   {
    "duration": 215,
    "start_time": "2024-04-05T09:45:23.378Z"
   },
   {
    "duration": 165,
    "start_time": "2024-04-05T09:45:23.595Z"
   },
   {
    "duration": 13,
    "start_time": "2024-04-05T09:45:23.762Z"
   },
   {
    "duration": 209,
    "start_time": "2024-04-05T09:45:23.776Z"
   },
   {
    "duration": 9,
    "start_time": "2024-04-05T09:45:23.987Z"
   },
   {
    "duration": 276,
    "start_time": "2024-04-05T09:45:23.997Z"
   },
   {
    "duration": 9,
    "start_time": "2024-04-05T09:45:24.275Z"
   },
   {
    "duration": 370,
    "start_time": "2024-04-05T09:45:24.286Z"
   },
   {
    "duration": 14,
    "start_time": "2024-04-05T09:45:24.658Z"
   },
   {
    "duration": 279,
    "start_time": "2024-04-05T09:45:24.674Z"
   },
   {
    "duration": 37,
    "start_time": "2024-04-05T09:45:24.954Z"
   },
   {
    "duration": 34,
    "start_time": "2024-04-05T09:45:24.992Z"
   },
   {
    "duration": 25,
    "start_time": "2024-04-05T09:45:25.028Z"
   },
   {
    "duration": 155,
    "start_time": "2024-04-05T09:45:25.070Z"
   },
   {
    "duration": 169,
    "start_time": "2024-04-05T09:45:25.227Z"
   },
   {
    "duration": 173,
    "start_time": "2024-04-05T09:45:25.398Z"
   },
   {
    "duration": 152,
    "start_time": "2024-04-05T09:45:25.573Z"
   },
   {
    "duration": 137,
    "start_time": "2024-04-05T09:45:25.727Z"
   },
   {
    "duration": 169,
    "start_time": "2024-04-05T09:45:25.870Z"
   },
   {
    "duration": 159,
    "start_time": "2024-04-05T09:45:26.040Z"
   },
   {
    "duration": 160,
    "start_time": "2024-04-05T09:45:26.201Z"
   },
   {
    "duration": 22,
    "start_time": "2024-04-05T09:45:26.362Z"
   },
   {
    "duration": 26,
    "start_time": "2024-04-05T09:45:26.385Z"
   },
   {
    "duration": 14,
    "start_time": "2024-04-05T09:45:26.412Z"
   },
   {
    "duration": 209,
    "start_time": "2024-04-05T09:45:26.428Z"
   },
   {
    "duration": 37,
    "start_time": "2024-04-05T10:24:38.192Z"
   },
   {
    "duration": 23,
    "start_time": "2024-04-05T10:24:40.664Z"
   },
   {
    "duration": 138,
    "start_time": "2024-04-05T10:25:11.229Z"
   },
   {
    "duration": 133,
    "start_time": "2024-04-05T10:25:14.548Z"
   },
   {
    "duration": 136,
    "start_time": "2024-04-05T10:25:16.981Z"
   },
   {
    "duration": 33,
    "start_time": "2024-04-05T10:25:45.238Z"
   },
   {
    "duration": 17,
    "start_time": "2024-04-05T10:25:46.765Z"
   },
   {
    "duration": 18,
    "start_time": "2024-04-05T10:26:21.585Z"
   },
   {
    "duration": 639,
    "start_time": "2024-04-05T10:26:28.373Z"
   },
   {
    "duration": 100,
    "start_time": "2024-04-05T10:26:29.013Z"
   },
   {
    "duration": 33,
    "start_time": "2024-04-05T10:26:29.114Z"
   },
   {
    "duration": 28,
    "start_time": "2024-04-05T10:26:29.149Z"
   },
   {
    "duration": 1798,
    "start_time": "2024-04-05T10:26:29.179Z"
   },
   {
    "duration": 10,
    "start_time": "2024-04-05T10:26:30.978Z"
   },
   {
    "duration": 100,
    "start_time": "2024-04-05T10:26:30.990Z"
   },
   {
    "duration": 78,
    "start_time": "2024-04-05T10:26:31.092Z"
   },
   {
    "duration": 97,
    "start_time": "2024-04-05T10:26:31.172Z"
   },
   {
    "duration": 62,
    "start_time": "2024-04-05T10:26:31.272Z"
   },
   {
    "duration": 76,
    "start_time": "2024-04-05T10:26:31.335Z"
   },
   {
    "duration": 97,
    "start_time": "2024-04-05T10:26:31.413Z"
   },
   {
    "duration": 11,
    "start_time": "2024-04-05T10:26:31.511Z"
   },
   {
    "duration": 81,
    "start_time": "2024-04-05T10:26:31.524Z"
   },
   {
    "duration": 48,
    "start_time": "2024-04-05T10:26:31.606Z"
   },
   {
    "duration": 40,
    "start_time": "2024-04-05T10:26:31.655Z"
   },
   {
    "duration": 69,
    "start_time": "2024-04-05T10:26:31.697Z"
   },
   {
    "duration": 66,
    "start_time": "2024-04-05T10:26:31.767Z"
   },
   {
    "duration": 33,
    "start_time": "2024-04-05T10:26:31.834Z"
   },
   {
    "duration": 37,
    "start_time": "2024-04-05T10:26:31.868Z"
   },
   {
    "duration": 35,
    "start_time": "2024-04-05T10:26:31.906Z"
   },
   {
    "duration": 26,
    "start_time": "2024-04-05T10:26:31.942Z"
   },
   {
    "duration": 36,
    "start_time": "2024-04-05T10:26:31.970Z"
   },
   {
    "duration": 28,
    "start_time": "2024-04-05T10:26:32.007Z"
   },
   {
    "duration": 71,
    "start_time": "2024-04-05T10:26:32.037Z"
   },
   {
    "duration": 39,
    "start_time": "2024-04-05T10:26:32.110Z"
   },
   {
    "duration": 316,
    "start_time": "2024-04-05T10:26:32.150Z"
   },
   {
    "duration": 13,
    "start_time": "2024-04-05T10:26:32.470Z"
   },
   {
    "duration": 79,
    "start_time": "2024-04-05T10:26:32.484Z"
   },
   {
    "duration": 17,
    "start_time": "2024-04-05T10:26:32.565Z"
   },
   {
    "duration": 27,
    "start_time": "2024-04-05T10:26:32.584Z"
   },
   {
    "duration": 15,
    "start_time": "2024-04-05T10:26:32.612Z"
   },
   {
    "duration": 348,
    "start_time": "2024-04-05T10:26:32.628Z"
   },
   {
    "duration": 5,
    "start_time": "2024-04-05T10:26:32.978Z"
   },
   {
    "duration": 8,
    "start_time": "2024-04-05T10:26:32.985Z"
   },
   {
    "duration": 258,
    "start_time": "2024-04-05T10:26:32.995Z"
   },
   {
    "duration": 18,
    "start_time": "2024-04-05T10:26:33.255Z"
   },
   {
    "duration": 303,
    "start_time": "2024-04-05T10:26:33.274Z"
   },
   {
    "duration": 9,
    "start_time": "2024-04-05T10:26:33.578Z"
   },
   {
    "duration": 207,
    "start_time": "2024-04-05T10:26:33.588Z"
   },
   {
    "duration": 8,
    "start_time": "2024-04-05T10:26:33.796Z"
   },
   {
    "duration": 152,
    "start_time": "2024-04-05T10:26:33.805Z"
   },
   {
    "duration": 16,
    "start_time": "2024-04-05T10:26:33.958Z"
   },
   {
    "duration": 245,
    "start_time": "2024-04-05T10:26:33.975Z"
   },
   {
    "duration": 8,
    "start_time": "2024-04-05T10:26:34.222Z"
   },
   {
    "duration": 201,
    "start_time": "2024-04-05T10:26:34.232Z"
   },
   {
    "duration": 160,
    "start_time": "2024-04-05T10:26:34.434Z"
   },
   {
    "duration": 8,
    "start_time": "2024-04-05T10:26:34.595Z"
   },
   {
    "duration": 223,
    "start_time": "2024-04-05T10:26:34.604Z"
   },
   {
    "duration": 9,
    "start_time": "2024-04-05T10:26:34.829Z"
   },
   {
    "duration": 270,
    "start_time": "2024-04-05T10:26:34.839Z"
   },
   {
    "duration": 9,
    "start_time": "2024-04-05T10:26:35.110Z"
   },
   {
    "duration": 343,
    "start_time": "2024-04-05T10:26:35.121Z"
   },
   {
    "duration": 9,
    "start_time": "2024-04-05T10:26:35.469Z"
   },
   {
    "duration": 261,
    "start_time": "2024-04-05T10:26:35.479Z"
   },
   {
    "duration": 30,
    "start_time": "2024-04-05T10:26:35.741Z"
   },
   {
    "duration": 30,
    "start_time": "2024-04-05T10:26:35.772Z"
   },
   {
    "duration": 24,
    "start_time": "2024-04-05T10:26:35.804Z"
   },
   {
    "duration": 162,
    "start_time": "2024-04-05T10:26:35.829Z"
   },
   {
    "duration": 185,
    "start_time": "2024-04-05T10:26:35.994Z"
   },
   {
    "duration": 153,
    "start_time": "2024-04-05T10:26:36.180Z"
   },
   {
    "duration": 136,
    "start_time": "2024-04-05T10:26:36.335Z"
   },
   {
    "duration": 130,
    "start_time": "2024-04-05T10:26:36.472Z"
   },
   {
    "duration": 143,
    "start_time": "2024-04-05T10:26:36.604Z"
   },
   {
    "duration": 137,
    "start_time": "2024-04-05T10:26:36.749Z"
   },
   {
    "duration": 157,
    "start_time": "2024-04-05T10:26:36.887Z"
   },
   {
    "duration": 24,
    "start_time": "2024-04-05T10:26:37.045Z"
   },
   {
    "duration": 25,
    "start_time": "2024-04-05T10:26:37.071Z"
   },
   {
    "duration": 15,
    "start_time": "2024-04-05T10:26:37.097Z"
   },
   {
    "duration": 203,
    "start_time": "2024-04-05T10:26:37.113Z"
   },
   {
    "duration": 126,
    "start_time": "2024-04-05T10:27:13.186Z"
   },
   {
    "duration": 140,
    "start_time": "2024-04-05T10:27:17.762Z"
   },
   {
    "duration": 147,
    "start_time": "2024-04-05T10:27:20.833Z"
   },
   {
    "duration": 164,
    "start_time": "2024-04-05T10:27:25.561Z"
   },
   {
    "duration": 859,
    "start_time": "2024-04-06T03:38:53.354Z"
   },
   {
    "duration": 284,
    "start_time": "2024-04-06T03:38:54.215Z"
   },
   {
    "duration": 39,
    "start_time": "2024-04-06T03:38:54.501Z"
   },
   {
    "duration": 18,
    "start_time": "2024-04-06T03:38:54.542Z"
   },
   {
    "duration": 1727,
    "start_time": "2024-04-06T03:38:54.562Z"
   },
   {
    "duration": 9,
    "start_time": "2024-04-06T03:38:56.291Z"
   },
   {
    "duration": 15,
    "start_time": "2024-04-06T03:38:56.301Z"
   },
   {
    "duration": 10,
    "start_time": "2024-04-06T03:38:56.317Z"
   },
   {
    "duration": 10,
    "start_time": "2024-04-06T03:38:56.328Z"
   },
   {
    "duration": 4,
    "start_time": "2024-04-06T03:38:56.341Z"
   },
   {
    "duration": 6,
    "start_time": "2024-04-06T03:38:56.346Z"
   },
   {
    "duration": 36,
    "start_time": "2024-04-06T03:38:56.380Z"
   },
   {
    "duration": 3,
    "start_time": "2024-04-06T03:38:56.417Z"
   },
   {
    "duration": 32,
    "start_time": "2024-04-06T03:38:56.422Z"
   },
   {
    "duration": 3,
    "start_time": "2024-04-06T03:38:56.455Z"
   },
   {
    "duration": 28,
    "start_time": "2024-04-06T03:38:56.459Z"
   },
   {
    "duration": 4,
    "start_time": "2024-04-06T03:38:56.488Z"
   },
   {
    "duration": 18,
    "start_time": "2024-04-06T03:38:56.493Z"
   },
   {
    "duration": 6,
    "start_time": "2024-04-06T03:38:56.513Z"
   },
   {
    "duration": 20,
    "start_time": "2024-04-06T03:38:56.520Z"
   },
   {
    "duration": 6,
    "start_time": "2024-04-06T03:38:56.542Z"
   },
   {
    "duration": 4,
    "start_time": "2024-04-06T03:38:56.550Z"
   },
   {
    "duration": 14,
    "start_time": "2024-04-06T03:38:56.556Z"
   },
   {
    "duration": 9,
    "start_time": "2024-04-06T03:38:56.572Z"
   },
   {
    "duration": 29,
    "start_time": "2024-04-06T03:38:56.583Z"
   },
   {
    "duration": 23,
    "start_time": "2024-04-06T03:38:56.614Z"
   },
   {
    "duration": 250,
    "start_time": "2024-04-06T03:38:56.638Z"
   },
   {
    "duration": 14,
    "start_time": "2024-04-06T03:38:56.892Z"
   },
   {
    "duration": 28,
    "start_time": "2024-04-06T03:38:56.908Z"
   },
   {
    "duration": 7,
    "start_time": "2024-04-06T03:38:56.937Z"
   },
   {
    "duration": 11,
    "start_time": "2024-04-06T03:38:56.946Z"
   },
   {
    "duration": 7,
    "start_time": "2024-04-06T03:38:56.981Z"
   },
   {
    "duration": 375,
    "start_time": "2024-04-06T03:38:56.990Z"
   },
   {
    "duration": 6,
    "start_time": "2024-04-06T03:38:57.366Z"
   },
   {
    "duration": 8,
    "start_time": "2024-04-06T03:38:57.380Z"
   },
   {
    "duration": 260,
    "start_time": "2024-04-06T03:38:57.389Z"
   },
   {
    "duration": 9,
    "start_time": "2024-04-06T03:38:57.650Z"
   },
   {
    "duration": 321,
    "start_time": "2024-04-06T03:38:57.661Z"
   },
   {
    "duration": 10,
    "start_time": "2024-04-06T03:38:57.983Z"
   },
   {
    "duration": 212,
    "start_time": "2024-04-06T03:38:57.994Z"
   },
   {
    "duration": 8,
    "start_time": "2024-04-06T03:38:58.208Z"
   },
   {
    "duration": 177,
    "start_time": "2024-04-06T03:38:58.217Z"
   },
   {
    "duration": 9,
    "start_time": "2024-04-06T03:38:58.395Z"
   },
   {
    "duration": 291,
    "start_time": "2024-04-06T03:38:58.406Z"
   },
   {
    "duration": 11,
    "start_time": "2024-04-06T03:38:58.700Z"
   },
   {
    "duration": 219,
    "start_time": "2024-04-06T03:38:58.713Z"
   },
   {
    "duration": 174,
    "start_time": "2024-04-06T03:38:58.934Z"
   },
   {
    "duration": 7,
    "start_time": "2024-04-06T03:38:59.110Z"
   },
   {
    "duration": 200,
    "start_time": "2024-04-06T03:38:59.119Z"
   },
   {
    "duration": 9,
    "start_time": "2024-04-06T03:38:59.321Z"
   },
   {
    "duration": 263,
    "start_time": "2024-04-06T03:38:59.331Z"
   },
   {
    "duration": 8,
    "start_time": "2024-04-06T03:38:59.596Z"
   },
   {
    "duration": 352,
    "start_time": "2024-04-06T03:38:59.606Z"
   },
   {
    "duration": 9,
    "start_time": "2024-04-06T03:38:59.960Z"
   },
   {
    "duration": 279,
    "start_time": "2024-04-06T03:38:59.980Z"
   },
   {
    "duration": 35,
    "start_time": "2024-04-06T03:39:00.261Z"
   },
   {
    "duration": 47,
    "start_time": "2024-04-06T03:39:00.297Z"
   },
   {
    "duration": 74,
    "start_time": "2024-04-06T03:39:00.345Z"
   },
   {
    "duration": 138,
    "start_time": "2024-04-06T03:39:00.420Z"
   },
   {
    "duration": 159,
    "start_time": "2024-04-06T03:39:00.559Z"
   },
   {
    "duration": 163,
    "start_time": "2024-04-06T03:39:00.719Z"
   },
   {
    "duration": 138,
    "start_time": "2024-04-06T03:39:00.884Z"
   },
   {
    "duration": 143,
    "start_time": "2024-04-06T03:39:01.023Z"
   },
   {
    "duration": 168,
    "start_time": "2024-04-06T03:39:01.168Z"
   },
   {
    "duration": 168,
    "start_time": "2024-04-06T03:39:01.338Z"
   },
   {
    "duration": 170,
    "start_time": "2024-04-06T03:39:01.507Z"
   },
   {
    "duration": 16,
    "start_time": "2024-04-06T03:39:01.680Z"
   },
   {
    "duration": 117,
    "start_time": "2024-04-06T03:39:01.698Z"
   },
   {
    "duration": 108,
    "start_time": "2024-04-06T03:39:01.817Z"
   },
   {
    "duration": 218,
    "start_time": "2024-04-06T03:39:01.927Z"
   },
   {
    "duration": 5,
    "start_time": "2024-04-06T03:48:48.816Z"
   },
   {
    "duration": 5,
    "start_time": "2024-04-06T03:48:53.829Z"
   },
   {
    "duration": 648,
    "start_time": "2024-04-06T03:49:00.905Z"
   },
   {
    "duration": 103,
    "start_time": "2024-04-06T03:49:01.555Z"
   },
   {
    "duration": 38,
    "start_time": "2024-04-06T03:49:01.660Z"
   },
   {
    "duration": 68,
    "start_time": "2024-04-06T03:49:01.700Z"
   },
   {
    "duration": 2039,
    "start_time": "2024-04-06T03:49:01.770Z"
   },
   {
    "duration": 11,
    "start_time": "2024-04-06T03:49:03.811Z"
   },
   {
    "duration": 24,
    "start_time": "2024-04-06T03:49:03.824Z"
   },
   {
    "duration": 11,
    "start_time": "2024-04-06T03:49:03.850Z"
   },
   {
    "duration": 26,
    "start_time": "2024-04-06T03:49:03.863Z"
   },
   {
    "duration": 6,
    "start_time": "2024-04-06T03:49:03.892Z"
   },
   {
    "duration": 9,
    "start_time": "2024-04-06T03:49:03.899Z"
   },
   {
    "duration": 11,
    "start_time": "2024-04-06T03:49:03.909Z"
   },
   {
    "duration": 59,
    "start_time": "2024-04-06T03:49:03.921Z"
   },
   {
    "duration": 3,
    "start_time": "2024-04-06T03:49:03.982Z"
   },
   {
    "duration": 42,
    "start_time": "2024-04-06T03:49:03.987Z"
   },
   {
    "duration": 3,
    "start_time": "2024-04-06T03:49:04.030Z"
   },
   {
    "duration": 18,
    "start_time": "2024-04-06T03:49:04.035Z"
   },
   {
    "duration": 3,
    "start_time": "2024-04-06T03:49:04.054Z"
   },
   {
    "duration": 21,
    "start_time": "2024-04-06T03:49:04.059Z"
   },
   {
    "duration": 5,
    "start_time": "2024-04-06T03:49:04.082Z"
   },
   {
    "duration": 19,
    "start_time": "2024-04-06T03:49:04.089Z"
   },
   {
    "duration": 17,
    "start_time": "2024-04-06T03:49:04.110Z"
   },
   {
    "duration": 18,
    "start_time": "2024-04-06T03:49:04.129Z"
   },
   {
    "duration": 27,
    "start_time": "2024-04-06T03:49:04.149Z"
   },
   {
    "duration": 14,
    "start_time": "2024-04-06T03:49:04.177Z"
   },
   {
    "duration": 34,
    "start_time": "2024-04-06T03:49:04.193Z"
   },
   {
    "duration": 18,
    "start_time": "2024-04-06T03:49:04.229Z"
   },
   {
    "duration": 273,
    "start_time": "2024-04-06T03:49:04.252Z"
   },
   {
    "duration": 20,
    "start_time": "2024-04-06T03:49:04.528Z"
   },
   {
    "duration": 43,
    "start_time": "2024-04-06T03:49:04.550Z"
   },
   {
    "duration": 10,
    "start_time": "2024-04-06T03:49:04.595Z"
   },
   {
    "duration": 8,
    "start_time": "2024-04-06T03:49:04.607Z"
   },
   {
    "duration": 8,
    "start_time": "2024-04-06T03:49:04.617Z"
   },
   {
    "duration": 404,
    "start_time": "2024-04-06T03:49:04.627Z"
   },
   {
    "duration": 7,
    "start_time": "2024-04-06T03:49:05.032Z"
   },
   {
    "duration": 10,
    "start_time": "2024-04-06T03:49:05.041Z"
   },
   {
    "duration": 298,
    "start_time": "2024-04-06T03:49:05.053Z"
   },
   {
    "duration": 10,
    "start_time": "2024-04-06T03:49:05.353Z"
   },
   {
    "duration": 366,
    "start_time": "2024-04-06T03:49:05.365Z"
   },
   {
    "duration": 8,
    "start_time": "2024-04-06T03:49:05.733Z"
   },
   {
    "duration": 215,
    "start_time": "2024-04-06T03:49:05.743Z"
   },
   {
    "duration": 9,
    "start_time": "2024-04-06T03:49:05.959Z"
   },
   {
    "duration": 177,
    "start_time": "2024-04-06T03:49:05.969Z"
   },
   {
    "duration": 10,
    "start_time": "2024-04-06T03:49:06.148Z"
   },
   {
    "duration": 274,
    "start_time": "2024-04-06T03:49:06.159Z"
   },
   {
    "duration": 54,
    "start_time": "2024-04-06T03:49:06.435Z"
   },
   {
    "duration": 418,
    "start_time": "2024-04-06T03:49:06.491Z"
   },
   {
    "duration": 395,
    "start_time": "2024-04-06T03:49:06.911Z"
   },
   {
    "duration": 8,
    "start_time": "2024-04-06T03:49:07.307Z"
   },
   {
    "duration": 407,
    "start_time": "2024-04-06T03:49:07.316Z"
   },
   {
    "duration": 61,
    "start_time": "2024-04-06T03:49:07.724Z"
   },
   {
    "duration": 353,
    "start_time": "2024-04-06T03:49:07.787Z"
   },
   {
    "duration": 9,
    "start_time": "2024-04-06T03:49:08.141Z"
   },
   {
    "duration": 393,
    "start_time": "2024-04-06T03:49:08.151Z"
   },
   {
    "duration": 11,
    "start_time": "2024-04-06T03:49:08.546Z"
   },
   {
    "duration": 304,
    "start_time": "2024-04-06T03:49:08.559Z"
   },
   {
    "duration": 35,
    "start_time": "2024-04-06T03:49:08.865Z"
   },
   {
    "duration": 34,
    "start_time": "2024-04-06T03:49:08.902Z"
   },
   {
    "duration": 45,
    "start_time": "2024-04-06T03:49:08.937Z"
   },
   {
    "duration": 152,
    "start_time": "2024-04-06T03:49:08.984Z"
   },
   {
    "duration": 166,
    "start_time": "2024-04-06T03:49:09.138Z"
   },
   {
    "duration": 164,
    "start_time": "2024-04-06T03:49:09.306Z"
   },
   {
    "duration": 146,
    "start_time": "2024-04-06T03:49:09.471Z"
   },
   {
    "duration": 146,
    "start_time": "2024-04-06T03:49:09.619Z"
   },
   {
    "duration": 174,
    "start_time": "2024-04-06T03:49:09.767Z"
   },
   {
    "duration": 166,
    "start_time": "2024-04-06T03:49:09.943Z"
   },
   {
    "duration": 182,
    "start_time": "2024-04-06T03:49:10.111Z"
   },
   {
    "duration": 16,
    "start_time": "2024-04-06T03:49:10.296Z"
   },
   {
    "duration": 26,
    "start_time": "2024-04-06T03:49:10.313Z"
   },
   {
    "duration": 16,
    "start_time": "2024-04-06T03:49:10.341Z"
   },
   {
    "duration": 203,
    "start_time": "2024-04-06T03:49:10.381Z"
   },
   {
    "duration": 661,
    "start_time": "2024-04-06T04:55:40.124Z"
   },
   {
    "duration": 111,
    "start_time": "2024-04-06T04:55:40.787Z"
   },
   {
    "duration": 36,
    "start_time": "2024-04-06T04:55:40.899Z"
   },
   {
    "duration": 15,
    "start_time": "2024-04-06T04:55:40.938Z"
   },
   {
    "duration": 1968,
    "start_time": "2024-04-06T04:55:40.954Z"
   },
   {
    "duration": 11,
    "start_time": "2024-04-06T04:55:42.923Z"
   },
   {
    "duration": 16,
    "start_time": "2024-04-06T04:55:42.935Z"
   },
   {
    "duration": 10,
    "start_time": "2024-04-06T04:55:42.952Z"
   },
   {
    "duration": 23,
    "start_time": "2024-04-06T04:55:42.963Z"
   },
   {
    "duration": 5,
    "start_time": "2024-04-06T04:55:42.988Z"
   },
   {
    "duration": 12,
    "start_time": "2024-04-06T04:55:42.994Z"
   },
   {
    "duration": 23,
    "start_time": "2024-04-06T04:55:43.007Z"
   },
   {
    "duration": 47,
    "start_time": "2024-04-06T04:55:43.031Z"
   },
   {
    "duration": 4,
    "start_time": "2024-04-06T04:55:43.079Z"
   },
   {
    "duration": 36,
    "start_time": "2024-04-06T04:55:43.084Z"
   },
   {
    "duration": 4,
    "start_time": "2024-04-06T04:55:43.122Z"
   },
   {
    "duration": 15,
    "start_time": "2024-04-06T04:55:43.127Z"
   },
   {
    "duration": 12,
    "start_time": "2024-04-06T04:55:43.144Z"
   },
   {
    "duration": 3,
    "start_time": "2024-04-06T04:55:43.157Z"
   },
   {
    "duration": 18,
    "start_time": "2024-04-06T04:55:43.162Z"
   },
   {
    "duration": 8,
    "start_time": "2024-04-06T04:55:43.182Z"
   },
   {
    "duration": 29,
    "start_time": "2024-04-06T04:55:43.192Z"
   },
   {
    "duration": 4,
    "start_time": "2024-04-06T04:55:43.223Z"
   },
   {
    "duration": 4,
    "start_time": "2024-04-06T04:55:43.228Z"
   },
   {
    "duration": 11,
    "start_time": "2024-04-06T04:55:43.234Z"
   },
   {
    "duration": 22,
    "start_time": "2024-04-06T04:55:43.247Z"
   },
   {
    "duration": 25,
    "start_time": "2024-04-06T04:55:43.271Z"
   },
   {
    "duration": 239,
    "start_time": "2024-04-06T04:55:43.300Z"
   },
   {
    "duration": 13,
    "start_time": "2024-04-06T04:55:43.541Z"
   },
   {
    "duration": 43,
    "start_time": "2024-04-06T04:55:43.556Z"
   },
   {
    "duration": 7,
    "start_time": "2024-04-06T04:55:43.601Z"
   },
   {
    "duration": 7,
    "start_time": "2024-04-06T04:55:43.610Z"
   },
   {
    "duration": 9,
    "start_time": "2024-04-06T04:55:43.618Z"
   },
   {
    "duration": 399,
    "start_time": "2024-04-06T04:55:43.628Z"
   },
   {
    "duration": 7,
    "start_time": "2024-04-06T04:55:44.028Z"
   },
   {
    "duration": 21,
    "start_time": "2024-04-06T04:55:44.037Z"
   },
   {
    "duration": 281,
    "start_time": "2024-04-06T04:55:44.060Z"
   },
   {
    "duration": 9,
    "start_time": "2024-04-06T04:55:44.344Z"
   },
   {
    "duration": 349,
    "start_time": "2024-04-06T04:55:44.354Z"
   },
   {
    "duration": 9,
    "start_time": "2024-04-06T04:55:44.704Z"
   },
   {
    "duration": 207,
    "start_time": "2024-04-06T04:55:44.714Z"
   },
   {
    "duration": 8,
    "start_time": "2024-04-06T04:55:44.923Z"
   },
   {
    "duration": 172,
    "start_time": "2024-04-06T04:55:44.932Z"
   },
   {
    "duration": 8,
    "start_time": "2024-04-06T04:55:45.105Z"
   },
   {
    "duration": 267,
    "start_time": "2024-04-06T04:55:45.115Z"
   },
   {
    "duration": 9,
    "start_time": "2024-04-06T04:55:45.383Z"
   },
   {
    "duration": 225,
    "start_time": "2024-04-06T04:55:45.394Z"
   },
   {
    "duration": 185,
    "start_time": "2024-04-06T04:55:45.621Z"
   },
   {
    "duration": 10,
    "start_time": "2024-04-06T04:55:45.808Z"
   },
   {
    "duration": 223,
    "start_time": "2024-04-06T04:55:45.819Z"
   },
   {
    "duration": 9,
    "start_time": "2024-04-06T04:55:46.043Z"
   },
   {
    "duration": 287,
    "start_time": "2024-04-06T04:55:46.054Z"
   },
   {
    "duration": 9,
    "start_time": "2024-04-06T04:55:46.343Z"
   },
   {
    "duration": 389,
    "start_time": "2024-04-06T04:55:46.353Z"
   },
   {
    "duration": 9,
    "start_time": "2024-04-06T04:55:46.744Z"
   },
   {
    "duration": 283,
    "start_time": "2024-04-06T04:55:46.754Z"
   },
   {
    "duration": 28,
    "start_time": "2024-04-06T04:55:47.038Z"
   },
   {
    "duration": 36,
    "start_time": "2024-04-06T04:55:47.079Z"
   },
   {
    "duration": 26,
    "start_time": "2024-04-06T04:55:47.117Z"
   },
   {
    "duration": 207,
    "start_time": "2024-04-06T04:55:47.145Z"
   },
   {
    "duration": 192,
    "start_time": "2024-04-06T04:55:47.354Z"
   },
   {
    "duration": 165,
    "start_time": "2024-04-06T04:55:47.548Z"
   },
   {
    "duration": 138,
    "start_time": "2024-04-06T04:55:47.715Z"
   },
   {
    "duration": 140,
    "start_time": "2024-04-06T04:55:47.855Z"
   },
   {
    "duration": 157,
    "start_time": "2024-04-06T04:55:47.997Z"
   },
   {
    "duration": 153,
    "start_time": "2024-04-06T04:55:48.155Z"
   },
   {
    "duration": 164,
    "start_time": "2024-04-06T04:55:48.310Z"
   },
   {
    "duration": 17,
    "start_time": "2024-04-06T04:55:48.476Z"
   },
   {
    "duration": 29,
    "start_time": "2024-04-06T04:55:48.495Z"
   },
   {
    "duration": 17,
    "start_time": "2024-04-06T04:55:48.525Z"
   },
   {
    "duration": 236,
    "start_time": "2024-04-06T04:55:48.544Z"
   },
   {
    "duration": 24,
    "start_time": "2024-04-06T05:00:14.050Z"
   },
   {
    "duration": 35,
    "start_time": "2024-04-06T05:04:18.138Z"
   },
   {
    "duration": 26,
    "start_time": "2024-04-06T05:04:18.610Z"
   },
   {
    "duration": 3,
    "start_time": "2024-04-06T05:05:20.774Z"
   },
   {
    "duration": 25,
    "start_time": "2024-04-06T05:05:22.239Z"
   },
   {
    "duration": 708,
    "start_time": "2024-04-06T05:05:33.490Z"
   },
   {
    "duration": 107,
    "start_time": "2024-04-06T05:05:34.200Z"
   },
   {
    "duration": 36,
    "start_time": "2024-04-06T05:05:34.309Z"
   },
   {
    "duration": 16,
    "start_time": "2024-04-06T05:05:34.347Z"
   },
   {
    "duration": 1996,
    "start_time": "2024-04-06T05:05:34.381Z"
   },
   {
    "duration": 10,
    "start_time": "2024-04-06T05:05:36.379Z"
   },
   {
    "duration": 16,
    "start_time": "2024-04-06T05:05:36.391Z"
   },
   {
    "duration": 11,
    "start_time": "2024-04-06T05:05:36.408Z"
   },
   {
    "duration": 11,
    "start_time": "2024-04-06T05:05:36.421Z"
   },
   {
    "duration": 5,
    "start_time": "2024-04-06T05:05:36.435Z"
   },
   {
    "duration": 7,
    "start_time": "2024-04-06T05:05:36.481Z"
   },
   {
    "duration": 11,
    "start_time": "2024-04-06T05:05:36.490Z"
   },
   {
    "duration": 47,
    "start_time": "2024-04-06T05:05:36.503Z"
   },
   {
    "duration": 5,
    "start_time": "2024-04-06T05:05:36.553Z"
   },
   {
    "duration": 55,
    "start_time": "2024-04-06T05:05:36.559Z"
   },
   {
    "duration": 4,
    "start_time": "2024-04-06T05:05:36.617Z"
   },
   {
    "duration": 14,
    "start_time": "2024-04-06T05:05:36.623Z"
   },
   {
    "duration": 4,
    "start_time": "2024-04-06T05:05:36.638Z"
   },
   {
    "duration": 8,
    "start_time": "2024-04-06T05:05:36.644Z"
   },
   {
    "duration": 29,
    "start_time": "2024-04-06T05:05:36.654Z"
   },
   {
    "duration": 11,
    "start_time": "2024-04-06T05:05:36.684Z"
   },
   {
    "duration": 17,
    "start_time": "2024-04-06T05:05:36.697Z"
   },
   {
    "duration": 8,
    "start_time": "2024-04-06T05:05:36.716Z"
   },
   {
    "duration": 10,
    "start_time": "2024-04-06T05:05:36.726Z"
   },
   {
    "duration": 10,
    "start_time": "2024-04-06T05:05:36.738Z"
   },
   {
    "duration": 35,
    "start_time": "2024-04-06T05:05:36.751Z"
   },
   {
    "duration": 19,
    "start_time": "2024-04-06T05:05:36.788Z"
   },
   {
    "duration": 293,
    "start_time": "2024-04-06T05:05:36.811Z"
   },
   {
    "duration": 15,
    "start_time": "2024-04-06T05:05:37.106Z"
   },
   {
    "duration": 28,
    "start_time": "2024-04-06T05:05:37.123Z"
   },
   {
    "duration": 29,
    "start_time": "2024-04-06T05:05:37.152Z"
   },
   {
    "duration": 8,
    "start_time": "2024-04-06T05:05:37.182Z"
   },
   {
    "duration": 9,
    "start_time": "2024-04-06T05:05:37.191Z"
   },
   {
    "duration": 396,
    "start_time": "2024-04-06T05:05:37.201Z"
   },
   {
    "duration": 7,
    "start_time": "2024-04-06T05:05:37.599Z"
   },
   {
    "duration": 11,
    "start_time": "2024-04-06T05:05:37.607Z"
   },
   {
    "duration": 283,
    "start_time": "2024-04-06T05:05:37.619Z"
   },
   {
    "duration": 9,
    "start_time": "2024-04-06T05:05:37.904Z"
   },
   {
    "duration": 356,
    "start_time": "2024-04-06T05:05:37.914Z"
   },
   {
    "duration": 14,
    "start_time": "2024-04-06T05:05:38.272Z"
   },
   {
    "duration": 249,
    "start_time": "2024-04-06T05:05:38.287Z"
   },
   {
    "duration": 8,
    "start_time": "2024-04-06T05:05:38.538Z"
   },
   {
    "duration": 210,
    "start_time": "2024-04-06T05:05:38.548Z"
   },
   {
    "duration": 9,
    "start_time": "2024-04-06T05:05:38.760Z"
   },
   {
    "duration": 272,
    "start_time": "2024-04-06T05:05:38.780Z"
   },
   {
    "duration": 9,
    "start_time": "2024-04-06T05:05:39.054Z"
   },
   {
    "duration": 232,
    "start_time": "2024-04-06T05:05:39.065Z"
   },
   {
    "duration": 178,
    "start_time": "2024-04-06T05:05:39.299Z"
   },
   {
    "duration": 9,
    "start_time": "2024-04-06T05:05:39.479Z"
   },
   {
    "duration": 229,
    "start_time": "2024-04-06T05:05:39.490Z"
   },
   {
    "duration": 14,
    "start_time": "2024-04-06T05:05:39.720Z"
   },
   {
    "duration": 289,
    "start_time": "2024-04-06T05:05:39.736Z"
   },
   {
    "duration": 14,
    "start_time": "2024-04-06T05:05:40.027Z"
   },
   {
    "duration": 388,
    "start_time": "2024-04-06T05:05:40.043Z"
   },
   {
    "duration": 10,
    "start_time": "2024-04-06T05:05:40.433Z"
   },
   {
    "duration": 293,
    "start_time": "2024-04-06T05:05:40.444Z"
   },
   {
    "duration": 28,
    "start_time": "2024-04-06T05:05:40.739Z"
   },
   {
    "duration": 11,
    "start_time": "2024-04-06T05:05:40.769Z"
   },
   {
    "duration": 26,
    "start_time": "2024-04-06T05:05:40.782Z"
   },
   {
    "duration": 171,
    "start_time": "2024-04-06T05:05:40.809Z"
   },
   {
    "duration": 175,
    "start_time": "2024-04-06T05:05:40.982Z"
   },
   {
    "duration": 161,
    "start_time": "2024-04-06T05:05:41.159Z"
   },
   {
    "duration": 161,
    "start_time": "2024-04-06T05:05:41.321Z"
   },
   {
    "duration": 163,
    "start_time": "2024-04-06T05:05:41.484Z"
   },
   {
    "duration": 177,
    "start_time": "2024-04-06T05:05:41.648Z"
   },
   {
    "duration": 172,
    "start_time": "2024-04-06T05:05:41.826Z"
   },
   {
    "duration": 178,
    "start_time": "2024-04-06T05:05:42.000Z"
   },
   {
    "duration": 27,
    "start_time": "2024-04-06T05:05:42.180Z"
   },
   {
    "duration": 16,
    "start_time": "2024-04-06T05:05:42.209Z"
   },
   {
    "duration": 211,
    "start_time": "2024-04-06T05:05:42.227Z"
   },
   {
    "duration": 98,
    "start_time": "2024-04-06T05:14:40.152Z"
   },
   {
    "duration": 148,
    "start_time": "2024-04-06T05:14:48.256Z"
   },
   {
    "duration": 163,
    "start_time": "2024-04-06T05:15:52.764Z"
   },
   {
    "duration": 167,
    "start_time": "2024-04-06T05:16:26.650Z"
   },
   {
    "duration": 144,
    "start_time": "2024-04-06T05:17:14.354Z"
   },
   {
    "duration": 140,
    "start_time": "2024-04-06T05:17:27.526Z"
   },
   {
    "duration": 269,
    "start_time": "2024-04-06T05:17:48.846Z"
   },
   {
    "duration": 156,
    "start_time": "2024-04-06T05:17:57.381Z"
   },
   {
    "duration": 155,
    "start_time": "2024-04-06T05:18:03.092Z"
   },
   {
    "duration": 151,
    "start_time": "2024-04-06T05:18:17.308Z"
   },
   {
    "duration": 146,
    "start_time": "2024-04-06T05:19:10.105Z"
   },
   {
    "duration": 163,
    "start_time": "2024-04-06T05:19:40.328Z"
   },
   {
    "duration": 167,
    "start_time": "2024-04-06T05:19:45.482Z"
   },
   {
    "duration": 172,
    "start_time": "2024-04-06T05:19:50.159Z"
   },
   {
    "duration": 92,
    "start_time": "2024-04-06T05:27:50.003Z"
   },
   {
    "duration": 192,
    "start_time": "2024-04-06T05:27:56.223Z"
   },
   {
    "duration": 213,
    "start_time": "2024-04-06T05:28:08.721Z"
   },
   {
    "duration": 292,
    "start_time": "2024-04-06T05:29:02.543Z"
   },
   {
    "duration": 86,
    "start_time": "2024-04-06T05:29:21.421Z"
   },
   {
    "duration": 242,
    "start_time": "2024-04-06T05:29:57.939Z"
   },
   {
    "duration": 218,
    "start_time": "2024-04-06T05:30:10.569Z"
   },
   {
    "duration": 210,
    "start_time": "2024-04-06T05:31:04.560Z"
   },
   {
    "duration": 202,
    "start_time": "2024-04-06T05:31:29.605Z"
   },
   {
    "duration": 142,
    "start_time": "2024-04-06T05:57:10.973Z"
   },
   {
    "duration": 26,
    "start_time": "2024-04-06T06:00:42.732Z"
   },
   {
    "duration": 27,
    "start_time": "2024-04-06T06:00:53.482Z"
   },
   {
    "duration": 27,
    "start_time": "2024-04-06T06:00:58.322Z"
   },
   {
    "duration": 699,
    "start_time": "2024-04-06T11:49:32.567Z"
   },
   {
    "duration": 112,
    "start_time": "2024-04-06T11:49:33.268Z"
   },
   {
    "duration": 43,
    "start_time": "2024-04-06T11:49:33.381Z"
   },
   {
    "duration": 16,
    "start_time": "2024-04-06T11:49:33.426Z"
   },
   {
    "duration": 1991,
    "start_time": "2024-04-06T11:49:33.443Z"
   },
   {
    "duration": 10,
    "start_time": "2024-04-06T11:49:35.435Z"
   },
   {
    "duration": 18,
    "start_time": "2024-04-06T11:49:35.446Z"
   },
   {
    "duration": 38,
    "start_time": "2024-04-06T11:49:35.466Z"
   },
   {
    "duration": 11,
    "start_time": "2024-04-06T11:49:35.506Z"
   },
   {
    "duration": 12,
    "start_time": "2024-04-06T11:49:35.519Z"
   },
   {
    "duration": 6,
    "start_time": "2024-04-06T11:49:35.533Z"
   },
   {
    "duration": 7,
    "start_time": "2024-04-06T11:49:35.541Z"
   },
   {
    "duration": 51,
    "start_time": "2024-04-06T11:49:35.550Z"
   },
   {
    "duration": 4,
    "start_time": "2024-04-06T11:49:35.606Z"
   },
   {
    "duration": 38,
    "start_time": "2024-04-06T11:49:35.611Z"
   },
   {
    "duration": 3,
    "start_time": "2024-04-06T11:49:35.651Z"
   },
   {
    "duration": 15,
    "start_time": "2024-04-06T11:49:35.655Z"
   },
   {
    "duration": 30,
    "start_time": "2024-04-06T11:49:35.671Z"
   },
   {
    "duration": 18,
    "start_time": "2024-04-06T11:49:35.703Z"
   },
   {
    "duration": 35,
    "start_time": "2024-04-06T11:49:35.723Z"
   },
   {
    "duration": 48,
    "start_time": "2024-04-06T11:49:35.759Z"
   },
   {
    "duration": 8,
    "start_time": "2024-04-06T11:49:35.808Z"
   },
   {
    "duration": 8,
    "start_time": "2024-04-06T11:49:35.818Z"
   },
   {
    "duration": 15,
    "start_time": "2024-04-06T11:49:35.828Z"
   },
   {
    "duration": 7,
    "start_time": "2024-04-06T11:49:35.844Z"
   },
   {
    "duration": 24,
    "start_time": "2024-04-06T11:49:35.852Z"
   },
   {
    "duration": 36,
    "start_time": "2024-04-06T11:49:35.878Z"
   },
   {
    "duration": 262,
    "start_time": "2024-04-06T11:49:35.918Z"
   },
   {
    "duration": 29,
    "start_time": "2024-04-06T11:49:36.181Z"
   },
   {
    "duration": 26,
    "start_time": "2024-04-06T11:49:36.212Z"
   },
   {
    "duration": 7,
    "start_time": "2024-04-06T11:49:36.240Z"
   },
   {
    "duration": 8,
    "start_time": "2024-04-06T11:49:36.249Z"
   },
   {
    "duration": 7,
    "start_time": "2024-04-06T11:49:36.259Z"
   },
   {
    "duration": 392,
    "start_time": "2024-04-06T11:49:36.292Z"
   },
   {
    "duration": 25,
    "start_time": "2024-04-06T11:49:36.686Z"
   },
   {
    "duration": 32,
    "start_time": "2024-04-06T11:49:36.713Z"
   },
   {
    "duration": 305,
    "start_time": "2024-04-06T11:49:36.746Z"
   },
   {
    "duration": 10,
    "start_time": "2024-04-06T11:49:37.052Z"
   },
   {
    "duration": 378,
    "start_time": "2024-04-06T11:49:37.064Z"
   },
   {
    "duration": 9,
    "start_time": "2024-04-06T11:49:37.444Z"
   },
   {
    "duration": 239,
    "start_time": "2024-04-06T11:49:37.454Z"
   },
   {
    "duration": 10,
    "start_time": "2024-04-06T11:49:37.703Z"
   },
   {
    "duration": 174,
    "start_time": "2024-04-06T11:49:37.714Z"
   },
   {
    "duration": 14,
    "start_time": "2024-04-06T11:49:37.892Z"
   },
   {
    "duration": 305,
    "start_time": "2024-04-06T11:49:37.909Z"
   },
   {
    "duration": 9,
    "start_time": "2024-04-06T11:49:38.216Z"
   },
   {
    "duration": 245,
    "start_time": "2024-04-06T11:49:38.227Z"
   },
   {
    "duration": 179,
    "start_time": "2024-04-06T11:49:38.474Z"
   },
   {
    "duration": 9,
    "start_time": "2024-04-06T11:49:38.654Z"
   },
   {
    "duration": 240,
    "start_time": "2024-04-06T11:49:38.665Z"
   },
   {
    "duration": 11,
    "start_time": "2024-04-06T11:49:38.906Z"
   },
   {
    "duration": 292,
    "start_time": "2024-04-06T11:49:38.918Z"
   },
   {
    "duration": 10,
    "start_time": "2024-04-06T11:49:39.211Z"
   },
   {
    "duration": 406,
    "start_time": "2024-04-06T11:49:39.223Z"
   },
   {
    "duration": 11,
    "start_time": "2024-04-06T11:49:39.631Z"
   },
   {
    "duration": 325,
    "start_time": "2024-04-06T11:49:39.644Z"
   },
   {
    "duration": 36,
    "start_time": "2024-04-06T11:49:39.971Z"
   },
   {
    "duration": 166,
    "start_time": "2024-04-06T11:49:40.009Z"
   },
   {
    "duration": 183,
    "start_time": "2024-04-06T11:49:40.176Z"
   },
   {
    "duration": 187,
    "start_time": "2024-04-06T11:49:40.361Z"
   },
   {
    "duration": 173,
    "start_time": "2024-04-06T11:49:40.549Z"
   },
   {
    "duration": 157,
    "start_time": "2024-04-06T11:49:40.724Z"
   },
   {
    "duration": 192,
    "start_time": "2024-04-06T11:49:40.883Z"
   },
   {
    "duration": 233,
    "start_time": "2024-04-06T11:49:41.076Z"
   },
   {
    "duration": 206,
    "start_time": "2024-04-06T11:49:41.311Z"
   },
   {
    "duration": 30,
    "start_time": "2024-04-06T11:49:41.518Z"
   },
   {
    "duration": 15,
    "start_time": "2024-04-06T11:49:41.550Z"
   },
   {
    "duration": 243,
    "start_time": "2024-04-06T11:49:41.567Z"
   },
   {
    "duration": 15,
    "start_time": "2024-04-06T12:11:06.690Z"
   },
   {
    "duration": 42,
    "start_time": "2024-04-07T03:21:49.701Z"
   },
   {
    "duration": 712,
    "start_time": "2024-04-07T03:21:55.565Z"
   },
   {
    "duration": 213,
    "start_time": "2024-04-07T03:21:56.279Z"
   },
   {
    "duration": 27,
    "start_time": "2024-04-07T03:21:56.493Z"
   },
   {
    "duration": 12,
    "start_time": "2024-04-07T03:21:56.521Z"
   },
   {
    "duration": 1451,
    "start_time": "2024-04-07T03:21:56.535Z"
   },
   {
    "duration": 8,
    "start_time": "2024-04-07T03:21:57.987Z"
   },
   {
    "duration": 13,
    "start_time": "2024-04-07T03:21:57.996Z"
   },
   {
    "duration": 9,
    "start_time": "2024-04-07T03:21:58.011Z"
   },
   {
    "duration": 10,
    "start_time": "2024-04-07T03:21:58.021Z"
   },
   {
    "duration": 3,
    "start_time": "2024-04-07T03:21:58.032Z"
   },
   {
    "duration": 5,
    "start_time": "2024-04-07T03:21:58.037Z"
   },
   {
    "duration": 5,
    "start_time": "2024-04-07T03:21:58.043Z"
   },
   {
    "duration": 61,
    "start_time": "2024-04-07T03:21:58.049Z"
   },
   {
    "duration": 3,
    "start_time": "2024-04-07T03:21:58.113Z"
   },
   {
    "duration": 32,
    "start_time": "2024-04-07T03:21:58.117Z"
   },
   {
    "duration": 3,
    "start_time": "2024-04-07T03:21:58.150Z"
   },
   {
    "duration": 9,
    "start_time": "2024-04-07T03:21:58.154Z"
   },
   {
    "duration": 3,
    "start_time": "2024-04-07T03:21:58.165Z"
   },
   {
    "duration": 3,
    "start_time": "2024-04-07T03:21:58.169Z"
   },
   {
    "duration": 29,
    "start_time": "2024-04-07T03:21:58.173Z"
   },
   {
    "duration": 9,
    "start_time": "2024-04-07T03:21:58.203Z"
   },
   {
    "duration": 7,
    "start_time": "2024-04-07T03:21:58.213Z"
   },
   {
    "duration": 3,
    "start_time": "2024-04-07T03:21:58.221Z"
   },
   {
    "duration": 4,
    "start_time": "2024-04-07T03:21:58.226Z"
   },
   {
    "duration": 3,
    "start_time": "2024-04-07T03:21:58.231Z"
   },
   {
    "duration": 17,
    "start_time": "2024-04-07T03:21:58.235Z"
   },
   {
    "duration": 13,
    "start_time": "2024-04-07T03:21:58.254Z"
   },
   {
    "duration": 214,
    "start_time": "2024-04-07T03:21:58.269Z"
   },
   {
    "duration": 18,
    "start_time": "2024-04-07T03:21:58.484Z"
   },
   {
    "duration": 20,
    "start_time": "2024-04-07T03:21:58.503Z"
   },
   {
    "duration": 6,
    "start_time": "2024-04-07T03:21:58.524Z"
   },
   {
    "duration": 5,
    "start_time": "2024-04-07T03:21:58.531Z"
   },
   {
    "duration": 6,
    "start_time": "2024-04-07T03:21:58.537Z"
   },
   {
    "duration": 334,
    "start_time": "2024-04-07T03:21:58.544Z"
   },
   {
    "duration": 6,
    "start_time": "2024-04-07T03:21:58.879Z"
   },
   {
    "duration": 108,
    "start_time": "2024-04-07T03:21:58.886Z"
   },
   {
    "duration": 244,
    "start_time": "2024-04-07T03:21:58.995Z"
   },
   {
    "duration": 7,
    "start_time": "2024-04-07T03:21:59.241Z"
   },
   {
    "duration": 279,
    "start_time": "2024-04-07T03:21:59.249Z"
   },
   {
    "duration": 8,
    "start_time": "2024-04-07T03:21:59.529Z"
   },
   {
    "duration": 165,
    "start_time": "2024-04-07T03:21:59.541Z"
   },
   {
    "duration": 7,
    "start_time": "2024-04-07T03:21:59.708Z"
   },
   {
    "duration": 133,
    "start_time": "2024-04-07T03:21:59.716Z"
   },
   {
    "duration": 7,
    "start_time": "2024-04-07T03:21:59.850Z"
   },
   {
    "duration": 207,
    "start_time": "2024-04-07T03:21:59.858Z"
   },
   {
    "duration": 7,
    "start_time": "2024-04-07T03:22:00.066Z"
   },
   {
    "duration": 179,
    "start_time": "2024-04-07T03:22:00.074Z"
   },
   {
    "duration": 169,
    "start_time": "2024-04-07T03:22:00.254Z"
   },
   {
    "duration": 9,
    "start_time": "2024-04-07T03:22:00.425Z"
   },
   {
    "duration": 221,
    "start_time": "2024-04-07T03:22:00.435Z"
   },
   {
    "duration": 8,
    "start_time": "2024-04-07T03:22:00.657Z"
   },
   {
    "duration": 296,
    "start_time": "2024-04-07T03:22:00.666Z"
   },
   {
    "duration": 7,
    "start_time": "2024-04-07T03:22:00.963Z"
   },
   {
    "duration": 340,
    "start_time": "2024-04-07T03:22:00.972Z"
   },
   {
    "duration": 8,
    "start_time": "2024-04-07T03:22:01.313Z"
   },
   {
    "duration": 259,
    "start_time": "2024-04-07T03:22:01.322Z"
   },
   {
    "duration": 28,
    "start_time": "2024-04-07T03:22:01.582Z"
   },
   {
    "duration": 162,
    "start_time": "2024-04-07T03:22:01.611Z"
   },
   {
    "duration": 136,
    "start_time": "2024-04-07T03:22:01.774Z"
   },
   {
    "duration": 141,
    "start_time": "2024-04-07T03:22:01.911Z"
   },
   {
    "duration": 119,
    "start_time": "2024-04-07T03:22:02.053Z"
   },
   {
    "duration": 116,
    "start_time": "2024-04-07T03:22:02.173Z"
   },
   {
    "duration": 136,
    "start_time": "2024-04-07T03:22:02.291Z"
   },
   {
    "duration": 132,
    "start_time": "2024-04-07T03:22:02.428Z"
   },
   {
    "duration": 196,
    "start_time": "2024-04-07T03:22:02.562Z"
   },
   {
    "duration": 22,
    "start_time": "2024-04-07T03:22:02.760Z"
   },
   {
    "duration": 24,
    "start_time": "2024-04-07T03:22:02.783Z"
   },
   {
    "duration": 160,
    "start_time": "2024-04-07T03:22:02.808Z"
   },
   {
    "duration": 13,
    "start_time": "2024-04-07T03:22:32.668Z"
   },
   {
    "duration": 65,
    "start_time": "2024-04-07T03:30:25.997Z"
   },
   {
    "duration": 150,
    "start_time": "2024-04-07T03:30:37.748Z"
   },
   {
    "duration": 153,
    "start_time": "2024-04-07T03:30:44.483Z"
   },
   {
    "duration": 212,
    "start_time": "2024-04-07T03:31:27.923Z"
   },
   {
    "duration": 83,
    "start_time": "2024-04-07T03:31:45.626Z"
   },
   {
    "duration": 155,
    "start_time": "2024-04-07T03:31:50.369Z"
   },
   {
    "duration": 174,
    "start_time": "2024-04-07T03:34:21.126Z"
   },
   {
    "duration": 171,
    "start_time": "2024-04-07T03:36:50.158Z"
   },
   {
    "duration": 165,
    "start_time": "2024-04-07T03:37:22.934Z"
   },
   {
    "duration": 60,
    "start_time": "2024-04-07T03:38:02.588Z"
   },
   {
    "duration": 170,
    "start_time": "2024-04-07T03:38:12.995Z"
   },
   {
    "duration": 158,
    "start_time": "2024-04-07T03:38:23.419Z"
   },
   {
    "duration": 125,
    "start_time": "2024-04-07T03:39:22.049Z"
   },
   {
    "duration": 126,
    "start_time": "2024-04-07T03:41:12.327Z"
   },
   {
    "duration": 69,
    "start_time": "2024-04-07T03:41:29.290Z"
   },
   {
    "duration": 221,
    "start_time": "2024-04-07T03:41:34.465Z"
   },
   {
    "duration": 13,
    "start_time": "2024-04-07T03:49:00.670Z"
   },
   {
    "duration": 261,
    "start_time": "2024-04-07T03:58:24.821Z"
   },
   {
    "duration": 187,
    "start_time": "2024-04-07T03:58:33.052Z"
   },
   {
    "duration": 146,
    "start_time": "2024-04-07T04:02:33.087Z"
   },
   {
    "duration": 176,
    "start_time": "2024-04-07T04:02:50.957Z"
   },
   {
    "duration": 125,
    "start_time": "2024-04-07T04:05:04.638Z"
   },
   {
    "duration": 124,
    "start_time": "2024-04-07T04:07:06.680Z"
   },
   {
    "duration": 133,
    "start_time": "2024-04-07T04:07:47.459Z"
   },
   {
    "duration": 99,
    "start_time": "2024-04-07T04:08:06.426Z"
   },
   {
    "duration": 128,
    "start_time": "2024-04-07T04:08:15.478Z"
   },
   {
    "duration": 8,
    "start_time": "2024-04-07T04:14:29.494Z"
   },
   {
    "duration": 194,
    "start_time": "2024-04-07T04:16:36.663Z"
   },
   {
    "duration": 216,
    "start_time": "2024-04-07T04:16:46.783Z"
   },
   {
    "duration": 271,
    "start_time": "2024-04-07T04:16:53.664Z"
   },
   {
    "duration": 561,
    "start_time": "2024-04-07T04:19:28.850Z"
   },
   {
    "duration": 83,
    "start_time": "2024-04-07T04:19:29.413Z"
   },
   {
    "duration": 25,
    "start_time": "2024-04-07T04:19:29.498Z"
   },
   {
    "duration": 11,
    "start_time": "2024-04-07T04:19:29.526Z"
   },
   {
    "duration": 1453,
    "start_time": "2024-04-07T04:19:29.539Z"
   },
   {
    "duration": 7,
    "start_time": "2024-04-07T04:19:30.993Z"
   },
   {
    "duration": 57,
    "start_time": "2024-04-07T04:19:31.002Z"
   },
   {
    "duration": 41,
    "start_time": "2024-04-07T04:19:31.061Z"
   },
   {
    "duration": 57,
    "start_time": "2024-04-07T04:19:31.103Z"
   },
   {
    "duration": 24,
    "start_time": "2024-04-07T04:19:31.162Z"
   },
   {
    "duration": 31,
    "start_time": "2024-04-07T04:19:31.188Z"
   },
   {
    "duration": 58,
    "start_time": "2024-04-07T04:19:31.221Z"
   },
   {
    "duration": 73,
    "start_time": "2024-04-07T04:19:31.280Z"
   },
   {
    "duration": 61,
    "start_time": "2024-04-07T04:19:31.354Z"
   },
   {
    "duration": 57,
    "start_time": "2024-04-07T04:19:31.416Z"
   },
   {
    "duration": 2,
    "start_time": "2024-04-07T04:19:31.475Z"
   },
   {
    "duration": 32,
    "start_time": "2024-04-07T04:19:31.478Z"
   },
   {
    "duration": 23,
    "start_time": "2024-04-07T04:19:31.511Z"
   },
   {
    "duration": 33,
    "start_time": "2024-04-07T04:19:31.535Z"
   },
   {
    "duration": 26,
    "start_time": "2024-04-07T04:19:31.569Z"
   },
   {
    "duration": 17,
    "start_time": "2024-04-07T04:19:31.596Z"
   },
   {
    "duration": 31,
    "start_time": "2024-04-07T04:19:31.614Z"
   },
   {
    "duration": 19,
    "start_time": "2024-04-07T04:19:31.646Z"
   },
   {
    "duration": 18,
    "start_time": "2024-04-07T04:19:31.666Z"
   },
   {
    "duration": 39,
    "start_time": "2024-04-07T04:19:31.685Z"
   },
   {
    "duration": 43,
    "start_time": "2024-04-07T04:19:31.726Z"
   },
   {
    "duration": 26,
    "start_time": "2024-04-07T04:19:31.770Z"
   },
   {
    "duration": 190,
    "start_time": "2024-04-07T04:19:31.799Z"
   },
   {
    "duration": 13,
    "start_time": "2024-04-07T04:19:31.990Z"
   },
   {
    "duration": 18,
    "start_time": "2024-04-07T04:19:32.004Z"
   },
   {
    "duration": 5,
    "start_time": "2024-04-07T04:19:32.023Z"
   },
   {
    "duration": 17,
    "start_time": "2024-04-07T04:19:32.029Z"
   },
   {
    "duration": 9,
    "start_time": "2024-04-07T04:19:32.047Z"
   },
   {
    "duration": 297,
    "start_time": "2024-04-07T04:19:32.057Z"
   },
   {
    "duration": 5,
    "start_time": "2024-04-07T04:19:32.355Z"
   },
   {
    "duration": 35,
    "start_time": "2024-04-07T04:19:32.361Z"
   },
   {
    "duration": 209,
    "start_time": "2024-04-07T04:19:32.397Z"
   },
   {
    "duration": 8,
    "start_time": "2024-04-07T04:19:32.607Z"
   },
   {
    "duration": 270,
    "start_time": "2024-04-07T04:19:32.616Z"
   },
   {
    "duration": 7,
    "start_time": "2024-04-07T04:19:32.887Z"
   },
   {
    "duration": 142,
    "start_time": "2024-04-07T04:19:32.902Z"
   },
   {
    "duration": 7,
    "start_time": "2024-04-07T04:19:33.045Z"
   },
   {
    "duration": 127,
    "start_time": "2024-04-07T04:19:33.053Z"
   },
   {
    "duration": 6,
    "start_time": "2024-04-07T04:19:33.182Z"
   },
   {
    "duration": 196,
    "start_time": "2024-04-07T04:19:33.190Z"
   },
   {
    "duration": 7,
    "start_time": "2024-04-07T04:19:33.387Z"
   },
   {
    "duration": 153,
    "start_time": "2024-04-07T04:19:33.395Z"
   },
   {
    "duration": 136,
    "start_time": "2024-04-07T04:19:33.549Z"
   },
   {
    "duration": 6,
    "start_time": "2024-04-07T04:19:33.686Z"
   },
   {
    "duration": 147,
    "start_time": "2024-04-07T04:19:33.701Z"
   },
   {
    "duration": 8,
    "start_time": "2024-04-07T04:19:33.849Z"
   },
   {
    "duration": 204,
    "start_time": "2024-04-07T04:19:33.858Z"
   },
   {
    "duration": 7,
    "start_time": "2024-04-07T04:19:34.063Z"
   },
   {
    "duration": 252,
    "start_time": "2024-04-07T04:19:34.071Z"
   },
   {
    "duration": 7,
    "start_time": "2024-04-07T04:19:34.324Z"
   },
   {
    "duration": 200,
    "start_time": "2024-04-07T04:19:34.332Z"
   },
   {
    "duration": 18,
    "start_time": "2024-04-07T04:19:34.534Z"
   },
   {
    "duration": 117,
    "start_time": "2024-04-07T04:19:34.553Z"
   },
   {
    "duration": 148,
    "start_time": "2024-04-07T04:19:34.672Z"
   },
   {
    "duration": 141,
    "start_time": "2024-04-07T04:19:34.821Z"
   },
   {
    "duration": 125,
    "start_time": "2024-04-07T04:19:34.963Z"
   },
   {
    "duration": 137,
    "start_time": "2024-04-07T04:19:35.089Z"
   },
   {
    "duration": 132,
    "start_time": "2024-04-07T04:19:35.228Z"
   },
   {
    "duration": 128,
    "start_time": "2024-04-07T04:19:35.361Z"
   },
   {
    "duration": 136,
    "start_time": "2024-04-07T04:19:35.490Z"
   },
   {
    "duration": 21,
    "start_time": "2024-04-07T04:19:35.627Z"
   },
   {
    "duration": 55,
    "start_time": "2024-04-07T04:19:35.649Z"
   },
   {
    "duration": 397,
    "start_time": "2024-04-07T04:19:35.705Z"
   },
   {
    "duration": 611,
    "start_time": "2024-04-07T04:20:06.099Z"
   },
   {
    "duration": 93,
    "start_time": "2024-04-07T04:20:06.712Z"
   },
   {
    "duration": 34,
    "start_time": "2024-04-07T04:20:06.806Z"
   },
   {
    "duration": 13,
    "start_time": "2024-04-07T04:20:06.841Z"
   },
   {
    "duration": 1532,
    "start_time": "2024-04-07T04:20:06.856Z"
   },
   {
    "duration": 8,
    "start_time": "2024-04-07T04:20:08.389Z"
   },
   {
    "duration": 14,
    "start_time": "2024-04-07T04:20:08.399Z"
   },
   {
    "duration": 10,
    "start_time": "2024-04-07T04:20:08.415Z"
   },
   {
    "duration": 18,
    "start_time": "2024-04-07T04:20:08.426Z"
   },
   {
    "duration": 9,
    "start_time": "2024-04-07T04:20:08.447Z"
   },
   {
    "duration": 19,
    "start_time": "2024-04-07T04:20:08.457Z"
   },
   {
    "duration": 9,
    "start_time": "2024-04-07T04:20:08.478Z"
   },
   {
    "duration": 36,
    "start_time": "2024-04-07T04:20:08.489Z"
   },
   {
    "duration": 3,
    "start_time": "2024-04-07T04:20:08.527Z"
   },
   {
    "duration": 43,
    "start_time": "2024-04-07T04:20:08.531Z"
   },
   {
    "duration": 3,
    "start_time": "2024-04-07T04:20:08.575Z"
   },
   {
    "duration": 21,
    "start_time": "2024-04-07T04:20:08.579Z"
   },
   {
    "duration": 8,
    "start_time": "2024-04-07T04:20:08.601Z"
   },
   {
    "duration": 8,
    "start_time": "2024-04-07T04:20:08.610Z"
   },
   {
    "duration": 4,
    "start_time": "2024-04-07T04:20:08.619Z"
   },
   {
    "duration": 13,
    "start_time": "2024-04-07T04:20:08.624Z"
   },
   {
    "duration": 12,
    "start_time": "2024-04-07T04:20:08.638Z"
   },
   {
    "duration": 21,
    "start_time": "2024-04-07T04:20:08.651Z"
   },
   {
    "duration": 7,
    "start_time": "2024-04-07T04:20:08.674Z"
   },
   {
    "duration": 12,
    "start_time": "2024-04-07T04:20:08.682Z"
   },
   {
    "duration": 28,
    "start_time": "2024-04-07T04:20:08.695Z"
   },
   {
    "duration": 14,
    "start_time": "2024-04-07T04:20:08.724Z"
   },
   {
    "duration": 211,
    "start_time": "2024-04-07T04:20:08.741Z"
   },
   {
    "duration": 11,
    "start_time": "2024-04-07T04:20:08.953Z"
   },
   {
    "duration": 31,
    "start_time": "2024-04-07T04:20:08.966Z"
   },
   {
    "duration": 5,
    "start_time": "2024-04-07T04:20:09.002Z"
   },
   {
    "duration": 17,
    "start_time": "2024-04-07T04:20:09.009Z"
   },
   {
    "duration": 9,
    "start_time": "2024-04-07T04:20:09.027Z"
   },
   {
    "duration": 331,
    "start_time": "2024-04-07T04:20:09.037Z"
   },
   {
    "duration": 6,
    "start_time": "2024-04-07T04:20:09.369Z"
   },
   {
    "duration": 43,
    "start_time": "2024-04-07T04:20:09.376Z"
   },
   {
    "duration": 209,
    "start_time": "2024-04-07T04:20:09.420Z"
   },
   {
    "duration": 8,
    "start_time": "2024-04-07T04:20:09.630Z"
   },
   {
    "duration": 270,
    "start_time": "2024-04-07T04:20:09.639Z"
   },
   {
    "duration": 7,
    "start_time": "2024-04-07T04:20:09.910Z"
   },
   {
    "duration": 160,
    "start_time": "2024-04-07T04:20:09.918Z"
   },
   {
    "duration": 7,
    "start_time": "2024-04-07T04:20:10.079Z"
   },
   {
    "duration": 141,
    "start_time": "2024-04-07T04:20:10.087Z"
   },
   {
    "duration": 8,
    "start_time": "2024-04-07T04:20:10.229Z"
   },
   {
    "duration": 212,
    "start_time": "2024-04-07T04:20:10.238Z"
   },
   {
    "duration": 7,
    "start_time": "2024-04-07T04:20:10.451Z"
   },
   {
    "duration": 168,
    "start_time": "2024-04-07T04:20:10.460Z"
   },
   {
    "duration": 134,
    "start_time": "2024-04-07T04:20:10.629Z"
   },
   {
    "duration": 6,
    "start_time": "2024-04-07T04:20:10.765Z"
   },
   {
    "duration": 166,
    "start_time": "2024-04-07T04:20:10.772Z"
   },
   {
    "duration": 7,
    "start_time": "2024-04-07T04:20:10.940Z"
   },
   {
    "duration": 205,
    "start_time": "2024-04-07T04:20:10.948Z"
   },
   {
    "duration": 7,
    "start_time": "2024-04-07T04:20:11.155Z"
   },
   {
    "duration": 269,
    "start_time": "2024-04-07T04:20:11.163Z"
   },
   {
    "duration": 8,
    "start_time": "2024-04-07T04:20:11.434Z"
   },
   {
    "duration": 209,
    "start_time": "2024-04-07T04:20:11.443Z"
   },
   {
    "duration": 19,
    "start_time": "2024-04-07T04:20:11.654Z"
   },
   {
    "duration": 124,
    "start_time": "2024-04-07T04:20:11.674Z"
   },
   {
    "duration": 144,
    "start_time": "2024-04-07T04:20:11.802Z"
   },
   {
    "duration": 138,
    "start_time": "2024-04-07T04:20:11.948Z"
   },
   {
    "duration": 137,
    "start_time": "2024-04-07T04:20:12.087Z"
   },
   {
    "duration": 120,
    "start_time": "2024-04-07T04:20:12.225Z"
   },
   {
    "duration": 137,
    "start_time": "2024-04-07T04:20:12.346Z"
   },
   {
    "duration": 131,
    "start_time": "2024-04-07T04:20:12.484Z"
   },
   {
    "duration": 142,
    "start_time": "2024-04-07T04:20:12.616Z"
   },
   {
    "duration": 22,
    "start_time": "2024-04-07T04:20:12.759Z"
   },
   {
    "duration": 22,
    "start_time": "2024-04-07T04:20:12.782Z"
   },
   {
    "duration": 207,
    "start_time": "2024-04-07T04:20:12.805Z"
   },
   {
    "duration": 60,
    "start_time": "2024-04-07T04:21:59.269Z"
   },
   {
    "duration": 64,
    "start_time": "2024-04-07T04:23:17.203Z"
   },
   {
    "duration": 62,
    "start_time": "2024-04-07T04:24:57.412Z"
   },
   {
    "duration": 178,
    "start_time": "2024-04-07T04:25:12.604Z"
   },
   {
    "duration": 89,
    "start_time": "2024-04-07T04:25:48.964Z"
   },
   {
    "duration": 89,
    "start_time": "2024-04-07T04:25:56.658Z"
   },
   {
    "duration": 205,
    "start_time": "2024-04-07T04:30:24.140Z"
   },
   {
    "duration": 224,
    "start_time": "2024-04-07T04:31:10.315Z"
   },
   {
    "duration": 210,
    "start_time": "2024-04-07T04:31:29.130Z"
   },
   {
    "duration": 82,
    "start_time": "2024-04-07T04:32:09.296Z"
   },
   {
    "duration": 127,
    "start_time": "2024-04-07T04:32:21.455Z"
   },
   {
    "duration": 129,
    "start_time": "2024-04-07T04:32:43.629Z"
   },
   {
    "duration": 125,
    "start_time": "2024-04-07T04:33:01.989Z"
   },
   {
    "duration": 170,
    "start_time": "2024-04-07T04:33:11.196Z"
   },
   {
    "duration": 116,
    "start_time": "2024-04-07T04:38:01.467Z"
   },
   {
    "duration": 115,
    "start_time": "2024-04-07T04:38:36.385Z"
   },
   {
    "duration": 110,
    "start_time": "2024-04-07T04:38:43.993Z"
   },
   {
    "duration": 110,
    "start_time": "2024-04-07T04:39:10.728Z"
   },
   {
    "duration": 6,
    "start_time": "2024-04-07T04:40:44.405Z"
   },
   {
    "duration": 117,
    "start_time": "2024-04-07T04:41:08.853Z"
   },
   {
    "duration": 119,
    "start_time": "2024-04-07T04:41:13.316Z"
   },
   {
    "duration": 133,
    "start_time": "2024-04-07T04:41:17.124Z"
   },
   {
    "duration": 124,
    "start_time": "2024-04-07T04:41:26.052Z"
   },
   {
    "duration": 137,
    "start_time": "2024-04-07T04:42:40.803Z"
   },
   {
    "duration": 135,
    "start_time": "2024-04-07T04:42:47.184Z"
   },
   {
    "duration": 69,
    "start_time": "2024-04-07T05:31:49.838Z"
   },
   {
    "duration": 7,
    "start_time": "2024-04-07T05:32:06.117Z"
   },
   {
    "duration": 249,
    "start_time": "2024-04-07T05:32:19.340Z"
   },
   {
    "duration": 142,
    "start_time": "2024-04-07T05:40:51.236Z"
   },
   {
    "duration": 131,
    "start_time": "2024-04-07T05:41:59.722Z"
   },
   {
    "duration": 154,
    "start_time": "2024-04-07T05:42:28.408Z"
   },
   {
    "duration": 107,
    "start_time": "2024-04-07T05:43:33.652Z"
   },
   {
    "duration": 164,
    "start_time": "2024-04-07T05:43:41.908Z"
   },
   {
    "duration": 121,
    "start_time": "2024-04-07T05:44:00.811Z"
   },
   {
    "duration": 156,
    "start_time": "2024-04-07T05:45:32.708Z"
   },
   {
    "duration": 59,
    "start_time": "2024-04-07T05:46:26.786Z"
   },
   {
    "duration": 180,
    "start_time": "2024-04-07T05:46:31.618Z"
   },
   {
    "duration": 257,
    "start_time": "2024-04-07T05:46:48.239Z"
   },
   {
    "duration": 195,
    "start_time": "2024-04-07T05:47:29.421Z"
   },
   {
    "duration": 154,
    "start_time": "2024-04-07T05:47:53.652Z"
   },
   {
    "duration": 180,
    "start_time": "2024-04-07T05:49:03.464Z"
   },
   {
    "duration": 182,
    "start_time": "2024-04-07T05:50:23.667Z"
   },
   {
    "duration": 179,
    "start_time": "2024-04-07T05:51:09.265Z"
   },
   {
    "duration": 265,
    "start_time": "2024-04-07T05:51:22.440Z"
   },
   {
    "duration": 6,
    "start_time": "2024-04-07T05:56:16.553Z"
   },
   {
    "duration": 116,
    "start_time": "2024-04-07T05:56:26.295Z"
   },
   {
    "duration": 180,
    "start_time": "2024-04-07T05:58:17.187Z"
   },
   {
    "duration": 202,
    "start_time": "2024-04-07T05:59:07.391Z"
   },
   {
    "duration": 190,
    "start_time": "2024-04-07T05:59:13.866Z"
   },
   {
    "duration": 161,
    "start_time": "2024-04-07T05:59:25.485Z"
   },
   {
    "duration": 232,
    "start_time": "2024-04-07T06:00:23.971Z"
   },
   {
    "duration": 172,
    "start_time": "2024-04-07T06:00:28.875Z"
   },
   {
    "duration": 182,
    "start_time": "2024-04-07T06:00:50.594Z"
   },
   {
    "duration": 176,
    "start_time": "2024-04-07T06:02:34.157Z"
   },
   {
    "duration": 174,
    "start_time": "2024-04-07T06:02:38.036Z"
   },
   {
    "duration": 186,
    "start_time": "2024-04-07T06:03:02.206Z"
   },
   {
    "duration": 224,
    "start_time": "2024-04-07T06:03:42.409Z"
   },
   {
    "duration": 187,
    "start_time": "2024-04-07T06:03:47.993Z"
   },
   {
    "duration": 174,
    "start_time": "2024-04-07T06:04:07.752Z"
   },
   {
    "duration": 185,
    "start_time": "2024-04-07T06:04:19.855Z"
   },
   {
    "duration": 6,
    "start_time": "2024-04-07T06:04:35.080Z"
   },
   {
    "duration": 173,
    "start_time": "2024-04-07T06:04:37.685Z"
   },
   {
    "duration": 8,
    "start_time": "2024-04-07T06:04:40.277Z"
   },
   {
    "duration": 174,
    "start_time": "2024-04-07T06:05:00.077Z"
   },
   {
    "duration": 574,
    "start_time": "2024-04-07T06:05:05.694Z"
   },
   {
    "duration": 86,
    "start_time": "2024-04-07T06:05:06.270Z"
   },
   {
    "duration": 26,
    "start_time": "2024-04-07T06:05:06.357Z"
   },
   {
    "duration": 26,
    "start_time": "2024-04-07T06:05:06.385Z"
   },
   {
    "duration": 1423,
    "start_time": "2024-04-07T06:05:06.413Z"
   },
   {
    "duration": 8,
    "start_time": "2024-04-07T06:05:07.837Z"
   },
   {
    "duration": 18,
    "start_time": "2024-04-07T06:05:07.846Z"
   },
   {
    "duration": 7,
    "start_time": "2024-04-07T06:05:07.865Z"
   },
   {
    "duration": 8,
    "start_time": "2024-04-07T06:05:07.873Z"
   },
   {
    "duration": 4,
    "start_time": "2024-04-07T06:05:07.883Z"
   },
   {
    "duration": 6,
    "start_time": "2024-04-07T06:05:07.888Z"
   },
   {
    "duration": 19,
    "start_time": "2024-04-07T06:05:07.895Z"
   },
   {
    "duration": 52,
    "start_time": "2024-04-07T06:05:07.915Z"
   },
   {
    "duration": 2,
    "start_time": "2024-04-07T06:05:07.968Z"
   },
   {
    "duration": 35,
    "start_time": "2024-04-07T06:05:07.971Z"
   },
   {
    "duration": 3,
    "start_time": "2024-04-07T06:05:08.007Z"
   },
   {
    "duration": 8,
    "start_time": "2024-04-07T06:05:08.011Z"
   },
   {
    "duration": 3,
    "start_time": "2024-04-07T06:05:08.020Z"
   },
   {
    "duration": 8,
    "start_time": "2024-04-07T06:05:08.024Z"
   },
   {
    "duration": 5,
    "start_time": "2024-04-07T06:05:08.033Z"
   },
   {
    "duration": 7,
    "start_time": "2024-04-07T06:05:08.039Z"
   },
   {
    "duration": 81,
    "start_time": "2024-04-07T06:05:08.047Z"
   },
   {
    "duration": 0,
    "start_time": "2024-04-07T06:05:08.130Z"
   },
   {
    "duration": 0,
    "start_time": "2024-04-07T06:05:08.131Z"
   },
   {
    "duration": 0,
    "start_time": "2024-04-07T06:05:08.132Z"
   },
   {
    "duration": 0,
    "start_time": "2024-04-07T06:05:08.133Z"
   },
   {
    "duration": 0,
    "start_time": "2024-04-07T06:05:08.134Z"
   },
   {
    "duration": 0,
    "start_time": "2024-04-07T06:05:08.135Z"
   },
   {
    "duration": 0,
    "start_time": "2024-04-07T06:05:08.136Z"
   },
   {
    "duration": 1,
    "start_time": "2024-04-07T06:05:08.136Z"
   },
   {
    "duration": 0,
    "start_time": "2024-04-07T06:05:08.137Z"
   },
   {
    "duration": 0,
    "start_time": "2024-04-07T06:05:08.138Z"
   },
   {
    "duration": 0,
    "start_time": "2024-04-07T06:05:08.139Z"
   },
   {
    "duration": 0,
    "start_time": "2024-04-07T06:05:08.140Z"
   },
   {
    "duration": 0,
    "start_time": "2024-04-07T06:05:08.140Z"
   },
   {
    "duration": 0,
    "start_time": "2024-04-07T06:05:08.141Z"
   },
   {
    "duration": 0,
    "start_time": "2024-04-07T06:05:08.142Z"
   },
   {
    "duration": 0,
    "start_time": "2024-04-07T06:05:08.142Z"
   },
   {
    "duration": 0,
    "start_time": "2024-04-07T06:05:08.143Z"
   },
   {
    "duration": 0,
    "start_time": "2024-04-07T06:05:08.144Z"
   },
   {
    "duration": 0,
    "start_time": "2024-04-07T06:05:08.145Z"
   },
   {
    "duration": 0,
    "start_time": "2024-04-07T06:05:08.145Z"
   },
   {
    "duration": 0,
    "start_time": "2024-04-07T06:05:08.146Z"
   },
   {
    "duration": 0,
    "start_time": "2024-04-07T06:05:08.147Z"
   },
   {
    "duration": 0,
    "start_time": "2024-04-07T06:05:08.148Z"
   },
   {
    "duration": 0,
    "start_time": "2024-04-07T06:05:08.148Z"
   },
   {
    "duration": 0,
    "start_time": "2024-04-07T06:05:08.149Z"
   },
   {
    "duration": 0,
    "start_time": "2024-04-07T06:05:08.150Z"
   },
   {
    "duration": 0,
    "start_time": "2024-04-07T06:05:08.151Z"
   },
   {
    "duration": 0,
    "start_time": "2024-04-07T06:05:08.151Z"
   },
   {
    "duration": 0,
    "start_time": "2024-04-07T06:05:08.152Z"
   },
   {
    "duration": 0,
    "start_time": "2024-04-07T06:05:08.153Z"
   },
   {
    "duration": 0,
    "start_time": "2024-04-07T06:05:08.154Z"
   },
   {
    "duration": 0,
    "start_time": "2024-04-07T06:05:08.155Z"
   },
   {
    "duration": 0,
    "start_time": "2024-04-07T06:05:08.155Z"
   },
   {
    "duration": 0,
    "start_time": "2024-04-07T06:05:08.202Z"
   },
   {
    "duration": 0,
    "start_time": "2024-04-07T06:05:08.202Z"
   },
   {
    "duration": 0,
    "start_time": "2024-04-07T06:05:08.203Z"
   },
   {
    "duration": 0,
    "start_time": "2024-04-07T06:05:08.204Z"
   },
   {
    "duration": 0,
    "start_time": "2024-04-07T06:05:08.205Z"
   },
   {
    "duration": 0,
    "start_time": "2024-04-07T06:05:08.206Z"
   },
   {
    "duration": 0,
    "start_time": "2024-04-07T06:05:08.206Z"
   },
   {
    "duration": 0,
    "start_time": "2024-04-07T06:05:08.207Z"
   },
   {
    "duration": 0,
    "start_time": "2024-04-07T06:05:08.208Z"
   },
   {
    "duration": 0,
    "start_time": "2024-04-07T06:05:08.208Z"
   },
   {
    "duration": 0,
    "start_time": "2024-04-07T06:05:08.209Z"
   },
   {
    "duration": 0,
    "start_time": "2024-04-07T06:05:08.210Z"
   },
   {
    "duration": 0,
    "start_time": "2024-04-07T06:05:08.211Z"
   },
   {
    "duration": 184,
    "start_time": "2024-04-07T06:05:17.280Z"
   },
   {
    "duration": 567,
    "start_time": "2024-04-07T06:05:31.406Z"
   },
   {
    "duration": 85,
    "start_time": "2024-04-07T06:05:31.974Z"
   },
   {
    "duration": 26,
    "start_time": "2024-04-07T06:05:32.060Z"
   },
   {
    "duration": 22,
    "start_time": "2024-04-07T06:05:32.088Z"
   },
   {
    "duration": 1417,
    "start_time": "2024-04-07T06:05:32.111Z"
   },
   {
    "duration": 8,
    "start_time": "2024-04-07T06:05:33.529Z"
   },
   {
    "duration": 14,
    "start_time": "2024-04-07T06:05:33.538Z"
   },
   {
    "duration": 9,
    "start_time": "2024-04-07T06:05:33.554Z"
   },
   {
    "duration": 10,
    "start_time": "2024-04-07T06:05:33.565Z"
   },
   {
    "duration": 2,
    "start_time": "2024-04-07T06:05:33.577Z"
   },
   {
    "duration": 15,
    "start_time": "2024-04-07T06:05:33.580Z"
   },
   {
    "duration": 7,
    "start_time": "2024-04-07T06:05:33.596Z"
   },
   {
    "duration": 33,
    "start_time": "2024-04-07T06:05:33.604Z"
   },
   {
    "duration": 2,
    "start_time": "2024-04-07T06:05:33.638Z"
   },
   {
    "duration": 42,
    "start_time": "2024-04-07T06:05:33.641Z"
   },
   {
    "duration": 3,
    "start_time": "2024-04-07T06:05:33.684Z"
   },
   {
    "duration": 18,
    "start_time": "2024-04-07T06:05:33.688Z"
   },
   {
    "duration": 2,
    "start_time": "2024-04-07T06:05:33.707Z"
   },
   {
    "duration": 16,
    "start_time": "2024-04-07T06:05:33.710Z"
   },
   {
    "duration": 8,
    "start_time": "2024-04-07T06:05:33.727Z"
   },
   {
    "duration": 6,
    "start_time": "2024-04-07T06:05:33.736Z"
   },
   {
    "duration": 73,
    "start_time": "2024-04-07T06:05:33.743Z"
   },
   {
    "duration": 0,
    "start_time": "2024-04-07T06:05:33.819Z"
   },
   {
    "duration": 0,
    "start_time": "2024-04-07T06:05:33.820Z"
   },
   {
    "duration": 0,
    "start_time": "2024-04-07T06:05:33.821Z"
   },
   {
    "duration": 0,
    "start_time": "2024-04-07T06:05:33.821Z"
   },
   {
    "duration": 0,
    "start_time": "2024-04-07T06:05:33.822Z"
   },
   {
    "duration": 0,
    "start_time": "2024-04-07T06:05:33.823Z"
   },
   {
    "duration": 0,
    "start_time": "2024-04-07T06:05:33.824Z"
   },
   {
    "duration": 0,
    "start_time": "2024-04-07T06:05:33.824Z"
   },
   {
    "duration": 0,
    "start_time": "2024-04-07T06:05:33.825Z"
   },
   {
    "duration": 0,
    "start_time": "2024-04-07T06:05:33.826Z"
   },
   {
    "duration": 0,
    "start_time": "2024-04-07T06:05:33.827Z"
   },
   {
    "duration": 0,
    "start_time": "2024-04-07T06:05:33.828Z"
   },
   {
    "duration": 0,
    "start_time": "2024-04-07T06:05:33.828Z"
   },
   {
    "duration": 0,
    "start_time": "2024-04-07T06:05:33.829Z"
   },
   {
    "duration": 0,
    "start_time": "2024-04-07T06:05:33.830Z"
   },
   {
    "duration": 0,
    "start_time": "2024-04-07T06:05:33.831Z"
   },
   {
    "duration": 0,
    "start_time": "2024-04-07T06:05:33.831Z"
   },
   {
    "duration": 0,
    "start_time": "2024-04-07T06:05:33.832Z"
   },
   {
    "duration": 0,
    "start_time": "2024-04-07T06:05:33.833Z"
   },
   {
    "duration": 0,
    "start_time": "2024-04-07T06:05:33.834Z"
   },
   {
    "duration": 0,
    "start_time": "2024-04-07T06:05:33.834Z"
   },
   {
    "duration": 0,
    "start_time": "2024-04-07T06:05:33.835Z"
   },
   {
    "duration": 0,
    "start_time": "2024-04-07T06:05:33.836Z"
   },
   {
    "duration": 0,
    "start_time": "2024-04-07T06:05:33.837Z"
   },
   {
    "duration": 0,
    "start_time": "2024-04-07T06:05:33.838Z"
   },
   {
    "duration": 0,
    "start_time": "2024-04-07T06:05:33.839Z"
   },
   {
    "duration": 0,
    "start_time": "2024-04-07T06:05:33.839Z"
   },
   {
    "duration": 0,
    "start_time": "2024-04-07T06:05:33.840Z"
   },
   {
    "duration": 0,
    "start_time": "2024-04-07T06:05:33.841Z"
   },
   {
    "duration": 0,
    "start_time": "2024-04-07T06:05:33.842Z"
   },
   {
    "duration": 0,
    "start_time": "2024-04-07T06:05:33.843Z"
   },
   {
    "duration": 0,
    "start_time": "2024-04-07T06:05:33.843Z"
   },
   {
    "duration": 0,
    "start_time": "2024-04-07T06:05:33.844Z"
   },
   {
    "duration": 0,
    "start_time": "2024-04-07T06:05:33.845Z"
   },
   {
    "duration": 0,
    "start_time": "2024-04-07T06:05:33.845Z"
   },
   {
    "duration": 0,
    "start_time": "2024-04-07T06:05:33.846Z"
   },
   {
    "duration": 0,
    "start_time": "2024-04-07T06:05:33.847Z"
   },
   {
    "duration": 0,
    "start_time": "2024-04-07T06:05:33.847Z"
   },
   {
    "duration": 0,
    "start_time": "2024-04-07T06:05:33.849Z"
   },
   {
    "duration": 0,
    "start_time": "2024-04-07T06:05:33.849Z"
   },
   {
    "duration": 0,
    "start_time": "2024-04-07T06:05:33.851Z"
   },
   {
    "duration": 0,
    "start_time": "2024-04-07T06:05:33.904Z"
   },
   {
    "duration": 0,
    "start_time": "2024-04-07T06:05:33.905Z"
   },
   {
    "duration": 1,
    "start_time": "2024-04-07T06:05:33.906Z"
   },
   {
    "duration": 0,
    "start_time": "2024-04-07T06:05:33.908Z"
   },
   {
    "duration": 0,
    "start_time": "2024-04-07T06:05:33.909Z"
   },
   {
    "duration": 534,
    "start_time": "2024-04-07T06:07:48.028Z"
   },
   {
    "duration": 83,
    "start_time": "2024-04-07T06:07:48.563Z"
   },
   {
    "duration": 24,
    "start_time": "2024-04-07T06:07:48.648Z"
   },
   {
    "duration": 11,
    "start_time": "2024-04-07T06:07:48.673Z"
   },
   {
    "duration": 1399,
    "start_time": "2024-04-07T06:07:48.685Z"
   },
   {
    "duration": 11,
    "start_time": "2024-04-07T06:07:50.086Z"
   },
   {
    "duration": 27,
    "start_time": "2024-04-07T06:07:50.099Z"
   },
   {
    "duration": 38,
    "start_time": "2024-04-07T06:07:50.128Z"
   },
   {
    "duration": 22,
    "start_time": "2024-04-07T06:07:50.168Z"
   },
   {
    "duration": 2,
    "start_time": "2024-04-07T06:07:50.192Z"
   },
   {
    "duration": 14,
    "start_time": "2024-04-07T06:07:50.196Z"
   },
   {
    "duration": 8,
    "start_time": "2024-04-07T06:07:50.212Z"
   },
   {
    "duration": 41,
    "start_time": "2024-04-07T06:07:50.221Z"
   },
   {
    "duration": 2,
    "start_time": "2024-04-07T06:07:50.263Z"
   },
   {
    "duration": 49,
    "start_time": "2024-04-07T06:07:50.266Z"
   },
   {
    "duration": 3,
    "start_time": "2024-04-07T06:07:50.317Z"
   },
   {
    "duration": 32,
    "start_time": "2024-04-07T06:07:50.322Z"
   },
   {
    "duration": 13,
    "start_time": "2024-04-07T06:07:50.355Z"
   },
   {
    "duration": 11,
    "start_time": "2024-04-07T06:07:50.370Z"
   },
   {
    "duration": 7,
    "start_time": "2024-04-07T06:07:50.382Z"
   },
   {
    "duration": 8,
    "start_time": "2024-04-07T06:07:50.391Z"
   },
   {
    "duration": 10,
    "start_time": "2024-04-07T06:07:50.401Z"
   },
   {
    "duration": 9,
    "start_time": "2024-04-07T06:07:50.412Z"
   },
   {
    "duration": 8,
    "start_time": "2024-04-07T06:07:50.422Z"
   },
   {
    "duration": 23,
    "start_time": "2024-04-07T06:07:50.431Z"
   },
   {
    "duration": 13,
    "start_time": "2024-04-07T06:07:50.455Z"
   },
   {
    "duration": 198,
    "start_time": "2024-04-07T06:07:50.469Z"
   },
   {
    "duration": 11,
    "start_time": "2024-04-07T06:07:50.670Z"
   },
   {
    "duration": 29,
    "start_time": "2024-04-07T06:07:50.682Z"
   },
   {
    "duration": 5,
    "start_time": "2024-04-07T06:07:50.713Z"
   },
   {
    "duration": 7,
    "start_time": "2024-04-07T06:07:50.719Z"
   },
   {
    "duration": 10,
    "start_time": "2024-04-07T06:07:50.727Z"
   },
   {
    "duration": 308,
    "start_time": "2024-04-07T06:07:50.738Z"
   },
   {
    "duration": 5,
    "start_time": "2024-04-07T06:07:51.048Z"
   },
   {
    "duration": 10,
    "start_time": "2024-04-07T06:07:51.054Z"
   },
   {
    "duration": 204,
    "start_time": "2024-04-07T06:07:51.065Z"
   },
   {
    "duration": 7,
    "start_time": "2024-04-07T06:07:51.271Z"
   },
   {
    "duration": 267,
    "start_time": "2024-04-07T06:07:51.279Z"
   },
   {
    "duration": 7,
    "start_time": "2024-04-07T06:07:51.547Z"
   },
   {
    "duration": 183,
    "start_time": "2024-04-07T06:07:51.555Z"
   },
   {
    "duration": 7,
    "start_time": "2024-04-07T06:07:51.739Z"
   },
   {
    "duration": 143,
    "start_time": "2024-04-07T06:07:51.747Z"
   },
   {
    "duration": 10,
    "start_time": "2024-04-07T06:07:51.892Z"
   },
   {
    "duration": 169,
    "start_time": "2024-04-07T06:07:51.903Z"
   },
   {
    "duration": 7,
    "start_time": "2024-04-07T06:07:52.073Z"
   },
   {
    "duration": 161,
    "start_time": "2024-04-07T06:07:52.081Z"
   },
   {
    "duration": 135,
    "start_time": "2024-04-07T06:07:52.243Z"
   },
   {
    "duration": 8,
    "start_time": "2024-04-07T06:07:52.379Z"
   },
   {
    "duration": 133,
    "start_time": "2024-04-07T06:07:52.388Z"
   },
   {
    "duration": 7,
    "start_time": "2024-04-07T06:07:52.523Z"
   },
   {
    "duration": 198,
    "start_time": "2024-04-07T06:07:52.531Z"
   },
   {
    "duration": 7,
    "start_time": "2024-04-07T06:07:52.730Z"
   },
   {
    "duration": 58,
    "start_time": "2024-04-07T06:07:52.738Z"
   },
   {
    "duration": 0,
    "start_time": "2024-04-07T06:07:52.797Z"
   },
   {
    "duration": 0,
    "start_time": "2024-04-07T06:07:52.799Z"
   },
   {
    "duration": 0,
    "start_time": "2024-04-07T06:07:52.800Z"
   },
   {
    "duration": 0,
    "start_time": "2024-04-07T06:07:52.802Z"
   },
   {
    "duration": 0,
    "start_time": "2024-04-07T06:07:52.803Z"
   },
   {
    "duration": 0,
    "start_time": "2024-04-07T06:07:52.804Z"
   },
   {
    "duration": 0,
    "start_time": "2024-04-07T06:07:52.805Z"
   },
   {
    "duration": 0,
    "start_time": "2024-04-07T06:07:52.806Z"
   },
   {
    "duration": 0,
    "start_time": "2024-04-07T06:07:52.807Z"
   },
   {
    "duration": 0,
    "start_time": "2024-04-07T06:07:52.808Z"
   },
   {
    "duration": 0,
    "start_time": "2024-04-07T06:07:52.810Z"
   },
   {
    "duration": 1,
    "start_time": "2024-04-07T06:07:52.810Z"
   },
   {
    "duration": 0,
    "start_time": "2024-04-07T06:07:52.812Z"
   },
   {
    "duration": 0,
    "start_time": "2024-04-07T06:07:52.813Z"
   },
   {
    "duration": 120,
    "start_time": "2024-04-07T06:11:16.988Z"
   },
   {
    "duration": 225,
    "start_time": "2024-04-07T06:13:52.596Z"
   },
   {
    "duration": 199,
    "start_time": "2024-04-07T06:14:45.177Z"
   },
   {
    "duration": 197,
    "start_time": "2024-04-07T06:15:13.088Z"
   },
   {
    "duration": 231,
    "start_time": "2024-04-07T06:16:00.301Z"
   },
   {
    "duration": 198,
    "start_time": "2024-04-07T06:16:18.076Z"
   },
   {
    "duration": 167,
    "start_time": "2024-04-07T06:18:20.185Z"
   },
   {
    "duration": 248,
    "start_time": "2024-04-07T06:18:32.439Z"
   },
   {
    "duration": 129,
    "start_time": "2024-04-07T06:18:37.142Z"
   },
   {
    "duration": 159,
    "start_time": "2024-04-07T06:18:43.999Z"
   },
   {
    "duration": 127,
    "start_time": "2024-04-07T06:20:02.508Z"
   },
   {
    "duration": 136,
    "start_time": "2024-04-07T06:20:15.276Z"
   },
   {
    "duration": 7,
    "start_time": "2024-04-07T06:20:46.258Z"
   },
   {
    "duration": 202,
    "start_time": "2024-04-07T06:20:47.077Z"
   },
   {
    "duration": 20,
    "start_time": "2024-04-07T06:20:51.890Z"
   },
   {
    "duration": 116,
    "start_time": "2024-04-07T06:20:55.026Z"
   },
   {
    "duration": 576,
    "start_time": "2024-04-07T06:21:03.467Z"
   },
   {
    "duration": 84,
    "start_time": "2024-04-07T06:21:04.045Z"
   },
   {
    "duration": 26,
    "start_time": "2024-04-07T06:21:04.130Z"
   },
   {
    "duration": 13,
    "start_time": "2024-04-07T06:21:04.157Z"
   },
   {
    "duration": 1428,
    "start_time": "2024-04-07T06:21:04.172Z"
   },
   {
    "duration": 8,
    "start_time": "2024-04-07T06:21:05.601Z"
   },
   {
    "duration": 11,
    "start_time": "2024-04-07T06:21:05.610Z"
   },
   {
    "duration": 8,
    "start_time": "2024-04-07T06:21:05.622Z"
   },
   {
    "duration": 7,
    "start_time": "2024-04-07T06:21:05.631Z"
   },
   {
    "duration": 4,
    "start_time": "2024-04-07T06:21:05.640Z"
   },
   {
    "duration": 5,
    "start_time": "2024-04-07T06:21:05.645Z"
   },
   {
    "duration": 9,
    "start_time": "2024-04-07T06:21:05.651Z"
   },
   {
    "duration": 55,
    "start_time": "2024-04-07T06:21:05.661Z"
   },
   {
    "duration": 1,
    "start_time": "2024-04-07T06:21:05.718Z"
   },
   {
    "duration": 35,
    "start_time": "2024-04-07T06:21:05.720Z"
   },
   {
    "duration": 2,
    "start_time": "2024-04-07T06:21:05.757Z"
   },
   {
    "duration": 18,
    "start_time": "2024-04-07T06:21:05.760Z"
   },
   {
    "duration": 3,
    "start_time": "2024-04-07T06:21:05.780Z"
   },
   {
    "duration": 29,
    "start_time": "2024-04-07T06:21:05.784Z"
   },
   {
    "duration": 12,
    "start_time": "2024-04-07T06:21:05.814Z"
   },
   {
    "duration": 10,
    "start_time": "2024-04-07T06:21:05.827Z"
   },
   {
    "duration": 14,
    "start_time": "2024-04-07T06:21:05.838Z"
   },
   {
    "duration": 10,
    "start_time": "2024-04-07T06:21:05.853Z"
   },
   {
    "duration": 5,
    "start_time": "2024-04-07T06:21:05.864Z"
   },
   {
    "duration": 23,
    "start_time": "2024-04-07T06:21:05.870Z"
   },
   {
    "duration": 13,
    "start_time": "2024-04-07T06:21:05.894Z"
   },
   {
    "duration": 193,
    "start_time": "2024-04-07T06:21:05.908Z"
   },
   {
    "duration": 10,
    "start_time": "2024-04-07T06:21:06.104Z"
   },
   {
    "duration": 29,
    "start_time": "2024-04-07T06:21:06.115Z"
   },
   {
    "duration": 5,
    "start_time": "2024-04-07T06:21:06.145Z"
   },
   {
    "duration": 14,
    "start_time": "2024-04-07T06:21:06.152Z"
   },
   {
    "duration": 8,
    "start_time": "2024-04-07T06:21:06.168Z"
   },
   {
    "duration": 320,
    "start_time": "2024-04-07T06:21:06.177Z"
   },
   {
    "duration": 8,
    "start_time": "2024-04-07T06:21:06.498Z"
   },
   {
    "duration": 11,
    "start_time": "2024-04-07T06:21:06.507Z"
   },
   {
    "duration": 207,
    "start_time": "2024-04-07T06:21:06.519Z"
   },
   {
    "duration": 7,
    "start_time": "2024-04-07T06:21:06.727Z"
   },
   {
    "duration": 265,
    "start_time": "2024-04-07T06:21:06.735Z"
   },
   {
    "duration": 7,
    "start_time": "2024-04-07T06:21:07.002Z"
   },
   {
    "duration": 167,
    "start_time": "2024-04-07T06:21:07.010Z"
   },
   {
    "duration": 7,
    "start_time": "2024-04-07T06:21:07.179Z"
   },
   {
    "duration": 145,
    "start_time": "2024-04-07T06:21:07.187Z"
   },
   {
    "duration": 7,
    "start_time": "2024-04-07T06:21:07.333Z"
   },
   {
    "duration": 164,
    "start_time": "2024-04-07T06:21:07.341Z"
   },
   {
    "duration": 7,
    "start_time": "2024-04-07T06:21:07.506Z"
   },
   {
    "duration": 166,
    "start_time": "2024-04-07T06:21:07.514Z"
   },
   {
    "duration": 142,
    "start_time": "2024-04-07T06:21:07.681Z"
   },
   {
    "duration": 7,
    "start_time": "2024-04-07T06:21:07.825Z"
   },
   {
    "duration": 152,
    "start_time": "2024-04-07T06:21:07.833Z"
   },
   {
    "duration": 8,
    "start_time": "2024-04-07T06:21:07.986Z"
   },
   {
    "duration": 219,
    "start_time": "2024-04-07T06:21:08.001Z"
   },
   {
    "duration": 8,
    "start_time": "2024-04-07T06:21:08.221Z"
   },
   {
    "duration": 273,
    "start_time": "2024-04-07T06:21:08.230Z"
   },
   {
    "duration": 7,
    "start_time": "2024-04-07T06:21:08.504Z"
   },
   {
    "duration": 214,
    "start_time": "2024-04-07T06:21:08.512Z"
   },
   {
    "duration": 20,
    "start_time": "2024-04-07T06:21:08.727Z"
   },
   {
    "duration": 127,
    "start_time": "2024-04-07T06:21:08.748Z"
   },
   {
    "duration": 140,
    "start_time": "2024-04-07T06:21:08.876Z"
   },
   {
    "duration": 135,
    "start_time": "2024-04-07T06:21:09.018Z"
   },
   {
    "duration": 138,
    "start_time": "2024-04-07T06:21:09.154Z"
   },
   {
    "duration": 118,
    "start_time": "2024-04-07T06:21:09.293Z"
   },
   {
    "duration": 132,
    "start_time": "2024-04-07T06:21:09.412Z"
   },
   {
    "duration": 130,
    "start_time": "2024-04-07T06:21:09.546Z"
   },
   {
    "duration": 123,
    "start_time": "2024-04-07T06:21:09.678Z"
   },
   {
    "duration": 20,
    "start_time": "2024-04-07T06:21:09.803Z"
   },
   {
    "duration": 12,
    "start_time": "2024-04-07T06:21:09.824Z"
   },
   {
    "duration": 211,
    "start_time": "2024-04-07T06:21:09.837Z"
   },
   {
    "duration": 199,
    "start_time": "2024-04-07T06:23:53.767Z"
   },
   {
    "duration": 142,
    "start_time": "2024-04-07T06:23:57.489Z"
   },
   {
    "duration": 112,
    "start_time": "2024-04-07T06:24:10.948Z"
   },
   {
    "duration": 145,
    "start_time": "2024-04-07T06:27:31.631Z"
   },
   {
    "duration": 148,
    "start_time": "2024-04-07T06:27:45.805Z"
   },
   {
    "duration": 156,
    "start_time": "2024-04-07T06:27:52.900Z"
   },
   {
    "duration": 154,
    "start_time": "2024-04-07T06:28:10.973Z"
   },
   {
    "duration": 154,
    "start_time": "2024-04-07T06:28:35.588Z"
   },
   {
    "duration": 150,
    "start_time": "2024-04-07T06:28:45.835Z"
   },
   {
    "duration": 167,
    "start_time": "2024-04-07T06:28:53.025Z"
   },
   {
    "duration": 574,
    "start_time": "2024-04-07T06:29:03.095Z"
   },
   {
    "duration": 97,
    "start_time": "2024-04-07T06:29:03.671Z"
   },
   {
    "duration": 26,
    "start_time": "2024-04-07T06:29:03.770Z"
   },
   {
    "duration": 13,
    "start_time": "2024-04-07T06:29:03.801Z"
   },
   {
    "duration": 1437,
    "start_time": "2024-04-07T06:29:03.815Z"
   },
   {
    "duration": 8,
    "start_time": "2024-04-07T06:29:05.254Z"
   },
   {
    "duration": 12,
    "start_time": "2024-04-07T06:29:05.264Z"
   },
   {
    "duration": 8,
    "start_time": "2024-04-07T06:29:05.278Z"
   },
   {
    "duration": 12,
    "start_time": "2024-04-07T06:29:05.288Z"
   },
   {
    "duration": 2,
    "start_time": "2024-04-07T06:29:05.303Z"
   },
   {
    "duration": 14,
    "start_time": "2024-04-07T06:29:05.306Z"
   },
   {
    "duration": 7,
    "start_time": "2024-04-07T06:29:05.322Z"
   },
   {
    "duration": 38,
    "start_time": "2024-04-07T06:29:05.330Z"
   },
   {
    "duration": 2,
    "start_time": "2024-04-07T06:29:05.369Z"
   },
   {
    "duration": 40,
    "start_time": "2024-04-07T06:29:05.373Z"
   },
   {
    "duration": 3,
    "start_time": "2024-04-07T06:29:05.414Z"
   },
   {
    "duration": 24,
    "start_time": "2024-04-07T06:29:05.418Z"
   },
   {
    "duration": 15,
    "start_time": "2024-04-07T06:29:05.443Z"
   },
   {
    "duration": 9,
    "start_time": "2024-04-07T06:29:05.459Z"
   },
   {
    "duration": 22,
    "start_time": "2024-04-07T06:29:05.469Z"
   },
   {
    "duration": 16,
    "start_time": "2024-04-07T06:29:05.492Z"
   },
   {
    "duration": 8,
    "start_time": "2024-04-07T06:29:05.509Z"
   },
   {
    "duration": 9,
    "start_time": "2024-04-07T06:29:05.518Z"
   },
   {
    "duration": 14,
    "start_time": "2024-04-07T06:29:05.528Z"
   },
   {
    "duration": 27,
    "start_time": "2024-04-07T06:29:05.543Z"
   },
   {
    "duration": 27,
    "start_time": "2024-04-07T06:29:05.571Z"
   },
   {
    "duration": 188,
    "start_time": "2024-04-07T06:29:05.599Z"
   },
   {
    "duration": 18,
    "start_time": "2024-04-07T06:29:05.790Z"
   },
   {
    "duration": 20,
    "start_time": "2024-04-07T06:29:05.809Z"
   },
   {
    "duration": 6,
    "start_time": "2024-04-07T06:29:05.830Z"
   },
   {
    "duration": 18,
    "start_time": "2024-04-07T06:29:05.837Z"
   },
   {
    "duration": 21,
    "start_time": "2024-04-07T06:29:05.856Z"
   },
   {
    "duration": 323,
    "start_time": "2024-04-07T06:29:05.878Z"
   },
   {
    "duration": 5,
    "start_time": "2024-04-07T06:29:06.203Z"
   },
   {
    "duration": 28,
    "start_time": "2024-04-07T06:29:06.209Z"
   },
   {
    "duration": 211,
    "start_time": "2024-04-07T06:29:06.238Z"
   },
   {
    "duration": 6,
    "start_time": "2024-04-07T06:29:06.451Z"
   },
   {
    "duration": 257,
    "start_time": "2024-04-07T06:29:06.458Z"
   },
   {
    "duration": 7,
    "start_time": "2024-04-07T06:29:06.717Z"
   },
   {
    "duration": 170,
    "start_time": "2024-04-07T06:29:06.725Z"
   },
   {
    "duration": 10,
    "start_time": "2024-04-07T06:29:06.896Z"
   },
   {
    "duration": 133,
    "start_time": "2024-04-07T06:29:06.907Z"
   },
   {
    "duration": 6,
    "start_time": "2024-04-07T06:29:07.042Z"
   },
   {
    "duration": 173,
    "start_time": "2024-04-07T06:29:07.049Z"
   },
   {
    "duration": 7,
    "start_time": "2024-04-07T06:29:07.223Z"
   },
   {
    "duration": 171,
    "start_time": "2024-04-07T06:29:07.231Z"
   },
   {
    "duration": 137,
    "start_time": "2024-04-07T06:29:07.404Z"
   },
   {
    "duration": 7,
    "start_time": "2024-04-07T06:29:07.542Z"
   },
   {
    "duration": 154,
    "start_time": "2024-04-07T06:29:07.551Z"
   },
   {
    "duration": 7,
    "start_time": "2024-04-07T06:29:07.706Z"
   },
   {
    "duration": 204,
    "start_time": "2024-04-07T06:29:07.714Z"
   },
   {
    "duration": 8,
    "start_time": "2024-04-07T06:29:07.919Z"
   },
   {
    "duration": 273,
    "start_time": "2024-04-07T06:29:07.928Z"
   },
   {
    "duration": 7,
    "start_time": "2024-04-07T06:29:08.203Z"
   },
   {
    "duration": 207,
    "start_time": "2024-04-07T06:29:08.211Z"
   },
   {
    "duration": 19,
    "start_time": "2024-04-07T06:29:08.419Z"
   },
   {
    "duration": 126,
    "start_time": "2024-04-07T06:29:08.439Z"
   },
   {
    "duration": 138,
    "start_time": "2024-04-07T06:29:08.567Z"
   },
   {
    "duration": 143,
    "start_time": "2024-04-07T06:29:08.706Z"
   },
   {
    "duration": 134,
    "start_time": "2024-04-07T06:29:08.850Z"
   },
   {
    "duration": 125,
    "start_time": "2024-04-07T06:29:08.985Z"
   },
   {
    "duration": 136,
    "start_time": "2024-04-07T06:29:09.112Z"
   },
   {
    "duration": 134,
    "start_time": "2024-04-07T06:29:09.249Z"
   },
   {
    "duration": 121,
    "start_time": "2024-04-07T06:29:09.384Z"
   },
   {
    "duration": 20,
    "start_time": "2024-04-07T06:29:09.506Z"
   },
   {
    "duration": 12,
    "start_time": "2024-04-07T06:29:09.527Z"
   },
   {
    "duration": 213,
    "start_time": "2024-04-07T06:29:09.540Z"
   },
   {
    "duration": 611,
    "start_time": "2024-04-07T10:56:57.765Z"
   },
   {
    "duration": 94,
    "start_time": "2024-04-07T10:56:58.378Z"
   },
   {
    "duration": 32,
    "start_time": "2024-04-07T10:56:58.473Z"
   },
   {
    "duration": 15,
    "start_time": "2024-04-07T10:56:58.506Z"
   },
   {
    "duration": 1754,
    "start_time": "2024-04-07T10:56:58.522Z"
   },
   {
    "duration": 10,
    "start_time": "2024-04-07T10:57:00.277Z"
   },
   {
    "duration": 91,
    "start_time": "2024-04-07T10:57:00.288Z"
   },
   {
    "duration": 61,
    "start_time": "2024-04-07T10:57:00.380Z"
   },
   {
    "duration": 50,
    "start_time": "2024-04-07T10:57:00.442Z"
   },
   {
    "duration": 26,
    "start_time": "2024-04-07T10:57:00.494Z"
   },
   {
    "duration": 46,
    "start_time": "2024-04-07T10:57:00.522Z"
   },
   {
    "duration": 33,
    "start_time": "2024-04-07T10:57:00.570Z"
   },
   {
    "duration": 50,
    "start_time": "2024-04-07T10:57:00.604Z"
   },
   {
    "duration": 10,
    "start_time": "2024-04-07T10:57:00.655Z"
   },
   {
    "duration": 88,
    "start_time": "2024-04-07T10:57:00.666Z"
   },
   {
    "duration": 18,
    "start_time": "2024-04-07T10:57:00.756Z"
   },
   {
    "duration": 58,
    "start_time": "2024-04-07T10:57:00.777Z"
   },
   {
    "duration": 29,
    "start_time": "2024-04-07T10:57:00.837Z"
   },
   {
    "duration": 26,
    "start_time": "2024-04-07T10:57:00.868Z"
   },
   {
    "duration": 48,
    "start_time": "2024-04-07T10:57:00.896Z"
   },
   {
    "duration": 55,
    "start_time": "2024-04-07T10:57:00.946Z"
   },
   {
    "duration": 78,
    "start_time": "2024-04-07T10:57:01.003Z"
   },
   {
    "duration": 31,
    "start_time": "2024-04-07T10:57:01.083Z"
   },
   {
    "duration": 32,
    "start_time": "2024-04-07T10:57:01.116Z"
   },
   {
    "duration": 39,
    "start_time": "2024-04-07T10:57:01.150Z"
   },
   {
    "duration": 26,
    "start_time": "2024-04-07T10:57:01.191Z"
   },
   {
    "duration": 234,
    "start_time": "2024-04-07T10:57:01.219Z"
   },
   {
    "duration": 13,
    "start_time": "2024-04-07T10:57:01.465Z"
   },
   {
    "duration": 77,
    "start_time": "2024-04-07T10:57:01.480Z"
   },
   {
    "duration": 81,
    "start_time": "2024-04-07T10:57:01.559Z"
   },
   {
    "duration": 23,
    "start_time": "2024-04-07T10:57:01.642Z"
   },
   {
    "duration": 40,
    "start_time": "2024-04-07T10:57:01.667Z"
   },
   {
    "duration": 350,
    "start_time": "2024-04-07T10:57:01.708Z"
   },
   {
    "duration": 9,
    "start_time": "2024-04-07T10:57:02.060Z"
   },
   {
    "duration": 27,
    "start_time": "2024-04-07T10:57:02.070Z"
   },
   {
    "duration": 249,
    "start_time": "2024-04-07T10:57:02.098Z"
   },
   {
    "duration": 18,
    "start_time": "2024-04-07T10:57:02.348Z"
   },
   {
    "duration": 348,
    "start_time": "2024-04-07T10:57:02.367Z"
   },
   {
    "duration": 9,
    "start_time": "2024-04-07T10:57:02.716Z"
   },
   {
    "duration": 213,
    "start_time": "2024-04-07T10:57:02.727Z"
   },
   {
    "duration": 9,
    "start_time": "2024-04-07T10:57:02.942Z"
   },
   {
    "duration": 173,
    "start_time": "2024-04-07T10:57:02.952Z"
   },
   {
    "duration": 9,
    "start_time": "2024-04-07T10:57:03.127Z"
   },
   {
    "duration": 207,
    "start_time": "2024-04-07T10:57:03.138Z"
   },
   {
    "duration": 7,
    "start_time": "2024-04-07T10:57:03.347Z"
   },
   {
    "duration": 206,
    "start_time": "2024-04-07T10:57:03.355Z"
   },
   {
    "duration": 155,
    "start_time": "2024-04-07T10:57:03.565Z"
   },
   {
    "duration": 8,
    "start_time": "2024-04-07T10:57:03.722Z"
   },
   {
    "duration": 184,
    "start_time": "2024-04-07T10:57:03.732Z"
   },
   {
    "duration": 9,
    "start_time": "2024-04-07T10:57:03.918Z"
   },
   {
    "duration": 275,
    "start_time": "2024-04-07T10:57:03.928Z"
   },
   {
    "duration": 10,
    "start_time": "2024-04-07T10:57:04.206Z"
   },
   {
    "duration": 335,
    "start_time": "2024-04-07T10:57:04.217Z"
   },
   {
    "duration": 16,
    "start_time": "2024-04-07T10:57:04.554Z"
   },
   {
    "duration": 245,
    "start_time": "2024-04-07T10:57:04.571Z"
   },
   {
    "duration": 23,
    "start_time": "2024-04-07T10:57:04.817Z"
   },
   {
    "duration": 147,
    "start_time": "2024-04-07T10:57:04.841Z"
   },
   {
    "duration": 160,
    "start_time": "2024-04-07T10:57:04.990Z"
   },
   {
    "duration": 161,
    "start_time": "2024-04-07T10:57:05.152Z"
   },
   {
    "duration": 163,
    "start_time": "2024-04-07T10:57:05.315Z"
   },
   {
    "duration": 309,
    "start_time": "2024-04-07T10:57:05.480Z"
   },
   {
    "duration": 374,
    "start_time": "2024-04-07T10:57:05.791Z"
   },
   {
    "duration": 306,
    "start_time": "2024-04-07T10:57:06.167Z"
   },
   {
    "duration": 294,
    "start_time": "2024-04-07T10:57:06.474Z"
   },
   {
    "duration": 24,
    "start_time": "2024-04-07T10:57:06.770Z"
   },
   {
    "duration": 71,
    "start_time": "2024-04-07T10:57:06.796Z"
   },
   {
    "duration": 278,
    "start_time": "2024-04-07T10:57:06.869Z"
   },
   {
    "duration": 9,
    "start_time": "2024-04-07T10:59:59.064Z"
   },
   {
    "duration": 7,
    "start_time": "2024-04-07T11:04:25.018Z"
   },
   {
    "duration": 54,
    "start_time": "2024-04-07T11:04:52.062Z"
   },
   {
    "duration": 76,
    "start_time": "2024-04-07T11:04:56.727Z"
   },
   {
    "duration": 73,
    "start_time": "2024-04-07T11:05:21.745Z"
   },
   {
    "duration": 855,
    "start_time": "2024-04-07T12:27:59.151Z"
   },
   {
    "duration": 232,
    "start_time": "2024-04-07T12:28:00.008Z"
   },
   {
    "duration": 34,
    "start_time": "2024-04-07T12:28:00.241Z"
   },
   {
    "duration": 107,
    "start_time": "2024-04-07T12:28:00.277Z"
   },
   {
    "duration": 1878,
    "start_time": "2024-04-07T12:28:00.386Z"
   },
   {
    "duration": 9,
    "start_time": "2024-04-07T12:28:02.266Z"
   },
   {
    "duration": 48,
    "start_time": "2024-04-07T12:28:02.277Z"
   },
   {
    "duration": 9,
    "start_time": "2024-04-07T12:28:02.327Z"
   },
   {
    "duration": 14,
    "start_time": "2024-04-07T12:28:02.338Z"
   },
   {
    "duration": 5,
    "start_time": "2024-04-07T12:28:02.354Z"
   },
   {
    "duration": 47,
    "start_time": "2024-04-07T12:28:02.360Z"
   },
   {
    "duration": 64,
    "start_time": "2024-04-07T12:28:02.409Z"
   },
   {
    "duration": 2,
    "start_time": "2024-04-07T12:28:02.475Z"
   },
   {
    "duration": 139,
    "start_time": "2024-04-07T12:28:02.479Z"
   },
   {
    "duration": 5,
    "start_time": "2024-04-07T12:28:02.619Z"
   },
   {
    "duration": 29,
    "start_time": "2024-04-07T12:28:02.625Z"
   },
   {
    "duration": 9,
    "start_time": "2024-04-07T12:28:02.656Z"
   },
   {
    "duration": 21,
    "start_time": "2024-04-07T12:28:02.667Z"
   },
   {
    "duration": 31,
    "start_time": "2024-04-07T12:28:02.690Z"
   },
   {
    "duration": 38,
    "start_time": "2024-04-07T12:28:02.723Z"
   },
   {
    "duration": 36,
    "start_time": "2024-04-07T12:28:02.763Z"
   },
   {
    "duration": 47,
    "start_time": "2024-04-07T12:28:02.801Z"
   },
   {
    "duration": 8,
    "start_time": "2024-04-07T12:28:02.850Z"
   },
   {
    "duration": 68,
    "start_time": "2024-04-07T12:28:02.860Z"
   },
   {
    "duration": 20,
    "start_time": "2024-04-07T12:28:02.929Z"
   },
   {
    "duration": 287,
    "start_time": "2024-04-07T12:28:02.950Z"
   },
   {
    "duration": 14,
    "start_time": "2024-04-07T12:28:03.239Z"
   },
   {
    "duration": 36,
    "start_time": "2024-04-07T12:28:03.257Z"
   },
   {
    "duration": 8,
    "start_time": "2024-04-07T12:28:03.294Z"
   },
   {
    "duration": 9,
    "start_time": "2024-04-07T12:28:03.303Z"
   },
   {
    "duration": 7,
    "start_time": "2024-04-07T12:28:03.313Z"
   },
   {
    "duration": 371,
    "start_time": "2024-04-07T12:28:03.321Z"
   },
   {
    "duration": 6,
    "start_time": "2024-04-07T12:28:03.693Z"
   },
   {
    "duration": 25,
    "start_time": "2024-04-07T12:28:03.700Z"
   },
   {
    "duration": 256,
    "start_time": "2024-04-07T12:28:03.726Z"
   },
   {
    "duration": 10,
    "start_time": "2024-04-07T12:28:03.983Z"
   },
   {
    "duration": 362,
    "start_time": "2024-04-07T12:28:03.995Z"
   },
   {
    "duration": 9,
    "start_time": "2024-04-07T12:28:04.359Z"
   },
   {
    "duration": 226,
    "start_time": "2024-04-07T12:28:04.370Z"
   },
   {
    "duration": 7,
    "start_time": "2024-04-07T12:28:04.598Z"
   },
   {
    "duration": 175,
    "start_time": "2024-04-07T12:28:04.607Z"
   },
   {
    "duration": 8,
    "start_time": "2024-04-07T12:28:04.784Z"
   },
   {
    "duration": 212,
    "start_time": "2024-04-07T12:28:04.794Z"
   },
   {
    "duration": 8,
    "start_time": "2024-04-07T12:28:05.008Z"
   },
   {
    "duration": 219,
    "start_time": "2024-04-07T12:28:05.018Z"
   },
   {
    "duration": 170,
    "start_time": "2024-04-07T12:28:05.239Z"
   },
   {
    "duration": 9,
    "start_time": "2024-04-07T12:28:05.410Z"
   },
   {
    "duration": 187,
    "start_time": "2024-04-07T12:28:05.421Z"
   },
   {
    "duration": 9,
    "start_time": "2024-04-07T12:28:05.609Z"
   },
   {
    "duration": 269,
    "start_time": "2024-04-07T12:28:05.620Z"
   },
   {
    "duration": 10,
    "start_time": "2024-04-07T12:28:05.892Z"
   },
   {
    "duration": 378,
    "start_time": "2024-04-07T12:28:05.904Z"
   },
   {
    "duration": 10,
    "start_time": "2024-04-07T12:28:06.283Z"
   },
   {
    "duration": 260,
    "start_time": "2024-04-07T12:28:06.294Z"
   },
   {
    "duration": 31,
    "start_time": "2024-04-07T12:28:06.556Z"
   },
   {
    "duration": 149,
    "start_time": "2024-04-07T12:28:06.588Z"
   },
   {
    "duration": 171,
    "start_time": "2024-04-07T12:28:06.738Z"
   },
   {
    "duration": 188,
    "start_time": "2024-04-07T12:28:06.911Z"
   },
   {
    "duration": 155,
    "start_time": "2024-04-07T12:28:07.100Z"
   },
   {
    "duration": 143,
    "start_time": "2024-04-07T12:28:07.257Z"
   },
   {
    "duration": 170,
    "start_time": "2024-04-07T12:28:07.402Z"
   },
   {
    "duration": 165,
    "start_time": "2024-04-07T12:28:07.574Z"
   },
   {
    "duration": 151,
    "start_time": "2024-04-07T12:28:07.741Z"
   },
   {
    "duration": 24,
    "start_time": "2024-04-07T12:28:07.893Z"
   },
   {
    "duration": 15,
    "start_time": "2024-04-07T12:28:07.918Z"
   },
   {
    "duration": 283,
    "start_time": "2024-04-07T12:28:07.934Z"
   },
   {
    "duration": 90,
    "start_time": "2024-04-07T12:28:08.218Z"
   },
   {
    "duration": 5,
    "start_time": "2024-04-07T12:38:43.389Z"
   },
   {
    "duration": 159,
    "start_time": "2024-04-07T12:39:05.933Z"
   },
   {
    "duration": 146,
    "start_time": "2024-04-07T12:39:11.651Z"
   },
   {
    "duration": 5,
    "start_time": "2024-04-07T12:56:30.876Z"
   },
   {
    "duration": 10,
    "start_time": "2024-04-07T12:56:43.633Z"
   },
   {
    "duration": 683,
    "start_time": "2024-04-07T12:57:52.260Z"
   },
   {
    "duration": 101,
    "start_time": "2024-04-07T12:57:52.944Z"
   },
   {
    "duration": 37,
    "start_time": "2024-04-07T12:57:53.046Z"
   },
   {
    "duration": 16,
    "start_time": "2024-04-07T12:57:53.085Z"
   },
   {
    "duration": 1814,
    "start_time": "2024-04-07T12:57:53.102Z"
   },
   {
    "duration": 11,
    "start_time": "2024-04-07T12:57:54.918Z"
   },
   {
    "duration": 16,
    "start_time": "2024-04-07T12:57:54.931Z"
   },
   {
    "duration": 10,
    "start_time": "2024-04-07T12:57:54.949Z"
   },
   {
    "duration": 25,
    "start_time": "2024-04-07T12:57:54.961Z"
   },
   {
    "duration": 5,
    "start_time": "2024-04-07T12:57:54.989Z"
   },
   {
    "duration": 8,
    "start_time": "2024-04-07T12:57:54.995Z"
   },
   {
    "duration": 36,
    "start_time": "2024-04-07T12:57:55.005Z"
   },
   {
    "duration": 9,
    "start_time": "2024-04-07T12:57:55.043Z"
   },
   {
    "duration": 36,
    "start_time": "2024-04-07T12:57:55.054Z"
   },
   {
    "duration": 33,
    "start_time": "2024-04-07T12:57:55.092Z"
   },
   {
    "duration": 4,
    "start_time": "2024-04-07T12:57:55.127Z"
   },
   {
    "duration": 10,
    "start_time": "2024-04-07T12:57:55.132Z"
   },
   {
    "duration": 5,
    "start_time": "2024-04-07T12:57:55.144Z"
   },
   {
    "duration": 32,
    "start_time": "2024-04-07T12:57:55.150Z"
   },
   {
    "duration": 4,
    "start_time": "2024-04-07T12:57:55.184Z"
   },
   {
    "duration": 8,
    "start_time": "2024-04-07T12:57:55.190Z"
   },
   {
    "duration": 10,
    "start_time": "2024-04-07T12:57:55.200Z"
   },
   {
    "duration": 8,
    "start_time": "2024-04-07T12:57:55.213Z"
   },
   {
    "duration": 11,
    "start_time": "2024-04-07T12:57:55.222Z"
   },
   {
    "duration": 24,
    "start_time": "2024-04-07T12:57:55.235Z"
   },
   {
    "duration": 33,
    "start_time": "2024-04-07T12:57:55.260Z"
   },
   {
    "duration": 231,
    "start_time": "2024-04-07T12:57:55.295Z"
   },
   {
    "duration": 14,
    "start_time": "2024-04-07T12:57:55.531Z"
   },
   {
    "duration": 40,
    "start_time": "2024-04-07T12:57:55.547Z"
   },
   {
    "duration": 8,
    "start_time": "2024-04-07T12:57:55.588Z"
   },
   {
    "duration": 8,
    "start_time": "2024-04-07T12:57:55.598Z"
   },
   {
    "duration": 7,
    "start_time": "2024-04-07T12:57:55.608Z"
   },
   {
    "duration": 394,
    "start_time": "2024-04-07T12:57:55.616Z"
   },
   {
    "duration": 7,
    "start_time": "2024-04-07T12:57:56.011Z"
   },
   {
    "duration": 15,
    "start_time": "2024-04-07T12:57:56.020Z"
   },
   {
    "duration": 259,
    "start_time": "2024-04-07T12:57:56.037Z"
   },
   {
    "duration": 9,
    "start_time": "2024-04-07T12:57:56.297Z"
   },
   {
    "duration": 328,
    "start_time": "2024-04-07T12:57:56.307Z"
   },
   {
    "duration": 8,
    "start_time": "2024-04-07T12:57:56.637Z"
   },
   {
    "duration": 201,
    "start_time": "2024-04-07T12:57:56.647Z"
   },
   {
    "duration": 8,
    "start_time": "2024-04-07T12:57:56.849Z"
   },
   {
    "duration": 148,
    "start_time": "2024-04-07T12:57:56.858Z"
   },
   {
    "duration": 8,
    "start_time": "2024-04-07T12:57:57.007Z"
   },
   {
    "duration": 212,
    "start_time": "2024-04-07T12:57:57.017Z"
   },
   {
    "duration": 9,
    "start_time": "2024-04-07T12:57:57.230Z"
   },
   {
    "duration": 215,
    "start_time": "2024-04-07T12:57:57.240Z"
   },
   {
    "duration": 162,
    "start_time": "2024-04-07T12:57:57.457Z"
   },
   {
    "duration": 8,
    "start_time": "2024-04-07T12:57:57.621Z"
   },
   {
    "duration": 196,
    "start_time": "2024-04-07T12:57:57.630Z"
   },
   {
    "duration": 11,
    "start_time": "2024-04-07T12:57:57.828Z"
   },
   {
    "duration": 262,
    "start_time": "2024-04-07T12:57:57.841Z"
   },
   {
    "duration": 9,
    "start_time": "2024-04-07T12:57:58.104Z"
   },
   {
    "duration": 269,
    "start_time": "2024-04-07T12:57:58.114Z"
   },
   {
    "duration": 9,
    "start_time": "2024-04-07T12:57:58.384Z"
   },
   {
    "duration": 345,
    "start_time": "2024-04-07T12:57:58.395Z"
   },
   {
    "duration": 26,
    "start_time": "2024-04-07T12:57:58.742Z"
   },
   {
    "duration": 160,
    "start_time": "2024-04-07T12:57:58.770Z"
   },
   {
    "duration": 180,
    "start_time": "2024-04-07T12:57:58.931Z"
   },
   {
    "duration": 164,
    "start_time": "2024-04-07T12:57:59.113Z"
   },
   {
    "duration": 162,
    "start_time": "2024-04-07T12:57:59.281Z"
   },
   {
    "duration": 145,
    "start_time": "2024-04-07T12:57:59.445Z"
   },
   {
    "duration": 175,
    "start_time": "2024-04-07T12:57:59.592Z"
   },
   {
    "duration": 168,
    "start_time": "2024-04-07T12:57:59.768Z"
   },
   {
    "duration": 148,
    "start_time": "2024-04-07T12:57:59.938Z"
   },
   {
    "duration": 28,
    "start_time": "2024-04-07T12:58:00.088Z"
   },
   {
    "duration": 39,
    "start_time": "2024-04-07T12:58:00.118Z"
   },
   {
    "duration": 236,
    "start_time": "2024-04-07T12:58:00.159Z"
   },
   {
    "duration": 169,
    "start_time": "2024-04-07T12:58:00.397Z"
   },
   {
    "duration": 654,
    "start_time": "2024-04-07T13:17:02.686Z"
   },
   {
    "duration": 238,
    "start_time": "2024-04-07T13:17:03.341Z"
   },
   {
    "duration": 32,
    "start_time": "2024-04-07T13:17:03.581Z"
   },
   {
    "duration": 15,
    "start_time": "2024-04-07T13:17:03.615Z"
   },
   {
    "duration": 1797,
    "start_time": "2024-04-07T13:17:03.632Z"
   },
   {
    "duration": 9,
    "start_time": "2024-04-07T13:17:05.431Z"
   },
   {
    "duration": 21,
    "start_time": "2024-04-07T13:17:05.442Z"
   },
   {
    "duration": 16,
    "start_time": "2024-04-07T13:17:05.465Z"
   },
   {
    "duration": 10,
    "start_time": "2024-04-07T13:17:05.482Z"
   },
   {
    "duration": 7,
    "start_time": "2024-04-07T13:17:05.494Z"
   },
   {
    "duration": 14,
    "start_time": "2024-04-07T13:17:05.502Z"
   },
   {
    "duration": 41,
    "start_time": "2024-04-07T13:17:05.518Z"
   },
   {
    "duration": 9,
    "start_time": "2024-04-07T13:17:05.560Z"
   },
   {
    "duration": 12,
    "start_time": "2024-04-07T13:17:05.583Z"
   },
   {
    "duration": 33,
    "start_time": "2024-04-07T13:17:05.596Z"
   },
   {
    "duration": 3,
    "start_time": "2024-04-07T13:17:05.631Z"
   },
   {
    "duration": 17,
    "start_time": "2024-04-07T13:17:05.635Z"
   },
   {
    "duration": 29,
    "start_time": "2024-04-07T13:17:05.653Z"
   },
   {
    "duration": 6,
    "start_time": "2024-04-07T13:17:05.683Z"
   },
   {
    "duration": 13,
    "start_time": "2024-04-07T13:17:05.691Z"
   },
   {
    "duration": 31,
    "start_time": "2024-04-07T13:17:05.706Z"
   },
   {
    "duration": 11,
    "start_time": "2024-04-07T13:17:05.739Z"
   },
   {
    "duration": 4,
    "start_time": "2024-04-07T13:17:05.751Z"
   },
   {
    "duration": 20,
    "start_time": "2024-04-07T13:17:05.757Z"
   },
   {
    "duration": 29,
    "start_time": "2024-04-07T13:17:05.779Z"
   },
   {
    "duration": 18,
    "start_time": "2024-04-07T13:17:05.810Z"
   },
   {
    "duration": 248,
    "start_time": "2024-04-07T13:17:05.829Z"
   },
   {
    "duration": 14,
    "start_time": "2024-04-07T13:17:06.083Z"
   },
   {
    "duration": 26,
    "start_time": "2024-04-07T13:17:06.099Z"
   },
   {
    "duration": 8,
    "start_time": "2024-04-07T13:17:06.126Z"
   },
   {
    "duration": 8,
    "start_time": "2024-04-07T13:17:06.135Z"
   },
   {
    "duration": 39,
    "start_time": "2024-04-07T13:17:06.144Z"
   },
   {
    "duration": 348,
    "start_time": "2024-04-07T13:17:06.185Z"
   },
   {
    "duration": 6,
    "start_time": "2024-04-07T13:17:06.534Z"
   },
   {
    "duration": 48,
    "start_time": "2024-04-07T13:18:17.057Z"
   },
   {
    "duration": 653,
    "start_time": "2024-04-07T13:18:24.792Z"
   },
   {
    "duration": 222,
    "start_time": "2024-04-07T13:18:25.447Z"
   },
   {
    "duration": 33,
    "start_time": "2024-04-07T13:18:25.671Z"
   },
   {
    "duration": 14,
    "start_time": "2024-04-07T13:18:25.706Z"
   },
   {
    "duration": 1786,
    "start_time": "2024-04-07T13:18:25.722Z"
   },
   {
    "duration": 10,
    "start_time": "2024-04-07T13:18:27.510Z"
   },
   {
    "duration": 14,
    "start_time": "2024-04-07T13:18:27.521Z"
   },
   {
    "duration": 10,
    "start_time": "2024-04-07T13:18:27.537Z"
   },
   {
    "duration": 10,
    "start_time": "2024-04-07T13:18:27.548Z"
   },
   {
    "duration": 24,
    "start_time": "2024-04-07T13:18:27.561Z"
   },
   {
    "duration": 6,
    "start_time": "2024-04-07T13:18:27.587Z"
   },
   {
    "duration": 56,
    "start_time": "2024-04-07T13:18:27.594Z"
   },
   {
    "duration": 9,
    "start_time": "2024-04-07T13:18:27.652Z"
   },
   {
    "duration": 11,
    "start_time": "2024-04-07T13:18:27.662Z"
   },
   {
    "duration": 38,
    "start_time": "2024-04-07T13:18:27.675Z"
   },
   {
    "duration": 4,
    "start_time": "2024-04-07T13:18:27.715Z"
   },
   {
    "duration": 8,
    "start_time": "2024-04-07T13:18:27.721Z"
   },
   {
    "duration": 4,
    "start_time": "2024-04-07T13:18:27.730Z"
   },
   {
    "duration": 6,
    "start_time": "2024-04-07T13:18:27.735Z"
   },
   {
    "duration": 4,
    "start_time": "2024-04-07T13:18:27.742Z"
   },
   {
    "duration": 36,
    "start_time": "2024-04-07T13:18:27.747Z"
   },
   {
    "duration": 5,
    "start_time": "2024-04-07T13:18:27.784Z"
   },
   {
    "duration": 6,
    "start_time": "2024-04-07T13:18:27.791Z"
   },
   {
    "duration": 5,
    "start_time": "2024-04-07T13:18:27.798Z"
   },
   {
    "duration": 24,
    "start_time": "2024-04-07T13:18:27.805Z"
   },
   {
    "duration": 53,
    "start_time": "2024-04-07T13:18:27.831Z"
   },
   {
    "duration": 233,
    "start_time": "2024-04-07T13:18:27.886Z"
   },
   {
    "duration": 14,
    "start_time": "2024-04-07T13:18:28.122Z"
   },
   {
    "duration": 25,
    "start_time": "2024-04-07T13:18:28.138Z"
   },
   {
    "duration": 22,
    "start_time": "2024-04-07T13:18:28.164Z"
   },
   {
    "duration": 7,
    "start_time": "2024-04-07T13:18:28.187Z"
   },
   {
    "duration": 7,
    "start_time": "2024-04-07T13:18:28.195Z"
   },
   {
    "duration": 360,
    "start_time": "2024-04-07T13:18:28.203Z"
   },
   {
    "duration": 7,
    "start_time": "2024-04-07T13:18:28.565Z"
   },
   {
    "duration": 11,
    "start_time": "2024-04-07T13:18:28.581Z"
   },
   {
    "duration": 8,
    "start_time": "2024-04-07T13:18:28.594Z"
   },
   {
    "duration": 258,
    "start_time": "2024-04-07T13:18:28.603Z"
   },
   {
    "duration": 19,
    "start_time": "2024-04-07T13:18:28.863Z"
   },
   {
    "duration": 350,
    "start_time": "2024-04-07T13:18:28.883Z"
   },
   {
    "duration": 9,
    "start_time": "2024-04-07T13:18:29.234Z"
   },
   {
    "duration": 223,
    "start_time": "2024-04-07T13:18:29.244Z"
   },
   {
    "duration": 8,
    "start_time": "2024-04-07T13:18:29.468Z"
   },
   {
    "duration": 142,
    "start_time": "2024-04-07T13:18:29.482Z"
   },
   {
    "duration": 8,
    "start_time": "2024-04-07T13:18:29.625Z"
   },
   {
    "duration": 207,
    "start_time": "2024-04-07T13:18:29.635Z"
   },
   {
    "duration": 8,
    "start_time": "2024-04-07T13:18:29.843Z"
   },
   {
    "duration": 205,
    "start_time": "2024-04-07T13:18:29.853Z"
   },
   {
    "duration": 162,
    "start_time": "2024-04-07T13:18:30.059Z"
   },
   {
    "duration": 9,
    "start_time": "2024-04-07T13:18:30.222Z"
   },
   {
    "duration": 246,
    "start_time": "2024-04-07T13:18:30.232Z"
   },
   {
    "duration": 9,
    "start_time": "2024-04-07T13:18:30.481Z"
   },
   {
    "duration": 323,
    "start_time": "2024-04-07T13:18:30.491Z"
   },
   {
    "duration": 9,
    "start_time": "2024-04-07T13:18:30.816Z"
   },
   {
    "duration": 338,
    "start_time": "2024-04-07T13:18:30.826Z"
   },
   {
    "duration": 17,
    "start_time": "2024-04-07T13:18:31.166Z"
   },
   {
    "duration": 373,
    "start_time": "2024-04-07T13:18:31.184Z"
   },
   {
    "duration": 29,
    "start_time": "2024-04-07T13:18:31.559Z"
   },
   {
    "duration": 163,
    "start_time": "2024-04-07T13:18:31.589Z"
   },
   {
    "duration": 180,
    "start_time": "2024-04-07T13:18:31.754Z"
   },
   {
    "duration": 180,
    "start_time": "2024-04-07T13:18:31.935Z"
   },
   {
    "duration": 162,
    "start_time": "2024-04-07T13:18:32.119Z"
   },
   {
    "duration": 146,
    "start_time": "2024-04-07T13:18:32.282Z"
   },
   {
    "duration": 161,
    "start_time": "2024-04-07T13:18:32.430Z"
   },
   {
    "duration": 149,
    "start_time": "2024-04-07T13:18:32.592Z"
   },
   {
    "duration": 142,
    "start_time": "2024-04-07T13:18:32.743Z"
   },
   {
    "duration": 25,
    "start_time": "2024-04-07T13:18:32.886Z"
   },
   {
    "duration": 13,
    "start_time": "2024-04-07T13:18:32.913Z"
   },
   {
    "duration": 229,
    "start_time": "2024-04-07T13:18:32.928Z"
   },
   {
    "duration": 156,
    "start_time": "2024-04-07T13:18:33.159Z"
   },
   {
    "duration": 74,
    "start_time": "2024-04-07T13:21:07.988Z"
   },
   {
    "duration": 620,
    "start_time": "2024-04-07T13:21:27.813Z"
   },
   {
    "duration": 97,
    "start_time": "2024-04-07T13:21:28.435Z"
   },
   {
    "duration": 32,
    "start_time": "2024-04-07T13:21:28.533Z"
   },
   {
    "duration": 25,
    "start_time": "2024-04-07T13:21:28.567Z"
   },
   {
    "duration": 1754,
    "start_time": "2024-04-07T13:21:28.594Z"
   },
   {
    "duration": 10,
    "start_time": "2024-04-07T13:21:30.350Z"
   },
   {
    "duration": 117,
    "start_time": "2024-04-07T13:21:30.361Z"
   },
   {
    "duration": 140,
    "start_time": "2024-04-07T13:21:30.480Z"
   },
   {
    "duration": 284,
    "start_time": "2024-04-07T13:21:30.622Z"
   },
   {
    "duration": 80,
    "start_time": "2024-04-07T13:21:30.909Z"
   },
   {
    "duration": 62,
    "start_time": "2024-04-07T13:21:30.991Z"
   },
   {
    "duration": 175,
    "start_time": "2024-04-07T13:21:31.055Z"
   },
   {
    "duration": 18,
    "start_time": "2024-04-07T13:21:31.232Z"
   },
   {
    "duration": 46,
    "start_time": "2024-04-07T13:21:31.252Z"
   },
   {
    "duration": 63,
    "start_time": "2024-04-07T13:21:31.300Z"
   },
   {
    "duration": 9,
    "start_time": "2024-04-07T13:21:31.364Z"
   },
   {
    "duration": 47,
    "start_time": "2024-04-07T13:21:31.374Z"
   },
   {
    "duration": 25,
    "start_time": "2024-04-07T13:21:31.423Z"
   },
   {
    "duration": 18,
    "start_time": "2024-04-07T13:21:31.449Z"
   },
   {
    "duration": 24,
    "start_time": "2024-04-07T13:21:31.469Z"
   },
   {
    "duration": 30,
    "start_time": "2024-04-07T13:21:31.494Z"
   },
   {
    "duration": 28,
    "start_time": "2024-04-07T13:21:31.526Z"
   },
   {
    "duration": 39,
    "start_time": "2024-04-07T13:21:31.556Z"
   },
   {
    "duration": 34,
    "start_time": "2024-04-07T13:21:31.597Z"
   },
   {
    "duration": 40,
    "start_time": "2024-04-07T13:21:31.633Z"
   },
   {
    "duration": 46,
    "start_time": "2024-04-07T13:21:31.675Z"
   },
   {
    "duration": 275,
    "start_time": "2024-04-07T13:21:31.723Z"
   },
   {
    "duration": 14,
    "start_time": "2024-04-07T13:21:32.002Z"
   },
   {
    "duration": 25,
    "start_time": "2024-04-07T13:21:32.017Z"
   },
   {
    "duration": 8,
    "start_time": "2024-04-07T13:21:32.043Z"
   },
   {
    "duration": 34,
    "start_time": "2024-04-07T13:21:32.052Z"
   },
   {
    "duration": 8,
    "start_time": "2024-04-07T13:21:32.087Z"
   },
   {
    "duration": 390,
    "start_time": "2024-04-07T13:21:32.096Z"
   },
   {
    "duration": 6,
    "start_time": "2024-04-07T13:21:32.487Z"
   },
   {
    "duration": 9,
    "start_time": "2024-04-07T13:21:32.495Z"
   },
   {
    "duration": 288,
    "start_time": "2024-04-07T13:21:32.506Z"
   },
   {
    "duration": 9,
    "start_time": "2024-04-07T13:21:32.796Z"
   },
   {
    "duration": 344,
    "start_time": "2024-04-07T13:21:32.807Z"
   },
   {
    "duration": 9,
    "start_time": "2024-04-07T13:21:33.153Z"
   },
   {
    "duration": 206,
    "start_time": "2024-04-07T13:21:33.165Z"
   },
   {
    "duration": 16,
    "start_time": "2024-04-07T13:21:33.373Z"
   },
   {
    "duration": 147,
    "start_time": "2024-04-07T13:21:33.390Z"
   },
   {
    "duration": 8,
    "start_time": "2024-04-07T13:21:33.538Z"
   },
   {
    "duration": 215,
    "start_time": "2024-04-07T13:21:33.548Z"
   },
   {
    "duration": 18,
    "start_time": "2024-04-07T13:21:33.765Z"
   },
   {
    "duration": 213,
    "start_time": "2024-04-07T13:21:33.785Z"
   },
   {
    "duration": 190,
    "start_time": "2024-04-07T13:21:34.001Z"
   },
   {
    "duration": 9,
    "start_time": "2024-04-07T13:21:34.193Z"
   },
   {
    "duration": 188,
    "start_time": "2024-04-07T13:21:34.204Z"
   },
   {
    "duration": 9,
    "start_time": "2024-04-07T13:21:34.394Z"
   },
   {
    "duration": 255,
    "start_time": "2024-04-07T13:21:34.405Z"
   },
   {
    "duration": 9,
    "start_time": "2024-04-07T13:21:34.662Z"
   },
   {
    "duration": 260,
    "start_time": "2024-04-07T13:21:34.682Z"
   },
   {
    "duration": 10,
    "start_time": "2024-04-07T13:21:34.944Z"
   },
   {
    "duration": 371,
    "start_time": "2024-04-07T13:21:34.955Z"
   },
   {
    "duration": 28,
    "start_time": "2024-04-07T13:21:35.328Z"
   },
   {
    "duration": 165,
    "start_time": "2024-04-07T13:21:35.357Z"
   },
   {
    "duration": 178,
    "start_time": "2024-04-07T13:21:35.524Z"
   },
   {
    "duration": 171,
    "start_time": "2024-04-07T13:21:35.703Z"
   },
   {
    "duration": 148,
    "start_time": "2024-04-07T13:21:35.882Z"
   },
   {
    "duration": 152,
    "start_time": "2024-04-07T13:21:36.032Z"
   },
   {
    "duration": 170,
    "start_time": "2024-04-07T13:21:36.186Z"
   },
   {
    "duration": 167,
    "start_time": "2024-04-07T13:21:36.358Z"
   },
   {
    "duration": 150,
    "start_time": "2024-04-07T13:21:36.527Z"
   },
   {
    "duration": 35,
    "start_time": "2024-04-07T13:21:36.679Z"
   },
   {
    "duration": 16,
    "start_time": "2024-04-07T13:21:36.715Z"
   },
   {
    "duration": 215,
    "start_time": "2024-04-07T13:21:36.733Z"
   },
   {
    "duration": 163,
    "start_time": "2024-04-07T13:21:36.950Z"
   },
   {
    "duration": 146,
    "start_time": "2024-04-07T13:31:19.499Z"
   },
   {
    "duration": 59,
    "start_time": "2024-04-07T13:38:26.438Z"
   },
   {
    "duration": 67,
    "start_time": "2024-04-07T13:38:33.622Z"
   },
   {
    "duration": 12,
    "start_time": "2024-04-07T13:47:23.258Z"
   },
   {
    "duration": 9,
    "start_time": "2024-04-07T13:47:37.002Z"
   },
   {
    "duration": 9,
    "start_time": "2024-04-07T13:47:52.528Z"
   },
   {
    "duration": 670,
    "start_time": "2024-04-07T13:48:17.150Z"
   },
   {
    "duration": 106,
    "start_time": "2024-04-07T13:48:17.822Z"
   },
   {
    "duration": 32,
    "start_time": "2024-04-07T13:48:17.930Z"
   },
   {
    "duration": 21,
    "start_time": "2024-04-07T13:48:17.964Z"
   },
   {
    "duration": 1805,
    "start_time": "2024-04-07T13:48:17.987Z"
   },
   {
    "duration": 10,
    "start_time": "2024-04-07T13:48:19.794Z"
   },
   {
    "duration": 15,
    "start_time": "2024-04-07T13:48:19.805Z"
   },
   {
    "duration": 17,
    "start_time": "2024-04-07T13:48:19.821Z"
   },
   {
    "duration": 13,
    "start_time": "2024-04-07T13:48:19.839Z"
   },
   {
    "duration": 5,
    "start_time": "2024-04-07T13:48:19.855Z"
   },
   {
    "duration": 8,
    "start_time": "2024-04-07T13:48:19.882Z"
   },
   {
    "duration": 37,
    "start_time": "2024-04-07T13:48:19.892Z"
   },
   {
    "duration": 9,
    "start_time": "2024-04-07T13:48:19.931Z"
   },
   {
    "duration": 9,
    "start_time": "2024-04-07T13:48:19.942Z"
   },
   {
    "duration": 57,
    "start_time": "2024-04-07T13:48:19.953Z"
   },
   {
    "duration": 3,
    "start_time": "2024-04-07T13:48:20.012Z"
   },
   {
    "duration": 21,
    "start_time": "2024-04-07T13:48:20.017Z"
   },
   {
    "duration": 14,
    "start_time": "2024-04-07T13:48:20.040Z"
   },
   {
    "duration": 6,
    "start_time": "2024-04-07T13:48:20.055Z"
   },
   {
    "duration": 5,
    "start_time": "2024-04-07T13:48:20.063Z"
   },
   {
    "duration": 14,
    "start_time": "2024-04-07T13:48:20.069Z"
   },
   {
    "duration": 9,
    "start_time": "2024-04-07T13:48:20.085Z"
   },
   {
    "duration": 4,
    "start_time": "2024-04-07T13:48:20.096Z"
   },
   {
    "duration": 4,
    "start_time": "2024-04-07T13:48:20.101Z"
   },
   {
    "duration": 25,
    "start_time": "2024-04-07T13:48:20.107Z"
   },
   {
    "duration": 19,
    "start_time": "2024-04-07T13:48:20.133Z"
   },
   {
    "duration": 268,
    "start_time": "2024-04-07T13:48:20.154Z"
   },
   {
    "duration": 14,
    "start_time": "2024-04-07T13:48:20.425Z"
   },
   {
    "duration": 24,
    "start_time": "2024-04-07T13:48:20.441Z"
   },
   {
    "duration": 7,
    "start_time": "2024-04-07T13:48:20.481Z"
   },
   {
    "duration": 7,
    "start_time": "2024-04-07T13:48:20.490Z"
   },
   {
    "duration": 7,
    "start_time": "2024-04-07T13:48:20.498Z"
   },
   {
    "duration": 363,
    "start_time": "2024-04-07T13:48:20.506Z"
   },
   {
    "duration": 11,
    "start_time": "2024-04-07T13:48:20.871Z"
   },
   {
    "duration": 20,
    "start_time": "2024-04-07T13:48:20.884Z"
   },
   {
    "duration": 699,
    "start_time": "2024-04-07T13:48:20.906Z"
   },
   {
    "duration": 0,
    "start_time": "2024-04-07T13:48:21.606Z"
   },
   {
    "duration": 0,
    "start_time": "2024-04-07T13:48:21.607Z"
   },
   {
    "duration": 0,
    "start_time": "2024-04-07T13:48:21.609Z"
   },
   {
    "duration": 0,
    "start_time": "2024-04-07T13:48:21.610Z"
   },
   {
    "duration": 0,
    "start_time": "2024-04-07T13:48:21.610Z"
   },
   {
    "duration": 0,
    "start_time": "2024-04-07T13:48:21.611Z"
   },
   {
    "duration": 0,
    "start_time": "2024-04-07T13:48:21.613Z"
   },
   {
    "duration": 0,
    "start_time": "2024-04-07T13:48:21.614Z"
   },
   {
    "duration": 0,
    "start_time": "2024-04-07T13:48:21.615Z"
   },
   {
    "duration": 0,
    "start_time": "2024-04-07T13:48:21.616Z"
   },
   {
    "duration": 0,
    "start_time": "2024-04-07T13:48:21.617Z"
   },
   {
    "duration": 0,
    "start_time": "2024-04-07T13:48:21.618Z"
   },
   {
    "duration": 0,
    "start_time": "2024-04-07T13:48:21.619Z"
   },
   {
    "duration": 0,
    "start_time": "2024-04-07T13:48:21.621Z"
   },
   {
    "duration": 0,
    "start_time": "2024-04-07T13:48:21.621Z"
   },
   {
    "duration": 0,
    "start_time": "2024-04-07T13:48:21.622Z"
   },
   {
    "duration": 0,
    "start_time": "2024-04-07T13:48:21.624Z"
   },
   {
    "duration": 0,
    "start_time": "2024-04-07T13:48:21.625Z"
   },
   {
    "duration": 0,
    "start_time": "2024-04-07T13:48:21.626Z"
   },
   {
    "duration": 0,
    "start_time": "2024-04-07T13:48:21.627Z"
   },
   {
    "duration": 0,
    "start_time": "2024-04-07T13:48:21.628Z"
   },
   {
    "duration": 0,
    "start_time": "2024-04-07T13:48:21.629Z"
   },
   {
    "duration": 0,
    "start_time": "2024-04-07T13:48:21.630Z"
   },
   {
    "duration": 0,
    "start_time": "2024-04-07T13:48:21.630Z"
   },
   {
    "duration": 0,
    "start_time": "2024-04-07T13:48:21.631Z"
   },
   {
    "duration": 0,
    "start_time": "2024-04-07T13:48:21.632Z"
   },
   {
    "duration": 0,
    "start_time": "2024-04-07T13:48:21.633Z"
   },
   {
    "duration": 0,
    "start_time": "2024-04-07T13:48:21.634Z"
   },
   {
    "duration": 0,
    "start_time": "2024-04-07T13:48:21.635Z"
   },
   {
    "duration": 0,
    "start_time": "2024-04-07T13:48:21.636Z"
   },
   {
    "duration": 0,
    "start_time": "2024-04-07T13:48:21.637Z"
   },
   {
    "duration": 0,
    "start_time": "2024-04-07T13:48:21.638Z"
   },
   {
    "duration": 0,
    "start_time": "2024-04-07T13:48:21.639Z"
   },
   {
    "duration": 8,
    "start_time": "2024-04-07T13:48:27.394Z"
   },
   {
    "duration": 7,
    "start_time": "2024-04-07T13:49:09.142Z"
   },
   {
    "duration": 611,
    "start_time": "2024-04-07T13:49:13.344Z"
   },
   {
    "duration": 99,
    "start_time": "2024-04-07T13:49:13.957Z"
   },
   {
    "duration": 33,
    "start_time": "2024-04-07T13:49:14.058Z"
   },
   {
    "duration": 14,
    "start_time": "2024-04-07T13:49:14.093Z"
   },
   {
    "duration": 1811,
    "start_time": "2024-04-07T13:49:14.109Z"
   },
   {
    "duration": 9,
    "start_time": "2024-04-07T13:49:15.922Z"
   },
   {
    "duration": 14,
    "start_time": "2024-04-07T13:49:15.933Z"
   },
   {
    "duration": 9,
    "start_time": "2024-04-07T13:49:15.949Z"
   },
   {
    "duration": 10,
    "start_time": "2024-04-07T13:49:15.959Z"
   },
   {
    "duration": 5,
    "start_time": "2024-04-07T13:49:15.983Z"
   },
   {
    "duration": 10,
    "start_time": "2024-04-07T13:49:15.990Z"
   },
   {
    "duration": 37,
    "start_time": "2024-04-07T13:49:16.002Z"
   },
   {
    "duration": 9,
    "start_time": "2024-04-07T13:49:16.040Z"
   },
   {
    "duration": 32,
    "start_time": "2024-04-07T13:49:16.051Z"
   },
   {
    "duration": 44,
    "start_time": "2024-04-07T13:49:16.084Z"
   },
   {
    "duration": 4,
    "start_time": "2024-04-07T13:49:16.130Z"
   },
   {
    "duration": 15,
    "start_time": "2024-04-07T13:49:16.136Z"
   },
   {
    "duration": 7,
    "start_time": "2024-04-07T13:49:16.153Z"
   },
   {
    "duration": 23,
    "start_time": "2024-04-07T13:49:16.161Z"
   },
   {
    "duration": 5,
    "start_time": "2024-04-07T13:49:16.185Z"
   },
   {
    "duration": 8,
    "start_time": "2024-04-07T13:49:16.191Z"
   },
   {
    "duration": 7,
    "start_time": "2024-04-07T13:49:16.200Z"
   },
   {
    "duration": 12,
    "start_time": "2024-04-07T13:49:16.208Z"
   },
   {
    "duration": 4,
    "start_time": "2024-04-07T13:49:16.222Z"
   },
   {
    "duration": 21,
    "start_time": "2024-04-07T13:49:16.227Z"
   },
   {
    "duration": 38,
    "start_time": "2024-04-07T13:49:16.250Z"
   },
   {
    "duration": 250,
    "start_time": "2024-04-07T13:49:16.289Z"
   },
   {
    "duration": 14,
    "start_time": "2024-04-07T13:49:16.542Z"
   },
   {
    "duration": 35,
    "start_time": "2024-04-07T13:49:16.557Z"
   },
   {
    "duration": 7,
    "start_time": "2024-04-07T13:49:16.593Z"
   },
   {
    "duration": 9,
    "start_time": "2024-04-07T13:49:16.602Z"
   },
   {
    "duration": 14,
    "start_time": "2024-04-07T13:49:16.612Z"
   },
   {
    "duration": 348,
    "start_time": "2024-04-07T13:49:16.628Z"
   },
   {
    "duration": 8,
    "start_time": "2024-04-07T13:49:16.978Z"
   },
   {
    "duration": 194,
    "start_time": "2024-04-07T13:49:16.988Z"
   },
   {
    "duration": 0,
    "start_time": "2024-04-07T13:49:17.184Z"
   },
   {
    "duration": 0,
    "start_time": "2024-04-07T13:49:17.185Z"
   },
   {
    "duration": 0,
    "start_time": "2024-04-07T13:49:17.186Z"
   },
   {
    "duration": 0,
    "start_time": "2024-04-07T13:49:17.187Z"
   },
   {
    "duration": 0,
    "start_time": "2024-04-07T13:49:17.188Z"
   },
   {
    "duration": 0,
    "start_time": "2024-04-07T13:49:17.189Z"
   },
   {
    "duration": 0,
    "start_time": "2024-04-07T13:49:17.190Z"
   },
   {
    "duration": 0,
    "start_time": "2024-04-07T13:49:17.191Z"
   },
   {
    "duration": 1,
    "start_time": "2024-04-07T13:49:17.192Z"
   },
   {
    "duration": 0,
    "start_time": "2024-04-07T13:49:17.194Z"
   },
   {
    "duration": 0,
    "start_time": "2024-04-07T13:49:17.195Z"
   },
   {
    "duration": 0,
    "start_time": "2024-04-07T13:49:17.196Z"
   },
   {
    "duration": 0,
    "start_time": "2024-04-07T13:49:17.197Z"
   },
   {
    "duration": 0,
    "start_time": "2024-04-07T13:49:17.199Z"
   },
   {
    "duration": 0,
    "start_time": "2024-04-07T13:49:17.200Z"
   },
   {
    "duration": 0,
    "start_time": "2024-04-07T13:49:17.201Z"
   },
   {
    "duration": 0,
    "start_time": "2024-04-07T13:49:17.202Z"
   },
   {
    "duration": 0,
    "start_time": "2024-04-07T13:49:17.202Z"
   },
   {
    "duration": 0,
    "start_time": "2024-04-07T13:49:17.204Z"
   },
   {
    "duration": 0,
    "start_time": "2024-04-07T13:49:17.205Z"
   },
   {
    "duration": 0,
    "start_time": "2024-04-07T13:49:17.206Z"
   },
   {
    "duration": 0,
    "start_time": "2024-04-07T13:49:17.207Z"
   },
   {
    "duration": 0,
    "start_time": "2024-04-07T13:49:17.208Z"
   },
   {
    "duration": 0,
    "start_time": "2024-04-07T13:49:17.209Z"
   },
   {
    "duration": 0,
    "start_time": "2024-04-07T13:49:17.210Z"
   },
   {
    "duration": 0,
    "start_time": "2024-04-07T13:49:17.211Z"
   },
   {
    "duration": 0,
    "start_time": "2024-04-07T13:49:17.212Z"
   },
   {
    "duration": 0,
    "start_time": "2024-04-07T13:49:17.213Z"
   },
   {
    "duration": 0,
    "start_time": "2024-04-07T13:49:17.214Z"
   },
   {
    "duration": 0,
    "start_time": "2024-04-07T13:49:17.215Z"
   },
   {
    "duration": 0,
    "start_time": "2024-04-07T13:49:17.216Z"
   },
   {
    "duration": 0,
    "start_time": "2024-04-07T13:49:17.217Z"
   },
   {
    "duration": 0,
    "start_time": "2024-04-07T13:49:17.218Z"
   },
   {
    "duration": 0,
    "start_time": "2024-04-07T13:49:17.219Z"
   },
   {
    "duration": 84,
    "start_time": "2024-04-07T13:49:21.597Z"
   },
   {
    "duration": 18,
    "start_time": "2024-04-07T13:50:46.458Z"
   },
   {
    "duration": 633,
    "start_time": "2024-04-07T13:50:59.812Z"
   },
   {
    "duration": 99,
    "start_time": "2024-04-07T13:51:00.447Z"
   },
   {
    "duration": 38,
    "start_time": "2024-04-07T13:51:00.547Z"
   },
   {
    "duration": 74,
    "start_time": "2024-04-07T13:51:00.587Z"
   },
   {
    "duration": 1854,
    "start_time": "2024-04-07T13:51:00.662Z"
   },
   {
    "duration": 15,
    "start_time": "2024-04-07T13:51:02.518Z"
   },
   {
    "duration": 21,
    "start_time": "2024-04-07T13:51:02.534Z"
   },
   {
    "duration": 9,
    "start_time": "2024-04-07T13:51:02.557Z"
   },
   {
    "duration": 9,
    "start_time": "2024-04-07T13:51:02.568Z"
   },
   {
    "duration": 7,
    "start_time": "2024-04-07T13:51:02.579Z"
   },
   {
    "duration": 22,
    "start_time": "2024-04-07T13:51:02.588Z"
   },
   {
    "duration": 34,
    "start_time": "2024-04-07T13:51:02.612Z"
   },
   {
    "duration": 8,
    "start_time": "2024-04-07T13:51:02.647Z"
   },
   {
    "duration": 17,
    "start_time": "2024-04-07T13:51:02.657Z"
   },
   {
    "duration": 79,
    "start_time": "2024-04-07T13:51:02.676Z"
   },
   {
    "duration": 3,
    "start_time": "2024-04-07T13:51:02.757Z"
   },
   {
    "duration": 30,
    "start_time": "2024-04-07T13:51:02.761Z"
   },
   {
    "duration": 10,
    "start_time": "2024-04-07T13:51:02.792Z"
   },
   {
    "duration": 7,
    "start_time": "2024-04-07T13:51:02.803Z"
   },
   {
    "duration": 7,
    "start_time": "2024-04-07T13:51:02.811Z"
   },
   {
    "duration": 8,
    "start_time": "2024-04-07T13:51:02.819Z"
   },
   {
    "duration": 9,
    "start_time": "2024-04-07T13:51:02.828Z"
   },
   {
    "duration": 4,
    "start_time": "2024-04-07T13:51:02.838Z"
   },
   {
    "duration": 10,
    "start_time": "2024-04-07T13:51:02.843Z"
   },
   {
    "duration": 34,
    "start_time": "2024-04-07T13:51:02.854Z"
   },
   {
    "duration": 16,
    "start_time": "2024-04-07T13:51:02.890Z"
   },
   {
    "duration": 264,
    "start_time": "2024-04-07T13:51:02.908Z"
   },
   {
    "duration": 19,
    "start_time": "2024-04-07T13:51:03.175Z"
   },
   {
    "duration": 24,
    "start_time": "2024-04-07T13:51:03.196Z"
   },
   {
    "duration": 8,
    "start_time": "2024-04-07T13:51:03.221Z"
   },
   {
    "duration": 32,
    "start_time": "2024-04-07T13:51:03.230Z"
   },
   {
    "duration": 8,
    "start_time": "2024-04-07T13:51:03.264Z"
   },
   {
    "duration": 355,
    "start_time": "2024-04-07T13:51:03.273Z"
   },
   {
    "duration": 7,
    "start_time": "2024-04-07T13:51:03.630Z"
   },
   {
    "duration": 9,
    "start_time": "2024-04-07T13:51:03.639Z"
   },
   {
    "duration": 266,
    "start_time": "2024-04-07T13:51:03.650Z"
   },
   {
    "duration": 9,
    "start_time": "2024-04-07T13:51:03.918Z"
   },
   {
    "duration": 359,
    "start_time": "2024-04-07T13:51:03.929Z"
   },
   {
    "duration": 10,
    "start_time": "2024-04-07T13:51:04.290Z"
   },
   {
    "duration": 215,
    "start_time": "2024-04-07T13:51:04.302Z"
   },
   {
    "duration": 8,
    "start_time": "2024-04-07T13:51:04.519Z"
   },
   {
    "duration": 163,
    "start_time": "2024-04-07T13:51:04.528Z"
   },
   {
    "duration": 8,
    "start_time": "2024-04-07T13:51:04.692Z"
   },
   {
    "duration": 210,
    "start_time": "2024-04-07T13:51:04.701Z"
   },
   {
    "duration": 8,
    "start_time": "2024-04-07T13:51:04.912Z"
   },
   {
    "duration": 210,
    "start_time": "2024-04-07T13:51:04.921Z"
   },
   {
    "duration": 175,
    "start_time": "2024-04-07T13:51:05.132Z"
   },
   {
    "duration": 8,
    "start_time": "2024-04-07T13:51:05.308Z"
   },
   {
    "duration": 181,
    "start_time": "2024-04-07T13:51:05.318Z"
   },
   {
    "duration": 9,
    "start_time": "2024-04-07T13:51:05.500Z"
   },
   {
    "duration": 263,
    "start_time": "2024-04-07T13:51:05.511Z"
   },
   {
    "duration": 14,
    "start_time": "2024-04-07T13:51:05.775Z"
   },
   {
    "duration": 279,
    "start_time": "2024-04-07T13:51:05.791Z"
   },
   {
    "duration": 15,
    "start_time": "2024-04-07T13:51:06.072Z"
   },
   {
    "duration": 333,
    "start_time": "2024-04-07T13:51:06.088Z"
   },
   {
    "duration": 24,
    "start_time": "2024-04-07T13:51:06.423Z"
   },
   {
    "duration": 150,
    "start_time": "2024-04-07T13:51:06.448Z"
   },
   {
    "duration": 163,
    "start_time": "2024-04-07T13:51:06.600Z"
   },
   {
    "duration": 161,
    "start_time": "2024-04-07T13:51:06.765Z"
   },
   {
    "duration": 157,
    "start_time": "2024-04-07T13:51:06.928Z"
   },
   {
    "duration": 157,
    "start_time": "2024-04-07T13:51:07.087Z"
   },
   {
    "duration": 164,
    "start_time": "2024-04-07T13:51:07.246Z"
   },
   {
    "duration": 167,
    "start_time": "2024-04-07T13:51:07.412Z"
   },
   {
    "duration": 147,
    "start_time": "2024-04-07T13:51:07.581Z"
   },
   {
    "duration": 26,
    "start_time": "2024-04-07T13:51:07.729Z"
   },
   {
    "duration": 30,
    "start_time": "2024-04-07T13:51:07.757Z"
   },
   {
    "duration": 208,
    "start_time": "2024-04-07T13:51:07.789Z"
   },
   {
    "duration": 150,
    "start_time": "2024-04-07T13:51:07.999Z"
   },
   {
    "duration": 239,
    "start_time": "2024-04-07T13:52:41.003Z"
   },
   {
    "duration": 246,
    "start_time": "2024-04-07T13:53:01.387Z"
   },
   {
    "duration": 8,
    "start_time": "2024-04-07T13:53:16.105Z"
   },
   {
    "duration": 243,
    "start_time": "2024-04-07T13:53:38.341Z"
   },
   {
    "duration": 245,
    "start_time": "2024-04-07T13:54:16.711Z"
   },
   {
    "duration": 110,
    "start_time": "2024-04-07T13:54:25.830Z"
   },
   {
    "duration": 195,
    "start_time": "2024-04-07T13:55:30.787Z"
   },
   {
    "duration": 668,
    "start_time": "2024-04-07T13:56:07.997Z"
   },
   {
    "duration": 97,
    "start_time": "2024-04-07T13:56:08.667Z"
   },
   {
    "duration": 32,
    "start_time": "2024-04-07T13:56:08.766Z"
   },
   {
    "duration": 14,
    "start_time": "2024-04-07T13:56:08.800Z"
   },
   {
    "duration": 1842,
    "start_time": "2024-04-07T13:56:08.815Z"
   },
   {
    "duration": 11,
    "start_time": "2024-04-07T13:56:10.659Z"
   },
   {
    "duration": 16,
    "start_time": "2024-04-07T13:56:10.672Z"
   },
   {
    "duration": 9,
    "start_time": "2024-04-07T13:56:10.690Z"
   },
   {
    "duration": 10,
    "start_time": "2024-04-07T13:56:10.700Z"
   },
   {
    "duration": 5,
    "start_time": "2024-04-07T13:56:10.713Z"
   },
   {
    "duration": 7,
    "start_time": "2024-04-07T13:56:10.719Z"
   },
   {
    "duration": 59,
    "start_time": "2024-04-07T13:56:10.727Z"
   },
   {
    "duration": 9,
    "start_time": "2024-04-07T13:56:10.787Z"
   },
   {
    "duration": 10,
    "start_time": "2024-04-07T13:56:10.797Z"
   },
   {
    "duration": 36,
    "start_time": "2024-04-07T13:56:10.809Z"
   },
   {
    "duration": 4,
    "start_time": "2024-04-07T13:56:10.846Z"
   },
   {
    "duration": 33,
    "start_time": "2024-04-07T13:56:10.851Z"
   },
   {
    "duration": 3,
    "start_time": "2024-04-07T13:56:10.886Z"
   },
   {
    "duration": 3,
    "start_time": "2024-04-07T13:56:10.891Z"
   },
   {
    "duration": 10,
    "start_time": "2024-04-07T13:56:10.896Z"
   },
   {
    "duration": 19,
    "start_time": "2024-04-07T13:56:10.907Z"
   },
   {
    "duration": 6,
    "start_time": "2024-04-07T13:56:10.928Z"
   },
   {
    "duration": 3,
    "start_time": "2024-04-07T13:56:10.936Z"
   },
   {
    "duration": 4,
    "start_time": "2024-04-07T13:56:10.941Z"
   },
   {
    "duration": 53,
    "start_time": "2024-04-07T13:56:10.946Z"
   },
   {
    "duration": 17,
    "start_time": "2024-04-07T13:56:11.000Z"
   },
   {
    "duration": 247,
    "start_time": "2024-04-07T13:56:11.019Z"
   },
   {
    "duration": 26,
    "start_time": "2024-04-07T13:56:11.271Z"
   },
   {
    "duration": 26,
    "start_time": "2024-04-07T13:56:11.299Z"
   },
   {
    "duration": 8,
    "start_time": "2024-04-07T13:56:11.326Z"
   },
   {
    "duration": 7,
    "start_time": "2024-04-07T13:56:11.335Z"
   },
   {
    "duration": 38,
    "start_time": "2024-04-07T13:56:11.344Z"
   },
   {
    "duration": 370,
    "start_time": "2024-04-07T13:56:11.384Z"
   },
   {
    "duration": 6,
    "start_time": "2024-04-07T13:56:11.756Z"
   },
   {
    "duration": 21,
    "start_time": "2024-04-07T13:56:11.763Z"
   },
   {
    "duration": 84,
    "start_time": "2024-04-07T13:56:11.785Z"
   },
   {
    "duration": 0,
    "start_time": "2024-04-07T13:56:11.871Z"
   },
   {
    "duration": 0,
    "start_time": "2024-04-07T13:56:11.872Z"
   },
   {
    "duration": 0,
    "start_time": "2024-04-07T13:56:11.881Z"
   },
   {
    "duration": 0,
    "start_time": "2024-04-07T13:56:11.883Z"
   },
   {
    "duration": 0,
    "start_time": "2024-04-07T13:56:11.884Z"
   },
   {
    "duration": 0,
    "start_time": "2024-04-07T13:56:11.885Z"
   },
   {
    "duration": 0,
    "start_time": "2024-04-07T13:56:11.886Z"
   },
   {
    "duration": 0,
    "start_time": "2024-04-07T13:56:11.887Z"
   },
   {
    "duration": 0,
    "start_time": "2024-04-07T13:56:11.889Z"
   },
   {
    "duration": 0,
    "start_time": "2024-04-07T13:56:11.890Z"
   },
   {
    "duration": 0,
    "start_time": "2024-04-07T13:56:11.891Z"
   },
   {
    "duration": 0,
    "start_time": "2024-04-07T13:56:11.892Z"
   },
   {
    "duration": 0,
    "start_time": "2024-04-07T13:56:11.894Z"
   },
   {
    "duration": 0,
    "start_time": "2024-04-07T13:56:11.896Z"
   },
   {
    "duration": 0,
    "start_time": "2024-04-07T13:56:11.897Z"
   },
   {
    "duration": 0,
    "start_time": "2024-04-07T13:56:11.898Z"
   },
   {
    "duration": 0,
    "start_time": "2024-04-07T13:56:11.900Z"
   },
   {
    "duration": 0,
    "start_time": "2024-04-07T13:56:11.901Z"
   },
   {
    "duration": 0,
    "start_time": "2024-04-07T13:56:11.902Z"
   },
   {
    "duration": 0,
    "start_time": "2024-04-07T13:56:11.903Z"
   },
   {
    "duration": 0,
    "start_time": "2024-04-07T13:56:11.905Z"
   },
   {
    "duration": 0,
    "start_time": "2024-04-07T13:56:11.906Z"
   },
   {
    "duration": 0,
    "start_time": "2024-04-07T13:56:11.907Z"
   },
   {
    "duration": 0,
    "start_time": "2024-04-07T13:56:11.908Z"
   },
   {
    "duration": 0,
    "start_time": "2024-04-07T13:56:11.909Z"
   },
   {
    "duration": 0,
    "start_time": "2024-04-07T13:56:11.910Z"
   },
   {
    "duration": 0,
    "start_time": "2024-04-07T13:56:11.911Z"
   },
   {
    "duration": 0,
    "start_time": "2024-04-07T13:56:11.912Z"
   },
   {
    "duration": 0,
    "start_time": "2024-04-07T13:56:11.913Z"
   },
   {
    "duration": 0,
    "start_time": "2024-04-07T13:56:11.914Z"
   },
   {
    "duration": 0,
    "start_time": "2024-04-07T13:56:11.915Z"
   },
   {
    "duration": 0,
    "start_time": "2024-04-07T13:56:11.916Z"
   },
   {
    "duration": 11,
    "start_time": "2024-04-07T13:57:23.791Z"
   },
   {
    "duration": 846,
    "start_time": "2024-04-07T13:59:11.624Z"
   },
   {
    "duration": 17,
    "start_time": "2024-04-07T13:59:22.480Z"
   },
   {
    "duration": 436,
    "start_time": "2024-04-07T13:59:38.086Z"
   },
   {
    "duration": 275,
    "start_time": "2024-04-07T13:59:54.798Z"
   },
   {
    "duration": 223,
    "start_time": "2024-04-07T14:00:25.995Z"
   },
   {
    "duration": 217,
    "start_time": "2024-04-07T14:00:27.835Z"
   },
   {
    "duration": 212,
    "start_time": "2024-04-07T14:00:33.470Z"
   },
   {
    "duration": 663,
    "start_time": "2024-04-07T14:00:39.178Z"
   },
   {
    "duration": 146,
    "start_time": "2024-04-07T14:00:39.843Z"
   },
   {
    "duration": 34,
    "start_time": "2024-04-07T14:00:39.990Z"
   },
   {
    "duration": 71,
    "start_time": "2024-04-07T14:00:40.026Z"
   },
   {
    "duration": 2071,
    "start_time": "2024-04-07T14:00:40.098Z"
   },
   {
    "duration": 10,
    "start_time": "2024-04-07T14:00:42.170Z"
   },
   {
    "duration": 15,
    "start_time": "2024-04-07T14:00:42.182Z"
   },
   {
    "duration": 18,
    "start_time": "2024-04-07T14:00:42.199Z"
   },
   {
    "duration": 31,
    "start_time": "2024-04-07T14:00:42.219Z"
   },
   {
    "duration": 13,
    "start_time": "2024-04-07T14:00:42.254Z"
   },
   {
    "duration": 29,
    "start_time": "2024-04-07T14:00:42.269Z"
   },
   {
    "duration": 50,
    "start_time": "2024-04-07T14:00:42.299Z"
   },
   {
    "duration": 10,
    "start_time": "2024-04-07T14:00:42.351Z"
   },
   {
    "duration": 34,
    "start_time": "2024-04-07T14:00:42.362Z"
   },
   {
    "duration": 46,
    "start_time": "2024-04-07T14:00:42.397Z"
   },
   {
    "duration": 3,
    "start_time": "2024-04-07T14:00:42.445Z"
   },
   {
    "duration": 32,
    "start_time": "2024-04-07T14:00:42.450Z"
   },
   {
    "duration": 9,
    "start_time": "2024-04-07T14:00:42.483Z"
   },
   {
    "duration": 12,
    "start_time": "2024-04-07T14:00:42.493Z"
   },
   {
    "duration": 22,
    "start_time": "2024-04-07T14:00:42.506Z"
   },
   {
    "duration": 10,
    "start_time": "2024-04-07T14:00:42.530Z"
   },
   {
    "duration": 10,
    "start_time": "2024-04-07T14:00:42.542Z"
   },
   {
    "duration": 4,
    "start_time": "2024-04-07T14:00:42.554Z"
   },
   {
    "duration": 7,
    "start_time": "2024-04-07T14:00:42.560Z"
   },
   {
    "duration": 25,
    "start_time": "2024-04-07T14:00:42.569Z"
   },
   {
    "duration": 19,
    "start_time": "2024-04-07T14:00:42.595Z"
   },
   {
    "duration": 298,
    "start_time": "2024-04-07T14:00:42.616Z"
   },
   {
    "duration": 14,
    "start_time": "2024-04-07T14:00:42.919Z"
   },
   {
    "duration": 53,
    "start_time": "2024-04-07T14:00:42.935Z"
   },
   {
    "duration": 8,
    "start_time": "2024-04-07T14:00:42.989Z"
   },
   {
    "duration": 19,
    "start_time": "2024-04-07T14:00:42.999Z"
   },
   {
    "duration": 7,
    "start_time": "2024-04-07T14:00:43.020Z"
   },
   {
    "duration": 443,
    "start_time": "2024-04-07T14:00:43.028Z"
   },
   {
    "duration": 13,
    "start_time": "2024-04-07T14:00:43.473Z"
   },
   {
    "duration": 17,
    "start_time": "2024-04-07T14:00:43.487Z"
   },
   {
    "duration": 367,
    "start_time": "2024-04-07T14:00:43.505Z"
   },
   {
    "duration": 16,
    "start_time": "2024-04-07T14:00:43.874Z"
   },
   {
    "duration": 299,
    "start_time": "2024-04-07T14:00:43.892Z"
   },
   {
    "duration": 10,
    "start_time": "2024-04-07T14:00:44.192Z"
   },
   {
    "duration": 220,
    "start_time": "2024-04-07T14:00:44.204Z"
   },
   {
    "duration": 10,
    "start_time": "2024-04-07T14:00:44.425Z"
   },
   {
    "duration": 197,
    "start_time": "2024-04-07T14:00:44.437Z"
   },
   {
    "duration": 9,
    "start_time": "2024-04-07T14:00:44.636Z"
   },
   {
    "duration": 221,
    "start_time": "2024-04-07T14:00:44.646Z"
   },
   {
    "duration": 18,
    "start_time": "2024-04-07T14:00:44.869Z"
   },
   {
    "duration": 246,
    "start_time": "2024-04-07T14:00:44.891Z"
   },
   {
    "duration": 217,
    "start_time": "2024-04-07T14:00:45.138Z"
   },
   {
    "duration": 10,
    "start_time": "2024-04-07T14:00:45.357Z"
   },
   {
    "duration": 226,
    "start_time": "2024-04-07T14:00:45.368Z"
   },
   {
    "duration": 10,
    "start_time": "2024-04-07T14:00:45.595Z"
   },
   {
    "duration": 316,
    "start_time": "2024-04-07T14:00:45.606Z"
   },
   {
    "duration": 12,
    "start_time": "2024-04-07T14:00:45.925Z"
   },
   {
    "duration": 378,
    "start_time": "2024-04-07T14:00:45.940Z"
   },
   {
    "duration": 10,
    "start_time": "2024-04-07T14:00:46.320Z"
   },
   {
    "duration": 277,
    "start_time": "2024-04-07T14:00:46.332Z"
   },
   {
    "duration": 32,
    "start_time": "2024-04-07T14:00:46.611Z"
   },
   {
    "duration": 239,
    "start_time": "2024-04-07T14:00:46.645Z"
   },
   {
    "duration": 186,
    "start_time": "2024-04-07T14:00:46.886Z"
   },
   {
    "duration": 179,
    "start_time": "2024-04-07T14:00:47.073Z"
   },
   {
    "duration": 161,
    "start_time": "2024-04-07T14:00:47.254Z"
   },
   {
    "duration": 158,
    "start_time": "2024-04-07T14:00:47.417Z"
   },
   {
    "duration": 169,
    "start_time": "2024-04-07T14:00:47.577Z"
   },
   {
    "duration": 171,
    "start_time": "2024-04-07T14:00:47.748Z"
   },
   {
    "duration": 221,
    "start_time": "2024-04-07T14:00:47.920Z"
   },
   {
    "duration": 27,
    "start_time": "2024-04-07T14:00:48.143Z"
   },
   {
    "duration": 15,
    "start_time": "2024-04-07T14:00:48.183Z"
   },
   {
    "duration": 208,
    "start_time": "2024-04-07T14:00:48.200Z"
   },
   {
    "duration": 85,
    "start_time": "2024-04-07T14:00:48.409Z"
   },
   {
    "duration": 284,
    "start_time": "2024-04-07T14:01:11.324Z"
   },
   {
    "duration": 288,
    "start_time": "2024-04-07T14:01:30.666Z"
   },
   {
    "duration": 220,
    "start_time": "2024-04-07T14:01:35.491Z"
   },
   {
    "duration": 681,
    "start_time": "2024-04-07T14:01:45.467Z"
   },
   {
    "duration": 98,
    "start_time": "2024-04-07T14:01:46.150Z"
   },
   {
    "duration": 36,
    "start_time": "2024-04-07T14:01:46.250Z"
   },
   {
    "duration": 19,
    "start_time": "2024-04-07T14:01:46.289Z"
   },
   {
    "duration": 1807,
    "start_time": "2024-04-07T14:01:46.309Z"
   },
   {
    "duration": 10,
    "start_time": "2024-04-07T14:01:48.118Z"
   },
   {
    "duration": 16,
    "start_time": "2024-04-07T14:01:48.129Z"
   },
   {
    "duration": 10,
    "start_time": "2024-04-07T14:01:48.146Z"
   },
   {
    "duration": 10,
    "start_time": "2024-04-07T14:01:48.157Z"
   },
   {
    "duration": 5,
    "start_time": "2024-04-07T14:01:48.169Z"
   },
   {
    "duration": 9,
    "start_time": "2024-04-07T14:01:48.176Z"
   },
   {
    "duration": 36,
    "start_time": "2024-04-07T14:01:48.187Z"
   },
   {
    "duration": 8,
    "start_time": "2024-04-07T14:01:48.225Z"
   },
   {
    "duration": 9,
    "start_time": "2024-04-07T14:01:48.234Z"
   },
   {
    "duration": 60,
    "start_time": "2024-04-07T14:01:48.244Z"
   },
   {
    "duration": 3,
    "start_time": "2024-04-07T14:01:48.306Z"
   },
   {
    "duration": 23,
    "start_time": "2024-04-07T14:01:48.310Z"
   },
   {
    "duration": 8,
    "start_time": "2024-04-07T14:01:48.334Z"
   },
   {
    "duration": 10,
    "start_time": "2024-04-07T14:01:48.344Z"
   },
   {
    "duration": 16,
    "start_time": "2024-04-07T14:01:48.355Z"
   },
   {
    "duration": 19,
    "start_time": "2024-04-07T14:01:48.372Z"
   },
   {
    "duration": 10,
    "start_time": "2024-04-07T14:01:48.392Z"
   },
   {
    "duration": 19,
    "start_time": "2024-04-07T14:01:48.403Z"
   },
   {
    "duration": 7,
    "start_time": "2024-04-07T14:01:48.424Z"
   },
   {
    "duration": 21,
    "start_time": "2024-04-07T14:01:48.433Z"
   },
   {
    "duration": 23,
    "start_time": "2024-04-07T14:01:48.455Z"
   },
   {
    "duration": 275,
    "start_time": "2024-04-07T14:01:48.480Z"
   },
   {
    "duration": 14,
    "start_time": "2024-04-07T14:01:48.758Z"
   },
   {
    "duration": 27,
    "start_time": "2024-04-07T14:01:48.782Z"
   },
   {
    "duration": 7,
    "start_time": "2024-04-07T14:01:48.811Z"
   },
   {
    "duration": 8,
    "start_time": "2024-04-07T14:01:48.820Z"
   },
   {
    "duration": 30,
    "start_time": "2024-04-07T14:01:48.830Z"
   },
   {
    "duration": 390,
    "start_time": "2024-04-07T14:01:48.866Z"
   },
   {
    "duration": 6,
    "start_time": "2024-04-07T14:01:49.258Z"
   },
   {
    "duration": 26,
    "start_time": "2024-04-07T14:01:49.266Z"
   },
   {
    "duration": 222,
    "start_time": "2024-04-07T14:01:49.294Z"
   },
   {
    "duration": 9,
    "start_time": "2024-04-07T14:01:49.517Z"
   },
   {
    "duration": 406,
    "start_time": "2024-04-07T14:01:49.528Z"
   },
   {
    "duration": 13,
    "start_time": "2024-04-07T14:01:49.937Z"
   },
   {
    "duration": 216,
    "start_time": "2024-04-07T14:01:49.952Z"
   },
   {
    "duration": 14,
    "start_time": "2024-04-07T14:01:50.170Z"
   },
   {
    "duration": 164,
    "start_time": "2024-04-07T14:01:50.186Z"
   },
   {
    "duration": 9,
    "start_time": "2024-04-07T14:01:50.352Z"
   },
   {
    "duration": 212,
    "start_time": "2024-04-07T14:01:50.362Z"
   },
   {
    "duration": 12,
    "start_time": "2024-04-07T14:01:50.576Z"
   },
   {
    "duration": 213,
    "start_time": "2024-04-07T14:01:50.590Z"
   },
   {
    "duration": 171,
    "start_time": "2024-04-07T14:01:50.805Z"
   },
   {
    "duration": 11,
    "start_time": "2024-04-07T14:01:50.978Z"
   },
   {
    "duration": 196,
    "start_time": "2024-04-07T14:01:50.990Z"
   },
   {
    "duration": 9,
    "start_time": "2024-04-07T14:01:51.188Z"
   },
   {
    "duration": 270,
    "start_time": "2024-04-07T14:01:51.199Z"
   },
   {
    "duration": 16,
    "start_time": "2024-04-07T14:01:51.470Z"
   },
   {
    "duration": 266,
    "start_time": "2024-04-07T14:01:51.487Z"
   },
   {
    "duration": 10,
    "start_time": "2024-04-07T14:01:51.755Z"
   },
   {
    "duration": 387,
    "start_time": "2024-04-07T14:01:51.767Z"
   },
   {
    "duration": 39,
    "start_time": "2024-04-07T14:01:52.156Z"
   },
   {
    "duration": 146,
    "start_time": "2024-04-07T14:01:52.197Z"
   },
   {
    "duration": 187,
    "start_time": "2024-04-07T14:01:52.344Z"
   },
   {
    "duration": 196,
    "start_time": "2024-04-07T14:01:52.533Z"
   },
   {
    "duration": 152,
    "start_time": "2024-04-07T14:01:52.730Z"
   },
   {
    "duration": 138,
    "start_time": "2024-04-07T14:01:52.883Z"
   },
   {
    "duration": 176,
    "start_time": "2024-04-07T14:01:53.023Z"
   },
   {
    "duration": 167,
    "start_time": "2024-04-07T14:01:53.201Z"
   },
   {
    "duration": 160,
    "start_time": "2024-04-07T14:01:53.370Z"
   },
   {
    "duration": 23,
    "start_time": "2024-04-07T14:01:53.532Z"
   },
   {
    "duration": 30,
    "start_time": "2024-04-07T14:01:53.557Z"
   },
   {
    "duration": 219,
    "start_time": "2024-04-07T14:01:53.588Z"
   },
   {
    "duration": 173,
    "start_time": "2024-04-07T14:01:53.809Z"
   },
   {
    "duration": 859,
    "start_time": "2024-04-07T14:03:57.117Z"
   },
   {
    "duration": 75,
    "start_time": "2024-04-07T14:04:12.284Z"
   },
   {
    "duration": 9,
    "start_time": "2024-04-07T14:04:27.275Z"
   },
   {
    "duration": 84,
    "start_time": "2024-04-07T14:04:33.037Z"
   },
   {
    "duration": 8,
    "start_time": "2024-04-07T14:15:03.148Z"
   },
   {
    "duration": 87,
    "start_time": "2024-04-07T14:15:10.995Z"
   },
   {
    "duration": 6,
    "start_time": "2024-04-07T14:15:43.714Z"
   },
   {
    "duration": 868,
    "start_time": "2024-04-07T14:16:46.223Z"
   },
   {
    "duration": 662,
    "start_time": "2024-04-07T14:17:09.653Z"
   },
   {
    "duration": 99,
    "start_time": "2024-04-07T14:17:10.317Z"
   },
   {
    "duration": 32,
    "start_time": "2024-04-07T14:17:10.418Z"
   },
   {
    "duration": 13,
    "start_time": "2024-04-07T14:17:10.452Z"
   },
   {
    "duration": 1831,
    "start_time": "2024-04-07T14:17:10.481Z"
   },
   {
    "duration": 9,
    "start_time": "2024-04-07T14:17:12.314Z"
   },
   {
    "duration": 16,
    "start_time": "2024-04-07T14:17:12.324Z"
   },
   {
    "duration": 10,
    "start_time": "2024-04-07T14:17:12.341Z"
   },
   {
    "duration": 10,
    "start_time": "2024-04-07T14:17:12.353Z"
   },
   {
    "duration": 6,
    "start_time": "2024-04-07T14:17:12.381Z"
   },
   {
    "duration": 13,
    "start_time": "2024-04-07T14:17:12.389Z"
   },
   {
    "duration": 55,
    "start_time": "2024-04-07T14:17:12.403Z"
   },
   {
    "duration": 10,
    "start_time": "2024-04-07T14:17:12.459Z"
   },
   {
    "duration": 13,
    "start_time": "2024-04-07T14:17:12.470Z"
   },
   {
    "duration": 39,
    "start_time": "2024-04-07T14:17:12.484Z"
   },
   {
    "duration": 4,
    "start_time": "2024-04-07T14:17:12.525Z"
   },
   {
    "duration": 13,
    "start_time": "2024-04-07T14:17:12.531Z"
   },
   {
    "duration": 4,
    "start_time": "2024-04-07T14:17:12.546Z"
   },
   {
    "duration": 32,
    "start_time": "2024-04-07T14:17:12.552Z"
   },
   {
    "duration": 13,
    "start_time": "2024-04-07T14:17:12.586Z"
   },
   {
    "duration": 8,
    "start_time": "2024-04-07T14:17:12.600Z"
   },
   {
    "duration": 12,
    "start_time": "2024-04-07T14:17:12.610Z"
   },
   {
    "duration": 7,
    "start_time": "2024-04-07T14:17:12.623Z"
   },
   {
    "duration": 4,
    "start_time": "2024-04-07T14:17:12.632Z"
   },
   {
    "duration": 21,
    "start_time": "2024-04-07T14:17:12.637Z"
   },
   {
    "duration": 35,
    "start_time": "2024-04-07T14:17:12.659Z"
   },
   {
    "duration": 235,
    "start_time": "2024-04-07T14:17:12.695Z"
   },
   {
    "duration": 14,
    "start_time": "2024-04-07T14:17:12.934Z"
   },
   {
    "duration": 34,
    "start_time": "2024-04-07T14:17:12.950Z"
   },
   {
    "duration": 7,
    "start_time": "2024-04-07T14:17:12.986Z"
   },
   {
    "duration": 7,
    "start_time": "2024-04-07T14:17:12.994Z"
   },
   {
    "duration": 7,
    "start_time": "2024-04-07T14:17:13.003Z"
   },
   {
    "duration": 400,
    "start_time": "2024-04-07T14:17:13.011Z"
   },
   {
    "duration": 6,
    "start_time": "2024-04-07T14:17:13.413Z"
   },
   {
    "duration": 25,
    "start_time": "2024-04-07T14:17:13.421Z"
   },
   {
    "duration": 204,
    "start_time": "2024-04-07T14:17:13.447Z"
   },
   {
    "duration": 9,
    "start_time": "2024-04-07T14:17:13.652Z"
   },
   {
    "duration": 353,
    "start_time": "2024-04-07T14:17:13.663Z"
   },
   {
    "duration": 9,
    "start_time": "2024-04-07T14:17:14.017Z"
   },
   {
    "duration": 209,
    "start_time": "2024-04-07T14:17:14.027Z"
   },
   {
    "duration": 7,
    "start_time": "2024-04-07T14:17:14.238Z"
   },
   {
    "duration": 151,
    "start_time": "2024-04-07T14:17:14.247Z"
   },
   {
    "duration": 8,
    "start_time": "2024-04-07T14:17:14.400Z"
   },
   {
    "duration": 208,
    "start_time": "2024-04-07T14:17:14.409Z"
   },
   {
    "duration": 9,
    "start_time": "2024-04-07T14:17:14.618Z"
   },
   {
    "duration": 221,
    "start_time": "2024-04-07T14:17:14.628Z"
   },
   {
    "duration": 164,
    "start_time": "2024-04-07T14:17:14.851Z"
   },
   {
    "duration": 10,
    "start_time": "2024-04-07T14:17:15.016Z"
   },
   {
    "duration": 206,
    "start_time": "2024-04-07T14:17:15.028Z"
   },
   {
    "duration": 11,
    "start_time": "2024-04-07T14:17:15.235Z"
   },
   {
    "duration": 266,
    "start_time": "2024-04-07T14:17:15.247Z"
   },
   {
    "duration": 9,
    "start_time": "2024-04-07T14:17:15.515Z"
   },
   {
    "duration": 268,
    "start_time": "2024-04-07T14:17:15.525Z"
   },
   {
    "duration": 9,
    "start_time": "2024-04-07T14:17:15.794Z"
   },
   {
    "duration": 344,
    "start_time": "2024-04-07T14:17:15.805Z"
   },
   {
    "duration": 32,
    "start_time": "2024-04-07T14:17:16.151Z"
   },
   {
    "duration": 150,
    "start_time": "2024-04-07T14:17:16.185Z"
   },
   {
    "duration": 181,
    "start_time": "2024-04-07T14:17:16.337Z"
   },
   {
    "duration": 167,
    "start_time": "2024-04-07T14:17:16.519Z"
   },
   {
    "duration": 147,
    "start_time": "2024-04-07T14:17:16.687Z"
   },
   {
    "duration": 142,
    "start_time": "2024-04-07T14:17:16.836Z"
   },
   {
    "duration": 155,
    "start_time": "2024-04-07T14:17:16.981Z"
   },
   {
    "duration": 162,
    "start_time": "2024-04-07T14:17:17.137Z"
   },
   {
    "duration": 149,
    "start_time": "2024-04-07T14:17:17.301Z"
   },
   {
    "duration": 31,
    "start_time": "2024-04-07T14:17:17.452Z"
   },
   {
    "duration": 17,
    "start_time": "2024-04-07T14:17:17.485Z"
   },
   {
    "duration": 198,
    "start_time": "2024-04-07T14:17:17.503Z"
   },
   {
    "duration": 158,
    "start_time": "2024-04-07T14:17:17.702Z"
   },
   {
    "duration": 938,
    "start_time": "2024-04-07T14:17:24.181Z"
   },
   {
    "duration": 77,
    "start_time": "2024-04-07T14:17:28.572Z"
   },
   {
    "duration": 80,
    "start_time": "2024-04-07T14:22:18.137Z"
   },
   {
    "duration": 14,
    "start_time": "2024-04-07T14:25:44.528Z"
   },
   {
    "duration": 77,
    "start_time": "2024-04-07T14:25:46.854Z"
   },
   {
    "duration": 10,
    "start_time": "2024-04-07T14:27:16.365Z"
   },
   {
    "duration": 74,
    "start_time": "2024-04-07T14:27:16.965Z"
   },
   {
    "duration": 9,
    "start_time": "2024-04-07T14:27:38.338Z"
   },
   {
    "duration": 73,
    "start_time": "2024-04-07T14:27:38.817Z"
   },
   {
    "duration": 640,
    "start_time": "2024-04-07T14:27:43.103Z"
   },
   {
    "duration": 99,
    "start_time": "2024-04-07T14:27:43.745Z"
   },
   {
    "duration": 42,
    "start_time": "2024-04-07T14:27:43.846Z"
   },
   {
    "duration": 15,
    "start_time": "2024-04-07T14:27:43.890Z"
   },
   {
    "duration": 1861,
    "start_time": "2024-04-07T14:27:43.907Z"
   },
   {
    "duration": 11,
    "start_time": "2024-04-07T14:27:45.770Z"
   },
   {
    "duration": 18,
    "start_time": "2024-04-07T14:27:45.782Z"
   },
   {
    "duration": 9,
    "start_time": "2024-04-07T14:27:45.802Z"
   },
   {
    "duration": 11,
    "start_time": "2024-04-07T14:27:45.813Z"
   },
   {
    "duration": 5,
    "start_time": "2024-04-07T14:27:45.827Z"
   },
   {
    "duration": 30,
    "start_time": "2024-04-07T14:27:45.834Z"
   },
   {
    "duration": 56,
    "start_time": "2024-04-07T14:27:45.866Z"
   },
   {
    "duration": 9,
    "start_time": "2024-04-07T14:27:45.924Z"
   },
   {
    "duration": 18,
    "start_time": "2024-04-07T14:27:45.934Z"
   },
   {
    "duration": 36,
    "start_time": "2024-04-07T14:27:45.954Z"
   },
   {
    "duration": 3,
    "start_time": "2024-04-07T14:27:45.992Z"
   },
   {
    "duration": 13,
    "start_time": "2024-04-07T14:27:45.996Z"
   },
   {
    "duration": 4,
    "start_time": "2024-04-07T14:27:46.011Z"
   },
   {
    "duration": 5,
    "start_time": "2024-04-07T14:27:46.016Z"
   },
   {
    "duration": 9,
    "start_time": "2024-04-07T14:27:46.023Z"
   },
   {
    "duration": 8,
    "start_time": "2024-04-07T14:27:46.033Z"
   },
   {
    "duration": 14,
    "start_time": "2024-04-07T14:27:46.042Z"
   },
   {
    "duration": 4,
    "start_time": "2024-04-07T14:27:46.057Z"
   },
   {
    "duration": 23,
    "start_time": "2024-04-07T14:27:46.062Z"
   },
   {
    "duration": 23,
    "start_time": "2024-04-07T14:27:46.086Z"
   },
   {
    "duration": 19,
    "start_time": "2024-04-07T14:27:46.110Z"
   },
   {
    "duration": 254,
    "start_time": "2024-04-07T14:27:46.130Z"
   },
   {
    "duration": 14,
    "start_time": "2024-04-07T14:27:46.388Z"
   },
   {
    "duration": 26,
    "start_time": "2024-04-07T14:27:46.403Z"
   },
   {
    "duration": 10,
    "start_time": "2024-04-07T14:27:46.431Z"
   },
   {
    "duration": 7,
    "start_time": "2024-04-07T14:27:46.442Z"
   },
   {
    "duration": 34,
    "start_time": "2024-04-07T14:27:46.451Z"
   },
   {
    "duration": 387,
    "start_time": "2024-04-07T14:27:46.487Z"
   },
   {
    "duration": 11,
    "start_time": "2024-04-07T14:27:46.876Z"
   },
   {
    "duration": 26,
    "start_time": "2024-04-07T14:27:46.888Z"
   },
   {
    "duration": 224,
    "start_time": "2024-04-07T14:27:46.915Z"
   },
   {
    "duration": 9,
    "start_time": "2024-04-07T14:27:47.141Z"
   },
   {
    "duration": 340,
    "start_time": "2024-04-07T14:27:47.151Z"
   },
   {
    "duration": 9,
    "start_time": "2024-04-07T14:27:47.492Z"
   },
   {
    "duration": 211,
    "start_time": "2024-04-07T14:27:47.503Z"
   },
   {
    "duration": 8,
    "start_time": "2024-04-07T14:27:47.716Z"
   },
   {
    "duration": 156,
    "start_time": "2024-04-07T14:27:47.726Z"
   },
   {
    "duration": 9,
    "start_time": "2024-04-07T14:27:47.884Z"
   },
   {
    "duration": 228,
    "start_time": "2024-04-07T14:27:47.895Z"
   },
   {
    "duration": 9,
    "start_time": "2024-04-07T14:27:48.124Z"
   },
   {
    "duration": 232,
    "start_time": "2024-04-07T14:27:48.134Z"
   },
   {
    "duration": 174,
    "start_time": "2024-04-07T14:27:48.367Z"
   },
   {
    "duration": 10,
    "start_time": "2024-04-07T14:27:48.543Z"
   },
   {
    "duration": 191,
    "start_time": "2024-04-07T14:27:48.555Z"
   },
   {
    "duration": 10,
    "start_time": "2024-04-07T14:27:48.747Z"
   },
   {
    "duration": 269,
    "start_time": "2024-04-07T14:27:48.758Z"
   },
   {
    "duration": 9,
    "start_time": "2024-04-07T14:27:49.029Z"
   },
   {
    "duration": 274,
    "start_time": "2024-04-07T14:27:49.039Z"
   },
   {
    "duration": 10,
    "start_time": "2024-04-07T14:27:49.315Z"
   },
   {
    "duration": 366,
    "start_time": "2024-04-07T14:27:49.326Z"
   },
   {
    "duration": 31,
    "start_time": "2024-04-07T14:27:49.695Z"
   },
   {
    "duration": 179,
    "start_time": "2024-04-07T14:27:49.728Z"
   },
   {
    "duration": 195,
    "start_time": "2024-04-07T14:27:49.909Z"
   },
   {
    "duration": 172,
    "start_time": "2024-04-07T14:27:50.106Z"
   },
   {
    "duration": 155,
    "start_time": "2024-04-07T14:27:50.279Z"
   },
   {
    "duration": 142,
    "start_time": "2024-04-07T14:27:50.436Z"
   },
   {
    "duration": 170,
    "start_time": "2024-04-07T14:27:50.580Z"
   },
   {
    "duration": 166,
    "start_time": "2024-04-07T14:27:50.752Z"
   },
   {
    "duration": 153,
    "start_time": "2024-04-07T14:27:50.920Z"
   },
   {
    "duration": 30,
    "start_time": "2024-04-07T14:27:51.074Z"
   },
   {
    "duration": 27,
    "start_time": "2024-04-07T14:27:51.106Z"
   },
   {
    "duration": 193,
    "start_time": "2024-04-07T14:27:51.134Z"
   },
   {
    "duration": 10,
    "start_time": "2024-04-07T14:27:51.328Z"
   },
   {
    "duration": 173,
    "start_time": "2024-04-07T14:27:51.340Z"
   },
   {
    "duration": 623,
    "start_time": "2024-04-07T14:28:28.421Z"
   },
   {
    "duration": 100,
    "start_time": "2024-04-07T14:28:29.047Z"
   },
   {
    "duration": 40,
    "start_time": "2024-04-07T14:28:29.148Z"
   },
   {
    "duration": 21,
    "start_time": "2024-04-07T14:28:29.190Z"
   },
   {
    "duration": 1863,
    "start_time": "2024-04-07T14:28:29.213Z"
   },
   {
    "duration": 10,
    "start_time": "2024-04-07T14:28:31.078Z"
   },
   {
    "duration": 85,
    "start_time": "2024-04-07T14:28:31.089Z"
   },
   {
    "duration": 97,
    "start_time": "2024-04-07T14:28:31.175Z"
   },
   {
    "duration": 37,
    "start_time": "2024-04-07T14:28:31.274Z"
   },
   {
    "duration": 35,
    "start_time": "2024-04-07T14:28:31.314Z"
   },
   {
    "duration": 64,
    "start_time": "2024-04-07T14:28:31.351Z"
   },
   {
    "duration": 59,
    "start_time": "2024-04-07T14:28:31.417Z"
   },
   {
    "duration": 15,
    "start_time": "2024-04-07T14:28:31.478Z"
   },
   {
    "duration": 30,
    "start_time": "2024-04-07T14:28:31.495Z"
   },
   {
    "duration": 55,
    "start_time": "2024-04-07T14:28:31.526Z"
   },
   {
    "duration": 3,
    "start_time": "2024-04-07T14:28:31.583Z"
   },
   {
    "duration": 30,
    "start_time": "2024-04-07T14:28:31.587Z"
   },
   {
    "duration": 19,
    "start_time": "2024-04-07T14:28:31.618Z"
   },
   {
    "duration": 11,
    "start_time": "2024-04-07T14:28:31.638Z"
   },
   {
    "duration": 27,
    "start_time": "2024-04-07T14:28:31.650Z"
   },
   {
    "duration": 21,
    "start_time": "2024-04-07T14:28:31.678Z"
   },
   {
    "duration": 29,
    "start_time": "2024-04-07T14:28:31.701Z"
   },
   {
    "duration": 70,
    "start_time": "2024-04-07T14:28:31.732Z"
   },
   {
    "duration": 71,
    "start_time": "2024-04-07T14:28:31.804Z"
   },
   {
    "duration": 72,
    "start_time": "2024-04-07T14:28:31.877Z"
   },
   {
    "duration": 26,
    "start_time": "2024-04-07T14:28:31.951Z"
   },
   {
    "duration": 253,
    "start_time": "2024-04-07T14:28:31.979Z"
   },
   {
    "duration": 13,
    "start_time": "2024-04-07T14:28:32.236Z"
   },
   {
    "duration": 38,
    "start_time": "2024-04-07T14:28:32.251Z"
   },
   {
    "duration": 7,
    "start_time": "2024-04-07T14:28:32.291Z"
   },
   {
    "duration": 22,
    "start_time": "2024-04-07T14:28:32.299Z"
   },
   {
    "duration": 15,
    "start_time": "2024-04-07T14:28:32.323Z"
   },
   {
    "duration": 360,
    "start_time": "2024-04-07T14:28:32.339Z"
   },
   {
    "duration": 7,
    "start_time": "2024-04-07T14:28:32.700Z"
   },
   {
    "duration": 8,
    "start_time": "2024-04-07T14:28:32.708Z"
   },
   {
    "duration": 222,
    "start_time": "2024-04-07T14:28:32.718Z"
   },
   {
    "duration": 10,
    "start_time": "2024-04-07T14:28:32.941Z"
   },
   {
    "duration": 400,
    "start_time": "2024-04-07T14:28:32.953Z"
   },
   {
    "duration": 9,
    "start_time": "2024-04-07T14:28:33.355Z"
   },
   {
    "duration": 212,
    "start_time": "2024-04-07T14:28:33.366Z"
   },
   {
    "duration": 8,
    "start_time": "2024-04-07T14:28:33.582Z"
   },
   {
    "duration": 147,
    "start_time": "2024-04-07T14:28:33.591Z"
   },
   {
    "duration": 9,
    "start_time": "2024-04-07T14:28:33.739Z"
   },
   {
    "duration": 224,
    "start_time": "2024-04-07T14:28:33.749Z"
   },
   {
    "duration": 11,
    "start_time": "2024-04-07T14:28:33.975Z"
   },
   {
    "duration": 204,
    "start_time": "2024-04-07T14:28:33.987Z"
   },
   {
    "duration": 165,
    "start_time": "2024-04-07T14:28:34.193Z"
   },
   {
    "duration": 9,
    "start_time": "2024-04-07T14:28:34.359Z"
   },
   {
    "duration": 183,
    "start_time": "2024-04-07T14:28:34.381Z"
   },
   {
    "duration": 20,
    "start_time": "2024-04-07T14:28:34.566Z"
   },
   {
    "duration": 274,
    "start_time": "2024-04-07T14:28:34.588Z"
   },
   {
    "duration": 19,
    "start_time": "2024-04-07T14:28:34.863Z"
   },
   {
    "duration": 260,
    "start_time": "2024-04-07T14:28:34.884Z"
   },
   {
    "duration": 9,
    "start_time": "2024-04-07T14:28:35.145Z"
   },
   {
    "duration": 354,
    "start_time": "2024-04-07T14:28:35.155Z"
   },
   {
    "duration": 25,
    "start_time": "2024-04-07T14:28:35.511Z"
   },
   {
    "duration": 155,
    "start_time": "2024-04-07T14:28:35.537Z"
   },
   {
    "duration": 178,
    "start_time": "2024-04-07T14:28:35.693Z"
   },
   {
    "duration": 197,
    "start_time": "2024-04-07T14:28:35.873Z"
   },
   {
    "duration": 174,
    "start_time": "2024-04-07T14:28:36.072Z"
   },
   {
    "duration": 149,
    "start_time": "2024-04-07T14:28:36.248Z"
   },
   {
    "duration": 170,
    "start_time": "2024-04-07T14:28:36.399Z"
   },
   {
    "duration": 165,
    "start_time": "2024-04-07T14:28:36.571Z"
   },
   {
    "duration": 158,
    "start_time": "2024-04-07T14:28:36.738Z"
   },
   {
    "duration": 26,
    "start_time": "2024-04-07T14:28:36.897Z"
   },
   {
    "duration": 16,
    "start_time": "2024-04-07T14:28:36.924Z"
   },
   {
    "duration": 205,
    "start_time": "2024-04-07T14:28:36.941Z"
   },
   {
    "duration": 9,
    "start_time": "2024-04-07T14:28:37.148Z"
   },
   {
    "duration": 162,
    "start_time": "2024-04-07T14:28:37.159Z"
   },
   {
    "duration": 648,
    "start_time": "2024-04-07T14:28:48.299Z"
   },
   {
    "duration": 100,
    "start_time": "2024-04-07T14:28:48.949Z"
   },
   {
    "duration": 40,
    "start_time": "2024-04-07T14:28:49.051Z"
   },
   {
    "duration": 15,
    "start_time": "2024-04-07T14:28:49.094Z"
   },
   {
    "duration": 1850,
    "start_time": "2024-04-07T14:28:49.110Z"
   },
   {
    "duration": 9,
    "start_time": "2024-04-07T14:28:50.962Z"
   },
   {
    "duration": 17,
    "start_time": "2024-04-07T14:28:50.973Z"
   },
   {
    "duration": 9,
    "start_time": "2024-04-07T14:28:50.992Z"
   },
   {
    "duration": 11,
    "start_time": "2024-04-07T14:28:51.003Z"
   },
   {
    "duration": 5,
    "start_time": "2024-04-07T14:28:51.017Z"
   },
   {
    "duration": 8,
    "start_time": "2024-04-07T14:28:51.024Z"
   },
   {
    "duration": 61,
    "start_time": "2024-04-07T14:28:51.034Z"
   },
   {
    "duration": 11,
    "start_time": "2024-04-07T14:28:51.097Z"
   },
   {
    "duration": 27,
    "start_time": "2024-04-07T14:28:51.110Z"
   },
   {
    "duration": 56,
    "start_time": "2024-04-07T14:28:51.138Z"
   },
   {
    "duration": 3,
    "start_time": "2024-04-07T14:28:51.196Z"
   },
   {
    "duration": 18,
    "start_time": "2024-04-07T14:28:51.201Z"
   },
   {
    "duration": 9,
    "start_time": "2024-04-07T14:28:51.221Z"
   },
   {
    "duration": 4,
    "start_time": "2024-04-07T14:28:51.231Z"
   },
   {
    "duration": 9,
    "start_time": "2024-04-07T14:28:51.236Z"
   },
   {
    "duration": 15,
    "start_time": "2024-04-07T14:28:51.247Z"
   },
   {
    "duration": 8,
    "start_time": "2024-04-07T14:28:51.264Z"
   },
   {
    "duration": 4,
    "start_time": "2024-04-07T14:28:51.281Z"
   },
   {
    "duration": 19,
    "start_time": "2024-04-07T14:28:51.287Z"
   },
   {
    "duration": 26,
    "start_time": "2024-04-07T14:28:51.308Z"
   },
   {
    "duration": 18,
    "start_time": "2024-04-07T14:28:51.336Z"
   },
   {
    "duration": 231,
    "start_time": "2024-04-07T14:28:51.355Z"
   },
   {
    "duration": 14,
    "start_time": "2024-04-07T14:28:51.590Z"
   },
   {
    "duration": 25,
    "start_time": "2024-04-07T14:28:51.605Z"
   },
   {
    "duration": 7,
    "start_time": "2024-04-07T14:28:51.632Z"
   },
   {
    "duration": 6,
    "start_time": "2024-04-07T14:28:51.641Z"
   },
   {
    "duration": 34,
    "start_time": "2024-04-07T14:28:51.649Z"
   },
   {
    "duration": 367,
    "start_time": "2024-04-07T14:28:51.685Z"
   },
   {
    "duration": 6,
    "start_time": "2024-04-07T14:28:52.053Z"
   },
   {
    "duration": 22,
    "start_time": "2024-04-07T14:28:52.061Z"
   },
   {
    "duration": 210,
    "start_time": "2024-04-07T14:28:52.084Z"
   },
   {
    "duration": 9,
    "start_time": "2024-04-07T14:28:52.296Z"
   },
   {
    "duration": 344,
    "start_time": "2024-04-07T14:28:52.306Z"
   },
   {
    "duration": 8,
    "start_time": "2024-04-07T14:28:52.652Z"
   },
   {
    "duration": 202,
    "start_time": "2024-04-07T14:28:52.661Z"
   },
   {
    "duration": 17,
    "start_time": "2024-04-07T14:28:52.865Z"
   },
   {
    "duration": 145,
    "start_time": "2024-04-07T14:28:52.884Z"
   },
   {
    "duration": 10,
    "start_time": "2024-04-07T14:28:53.030Z"
   },
   {
    "duration": 227,
    "start_time": "2024-04-07T14:28:53.041Z"
   },
   {
    "duration": 19,
    "start_time": "2024-04-07T14:28:53.270Z"
   },
   {
    "duration": 215,
    "start_time": "2024-04-07T14:28:53.290Z"
   },
   {
    "duration": 175,
    "start_time": "2024-04-07T14:28:53.507Z"
   },
   {
    "duration": 9,
    "start_time": "2024-04-07T14:28:53.683Z"
   },
   {
    "duration": 178,
    "start_time": "2024-04-07T14:28:53.693Z"
   },
   {
    "duration": 16,
    "start_time": "2024-04-07T14:28:53.873Z"
   },
   {
    "duration": 265,
    "start_time": "2024-04-07T14:28:53.891Z"
   },
   {
    "duration": 9,
    "start_time": "2024-04-07T14:28:54.157Z"
   },
   {
    "duration": 272,
    "start_time": "2024-04-07T14:28:54.168Z"
   },
   {
    "duration": 9,
    "start_time": "2024-04-07T14:28:54.442Z"
   },
   {
    "duration": 348,
    "start_time": "2024-04-07T14:28:54.453Z"
   },
   {
    "duration": 26,
    "start_time": "2024-04-07T14:28:54.802Z"
   },
   {
    "duration": 162,
    "start_time": "2024-04-07T14:28:54.830Z"
   },
   {
    "duration": 174,
    "start_time": "2024-04-07T14:28:54.994Z"
   },
   {
    "duration": 186,
    "start_time": "2024-04-07T14:28:55.170Z"
   },
   {
    "duration": 153,
    "start_time": "2024-04-07T14:28:55.357Z"
   },
   {
    "duration": 145,
    "start_time": "2024-04-07T14:28:55.511Z"
   },
   {
    "duration": 168,
    "start_time": "2024-04-07T14:28:55.657Z"
   },
   {
    "duration": 177,
    "start_time": "2024-04-07T14:28:55.827Z"
   },
   {
    "duration": 144,
    "start_time": "2024-04-07T14:28:56.006Z"
   },
   {
    "duration": 40,
    "start_time": "2024-04-07T14:28:56.151Z"
   },
   {
    "duration": 14,
    "start_time": "2024-04-07T14:28:56.192Z"
   },
   {
    "duration": 205,
    "start_time": "2024-04-07T14:28:56.208Z"
   },
   {
    "duration": 9,
    "start_time": "2024-04-07T14:28:56.414Z"
   },
   {
    "duration": 171,
    "start_time": "2024-04-07T14:28:56.425Z"
   },
   {
    "duration": 601,
    "start_time": "2024-04-07T14:29:12.740Z"
   },
   {
    "duration": 101,
    "start_time": "2024-04-07T14:29:13.343Z"
   },
   {
    "duration": 34,
    "start_time": "2024-04-07T14:29:13.445Z"
   },
   {
    "duration": 14,
    "start_time": "2024-04-07T14:29:13.483Z"
   },
   {
    "duration": 1830,
    "start_time": "2024-04-07T14:29:13.498Z"
   },
   {
    "duration": 9,
    "start_time": "2024-04-07T14:29:15.330Z"
   },
   {
    "duration": 65,
    "start_time": "2024-04-07T14:29:15.341Z"
   },
   {
    "duration": 36,
    "start_time": "2024-04-07T14:29:15.408Z"
   },
   {
    "duration": 33,
    "start_time": "2024-04-07T14:29:15.445Z"
   },
   {
    "duration": 12,
    "start_time": "2024-04-07T14:29:15.481Z"
   },
   {
    "duration": 19,
    "start_time": "2024-04-07T14:29:15.495Z"
   },
   {
    "duration": 66,
    "start_time": "2024-04-07T14:29:15.515Z"
   },
   {
    "duration": 8,
    "start_time": "2024-04-07T14:29:15.583Z"
   },
   {
    "duration": 29,
    "start_time": "2024-04-07T14:29:15.592Z"
   },
   {
    "duration": 45,
    "start_time": "2024-04-07T14:29:15.622Z"
   },
   {
    "duration": 4,
    "start_time": "2024-04-07T14:29:15.668Z"
   },
   {
    "duration": 36,
    "start_time": "2024-04-07T14:29:15.673Z"
   },
   {
    "duration": 26,
    "start_time": "2024-04-07T14:29:15.710Z"
   },
   {
    "duration": 11,
    "start_time": "2024-04-07T14:29:15.737Z"
   },
   {
    "duration": 19,
    "start_time": "2024-04-07T14:29:15.749Z"
   },
   {
    "duration": 19,
    "start_time": "2024-04-07T14:29:15.769Z"
   },
   {
    "duration": 12,
    "start_time": "2024-04-07T14:29:15.790Z"
   },
   {
    "duration": 12,
    "start_time": "2024-04-07T14:29:15.804Z"
   },
   {
    "duration": 31,
    "start_time": "2024-04-07T14:29:15.817Z"
   },
   {
    "duration": 42,
    "start_time": "2024-04-07T14:29:15.850Z"
   },
   {
    "duration": 30,
    "start_time": "2024-04-07T14:29:15.894Z"
   },
   {
    "duration": 256,
    "start_time": "2024-04-07T14:29:15.926Z"
   },
   {
    "duration": 13,
    "start_time": "2024-04-07T14:29:16.186Z"
   },
   {
    "duration": 39,
    "start_time": "2024-04-07T14:29:16.201Z"
   },
   {
    "duration": 19,
    "start_time": "2024-04-07T14:29:16.242Z"
   },
   {
    "duration": 19,
    "start_time": "2024-04-07T14:29:16.263Z"
   },
   {
    "duration": 11,
    "start_time": "2024-04-07T14:29:16.284Z"
   },
   {
    "duration": 358,
    "start_time": "2024-04-07T14:29:16.296Z"
   },
   {
    "duration": 6,
    "start_time": "2024-04-07T14:29:16.655Z"
   },
   {
    "duration": 32,
    "start_time": "2024-04-07T14:29:16.663Z"
   },
   {
    "duration": 202,
    "start_time": "2024-04-07T14:29:16.696Z"
   },
   {
    "duration": 9,
    "start_time": "2024-04-07T14:29:16.899Z"
   },
   {
    "duration": 342,
    "start_time": "2024-04-07T14:29:16.909Z"
   },
   {
    "duration": 9,
    "start_time": "2024-04-07T14:29:17.252Z"
   },
   {
    "duration": 205,
    "start_time": "2024-04-07T14:29:17.262Z"
   },
   {
    "duration": 14,
    "start_time": "2024-04-07T14:29:17.468Z"
   },
   {
    "duration": 147,
    "start_time": "2024-04-07T14:29:17.484Z"
   },
   {
    "duration": 8,
    "start_time": "2024-04-07T14:29:17.632Z"
   },
   {
    "duration": 215,
    "start_time": "2024-04-07T14:29:17.642Z"
   },
   {
    "duration": 23,
    "start_time": "2024-04-07T14:29:17.859Z"
   },
   {
    "duration": 231,
    "start_time": "2024-04-07T14:29:17.884Z"
   },
   {
    "duration": 160,
    "start_time": "2024-04-07T14:29:18.116Z"
   },
   {
    "duration": 8,
    "start_time": "2024-04-07T14:29:18.281Z"
   },
   {
    "duration": 171,
    "start_time": "2024-04-07T14:29:18.290Z"
   },
   {
    "duration": 9,
    "start_time": "2024-04-07T14:29:18.462Z"
   },
   {
    "duration": 255,
    "start_time": "2024-04-07T14:29:18.482Z"
   },
   {
    "duration": 9,
    "start_time": "2024-04-07T14:29:18.738Z"
   },
   {
    "duration": 259,
    "start_time": "2024-04-07T14:29:18.749Z"
   },
   {
    "duration": 9,
    "start_time": "2024-04-07T14:29:19.010Z"
   },
   {
    "duration": 354,
    "start_time": "2024-04-07T14:29:19.020Z"
   },
   {
    "duration": 26,
    "start_time": "2024-04-07T14:29:19.381Z"
   },
   {
    "duration": 159,
    "start_time": "2024-04-07T14:29:19.409Z"
   },
   {
    "duration": 167,
    "start_time": "2024-04-07T14:29:19.569Z"
   },
   {
    "duration": 172,
    "start_time": "2024-04-07T14:29:19.738Z"
   },
   {
    "duration": 151,
    "start_time": "2024-04-07T14:29:19.911Z"
   },
   {
    "duration": 145,
    "start_time": "2024-04-07T14:29:20.064Z"
   },
   {
    "duration": 164,
    "start_time": "2024-04-07T14:29:20.210Z"
   },
   {
    "duration": 161,
    "start_time": "2024-04-07T14:29:20.382Z"
   },
   {
    "duration": 157,
    "start_time": "2024-04-07T14:29:20.545Z"
   },
   {
    "duration": 26,
    "start_time": "2024-04-07T14:29:20.703Z"
   },
   {
    "duration": 27,
    "start_time": "2024-04-07T14:29:20.730Z"
   },
   {
    "duration": 203,
    "start_time": "2024-04-07T14:29:20.758Z"
   },
   {
    "duration": 151,
    "start_time": "2024-04-07T14:29:20.963Z"
   },
   {
    "duration": 153,
    "start_time": "2024-04-07T14:29:42.370Z"
   },
   {
    "duration": 8,
    "start_time": "2024-04-07T14:30:07.873Z"
   },
   {
    "duration": 673,
    "start_time": "2024-04-07T14:30:19.557Z"
   },
   {
    "duration": 102,
    "start_time": "2024-04-07T14:30:20.232Z"
   },
   {
    "duration": 32,
    "start_time": "2024-04-07T14:30:20.335Z"
   },
   {
    "duration": 25,
    "start_time": "2024-04-07T14:30:20.368Z"
   },
   {
    "duration": 1822,
    "start_time": "2024-04-07T14:30:20.394Z"
   },
   {
    "duration": 9,
    "start_time": "2024-04-07T14:30:22.218Z"
   },
   {
    "duration": 22,
    "start_time": "2024-04-07T14:30:22.229Z"
   },
   {
    "duration": 9,
    "start_time": "2024-04-07T14:30:22.253Z"
   },
   {
    "duration": 10,
    "start_time": "2024-04-07T14:30:22.263Z"
   },
   {
    "duration": 7,
    "start_time": "2024-04-07T14:30:22.275Z"
   },
   {
    "duration": 10,
    "start_time": "2024-04-07T14:30:22.284Z"
   },
   {
    "duration": 48,
    "start_time": "2024-04-07T14:30:22.295Z"
   },
   {
    "duration": 8,
    "start_time": "2024-04-07T14:30:22.344Z"
   },
   {
    "duration": 8,
    "start_time": "2024-04-07T14:30:22.354Z"
   },
   {
    "duration": 43,
    "start_time": "2024-04-07T14:30:22.364Z"
   },
   {
    "duration": 4,
    "start_time": "2024-04-07T14:30:22.408Z"
   },
   {
    "duration": 14,
    "start_time": "2024-04-07T14:30:22.413Z"
   },
   {
    "duration": 4,
    "start_time": "2024-04-07T14:30:22.429Z"
   },
   {
    "duration": 7,
    "start_time": "2024-04-07T14:30:22.434Z"
   },
   {
    "duration": 4,
    "start_time": "2024-04-07T14:30:22.442Z"
   },
   {
    "duration": 10,
    "start_time": "2024-04-07T14:30:22.447Z"
   },
   {
    "duration": 28,
    "start_time": "2024-04-07T14:30:22.458Z"
   },
   {
    "duration": 9,
    "start_time": "2024-04-07T14:30:22.487Z"
   },
   {
    "duration": 17,
    "start_time": "2024-04-07T14:30:22.498Z"
   },
   {
    "duration": 35,
    "start_time": "2024-04-07T14:30:22.517Z"
   },
   {
    "duration": 31,
    "start_time": "2024-04-07T14:30:22.554Z"
   },
   {
    "duration": 239,
    "start_time": "2024-04-07T14:30:22.587Z"
   },
   {
    "duration": 14,
    "start_time": "2024-04-07T14:30:22.830Z"
   },
   {
    "duration": 37,
    "start_time": "2024-04-07T14:30:22.846Z"
   },
   {
    "duration": 8,
    "start_time": "2024-04-07T14:30:22.885Z"
   },
   {
    "duration": 8,
    "start_time": "2024-04-07T14:30:22.894Z"
   },
   {
    "duration": 8,
    "start_time": "2024-04-07T14:30:22.904Z"
   },
   {
    "duration": 393,
    "start_time": "2024-04-07T14:30:22.913Z"
   },
   {
    "duration": 6,
    "start_time": "2024-04-07T14:30:23.308Z"
   },
   {
    "duration": 13,
    "start_time": "2024-04-07T14:30:23.315Z"
   },
   {
    "duration": 200,
    "start_time": "2024-04-07T14:30:23.330Z"
   },
   {
    "duration": 8,
    "start_time": "2024-04-07T14:30:23.532Z"
   },
   {
    "duration": 340,
    "start_time": "2024-04-07T14:30:23.542Z"
   },
   {
    "duration": 9,
    "start_time": "2024-04-07T14:30:23.883Z"
   },
   {
    "duration": 206,
    "start_time": "2024-04-07T14:30:23.893Z"
   },
   {
    "duration": 7,
    "start_time": "2024-04-07T14:30:24.101Z"
   },
   {
    "duration": 155,
    "start_time": "2024-04-07T14:30:24.110Z"
   },
   {
    "duration": 17,
    "start_time": "2024-04-07T14:30:24.266Z"
   },
   {
    "duration": 220,
    "start_time": "2024-04-07T14:30:24.284Z"
   },
   {
    "duration": 9,
    "start_time": "2024-04-07T14:30:24.505Z"
   },
   {
    "duration": 210,
    "start_time": "2024-04-07T14:30:24.515Z"
   },
   {
    "duration": 170,
    "start_time": "2024-04-07T14:30:24.726Z"
   },
   {
    "duration": 9,
    "start_time": "2024-04-07T14:30:24.897Z"
   },
   {
    "duration": 179,
    "start_time": "2024-04-07T14:30:24.907Z"
   },
   {
    "duration": 8,
    "start_time": "2024-04-07T14:30:25.088Z"
   },
   {
    "duration": 266,
    "start_time": "2024-04-07T14:30:25.098Z"
   },
   {
    "duration": 9,
    "start_time": "2024-04-07T14:30:25.365Z"
   },
   {
    "duration": 269,
    "start_time": "2024-04-07T14:30:25.381Z"
   },
   {
    "duration": 9,
    "start_time": "2024-04-07T14:30:25.651Z"
   },
   {
    "duration": 351,
    "start_time": "2024-04-07T14:30:25.662Z"
   },
   {
    "duration": 24,
    "start_time": "2024-04-07T14:30:26.015Z"
   },
   {
    "duration": 152,
    "start_time": "2024-04-07T14:30:26.041Z"
   },
   {
    "duration": 166,
    "start_time": "2024-04-07T14:30:26.195Z"
   },
   {
    "duration": 171,
    "start_time": "2024-04-07T14:30:26.362Z"
   },
   {
    "duration": 149,
    "start_time": "2024-04-07T14:30:26.535Z"
   },
   {
    "duration": 147,
    "start_time": "2024-04-07T14:30:26.686Z"
   },
   {
    "duration": 167,
    "start_time": "2024-04-07T14:30:26.834Z"
   },
   {
    "duration": 161,
    "start_time": "2024-04-07T14:30:27.003Z"
   },
   {
    "duration": 160,
    "start_time": "2024-04-07T14:30:27.166Z"
   },
   {
    "duration": 26,
    "start_time": "2024-04-07T14:30:27.328Z"
   },
   {
    "duration": 29,
    "start_time": "2024-04-07T14:30:27.355Z"
   },
   {
    "duration": 197,
    "start_time": "2024-04-07T14:30:27.385Z"
   },
   {
    "duration": 9,
    "start_time": "2024-04-07T14:30:27.583Z"
   },
   {
    "duration": 154,
    "start_time": "2024-04-07T14:30:27.594Z"
   },
   {
    "duration": 595,
    "start_time": "2024-04-07T14:30:53.640Z"
   },
   {
    "duration": 101,
    "start_time": "2024-04-07T14:30:54.237Z"
   },
   {
    "duration": 40,
    "start_time": "2024-04-07T14:30:54.339Z"
   },
   {
    "duration": 15,
    "start_time": "2024-04-07T14:30:54.382Z"
   },
   {
    "duration": 1822,
    "start_time": "2024-04-07T14:30:54.398Z"
   },
   {
    "duration": 9,
    "start_time": "2024-04-07T14:30:56.222Z"
   },
   {
    "duration": 15,
    "start_time": "2024-04-07T14:30:56.232Z"
   },
   {
    "duration": 11,
    "start_time": "2024-04-07T14:30:56.248Z"
   },
   {
    "duration": 10,
    "start_time": "2024-04-07T14:30:56.260Z"
   },
   {
    "duration": 11,
    "start_time": "2024-04-07T14:30:56.273Z"
   },
   {
    "duration": 6,
    "start_time": "2024-04-07T14:30:56.286Z"
   },
   {
    "duration": 40,
    "start_time": "2024-04-07T14:30:56.293Z"
   },
   {
    "duration": 10,
    "start_time": "2024-04-07T14:30:56.334Z"
   },
   {
    "duration": 38,
    "start_time": "2024-04-07T14:30:56.345Z"
   },
   {
    "duration": 32,
    "start_time": "2024-04-07T14:30:56.384Z"
   },
   {
    "duration": 4,
    "start_time": "2024-04-07T14:30:56.417Z"
   },
   {
    "duration": 17,
    "start_time": "2024-04-07T14:30:56.422Z"
   },
   {
    "duration": 4,
    "start_time": "2024-04-07T14:30:56.440Z"
   },
   {
    "duration": 4,
    "start_time": "2024-04-07T14:30:56.445Z"
   },
   {
    "duration": 5,
    "start_time": "2024-04-07T14:30:56.450Z"
   },
   {
    "duration": 31,
    "start_time": "2024-04-07T14:30:56.456Z"
   },
   {
    "duration": 7,
    "start_time": "2024-04-07T14:30:56.488Z"
   },
   {
    "duration": 3,
    "start_time": "2024-04-07T14:30:56.497Z"
   },
   {
    "duration": 4,
    "start_time": "2024-04-07T14:30:56.502Z"
   },
   {
    "duration": 21,
    "start_time": "2024-04-07T14:30:56.507Z"
   },
   {
    "duration": 19,
    "start_time": "2024-04-07T14:30:56.529Z"
   },
   {
    "duration": 251,
    "start_time": "2024-04-07T14:30:56.549Z"
   },
   {
    "duration": 14,
    "start_time": "2024-04-07T14:30:56.804Z"
   },
   {
    "duration": 37,
    "start_time": "2024-04-07T14:30:56.819Z"
   },
   {
    "duration": 7,
    "start_time": "2024-04-07T14:30:56.857Z"
   },
   {
    "duration": 21,
    "start_time": "2024-04-07T14:30:56.866Z"
   },
   {
    "duration": 7,
    "start_time": "2024-04-07T14:30:56.888Z"
   },
   {
    "duration": 357,
    "start_time": "2024-04-07T14:30:56.896Z"
   },
   {
    "duration": 7,
    "start_time": "2024-04-07T14:30:57.254Z"
   },
   {
    "duration": 24,
    "start_time": "2024-04-07T14:30:57.262Z"
   },
   {
    "duration": 208,
    "start_time": "2024-04-07T14:30:57.287Z"
   },
   {
    "duration": 9,
    "start_time": "2024-04-07T14:30:57.497Z"
   },
   {
    "duration": 359,
    "start_time": "2024-04-07T14:30:57.508Z"
   },
   {
    "duration": 15,
    "start_time": "2024-04-07T14:30:57.868Z"
   },
   {
    "duration": 208,
    "start_time": "2024-04-07T14:30:57.885Z"
   },
   {
    "duration": 8,
    "start_time": "2024-04-07T14:30:58.094Z"
   },
   {
    "duration": 157,
    "start_time": "2024-04-07T14:30:58.104Z"
   },
   {
    "duration": 7,
    "start_time": "2024-04-07T14:30:58.263Z"
   },
   {
    "duration": 215,
    "start_time": "2024-04-07T14:30:58.272Z"
   },
   {
    "duration": 8,
    "start_time": "2024-04-07T14:30:58.488Z"
   },
   {
    "duration": 218,
    "start_time": "2024-04-07T14:30:58.498Z"
   },
   {
    "duration": 178,
    "start_time": "2024-04-07T14:30:58.718Z"
   },
   {
    "duration": 9,
    "start_time": "2024-04-07T14:30:58.897Z"
   },
   {
    "duration": 191,
    "start_time": "2024-04-07T14:30:58.907Z"
   },
   {
    "duration": 10,
    "start_time": "2024-04-07T14:30:59.099Z"
   },
   {
    "duration": 257,
    "start_time": "2024-04-07T14:30:59.110Z"
   },
   {
    "duration": 17,
    "start_time": "2024-04-07T14:30:59.368Z"
   },
   {
    "duration": 262,
    "start_time": "2024-04-07T14:30:59.386Z"
   },
   {
    "duration": 10,
    "start_time": "2024-04-07T14:30:59.650Z"
   },
   {
    "duration": 348,
    "start_time": "2024-04-07T14:30:59.662Z"
   },
   {
    "duration": 27,
    "start_time": "2024-04-07T14:31:00.012Z"
   },
   {
    "duration": 159,
    "start_time": "2024-04-07T14:31:00.041Z"
   },
   {
    "duration": 192,
    "start_time": "2024-04-07T14:31:00.202Z"
   },
   {
    "duration": 170,
    "start_time": "2024-04-07T14:31:00.396Z"
   },
   {
    "duration": 150,
    "start_time": "2024-04-07T14:31:00.568Z"
   },
   {
    "duration": 150,
    "start_time": "2024-04-07T14:31:00.720Z"
   },
   {
    "duration": 182,
    "start_time": "2024-04-07T14:31:00.872Z"
   },
   {
    "duration": 168,
    "start_time": "2024-04-07T14:31:01.055Z"
   },
   {
    "duration": 157,
    "start_time": "2024-04-07T14:31:01.225Z"
   },
   {
    "duration": 27,
    "start_time": "2024-04-07T14:31:01.383Z"
   },
   {
    "duration": 106,
    "start_time": "2024-04-07T14:31:01.411Z"
   },
   {
    "duration": 235,
    "start_time": "2024-04-07T14:31:01.519Z"
   },
   {
    "duration": 9,
    "start_time": "2024-04-07T14:31:01.756Z"
   },
   {
    "duration": 182,
    "start_time": "2024-04-07T14:31:01.766Z"
   },
   {
    "duration": 618,
    "start_time": "2024-04-07T14:34:20.145Z"
   },
   {
    "duration": 102,
    "start_time": "2024-04-07T14:34:20.764Z"
   },
   {
    "duration": 33,
    "start_time": "2024-04-07T14:34:20.868Z"
   },
   {
    "duration": 15,
    "start_time": "2024-04-07T14:34:20.903Z"
   },
   {
    "duration": 1856,
    "start_time": "2024-04-07T14:34:20.920Z"
   },
   {
    "duration": 9,
    "start_time": "2024-04-07T14:34:22.778Z"
   },
   {
    "duration": 21,
    "start_time": "2024-04-07T14:34:22.788Z"
   },
   {
    "duration": 10,
    "start_time": "2024-04-07T14:34:22.811Z"
   },
   {
    "duration": 10,
    "start_time": "2024-04-07T14:34:22.822Z"
   },
   {
    "duration": 5,
    "start_time": "2024-04-07T14:34:22.834Z"
   },
   {
    "duration": 8,
    "start_time": "2024-04-07T14:34:22.840Z"
   },
   {
    "duration": 62,
    "start_time": "2024-04-07T14:34:22.849Z"
   },
   {
    "duration": 10,
    "start_time": "2024-04-07T14:34:22.912Z"
   },
   {
    "duration": 9,
    "start_time": "2024-04-07T14:34:22.923Z"
   },
   {
    "duration": 67,
    "start_time": "2024-04-07T14:34:22.934Z"
   },
   {
    "duration": 3,
    "start_time": "2024-04-07T14:34:23.003Z"
   },
   {
    "duration": 37,
    "start_time": "2024-04-07T14:34:23.008Z"
   },
   {
    "duration": 15,
    "start_time": "2024-04-07T14:34:23.046Z"
   },
   {
    "duration": 6,
    "start_time": "2024-04-07T14:34:23.063Z"
   },
   {
    "duration": 8,
    "start_time": "2024-04-07T14:34:23.070Z"
   },
   {
    "duration": 9,
    "start_time": "2024-04-07T14:34:23.079Z"
   },
   {
    "duration": 8,
    "start_time": "2024-04-07T14:34:23.089Z"
   },
   {
    "duration": 4,
    "start_time": "2024-04-07T14:34:23.098Z"
   },
   {
    "duration": 5,
    "start_time": "2024-04-07T14:34:23.104Z"
   },
   {
    "duration": 39,
    "start_time": "2024-04-07T14:34:23.110Z"
   },
   {
    "duration": 19,
    "start_time": "2024-04-07T14:34:23.150Z"
   },
   {
    "duration": 237,
    "start_time": "2024-04-07T14:34:23.181Z"
   },
   {
    "duration": 14,
    "start_time": "2024-04-07T14:34:23.424Z"
   },
   {
    "duration": 44,
    "start_time": "2024-04-07T14:34:23.440Z"
   },
   {
    "duration": 9,
    "start_time": "2024-04-07T14:34:23.486Z"
   },
   {
    "duration": 8,
    "start_time": "2024-04-07T14:34:23.497Z"
   },
   {
    "duration": 8,
    "start_time": "2024-04-07T14:34:23.507Z"
   },
   {
    "duration": 387,
    "start_time": "2024-04-07T14:34:23.517Z"
   },
   {
    "duration": 8,
    "start_time": "2024-04-07T14:34:23.906Z"
   },
   {
    "duration": 32,
    "start_time": "2024-04-07T14:34:23.915Z"
   },
   {
    "duration": 8,
    "start_time": "2024-04-07T14:34:23.949Z"
   },
   {
    "duration": 207,
    "start_time": "2024-04-07T14:34:23.959Z"
   },
   {
    "duration": 20,
    "start_time": "2024-04-07T14:34:24.167Z"
   },
   {
    "duration": 358,
    "start_time": "2024-04-07T14:34:24.188Z"
   },
   {
    "duration": 9,
    "start_time": "2024-04-07T14:34:24.548Z"
   },
   {
    "duration": 224,
    "start_time": "2024-04-07T14:34:24.559Z"
   },
   {
    "duration": 8,
    "start_time": "2024-04-07T14:34:24.784Z"
   },
   {
    "duration": 151,
    "start_time": "2024-04-07T14:34:24.794Z"
   },
   {
    "duration": 8,
    "start_time": "2024-04-07T14:34:24.946Z"
   },
   {
    "duration": 195,
    "start_time": "2024-04-07T14:34:24.956Z"
   },
   {
    "duration": 9,
    "start_time": "2024-04-07T14:34:25.153Z"
   },
   {
    "duration": 202,
    "start_time": "2024-04-07T14:34:25.163Z"
   },
   {
    "duration": 162,
    "start_time": "2024-04-07T14:34:25.367Z"
   },
   {
    "duration": 9,
    "start_time": "2024-04-07T14:34:25.531Z"
   },
   {
    "duration": 182,
    "start_time": "2024-04-07T14:34:25.542Z"
   },
   {
    "duration": 8,
    "start_time": "2024-04-07T14:34:25.726Z"
   },
   {
    "duration": 258,
    "start_time": "2024-04-07T14:34:25.736Z"
   },
   {
    "duration": 9,
    "start_time": "2024-04-07T14:34:25.996Z"
   },
   {
    "duration": 355,
    "start_time": "2024-04-07T14:34:26.006Z"
   },
   {
    "duration": 9,
    "start_time": "2024-04-07T14:34:26.363Z"
   },
   {
    "duration": 260,
    "start_time": "2024-04-07T14:34:26.382Z"
   },
   {
    "duration": 24,
    "start_time": "2024-04-07T14:34:26.644Z"
   },
   {
    "duration": 139,
    "start_time": "2024-04-07T14:34:26.681Z"
   },
   {
    "duration": 173,
    "start_time": "2024-04-07T14:34:26.821Z"
   },
   {
    "duration": 169,
    "start_time": "2024-04-07T14:34:26.995Z"
   },
   {
    "duration": 154,
    "start_time": "2024-04-07T14:34:27.165Z"
   },
   {
    "duration": 161,
    "start_time": "2024-04-07T14:34:27.321Z"
   },
   {
    "duration": 173,
    "start_time": "2024-04-07T14:34:27.484Z"
   },
   {
    "duration": 152,
    "start_time": "2024-04-07T14:34:27.659Z"
   },
   {
    "duration": 169,
    "start_time": "2024-04-07T14:34:27.813Z"
   },
   {
    "duration": 25,
    "start_time": "2024-04-07T14:34:27.984Z"
   },
   {
    "duration": 15,
    "start_time": "2024-04-07T14:34:28.011Z"
   },
   {
    "duration": 291,
    "start_time": "2024-04-07T14:34:28.028Z"
   },
   {
    "duration": 85,
    "start_time": "2024-04-07T14:34:28.320Z"
   },
   {
    "duration": 133,
    "start_time": "2024-04-07T14:34:50.011Z"
   },
   {
    "duration": 168,
    "start_time": "2024-04-07T14:35:00.921Z"
   },
   {
    "duration": 162,
    "start_time": "2024-04-07T14:35:08.640Z"
   },
   {
    "duration": 150,
    "start_time": "2024-04-07T14:35:15.849Z"
   },
   {
    "duration": 166,
    "start_time": "2024-04-07T14:35:23.980Z"
   },
   {
    "duration": 343,
    "start_time": "2024-04-07T14:36:29.055Z"
   },
   {
    "duration": 181,
    "start_time": "2024-04-07T14:37:04.333Z"
   },
   {
    "duration": 44,
    "start_time": "2024-04-07T14:38:05.267Z"
   },
   {
    "duration": 185,
    "start_time": "2024-04-07T14:38:57.137Z"
   },
   {
    "duration": 651,
    "start_time": "2024-04-07T14:39:33.482Z"
   },
   {
    "duration": 102,
    "start_time": "2024-04-07T14:39:34.135Z"
   },
   {
    "duration": 32,
    "start_time": "2024-04-07T14:39:34.238Z"
   },
   {
    "duration": 20,
    "start_time": "2024-04-07T14:39:34.273Z"
   },
   {
    "duration": 1865,
    "start_time": "2024-04-07T14:39:34.295Z"
   },
   {
    "duration": 10,
    "start_time": "2024-04-07T14:39:36.162Z"
   },
   {
    "duration": 23,
    "start_time": "2024-04-07T14:39:36.173Z"
   },
   {
    "duration": 9,
    "start_time": "2024-04-07T14:39:36.197Z"
   },
   {
    "duration": 9,
    "start_time": "2024-04-07T14:39:36.208Z"
   },
   {
    "duration": 5,
    "start_time": "2024-04-07T14:39:36.219Z"
   },
   {
    "duration": 7,
    "start_time": "2024-04-07T14:39:36.226Z"
   },
   {
    "duration": 57,
    "start_time": "2024-04-07T14:39:36.234Z"
   },
   {
    "duration": 9,
    "start_time": "2024-04-07T14:39:36.292Z"
   },
   {
    "duration": 8,
    "start_time": "2024-04-07T14:39:36.302Z"
   },
   {
    "duration": 33,
    "start_time": "2024-04-07T14:39:36.311Z"
   },
   {
    "duration": 3,
    "start_time": "2024-04-07T14:39:36.346Z"
   },
   {
    "duration": 35,
    "start_time": "2024-04-07T14:39:36.350Z"
   },
   {
    "duration": 3,
    "start_time": "2024-04-07T14:39:36.387Z"
   },
   {
    "duration": 14,
    "start_time": "2024-04-07T14:39:36.391Z"
   },
   {
    "duration": 4,
    "start_time": "2024-04-07T14:39:36.407Z"
   },
   {
    "duration": 8,
    "start_time": "2024-04-07T14:39:36.413Z"
   },
   {
    "duration": 7,
    "start_time": "2024-04-07T14:39:36.423Z"
   },
   {
    "duration": 6,
    "start_time": "2024-04-07T14:39:36.432Z"
   },
   {
    "duration": 4,
    "start_time": "2024-04-07T14:39:36.439Z"
   },
   {
    "duration": 51,
    "start_time": "2024-04-07T14:39:36.444Z"
   },
   {
    "duration": 20,
    "start_time": "2024-04-07T14:39:36.496Z"
   },
   {
    "duration": 226,
    "start_time": "2024-04-07T14:39:36.517Z"
   },
   {
    "duration": 12,
    "start_time": "2024-04-07T14:39:36.747Z"
   },
   {
    "duration": 39,
    "start_time": "2024-04-07T14:39:36.760Z"
   },
   {
    "duration": 7,
    "start_time": "2024-04-07T14:39:36.800Z"
   },
   {
    "duration": 7,
    "start_time": "2024-04-07T14:39:36.809Z"
   },
   {
    "duration": 7,
    "start_time": "2024-04-07T14:39:36.817Z"
   },
   {
    "duration": 363,
    "start_time": "2024-04-07T14:39:36.826Z"
   },
   {
    "duration": 7,
    "start_time": "2024-04-07T14:39:37.190Z"
   },
   {
    "duration": 118,
    "start_time": "2024-04-07T14:39:37.198Z"
   },
   {
    "duration": 9,
    "start_time": "2024-04-07T14:39:37.318Z"
   },
   {
    "duration": 292,
    "start_time": "2024-04-07T14:39:37.329Z"
   },
   {
    "duration": 9,
    "start_time": "2024-04-07T14:39:37.622Z"
   },
   {
    "duration": 268,
    "start_time": "2024-04-07T14:39:37.633Z"
   },
   {
    "duration": 8,
    "start_time": "2024-04-07T14:39:37.903Z"
   },
   {
    "duration": 215,
    "start_time": "2024-04-07T14:39:37.913Z"
   },
   {
    "duration": 8,
    "start_time": "2024-04-07T14:39:38.130Z"
   },
   {
    "duration": 161,
    "start_time": "2024-04-07T14:39:38.139Z"
   },
   {
    "duration": 10,
    "start_time": "2024-04-07T14:39:38.301Z"
   },
   {
    "duration": 230,
    "start_time": "2024-04-07T14:39:38.313Z"
   },
   {
    "duration": 9,
    "start_time": "2024-04-07T14:39:38.544Z"
   },
   {
    "duration": 227,
    "start_time": "2024-04-07T14:39:38.555Z"
   },
   {
    "duration": 171,
    "start_time": "2024-04-07T14:39:38.784Z"
   },
   {
    "duration": 9,
    "start_time": "2024-04-07T14:39:38.956Z"
   },
   {
    "duration": 187,
    "start_time": "2024-04-07T14:39:38.966Z"
   },
   {
    "duration": 9,
    "start_time": "2024-04-07T14:39:39.154Z"
   },
   {
    "duration": 256,
    "start_time": "2024-04-07T14:39:39.164Z"
   },
   {
    "duration": 9,
    "start_time": "2024-04-07T14:39:39.422Z"
   },
   {
    "duration": 346,
    "start_time": "2024-04-07T14:39:39.432Z"
   },
   {
    "duration": 8,
    "start_time": "2024-04-07T14:39:39.780Z"
   },
   {
    "duration": 266,
    "start_time": "2024-04-07T14:39:39.790Z"
   },
   {
    "duration": 30,
    "start_time": "2024-04-07T14:39:40.057Z"
   },
   {
    "duration": 81,
    "start_time": "2024-04-07T14:39:40.088Z"
   },
   {
    "duration": 0,
    "start_time": "2024-04-07T14:39:40.170Z"
   },
   {
    "duration": 0,
    "start_time": "2024-04-07T14:39:40.182Z"
   },
   {
    "duration": 0,
    "start_time": "2024-04-07T14:39:40.184Z"
   },
   {
    "duration": 0,
    "start_time": "2024-04-07T14:39:40.185Z"
   },
   {
    "duration": 0,
    "start_time": "2024-04-07T14:39:40.186Z"
   },
   {
    "duration": 0,
    "start_time": "2024-04-07T14:39:40.187Z"
   },
   {
    "duration": 0,
    "start_time": "2024-04-07T14:39:40.188Z"
   },
   {
    "duration": 0,
    "start_time": "2024-04-07T14:39:40.189Z"
   },
   {
    "duration": 0,
    "start_time": "2024-04-07T14:39:40.190Z"
   },
   {
    "duration": 0,
    "start_time": "2024-04-07T14:39:40.191Z"
   },
   {
    "duration": 0,
    "start_time": "2024-04-07T14:39:40.192Z"
   },
   {
    "duration": 706,
    "start_time": "2024-04-07T14:40:46.153Z"
   },
   {
    "duration": 102,
    "start_time": "2024-04-07T14:40:46.861Z"
   },
   {
    "duration": 36,
    "start_time": "2024-04-07T14:40:46.964Z"
   },
   {
    "duration": 14,
    "start_time": "2024-04-07T14:40:47.002Z"
   },
   {
    "duration": 1823,
    "start_time": "2024-04-07T14:40:47.017Z"
   },
   {
    "duration": 9,
    "start_time": "2024-04-07T14:40:48.842Z"
   },
   {
    "duration": 14,
    "start_time": "2024-04-07T14:40:48.853Z"
   },
   {
    "duration": 15,
    "start_time": "2024-04-07T14:40:48.869Z"
   },
   {
    "duration": 10,
    "start_time": "2024-04-07T14:40:48.885Z"
   },
   {
    "duration": 4,
    "start_time": "2024-04-07T14:40:48.898Z"
   },
   {
    "duration": 7,
    "start_time": "2024-04-07T14:40:48.904Z"
   },
   {
    "duration": 35,
    "start_time": "2024-04-07T14:40:48.912Z"
   },
   {
    "duration": 36,
    "start_time": "2024-04-07T14:40:48.949Z"
   },
   {
    "duration": 10,
    "start_time": "2024-04-07T14:40:48.987Z"
   },
   {
    "duration": 46,
    "start_time": "2024-04-07T14:40:48.999Z"
   },
   {
    "duration": 3,
    "start_time": "2024-04-07T14:40:49.047Z"
   },
   {
    "duration": 16,
    "start_time": "2024-04-07T14:40:49.052Z"
   },
   {
    "duration": 12,
    "start_time": "2024-04-07T14:40:49.070Z"
   },
   {
    "duration": 6,
    "start_time": "2024-04-07T14:40:49.083Z"
   },
   {
    "duration": 5,
    "start_time": "2024-04-07T14:40:49.091Z"
   },
   {
    "duration": 17,
    "start_time": "2024-04-07T14:40:49.098Z"
   },
   {
    "duration": 21,
    "start_time": "2024-04-07T14:40:49.117Z"
   },
   {
    "duration": 4,
    "start_time": "2024-04-07T14:40:49.140Z"
   },
   {
    "duration": 3,
    "start_time": "2024-04-07T14:40:49.145Z"
   },
   {
    "duration": 22,
    "start_time": "2024-04-07T14:40:49.150Z"
   },
   {
    "duration": 27,
    "start_time": "2024-04-07T14:40:49.182Z"
   },
   {
    "duration": 267,
    "start_time": "2024-04-07T14:40:49.211Z"
   },
   {
    "duration": 13,
    "start_time": "2024-04-07T14:40:49.481Z"
   },
   {
    "duration": 24,
    "start_time": "2024-04-07T14:40:49.496Z"
   },
   {
    "duration": 8,
    "start_time": "2024-04-07T14:40:49.521Z"
   },
   {
    "duration": 7,
    "start_time": "2024-04-07T14:40:49.530Z"
   },
   {
    "duration": 44,
    "start_time": "2024-04-07T14:40:49.539Z"
   },
   {
    "duration": 368,
    "start_time": "2024-04-07T14:40:49.585Z"
   },
   {
    "duration": 6,
    "start_time": "2024-04-07T14:40:49.955Z"
   },
   {
    "duration": 120,
    "start_time": "2024-04-07T14:40:49.962Z"
   },
   {
    "duration": 8,
    "start_time": "2024-04-07T14:40:50.084Z"
   },
   {
    "duration": 260,
    "start_time": "2024-04-07T14:40:50.094Z"
   },
   {
    "duration": 8,
    "start_time": "2024-04-07T14:40:50.356Z"
   },
   {
    "duration": 254,
    "start_time": "2024-04-07T14:40:50.365Z"
   },
   {
    "duration": 8,
    "start_time": "2024-04-07T14:40:50.620Z"
   },
   {
    "duration": 214,
    "start_time": "2024-04-07T14:40:50.630Z"
   },
   {
    "duration": 8,
    "start_time": "2024-04-07T14:40:50.846Z"
   },
   {
    "duration": 174,
    "start_time": "2024-04-07T14:40:50.856Z"
   },
   {
    "duration": 10,
    "start_time": "2024-04-07T14:40:51.032Z"
   },
   {
    "duration": 224,
    "start_time": "2024-04-07T14:40:51.043Z"
   },
   {
    "duration": 15,
    "start_time": "2024-04-07T14:40:51.268Z"
   },
   {
    "duration": 215,
    "start_time": "2024-04-07T14:40:51.284Z"
   },
   {
    "duration": 171,
    "start_time": "2024-04-07T14:40:51.501Z"
   },
   {
    "duration": 15,
    "start_time": "2024-04-07T14:40:51.673Z"
   },
   {
    "duration": 178,
    "start_time": "2024-04-07T14:40:51.689Z"
   },
   {
    "duration": 17,
    "start_time": "2024-04-07T14:40:51.869Z"
   },
   {
    "duration": 282,
    "start_time": "2024-04-07T14:40:51.887Z"
   },
   {
    "duration": 18,
    "start_time": "2024-04-07T14:40:52.170Z"
   },
   {
    "duration": 387,
    "start_time": "2024-04-07T14:40:52.190Z"
   },
   {
    "duration": 10,
    "start_time": "2024-04-07T14:40:52.579Z"
   },
   {
    "duration": 255,
    "start_time": "2024-04-07T14:40:52.590Z"
   },
   {
    "duration": 23,
    "start_time": "2024-04-07T14:40:52.847Z"
   },
   {
    "duration": 79,
    "start_time": "2024-04-07T14:40:52.882Z"
   },
   {
    "duration": 0,
    "start_time": "2024-04-07T14:40:52.963Z"
   },
   {
    "duration": 0,
    "start_time": "2024-04-07T14:40:52.964Z"
   },
   {
    "duration": 0,
    "start_time": "2024-04-07T14:40:52.966Z"
   },
   {
    "duration": 0,
    "start_time": "2024-04-07T14:40:52.967Z"
   },
   {
    "duration": 0,
    "start_time": "2024-04-07T14:40:52.982Z"
   },
   {
    "duration": 0,
    "start_time": "2024-04-07T14:40:52.983Z"
   },
   {
    "duration": 0,
    "start_time": "2024-04-07T14:40:52.984Z"
   },
   {
    "duration": 0,
    "start_time": "2024-04-07T14:40:52.985Z"
   },
   {
    "duration": 0,
    "start_time": "2024-04-07T14:40:52.986Z"
   },
   {
    "duration": 0,
    "start_time": "2024-04-07T14:40:52.987Z"
   },
   {
    "duration": 0,
    "start_time": "2024-04-07T14:40:52.988Z"
   },
   {
    "duration": 183,
    "start_time": "2024-04-07T14:41:10.412Z"
   },
   {
    "duration": 16,
    "start_time": "2024-04-07T14:41:26.216Z"
   },
   {
    "duration": 85,
    "start_time": "2024-04-07T14:41:35.183Z"
   },
   {
    "duration": 28,
    "start_time": "2024-04-07T14:41:45.455Z"
   },
   {
    "duration": 664,
    "start_time": "2024-04-07T14:41:48.986Z"
   },
   {
    "duration": 102,
    "start_time": "2024-04-07T14:41:49.652Z"
   },
   {
    "duration": 35,
    "start_time": "2024-04-07T14:41:49.756Z"
   },
   {
    "duration": 15,
    "start_time": "2024-04-07T14:41:49.793Z"
   },
   {
    "duration": 1854,
    "start_time": "2024-04-07T14:41:49.810Z"
   },
   {
    "duration": 10,
    "start_time": "2024-04-07T14:41:51.666Z"
   },
   {
    "duration": 20,
    "start_time": "2024-04-07T14:41:51.677Z"
   },
   {
    "duration": 9,
    "start_time": "2024-04-07T14:41:51.698Z"
   },
   {
    "duration": 25,
    "start_time": "2024-04-07T14:41:51.709Z"
   },
   {
    "duration": 5,
    "start_time": "2024-04-07T14:41:51.737Z"
   },
   {
    "duration": 6,
    "start_time": "2024-04-07T14:41:51.743Z"
   },
   {
    "duration": 45,
    "start_time": "2024-04-07T14:41:51.750Z"
   },
   {
    "duration": 9,
    "start_time": "2024-04-07T14:41:51.796Z"
   },
   {
    "duration": 18,
    "start_time": "2024-04-07T14:41:51.807Z"
   },
   {
    "duration": 35,
    "start_time": "2024-04-07T14:41:51.826Z"
   },
   {
    "duration": 20,
    "start_time": "2024-04-07T14:41:51.863Z"
   },
   {
    "duration": 14,
    "start_time": "2024-04-07T14:41:51.885Z"
   },
   {
    "duration": 4,
    "start_time": "2024-04-07T14:41:51.901Z"
   },
   {
    "duration": 7,
    "start_time": "2024-04-07T14:41:51.907Z"
   },
   {
    "duration": 13,
    "start_time": "2024-04-07T14:41:51.915Z"
   },
   {
    "duration": 9,
    "start_time": "2024-04-07T14:41:51.930Z"
   },
   {
    "duration": 7,
    "start_time": "2024-04-07T14:41:51.940Z"
   },
   {
    "duration": 6,
    "start_time": "2024-04-07T14:41:51.948Z"
   },
   {
    "duration": 4,
    "start_time": "2024-04-07T14:41:51.955Z"
   },
   {
    "duration": 41,
    "start_time": "2024-04-07T14:41:51.960Z"
   },
   {
    "duration": 18,
    "start_time": "2024-04-07T14:41:52.002Z"
   },
   {
    "duration": 240,
    "start_time": "2024-04-07T14:41:52.022Z"
   },
   {
    "duration": 23,
    "start_time": "2024-04-07T14:41:52.266Z"
   },
   {
    "duration": 36,
    "start_time": "2024-04-07T14:41:52.291Z"
   },
   {
    "duration": 7,
    "start_time": "2024-04-07T14:41:52.329Z"
   },
   {
    "duration": 8,
    "start_time": "2024-04-07T14:41:52.338Z"
   },
   {
    "duration": 7,
    "start_time": "2024-04-07T14:41:52.348Z"
   },
   {
    "duration": 383,
    "start_time": "2024-04-07T14:41:52.357Z"
   },
   {
    "duration": 7,
    "start_time": "2024-04-07T14:41:52.742Z"
   },
   {
    "duration": 31,
    "start_time": "2024-04-07T14:41:52.751Z"
   },
   {
    "duration": 9,
    "start_time": "2024-04-07T14:41:52.783Z"
   },
   {
    "duration": 212,
    "start_time": "2024-04-07T14:41:52.793Z"
   },
   {
    "duration": 9,
    "start_time": "2024-04-07T14:41:53.007Z"
   },
   {
    "duration": 358,
    "start_time": "2024-04-07T14:41:53.017Z"
   },
   {
    "duration": 12,
    "start_time": "2024-04-07T14:41:53.376Z"
   },
   {
    "duration": 215,
    "start_time": "2024-04-07T14:41:53.390Z"
   },
   {
    "duration": 8,
    "start_time": "2024-04-07T14:41:53.607Z"
   },
   {
    "duration": 160,
    "start_time": "2024-04-07T14:41:53.616Z"
   },
   {
    "duration": 11,
    "start_time": "2024-04-07T14:41:53.784Z"
   },
   {
    "duration": 227,
    "start_time": "2024-04-07T14:41:53.797Z"
   },
   {
    "duration": 9,
    "start_time": "2024-04-07T14:41:54.026Z"
   },
   {
    "duration": 218,
    "start_time": "2024-04-07T14:41:54.036Z"
   },
   {
    "duration": 177,
    "start_time": "2024-04-07T14:41:54.256Z"
   },
   {
    "duration": 10,
    "start_time": "2024-04-07T14:41:54.435Z"
   },
   {
    "duration": 179,
    "start_time": "2024-04-07T14:41:54.446Z"
   },
   {
    "duration": 10,
    "start_time": "2024-04-07T14:41:54.626Z"
   },
   {
    "duration": 254,
    "start_time": "2024-04-07T14:41:54.638Z"
   },
   {
    "duration": 10,
    "start_time": "2024-04-07T14:41:54.894Z"
   },
   {
    "duration": 335,
    "start_time": "2024-04-07T14:41:54.906Z"
   },
   {
    "duration": 10,
    "start_time": "2024-04-07T14:41:55.243Z"
   },
   {
    "duration": 271,
    "start_time": "2024-04-07T14:41:55.254Z"
   },
   {
    "duration": 25,
    "start_time": "2024-04-07T14:41:55.527Z"
   },
   {
    "duration": 167,
    "start_time": "2024-04-07T14:41:55.553Z"
   },
   {
    "duration": 180,
    "start_time": "2024-04-07T14:41:55.722Z"
   },
   {
    "duration": 164,
    "start_time": "2024-04-07T14:41:55.903Z"
   },
   {
    "duration": 146,
    "start_time": "2024-04-07T14:41:56.069Z"
   },
   {
    "duration": 157,
    "start_time": "2024-04-07T14:41:56.216Z"
   },
   {
    "duration": 177,
    "start_time": "2024-04-07T14:41:56.374Z"
   },
   {
    "duration": 148,
    "start_time": "2024-04-07T14:41:56.553Z"
   },
   {
    "duration": 152,
    "start_time": "2024-04-07T14:41:56.703Z"
   },
   {
    "duration": 33,
    "start_time": "2024-04-07T14:41:56.857Z"
   },
   {
    "duration": 17,
    "start_time": "2024-04-07T14:41:56.892Z"
   },
   {
    "duration": 295,
    "start_time": "2024-04-07T14:41:56.911Z"
   },
   {
    "duration": 90,
    "start_time": "2024-04-07T14:41:57.207Z"
   },
   {
    "duration": 143,
    "start_time": "2024-04-07T14:42:10.195Z"
   },
   {
    "duration": 178,
    "start_time": "2024-04-07T14:42:25.084Z"
   },
   {
    "duration": 89,
    "start_time": "2024-04-07T14:43:26.790Z"
   },
   {
    "duration": 159,
    "start_time": "2024-04-07T14:43:54.454Z"
   },
   {
    "duration": 183,
    "start_time": "2024-04-07T14:44:13.986Z"
   },
   {
    "duration": 185,
    "start_time": "2024-04-07T14:44:35.468Z"
   },
   {
    "duration": 209,
    "start_time": "2024-04-07T14:47:21.868Z"
   },
   {
    "duration": 179,
    "start_time": "2024-04-07T14:47:41.959Z"
   },
   {
    "duration": 176,
    "start_time": "2024-04-07T14:47:54.234Z"
   },
   {
    "duration": 142,
    "start_time": "2024-04-07T14:48:30.804Z"
   },
   {
    "duration": 163,
    "start_time": "2024-04-07T14:48:55.449Z"
   },
   {
    "duration": 193,
    "start_time": "2024-04-07T14:50:26.916Z"
   },
   {
    "duration": 105,
    "start_time": "2024-04-07T14:50:45.987Z"
   },
   {
    "duration": 134,
    "start_time": "2024-04-07T14:50:57.218Z"
   },
   {
    "duration": 177,
    "start_time": "2024-04-07T14:51:11.972Z"
   },
   {
    "duration": 158,
    "start_time": "2024-04-07T14:51:21.282Z"
   },
   {
    "duration": 137,
    "start_time": "2024-04-07T14:51:40.233Z"
   },
   {
    "duration": 21,
    "start_time": "2024-04-07T14:52:31.775Z"
   },
   {
    "duration": 36,
    "start_time": "2024-04-07T14:52:50.328Z"
   },
   {
    "duration": 153,
    "start_time": "2024-04-07T14:53:39.952Z"
   },
   {
    "duration": 10,
    "start_time": "2024-04-07T14:57:59.956Z"
   },
   {
    "duration": 180,
    "start_time": "2024-04-07T14:58:07.075Z"
   },
   {
    "duration": 134,
    "start_time": "2024-04-07T14:58:13.219Z"
   },
   {
    "duration": 142,
    "start_time": "2024-04-07T14:58:16.475Z"
   },
   {
    "duration": 177,
    "start_time": "2024-04-07T14:58:26.450Z"
   },
   {
    "duration": 169,
    "start_time": "2024-04-07T14:58:31.417Z"
   },
   {
    "duration": 204,
    "start_time": "2024-04-07T14:58:38.928Z"
   },
   {
    "duration": 73,
    "start_time": "2024-04-07T14:58:50.494Z"
   },
   {
    "duration": 642,
    "start_time": "2024-04-07T14:59:33.321Z"
   },
   {
    "duration": 100,
    "start_time": "2024-04-07T14:59:33.965Z"
   },
   {
    "duration": 31,
    "start_time": "2024-04-07T14:59:34.067Z"
   },
   {
    "duration": 14,
    "start_time": "2024-04-07T14:59:34.100Z"
   },
   {
    "duration": 1792,
    "start_time": "2024-04-07T14:59:34.116Z"
   },
   {
    "duration": 10,
    "start_time": "2024-04-07T14:59:35.910Z"
   },
   {
    "duration": 27,
    "start_time": "2024-04-07T14:59:35.921Z"
   },
   {
    "duration": 10,
    "start_time": "2024-04-07T14:59:35.949Z"
   },
   {
    "duration": 10,
    "start_time": "2024-04-07T14:59:35.961Z"
   },
   {
    "duration": 24,
    "start_time": "2024-04-07T14:59:35.973Z"
   },
   {
    "duration": 29,
    "start_time": "2024-04-07T14:59:35.998Z"
   },
   {
    "duration": 41,
    "start_time": "2024-04-07T14:59:36.028Z"
   },
   {
    "duration": 9,
    "start_time": "2024-04-07T14:59:36.070Z"
   },
   {
    "duration": 9,
    "start_time": "2024-04-07T14:59:36.080Z"
   },
   {
    "duration": 33,
    "start_time": "2024-04-07T14:59:36.090Z"
   },
   {
    "duration": 3,
    "start_time": "2024-04-07T14:59:36.125Z"
   },
   {
    "duration": 10,
    "start_time": "2024-04-07T14:59:36.129Z"
   },
   {
    "duration": 3,
    "start_time": "2024-04-07T14:59:36.140Z"
   },
   {
    "duration": 4,
    "start_time": "2024-04-07T14:59:36.145Z"
   },
   {
    "duration": 36,
    "start_time": "2024-04-07T14:59:36.150Z"
   },
   {
    "duration": 8,
    "start_time": "2024-04-07T14:59:36.188Z"
   },
   {
    "duration": 9,
    "start_time": "2024-04-07T14:59:36.197Z"
   },
   {
    "duration": 3,
    "start_time": "2024-04-07T14:59:36.207Z"
   },
   {
    "duration": 4,
    "start_time": "2024-04-07T14:59:36.211Z"
   },
   {
    "duration": 21,
    "start_time": "2024-04-07T14:59:36.216Z"
   },
   {
    "duration": 16,
    "start_time": "2024-04-07T14:59:36.238Z"
   },
   {
    "duration": 248,
    "start_time": "2024-04-07T14:59:36.282Z"
   },
   {
    "duration": 14,
    "start_time": "2024-04-07T14:59:36.535Z"
   },
   {
    "duration": 41,
    "start_time": "2024-04-07T14:59:36.550Z"
   },
   {
    "duration": 7,
    "start_time": "2024-04-07T14:59:36.593Z"
   },
   {
    "duration": 16,
    "start_time": "2024-04-07T14:59:36.602Z"
   },
   {
    "duration": 10,
    "start_time": "2024-04-07T14:59:36.619Z"
   },
   {
    "duration": 386,
    "start_time": "2024-04-07T14:59:36.630Z"
   },
   {
    "duration": 5,
    "start_time": "2024-04-07T14:59:37.018Z"
   },
   {
    "duration": 16,
    "start_time": "2024-04-07T14:59:37.025Z"
   },
   {
    "duration": 23,
    "start_time": "2024-04-07T14:59:37.042Z"
   },
   {
    "duration": 192,
    "start_time": "2024-04-07T14:59:37.066Z"
   },
   {
    "duration": 9,
    "start_time": "2024-04-07T14:59:37.259Z"
   },
   {
    "duration": 351,
    "start_time": "2024-04-07T14:59:37.270Z"
   },
   {
    "duration": 8,
    "start_time": "2024-04-07T14:59:37.622Z"
   },
   {
    "duration": 206,
    "start_time": "2024-04-07T14:59:37.632Z"
   },
   {
    "duration": 8,
    "start_time": "2024-04-07T14:59:37.840Z"
   },
   {
    "duration": 168,
    "start_time": "2024-04-07T14:59:37.850Z"
   },
   {
    "duration": 11,
    "start_time": "2024-04-07T14:59:38.020Z"
   },
   {
    "duration": 209,
    "start_time": "2024-04-07T14:59:38.033Z"
   },
   {
    "duration": 10,
    "start_time": "2024-04-07T14:59:38.244Z"
   },
   {
    "duration": 206,
    "start_time": "2024-04-07T14:59:38.255Z"
   },
   {
    "duration": 168,
    "start_time": "2024-04-07T14:59:38.463Z"
   },
   {
    "duration": 9,
    "start_time": "2024-04-07T14:59:38.633Z"
   },
   {
    "duration": 175,
    "start_time": "2024-04-07T14:59:38.643Z"
   },
   {
    "duration": 8,
    "start_time": "2024-04-07T14:59:38.820Z"
   },
   {
    "duration": 247,
    "start_time": "2024-04-07T14:59:38.830Z"
   },
   {
    "duration": 12,
    "start_time": "2024-04-07T14:59:39.078Z"
   },
   {
    "duration": 264,
    "start_time": "2024-04-07T14:59:39.091Z"
   },
   {
    "duration": 9,
    "start_time": "2024-04-07T14:59:39.357Z"
   },
   {
    "duration": 341,
    "start_time": "2024-04-07T14:59:39.367Z"
   },
   {
    "duration": 24,
    "start_time": "2024-04-07T14:59:39.710Z"
   },
   {
    "duration": 158,
    "start_time": "2024-04-07T14:59:39.736Z"
   },
   {
    "duration": 177,
    "start_time": "2024-04-07T14:59:39.896Z"
   },
   {
    "duration": 173,
    "start_time": "2024-04-07T14:59:40.075Z"
   },
   {
    "duration": 155,
    "start_time": "2024-04-07T14:59:40.250Z"
   },
   {
    "duration": 143,
    "start_time": "2024-04-07T14:59:40.407Z"
   },
   {
    "duration": 152,
    "start_time": "2024-04-07T14:59:40.552Z"
   },
   {
    "duration": 153,
    "start_time": "2024-04-07T14:59:40.706Z"
   },
   {
    "duration": 146,
    "start_time": "2024-04-07T14:59:40.862Z"
   },
   {
    "duration": 34,
    "start_time": "2024-04-07T14:59:41.010Z"
   },
   {
    "duration": 15,
    "start_time": "2024-04-07T14:59:41.045Z"
   },
   {
    "duration": 224,
    "start_time": "2024-04-07T14:59:41.061Z"
   },
   {
    "duration": 155,
    "start_time": "2024-04-07T14:59:41.287Z"
   },
   {
    "duration": 154,
    "start_time": "2024-04-07T15:00:08.972Z"
   },
   {
    "duration": 139,
    "start_time": "2024-04-07T15:00:13.748Z"
   },
   {
    "duration": 10,
    "start_time": "2024-04-07T15:00:27.787Z"
   },
   {
    "duration": 76,
    "start_time": "2024-04-07T15:00:33.596Z"
   },
   {
    "duration": 171,
    "start_time": "2024-04-07T15:00:41.594Z"
   },
   {
    "duration": 165,
    "start_time": "2024-04-07T15:00:45.786Z"
   },
   {
    "duration": 161,
    "start_time": "2024-04-07T15:00:52.778Z"
   },
   {
    "duration": 162,
    "start_time": "2024-04-07T15:00:57.033Z"
   },
   {
    "duration": 164,
    "start_time": "2024-04-07T15:01:00.201Z"
   },
   {
    "duration": 138,
    "start_time": "2024-04-07T15:01:04.632Z"
   },
   {
    "duration": 140,
    "start_time": "2024-04-07T15:01:11.073Z"
   },
   {
    "duration": 146,
    "start_time": "2024-04-07T15:01:19.920Z"
   },
   {
    "duration": 168,
    "start_time": "2024-04-07T15:01:24.593Z"
   },
   {
    "duration": 211,
    "start_time": "2024-04-07T15:01:27.840Z"
   },
   {
    "duration": 194,
    "start_time": "2024-04-07T15:01:36.689Z"
   },
   {
    "duration": 74,
    "start_time": "2024-04-07T15:01:51.215Z"
   },
   {
    "duration": 9,
    "start_time": "2024-04-07T15:03:43.667Z"
   },
   {
    "duration": 9,
    "start_time": "2024-04-07T15:03:45.715Z"
   },
   {
    "duration": 8,
    "start_time": "2024-04-07T15:03:52.762Z"
   },
   {
    "duration": 9,
    "start_time": "2024-04-07T15:03:55.601Z"
   },
   {
    "duration": 663,
    "start_time": "2024-04-07T15:03:59.525Z"
   },
   {
    "duration": 100,
    "start_time": "2024-04-07T15:04:00.190Z"
   },
   {
    "duration": 33,
    "start_time": "2024-04-07T15:04:00.292Z"
   },
   {
    "duration": 69,
    "start_time": "2024-04-07T15:04:00.327Z"
   },
   {
    "duration": 1866,
    "start_time": "2024-04-07T15:04:00.398Z"
   },
   {
    "duration": 11,
    "start_time": "2024-04-07T15:04:02.267Z"
   },
   {
    "duration": 16,
    "start_time": "2024-04-07T15:04:02.280Z"
   },
   {
    "duration": 19,
    "start_time": "2024-04-07T15:04:02.298Z"
   },
   {
    "duration": 10,
    "start_time": "2024-04-07T15:04:02.319Z"
   },
   {
    "duration": 11,
    "start_time": "2024-04-07T15:04:02.332Z"
   },
   {
    "duration": 20,
    "start_time": "2024-04-07T15:04:02.344Z"
   },
   {
    "duration": 40,
    "start_time": "2024-04-07T15:04:02.366Z"
   },
   {
    "duration": 9,
    "start_time": "2024-04-07T15:04:02.407Z"
   },
   {
    "duration": 18,
    "start_time": "2024-04-07T15:04:02.418Z"
   },
   {
    "duration": 49,
    "start_time": "2024-04-07T15:04:02.437Z"
   },
   {
    "duration": 3,
    "start_time": "2024-04-07T15:04:02.488Z"
   },
   {
    "duration": 42,
    "start_time": "2024-04-07T15:04:02.492Z"
   },
   {
    "duration": 18,
    "start_time": "2024-04-07T15:04:02.536Z"
   },
   {
    "duration": 7,
    "start_time": "2024-04-07T15:04:02.555Z"
   },
   {
    "duration": 13,
    "start_time": "2024-04-07T15:04:02.564Z"
   },
   {
    "duration": 29,
    "start_time": "2024-04-07T15:04:02.579Z"
   },
   {
    "duration": 7,
    "start_time": "2024-04-07T15:04:02.610Z"
   },
   {
    "duration": 12,
    "start_time": "2024-04-07T15:04:02.619Z"
   },
   {
    "duration": 5,
    "start_time": "2024-04-07T15:04:02.632Z"
   },
   {
    "duration": 42,
    "start_time": "2024-04-07T15:04:02.638Z"
   },
   {
    "duration": 19,
    "start_time": "2024-04-07T15:04:02.682Z"
   },
   {
    "duration": 244,
    "start_time": "2024-04-07T15:04:02.702Z"
   },
   {
    "duration": 14,
    "start_time": "2024-04-07T15:04:02.950Z"
   },
   {
    "duration": 37,
    "start_time": "2024-04-07T15:04:02.965Z"
   },
   {
    "duration": 8,
    "start_time": "2024-04-07T15:04:03.003Z"
   },
   {
    "duration": 8,
    "start_time": "2024-04-07T15:04:03.013Z"
   },
   {
    "duration": 8,
    "start_time": "2024-04-07T15:04:03.023Z"
   },
   {
    "duration": 394,
    "start_time": "2024-04-07T15:04:03.033Z"
   },
   {
    "duration": 6,
    "start_time": "2024-04-07T15:04:03.428Z"
   },
   {
    "duration": 13,
    "start_time": "2024-04-07T15:04:03.436Z"
   },
   {
    "duration": 9,
    "start_time": "2024-04-07T15:04:03.450Z"
   },
   {
    "duration": 195,
    "start_time": "2024-04-07T15:04:03.482Z"
   },
   {
    "duration": 11,
    "start_time": "2024-04-07T15:04:03.678Z"
   },
   {
    "duration": 364,
    "start_time": "2024-04-07T15:04:03.690Z"
   },
   {
    "duration": 9,
    "start_time": "2024-04-07T15:04:04.056Z"
   },
   {
    "duration": 217,
    "start_time": "2024-04-07T15:04:04.067Z"
   },
   {
    "duration": 8,
    "start_time": "2024-04-07T15:04:04.286Z"
   },
   {
    "duration": 139,
    "start_time": "2024-04-07T15:04:04.295Z"
   },
   {
    "duration": 10,
    "start_time": "2024-04-07T15:04:04.435Z"
   },
   {
    "duration": 208,
    "start_time": "2024-04-07T15:04:04.447Z"
   },
   {
    "duration": 9,
    "start_time": "2024-04-07T15:04:04.656Z"
   },
   {
    "duration": 203,
    "start_time": "2024-04-07T15:04:04.667Z"
   },
   {
    "duration": 177,
    "start_time": "2024-04-07T15:04:04.872Z"
   },
   {
    "duration": 8,
    "start_time": "2024-04-07T15:04:05.051Z"
   },
   {
    "duration": 190,
    "start_time": "2024-04-07T15:04:05.060Z"
   },
   {
    "duration": 8,
    "start_time": "2024-04-07T15:04:05.252Z"
   },
   {
    "duration": 289,
    "start_time": "2024-04-07T15:04:05.262Z"
   },
   {
    "duration": 14,
    "start_time": "2024-04-07T15:04:05.554Z"
   },
   {
    "duration": 269,
    "start_time": "2024-04-07T15:04:05.569Z"
   },
   {
    "duration": 11,
    "start_time": "2024-04-07T15:04:05.841Z"
   },
   {
    "duration": 369,
    "start_time": "2024-04-07T15:04:05.854Z"
   },
   {
    "duration": 23,
    "start_time": "2024-04-07T15:04:06.225Z"
   },
   {
    "duration": 152,
    "start_time": "2024-04-07T15:04:06.250Z"
   },
   {
    "duration": 165,
    "start_time": "2024-04-07T15:04:06.403Z"
   },
   {
    "duration": 168,
    "start_time": "2024-04-07T15:04:06.569Z"
   },
   {
    "duration": 148,
    "start_time": "2024-04-07T15:04:06.738Z"
   },
   {
    "duration": 156,
    "start_time": "2024-04-07T15:04:06.888Z"
   },
   {
    "duration": 155,
    "start_time": "2024-04-07T15:04:07.045Z"
   },
   {
    "duration": 159,
    "start_time": "2024-04-07T15:04:07.202Z"
   },
   {
    "duration": 155,
    "start_time": "2024-04-07T15:04:07.363Z"
   },
   {
    "duration": 25,
    "start_time": "2024-04-07T15:04:07.519Z"
   },
   {
    "duration": 14,
    "start_time": "2024-04-07T15:04:07.546Z"
   },
   {
    "duration": 200,
    "start_time": "2024-04-07T15:04:07.561Z"
   },
   {
    "duration": 153,
    "start_time": "2024-04-07T15:04:07.762Z"
   },
   {
    "duration": 653,
    "start_time": "2024-04-07T15:05:38.949Z"
   },
   {
    "duration": 100,
    "start_time": "2024-04-07T15:05:39.604Z"
   },
   {
    "duration": 32,
    "start_time": "2024-04-07T15:05:39.705Z"
   },
   {
    "duration": 14,
    "start_time": "2024-04-07T15:05:39.740Z"
   },
   {
    "duration": 1776,
    "start_time": "2024-04-07T15:05:39.756Z"
   },
   {
    "duration": 14,
    "start_time": "2024-04-07T15:05:41.535Z"
   },
   {
    "duration": 26,
    "start_time": "2024-04-07T15:05:41.551Z"
   },
   {
    "duration": 14,
    "start_time": "2024-04-07T15:05:41.579Z"
   },
   {
    "duration": 14,
    "start_time": "2024-04-07T15:05:41.595Z"
   },
   {
    "duration": 5,
    "start_time": "2024-04-07T15:05:41.611Z"
   },
   {
    "duration": 6,
    "start_time": "2024-04-07T15:05:41.618Z"
   },
   {
    "duration": 61,
    "start_time": "2024-04-07T15:05:41.625Z"
   },
   {
    "duration": 9,
    "start_time": "2024-04-07T15:05:41.688Z"
   },
   {
    "duration": 10,
    "start_time": "2024-04-07T15:05:41.698Z"
   },
   {
    "duration": 33,
    "start_time": "2024-04-07T15:05:41.709Z"
   },
   {
    "duration": 4,
    "start_time": "2024-04-07T15:05:41.743Z"
   },
   {
    "duration": 40,
    "start_time": "2024-04-07T15:05:41.748Z"
   },
   {
    "duration": 4,
    "start_time": "2024-04-07T15:05:41.789Z"
   },
   {
    "duration": 5,
    "start_time": "2024-04-07T15:05:41.794Z"
   },
   {
    "duration": 9,
    "start_time": "2024-04-07T15:05:41.801Z"
   },
   {
    "duration": 11,
    "start_time": "2024-04-07T15:05:41.812Z"
   },
   {
    "duration": 5,
    "start_time": "2024-04-07T15:05:41.825Z"
   },
   {
    "duration": 6,
    "start_time": "2024-04-07T15:05:41.831Z"
   },
   {
    "duration": 4,
    "start_time": "2024-04-07T15:05:41.839Z"
   },
   {
    "duration": 48,
    "start_time": "2024-04-07T15:05:41.845Z"
   },
   {
    "duration": 17,
    "start_time": "2024-04-07T15:05:41.894Z"
   },
   {
    "duration": 253,
    "start_time": "2024-04-07T15:05:41.913Z"
   },
   {
    "duration": 23,
    "start_time": "2024-04-07T15:05:42.170Z"
   },
   {
    "duration": 24,
    "start_time": "2024-04-07T15:05:42.194Z"
   },
   {
    "duration": 8,
    "start_time": "2024-04-07T15:05:42.220Z"
   },
   {
    "duration": 10,
    "start_time": "2024-04-07T15:05:42.230Z"
   },
   {
    "duration": 8,
    "start_time": "2024-04-07T15:05:42.241Z"
   },
   {
    "duration": 412,
    "start_time": "2024-04-07T15:05:42.250Z"
   },
   {
    "duration": 6,
    "start_time": "2024-04-07T15:05:42.664Z"
   },
   {
    "duration": 20,
    "start_time": "2024-04-07T15:05:42.672Z"
   },
   {
    "duration": 8,
    "start_time": "2024-04-07T15:05:42.693Z"
   },
   {
    "duration": 198,
    "start_time": "2024-04-07T15:05:42.702Z"
   },
   {
    "duration": 9,
    "start_time": "2024-04-07T15:05:42.902Z"
   },
   {
    "duration": 387,
    "start_time": "2024-04-07T15:05:42.912Z"
   },
   {
    "duration": 10,
    "start_time": "2024-04-07T15:05:43.301Z"
   },
   {
    "duration": 219,
    "start_time": "2024-04-07T15:05:43.312Z"
   },
   {
    "duration": 8,
    "start_time": "2024-04-07T15:05:43.533Z"
   },
   {
    "duration": 148,
    "start_time": "2024-04-07T15:05:43.542Z"
   },
   {
    "duration": 9,
    "start_time": "2024-04-07T15:05:43.691Z"
   },
   {
    "duration": 208,
    "start_time": "2024-04-07T15:05:43.701Z"
   },
   {
    "duration": 8,
    "start_time": "2024-04-07T15:05:43.911Z"
   },
   {
    "duration": 201,
    "start_time": "2024-04-07T15:05:43.920Z"
   },
   {
    "duration": 162,
    "start_time": "2024-04-07T15:05:44.123Z"
   },
   {
    "duration": 8,
    "start_time": "2024-04-07T15:05:44.287Z"
   },
   {
    "duration": 169,
    "start_time": "2024-04-07T15:05:44.297Z"
   },
   {
    "duration": 16,
    "start_time": "2024-04-07T15:05:44.467Z"
   },
   {
    "duration": 288,
    "start_time": "2024-04-07T15:05:44.485Z"
   },
   {
    "duration": 13,
    "start_time": "2024-04-07T15:05:44.775Z"
   },
   {
    "duration": 286,
    "start_time": "2024-04-07T15:05:44.790Z"
   },
   {
    "duration": 9,
    "start_time": "2024-04-07T15:05:45.081Z"
   },
   {
    "duration": 345,
    "start_time": "2024-04-07T15:05:45.091Z"
   },
   {
    "duration": 23,
    "start_time": "2024-04-07T15:05:45.437Z"
   },
   {
    "duration": 153,
    "start_time": "2024-04-07T15:05:45.462Z"
   },
   {
    "duration": 170,
    "start_time": "2024-04-07T15:05:45.617Z"
   },
   {
    "duration": 197,
    "start_time": "2024-04-07T15:05:45.789Z"
   },
   {
    "duration": 150,
    "start_time": "2024-04-07T15:05:45.988Z"
   },
   {
    "duration": 151,
    "start_time": "2024-04-07T15:05:46.140Z"
   },
   {
    "duration": 167,
    "start_time": "2024-04-07T15:05:46.293Z"
   },
   {
    "duration": 152,
    "start_time": "2024-04-07T15:05:46.462Z"
   },
   {
    "duration": 146,
    "start_time": "2024-04-07T15:05:46.615Z"
   },
   {
    "duration": 34,
    "start_time": "2024-04-07T15:05:46.762Z"
   },
   {
    "duration": 15,
    "start_time": "2024-04-07T15:05:46.797Z"
   },
   {
    "duration": 204,
    "start_time": "2024-04-07T15:05:46.813Z"
   },
   {
    "duration": 153,
    "start_time": "2024-04-07T15:05:47.018Z"
   },
   {
    "duration": 9,
    "start_time": "2024-04-07T15:06:50.766Z"
   },
   {
    "duration": 198,
    "start_time": "2024-04-07T15:06:59.198Z"
   },
   {
    "duration": 167,
    "start_time": "2024-04-07T15:07:30.325Z"
   },
   {
    "duration": 183,
    "start_time": "2024-04-07T15:07:43.299Z"
   },
   {
    "duration": 238,
    "start_time": "2024-04-07T15:08:03.468Z"
   },
   {
    "duration": 183,
    "start_time": "2024-04-07T15:08:15.868Z"
   },
   {
    "duration": 180,
    "start_time": "2024-04-07T15:08:24.980Z"
   },
   {
    "duration": 193,
    "start_time": "2024-04-07T15:08:35.459Z"
   },
   {
    "duration": 155,
    "start_time": "2024-04-07T15:08:58.993Z"
   },
   {
    "duration": 201,
    "start_time": "2024-04-07T15:09:21.217Z"
   },
   {
    "duration": 180,
    "start_time": "2024-04-07T15:09:28.593Z"
   },
   {
    "duration": 289,
    "start_time": "2024-04-07T15:09:49.934Z"
   },
   {
    "duration": 171,
    "start_time": "2024-04-07T15:10:14.361Z"
   },
   {
    "duration": 257,
    "start_time": "2024-04-07T15:10:47.156Z"
   },
   {
    "duration": 268,
    "start_time": "2024-04-07T15:11:07.691Z"
   },
   {
    "duration": 187,
    "start_time": "2024-04-07T15:11:38.361Z"
   },
   {
    "duration": 13,
    "start_time": "2024-04-07T15:12:02.657Z"
   },
   {
    "duration": 8,
    "start_time": "2024-04-07T15:12:04.612Z"
   },
   {
    "duration": 86,
    "start_time": "2024-04-07T15:12:15.832Z"
   },
   {
    "duration": 8,
    "start_time": "2024-04-07T15:12:22.135Z"
   },
   {
    "duration": 74,
    "start_time": "2024-04-07T15:12:26.768Z"
   },
   {
    "duration": 665,
    "start_time": "2024-04-07T15:13:18.080Z"
   },
   {
    "duration": 102,
    "start_time": "2024-04-07T15:13:18.747Z"
   },
   {
    "duration": 40,
    "start_time": "2024-04-07T15:13:18.851Z"
   },
   {
    "duration": 15,
    "start_time": "2024-04-07T15:13:18.893Z"
   },
   {
    "duration": 1846,
    "start_time": "2024-04-07T15:13:18.910Z"
   },
   {
    "duration": 9,
    "start_time": "2024-04-07T15:13:20.758Z"
   },
   {
    "duration": 14,
    "start_time": "2024-04-07T15:13:20.769Z"
   },
   {
    "duration": 9,
    "start_time": "2024-04-07T15:13:20.785Z"
   },
   {
    "duration": 10,
    "start_time": "2024-04-07T15:13:20.796Z"
   },
   {
    "duration": 5,
    "start_time": "2024-04-07T15:13:20.809Z"
   },
   {
    "duration": 17,
    "start_time": "2024-04-07T15:13:20.815Z"
   },
   {
    "duration": 56,
    "start_time": "2024-04-07T15:13:20.833Z"
   },
   {
    "duration": 9,
    "start_time": "2024-04-07T15:13:20.890Z"
   },
   {
    "duration": 10,
    "start_time": "2024-04-07T15:13:20.901Z"
   },
   {
    "duration": 33,
    "start_time": "2024-04-07T15:13:20.913Z"
   },
   {
    "duration": 3,
    "start_time": "2024-04-07T15:13:20.947Z"
   },
   {
    "duration": 32,
    "start_time": "2024-04-07T15:13:20.952Z"
   },
   {
    "duration": 3,
    "start_time": "2024-04-07T15:13:20.986Z"
   },
   {
    "duration": 12,
    "start_time": "2024-04-07T15:13:20.990Z"
   },
   {
    "duration": 7,
    "start_time": "2024-04-07T15:13:21.004Z"
   },
   {
    "duration": 16,
    "start_time": "2024-04-07T15:13:21.012Z"
   },
   {
    "duration": 7,
    "start_time": "2024-04-07T15:13:21.029Z"
   },
   {
    "duration": 18,
    "start_time": "2024-04-07T15:13:21.037Z"
   },
   {
    "duration": 7,
    "start_time": "2024-04-07T15:13:21.057Z"
   },
   {
    "duration": 25,
    "start_time": "2024-04-07T15:13:21.065Z"
   },
   {
    "duration": 18,
    "start_time": "2024-04-07T15:13:21.091Z"
   },
   {
    "duration": 237,
    "start_time": "2024-04-07T15:13:21.110Z"
   },
   {
    "duration": 14,
    "start_time": "2024-04-07T15:13:21.351Z"
   },
   {
    "duration": 35,
    "start_time": "2024-04-07T15:13:21.366Z"
   },
   {
    "duration": 7,
    "start_time": "2024-04-07T15:13:21.403Z"
   },
   {
    "duration": 8,
    "start_time": "2024-04-07T15:13:21.411Z"
   },
   {
    "duration": 9,
    "start_time": "2024-04-07T15:13:21.431Z"
   },
   {
    "duration": 385,
    "start_time": "2024-04-07T15:13:21.442Z"
   },
   {
    "duration": 7,
    "start_time": "2024-04-07T15:13:21.828Z"
   },
   {
    "duration": 18,
    "start_time": "2024-04-07T15:13:21.837Z"
   },
   {
    "duration": 30,
    "start_time": "2024-04-07T15:13:21.857Z"
   },
   {
    "duration": 219,
    "start_time": "2024-04-07T15:13:21.889Z"
   },
   {
    "duration": 11,
    "start_time": "2024-04-07T15:13:22.109Z"
   },
   {
    "duration": 354,
    "start_time": "2024-04-07T15:13:22.121Z"
   },
   {
    "duration": 11,
    "start_time": "2024-04-07T15:13:22.477Z"
   },
   {
    "duration": 219,
    "start_time": "2024-04-07T15:13:22.489Z"
   },
   {
    "duration": 8,
    "start_time": "2024-04-07T15:13:22.709Z"
   },
   {
    "duration": 160,
    "start_time": "2024-04-07T15:13:22.719Z"
   },
   {
    "duration": 8,
    "start_time": "2024-04-07T15:13:22.881Z"
   },
   {
    "duration": 192,
    "start_time": "2024-04-07T15:13:22.890Z"
   },
   {
    "duration": 8,
    "start_time": "2024-04-07T15:13:23.084Z"
   },
   {
    "duration": 221,
    "start_time": "2024-04-07T15:13:23.093Z"
   },
   {
    "duration": 176,
    "start_time": "2024-04-07T15:13:23.316Z"
   },
   {
    "duration": 9,
    "start_time": "2024-04-07T15:13:23.493Z"
   },
   {
    "duration": 194,
    "start_time": "2024-04-07T15:13:23.503Z"
   },
   {
    "duration": 8,
    "start_time": "2024-04-07T15:13:23.699Z"
   },
   {
    "duration": 276,
    "start_time": "2024-04-07T15:13:23.708Z"
   },
   {
    "duration": 9,
    "start_time": "2024-04-07T15:13:23.985Z"
   },
   {
    "duration": 353,
    "start_time": "2024-04-07T15:13:23.995Z"
   },
   {
    "duration": 9,
    "start_time": "2024-04-07T15:13:24.349Z"
   },
   {
    "duration": 270,
    "start_time": "2024-04-07T15:13:24.360Z"
   },
   {
    "duration": 27,
    "start_time": "2024-04-07T15:13:24.631Z"
   },
   {
    "duration": 154,
    "start_time": "2024-04-07T15:13:24.659Z"
   },
   {
    "duration": 176,
    "start_time": "2024-04-07T15:13:24.814Z"
   },
   {
    "duration": 169,
    "start_time": "2024-04-07T15:13:24.992Z"
   },
   {
    "duration": 162,
    "start_time": "2024-04-07T15:13:25.163Z"
   },
   {
    "duration": 146,
    "start_time": "2024-04-07T15:13:25.326Z"
   },
   {
    "duration": 162,
    "start_time": "2024-04-07T15:13:25.473Z"
   },
   {
    "duration": 160,
    "start_time": "2024-04-07T15:13:25.637Z"
   },
   {
    "duration": 163,
    "start_time": "2024-04-07T15:13:25.799Z"
   },
   {
    "duration": 34,
    "start_time": "2024-04-07T15:13:25.964Z"
   },
   {
    "duration": 17,
    "start_time": "2024-04-07T15:13:26.000Z"
   },
   {
    "duration": 294,
    "start_time": "2024-04-07T15:13:26.018Z"
   },
   {
    "duration": 95,
    "start_time": "2024-04-07T15:13:26.314Z"
   },
   {
    "duration": 199,
    "start_time": "2024-04-07T15:14:41.955Z"
   },
   {
    "duration": 675,
    "start_time": "2024-04-08T06:39:17.533Z"
   },
   {
    "duration": 101,
    "start_time": "2024-04-08T06:39:18.210Z"
   },
   {
    "duration": 34,
    "start_time": "2024-04-08T06:39:18.313Z"
   },
   {
    "duration": 25,
    "start_time": "2024-04-08T06:39:18.349Z"
   },
   {
    "duration": 1893,
    "start_time": "2024-04-08T06:39:18.375Z"
   },
   {
    "duration": 15,
    "start_time": "2024-04-08T06:39:20.270Z"
   },
   {
    "duration": 23,
    "start_time": "2024-04-08T06:39:20.291Z"
   },
   {
    "duration": 15,
    "start_time": "2024-04-08T06:39:20.316Z"
   },
   {
    "duration": 40,
    "start_time": "2024-04-08T06:39:20.333Z"
   },
   {
    "duration": 9,
    "start_time": "2024-04-08T06:39:20.377Z"
   },
   {
    "duration": 21,
    "start_time": "2024-04-08T06:39:20.388Z"
   },
   {
    "duration": 59,
    "start_time": "2024-04-08T06:39:20.411Z"
   },
   {
    "duration": 11,
    "start_time": "2024-04-08T06:39:20.472Z"
   },
   {
    "duration": 10,
    "start_time": "2024-04-08T06:39:20.485Z"
   },
   {
    "duration": 79,
    "start_time": "2024-04-08T06:39:20.496Z"
   },
   {
    "duration": 3,
    "start_time": "2024-04-08T06:39:20.577Z"
   },
   {
    "duration": 13,
    "start_time": "2024-04-08T06:39:20.582Z"
   },
   {
    "duration": 29,
    "start_time": "2024-04-08T06:39:20.596Z"
   },
   {
    "duration": 6,
    "start_time": "2024-04-08T06:39:20.627Z"
   },
   {
    "duration": 23,
    "start_time": "2024-04-08T06:39:20.636Z"
   },
   {
    "duration": 25,
    "start_time": "2024-04-08T06:39:20.661Z"
   },
   {
    "duration": 12,
    "start_time": "2024-04-08T06:39:20.688Z"
   },
   {
    "duration": 12,
    "start_time": "2024-04-08T06:39:20.701Z"
   },
   {
    "duration": 18,
    "start_time": "2024-04-08T06:39:20.714Z"
   },
   {
    "duration": 26,
    "start_time": "2024-04-08T06:39:20.734Z"
   },
   {
    "duration": 19,
    "start_time": "2024-04-08T06:39:20.762Z"
   },
   {
    "duration": 243,
    "start_time": "2024-04-08T06:39:20.783Z"
   },
   {
    "duration": 15,
    "start_time": "2024-04-08T06:39:21.031Z"
   },
   {
    "duration": 41,
    "start_time": "2024-04-08T06:39:21.047Z"
   },
   {
    "duration": 8,
    "start_time": "2024-04-08T06:39:21.089Z"
   },
   {
    "duration": 11,
    "start_time": "2024-04-08T06:39:21.099Z"
   },
   {
    "duration": 7,
    "start_time": "2024-04-08T06:39:21.112Z"
   },
   {
    "duration": 376,
    "start_time": "2024-04-08T06:39:21.121Z"
   },
   {
    "duration": 6,
    "start_time": "2024-04-08T06:39:21.499Z"
   },
   {
    "duration": 17,
    "start_time": "2024-04-08T06:39:21.507Z"
   },
   {
    "duration": 11,
    "start_time": "2024-04-08T06:39:21.526Z"
   },
   {
    "duration": 228,
    "start_time": "2024-04-08T06:39:21.539Z"
   },
   {
    "duration": 14,
    "start_time": "2024-04-08T06:39:21.769Z"
   },
   {
    "duration": 414,
    "start_time": "2024-04-08T06:39:21.785Z"
   },
   {
    "duration": 9,
    "start_time": "2024-04-08T06:39:22.201Z"
   },
   {
    "duration": 215,
    "start_time": "2024-04-08T06:39:22.211Z"
   },
   {
    "duration": 7,
    "start_time": "2024-04-08T06:39:22.428Z"
   },
   {
    "duration": 168,
    "start_time": "2024-04-08T06:39:22.437Z"
   },
   {
    "duration": 8,
    "start_time": "2024-04-08T06:39:22.607Z"
   },
   {
    "duration": 198,
    "start_time": "2024-04-08T06:39:22.617Z"
   },
   {
    "duration": 10,
    "start_time": "2024-04-08T06:39:22.816Z"
   },
   {
    "duration": 216,
    "start_time": "2024-04-08T06:39:22.828Z"
   },
   {
    "duration": 170,
    "start_time": "2024-04-08T06:39:23.045Z"
   },
   {
    "duration": 10,
    "start_time": "2024-04-08T06:39:23.217Z"
   },
   {
    "duration": 213,
    "start_time": "2024-04-08T06:39:23.229Z"
   },
   {
    "duration": 25,
    "start_time": "2024-04-08T06:39:23.444Z"
   },
   {
    "duration": 289,
    "start_time": "2024-04-08T06:39:23.471Z"
   },
   {
    "duration": 11,
    "start_time": "2024-04-08T06:39:23.762Z"
   },
   {
    "duration": 355,
    "start_time": "2024-04-08T06:39:23.775Z"
   },
   {
    "duration": 10,
    "start_time": "2024-04-08T06:39:24.132Z"
   },
   {
    "duration": 261,
    "start_time": "2024-04-08T06:39:24.144Z"
   },
   {
    "duration": 25,
    "start_time": "2024-04-08T06:39:24.407Z"
   },
   {
    "duration": 155,
    "start_time": "2024-04-08T06:39:24.434Z"
   },
   {
    "duration": 175,
    "start_time": "2024-04-08T06:39:24.591Z"
   },
   {
    "duration": 178,
    "start_time": "2024-04-08T06:39:24.768Z"
   },
   {
    "duration": 163,
    "start_time": "2024-04-08T06:39:24.948Z"
   },
   {
    "duration": 154,
    "start_time": "2024-04-08T06:39:25.113Z"
   },
   {
    "duration": 176,
    "start_time": "2024-04-08T06:39:25.269Z"
   },
   {
    "duration": 164,
    "start_time": "2024-04-08T06:39:25.447Z"
   },
   {
    "duration": 170,
    "start_time": "2024-04-08T06:39:25.613Z"
   },
   {
    "duration": 27,
    "start_time": "2024-04-08T06:39:25.784Z"
   },
   {
    "duration": 17,
    "start_time": "2024-04-08T06:39:25.813Z"
   },
   {
    "duration": 312,
    "start_time": "2024-04-08T06:39:25.832Z"
   },
   {
    "duration": 101,
    "start_time": "2024-04-08T06:39:26.146Z"
   },
   {
    "duration": 773,
    "start_time": "2024-10-16T12:58:45.667Z"
   },
   {
    "duration": 152,
    "start_time": "2024-10-16T12:58:46.442Z"
   },
   {
    "duration": 32,
    "start_time": "2024-10-16T12:58:46.595Z"
   },
   {
    "duration": 14,
    "start_time": "2024-10-16T12:58:46.628Z"
   },
   {
    "duration": 1569,
    "start_time": "2024-10-16T12:58:46.643Z"
   },
   {
    "duration": 8,
    "start_time": "2024-10-16T12:58:48.214Z"
   },
   {
    "duration": 16,
    "start_time": "2024-10-16T12:58:48.224Z"
   },
   {
    "duration": 13,
    "start_time": "2024-10-16T12:58:48.242Z"
   },
   {
    "duration": 13,
    "start_time": "2024-10-16T12:58:48.256Z"
   },
   {
    "duration": 7,
    "start_time": "2024-10-16T12:58:48.272Z"
   },
   {
    "duration": 15,
    "start_time": "2024-10-16T12:58:48.280Z"
   },
   {
    "duration": 64,
    "start_time": "2024-10-16T12:58:48.296Z"
   },
   {
    "duration": 11,
    "start_time": "2024-10-16T12:58:48.362Z"
   },
   {
    "duration": 11,
    "start_time": "2024-10-16T12:58:48.375Z"
   },
   {
    "duration": 40,
    "start_time": "2024-10-16T12:58:48.388Z"
   },
   {
    "duration": 29,
    "start_time": "2024-10-16T12:58:48.431Z"
   },
   {
    "duration": 11,
    "start_time": "2024-10-16T12:58:48.462Z"
   },
   {
    "duration": 8,
    "start_time": "2024-10-16T12:58:48.474Z"
   },
   {
    "duration": 11,
    "start_time": "2024-10-16T12:58:48.483Z"
   },
   {
    "duration": 12,
    "start_time": "2024-10-16T12:58:48.495Z"
   },
   {
    "duration": 10,
    "start_time": "2024-10-16T12:58:48.508Z"
   },
   {
    "duration": 10,
    "start_time": "2024-10-16T12:58:48.519Z"
   },
   {
    "duration": 18,
    "start_time": "2024-10-16T12:58:48.530Z"
   },
   {
    "duration": 5,
    "start_time": "2024-10-16T12:58:48.549Z"
   },
   {
    "duration": 18,
    "start_time": "2024-10-16T12:58:48.555Z"
   },
   {
    "duration": 15,
    "start_time": "2024-10-16T12:58:48.574Z"
   },
   {
    "duration": 230,
    "start_time": "2024-10-16T12:58:48.591Z"
   },
   {
    "duration": 12,
    "start_time": "2024-10-16T12:58:48.825Z"
   },
   {
    "duration": 35,
    "start_time": "2024-10-16T12:58:48.838Z"
   },
   {
    "duration": 5,
    "start_time": "2024-10-16T12:58:48.875Z"
   },
   {
    "duration": 7,
    "start_time": "2024-10-16T12:58:48.881Z"
   },
   {
    "duration": 6,
    "start_time": "2024-10-16T12:58:48.890Z"
   },
   {
    "duration": 355,
    "start_time": "2024-10-16T12:58:48.898Z"
   },
   {
    "duration": 7,
    "start_time": "2024-10-16T12:58:49.257Z"
   },
   {
    "duration": 18,
    "start_time": "2024-10-16T12:58:49.265Z"
   },
   {
    "duration": 10,
    "start_time": "2024-10-16T12:58:49.284Z"
   },
   {
    "duration": 205,
    "start_time": "2024-10-16T12:58:49.295Z"
   },
   {
    "duration": 8,
    "start_time": "2024-10-16T12:58:49.502Z"
   },
   {
    "duration": 289,
    "start_time": "2024-10-16T12:58:49.511Z"
   },
   {
    "duration": 8,
    "start_time": "2024-10-16T12:58:49.801Z"
   },
   {
    "duration": 264,
    "start_time": "2024-10-16T12:58:49.811Z"
   },
   {
    "duration": 7,
    "start_time": "2024-10-16T12:58:50.077Z"
   },
   {
    "duration": 179,
    "start_time": "2024-10-16T12:58:50.085Z"
   },
   {
    "duration": 9,
    "start_time": "2024-10-16T12:58:50.265Z"
   },
   {
    "duration": 195,
    "start_time": "2024-10-16T12:58:50.275Z"
   },
   {
    "duration": 8,
    "start_time": "2024-10-16T12:58:50.472Z"
   },
   {
    "duration": 184,
    "start_time": "2024-10-16T12:58:50.481Z"
   },
   {
    "duration": 155,
    "start_time": "2024-10-16T12:58:50.667Z"
   },
   {
    "duration": 8,
    "start_time": "2024-10-16T12:58:50.823Z"
   },
   {
    "duration": 172,
    "start_time": "2024-10-16T12:58:50.832Z"
   },
   {
    "duration": 8,
    "start_time": "2024-10-16T12:58:51.005Z"
   },
   {
    "duration": 218,
    "start_time": "2024-10-16T12:58:51.014Z"
   },
   {
    "duration": 8,
    "start_time": "2024-10-16T12:58:51.234Z"
   },
   {
    "duration": 297,
    "start_time": "2024-10-16T12:58:51.243Z"
   },
   {
    "duration": 16,
    "start_time": "2024-10-16T12:58:51.542Z"
   },
   {
    "duration": 227,
    "start_time": "2024-10-16T12:58:51.560Z"
   },
   {
    "duration": 30,
    "start_time": "2024-10-16T12:58:51.789Z"
   },
   {
    "duration": 230,
    "start_time": "2024-10-16T12:58:51.820Z"
   },
   {
    "duration": 156,
    "start_time": "2024-10-16T12:58:52.051Z"
   },
   {
    "duration": 168,
    "start_time": "2024-10-16T12:58:52.209Z"
   },
   {
    "duration": 134,
    "start_time": "2024-10-16T12:58:52.379Z"
   },
   {
    "duration": 132,
    "start_time": "2024-10-16T12:58:52.514Z"
   },
   {
    "duration": 173,
    "start_time": "2024-10-16T12:58:52.649Z"
   },
   {
    "duration": 142,
    "start_time": "2024-10-16T12:58:52.824Z"
   },
   {
    "duration": 132,
    "start_time": "2024-10-16T12:58:52.968Z"
   },
   {
    "duration": 21,
    "start_time": "2024-10-16T12:58:53.102Z"
   },
   {
    "duration": 59,
    "start_time": "2024-10-16T12:58:53.125Z"
   },
   {
    "duration": 232,
    "start_time": "2024-10-16T12:58:53.185Z"
   }
  ],
  "colab": {
   "provenance": []
  },
  "kernelspec": {
   "display_name": "Python 3 (ipykernel)",
   "language": "python",
   "name": "python3"
  },
  "language_info": {
   "codemirror_mode": {
    "name": "ipython",
    "version": 3
   },
   "file_extension": ".py",
   "mimetype": "text/x-python",
   "name": "python",
   "nbconvert_exporter": "python",
   "pygments_lexer": "ipython3",
   "version": "3.9.5"
  },
  "toc": {
   "base_numbering": 1,
   "nav_menu": {},
   "number_sections": true,
   "sideBar": true,
   "skip_h1_title": true,
   "title_cell": "Table of Contents",
   "title_sidebar": "Contents",
   "toc_cell": false,
   "toc_position": {
    "height": "calc(100% - 180px)",
    "left": "10px",
    "top": "150px",
    "width": "501px"
   },
   "toc_section_display": true,
   "toc_window_display": true
  }
 },
 "nbformat": 4,
 "nbformat_minor": 1
}
