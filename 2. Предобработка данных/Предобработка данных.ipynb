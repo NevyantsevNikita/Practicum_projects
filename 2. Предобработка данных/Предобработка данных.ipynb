{
 "cells": [
  {
   "cell_type": "markdown",
   "id": "386f2ae7",
   "metadata": {
    "deletable": false,
    "editable": false,
    "id": "386f2ae7"
   },
   "source": [
    "# Исследование надежности заемщиков\n"
   ]
  },
  {
   "cell_type": "markdown",
   "id": "ffe86f65",
   "metadata": {
    "deletable": false,
    "editable": false,
    "id": "ffe86f65"
   },
   "source": [
    "Во второй части проекта вы выполните шаги 3 и 4. Их вручную проверит ревьюер.\n",
    "Чтобы вам не пришлось писать код заново для шагов 1 и 2, мы добавили авторские решения в ячейки с кодом. \n",
    "\n"
   ]
  },
  {
   "cell_type": "markdown",
   "id": "26613308",
   "metadata": {
    "deletable": false,
    "editable": false,
    "id": "26613308"
   },
   "source": [
    "## Откройте таблицу и изучите общую информацию о данных"
   ]
  },
  {
   "cell_type": "markdown",
   "id": "3c9f838e",
   "metadata": {
    "deletable": false,
    "editable": false,
    "id": "3c9f838e"
   },
   "source": [
    "**Задание 1. Импортируйте библиотеку pandas. Считайте данные из csv-файла в датафрейм и сохраните в переменную `data`. Путь к файлу:**\n",
    "\n",
    "`/datasets/data.csv`"
   ]
  },
  {
   "cell_type": "code",
   "execution_count": 1,
   "id": "77a68a90",
   "metadata": {
    "deletable": false,
    "id": "77a68a90"
   },
   "outputs": [],
   "source": [
    "import pandas as pd\n",
    "\n",
    "try:\n",
    "    data = pd.read_csv('/datasets/data.csv')\n",
    "except:\n",
    "    data = pd.read_csv('https://code.s3.yandex.net/datasets/data.csv')"
   ]
  },
  {
   "cell_type": "markdown",
   "id": "45365635",
   "metadata": {
    "deletable": false,
    "editable": false,
    "id": "45365635"
   },
   "source": [
    "**Задание 2. Выведите первые 20 строчек датафрейма `data` на экран.**"
   ]
  },
  {
   "cell_type": "code",
   "execution_count": 2,
   "id": "b0451a9a",
   "metadata": {
    "deletable": false,
    "id": "b0451a9a",
    "outputId": "1a8f3ef2-d323-4ec2-ddf7-89670b5944c4"
   },
   "outputs": [
    {
     "data": {
      "text/html": [
       "<div>\n",
       "<style scoped>\n",
       "    .dataframe tbody tr th:only-of-type {\n",
       "        vertical-align: middle;\n",
       "    }\n",
       "\n",
       "    .dataframe tbody tr th {\n",
       "        vertical-align: top;\n",
       "    }\n",
       "\n",
       "    .dataframe thead th {\n",
       "        text-align: right;\n",
       "    }\n",
       "</style>\n",
       "<table border=\"1\" class=\"dataframe\">\n",
       "  <thead>\n",
       "    <tr style=\"text-align: right;\">\n",
       "      <th></th>\n",
       "      <th>children</th>\n",
       "      <th>days_employed</th>\n",
       "      <th>dob_years</th>\n",
       "      <th>education</th>\n",
       "      <th>education_id</th>\n",
       "      <th>family_status</th>\n",
       "      <th>family_status_id</th>\n",
       "      <th>gender</th>\n",
       "      <th>income_type</th>\n",
       "      <th>debt</th>\n",
       "      <th>total_income</th>\n",
       "      <th>purpose</th>\n",
       "    </tr>\n",
       "  </thead>\n",
       "  <tbody>\n",
       "    <tr>\n",
       "      <th>0</th>\n",
       "      <td>1</td>\n",
       "      <td>-8437.673028</td>\n",
       "      <td>42</td>\n",
       "      <td>высшее</td>\n",
       "      <td>0</td>\n",
       "      <td>женат / замужем</td>\n",
       "      <td>0</td>\n",
       "      <td>F</td>\n",
       "      <td>сотрудник</td>\n",
       "      <td>0</td>\n",
       "      <td>253875.639453</td>\n",
       "      <td>покупка жилья</td>\n",
       "    </tr>\n",
       "    <tr>\n",
       "      <th>1</th>\n",
       "      <td>1</td>\n",
       "      <td>-4024.803754</td>\n",
       "      <td>36</td>\n",
       "      <td>среднее</td>\n",
       "      <td>1</td>\n",
       "      <td>женат / замужем</td>\n",
       "      <td>0</td>\n",
       "      <td>F</td>\n",
       "      <td>сотрудник</td>\n",
       "      <td>0</td>\n",
       "      <td>112080.014102</td>\n",
       "      <td>приобретение автомобиля</td>\n",
       "    </tr>\n",
       "    <tr>\n",
       "      <th>2</th>\n",
       "      <td>0</td>\n",
       "      <td>-5623.422610</td>\n",
       "      <td>33</td>\n",
       "      <td>Среднее</td>\n",
       "      <td>1</td>\n",
       "      <td>женат / замужем</td>\n",
       "      <td>0</td>\n",
       "      <td>M</td>\n",
       "      <td>сотрудник</td>\n",
       "      <td>0</td>\n",
       "      <td>145885.952297</td>\n",
       "      <td>покупка жилья</td>\n",
       "    </tr>\n",
       "    <tr>\n",
       "      <th>3</th>\n",
       "      <td>3</td>\n",
       "      <td>-4124.747207</td>\n",
       "      <td>32</td>\n",
       "      <td>среднее</td>\n",
       "      <td>1</td>\n",
       "      <td>женат / замужем</td>\n",
       "      <td>0</td>\n",
       "      <td>M</td>\n",
       "      <td>сотрудник</td>\n",
       "      <td>0</td>\n",
       "      <td>267628.550329</td>\n",
       "      <td>дополнительное образование</td>\n",
       "    </tr>\n",
       "    <tr>\n",
       "      <th>4</th>\n",
       "      <td>0</td>\n",
       "      <td>340266.072047</td>\n",
       "      <td>53</td>\n",
       "      <td>среднее</td>\n",
       "      <td>1</td>\n",
       "      <td>гражданский брак</td>\n",
       "      <td>1</td>\n",
       "      <td>F</td>\n",
       "      <td>пенсионер</td>\n",
       "      <td>0</td>\n",
       "      <td>158616.077870</td>\n",
       "      <td>сыграть свадьбу</td>\n",
       "    </tr>\n",
       "    <tr>\n",
       "      <th>5</th>\n",
       "      <td>0</td>\n",
       "      <td>-926.185831</td>\n",
       "      <td>27</td>\n",
       "      <td>высшее</td>\n",
       "      <td>0</td>\n",
       "      <td>гражданский брак</td>\n",
       "      <td>1</td>\n",
       "      <td>M</td>\n",
       "      <td>компаньон</td>\n",
       "      <td>0</td>\n",
       "      <td>255763.565419</td>\n",
       "      <td>покупка жилья</td>\n",
       "    </tr>\n",
       "    <tr>\n",
       "      <th>6</th>\n",
       "      <td>0</td>\n",
       "      <td>-2879.202052</td>\n",
       "      <td>43</td>\n",
       "      <td>высшее</td>\n",
       "      <td>0</td>\n",
       "      <td>женат / замужем</td>\n",
       "      <td>0</td>\n",
       "      <td>F</td>\n",
       "      <td>компаньон</td>\n",
       "      <td>0</td>\n",
       "      <td>240525.971920</td>\n",
       "      <td>операции с жильем</td>\n",
       "    </tr>\n",
       "    <tr>\n",
       "      <th>7</th>\n",
       "      <td>0</td>\n",
       "      <td>-152.779569</td>\n",
       "      <td>50</td>\n",
       "      <td>СРЕДНЕЕ</td>\n",
       "      <td>1</td>\n",
       "      <td>женат / замужем</td>\n",
       "      <td>0</td>\n",
       "      <td>M</td>\n",
       "      <td>сотрудник</td>\n",
       "      <td>0</td>\n",
       "      <td>135823.934197</td>\n",
       "      <td>образование</td>\n",
       "    </tr>\n",
       "    <tr>\n",
       "      <th>8</th>\n",
       "      <td>2</td>\n",
       "      <td>-6929.865299</td>\n",
       "      <td>35</td>\n",
       "      <td>ВЫСШЕЕ</td>\n",
       "      <td>0</td>\n",
       "      <td>гражданский брак</td>\n",
       "      <td>1</td>\n",
       "      <td>F</td>\n",
       "      <td>сотрудник</td>\n",
       "      <td>0</td>\n",
       "      <td>95856.832424</td>\n",
       "      <td>на проведение свадьбы</td>\n",
       "    </tr>\n",
       "    <tr>\n",
       "      <th>9</th>\n",
       "      <td>0</td>\n",
       "      <td>-2188.756445</td>\n",
       "      <td>41</td>\n",
       "      <td>среднее</td>\n",
       "      <td>1</td>\n",
       "      <td>женат / замужем</td>\n",
       "      <td>0</td>\n",
       "      <td>M</td>\n",
       "      <td>сотрудник</td>\n",
       "      <td>0</td>\n",
       "      <td>144425.938277</td>\n",
       "      <td>покупка жилья для семьи</td>\n",
       "    </tr>\n",
       "    <tr>\n",
       "      <th>10</th>\n",
       "      <td>2</td>\n",
       "      <td>-4171.483647</td>\n",
       "      <td>36</td>\n",
       "      <td>высшее</td>\n",
       "      <td>0</td>\n",
       "      <td>женат / замужем</td>\n",
       "      <td>0</td>\n",
       "      <td>M</td>\n",
       "      <td>компаньон</td>\n",
       "      <td>0</td>\n",
       "      <td>113943.491460</td>\n",
       "      <td>покупка недвижимости</td>\n",
       "    </tr>\n",
       "    <tr>\n",
       "      <th>11</th>\n",
       "      <td>0</td>\n",
       "      <td>-792.701887</td>\n",
       "      <td>40</td>\n",
       "      <td>среднее</td>\n",
       "      <td>1</td>\n",
       "      <td>женат / замужем</td>\n",
       "      <td>0</td>\n",
       "      <td>F</td>\n",
       "      <td>сотрудник</td>\n",
       "      <td>0</td>\n",
       "      <td>77069.234271</td>\n",
       "      <td>покупка коммерческой недвижимости</td>\n",
       "    </tr>\n",
       "    <tr>\n",
       "      <th>12</th>\n",
       "      <td>0</td>\n",
       "      <td>NaN</td>\n",
       "      <td>65</td>\n",
       "      <td>среднее</td>\n",
       "      <td>1</td>\n",
       "      <td>гражданский брак</td>\n",
       "      <td>1</td>\n",
       "      <td>M</td>\n",
       "      <td>пенсионер</td>\n",
       "      <td>0</td>\n",
       "      <td>NaN</td>\n",
       "      <td>сыграть свадьбу</td>\n",
       "    </tr>\n",
       "    <tr>\n",
       "      <th>13</th>\n",
       "      <td>0</td>\n",
       "      <td>-1846.641941</td>\n",
       "      <td>54</td>\n",
       "      <td>неоконченное высшее</td>\n",
       "      <td>2</td>\n",
       "      <td>женат / замужем</td>\n",
       "      <td>0</td>\n",
       "      <td>F</td>\n",
       "      <td>сотрудник</td>\n",
       "      <td>0</td>\n",
       "      <td>130458.228857</td>\n",
       "      <td>приобретение автомобиля</td>\n",
       "    </tr>\n",
       "    <tr>\n",
       "      <th>14</th>\n",
       "      <td>0</td>\n",
       "      <td>-1844.956182</td>\n",
       "      <td>56</td>\n",
       "      <td>высшее</td>\n",
       "      <td>0</td>\n",
       "      <td>гражданский брак</td>\n",
       "      <td>1</td>\n",
       "      <td>F</td>\n",
       "      <td>компаньон</td>\n",
       "      <td>1</td>\n",
       "      <td>165127.911772</td>\n",
       "      <td>покупка жилой недвижимости</td>\n",
       "    </tr>\n",
       "    <tr>\n",
       "      <th>15</th>\n",
       "      <td>1</td>\n",
       "      <td>-972.364419</td>\n",
       "      <td>26</td>\n",
       "      <td>среднее</td>\n",
       "      <td>1</td>\n",
       "      <td>женат / замужем</td>\n",
       "      <td>0</td>\n",
       "      <td>F</td>\n",
       "      <td>сотрудник</td>\n",
       "      <td>0</td>\n",
       "      <td>116820.904450</td>\n",
       "      <td>строительство собственной недвижимости</td>\n",
       "    </tr>\n",
       "    <tr>\n",
       "      <th>16</th>\n",
       "      <td>0</td>\n",
       "      <td>-1719.934226</td>\n",
       "      <td>35</td>\n",
       "      <td>среднее</td>\n",
       "      <td>1</td>\n",
       "      <td>женат / замужем</td>\n",
       "      <td>0</td>\n",
       "      <td>F</td>\n",
       "      <td>сотрудник</td>\n",
       "      <td>0</td>\n",
       "      <td>289202.704229</td>\n",
       "      <td>недвижимость</td>\n",
       "    </tr>\n",
       "    <tr>\n",
       "      <th>17</th>\n",
       "      <td>0</td>\n",
       "      <td>-2369.999720</td>\n",
       "      <td>33</td>\n",
       "      <td>высшее</td>\n",
       "      <td>0</td>\n",
       "      <td>гражданский брак</td>\n",
       "      <td>1</td>\n",
       "      <td>M</td>\n",
       "      <td>сотрудник</td>\n",
       "      <td>0</td>\n",
       "      <td>90410.586745</td>\n",
       "      <td>строительство недвижимости</td>\n",
       "    </tr>\n",
       "    <tr>\n",
       "      <th>18</th>\n",
       "      <td>0</td>\n",
       "      <td>400281.136913</td>\n",
       "      <td>53</td>\n",
       "      <td>среднее</td>\n",
       "      <td>1</td>\n",
       "      <td>вдовец / вдова</td>\n",
       "      <td>2</td>\n",
       "      <td>F</td>\n",
       "      <td>пенсионер</td>\n",
       "      <td>0</td>\n",
       "      <td>56823.777243</td>\n",
       "      <td>на покупку подержанного автомобиля</td>\n",
       "    </tr>\n",
       "    <tr>\n",
       "      <th>19</th>\n",
       "      <td>0</td>\n",
       "      <td>-10038.818549</td>\n",
       "      <td>48</td>\n",
       "      <td>СРЕДНЕЕ</td>\n",
       "      <td>1</td>\n",
       "      <td>в разводе</td>\n",
       "      <td>3</td>\n",
       "      <td>F</td>\n",
       "      <td>сотрудник</td>\n",
       "      <td>0</td>\n",
       "      <td>242831.107982</td>\n",
       "      <td>на покупку своего автомобиля</td>\n",
       "    </tr>\n",
       "  </tbody>\n",
       "</table>\n",
       "</div>"
      ],
      "text/plain": [
       "    children  days_employed  dob_years            education  education_id  \\\n",
       "0          1   -8437.673028         42               высшее             0   \n",
       "1          1   -4024.803754         36              среднее             1   \n",
       "2          0   -5623.422610         33              Среднее             1   \n",
       "3          3   -4124.747207         32              среднее             1   \n",
       "4          0  340266.072047         53              среднее             1   \n",
       "5          0    -926.185831         27               высшее             0   \n",
       "6          0   -2879.202052         43               высшее             0   \n",
       "7          0    -152.779569         50              СРЕДНЕЕ             1   \n",
       "8          2   -6929.865299         35               ВЫСШЕЕ             0   \n",
       "9          0   -2188.756445         41              среднее             1   \n",
       "10         2   -4171.483647         36               высшее             0   \n",
       "11         0    -792.701887         40              среднее             1   \n",
       "12         0            NaN         65              среднее             1   \n",
       "13         0   -1846.641941         54  неоконченное высшее             2   \n",
       "14         0   -1844.956182         56               высшее             0   \n",
       "15         1    -972.364419         26              среднее             1   \n",
       "16         0   -1719.934226         35              среднее             1   \n",
       "17         0   -2369.999720         33               высшее             0   \n",
       "18         0  400281.136913         53              среднее             1   \n",
       "19         0  -10038.818549         48              СРЕДНЕЕ             1   \n",
       "\n",
       "       family_status  family_status_id gender income_type  debt  \\\n",
       "0    женат / замужем                 0      F   сотрудник     0   \n",
       "1    женат / замужем                 0      F   сотрудник     0   \n",
       "2    женат / замужем                 0      M   сотрудник     0   \n",
       "3    женат / замужем                 0      M   сотрудник     0   \n",
       "4   гражданский брак                 1      F   пенсионер     0   \n",
       "5   гражданский брак                 1      M   компаньон     0   \n",
       "6    женат / замужем                 0      F   компаньон     0   \n",
       "7    женат / замужем                 0      M   сотрудник     0   \n",
       "8   гражданский брак                 1      F   сотрудник     0   \n",
       "9    женат / замужем                 0      M   сотрудник     0   \n",
       "10   женат / замужем                 0      M   компаньон     0   \n",
       "11   женат / замужем                 0      F   сотрудник     0   \n",
       "12  гражданский брак                 1      M   пенсионер     0   \n",
       "13   женат / замужем                 0      F   сотрудник     0   \n",
       "14  гражданский брак                 1      F   компаньон     1   \n",
       "15   женат / замужем                 0      F   сотрудник     0   \n",
       "16   женат / замужем                 0      F   сотрудник     0   \n",
       "17  гражданский брак                 1      M   сотрудник     0   \n",
       "18    вдовец / вдова                 2      F   пенсионер     0   \n",
       "19         в разводе                 3      F   сотрудник     0   \n",
       "\n",
       "     total_income                                 purpose  \n",
       "0   253875.639453                           покупка жилья  \n",
       "1   112080.014102                 приобретение автомобиля  \n",
       "2   145885.952297                           покупка жилья  \n",
       "3   267628.550329              дополнительное образование  \n",
       "4   158616.077870                         сыграть свадьбу  \n",
       "5   255763.565419                           покупка жилья  \n",
       "6   240525.971920                       операции с жильем  \n",
       "7   135823.934197                             образование  \n",
       "8    95856.832424                   на проведение свадьбы  \n",
       "9   144425.938277                 покупка жилья для семьи  \n",
       "10  113943.491460                    покупка недвижимости  \n",
       "11   77069.234271       покупка коммерческой недвижимости  \n",
       "12            NaN                         сыграть свадьбу  \n",
       "13  130458.228857                 приобретение автомобиля  \n",
       "14  165127.911772              покупка жилой недвижимости  \n",
       "15  116820.904450  строительство собственной недвижимости  \n",
       "16  289202.704229                            недвижимость  \n",
       "17   90410.586745              строительство недвижимости  \n",
       "18   56823.777243      на покупку подержанного автомобиля  \n",
       "19  242831.107982            на покупку своего автомобиля  "
      ]
     },
     "execution_count": 2,
     "metadata": {},
     "output_type": "execute_result"
    }
   ],
   "source": [
    "data.head(20)"
   ]
  },
  {
   "cell_type": "markdown",
   "id": "0ed8f27f",
   "metadata": {
    "deletable": false,
    "editable": false,
    "id": "0ed8f27f"
   },
   "source": [
    "**Задание 3. Выведите основную информацию о датафрейме с помощью метода `info()`.**"
   ]
  },
  {
   "cell_type": "code",
   "execution_count": 3,
   "id": "ab3f863b",
   "metadata": {
    "deletable": false,
    "id": "ab3f863b",
    "outputId": "15376089-8dad-46c9-b520-c05248d43158"
   },
   "outputs": [
    {
     "name": "stdout",
     "output_type": "stream",
     "text": [
      "<class 'pandas.core.frame.DataFrame'>\n",
      "RangeIndex: 21525 entries, 0 to 21524\n",
      "Data columns (total 12 columns):\n",
      " #   Column            Non-Null Count  Dtype  \n",
      "---  ------            --------------  -----  \n",
      " 0   children          21525 non-null  int64  \n",
      " 1   days_employed     19351 non-null  float64\n",
      " 2   dob_years         21525 non-null  int64  \n",
      " 3   education         21525 non-null  object \n",
      " 4   education_id      21525 non-null  int64  \n",
      " 5   family_status     21525 non-null  object \n",
      " 6   family_status_id  21525 non-null  int64  \n",
      " 7   gender            21525 non-null  object \n",
      " 8   income_type       21525 non-null  object \n",
      " 9   debt              21525 non-null  int64  \n",
      " 10  total_income      19351 non-null  float64\n",
      " 11  purpose           21525 non-null  object \n",
      "dtypes: float64(2), int64(5), object(5)\n",
      "memory usage: 2.0+ MB\n"
     ]
    }
   ],
   "source": [
    "data.info()"
   ]
  },
  {
   "cell_type": "markdown",
   "id": "60e3e22d",
   "metadata": {
    "deletable": false,
    "editable": false,
    "id": "60e3e22d"
   },
   "source": [
    "## Предобработка данных"
   ]
  },
  {
   "cell_type": "markdown",
   "id": "03dc170c",
   "metadata": {
    "deletable": false,
    "editable": false,
    "id": "03dc170c"
   },
   "source": [
    "### Удаление пропусков"
   ]
  },
  {
   "cell_type": "markdown",
   "id": "a4f54eef",
   "metadata": {
    "deletable": false,
    "editable": false,
    "id": "a4f54eef"
   },
   "source": [
    "**Задание 4. Выведите количество пропущенных значений для каждого столбца. Используйте комбинацию двух методов.**"
   ]
  },
  {
   "cell_type": "code",
   "execution_count": 4,
   "id": "2dc372b2",
   "metadata": {
    "deletable": false,
    "id": "2dc372b2",
    "outputId": "81f4d817-781c-465c-ed15-91ce4446810d"
   },
   "outputs": [
    {
     "data": {
      "text/plain": [
       "children               0\n",
       "days_employed       2174\n",
       "dob_years              0\n",
       "education              0\n",
       "education_id           0\n",
       "family_status          0\n",
       "family_status_id       0\n",
       "gender                 0\n",
       "income_type            0\n",
       "debt                   0\n",
       "total_income        2174\n",
       "purpose                0\n",
       "dtype: int64"
      ]
     },
     "execution_count": 4,
     "metadata": {},
     "output_type": "execute_result"
    }
   ],
   "source": [
    "data.isna().sum()"
   ]
  },
  {
   "cell_type": "markdown",
   "id": "14f011b1",
   "metadata": {
    "deletable": false,
    "editable": false,
    "id": "14f011b1"
   },
   "source": [
    "**Задание 5. В двух столбцах есть пропущенные значения. Один из них — `days_employed`. Пропуски в этом столбце вы обработаете на следующем этапе. Другой столбец с пропущенными значениями — `total_income` — хранит данные о доходах. На сумму дохода сильнее всего влияет тип занятости, поэтому заполнить пропуски в этом столбце нужно медианным значением по каждому типу из столбца `income_type`. Например, у человека с типом занятости `сотрудник` пропуск в столбце `total_income` должен быть заполнен медианным доходом среди всех записей с тем же типом.**"
   ]
  },
  {
   "cell_type": "code",
   "execution_count": 5,
   "id": "bdabfb6e",
   "metadata": {
    "deletable": false,
    "id": "bdabfb6e"
   },
   "outputs": [],
   "source": [
    "for t in data['income_type'].unique():\n",
    "    data.loc[(data['income_type'] == t) & (data['total_income'].isna()), 'total_income'] = \\\n",
    "    data.loc[(data['income_type'] == t), 'total_income'].median()"
   ]
  },
  {
   "cell_type": "markdown",
   "id": "5be34059",
   "metadata": {
    "deletable": false,
    "editable": false,
    "id": "5be34059"
   },
   "source": [
    "### Обработка аномальных значений"
   ]
  },
  {
   "cell_type": "markdown",
   "id": "a87606cb",
   "metadata": {
    "deletable": false,
    "editable": false,
    "id": "a87606cb"
   },
   "source": [
    "**Задание 6. В данных могут встречаться артефакты (аномалии) — значения, которые не отражают действительность и появились по какой-то ошибке. таким артефактом будет отрицательное количество дней трудового стажа в столбце `days_employed`. Для реальных данных это нормально. Обработайте значения в этом столбце: замените все отрицательные значения положительными с помощью метода `abs()`.**"
   ]
  },
  {
   "cell_type": "code",
   "execution_count": 6,
   "id": "020c46cc",
   "metadata": {
    "deletable": false,
    "id": "020c46cc"
   },
   "outputs": [],
   "source": [
    "data['days_employed'] = data['days_employed'].abs()"
   ]
  },
  {
   "cell_type": "markdown",
   "id": "45538a3a",
   "metadata": {
    "deletable": false,
    "editable": false,
    "id": "45538a3a"
   },
   "source": [
    "**Задание 7. Для каждого типа занятости выведите медианное значение трудового стажа `days_employed` в днях.**"
   ]
  },
  {
   "cell_type": "code",
   "execution_count": 7,
   "id": "cd3e6328",
   "metadata": {
    "deletable": false,
    "id": "cd3e6328",
    "outputId": "801ef80e-522b-4668-f34e-565af7432bcf"
   },
   "outputs": [
    {
     "data": {
      "text/plain": [
       "income_type\n",
       "безработный        366413.652744\n",
       "в декрете            3296.759962\n",
       "госслужащий          2689.368353\n",
       "компаньон            1547.382223\n",
       "пенсионер          365213.306266\n",
       "предприниматель       520.848083\n",
       "сотрудник            1574.202821\n",
       "студент               578.751554\n",
       "Name: days_employed, dtype: float64"
      ]
     },
     "execution_count": 7,
     "metadata": {},
     "output_type": "execute_result"
    }
   ],
   "source": [
    "data.groupby('income_type')['days_employed'].agg('median')"
   ]
  },
  {
   "cell_type": "markdown",
   "id": "90c5f058",
   "metadata": {
    "deletable": false,
    "editable": false,
    "id": "90c5f058"
   },
   "source": [
    "У двух типов (безработные и пенсионеры) получатся аномально большие значения. Исправить такие значения сложно, поэтому оставьте их как есть."
   ]
  },
  {
   "cell_type": "markdown",
   "id": "9652e50d",
   "metadata": {
    "deletable": false,
    "editable": false,
    "id": "9652e50d"
   },
   "source": [
    "**Задание 8. Выведите перечень уникальных значений столбца `children`.**"
   ]
  },
  {
   "cell_type": "code",
   "execution_count": 8,
   "id": "dbb37b8e",
   "metadata": {
    "deletable": false,
    "id": "dbb37b8e",
    "outputId": "6975b15c-7f95-4697-d16d-a0c79b657b03"
   },
   "outputs": [
    {
     "data": {
      "text/plain": [
       "array([ 1,  0,  3,  2, -1,  4, 20,  5])"
      ]
     },
     "execution_count": 8,
     "metadata": {},
     "output_type": "execute_result"
    }
   ],
   "source": [
    "data['children'].unique()"
   ]
  },
  {
   "cell_type": "markdown",
   "id": "2b8b0715",
   "metadata": {
    "deletable": false,
    "editable": false,
    "id": "2b8b0715"
   },
   "source": [
    "**Задание 9. В столбце `children` есть два аномальных значения. Удалите строки, в которых встречаются такие аномальные значения из датафрейма `data`.**"
   ]
  },
  {
   "cell_type": "code",
   "execution_count": 9,
   "id": "20009df8",
   "metadata": {
    "deletable": false,
    "id": "20009df8"
   },
   "outputs": [],
   "source": [
    "data = data[(data['children'] != -1) & (data['children'] != 20)]"
   ]
  },
  {
   "cell_type": "markdown",
   "id": "8c6ac9f1",
   "metadata": {
    "deletable": false,
    "editable": false,
    "id": "8c6ac9f1"
   },
   "source": [
    "**Задание 10. Ещё раз выведите перечень уникальных значений столбца `children`, чтобы убедиться, что артефакты удалены.**"
   ]
  },
  {
   "cell_type": "code",
   "execution_count": 10,
   "id": "07337b81",
   "metadata": {
    "deletable": false,
    "id": "07337b81",
    "outputId": "b2097101-d49d-44d9-901b-32a65c9463d1"
   },
   "outputs": [
    {
     "data": {
      "text/plain": [
       "array([1, 0, 3, 2, 4, 5])"
      ]
     },
     "execution_count": 10,
     "metadata": {},
     "output_type": "execute_result"
    }
   ],
   "source": [
    "data['children'].unique()"
   ]
  },
  {
   "cell_type": "markdown",
   "id": "ee3f52d4",
   "metadata": {
    "deletable": false,
    "editable": false,
    "id": "ee3f52d4"
   },
   "source": [
    "### Удаление пропусков (продолжение)"
   ]
  },
  {
   "cell_type": "markdown",
   "id": "a700b0e4",
   "metadata": {
    "deletable": false,
    "editable": false,
    "id": "a700b0e4"
   },
   "source": [
    "**Задание 11. Заполните пропуски в столбце `days_employed` медианными значениями по каждого типа занятости `income_type`.**"
   ]
  },
  {
   "cell_type": "code",
   "execution_count": 11,
   "id": "61946b83",
   "metadata": {
    "deletable": false,
    "id": "61946b83"
   },
   "outputs": [],
   "source": [
    "for t in data['income_type'].unique():\n",
    "    data.loc[(data['income_type'] == t) & (data['days_employed'].isna()), 'days_employed'] = \\\n",
    "    data.loc[(data['income_type'] == t), 'days_employed'].median()"
   ]
  },
  {
   "cell_type": "markdown",
   "id": "550dcd9b",
   "metadata": {
    "deletable": false,
    "editable": false,
    "id": "550dcd9b"
   },
   "source": [
    "**Задание 12. Убедитесь, что все пропуски заполнены. Проверьте себя и ещё раз выведите количество пропущенных значений для каждого столбца с помощью двух методов.**"
   ]
  },
  {
   "cell_type": "code",
   "execution_count": 12,
   "id": "937c7014",
   "metadata": {
    "deletable": false,
    "id": "937c7014",
    "outputId": "8da1e4e1-358e-4e87-98c9-f261bce0a7b2"
   },
   "outputs": [
    {
     "data": {
      "text/plain": [
       "children            0\n",
       "days_employed       0\n",
       "dob_years           0\n",
       "education           0\n",
       "education_id        0\n",
       "family_status       0\n",
       "family_status_id    0\n",
       "gender              0\n",
       "income_type         0\n",
       "debt                0\n",
       "total_income        0\n",
       "purpose             0\n",
       "dtype: int64"
      ]
     },
     "execution_count": 12,
     "metadata": {},
     "output_type": "execute_result"
    }
   ],
   "source": [
    "data.isna().sum()"
   ]
  },
  {
   "cell_type": "markdown",
   "id": "d522e295",
   "metadata": {
    "deletable": false,
    "editable": false,
    "id": "d522e295"
   },
   "source": [
    "### Изменение типов данных"
   ]
  },
  {
   "cell_type": "markdown",
   "id": "c229c581",
   "metadata": {
    "deletable": false,
    "editable": false,
    "id": "c229c581"
   },
   "source": [
    "**Задание 13. Замените вещественный тип данных в столбце `total_income` на целочисленный с помощью метода `astype()`.**"
   ]
  },
  {
   "cell_type": "code",
   "execution_count": 13,
   "id": "31036462",
   "metadata": {
    "deletable": false,
    "id": "31036462"
   },
   "outputs": [],
   "source": [
    "data['total_income'] = data['total_income'].astype(int)"
   ]
  },
  {
   "cell_type": "markdown",
   "id": "b8e3d1d9",
   "metadata": {
    "deletable": false,
    "editable": false,
    "id": "b8e3d1d9"
   },
   "source": [
    "### Обработка дубликатов"
   ]
  },
  {
   "cell_type": "markdown",
   "id": "9be53c49",
   "metadata": {
    "deletable": false,
    "editable": false,
    "id": "9be53c49"
   },
   "source": [
    "**Задание 14. Обработайте неявные дубликаты в столбце `education`. В этом столбце есть одни и те же значения, но записанные по-разному: с использованием заглавных и строчных букв. Приведите их к нижнему регистру.**"
   ]
  },
  {
   "cell_type": "code",
   "execution_count": 14,
   "id": "d89e73e1",
   "metadata": {
    "deletable": false,
    "id": "d89e73e1"
   },
   "outputs": [],
   "source": [
    "data['education'] = data['education'].str.lower()"
   ]
  },
  {
   "cell_type": "markdown",
   "id": "01d4500e",
   "metadata": {
    "deletable": false,
    "editable": false,
    "id": "01d4500e"
   },
   "source": [
    "**Задание 15. Выведите на экран количество строк-дубликатов в данных. Если такие строки присутствуют, удалите их.**"
   ]
  },
  {
   "cell_type": "code",
   "execution_count": 15,
   "id": "e10efb23",
   "metadata": {
    "deletable": false,
    "id": "e10efb23",
    "outputId": "9684deba-1934-42d1-99e1-cda61740f822"
   },
   "outputs": [
    {
     "data": {
      "text/plain": [
       "71"
      ]
     },
     "execution_count": 15,
     "metadata": {},
     "output_type": "execute_result"
    }
   ],
   "source": [
    "data.duplicated().sum()"
   ]
  },
  {
   "cell_type": "code",
   "execution_count": 16,
   "id": "df853f20",
   "metadata": {
    "deletable": false,
    "id": "df853f20"
   },
   "outputs": [],
   "source": [
    "data = data.drop_duplicates()"
   ]
  },
  {
   "cell_type": "markdown",
   "id": "627be38f",
   "metadata": {
    "deletable": false,
    "editable": false,
    "id": "627be38f"
   },
   "source": [
    "### Категоризация данных"
   ]
  },
  {
   "cell_type": "markdown",
   "id": "4684c3e0",
   "metadata": {
    "deletable": false,
    "editable": false,
    "id": "4684c3e0"
   },
   "source": [
    "**Задание 16. На основании диапазонов, указанных ниже, создайте в датафрейме `data` столбец `total_income_category` с категориями:**\n",
    "\n",
    "- 0–30000 — `'E'`;\n",
    "- 30001–50000 — `'D'`;\n",
    "- 50001–200000 — `'C'`;\n",
    "- 200001–1000000 — `'B'`;\n",
    "- 1000001 и выше — `'A'`.\n",
    "\n",
    "\n",
    "**Например, кредитополучателю с доходом 25000 нужно назначить категорию `'E'`, а клиенту, получающему 235000, — `'B'`. Используйте собственную функцию с именем `categorize_income()` и метод `apply()`.**"
   ]
  },
  {
   "cell_type": "code",
   "execution_count": 17,
   "id": "78965238",
   "metadata": {
    "deletable": false,
    "id": "78965238"
   },
   "outputs": [],
   "source": [
    "def categorize_income(income):\n",
    "    try:\n",
    "        if 0 <= income <= 30000:\n",
    "            return 'E'\n",
    "        elif 30001 <= income <= 50000:\n",
    "            return 'D'\n",
    "        elif 50001 <= income <= 200000:\n",
    "            return 'C'\n",
    "        elif 200001 <= income <= 1000000:\n",
    "            return 'B'\n",
    "        elif income >= 1000001:\n",
    "            return 'A'\n",
    "    except:\n",
    "        pass"
   ]
  },
  {
   "cell_type": "code",
   "execution_count": 18,
   "id": "0980ada1",
   "metadata": {
    "deletable": false,
    "id": "0980ada1"
   },
   "outputs": [],
   "source": [
    "data['total_income_category'] = data['total_income'].apply(categorize_income)"
   ]
  },
  {
   "cell_type": "markdown",
   "id": "9917bba0",
   "metadata": {
    "deletable": false,
    "editable": false,
    "id": "9917bba0"
   },
   "source": [
    "**Задание 17. Выведите на экран перечень уникальных целей взятия кредита из столбца `purpose`.**"
   ]
  },
  {
   "cell_type": "code",
   "execution_count": 19,
   "id": "ee07b65e",
   "metadata": {
    "deletable": false,
    "id": "ee07b65e",
    "outputId": "673c12d9-7d7e-4ae0-9812-c622c89dd244"
   },
   "outputs": [
    {
     "data": {
      "text/plain": [
       "array(['покупка жилья', 'приобретение автомобиля',\n",
       "       'дополнительное образование', 'сыграть свадьбу',\n",
       "       'операции с жильем', 'образование', 'на проведение свадьбы',\n",
       "       'покупка жилья для семьи', 'покупка недвижимости',\n",
       "       'покупка коммерческой недвижимости', 'покупка жилой недвижимости',\n",
       "       'строительство собственной недвижимости', 'недвижимость',\n",
       "       'строительство недвижимости', 'на покупку подержанного автомобиля',\n",
       "       'на покупку своего автомобиля',\n",
       "       'операции с коммерческой недвижимостью',\n",
       "       'строительство жилой недвижимости', 'жилье',\n",
       "       'операции со своей недвижимостью', 'автомобили',\n",
       "       'заняться образованием', 'сделка с подержанным автомобилем',\n",
       "       'получение образования', 'автомобиль', 'свадьба',\n",
       "       'получение дополнительного образования', 'покупка своего жилья',\n",
       "       'операции с недвижимостью', 'получение высшего образования',\n",
       "       'свой автомобиль', 'сделка с автомобилем',\n",
       "       'профильное образование', 'высшее образование',\n",
       "       'покупка жилья для сдачи', 'на покупку автомобиля', 'ремонт жилью',\n",
       "       'заняться высшим образованием'], dtype=object)"
      ]
     },
     "execution_count": 19,
     "metadata": {},
     "output_type": "execute_result"
    }
   ],
   "source": [
    "data['purpose'].unique()"
   ]
  },
  {
   "cell_type": "markdown",
   "id": "52b79d56",
   "metadata": {
    "deletable": false,
    "editable": false,
    "id": "52b79d56"
   },
   "source": [
    "**Задание 18. Создайте функцию, которая на основании данных из столбца `purpose` сформирует новый столбец `purpose_category`, в который войдут следующие категории:**\n",
    "\n",
    "- `'операции с автомобилем'`,\n",
    "- `'операции с недвижимостью'`,\n",
    "- `'проведение свадьбы'`,\n",
    "- `'получение образования'`.\n",
    "\n",
    "**Например, если в столбце `purpose` находится подстрока `'на покупку автомобиля'`, то в столбце `purpose_category` должна появиться строка `'операции с автомобилем'`.**\n",
    "\n",
    "**Используйте собственную функцию с именем `categorize_purpose()` и метод `apply()`. Изучите данные в столбце `purpose` и определите, какие подстроки помогут вам правильно определить категорию.**"
   ]
  },
  {
   "cell_type": "code",
   "execution_count": 20,
   "id": "be41da5d",
   "metadata": {
    "deletable": false,
    "id": "be41da5d"
   },
   "outputs": [],
   "source": [
    "def categorize_purpose(row):\n",
    "    try:\n",
    "        if 'автом' in row:\n",
    "            return 'операции с автомобилем'\n",
    "        elif 'жил' in row or 'недвиж' in row:\n",
    "            return 'операции с недвижимостью'\n",
    "        elif 'свад' in row:\n",
    "            return 'проведение свадьбы'\n",
    "        elif 'образов' in row:\n",
    "            return 'получение образования'\n",
    "    except:\n",
    "        return 'нет категории'"
   ]
  },
  {
   "cell_type": "code",
   "execution_count": 21,
   "id": "94c4a19a",
   "metadata": {
    "deletable": false,
    "id": "94c4a19a"
   },
   "outputs": [],
   "source": [
    "data['purpose_category'] = data['purpose'].apply(categorize_purpose)"
   ]
  },
  {
   "cell_type": "markdown",
   "id": "3d596c34",
   "metadata": {
    "deletable": false,
    "editable": false,
    "id": "3d596c34"
   },
   "source": [
    "### Шаг 3. Исследуйте данные и ответьте на вопросы"
   ]
  },
  {
   "cell_type": "markdown",
   "id": "648db036",
   "metadata": {
    "deletable": false,
    "editable": false,
    "id": "648db036"
   },
   "source": [
    "#### 3.1 Есть ли зависимость между количеством детей и возвратом кредита в срок?"
   ]
  },
  {
   "cell_type": "code",
   "execution_count": 22,
   "id": "b58c48ea",
   "metadata": {},
   "outputs": [],
   "source": [
    "#функция преобразования среднего значения в %\n",
    "def percent_mean(m):\n",
    "    return '{:.3%}'.format(m.mean())"
   ]
  },
  {
   "cell_type": "code",
   "execution_count": 23,
   "id": "7fcff25e",
   "metadata": {
    "deletable": false,
    "id": "7fcff25e"
   },
   "outputs": [
    {
     "data": {
      "text/html": [
       "<div>\n",
       "<style scoped>\n",
       "    .dataframe tbody tr th:only-of-type {\n",
       "        vertical-align: middle;\n",
       "    }\n",
       "\n",
       "    .dataframe tbody tr th {\n",
       "        vertical-align: top;\n",
       "    }\n",
       "\n",
       "    .dataframe thead th {\n",
       "        text-align: right;\n",
       "    }\n",
       "</style>\n",
       "<table border=\"1\" class=\"dataframe\">\n",
       "  <thead>\n",
       "    <tr style=\"text-align: right;\">\n",
       "      <th></th>\n",
       "      <th>count</th>\n",
       "      <th>percent_mean</th>\n",
       "    </tr>\n",
       "    <tr>\n",
       "      <th>children</th>\n",
       "      <th></th>\n",
       "      <th></th>\n",
       "    </tr>\n",
       "  </thead>\n",
       "  <tbody>\n",
       "    <tr>\n",
       "      <th>5</th>\n",
       "      <td>9</td>\n",
       "      <td>0.000%</td>\n",
       "    </tr>\n",
       "    <tr>\n",
       "      <th>0</th>\n",
       "      <td>14091</td>\n",
       "      <td>7.544%</td>\n",
       "    </tr>\n",
       "    <tr>\n",
       "      <th>3</th>\n",
       "      <td>330</td>\n",
       "      <td>8.182%</td>\n",
       "    </tr>\n",
       "    <tr>\n",
       "      <th>1</th>\n",
       "      <td>4808</td>\n",
       "      <td>9.235%</td>\n",
       "    </tr>\n",
       "    <tr>\n",
       "      <th>2</th>\n",
       "      <td>2052</td>\n",
       "      <td>9.454%</td>\n",
       "    </tr>\n",
       "    <tr>\n",
       "      <th>4</th>\n",
       "      <td>41</td>\n",
       "      <td>9.756%</td>\n",
       "    </tr>\n",
       "  </tbody>\n",
       "</table>\n",
       "</div>"
      ],
      "text/plain": [
       "          count percent_mean\n",
       "children                    \n",
       "5             9       0.000%\n",
       "0         14091       7.544%\n",
       "3           330       8.182%\n",
       "1          4808       9.235%\n",
       "2          2052       9.454%\n",
       "4            41       9.756%"
      ]
     },
     "execution_count": 23,
     "metadata": {},
     "output_type": "execute_result"
    }
   ],
   "source": [
    "data.groupby('children')['debt'].agg(['count', percent_mean]).sort_values('percent_mean') \n",
    "# Ваш код будет здесь. Вы можете создавать новые ячейки."
   ]
  },
  {
   "cell_type": "markdown",
   "id": "2eb9088e",
   "metadata": {
    "deletable": false,
    "id": "2eb9088e"
   },
   "source": [
    "**Вывод:**\n",
    "\n",
    "Можно сделать вывод что есть зависимость между количеством детей и возвратом кредитов в срок. В семьях без детей самый низкий процент невозвратов по кредиту в срок, в то время как в семьях где есть дети процент выше (чем больше детей, тем выше процент просрочек). В семьях с 5 детьми сложно сделать однозначный вывод потому что таких семей взявших кредит очень мало."
   ]
  },
  {
   "cell_type": "markdown",
   "id": "74c9b3a7",
   "metadata": {
    "deletable": false,
    "editable": false,
    "id": "74c9b3a7"
   },
   "source": [
    "#### 3.2 Есть ли зависимость между семейным положением и возвратом кредита в срок?"
   ]
  },
  {
   "cell_type": "code",
   "execution_count": 24,
   "id": "8098ab3b",
   "metadata": {
    "deletable": false,
    "id": "8098ab3b"
   },
   "outputs": [
    {
     "data": {
      "text/html": [
       "<div>\n",
       "<style scoped>\n",
       "    .dataframe tbody tr th:only-of-type {\n",
       "        vertical-align: middle;\n",
       "    }\n",
       "\n",
       "    .dataframe tbody tr th {\n",
       "        vertical-align: top;\n",
       "    }\n",
       "\n",
       "    .dataframe thead th {\n",
       "        text-align: right;\n",
       "    }\n",
       "</style>\n",
       "<table border=\"1\" class=\"dataframe\">\n",
       "  <thead>\n",
       "    <tr style=\"text-align: right;\">\n",
       "      <th></th>\n",
       "      <th>count</th>\n",
       "      <th>percent_mean</th>\n",
       "    </tr>\n",
       "    <tr>\n",
       "      <th>family_status</th>\n",
       "      <th></th>\n",
       "      <th></th>\n",
       "    </tr>\n",
       "  </thead>\n",
       "  <tbody>\n",
       "    <tr>\n",
       "      <th>вдовец / вдова</th>\n",
       "      <td>951</td>\n",
       "      <td>6.625%</td>\n",
       "    </tr>\n",
       "    <tr>\n",
       "      <th>в разводе</th>\n",
       "      <td>1189</td>\n",
       "      <td>7.065%</td>\n",
       "    </tr>\n",
       "    <tr>\n",
       "      <th>женат / замужем</th>\n",
       "      <td>12261</td>\n",
       "      <td>7.561%</td>\n",
       "    </tr>\n",
       "    <tr>\n",
       "      <th>гражданский брак</th>\n",
       "      <td>4134</td>\n",
       "      <td>9.313%</td>\n",
       "    </tr>\n",
       "    <tr>\n",
       "      <th>Не женат / не замужем</th>\n",
       "      <td>2796</td>\n",
       "      <td>9.764%</td>\n",
       "    </tr>\n",
       "  </tbody>\n",
       "</table>\n",
       "</div>"
      ],
      "text/plain": [
       "                       count percent_mean\n",
       "family_status                            \n",
       "вдовец / вдова           951       6.625%\n",
       "в разводе               1189       7.065%\n",
       "женат / замужем        12261       7.561%\n",
       "гражданский брак        4134       9.313%\n",
       "Не женат / не замужем   2796       9.764%"
      ]
     },
     "execution_count": 24,
     "metadata": {},
     "output_type": "execute_result"
    }
   ],
   "source": [
    "data.groupby(['family_status'])['debt'].agg(['count', percent_mean]).sort_values('percent_mean')\n",
    "# Ваш код будет здесь. Вы можете создавать новые ячейки."
   ]
  },
  {
   "cell_type": "markdown",
   "id": "c389ca63",
   "metadata": {
    "deletable": false,
    "id": "c389ca63"
   },
   "source": [
    "**Вывод:** \n",
    "\n",
    "Зависимость между семейным положением и возвратом кредита в срок есть. У клиентов, которые не были в браке процент просрочки по кредиту выше, чем у тех кто находится или был в браке."
   ]
  },
  {
   "cell_type": "markdown",
   "id": "9529de68",
   "metadata": {
    "deletable": false,
    "editable": false,
    "id": "9529de68"
   },
   "source": [
    "#### 3.3 Есть ли зависимость между уровнем дохода и возвратом кредита в срок?"
   ]
  },
  {
   "cell_type": "code",
   "execution_count": 25,
   "id": "8787f44a",
   "metadata": {
    "deletable": false,
    "id": "8787f44a"
   },
   "outputs": [
    {
     "data": {
      "text/html": [
       "<div>\n",
       "<style scoped>\n",
       "    .dataframe tbody tr th:only-of-type {\n",
       "        vertical-align: middle;\n",
       "    }\n",
       "\n",
       "    .dataframe tbody tr th {\n",
       "        vertical-align: top;\n",
       "    }\n",
       "\n",
       "    .dataframe thead th {\n",
       "        text-align: right;\n",
       "    }\n",
       "</style>\n",
       "<table border=\"1\" class=\"dataframe\">\n",
       "  <thead>\n",
       "    <tr style=\"text-align: right;\">\n",
       "      <th></th>\n",
       "      <th>count</th>\n",
       "      <th>percent_mean</th>\n",
       "    </tr>\n",
       "    <tr>\n",
       "      <th>total_income_category</th>\n",
       "      <th></th>\n",
       "      <th></th>\n",
       "    </tr>\n",
       "  </thead>\n",
       "  <tbody>\n",
       "    <tr>\n",
       "      <th>D</th>\n",
       "      <td>349</td>\n",
       "      <td>6.017%</td>\n",
       "    </tr>\n",
       "    <tr>\n",
       "      <th>B</th>\n",
       "      <td>5014</td>\n",
       "      <td>7.060%</td>\n",
       "    </tr>\n",
       "    <tr>\n",
       "      <th>A</th>\n",
       "      <td>25</td>\n",
       "      <td>8.000%</td>\n",
       "    </tr>\n",
       "    <tr>\n",
       "      <th>C</th>\n",
       "      <td>15921</td>\n",
       "      <td>8.498%</td>\n",
       "    </tr>\n",
       "    <tr>\n",
       "      <th>E</th>\n",
       "      <td>22</td>\n",
       "      <td>9.091%</td>\n",
       "    </tr>\n",
       "  </tbody>\n",
       "</table>\n",
       "</div>"
      ],
      "text/plain": [
       "                       count percent_mean\n",
       "total_income_category                    \n",
       "D                        349       6.017%\n",
       "B                       5014       7.060%\n",
       "A                         25       8.000%\n",
       "C                      15921       8.498%\n",
       "E                         22       9.091%"
      ]
     },
     "execution_count": 25,
     "metadata": {},
     "output_type": "execute_result"
    }
   ],
   "source": [
    "data.groupby('total_income_category')['debt'].agg(['count', percent_mean]).sort_values('percent_mean') \n",
    "# Ваш код будет здесь. Вы можете создавать новые ячейки."
   ]
  },
  {
   "cell_type": "markdown",
   "id": "6dd14b57",
   "metadata": {
    "deletable": false,
    "id": "6dd14b57"
   },
   "source": [
    "**Вывод:** \n",
    "\n",
    "Сложно сказать наверняка о том зависит ли уровень дохода с возвратом кредитов в срок, потому что недостаточно информации из-за низкого размера групп (D, A и Е)."
   ]
  },
  {
   "cell_type": "markdown",
   "id": "1dcc9b12",
   "metadata": {
    "deletable": false,
    "editable": false,
    "id": "1dcc9b12"
   },
   "source": [
    "#### 3.4 Как разные цели кредита влияют на его возврат в срок?"
   ]
  },
  {
   "cell_type": "code",
   "execution_count": 26,
   "id": "c602bc8b",
   "metadata": {
    "deletable": false,
    "id": "c602bc8b"
   },
   "outputs": [
    {
     "data": {
      "text/html": [
       "<div>\n",
       "<style scoped>\n",
       "    .dataframe tbody tr th:only-of-type {\n",
       "        vertical-align: middle;\n",
       "    }\n",
       "\n",
       "    .dataframe tbody tr th {\n",
       "        vertical-align: top;\n",
       "    }\n",
       "\n",
       "    .dataframe thead th {\n",
       "        text-align: right;\n",
       "    }\n",
       "</style>\n",
       "<table border=\"1\" class=\"dataframe\">\n",
       "  <thead>\n",
       "    <tr style=\"text-align: right;\">\n",
       "      <th></th>\n",
       "      <th>count</th>\n",
       "      <th>percent_mean</th>\n",
       "    </tr>\n",
       "    <tr>\n",
       "      <th>purpose_category</th>\n",
       "      <th></th>\n",
       "      <th></th>\n",
       "    </tr>\n",
       "  </thead>\n",
       "  <tbody>\n",
       "    <tr>\n",
       "      <th>операции с недвижимостью</th>\n",
       "      <td>10751</td>\n",
       "      <td>7.255%</td>\n",
       "    </tr>\n",
       "    <tr>\n",
       "      <th>проведение свадьбы</th>\n",
       "      <td>2313</td>\n",
       "      <td>7.912%</td>\n",
       "    </tr>\n",
       "    <tr>\n",
       "      <th>получение образования</th>\n",
       "      <td>3988</td>\n",
       "      <td>9.253%</td>\n",
       "    </tr>\n",
       "    <tr>\n",
       "      <th>операции с автомобилем</th>\n",
       "      <td>4279</td>\n",
       "      <td>9.348%</td>\n",
       "    </tr>\n",
       "  </tbody>\n",
       "</table>\n",
       "</div>"
      ],
      "text/plain": [
       "                          count percent_mean\n",
       "purpose_category                            \n",
       "операции с недвижимостью  10751       7.255%\n",
       "проведение свадьбы         2313       7.912%\n",
       "получение образования      3988       9.253%\n",
       "операции с автомобилем     4279       9.348%"
      ]
     },
     "execution_count": 26,
     "metadata": {},
     "output_type": "execute_result"
    }
   ],
   "source": [
    "data.groupby('purpose_category')['debt'].agg(['count', percent_mean]).sort_values('percent_mean') \n",
    "# Ваш код будет здесь. Вы можете создавать новые ячейки."
   ]
  },
  {
   "cell_type": "markdown",
   "id": "cf05ed63",
   "metadata": {
    "deletable": false,
    "id": "cf05ed63"
   },
   "source": [
    "**Вывод:** \n",
    "\n",
    "Кредиты оформленные на операции с недвижимостью имеют самый низкий процент просрочки (7.255%), в то время как кредиты выданные на операции с автомобилем имеют наоборот самый выскоий процент просрочки (9.348%). Кредиты выданные на получение образования также имеют достаточно выский процент просрочки (9.253%)."
   ]
  },
  {
   "cell_type": "markdown",
   "id": "46c1f10b",
   "metadata": {
    "deletable": false,
    "editable": false,
    "id": "46c1f10b"
   },
   "source": [
    "#### 3.5 Приведите возможные причины появления пропусков в исходных данных."
   ]
  },
  {
   "cell_type": "markdown",
   "id": "3697d2a9",
   "metadata": {
    "deletable": false,
    "id": "3697d2a9"
   },
   "source": [
    "*Ответ:* \n",
    "\n",
    "Возможно пропуски появились случайно. Банк не стал бы выдавать кредит при отсутствии каких-либо данных из таблицы."
   ]
  },
  {
   "cell_type": "markdown",
   "id": "3137d257",
   "metadata": {
    "deletable": false,
    "editable": false,
    "id": "3137d257"
   },
   "source": [
    "#### 3.6 Объясните, почему заполнить пропуски медианным значением — лучшее решение для количественных переменных."
   ]
  },
  {
   "cell_type": "markdown",
   "id": "cf40012a",
   "metadata": {
    "deletable": false,
    "id": "cf40012a"
   },
   "source": [
    "*Ответ:* \n",
    "\n",
    "Медиальные значения более усточивы к выбросам (слишком большие или наоборот слишком маленькие значения) и аномальным значениям. "
   ]
  },
  {
   "cell_type": "markdown",
   "id": "57bc304e",
   "metadata": {
    "deletable": false,
    "editable": false,
    "id": "57bc304e"
   },
   "source": [
    "### Шаг 4: общий вывод."
   ]
  },
  {
   "cell_type": "markdown",
   "id": "1ab75d1c",
   "metadata": {
    "deletable": false,
    "id": "1ab75d1c"
   },
   "source": [
    "Во время выполнения исследования была изучена общая информация по заемщикам, удалены пропуски в таблице, обработаны аномальные значения и дубликаты, также клиенты были объединены в группы по разным параметрам. По итогу проделанной работы были даны ответы на следующие вопросы:\n",
    "1.Есть ли зависимость между количеством детей и возвратом кредита в срок?\n",
    "2.Есть ли зависимость между семейным положением и возвратом кредита в срок?\n",
    "3.Есть ли зависимость между уровнем дохода и возвратом кредита в срок?\n",
    "4.Как разные цели кредита влияют на его возврат в срок?\n",
    "\n",
    "Также были даны обьяснения на вопросы не относящиеся к самому исследованию."
   ]
  },
  {
   "cell_type": "markdown",
   "id": "40bbb2a0",
   "metadata": {},
   "source": [
    "В ходе исследования была изучена общая информация по заемщикам, удалены пропуски в таблице, обработаны аномальные значения и дубликаты, также клиенты были объединены в группы по разным параметрам. По итогу проделанной работы были даны ответы на следующие вопросы:\n",
    "\n",
    "1. **Есть ли зависимость между количеством детей и возвратом кредита в срок?** \n",
    "    \n",
    "    * В семьях где нет детей самый низкий процент просрочек по кредитам - 7,54%.\n",
    "    * В семьях с 1 или 2 детьми 9.23% и 9.45% соответственно.\n",
    "    * В семьях с 4 детьми самый высокий процент по просроченным кредитам - 9.75%.  \n",
    "    \n",
    "    Как видно зависимость между количеством детей и возвратом кредитов есть прямая связь, потому что больше семей без детей выплачивают кредиты в срок в отличии от семей где есть дети.Скорее всего это связано с тем, что в семьях без детей меньше непредвиденных расходов и такие семьи могут планировать свой бюджет более чётко, чем семьи с детьми. Семьи с 5 детьми не учитывались в подсчетах из-за количества таких семей сложно сделать однозначный вывод. \n",
    "    \n",
    "    \n",
    "2. **Есть ли зависимость между семейным положением и возвратом кредита в срок?**\n",
    "    \n",
    "    Зависимость между семейным положением и возвратом кредита в срок есть. У клиентов, которые не были в браке процент\n",
    "    просрочки по кредиту выше, чем у тех кто находится или был в браке:\n",
    "    * Овдовевшие имеют самый низкий процент по просрочке - 6.62%.\n",
    "    * Люди находящиеся в разводе - 7.06%.\n",
    "    * Женатые и замужние - 7.56%.\n",
    "    * Состоящие в гражданском браке - 9.31%.\n",
    "    * Не состоящие в браке имеют самыый высокий процент просрочки - 9.76%.  \n",
    "    \n",
    "    Скорее всего это связано с тем, что люди состоящие или состоявшие в браке более ответственно относятся к выплатам и имеют более высокий суммарный доход, чем люди которые никогда не состояли в браке. Вдовы и вдовцы скорее всего имеют самый низкий процент по просрочке в силу того что это как правило возростные люди, которые относятся к долгам с максимальной серьезностью и им в силу возраста скорее всего помогают с выплатами взрослые дети.\n",
    "    \n",
    "    \n",
    "3. **Есть ли зависимость между уровнем дохода и возвратом кредита в срок?**\n",
    "    \n",
    "    Сложно судить наверняка о том зависит ли уровень дохода с возвратом кредитов в срок, потому что недостаточно информации из-за низкого размера групп.\n",
    "    \n",
    "    \n",
    "4. **Как разные цели кредита влияют на его возврат в срок?**\n",
    "    \n",
    "    * Кредиты оформленные на операции с недвижимостью имеют самый низкий процент просрочки - 7.25%.\n",
    "    * У кредитов на свадьбу процент просрочки так же достаточно низкий - 7.91%.\n",
    "    * Самый высокий процент просрочки  по крдитам выданым на операции с автомобилем - 9.34% .\n",
    "    * Кредиты выданные на получение образования также имеют достаточно выский процент просрочки - 9.25%.  \n",
    "    \n",
    "    \n",
    "    \n",
    "По итогу проведенного исследования можно сделать следующие выводы:\n",
    "\n",
    "1. Семьи без детей реже просрачивают кредит, чем семьи с детьми. При чем чем больше детей, тем чаще кредит не выплачивают в срок.\n",
    "2. Люди бывшие в браке платят в срок чаще тех, кто в браке не был. \n",
    "3. От того на что взят кредит зависит и его возврат в срок."
   ]
  }
 ],
 "metadata": {
  "ExecuteTimeLog": [
   {
    "duration": 47,
    "start_time": "2024-03-20T04:33:10.817Z"
   },
   {
    "duration": 432,
    "start_time": "2024-03-20T04:33:33.943Z"
   },
   {
    "duration": 28,
    "start_time": "2024-03-20T04:33:42.230Z"
   },
   {
    "duration": 9,
    "start_time": "2024-03-20T04:34:14.452Z"
   },
   {
    "duration": 5,
    "start_time": "2024-03-20T04:35:06.050Z"
   },
   {
    "duration": 5,
    "start_time": "2024-03-20T04:35:10.794Z"
   },
   {
    "duration": 5,
    "start_time": "2024-03-20T04:36:21.047Z"
   },
   {
    "duration": 16,
    "start_time": "2024-03-20T04:39:06.479Z"
   },
   {
    "duration": 15,
    "start_time": "2024-03-20T04:40:06.288Z"
   },
   {
    "duration": 14,
    "start_time": "2024-03-20T04:40:09.811Z"
   },
   {
    "duration": 11,
    "start_time": "2024-03-20T04:40:10.931Z"
   },
   {
    "duration": 36,
    "start_time": "2024-03-20T04:40:13.155Z"
   },
   {
    "duration": 3,
    "start_time": "2024-03-20T04:40:14.282Z"
   },
   {
    "duration": 8,
    "start_time": "2024-03-20T04:40:16.865Z"
   },
   {
    "duration": 4,
    "start_time": "2024-03-20T04:40:17.883Z"
   },
   {
    "duration": 8,
    "start_time": "2024-03-20T04:40:19.594Z"
   },
   {
    "duration": 4,
    "start_time": "2024-03-20T04:40:20.076Z"
   },
   {
    "duration": 36,
    "start_time": "2024-03-20T04:40:20.738Z"
   },
   {
    "duration": 11,
    "start_time": "2024-03-20T04:40:29.546Z"
   },
   {
    "duration": 4,
    "start_time": "2024-03-20T04:40:31.779Z"
   },
   {
    "duration": 21,
    "start_time": "2024-03-20T04:40:32.554Z"
   },
   {
    "duration": 28,
    "start_time": "2024-03-20T04:40:33.554Z"
   },
   {
    "duration": 19,
    "start_time": "2024-03-20T04:40:36.187Z"
   },
   {
    "duration": 5,
    "start_time": "2024-03-20T04:40:38.858Z"
   },
   {
    "duration": 10,
    "start_time": "2024-03-20T04:40:41.137Z"
   },
   {
    "duration": 8,
    "start_time": "2024-03-20T04:40:42.058Z"
   },
   {
    "duration": 4,
    "start_time": "2024-03-20T04:40:45.226Z"
   },
   {
    "duration": 14,
    "start_time": "2024-03-20T04:40:45.778Z"
   },
   {
    "duration": 11,
    "start_time": "2024-03-20T04:40:48.074Z"
   },
   {
    "duration": 13,
    "start_time": "2024-03-20T04:41:26.792Z"
   },
   {
    "duration": 4,
    "start_time": "2024-03-20T04:41:33.936Z"
   },
   {
    "duration": 6,
    "start_time": "2024-03-20T04:41:53.868Z"
   },
   {
    "duration": 10,
    "start_time": "2024-03-20T04:43:39.019Z"
   },
   {
    "duration": 27,
    "start_time": "2024-03-20T04:47:22.160Z"
   },
   {
    "duration": 7,
    "start_time": "2024-03-20T04:54:34.786Z"
   },
   {
    "duration": 11,
    "start_time": "2024-03-20T04:55:15.452Z"
   },
   {
    "duration": 15,
    "start_time": "2024-03-20T04:55:44.170Z"
   },
   {
    "duration": 8,
    "start_time": "2024-03-20T04:55:56.579Z"
   },
   {
    "duration": 7,
    "start_time": "2024-03-20T04:56:22.233Z"
   },
   {
    "duration": 10,
    "start_time": "2024-03-20T04:57:16.967Z"
   },
   {
    "duration": 9,
    "start_time": "2024-03-20T04:57:46.163Z"
   },
   {
    "duration": 12,
    "start_time": "2024-03-20T04:57:59.577Z"
   },
   {
    "duration": 8,
    "start_time": "2024-03-20T05:00:57.976Z"
   },
   {
    "duration": 16,
    "start_time": "2024-03-20T05:01:25.558Z"
   },
   {
    "duration": 8,
    "start_time": "2024-03-20T05:02:11.387Z"
   },
   {
    "duration": 4,
    "start_time": "2024-03-20T05:04:23.941Z"
   },
   {
    "duration": 11,
    "start_time": "2024-03-20T05:04:31.803Z"
   },
   {
    "duration": 10,
    "start_time": "2024-03-20T05:04:59.563Z"
   },
   {
    "duration": 10,
    "start_time": "2024-03-20T05:05:36.992Z"
   },
   {
    "duration": 9,
    "start_time": "2024-03-20T05:06:52.516Z"
   },
   {
    "duration": 7,
    "start_time": "2024-03-20T05:07:13.595Z"
   },
   {
    "duration": 8,
    "start_time": "2024-03-20T05:07:19.107Z"
   },
   {
    "duration": 12,
    "start_time": "2024-03-20T05:08:13.888Z"
   },
   {
    "duration": 7,
    "start_time": "2024-03-20T05:08:38.807Z"
   },
   {
    "duration": 8,
    "start_time": "2024-03-20T05:09:30.868Z"
   },
   {
    "duration": 8,
    "start_time": "2024-03-20T05:16:52.445Z"
   },
   {
    "duration": 9,
    "start_time": "2024-03-20T05:18:37.240Z"
   },
   {
    "duration": 7,
    "start_time": "2024-03-20T05:18:41.607Z"
   },
   {
    "duration": 7,
    "start_time": "2024-03-20T05:19:01.646Z"
   },
   {
    "duration": 8,
    "start_time": "2024-03-20T05:19:20.789Z"
   },
   {
    "duration": 7,
    "start_time": "2024-03-20T05:19:26.836Z"
   },
   {
    "duration": 7,
    "start_time": "2024-03-20T05:19:33.366Z"
   },
   {
    "duration": 7,
    "start_time": "2024-03-20T05:19:40.766Z"
   },
   {
    "duration": 8,
    "start_time": "2024-03-20T05:19:52.357Z"
   },
   {
    "duration": 7,
    "start_time": "2024-03-20T05:20:08.419Z"
   },
   {
    "duration": 45,
    "start_time": "2024-03-21T02:23:46.827Z"
   },
   {
    "duration": 676,
    "start_time": "2024-03-21T02:23:56.783Z"
   },
   {
    "duration": 20,
    "start_time": "2024-03-21T02:23:57.461Z"
   },
   {
    "duration": 14,
    "start_time": "2024-03-21T02:23:57.710Z"
   },
   {
    "duration": 8,
    "start_time": "2024-03-21T02:23:58.303Z"
   },
   {
    "duration": 29,
    "start_time": "2024-03-21T02:23:58.622Z"
   },
   {
    "duration": 3,
    "start_time": "2024-03-21T02:23:59.110Z"
   },
   {
    "duration": 7,
    "start_time": "2024-03-21T02:23:59.439Z"
   },
   {
    "duration": 3,
    "start_time": "2024-03-21T02:23:59.958Z"
   },
   {
    "duration": 7,
    "start_time": "2024-03-21T02:24:00.309Z"
   },
   {
    "duration": 5,
    "start_time": "2024-03-21T02:24:00.666Z"
   },
   {
    "duration": 29,
    "start_time": "2024-03-21T02:24:01.252Z"
   },
   {
    "duration": 8,
    "start_time": "2024-03-21T02:24:01.606Z"
   },
   {
    "duration": 3,
    "start_time": "2024-03-21T02:24:02.200Z"
   },
   {
    "duration": 11,
    "start_time": "2024-03-21T02:24:02.781Z"
   },
   {
    "duration": 26,
    "start_time": "2024-03-21T02:24:03.142Z"
   },
   {
    "duration": 15,
    "start_time": "2024-03-21T02:24:03.320Z"
   },
   {
    "duration": 5,
    "start_time": "2024-03-21T02:24:03.870Z"
   },
   {
    "duration": 9,
    "start_time": "2024-03-21T02:24:04.054Z"
   },
   {
    "duration": 5,
    "start_time": "2024-03-21T02:24:04.486Z"
   },
   {
    "duration": 3,
    "start_time": "2024-03-21T02:24:05.695Z"
   },
   {
    "duration": 7,
    "start_time": "2024-03-21T02:24:05.870Z"
   },
   {
    "duration": 5,
    "start_time": "2024-03-21T02:24:06.423Z"
   },
   {
    "duration": 6,
    "start_time": "2024-03-21T02:24:07.814Z"
   },
   {
    "duration": 5,
    "start_time": "2024-03-21T02:24:24.117Z"
   },
   {
    "duration": 71,
    "start_time": "2024-03-21T02:28:26.556Z"
   },
   {
    "duration": 85,
    "start_time": "2024-03-21T02:28:36.611Z"
   },
   {
    "duration": 25,
    "start_time": "2024-03-21T02:29:02.475Z"
   },
   {
    "duration": 8,
    "start_time": "2024-03-21T02:29:13.906Z"
   },
   {
    "duration": 9,
    "start_time": "2024-03-21T02:35:01.731Z"
   },
   {
    "duration": 8,
    "start_time": "2024-03-21T02:36:39.783Z"
   },
   {
    "duration": 10,
    "start_time": "2024-03-21T02:37:05.222Z"
   },
   {
    "duration": 9,
    "start_time": "2024-03-21T02:37:18.189Z"
   },
   {
    "duration": 1117,
    "start_time": "2024-03-21T02:38:04.107Z"
   },
   {
    "duration": 1064,
    "start_time": "2024-03-21T02:38:16.115Z"
   },
   {
    "duration": 4,
    "start_time": "2024-03-21T02:39:05.265Z"
   },
   {
    "duration": 5,
    "start_time": "2024-03-21T02:39:10.168Z"
   },
   {
    "duration": 6,
    "start_time": "2024-03-21T02:39:25.736Z"
   },
   {
    "duration": 8,
    "start_time": "2024-03-21T02:40:18.502Z"
   },
   {
    "duration": 9,
    "start_time": "2024-03-21T02:40:28.868Z"
   },
   {
    "duration": 10,
    "start_time": "2024-03-21T02:40:56.452Z"
   },
   {
    "duration": 9,
    "start_time": "2024-03-21T02:41:01.820Z"
   },
   {
    "duration": 7,
    "start_time": "2024-03-21T02:44:21.929Z"
   },
   {
    "duration": 9,
    "start_time": "2024-03-21T02:44:57.040Z"
   },
   {
    "duration": 6,
    "start_time": "2024-03-21T02:45:14.328Z"
   },
   {
    "duration": 9,
    "start_time": "2024-03-21T02:48:04.729Z"
   },
   {
    "duration": 12,
    "start_time": "2024-03-21T02:48:10.569Z"
   },
   {
    "duration": 7,
    "start_time": "2024-03-21T02:49:46.044Z"
   },
   {
    "duration": 11,
    "start_time": "2024-03-21T02:59:33.931Z"
   },
   {
    "duration": 6,
    "start_time": "2024-03-21T03:00:13.255Z"
   },
   {
    "duration": 6,
    "start_time": "2024-03-21T03:01:59.667Z"
   },
   {
    "duration": 2,
    "start_time": "2024-03-21T03:02:04.746Z"
   },
   {
    "duration": 700,
    "start_time": "2024-03-21T03:02:05.938Z"
   },
   {
    "duration": 2,
    "start_time": "2024-03-21T03:02:16.522Z"
   },
   {
    "duration": 2,
    "start_time": "2024-03-21T03:02:19.938Z"
   },
   {
    "duration": 637,
    "start_time": "2024-03-21T03:02:20.346Z"
   },
   {
    "duration": 2,
    "start_time": "2024-03-21T03:02:26.985Z"
   },
   {
    "duration": 592,
    "start_time": "2024-03-21T03:02:27.778Z"
   },
   {
    "duration": 2,
    "start_time": "2024-03-21T03:03:22.919Z"
   },
   {
    "duration": 592,
    "start_time": "2024-03-21T03:03:23.752Z"
   },
   {
    "duration": 3,
    "start_time": "2024-03-21T03:03:47.717Z"
   },
   {
    "duration": 11,
    "start_time": "2024-03-21T03:03:49.593Z"
   },
   {
    "duration": 8,
    "start_time": "2024-03-21T03:04:48.851Z"
   },
   {
    "duration": 3,
    "start_time": "2024-03-21T03:08:25.121Z"
   },
   {
    "duration": 15,
    "start_time": "2024-03-21T03:08:25.633Z"
   },
   {
    "duration": 15,
    "start_time": "2024-03-21T03:08:43.667Z"
   },
   {
    "duration": 3,
    "start_time": "2024-03-21T03:09:17.543Z"
   },
   {
    "duration": 9,
    "start_time": "2024-03-21T03:09:18.296Z"
   },
   {
    "duration": 9,
    "start_time": "2024-03-21T03:09:32.543Z"
   },
   {
    "duration": 10,
    "start_time": "2024-03-21T03:09:56.238Z"
   },
   {
    "duration": 11,
    "start_time": "2024-03-21T03:10:26.916Z"
   },
   {
    "duration": 10,
    "start_time": "2024-03-21T03:10:51.155Z"
   },
   {
    "duration": 15,
    "start_time": "2024-03-21T03:16:22.805Z"
   },
   {
    "duration": 11,
    "start_time": "2024-03-21T03:21:17.151Z"
   },
   {
    "duration": 10,
    "start_time": "2024-03-21T03:31:25.378Z"
   },
   {
    "duration": 3,
    "start_time": "2024-03-21T03:39:02.871Z"
   },
   {
    "duration": 12,
    "start_time": "2024-03-21T03:39:03.338Z"
   },
   {
    "duration": 11,
    "start_time": "2024-03-21T03:39:06.361Z"
   },
   {
    "duration": 14,
    "start_time": "2024-03-21T03:39:09.874Z"
   },
   {
    "duration": 15,
    "start_time": "2024-03-21T03:39:13.401Z"
   },
   {
    "duration": 697,
    "start_time": "2024-03-21T06:53:46.396Z"
   },
   {
    "duration": 21,
    "start_time": "2024-03-21T06:53:47.095Z"
   },
   {
    "duration": 15,
    "start_time": "2024-03-21T06:53:47.118Z"
   },
   {
    "duration": 12,
    "start_time": "2024-03-21T06:53:47.136Z"
   },
   {
    "duration": 53,
    "start_time": "2024-03-21T06:53:47.150Z"
   },
   {
    "duration": 3,
    "start_time": "2024-03-21T06:53:47.205Z"
   },
   {
    "duration": 22,
    "start_time": "2024-03-21T06:53:47.210Z"
   },
   {
    "duration": 6,
    "start_time": "2024-03-21T06:53:47.233Z"
   },
   {
    "duration": 13,
    "start_time": "2024-03-21T06:53:47.241Z"
   },
   {
    "duration": 20,
    "start_time": "2024-03-21T06:53:47.257Z"
   },
   {
    "duration": 49,
    "start_time": "2024-03-21T06:53:47.279Z"
   },
   {
    "duration": 11,
    "start_time": "2024-03-21T06:53:47.330Z"
   },
   {
    "duration": 8,
    "start_time": "2024-03-21T06:53:47.342Z"
   },
   {
    "duration": 23,
    "start_time": "2024-03-21T06:53:47.351Z"
   },
   {
    "duration": 35,
    "start_time": "2024-03-21T06:53:47.375Z"
   },
   {
    "duration": 17,
    "start_time": "2024-03-21T06:53:47.412Z"
   },
   {
    "duration": 4,
    "start_time": "2024-03-21T06:53:47.430Z"
   },
   {
    "duration": 23,
    "start_time": "2024-03-21T06:53:47.436Z"
   },
   {
    "duration": 12,
    "start_time": "2024-03-21T06:53:47.461Z"
   },
   {
    "duration": 18,
    "start_time": "2024-03-21T06:53:47.475Z"
   },
   {
    "duration": 35,
    "start_time": "2024-03-21T06:53:47.495Z"
   },
   {
    "duration": 17,
    "start_time": "2024-03-21T06:53:47.531Z"
   },
   {
    "duration": 25,
    "start_time": "2024-03-21T06:53:47.549Z"
   },
   {
    "duration": 22,
    "start_time": "2024-03-21T06:53:47.575Z"
   },
   {
    "duration": 11,
    "start_time": "2024-03-21T06:53:47.599Z"
   },
   {
    "duration": 20,
    "start_time": "2024-03-21T06:53:47.611Z"
   },
   {
    "duration": 120,
    "start_time": "2024-03-21T12:53:47.176Z"
   },
   {
    "duration": 102,
    "start_time": "2024-03-21T13:57:09.050Z"
   },
   {
    "duration": 529,
    "start_time": "2024-03-21T22:07:13.998Z"
   },
   {
    "duration": 30,
    "start_time": "2024-03-21T22:07:14.529Z"
   },
   {
    "duration": 28,
    "start_time": "2024-03-21T22:07:14.561Z"
   },
   {
    "duration": 15,
    "start_time": "2024-03-21T22:07:14.592Z"
   },
   {
    "duration": 46,
    "start_time": "2024-03-21T22:07:14.609Z"
   },
   {
    "duration": 22,
    "start_time": "2024-03-21T22:07:14.658Z"
   },
   {
    "duration": 9,
    "start_time": "2024-03-21T22:07:14.682Z"
   },
   {
    "duration": 4,
    "start_time": "2024-03-21T22:07:14.692Z"
   },
   {
    "duration": 8,
    "start_time": "2024-03-21T22:07:14.697Z"
   },
   {
    "duration": 5,
    "start_time": "2024-03-21T22:07:14.708Z"
   },
   {
    "duration": 38,
    "start_time": "2024-03-21T22:07:14.714Z"
   },
   {
    "duration": 12,
    "start_time": "2024-03-21T22:07:14.779Z"
   },
   {
    "duration": 13,
    "start_time": "2024-03-21T22:07:14.792Z"
   },
   {
    "duration": 14,
    "start_time": "2024-03-21T22:07:14.806Z"
   },
   {
    "duration": 19,
    "start_time": "2024-03-21T22:07:14.821Z"
   },
   {
    "duration": 17,
    "start_time": "2024-03-21T22:07:14.842Z"
   },
   {
    "duration": 3,
    "start_time": "2024-03-21T22:07:14.880Z"
   },
   {
    "duration": 33,
    "start_time": "2024-03-21T22:07:14.885Z"
   },
   {
    "duration": 5,
    "start_time": "2024-03-21T22:07:14.920Z"
   },
   {
    "duration": 31,
    "start_time": "2024-03-21T22:07:14.926Z"
   },
   {
    "duration": 14,
    "start_time": "2024-03-21T22:07:14.958Z"
   },
   {
    "duration": 7,
    "start_time": "2024-03-21T22:07:14.974Z"
   },
   {
    "duration": 12,
    "start_time": "2024-03-21T22:07:14.983Z"
   },
   {
    "duration": 11,
    "start_time": "2024-03-21T22:07:14.997Z"
   },
   {
    "duration": 54,
    "start_time": "2024-03-21T22:07:15.009Z"
   },
   {
    "duration": 73,
    "start_time": "2024-03-21T22:07:15.064Z"
   },
   {
    "duration": 506,
    "start_time": "2024-10-16T12:37:10.158Z"
   },
   {
    "duration": 19,
    "start_time": "2024-10-16T12:37:10.665Z"
   },
   {
    "duration": 18,
    "start_time": "2024-10-16T12:37:10.685Z"
   },
   {
    "duration": 7,
    "start_time": "2024-10-16T12:37:10.705Z"
   },
   {
    "duration": 45,
    "start_time": "2024-10-16T12:37:10.714Z"
   },
   {
    "duration": 2,
    "start_time": "2024-10-16T12:37:10.761Z"
   },
   {
    "duration": 8,
    "start_time": "2024-10-16T12:37:10.764Z"
   },
   {
    "duration": 23,
    "start_time": "2024-10-16T12:37:10.773Z"
   },
   {
    "duration": 6,
    "start_time": "2024-10-16T12:37:10.797Z"
   },
   {
    "duration": 4,
    "start_time": "2024-10-16T12:37:10.805Z"
   },
   {
    "duration": 26,
    "start_time": "2024-10-16T12:37:10.810Z"
   },
   {
    "duration": 8,
    "start_time": "2024-10-16T12:37:10.837Z"
   },
   {
    "duration": 12,
    "start_time": "2024-10-16T12:37:10.846Z"
   },
   {
    "duration": 14,
    "start_time": "2024-10-16T12:37:10.859Z"
   },
   {
    "duration": 22,
    "start_time": "2024-10-16T12:37:10.874Z"
   },
   {
    "duration": 15,
    "start_time": "2024-10-16T12:37:10.897Z"
   },
   {
    "duration": 3,
    "start_time": "2024-10-16T12:37:10.914Z"
   },
   {
    "duration": 25,
    "start_time": "2024-10-16T12:37:10.919Z"
   },
   {
    "duration": 16,
    "start_time": "2024-10-16T12:37:10.945Z"
   },
   {
    "duration": 106,
    "start_time": "2024-10-16T12:37:10.962Z"
   },
   {
    "duration": 25,
    "start_time": "2024-10-16T12:37:11.069Z"
   },
   {
    "duration": 2,
    "start_time": "2024-10-16T12:37:11.096Z"
   },
   {
    "duration": 17,
    "start_time": "2024-10-16T12:37:11.099Z"
   },
   {
    "duration": 10,
    "start_time": "2024-10-16T12:37:11.118Z"
   },
   {
    "duration": 11,
    "start_time": "2024-10-16T12:37:11.129Z"
   },
   {
    "duration": 13,
    "start_time": "2024-10-16T12:37:11.141Z"
   },
   {
    "duration": 460,
    "start_time": "2024-10-16T12:45:35.107Z"
   },
   {
    "duration": 19,
    "start_time": "2024-10-16T12:45:35.569Z"
   },
   {
    "duration": 32,
    "start_time": "2024-10-16T12:45:35.590Z"
   },
   {
    "duration": 22,
    "start_time": "2024-10-16T12:45:35.624Z"
   },
   {
    "duration": 36,
    "start_time": "2024-10-16T12:45:35.647Z"
   },
   {
    "duration": 4,
    "start_time": "2024-10-16T12:45:35.684Z"
   },
   {
    "duration": 35,
    "start_time": "2024-10-16T12:45:35.690Z"
   },
   {
    "duration": 139,
    "start_time": "2024-10-16T12:45:35.727Z"
   },
   {
    "duration": 88,
    "start_time": "2024-10-16T12:45:35.867Z"
   },
   {
    "duration": 50,
    "start_time": "2024-10-16T12:45:35.958Z"
   },
   {
    "duration": 54,
    "start_time": "2024-10-16T12:45:36.009Z"
   },
   {
    "duration": 8,
    "start_time": "2024-10-16T12:45:36.065Z"
   },
   {
    "duration": 35,
    "start_time": "2024-10-16T12:45:36.074Z"
   },
   {
    "duration": 19,
    "start_time": "2024-10-16T12:45:36.110Z"
   },
   {
    "duration": 17,
    "start_time": "2024-10-16T12:45:36.131Z"
   },
   {
    "duration": 16,
    "start_time": "2024-10-16T12:45:36.149Z"
   },
   {
    "duration": 3,
    "start_time": "2024-10-16T12:45:36.166Z"
   },
   {
    "duration": 110,
    "start_time": "2024-10-16T12:45:36.171Z"
   },
   {
    "duration": 19,
    "start_time": "2024-10-16T12:45:36.283Z"
   },
   {
    "duration": 11,
    "start_time": "2024-10-16T12:45:36.304Z"
   },
   {
    "duration": 13,
    "start_time": "2024-10-16T12:45:36.316Z"
   },
   {
    "duration": 14,
    "start_time": "2024-10-16T12:45:36.330Z"
   },
   {
    "duration": 17,
    "start_time": "2024-10-16T12:45:36.345Z"
   },
   {
    "duration": 14,
    "start_time": "2024-10-16T12:45:36.363Z"
   },
   {
    "duration": 22,
    "start_time": "2024-10-16T12:45:36.379Z"
   },
   {
    "duration": 15,
    "start_time": "2024-10-16T12:45:36.403Z"
   }
  ],
  "colab": {
   "provenance": []
  },
  "kernelspec": {
   "display_name": "Python 3 (ipykernel)",
   "language": "python",
   "name": "python3"
  },
  "language_info": {
   "codemirror_mode": {
    "name": "ipython",
    "version": 3
   },
   "file_extension": ".py",
   "mimetype": "text/x-python",
   "name": "python",
   "nbconvert_exporter": "python",
   "pygments_lexer": "ipython3",
   "version": "3.9.5"
  },
  "toc": {
   "base_numbering": 1,
   "nav_menu": {},
   "number_sections": true,
   "sideBar": true,
   "skip_h1_title": true,
   "title_cell": "Table of Contents",
   "title_sidebar": "Contents",
   "toc_cell": false,
   "toc_position": {},
   "toc_section_display": true,
   "toc_window_display": true
  }
 },
 "nbformat": 4,
 "nbformat_minor": 5
}
