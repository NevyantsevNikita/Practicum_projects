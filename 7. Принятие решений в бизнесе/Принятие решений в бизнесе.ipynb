{
 "cells": [
  {
   "cell_type": "markdown",
   "metadata": {},
   "source": [
    "# Проект: Принятие решений в бизнесе"
   ]
  },
  {
   "cell_type": "markdown",
   "metadata": {},
   "source": [
    "# Описание проекта\n",
    "Вы — аналитик крупного интернет-магазина. Вместе с отделом маркетинга вы подготовили список гипотез для увеличения выручки.\n",
    "\n",
    "Цели проекта:\n",
    "1. Приоритизировать гипотез.\n",
    "2. Запустить A/B-тест и проанализирвоать результаты."
   ]
  },
  {
   "cell_type": "markdown",
   "metadata": {},
   "source": [
    "# Описание данных\n",
    "\n",
    "# Данные для первой части\n",
    "__Структура /datasets/hypothesis.csv:__  \n",
    "\n",
    "`Hypothesis` — краткое описание гипотезы;  \n",
    "`Reach` — охват пользователей по 10-балльной шкале;  \n",
    "`Impact` — влияние на пользователей по 10-балльной шкале;  \n",
    "`Confidence` — уверенность в гипотезе по 10-балльной шкале;  \n",
    "`Efforts` — затраты ресурсов на проверку гипотезы по 10-балльной шкале. Чем больше значение Efforts, тем дороже проверка гипотезы.  "
   ]
  },
  {
   "cell_type": "markdown",
   "metadata": {},
   "source": [
    "# Данные для второй части\n",
    "\n",
    "__Структура /datasets/orders.csv:__  \n",
    "\n",
    "`transactionId` — идентификатор заказа;  \n",
    "`visitorId` — идентификатор пользователя, совершившего заказ;  \n",
    "`date` — дата, когда был совершён заказ;  \n",
    "`revenue` — выручка заказа;  \n",
    "`group` — группа A/B-теста, в которую попал заказ.  \n",
    "\n",
    "__Структура /datasets/visitors.csv:__  \n",
    "\n",
    "`date` — дата;  \n",
    "`group` — группа A/B-теста;  \n",
    "`visitors` — количество пользователей в указанную дату в указанной группе A/B-теста."
   ]
  },
  {
   "cell_type": "markdown",
   "metadata": {},
   "source": [
    "## Приоритезация гипотез."
   ]
  },
  {
   "cell_type": "markdown",
   "metadata": {},
   "source": [
    "### Импорт библитек"
   ]
  },
  {
   "cell_type": "code",
   "execution_count": 1,
   "metadata": {},
   "outputs": [],
   "source": [
    "import pandas as pd\n",
    "import matplotlib.pyplot as plt\n",
    "import seaborn as sns "
   ]
  },
  {
   "cell_type": "markdown",
   "metadata": {},
   "source": [
    "### Считывание данных из файла"
   ]
  },
  {
   "cell_type": "code",
   "execution_count": 2,
   "metadata": {},
   "outputs": [],
   "source": [
    "hypothesis = pd.read_csv('/datasets/hypothesis.csv')"
   ]
  },
  {
   "cell_type": "markdown",
   "metadata": {},
   "source": [
    "### Обзор таблицы `hypothesis`"
   ]
  },
  {
   "cell_type": "code",
   "execution_count": 3,
   "metadata": {},
   "outputs": [
    {
     "name": "stdout",
     "output_type": "stream",
     "text": [
      "<class 'pandas.core.frame.DataFrame'>\n",
      "RangeIndex: 9 entries, 0 to 8\n",
      "Data columns (total 5 columns):\n",
      " #   Column      Non-Null Count  Dtype \n",
      "---  ------      --------------  ----- \n",
      " 0   Hypothesis  9 non-null      object\n",
      " 1   Reach       9 non-null      int64 \n",
      " 2   Impact      9 non-null      int64 \n",
      " 3   Confidence  9 non-null      int64 \n",
      " 4   Efforts     9 non-null      int64 \n",
      "dtypes: int64(4), object(1)\n",
      "memory usage: 488.0+ bytes\n"
     ]
    }
   ],
   "source": [
    "hypothesis.info()"
   ]
  },
  {
   "cell_type": "code",
   "execution_count": 4,
   "metadata": {},
   "outputs": [],
   "source": [
    "# названия столбцов записаны с заглавной буквы, необходимо привести их к нижнему регистру для удобства рыботы с таблицей\n",
    "hypothesis.columns = hypothesis.columns.str.lower()"
   ]
  },
  {
   "cell_type": "code",
   "execution_count": 5,
   "metadata": {},
   "outputs": [
    {
     "data": {
      "text/html": [
       "<div>\n",
       "<style scoped>\n",
       "    .dataframe tbody tr th:only-of-type {\n",
       "        vertical-align: middle;\n",
       "    }\n",
       "\n",
       "    .dataframe tbody tr th {\n",
       "        vertical-align: top;\n",
       "    }\n",
       "\n",
       "    .dataframe thead th {\n",
       "        text-align: right;\n",
       "    }\n",
       "</style>\n",
       "<table border=\"1\" class=\"dataframe\">\n",
       "  <thead>\n",
       "    <tr style=\"text-align: right;\">\n",
       "      <th></th>\n",
       "      <th>hypothesis</th>\n",
       "      <th>reach</th>\n",
       "      <th>impact</th>\n",
       "      <th>confidence</th>\n",
       "      <th>efforts</th>\n",
       "    </tr>\n",
       "  </thead>\n",
       "  <tbody>\n",
       "    <tr>\n",
       "      <th>0</th>\n",
       "      <td>Добавить два новых канала привлечения трафика,...</td>\n",
       "      <td>3</td>\n",
       "      <td>10</td>\n",
       "      <td>8</td>\n",
       "      <td>6</td>\n",
       "    </tr>\n",
       "    <tr>\n",
       "      <th>1</th>\n",
       "      <td>Запустить собственную службу доставки, что сок...</td>\n",
       "      <td>2</td>\n",
       "      <td>5</td>\n",
       "      <td>4</td>\n",
       "      <td>10</td>\n",
       "    </tr>\n",
       "    <tr>\n",
       "      <th>2</th>\n",
       "      <td>Добавить блоки рекомендаций товаров на сайт ин...</td>\n",
       "      <td>8</td>\n",
       "      <td>3</td>\n",
       "      <td>7</td>\n",
       "      <td>3</td>\n",
       "    </tr>\n",
       "    <tr>\n",
       "      <th>3</th>\n",
       "      <td>Изменить структура категорий, что увеличит кон...</td>\n",
       "      <td>8</td>\n",
       "      <td>3</td>\n",
       "      <td>3</td>\n",
       "      <td>8</td>\n",
       "    </tr>\n",
       "    <tr>\n",
       "      <th>4</th>\n",
       "      <td>Изменить цвет фона главной страницы, чтобы уве...</td>\n",
       "      <td>3</td>\n",
       "      <td>1</td>\n",
       "      <td>1</td>\n",
       "      <td>1</td>\n",
       "    </tr>\n",
       "    <tr>\n",
       "      <th>5</th>\n",
       "      <td>Добавить страницу отзывов клиентов о магазине,...</td>\n",
       "      <td>3</td>\n",
       "      <td>2</td>\n",
       "      <td>2</td>\n",
       "      <td>3</td>\n",
       "    </tr>\n",
       "    <tr>\n",
       "      <th>6</th>\n",
       "      <td>Показать на главной странице баннеры с актуаль...</td>\n",
       "      <td>5</td>\n",
       "      <td>3</td>\n",
       "      <td>8</td>\n",
       "      <td>3</td>\n",
       "    </tr>\n",
       "    <tr>\n",
       "      <th>7</th>\n",
       "      <td>Добавить форму подписки на все основные страни...</td>\n",
       "      <td>10</td>\n",
       "      <td>7</td>\n",
       "      <td>8</td>\n",
       "      <td>5</td>\n",
       "    </tr>\n",
       "    <tr>\n",
       "      <th>8</th>\n",
       "      <td>Запустить акцию, дающую скидку на товар в день...</td>\n",
       "      <td>1</td>\n",
       "      <td>9</td>\n",
       "      <td>9</td>\n",
       "      <td>5</td>\n",
       "    </tr>\n",
       "  </tbody>\n",
       "</table>\n",
       "</div>"
      ],
      "text/plain": [
       "                                          hypothesis  reach  impact  \\\n",
       "0  Добавить два новых канала привлечения трафика,...      3      10   \n",
       "1  Запустить собственную службу доставки, что сок...      2       5   \n",
       "2  Добавить блоки рекомендаций товаров на сайт ин...      8       3   \n",
       "3  Изменить структура категорий, что увеличит кон...      8       3   \n",
       "4  Изменить цвет фона главной страницы, чтобы уве...      3       1   \n",
       "5  Добавить страницу отзывов клиентов о магазине,...      3       2   \n",
       "6  Показать на главной странице баннеры с актуаль...      5       3   \n",
       "7  Добавить форму подписки на все основные страни...     10       7   \n",
       "8  Запустить акцию, дающую скидку на товар в день...      1       9   \n",
       "\n",
       "   confidence  efforts  \n",
       "0           8        6  \n",
       "1           4       10  \n",
       "2           7        3  \n",
       "3           3        8  \n",
       "4           1        1  \n",
       "5           2        3  \n",
       "6           8        3  \n",
       "7           8        5  \n",
       "8           9        5  "
      ]
     },
     "execution_count": 5,
     "metadata": {},
     "output_type": "execute_result"
    }
   ],
   "source": [
    "hypothesis.head(10)"
   ]
  },
  {
   "cell_type": "code",
   "execution_count": 6,
   "metadata": {},
   "outputs": [
    {
     "data": {
      "text/html": [
       "<div>\n",
       "<style scoped>\n",
       "    .dataframe tbody tr th:only-of-type {\n",
       "        vertical-align: middle;\n",
       "    }\n",
       "\n",
       "    .dataframe tbody tr th {\n",
       "        vertical-align: top;\n",
       "    }\n",
       "\n",
       "    .dataframe thead th {\n",
       "        text-align: right;\n",
       "    }\n",
       "</style>\n",
       "<table border=\"1\" class=\"dataframe\">\n",
       "  <thead>\n",
       "    <tr style=\"text-align: right;\">\n",
       "      <th></th>\n",
       "      <th>hypothesis</th>\n",
       "      <th>reach</th>\n",
       "      <th>impact</th>\n",
       "      <th>confidence</th>\n",
       "      <th>efforts</th>\n",
       "    </tr>\n",
       "  </thead>\n",
       "  <tbody>\n",
       "    <tr>\n",
       "      <th>0</th>\n",
       "      <td>Добавить два новых канала привлечения трафика, что позволит привлекать на 30% больше пользователей</td>\n",
       "      <td>3</td>\n",
       "      <td>10</td>\n",
       "      <td>8</td>\n",
       "      <td>6</td>\n",
       "    </tr>\n",
       "    <tr>\n",
       "      <th>1</th>\n",
       "      <td>Запустить собственную службу доставки, что сократит срок доставки заказов</td>\n",
       "      <td>2</td>\n",
       "      <td>5</td>\n",
       "      <td>4</td>\n",
       "      <td>10</td>\n",
       "    </tr>\n",
       "    <tr>\n",
       "      <th>2</th>\n",
       "      <td>Добавить блоки рекомендаций товаров на сайт интернет магазина, чтобы повысить конверсию и средний чек заказа</td>\n",
       "      <td>8</td>\n",
       "      <td>3</td>\n",
       "      <td>7</td>\n",
       "      <td>3</td>\n",
       "    </tr>\n",
       "    <tr>\n",
       "      <th>3</th>\n",
       "      <td>Изменить структура категорий, что увеличит конверсию, т.к. пользователи быстрее найдут нужный товар</td>\n",
       "      <td>8</td>\n",
       "      <td>3</td>\n",
       "      <td>3</td>\n",
       "      <td>8</td>\n",
       "    </tr>\n",
       "    <tr>\n",
       "      <th>4</th>\n",
       "      <td>Изменить цвет фона главной страницы, чтобы увеличить вовлеченность пользователей</td>\n",
       "      <td>3</td>\n",
       "      <td>1</td>\n",
       "      <td>1</td>\n",
       "      <td>1</td>\n",
       "    </tr>\n",
       "    <tr>\n",
       "      <th>5</th>\n",
       "      <td>Добавить страницу отзывов клиентов о магазине, что позволит увеличить количество заказов</td>\n",
       "      <td>3</td>\n",
       "      <td>2</td>\n",
       "      <td>2</td>\n",
       "      <td>3</td>\n",
       "    </tr>\n",
       "    <tr>\n",
       "      <th>6</th>\n",
       "      <td>Показать на главной странице баннеры с актуальными акциями и распродажами, чтобы увеличить конверсию</td>\n",
       "      <td>5</td>\n",
       "      <td>3</td>\n",
       "      <td>8</td>\n",
       "      <td>3</td>\n",
       "    </tr>\n",
       "    <tr>\n",
       "      <th>7</th>\n",
       "      <td>Добавить форму подписки на все основные страницы, чтобы собрать базу клиентов для email-рассылок</td>\n",
       "      <td>10</td>\n",
       "      <td>7</td>\n",
       "      <td>8</td>\n",
       "      <td>5</td>\n",
       "    </tr>\n",
       "    <tr>\n",
       "      <th>8</th>\n",
       "      <td>Запустить акцию, дающую скидку на товар в день рождения</td>\n",
       "      <td>1</td>\n",
       "      <td>9</td>\n",
       "      <td>9</td>\n",
       "      <td>5</td>\n",
       "    </tr>\n",
       "  </tbody>\n",
       "</table>\n",
       "</div>"
      ],
      "text/plain": [
       "                                                                                                     hypothesis  \\\n",
       "0            Добавить два новых канала привлечения трафика, что позволит привлекать на 30% больше пользователей   \n",
       "1                                     Запустить собственную службу доставки, что сократит срок доставки заказов   \n",
       "2  Добавить блоки рекомендаций товаров на сайт интернет магазина, чтобы повысить конверсию и средний чек заказа   \n",
       "3           Изменить структура категорий, что увеличит конверсию, т.к. пользователи быстрее найдут нужный товар   \n",
       "4                              Изменить цвет фона главной страницы, чтобы увеличить вовлеченность пользователей   \n",
       "5                      Добавить страницу отзывов клиентов о магазине, что позволит увеличить количество заказов   \n",
       "6          Показать на главной странице баннеры с актуальными акциями и распродажами, чтобы увеличить конверсию   \n",
       "7              Добавить форму подписки на все основные страницы, чтобы собрать базу клиентов для email-рассылок   \n",
       "8                                                       Запустить акцию, дающую скидку на товар в день рождения   \n",
       "\n",
       "   reach  impact  confidence  efforts  \n",
       "0      3      10           8        6  \n",
       "1      2       5           4       10  \n",
       "2      8       3           7        3  \n",
       "3      8       3           3        8  \n",
       "4      3       1           1        1  \n",
       "5      3       2           2        3  \n",
       "6      5       3           8        3  \n",
       "7     10       7           8        5  \n",
       "8      1       9           9        5  "
      ]
     },
     "execution_count": 6,
     "metadata": {},
     "output_type": "execute_result"
    }
   ],
   "source": [
    "#текст внутри столбца с гипотезами не помещается целиком, поэтому необходимо увеличить ширину столбцов\n",
    "pd.set_option('display.max_colwidth', 150)\n",
    "hypothesis.head(10)"
   ]
  },
  {
   "cell_type": "markdown",
   "metadata": {},
   "source": [
    "### Применим фреймворк ICE для приоритизации гипотез, отсортируем их по убыванию приоритета."
   ]
  },
  {
   "cell_type": "code",
   "execution_count": 7,
   "metadata": {},
   "outputs": [
    {
     "data": {
      "text/html": [
       "<div>\n",
       "<style scoped>\n",
       "    .dataframe tbody tr th:only-of-type {\n",
       "        vertical-align: middle;\n",
       "    }\n",
       "\n",
       "    .dataframe tbody tr th {\n",
       "        vertical-align: top;\n",
       "    }\n",
       "\n",
       "    .dataframe thead th {\n",
       "        text-align: right;\n",
       "    }\n",
       "</style>\n",
       "<table border=\"1\" class=\"dataframe\">\n",
       "  <thead>\n",
       "    <tr style=\"text-align: right;\">\n",
       "      <th></th>\n",
       "      <th>hypothesis</th>\n",
       "      <th>ICE</th>\n",
       "    </tr>\n",
       "  </thead>\n",
       "  <tbody>\n",
       "    <tr>\n",
       "      <th>8</th>\n",
       "      <td>Запустить акцию, дающую скидку на товар в день рождения</td>\n",
       "      <td>16.20</td>\n",
       "    </tr>\n",
       "    <tr>\n",
       "      <th>0</th>\n",
       "      <td>Добавить два новых канала привлечения трафика, что позволит привлекать на 30% больше пользователей</td>\n",
       "      <td>13.33</td>\n",
       "    </tr>\n",
       "    <tr>\n",
       "      <th>7</th>\n",
       "      <td>Добавить форму подписки на все основные страницы, чтобы собрать базу клиентов для email-рассылок</td>\n",
       "      <td>11.20</td>\n",
       "    </tr>\n",
       "    <tr>\n",
       "      <th>6</th>\n",
       "      <td>Показать на главной странице баннеры с актуальными акциями и распродажами, чтобы увеличить конверсию</td>\n",
       "      <td>8.00</td>\n",
       "    </tr>\n",
       "    <tr>\n",
       "      <th>2</th>\n",
       "      <td>Добавить блоки рекомендаций товаров на сайт интернет магазина, чтобы повысить конверсию и средний чек заказа</td>\n",
       "      <td>7.00</td>\n",
       "    </tr>\n",
       "    <tr>\n",
       "      <th>1</th>\n",
       "      <td>Запустить собственную службу доставки, что сократит срок доставки заказов</td>\n",
       "      <td>2.00</td>\n",
       "    </tr>\n",
       "    <tr>\n",
       "      <th>5</th>\n",
       "      <td>Добавить страницу отзывов клиентов о магазине, что позволит увеличить количество заказов</td>\n",
       "      <td>1.33</td>\n",
       "    </tr>\n",
       "    <tr>\n",
       "      <th>3</th>\n",
       "      <td>Изменить структура категорий, что увеличит конверсию, т.к. пользователи быстрее найдут нужный товар</td>\n",
       "      <td>1.12</td>\n",
       "    </tr>\n",
       "    <tr>\n",
       "      <th>4</th>\n",
       "      <td>Изменить цвет фона главной страницы, чтобы увеличить вовлеченность пользователей</td>\n",
       "      <td>1.00</td>\n",
       "    </tr>\n",
       "  </tbody>\n",
       "</table>\n",
       "</div>"
      ],
      "text/plain": [
       "                                                                                                     hypothesis  \\\n",
       "8                                                       Запустить акцию, дающую скидку на товар в день рождения   \n",
       "0            Добавить два новых канала привлечения трафика, что позволит привлекать на 30% больше пользователей   \n",
       "7              Добавить форму подписки на все основные страницы, чтобы собрать базу клиентов для email-рассылок   \n",
       "6          Показать на главной странице баннеры с актуальными акциями и распродажами, чтобы увеличить конверсию   \n",
       "2  Добавить блоки рекомендаций товаров на сайт интернет магазина, чтобы повысить конверсию и средний чек заказа   \n",
       "1                                     Запустить собственную службу доставки, что сократит срок доставки заказов   \n",
       "5                      Добавить страницу отзывов клиентов о магазине, что позволит увеличить количество заказов   \n",
       "3           Изменить структура категорий, что увеличит конверсию, т.к. пользователи быстрее найдут нужный товар   \n",
       "4                              Изменить цвет фона главной страницы, чтобы увеличить вовлеченность пользователей   \n",
       "\n",
       "     ICE  \n",
       "8  16.20  \n",
       "0  13.33  \n",
       "7  11.20  \n",
       "6   8.00  \n",
       "2   7.00  \n",
       "1   2.00  \n",
       "5   1.33  \n",
       "3   1.12  \n",
       "4   1.00  "
      ]
     },
     "execution_count": 7,
     "metadata": {},
     "output_type": "execute_result"
    }
   ],
   "source": [
    "hypothesis['ICE'] = round(hypothesis['impact']*hypothesis['confidence']/hypothesis['efforts'], 2)\n",
    "hypothesis[['hypothesis', 'ICE']].sort_values(by='ICE', ascending= False)"
   ]
  },
  {
   "cell_type": "markdown",
   "metadata": {},
   "source": [
    "Применив фреймфорк ICE следующие гипотезы оказались наиболее приоритетными:\n",
    "1. Запустить акцию, дающую скидку на товар в день рождения.\n",
    "2. Добавить два новых канала привлечения трафика, что позволит привлекать на 30% больше пользователей.\n",
    "3. Добавить форму подписки на все основные страницы, чтобы собрать базу клиентов для email-рассылок."
   ]
  },
  {
   "cell_type": "markdown",
   "metadata": {},
   "source": [
    "### Применим фреймворк RICE для приоритизации гипотез, отсортируем их по убыванию приоритета."
   ]
  },
  {
   "cell_type": "code",
   "execution_count": 8,
   "metadata": {},
   "outputs": [
    {
     "data": {
      "text/html": [
       "<div>\n",
       "<style scoped>\n",
       "    .dataframe tbody tr th:only-of-type {\n",
       "        vertical-align: middle;\n",
       "    }\n",
       "\n",
       "    .dataframe tbody tr th {\n",
       "        vertical-align: top;\n",
       "    }\n",
       "\n",
       "    .dataframe thead th {\n",
       "        text-align: right;\n",
       "    }\n",
       "</style>\n",
       "<table border=\"1\" class=\"dataframe\">\n",
       "  <thead>\n",
       "    <tr style=\"text-align: right;\">\n",
       "      <th></th>\n",
       "      <th>hypothesis</th>\n",
       "      <th>RICE</th>\n",
       "    </tr>\n",
       "  </thead>\n",
       "  <tbody>\n",
       "    <tr>\n",
       "      <th>7</th>\n",
       "      <td>Добавить форму подписки на все основные страницы, чтобы собрать базу клиентов для email-рассылок</td>\n",
       "      <td>112.0</td>\n",
       "    </tr>\n",
       "    <tr>\n",
       "      <th>2</th>\n",
       "      <td>Добавить блоки рекомендаций товаров на сайт интернет магазина, чтобы повысить конверсию и средний чек заказа</td>\n",
       "      <td>56.0</td>\n",
       "    </tr>\n",
       "    <tr>\n",
       "      <th>0</th>\n",
       "      <td>Добавить два новых канала привлечения трафика, что позволит привлекать на 30% больше пользователей</td>\n",
       "      <td>40.0</td>\n",
       "    </tr>\n",
       "    <tr>\n",
       "      <th>6</th>\n",
       "      <td>Показать на главной странице баннеры с актуальными акциями и распродажами, чтобы увеличить конверсию</td>\n",
       "      <td>40.0</td>\n",
       "    </tr>\n",
       "    <tr>\n",
       "      <th>8</th>\n",
       "      <td>Запустить акцию, дающую скидку на товар в день рождения</td>\n",
       "      <td>16.2</td>\n",
       "    </tr>\n",
       "    <tr>\n",
       "      <th>3</th>\n",
       "      <td>Изменить структура категорий, что увеличит конверсию, т.к. пользователи быстрее найдут нужный товар</td>\n",
       "      <td>9.0</td>\n",
       "    </tr>\n",
       "    <tr>\n",
       "      <th>1</th>\n",
       "      <td>Запустить собственную службу доставки, что сократит срок доставки заказов</td>\n",
       "      <td>4.0</td>\n",
       "    </tr>\n",
       "    <tr>\n",
       "      <th>5</th>\n",
       "      <td>Добавить страницу отзывов клиентов о магазине, что позволит увеличить количество заказов</td>\n",
       "      <td>4.0</td>\n",
       "    </tr>\n",
       "    <tr>\n",
       "      <th>4</th>\n",
       "      <td>Изменить цвет фона главной страницы, чтобы увеличить вовлеченность пользователей</td>\n",
       "      <td>3.0</td>\n",
       "    </tr>\n",
       "  </tbody>\n",
       "</table>\n",
       "</div>"
      ],
      "text/plain": [
       "                                                                                                     hypothesis  \\\n",
       "7              Добавить форму подписки на все основные страницы, чтобы собрать базу клиентов для email-рассылок   \n",
       "2  Добавить блоки рекомендаций товаров на сайт интернет магазина, чтобы повысить конверсию и средний чек заказа   \n",
       "0            Добавить два новых канала привлечения трафика, что позволит привлекать на 30% больше пользователей   \n",
       "6          Показать на главной странице баннеры с актуальными акциями и распродажами, чтобы увеличить конверсию   \n",
       "8                                                       Запустить акцию, дающую скидку на товар в день рождения   \n",
       "3           Изменить структура категорий, что увеличит конверсию, т.к. пользователи быстрее найдут нужный товар   \n",
       "1                                     Запустить собственную службу доставки, что сократит срок доставки заказов   \n",
       "5                      Добавить страницу отзывов клиентов о магазине, что позволит увеличить количество заказов   \n",
       "4                              Изменить цвет фона главной страницы, чтобы увеличить вовлеченность пользователей   \n",
       "\n",
       "    RICE  \n",
       "7  112.0  \n",
       "2   56.0  \n",
       "0   40.0  \n",
       "6   40.0  \n",
       "8   16.2  \n",
       "3    9.0  \n",
       "1    4.0  \n",
       "5    4.0  \n",
       "4    3.0  "
      ]
     },
     "execution_count": 8,
     "metadata": {},
     "output_type": "execute_result"
    }
   ],
   "source": [
    "hypothesis['RICE'] = round(hypothesis['reach']*hypothesis['impact']*hypothesis['confidence']/hypothesis['efforts'], 2)\n",
    "hypothesis[['hypothesis', 'RICE']].sort_values(by='RICE', ascending= False)"
   ]
  },
  {
   "cell_type": "markdown",
   "metadata": {},
   "source": [
    "Применив фреймфорк RICE следующие гипотезы оказались наиболее приоритетными:\n",
    "1. Добавить форму подписки на все основные страницы, чтобы собрать базу клиентов для email-рассылок.\n",
    "2. Добавить блоки рекомендаций товаров на сайт интернет магазина, чтобы повысить конверсию и средний чек заказа.\n",
    "3. Добавить два новых канала привлечения трафика, что позволит привлекать на 30% больше пользователей."
   ]
  },
  {
   "cell_type": "code",
   "execution_count": 9,
   "metadata": {},
   "outputs": [
    {
     "data": {
      "text/html": [
       "<style  type=\"text/css\" >\n",
       "#T_2d606_row0_col1{\n",
       "            background-color:  #7fbe7f;\n",
       "            color:  #000000;\n",
       "        }#T_2d606_row0_col2,#T_2d606_row7_col2{\n",
       "            background-color:  #9bcc9b;\n",
       "            color:  #000000;\n",
       "        }#T_2d606_row1_col1,#T_2d606_row1_col2{\n",
       "            background-color:  #ebf3eb;\n",
       "            color:  #000000;\n",
       "        }#T_2d606_row2_col1,#T_2d606_row3_col2,#T_2d606_row6_col2{\n",
       "            background-color:  #e9f2e9;\n",
       "            color:  #000000;\n",
       "        }#T_2d606_row2_col2{\n",
       "            background-color:  #deedde;\n",
       "            color:  #000000;\n",
       "        }#T_2d606_row3_col1{\n",
       "            background-color:  #dcecdc;\n",
       "            color:  #000000;\n",
       "        }#T_2d606_row4_col1,#T_2d606_row5_col2{\n",
       "            background-color:  #008000;\n",
       "            color:  #f1f1f1;\n",
       "        }#T_2d606_row4_col2{\n",
       "            background-color:  #cee5ce;\n",
       "            color:  #000000;\n",
       "        }#T_2d606_row5_col1{\n",
       "            background-color:  #4da64d;\n",
       "            color:  #000000;\n",
       "        }#T_2d606_row6_col1{\n",
       "            background-color:  #e6f1e6;\n",
       "            color:  #000000;\n",
       "        }#T_2d606_row7_col1{\n",
       "            background-color:  #2c962c;\n",
       "            color:  #000000;\n",
       "        }#T_2d606_row8_col1{\n",
       "            background-color:  #8ec58e;\n",
       "            color:  #000000;\n",
       "        }#T_2d606_row8_col2{\n",
       "            background-color:  #78bb78;\n",
       "            color:  #000000;\n",
       "        }</style><table id=\"T_2d606_\" ><thead>    <tr>        <th class=\"blank level0\" ></th>        <th class=\"col_heading level0 col0\" >hypothesis</th>        <th class=\"col_heading level0 col1\" >ICE</th>        <th class=\"col_heading level0 col2\" >RICE</th>    </tr></thead><tbody>\n",
       "                <tr>\n",
       "                        <th id=\"T_2d606_level0_row0\" class=\"row_heading level0 row0\" >6</th>\n",
       "                        <td id=\"T_2d606_row0_col0\" class=\"data row0 col0\" >Показать на главной странице баннеры с актуальными акциями и распродажами, чтобы увеличить конверсию</td>\n",
       "                        <td id=\"T_2d606_row0_col1\" class=\"data row0 col1\" >8.000000</td>\n",
       "                        <td id=\"T_2d606_row0_col2\" class=\"data row0 col2\" >40.000000</td>\n",
       "            </tr>\n",
       "            <tr>\n",
       "                        <th id=\"T_2d606_level0_row1\" class=\"row_heading level0 row1\" >4</th>\n",
       "                        <td id=\"T_2d606_row1_col0\" class=\"data row1 col0\" >Изменить цвет фона главной страницы, чтобы увеличить вовлеченность пользователей</td>\n",
       "                        <td id=\"T_2d606_row1_col1\" class=\"data row1 col1\" >1.000000</td>\n",
       "                        <td id=\"T_2d606_row1_col2\" class=\"data row1 col2\" >3.000000</td>\n",
       "            </tr>\n",
       "            <tr>\n",
       "                        <th id=\"T_2d606_level0_row2\" class=\"row_heading level0 row2\" >3</th>\n",
       "                        <td id=\"T_2d606_row2_col0\" class=\"data row2 col0\" >Изменить структура категорий, что увеличит конверсию, т.к. пользователи быстрее найдут нужный товар</td>\n",
       "                        <td id=\"T_2d606_row2_col1\" class=\"data row2 col1\" >1.120000</td>\n",
       "                        <td id=\"T_2d606_row2_col2\" class=\"data row2 col2\" >9.000000</td>\n",
       "            </tr>\n",
       "            <tr>\n",
       "                        <th id=\"T_2d606_level0_row3\" class=\"row_heading level0 row3\" >1</th>\n",
       "                        <td id=\"T_2d606_row3_col0\" class=\"data row3 col0\" >Запустить собственную службу доставки, что сократит срок доставки заказов</td>\n",
       "                        <td id=\"T_2d606_row3_col1\" class=\"data row3 col1\" >2.000000</td>\n",
       "                        <td id=\"T_2d606_row3_col2\" class=\"data row3 col2\" >4.000000</td>\n",
       "            </tr>\n",
       "            <tr>\n",
       "                        <th id=\"T_2d606_level0_row4\" class=\"row_heading level0 row4\" >8</th>\n",
       "                        <td id=\"T_2d606_row4_col0\" class=\"data row4 col0\" >Запустить акцию, дающую скидку на товар в день рождения</td>\n",
       "                        <td id=\"T_2d606_row4_col1\" class=\"data row4 col1\" >16.200000</td>\n",
       "                        <td id=\"T_2d606_row4_col2\" class=\"data row4 col2\" >16.200000</td>\n",
       "            </tr>\n",
       "            <tr>\n",
       "                        <th id=\"T_2d606_level0_row5\" class=\"row_heading level0 row5\" >7</th>\n",
       "                        <td id=\"T_2d606_row5_col0\" class=\"data row5 col0\" >Добавить форму подписки на все основные страницы, чтобы собрать базу клиентов для email-рассылок</td>\n",
       "                        <td id=\"T_2d606_row5_col1\" class=\"data row5 col1\" >11.200000</td>\n",
       "                        <td id=\"T_2d606_row5_col2\" class=\"data row5 col2\" >112.000000</td>\n",
       "            </tr>\n",
       "            <tr>\n",
       "                        <th id=\"T_2d606_level0_row6\" class=\"row_heading level0 row6\" >5</th>\n",
       "                        <td id=\"T_2d606_row6_col0\" class=\"data row6 col0\" >Добавить страницу отзывов клиентов о магазине, что позволит увеличить количество заказов</td>\n",
       "                        <td id=\"T_2d606_row6_col1\" class=\"data row6 col1\" >1.330000</td>\n",
       "                        <td id=\"T_2d606_row6_col2\" class=\"data row6 col2\" >4.000000</td>\n",
       "            </tr>\n",
       "            <tr>\n",
       "                        <th id=\"T_2d606_level0_row7\" class=\"row_heading level0 row7\" >0</th>\n",
       "                        <td id=\"T_2d606_row7_col0\" class=\"data row7 col0\" >Добавить два новых канала привлечения трафика, что позволит привлекать на 30% больше пользователей</td>\n",
       "                        <td id=\"T_2d606_row7_col1\" class=\"data row7 col1\" >13.330000</td>\n",
       "                        <td id=\"T_2d606_row7_col2\" class=\"data row7 col2\" >40.000000</td>\n",
       "            </tr>\n",
       "            <tr>\n",
       "                        <th id=\"T_2d606_level0_row8\" class=\"row_heading level0 row8\" >2</th>\n",
       "                        <td id=\"T_2d606_row8_col0\" class=\"data row8 col0\" >Добавить блоки рекомендаций товаров на сайт интернет магазина, чтобы повысить конверсию и средний чек заказа</td>\n",
       "                        <td id=\"T_2d606_row8_col1\" class=\"data row8 col1\" >7.000000</td>\n",
       "                        <td id=\"T_2d606_row8_col2\" class=\"data row8 col2\" >56.000000</td>\n",
       "            </tr>\n",
       "    </tbody></table>"
      ],
      "text/plain": [
       "<pandas.io.formats.style.Styler at 0x7fc64a4ba7c0>"
      ]
     },
     "execution_count": 9,
     "metadata": {},
     "output_type": "execute_result"
    }
   ],
   "source": [
    "tmp = hypothesis[['hypothesis','ICE', 'RICE']].sort_values(by='hypothesis', ascending=False).head(10)\n",
    "cm = sns.light_palette(\"green\", as_cmap=True)\n",
    "tmp.style.background_gradient(cmap=cm)"
   ]
  },
  {
   "cell_type": "markdown",
   "metadata": {},
   "source": [
    "## Вывод по приоритезации гипотез:\n",
    "1. Применив фреймфорк ICE следующие гипотезы оказались наиболее приоритетными:\n",
    "    * Запустить акцию, дающую скидку на товар в день рождения.\n",
    "    * Добавить два новых канала привлечения трафика, что позволит привлекать на 30% больше пользователей.\n",
    "    * Добавить форму подписки на все основные страницы, чтобы собрать базу клиентов для email-рассылок.\n",
    "    \n",
    "2. Применив фреймфорк RICE следующие гипотезы оказались наиболее приоритетными:\n",
    "    * Добавить форму подписки на все основные страницы, чтобы собрать базу клиентов для email-рассылок.\n",
    "    * Добавить блоки рекомендаций товаров на сайт интернет магазина, чтобы повысить конверсию и средний чек заказа.\n",
    "    * Добавить два новых канала привлечения трафика, что позволит привлекать на 30% больше пользователей.\n",
    "    \n",
    "Различия в приоритезации гипотез обусловено параметром охвата аудитории (reach), который используется в расчетах RICE."
   ]
  },
  {
   "cell_type": "markdown",
   "metadata": {},
   "source": [
    "## Анализ A/B-теста."
   ]
  },
  {
   "cell_type": "markdown",
   "metadata": {},
   "source": [
    "### Импорт библиотек"
   ]
  },
  {
   "cell_type": "code",
   "execution_count": 10,
   "metadata": {},
   "outputs": [],
   "source": [
    "import scipy.stats as stats\n",
    "import datetime as dt\n",
    "import numpy as np\n",
    "import matplotlib.pyplot as plt\n",
    "import seaborn as sns\n",
    "from scipy import stats as stp"
   ]
  },
  {
   "cell_type": "markdown",
   "metadata": {},
   "source": [
    "### Считывание данных из файла"
   ]
  },
  {
   "cell_type": "code",
   "execution_count": 11,
   "metadata": {},
   "outputs": [],
   "source": [
    "orders = pd.read_csv('/datasets/orders.csv')\n",
    "visitors = pd.read_csv('/datasets/visitors.csv')"
   ]
  },
  {
   "cell_type": "markdown",
   "metadata": {},
   "source": [
    "### Обзор таблицы `orders`"
   ]
  },
  {
   "cell_type": "code",
   "execution_count": 12,
   "metadata": {},
   "outputs": [
    {
     "name": "stdout",
     "output_type": "stream",
     "text": [
      "<class 'pandas.core.frame.DataFrame'>\n",
      "RangeIndex: 1197 entries, 0 to 1196\n",
      "Data columns (total 5 columns):\n",
      " #   Column         Non-Null Count  Dtype \n",
      "---  ------         --------------  ----- \n",
      " 0   transactionId  1197 non-null   int64 \n",
      " 1   visitorId      1197 non-null   int64 \n",
      " 2   date           1197 non-null   object\n",
      " 3   revenue        1197 non-null   int64 \n",
      " 4   group          1197 non-null   object\n",
      "dtypes: int64(3), object(2)\n",
      "memory usage: 46.9+ KB\n"
     ]
    },
    {
     "data": {
      "text/html": [
       "<div>\n",
       "<style scoped>\n",
       "    .dataframe tbody tr th:only-of-type {\n",
       "        vertical-align: middle;\n",
       "    }\n",
       "\n",
       "    .dataframe tbody tr th {\n",
       "        vertical-align: top;\n",
       "    }\n",
       "\n",
       "    .dataframe thead th {\n",
       "        text-align: right;\n",
       "    }\n",
       "</style>\n",
       "<table border=\"1\" class=\"dataframe\">\n",
       "  <thead>\n",
       "    <tr style=\"text-align: right;\">\n",
       "      <th></th>\n",
       "      <th>transactionId</th>\n",
       "      <th>visitorId</th>\n",
       "      <th>date</th>\n",
       "      <th>revenue</th>\n",
       "      <th>group</th>\n",
       "    </tr>\n",
       "  </thead>\n",
       "  <tbody>\n",
       "    <tr>\n",
       "      <th>0</th>\n",
       "      <td>3667963787</td>\n",
       "      <td>3312258926</td>\n",
       "      <td>2019-08-15</td>\n",
       "      <td>1650</td>\n",
       "      <td>B</td>\n",
       "    </tr>\n",
       "    <tr>\n",
       "      <th>1</th>\n",
       "      <td>2804400009</td>\n",
       "      <td>3642806036</td>\n",
       "      <td>2019-08-15</td>\n",
       "      <td>730</td>\n",
       "      <td>B</td>\n",
       "    </tr>\n",
       "    <tr>\n",
       "      <th>2</th>\n",
       "      <td>2961555356</td>\n",
       "      <td>4069496402</td>\n",
       "      <td>2019-08-15</td>\n",
       "      <td>400</td>\n",
       "      <td>A</td>\n",
       "    </tr>\n",
       "    <tr>\n",
       "      <th>3</th>\n",
       "      <td>3797467345</td>\n",
       "      <td>1196621759</td>\n",
       "      <td>2019-08-15</td>\n",
       "      <td>9759</td>\n",
       "      <td>B</td>\n",
       "    </tr>\n",
       "    <tr>\n",
       "      <th>4</th>\n",
       "      <td>2282983706</td>\n",
       "      <td>2322279887</td>\n",
       "      <td>2019-08-15</td>\n",
       "      <td>2308</td>\n",
       "      <td>B</td>\n",
       "    </tr>\n",
       "  </tbody>\n",
       "</table>\n",
       "</div>"
      ],
      "text/plain": [
       "   transactionId   visitorId        date  revenue group\n",
       "0     3667963787  3312258926  2019-08-15     1650     B\n",
       "1     2804400009  3642806036  2019-08-15      730     B\n",
       "2     2961555356  4069496402  2019-08-15      400     A\n",
       "3     3797467345  1196621759  2019-08-15     9759     B\n",
       "4     2282983706  2322279887  2019-08-15     2308     B"
      ]
     },
     "execution_count": 12,
     "metadata": {},
     "output_type": "execute_result"
    }
   ],
   "source": [
    "orders.info()\n",
    "orders.head()"
   ]
  },
  {
   "cell_type": "code",
   "execution_count": 13,
   "metadata": {},
   "outputs": [
    {
     "data": {
      "text/plain": [
       "0"
      ]
     },
     "execution_count": 13,
     "metadata": {},
     "output_type": "execute_result"
    }
   ],
   "source": [
    "orders.duplicated().sum()"
   ]
  },
  {
   "cell_type": "code",
   "execution_count": 14,
   "metadata": {},
   "outputs": [],
   "source": [
    "#переименуем столбцы transactionId и visitorId      \n",
    "orders = orders.rename (columns={'transactionId' : 'transaction_id', 'visitorId' : 'visitor_id'})"
   ]
  },
  {
   "cell_type": "code",
   "execution_count": 15,
   "metadata": {},
   "outputs": [
    {
     "name": "stdout",
     "output_type": "stream",
     "text": [
      "<class 'pandas.core.frame.DataFrame'>\n",
      "RangeIndex: 1197 entries, 0 to 1196\n",
      "Data columns (total 5 columns):\n",
      " #   Column          Non-Null Count  Dtype         \n",
      "---  ------          --------------  -----         \n",
      " 0   transaction_id  1197 non-null   int64         \n",
      " 1   visitor_id      1197 non-null   int64         \n",
      " 2   date            1197 non-null   datetime64[ns]\n",
      " 3   revenue         1197 non-null   int64         \n",
      " 4   group           1197 non-null   object        \n",
      "dtypes: datetime64[ns](1), int64(3), object(1)\n",
      "memory usage: 46.9+ KB\n"
     ]
    }
   ],
   "source": [
    "#необходимо изменть формат столбца date с Object На datetime\n",
    "orders['date'] = pd.to_datetime(orders['date'])\n",
    "orders.info()"
   ]
  },
  {
   "cell_type": "markdown",
   "metadata": {},
   "source": [
    "### Обзор таблицы `visitors`"
   ]
  },
  {
   "cell_type": "code",
   "execution_count": 16,
   "metadata": {},
   "outputs": [
    {
     "name": "stdout",
     "output_type": "stream",
     "text": [
      "<class 'pandas.core.frame.DataFrame'>\n",
      "RangeIndex: 62 entries, 0 to 61\n",
      "Data columns (total 3 columns):\n",
      " #   Column    Non-Null Count  Dtype \n",
      "---  ------    --------------  ----- \n",
      " 0   date      62 non-null     object\n",
      " 1   group     62 non-null     object\n",
      " 2   visitors  62 non-null     int64 \n",
      "dtypes: int64(1), object(2)\n",
      "memory usage: 1.6+ KB\n"
     ]
    },
    {
     "data": {
      "text/html": [
       "<div>\n",
       "<style scoped>\n",
       "    .dataframe tbody tr th:only-of-type {\n",
       "        vertical-align: middle;\n",
       "    }\n",
       "\n",
       "    .dataframe tbody tr th {\n",
       "        vertical-align: top;\n",
       "    }\n",
       "\n",
       "    .dataframe thead th {\n",
       "        text-align: right;\n",
       "    }\n",
       "</style>\n",
       "<table border=\"1\" class=\"dataframe\">\n",
       "  <thead>\n",
       "    <tr style=\"text-align: right;\">\n",
       "      <th></th>\n",
       "      <th>date</th>\n",
       "      <th>group</th>\n",
       "      <th>visitors</th>\n",
       "    </tr>\n",
       "  </thead>\n",
       "  <tbody>\n",
       "    <tr>\n",
       "      <th>0</th>\n",
       "      <td>2019-08-01</td>\n",
       "      <td>A</td>\n",
       "      <td>719</td>\n",
       "    </tr>\n",
       "    <tr>\n",
       "      <th>1</th>\n",
       "      <td>2019-08-02</td>\n",
       "      <td>A</td>\n",
       "      <td>619</td>\n",
       "    </tr>\n",
       "    <tr>\n",
       "      <th>2</th>\n",
       "      <td>2019-08-03</td>\n",
       "      <td>A</td>\n",
       "      <td>507</td>\n",
       "    </tr>\n",
       "    <tr>\n",
       "      <th>3</th>\n",
       "      <td>2019-08-04</td>\n",
       "      <td>A</td>\n",
       "      <td>717</td>\n",
       "    </tr>\n",
       "    <tr>\n",
       "      <th>4</th>\n",
       "      <td>2019-08-05</td>\n",
       "      <td>A</td>\n",
       "      <td>756</td>\n",
       "    </tr>\n",
       "  </tbody>\n",
       "</table>\n",
       "</div>"
      ],
      "text/plain": [
       "         date group  visitors\n",
       "0  2019-08-01     A       719\n",
       "1  2019-08-02     A       619\n",
       "2  2019-08-03     A       507\n",
       "3  2019-08-04     A       717\n",
       "4  2019-08-05     A       756"
      ]
     },
     "execution_count": 16,
     "metadata": {},
     "output_type": "execute_result"
    }
   ],
   "source": [
    "visitors.info()\n",
    "visitors.head()"
   ]
  },
  {
   "cell_type": "code",
   "execution_count": 17,
   "metadata": {},
   "outputs": [
    {
     "data": {
      "text/plain": [
       "0"
      ]
     },
     "execution_count": 17,
     "metadata": {},
     "output_type": "execute_result"
    }
   ],
   "source": [
    "visitors.duplicated().sum()"
   ]
  },
  {
   "cell_type": "code",
   "execution_count": 18,
   "metadata": {},
   "outputs": [
    {
     "name": "stdout",
     "output_type": "stream",
     "text": [
      "<class 'pandas.core.frame.DataFrame'>\n",
      "RangeIndex: 62 entries, 0 to 61\n",
      "Data columns (total 3 columns):\n",
      " #   Column    Non-Null Count  Dtype         \n",
      "---  ------    --------------  -----         \n",
      " 0   date      62 non-null     datetime64[ns]\n",
      " 1   group     62 non-null     object        \n",
      " 2   visitors  62 non-null     int64         \n",
      "dtypes: datetime64[ns](1), int64(1), object(1)\n",
      "memory usage: 1.6+ KB\n"
     ]
    }
   ],
   "source": [
    "#необходимо изменть формат столбца date с Object На datetime\n",
    "visitors['date'] = pd.to_datetime(visitors['date'])\n",
    "visitors.info()"
   ]
  },
  {
   "cell_type": "markdown",
   "metadata": {},
   "source": [
    "### Проверка попадания пользователей в обе группы"
   ]
  },
  {
   "cell_type": "code",
   "execution_count": 19,
   "metadata": {
    "scrolled": true
   },
   "outputs": [
    {
     "data": {
      "text/plain": [
       "array([   8300375,  199603092,  232979603,  237748145,  276558944,\n",
       "        351125977,  393266494,  457167155,  471551937,  477780734,\n",
       "        818047933,  963407295, 1230306981, 1294878855, 1316129916,\n",
       "       1333886533, 1404934699, 1602967004, 1614305549, 1648269707,\n",
       "       1668030113, 1738359350, 1801183820, 1959144690, 2038680547,\n",
       "       2044997962, 2378935119, 2458001652, 2579882178, 2587333274,\n",
       "       2600415354, 2654030115, 2686716486, 2712142231, 2716752286,\n",
       "       2780786433, 2927087541, 2949041841, 2954449915, 3062433592,\n",
       "       3202540741, 3234906277, 3656415546, 3717692402, 3766097110,\n",
       "       3803269165, 3891541246, 3941795274, 3951559397, 3957174400,\n",
       "       3963646447, 3972127743, 3984495233, 4069496402, 4120364173,\n",
       "       4186807279, 4256040402, 4266935830])"
      ]
     },
     "execution_count": 19,
     "metadata": {},
     "output_type": "execute_result"
    }
   ],
   "source": [
    "duplicate_users = np.intersect1d(orders.query('group == \"A\"')['visitor_id'].unique(), orders.query('group == \"B\"')['visitor_id'].unique())\n",
    "duplicate_users"
   ]
  },
  {
   "cell_type": "markdown",
   "metadata": {},
   "source": [
    "В обе группы попало не мало пользователей, необходимо удалить из таблицы таких пользователей."
   ]
  },
  {
   "cell_type": "code",
   "execution_count": 20,
   "metadata": {},
   "outputs": [
    {
     "data": {
      "text/plain": [
       "array([], dtype=int64)"
      ]
     },
     "execution_count": 20,
     "metadata": {},
     "output_type": "execute_result"
    }
   ],
   "source": [
    "orders = orders[~orders['visitor_id'].isin(duplicate_users)]\n",
    "np.intersect1d(orders.query('group == \"A\"')['visitor_id'].unique(), orders.query('group == \"B\"')['visitor_id'].unique())"
   ]
  },
  {
   "cell_type": "markdown",
   "metadata": {},
   "source": [
    "Вывод по ознакомлению с таблицами:\n",
    "1. В таблицах не было обнаружено проущенных занчений или дубликатов.\n",
    "2. В таблице orders были переименованы столбцы transactionId и visitorId в transaction_id и visitor_id.\n",
    "3. В стобцах data в таблицах orders и visitors были мзменены типы данных с object на datetime.\n",
    "4. Была проведена проверка попадания пользователей в обе группы. Такие пользователи (попавшие в обе группы) были удалены из таблицы."
   ]
  },
  {
   "cell_type": "markdown",
   "metadata": {},
   "source": [
    "### Подготовка кумулятивных данных."
   ]
  },
  {
   "cell_type": "code",
   "execution_count": 21,
   "metadata": {},
   "outputs": [
    {
     "data": {
      "text/html": [
       "<div>\n",
       "<style scoped>\n",
       "    .dataframe tbody tr th:only-of-type {\n",
       "        vertical-align: middle;\n",
       "    }\n",
       "\n",
       "    .dataframe tbody tr th {\n",
       "        vertical-align: top;\n",
       "    }\n",
       "\n",
       "    .dataframe thead th {\n",
       "        text-align: right;\n",
       "    }\n",
       "</style>\n",
       "<table border=\"1\" class=\"dataframe\">\n",
       "  <thead>\n",
       "    <tr style=\"text-align: right;\">\n",
       "      <th></th>\n",
       "      <th>date</th>\n",
       "      <th>group</th>\n",
       "      <th>orders</th>\n",
       "      <th>buyers</th>\n",
       "      <th>revenue</th>\n",
       "      <th>visitors</th>\n",
       "    </tr>\n",
       "  </thead>\n",
       "  <tbody>\n",
       "    <tr>\n",
       "      <th>0</th>\n",
       "      <td>2019-08-01</td>\n",
       "      <td>A</td>\n",
       "      <td>23</td>\n",
       "      <td>19</td>\n",
       "      <td>142779</td>\n",
       "      <td>719</td>\n",
       "    </tr>\n",
       "    <tr>\n",
       "      <th>1</th>\n",
       "      <td>2019-08-01</td>\n",
       "      <td>B</td>\n",
       "      <td>17</td>\n",
       "      <td>17</td>\n",
       "      <td>59758</td>\n",
       "      <td>713</td>\n",
       "    </tr>\n",
       "    <tr>\n",
       "      <th>2</th>\n",
       "      <td>2019-08-02</td>\n",
       "      <td>A</td>\n",
       "      <td>42</td>\n",
       "      <td>36</td>\n",
       "      <td>234381</td>\n",
       "      <td>1338</td>\n",
       "    </tr>\n",
       "    <tr>\n",
       "      <th>3</th>\n",
       "      <td>2019-08-02</td>\n",
       "      <td>B</td>\n",
       "      <td>40</td>\n",
       "      <td>39</td>\n",
       "      <td>221801</td>\n",
       "      <td>1294</td>\n",
       "    </tr>\n",
       "    <tr>\n",
       "      <th>4</th>\n",
       "      <td>2019-08-03</td>\n",
       "      <td>A</td>\n",
       "      <td>66</td>\n",
       "      <td>60</td>\n",
       "      <td>346854</td>\n",
       "      <td>1845</td>\n",
       "    </tr>\n",
       "  </tbody>\n",
       "</table>\n",
       "</div>"
      ],
      "text/plain": [
       "        date group  orders  buyers  revenue  visitors\n",
       "0 2019-08-01     A      23      19   142779       719\n",
       "1 2019-08-01     B      17      17    59758       713\n",
       "2 2019-08-02     A      42      36   234381      1338\n",
       "3 2019-08-02     B      40      39   221801      1294\n",
       "4 2019-08-03     A      66      60   346854      1845"
      ]
     },
     "execution_count": 21,
     "metadata": {},
     "output_type": "execute_result"
    }
   ],
   "source": [
    "#создаем массив уникальных пар значений дат и групп теста\n",
    "datesGroups = orders[['date','group']].drop_duplicates()\n",
    "\n",
    "#получаем агрегированные кумулятивные данные по дням о заказах \n",
    "ordersAggregated = datesGroups.apply(\n",
    "    lambda x: orders[\n",
    "        np.logical_and(\n",
    "            orders['date'] <= x['date'], orders['group'] == x['group']\n",
    "        )\n",
    "    ].agg(\n",
    "        {\n",
    "            'date' : 'max', \n",
    "            'group' : 'max', \n",
    "            'transaction_id' : 'nunique', \n",
    "            'visitor_id' : 'nunique', 'revenue' : 'sum'\n",
    "        }\n",
    "    ), \n",
    "    axis=1\n",
    ").sort_values(by=['date','group'])\n",
    "\n",
    "#получаем агрегированные кумулятивные данные по дням о посетителях\n",
    "visitorsAggregated = datesGroups.apply(\n",
    "    lambda x: visitors[\n",
    "        np.logical_and(\n",
    "            visitors['date'] <= x['date'], visitors['group'] == x['group']\n",
    "        )].agg(\n",
    "        {\n",
    "            'date' : 'max', \n",
    "            'group' : 'max', \n",
    "            'visitors' : 'sum'}), \n",
    "    axis=1\n",
    ").sort_values(by=['date','group'])\n",
    "\n",
    "#объединяем кумулятивные данные в одной таблице и присваиваем ее столбцам понятные названия\n",
    "cumulativeData = ordersAggregated.merge(visitorsAggregated, left_on=['date', 'group'], right_on=['date', 'group'])\n",
    "cumulativeData.columns = ['date', 'group', 'orders', 'buyers', 'revenue', 'visitors']\n",
    "cumulativeData.head(5)"
   ]
  },
  {
   "cell_type": "markdown",
   "metadata": {},
   "source": [
    "### Построим график кумулятивной выручки по группам."
   ]
  },
  {
   "cell_type": "code",
   "execution_count": 22,
   "metadata": {},
   "outputs": [
    {
     "data": {
      "image/png": "[encoded data removed]",
      "text/plain": [
       "<Figure size 1080x360 with 1 Axes>"
      ]
     },
     "metadata": {
      "needs_background": "light"
     },
     "output_type": "display_data"
    }
   ],
   "source": [
    "#датафрейм с кумулятивным выручкой и количеством заказов по дням в группе А\n",
    "cumulativeRevenueA = cumulativeData[cumulativeData['group']=='A'][['date','revenue', 'orders']]\n",
    "\n",
    "#датафрейм с кумулятивным выручкой и количеством заказов по дням в группе B\n",
    "cumulativeRevenueB = cumulativeData[cumulativeData['group']=='B'][['date','revenue', 'orders']]\n",
    "\n",
    "plt.figure(figsize=(15, 5))\n",
    "#график выручки группы А\n",
    "plt.plot(cumulativeRevenueA['date'], cumulativeRevenueA['revenue'], label='A')\n",
    "\n",
    "#график выручки группы B\n",
    "plt.plot(cumulativeRevenueB['date'], cumulativeRevenueB['revenue'], label='B')\n",
    "\n",
    "plt.title('График кумулятивной выручки по группам')\n",
    "plt.xlabel('Дата')\n",
    "plt.ylabel('Выручка')\n",
    "plt.legend()\n",
    "plt.show()"
   ]
  },
  {
   "cell_type": "markdown",
   "metadata": {},
   "source": [
    "Почти до середины теста данные о выручке в целом одинаковы, но во второй половине теста выручка в группе В резко стала выше. Возможно это связано с увеличением количества заказов или с формированием более дорогих заказов."
   ]
  },
  {
   "cell_type": "markdown",
   "metadata": {},
   "source": [
    "### Построим график кумулятивного среднего чека по группам."
   ]
  },
  {
   "cell_type": "code",
   "execution_count": 23,
   "metadata": {},
   "outputs": [
    {
     "data": {
      "image/png": "[encoded data removed]",
      "text/plain": [
       "<Figure size 1080x360 with 1 Axes>"
      ]
     },
     "metadata": {
      "needs_background": "light"
     },
     "output_type": "display_data"
    }
   ],
   "source": [
    "plt.figure(figsize=(15, 5))\n",
    "plt.plot(cumulativeRevenueA['date'], cumulativeRevenueA['revenue']/cumulativeRevenueA['orders'], label='A')\n",
    "plt.plot(cumulativeRevenueB['date'], cumulativeRevenueB['revenue']/cumulativeRevenueB['orders'], label='B')\n",
    "plt.title('График кумулятивного среднего чека по группам')\n",
    "plt.xlabel('Дата')\n",
    "plt.ylabel('Cредний чек')\n",
    "plt.legend()\n",
    "plt.show()"
   ]
  },
  {
   "cell_type": "markdown",
   "metadata": {},
   "source": [
    "По графику кумулятивного среднего чека можно сделать следующие выводы:\n",
    "1. К концу теста оба графика выравниваются.\n",
    "2. График группы В примерно в середине теста (19 число) имеет аномальный резкий скачек (возможно это связано с каким-то крпным заказом).\n",
    "3. График группы А более плавный, чем график группы В."
   ]
  },
  {
   "cell_type": "markdown",
   "metadata": {},
   "source": [
    "### Построbv график относительного изменения кумулятивного среднего чека группы B к группе A."
   ]
  },
  {
   "cell_type": "code",
   "execution_count": 24,
   "metadata": {},
   "outputs": [
    {
     "data": {
      "image/png": "[encoded data removed]",
      "text/plain": [
       "<Figure size 1080x360 with 1 Axes>"
      ]
     },
     "metadata": {
      "needs_background": "light"
     },
     "output_type": "display_data"
    }
   ],
   "source": [
    "# собираем данные в одном датафрейме\n",
    "mergedCumulativeRevenue = cumulativeRevenueA.merge(\n",
    "    cumulativeRevenueB, left_on='date', right_on='date', how='left', suffixes=['A', 'B']\n",
    ")\n",
    "\n",
    "# cтроим отношение средних чеков\n",
    "plt.figure(figsize=(15, 5))\n",
    "plt.plot(\n",
    "    mergedCumulativeRevenue['date'], \n",
    "    (mergedCumulativeRevenue['revenueB']/mergedCumulativeRevenue['ordersB'])\n",
    "    /(mergedCumulativeRevenue['revenueA']/mergedCumulativeRevenue['ordersA'])-1\n",
    ")\n",
    "# добавляем ось X\n",
    "plt.axhline(y=0, color='black', linestyle='--')\n",
    "plt.title('График относительного изменения кумулятивного среднего чека группы B к группе A')\n",
    "plt.xlabel('Дата')\n",
    "plt.ylabel('Доля')\n",
    "plt.grid()\n",
    "plt.show()"
   ]
  },
  {
   "cell_type": "markdown",
   "metadata": {},
   "source": [
    "Есть резкие изменения среднего чека. Возможно это связано с крупными заказами. Результаты группы В лучше результатов группы А примерно на 25%."
   ]
  },
  {
   "cell_type": "markdown",
   "metadata": {},
   "source": [
    "### Построим график кумулятивного среднего количества заказов на посетителя по группам. "
   ]
  },
  {
   "cell_type": "code",
   "execution_count": 25,
   "metadata": {},
   "outputs": [
    {
     "data": {
      "image/png": "[encoded data removed]",
      "text/plain": [
       "<Figure size 1080x360 with 1 Axes>"
      ]
     },
     "metadata": {
      "needs_background": "light"
     },
     "output_type": "display_data"
    }
   ],
   "source": [
    "# считаем кумулятивную среднего количества заказов на посетителя по группам\n",
    "cumulativeData['conversion'] = cumulativeData['orders']/cumulativeData['visitors']\n",
    "\n",
    "# данные по группе A\n",
    "cumulativeDataA = cumulativeData[cumulativeData['group']=='A']\n",
    "\n",
    "# данные по группе B\n",
    "cumulativeDataB = cumulativeData[cumulativeData['group']=='B']\n",
    "\n",
    "# строим графики\n",
    "plt.figure(figsize=(15, 5))\n",
    "plt.plot(cumulativeDataA['date'], cumulativeDataA['conversion'], label='A')\n",
    "plt.plot(cumulativeDataB['date'], cumulativeDataB['conversion'], label='B')\n",
    "plt.axis([dt.datetime(2019, 8, 1), dt.datetime(2019, 9, 1), 0.02, 0.04])\n",
    "plt.title('График кумулятивного среднего количества заказов на посетителя по группам')\n",
    "plt.xlabel('Дата')\n",
    "plt.ylabel('Среднее количество заказов на посетителя')\n",
    "plt.legend()\n",
    "plt.show()"
   ]
  },
  {
   "cell_type": "markdown",
   "metadata": {},
   "source": [
    "В начале теста конверсия группы А была выше группы В, но спустя неделю конверсия группы В стала стабильно выше группы А на протяжении всего теста."
   ]
  },
  {
   "cell_type": "markdown",
   "metadata": {},
   "source": [
    "### Построим график относительного изменения кумулятивного среднего количества заказов на посетителя группы B к группе A. "
   ]
  },
  {
   "cell_type": "code",
   "execution_count": 26,
   "metadata": {},
   "outputs": [
    {
     "data": {
      "image/png": "[encoded data removed]",
      "text/plain": [
       "<Figure size 1080x720 with 1 Axes>"
      ]
     },
     "metadata": {
      "needs_background": "light"
     },
     "output_type": "display_data"
    }
   ],
   "source": [
    "mergedCumulativeConversions = cumulativeDataA[['date','conversion']].merge(\n",
    "    cumulativeDataB[['date','conversion']], left_on='date', right_on='date', how='left', suffixes=['A', 'B']\n",
    ")\n",
    "\n",
    "plt.figure(figsize=(15, 10))\n",
    "plt.plot(\n",
    "    mergedCumulativeConversions['date'], \n",
    "    mergedCumulativeConversions['conversionB']/mergedCumulativeConversions['conversionA']-1, \n",
    "    label=\"Относительный прирост конверсии группы B относительно группы A\"\n",
    ")\n",
    "plt.axhline(y=0, color='black', linestyle='--')\n",
    "plt.title('График относительного изменения кумулятивного среднего количества заказов на посетителя группы B к группе A')\n",
    "plt.xlabel('Дата')\n",
    "plt.ylabel('Среднее количество заказов на посетителя')\n",
    "plt.legend()\n",
    "plt.grid()\n",
    "plt.show()"
   ]
  },
  {
   "cell_type": "markdown",
   "metadata": {},
   "source": [
    "График показывает что прирост конверсии начиная с 6 дня в группы В значительно выше групы А. Результаты группы В лучше рузальтатов группы А примерно на 15%"
   ]
  },
  {
   "cell_type": "markdown",
   "metadata": {},
   "source": [
    "### Построим точечный график количества заказов по пользователям."
   ]
  },
  {
   "cell_type": "code",
   "execution_count": 27,
   "metadata": {},
   "outputs": [
    {
     "data": {
      "text/html": [
       "<div>\n",
       "<style scoped>\n",
       "    .dataframe tbody tr th:only-of-type {\n",
       "        vertical-align: middle;\n",
       "    }\n",
       "\n",
       "    .dataframe tbody tr th {\n",
       "        vertical-align: top;\n",
       "    }\n",
       "\n",
       "    .dataframe thead th {\n",
       "        text-align: right;\n",
       "    }\n",
       "</style>\n",
       "<table border=\"1\" class=\"dataframe\">\n",
       "  <thead>\n",
       "    <tr style=\"text-align: right;\">\n",
       "      <th></th>\n",
       "      <th>visitor_id</th>\n",
       "      <th>transaction_id</th>\n",
       "    </tr>\n",
       "  </thead>\n",
       "  <tbody>\n",
       "    <tr>\n",
       "      <th>908</th>\n",
       "      <td>3967698036</td>\n",
       "      <td>3</td>\n",
       "    </tr>\n",
       "    <tr>\n",
       "      <th>55</th>\n",
       "      <td>249864742</td>\n",
       "      <td>3</td>\n",
       "    </tr>\n",
       "    <tr>\n",
       "      <th>478</th>\n",
       "      <td>2108163459</td>\n",
       "      <td>3</td>\n",
       "    </tr>\n",
       "    <tr>\n",
       "      <th>687</th>\n",
       "      <td>2988190573</td>\n",
       "      <td>3</td>\n",
       "    </tr>\n",
       "    <tr>\n",
       "      <th>890</th>\n",
       "      <td>3908431265</td>\n",
       "      <td>3</td>\n",
       "    </tr>\n",
       "    <tr>\n",
       "      <th>138</th>\n",
       "      <td>611059232</td>\n",
       "      <td>3</td>\n",
       "    </tr>\n",
       "    <tr>\n",
       "      <th>632</th>\n",
       "      <td>2742574263</td>\n",
       "      <td>3</td>\n",
       "    </tr>\n",
       "    <tr>\n",
       "      <th>157</th>\n",
       "      <td>678354126</td>\n",
       "      <td>2</td>\n",
       "    </tr>\n",
       "    <tr>\n",
       "      <th>323</th>\n",
       "      <td>1404560065</td>\n",
       "      <td>2</td>\n",
       "    </tr>\n",
       "    <tr>\n",
       "      <th>452</th>\n",
       "      <td>1985475298</td>\n",
       "      <td>2</td>\n",
       "    </tr>\n",
       "  </tbody>\n",
       "</table>\n",
       "</div>"
      ],
      "text/plain": [
       "     visitor_id  transaction_id\n",
       "908  3967698036               3\n",
       "55    249864742               3\n",
       "478  2108163459               3\n",
       "687  2988190573               3\n",
       "890  3908431265               3\n",
       "138   611059232               3\n",
       "632  2742574263               3\n",
       "157   678354126               2\n",
       "323  1404560065               2\n",
       "452  1985475298               2"
      ]
     },
     "execution_count": 27,
     "metadata": {},
     "output_type": "execute_result"
    }
   ],
   "source": [
    "#для начала подсчитаем количество заказов по пользователям \n",
    "ordersByUsers = (orders.groupby('visitor_id', as_index=False).agg({'transaction_id': 'nunique'}))\n",
    "ordersByUsers.columns = ['visitor_id', 'transaction_id']\n",
    "ordersByUsers.sort_values(by='transaction_id', ascending=False).head(10)"
   ]
  },
  {
   "cell_type": "code",
   "execution_count": 28,
   "metadata": {},
   "outputs": [
    {
     "data": {
      "image/png": "[encoded data removed]",
      "text/plain": [
       "<Figure size 1080x360 with 1 Axes>"
      ]
     },
     "metadata": {
      "needs_background": "light"
     },
     "output_type": "display_data"
    }
   ],
   "source": [
    "x_values = pd.Series(range(0, len(ordersByUsers)))\n",
    "plt.figure(figsize=(15, 5))\n",
    "plt.scatter(x_values, ordersByUsers['transaction_id'])\n",
    "plt.xlabel('Пользователи')\n",
    "plt.ylabel('Количество заказов')\n",
    "plt.title('Количество заказов по пользователям')\n",
    "plt.grid()\n",
    "plt.show()"
   ]
  },
  {
   "cell_type": "markdown",
   "metadata": {},
   "source": [
    "От общего количества пользователей количество тех кто сделал более 2 заказов крафне мало."
   ]
  },
  {
   "cell_type": "markdown",
   "metadata": {},
   "source": [
    "### Посчитаем 95-й и 99-й перцентили количества заказов на пользователя."
   ]
  },
  {
   "cell_type": "code",
   "execution_count": 29,
   "metadata": {},
   "outputs": [
    {
     "data": {
      "text/plain": [
       "array([1., 2.])"
      ]
     },
     "execution_count": 29,
     "metadata": {},
     "output_type": "execute_result"
    }
   ],
   "source": [
    "np.percentile(ordersByUsers['transaction_id'], [95, 99])"
   ]
  },
  {
   "cell_type": "markdown",
   "metadata": {},
   "source": [
    "Не более 5% пользователей делает больше 1 заказа. Не более 1% пользователей делает более 2 заказов."
   ]
  },
  {
   "cell_type": "markdown",
   "metadata": {},
   "source": [
    "### Построим точечный график стоимостей заказов."
   ]
  },
  {
   "cell_type": "code",
   "execution_count": 30,
   "metadata": {},
   "outputs": [
    {
     "data": {
      "image/png": "[encoded data removed]",
      "text/plain": [
       "<Figure size 720x504 with 1 Axes>"
      ]
     },
     "metadata": {
      "needs_background": "light"
     },
     "output_type": "display_data"
    }
   ],
   "source": [
    "x_values = pd.Series(range(0, len(orders['revenue'])))\n",
    "plt.figure(figsize=(10, 7))\n",
    "plt.scatter(x_values, orders['revenue']) \n",
    "plt.xlabel('Пользователи')\n",
    "plt.ylabel('Стоимость заказов')\n",
    "plt.title(\"Стоимости заказов\")\n",
    "plt.grid()\n",
    "plt.show()"
   ]
  },
  {
   "cell_type": "markdown",
   "metadata": {},
   "source": [
    "На графике видно что есть 2 выбивающихся значения: в районе 200 тысяч и более 1млн. "
   ]
  },
  {
   "cell_type": "markdown",
   "metadata": {},
   "source": [
    "### Посчитаем 95-й и 99-й перцентили стоимости заказов."
   ]
  },
  {
   "cell_type": "code",
   "execution_count": 31,
   "metadata": {},
   "outputs": [
    {
     "data": {
      "text/plain": [
       "array([26785., 53904.])"
      ]
     },
     "execution_count": 31,
     "metadata": {},
     "output_type": "execute_result"
    }
   ],
   "source": [
    "np.percentile(orders['revenue'], [95, 99])"
   ]
  },
  {
   "cell_type": "markdown",
   "metadata": {},
   "source": [
    "Не более 5% пользователей потратили более 26785 и не более 1% пользователей потратили более 53904."
   ]
  },
  {
   "cell_type": "markdown",
   "metadata": {},
   "source": [
    "### Посчитаем статистическую значимость различий в среднем количестве заказов на посетителя между группами по «сырым» данным."
   ]
  },
  {
   "cell_type": "markdown",
   "metadata": {},
   "source": [
    "Сформулируем гипотезы:\n",
    "\n",
    "H0:Статистически значимых отличий нет;\n",
    "\n",
    "H1:Статистически значимые отличия есть."
   ]
  },
  {
   "cell_type": "code",
   "execution_count": 32,
   "metadata": {},
   "outputs": [
    {
     "name": "stdout",
     "output_type": "stream",
     "text": [
      "P-value: 0.011\n",
      "Относительные различия: 0.160\n"
     ]
    }
   ],
   "source": [
    "visitorsADaily = visitors[visitors['group'] == 'A'][['date', 'visitors']]\n",
    "visitorsADaily.columns = ['date', 'visitorsPerDateA']\n",
    "\n",
    "visitorsACummulative = visitorsADaily.apply(\n",
    "    lambda x: visitorsADaily[visitorsADaily['date'] <= x['date']].agg(\n",
    "        {'date': 'max', 'visitorsPerDateA': 'sum'}\n",
    "    ),\n",
    "    axis=1,\n",
    ")\n",
    "visitorsACummulative.columns = ['date', 'visitorsCummulativeA']\n",
    "\n",
    "visitorsBDaily = visitors[visitors['group'] == 'B'][['date', 'visitors']]\n",
    "visitorsBDaily.columns = ['date', 'visitorsPerDateB']\n",
    "\n",
    "visitorsBCummulative = visitorsBDaily.apply(\n",
    "    lambda x: visitorsBDaily[visitorsBDaily['date'] <= x['date']].agg(\n",
    "        {'date': 'max', 'visitorsPerDateB': 'sum'}\n",
    "    ),\n",
    "    axis=1,\n",
    ")\n",
    "visitorsBCummulative.columns = ['date', 'visitorsCummulativeB']\n",
    "\n",
    "ordersADaily = (\n",
    "    orders[orders['group'] == 'A'][['date', 'transaction_id', 'visitor_id', 'revenue']]\n",
    "    .groupby('date', as_index=False)\n",
    "    .agg({'transaction_id': pd.Series.nunique, 'revenue': 'sum'})\n",
    ")\n",
    "ordersADaily.columns = ['date', 'ordersPerDateA', 'revenuePerDateA']\n",
    "\n",
    "ordersACummulative = ordersADaily.apply(\n",
    "    lambda x: ordersADaily[ordersADaily['date'] <= x['date']].agg(\n",
    "        {'date': 'max', 'ordersPerDateA': 'sum', 'revenuePerDateA': 'sum'}\n",
    "    ),\n",
    "    axis=1,\n",
    ").sort_values(by=['date'])\n",
    "ordersACummulative.columns = [\n",
    "    'date',\n",
    "    'ordersCummulativeA',\n",
    "    'revenueCummulativeA',\n",
    "]\n",
    "\n",
    "ordersBDaily = (\n",
    "    orders[orders['group'] == 'B'][['date', 'transaction_id', 'visitor_id', 'revenue']]\n",
    "    .groupby('date', as_index=False)\n",
    "    .agg({'transaction_id': pd.Series.nunique, 'revenue': 'sum'})\n",
    ")\n",
    "ordersBDaily.columns = ['date', 'ordersPerDateB', 'revenuePerDateB']\n",
    "\n",
    "ordersBCummulative = ordersBDaily.apply(\n",
    "    lambda x: ordersBDaily[ordersBDaily['date'] <= x['date']].agg(\n",
    "        {'date': 'max', 'ordersPerDateB': 'sum', 'revenuePerDateB': 'sum'}\n",
    "    ),\n",
    "    axis=1,\n",
    ").sort_values(by=['date'])\n",
    "ordersBCummulative.columns = [\n",
    "    'date',\n",
    "    'ordersCummulativeB',\n",
    "    'revenueCummulativeB',\n",
    "]\n",
    "data = (\n",
    "    ordersADaily.merge(\n",
    "        ordersBDaily, left_on='date', right_on='date', how='left'\n",
    "    )\n",
    "    .merge(ordersACummulative, left_on='date', right_on='date', how='left')\n",
    "    .merge(ordersBCummulative, left_on='date', right_on='date', how='left')\n",
    "    .merge(visitorsADaily, left_on='date', right_on='date', how='left')\n",
    "    .merge(visitorsBDaily, left_on='date', right_on='date', how='left')\n",
    "    .merge(visitorsACummulative, left_on='date', right_on='date', how='left')\n",
    "    .merge(visitorsBCummulative, left_on='date', right_on='date', how='left')\n",
    ")\n",
    "ordersByUsersA = (\n",
    "    orders[orders['group'] == 'A']\n",
    "    .groupby('visitor_id', as_index=False)\n",
    "    .agg({'transaction_id': pd.Series.nunique})\n",
    ")\n",
    "ordersByUsersA.columns = ['visitor_id', 'transaction_id']\n",
    "\n",
    "ordersByUsersB = (\n",
    "    orders[orders['group'] == 'B']\n",
    "    .groupby('visitor_id', as_index=False)\n",
    "    .agg({'transaction_id': pd.Series.nunique})\n",
    ")\n",
    "ordersByUsersB.columns = ['visitor_id', 'transaction_id'] \n",
    "sampleA = pd.concat(\n",
    "    [\n",
    "        ordersByUsersA['transaction_id'],pd.Series(0, index=np.arange(data['visitorsPerDateA'].\n",
    "        sum() - len(ordersByUsersA['transaction_id'])), name='orders')],axis=0\n",
    ")\n",
    "\n",
    "sampleB = pd.concat(\n",
    "    [\n",
    "        ordersByUsersB['transaction_id'],pd.Series(0, index=np.arange(data['visitorsPerDateB'].\n",
    "        sum() - len(ordersByUsersB['transaction_id'])), name='orders')],axis=0\n",
    ")\n",
    "print('P-value:',\"{0:.3f}\".format(stats.mannwhitneyu(sampleA, sampleB)[1]))\n",
    "\n",
    "print('Относительные различия:',\"{0:.3f}\".format(sampleB.mean() / sampleA.mean() - 1))"
   ]
  },
  {
   "cell_type": "markdown",
   "metadata": {},
   "source": [
    "Значение P-value менее 0.05, значит нулевую гипотезу можно отвергунть. \"Серые\" данные говорят о том, что в среднем количестве заказов статистически значимые отличия есть. Относительный прирост среднего группы В к конверсии группы А равен 16%"
   ]
  },
  {
   "cell_type": "markdown",
   "metadata": {},
   "source": [
    "### Посчитайем статистическую значимость различий в среднем чеке заказа между группами по «сырым» данным."
   ]
  },
  {
   "cell_type": "markdown",
   "metadata": {},
   "source": [
    "Сформулируем гипотезы:\n",
    "\n",
    "H0:Статистически значимых отличий нет;\n",
    "\n",
    "H1:Статистически значимые отличия есть."
   ]
  },
  {
   "cell_type": "code",
   "execution_count": 33,
   "metadata": {},
   "outputs": [
    {
     "name": "stdout",
     "output_type": "stream",
     "text": [
      "P-value: 0.829\n",
      "Относительные различия: 0.287\n"
     ]
    }
   ],
   "source": [
    "print('P-value:','{0:.3f}'.format(\n",
    "    stats.mannwhitneyu(orders[orders['group']=='A']['revenue'], orders[orders['group']=='B']['revenue'])[1]\n",
    "))\n",
    "\n",
    "print('Относительные различия:','{0:.3f}'.format(\n",
    "    orders[orders['group']=='B']['revenue'].mean()/orders[orders['group']=='A']['revenue'].mean()-1\n",
    ")) "
   ]
  },
  {
   "cell_type": "markdown",
   "metadata": {},
   "source": [
    "P-value значительно больше 0.05, а значит причин отвергать нулевую гипотезу нет. Впрочем, средний чек группы B значительно выше среднего чека группы A (на 28,7%). Это различие не является статистически значимым."
   ]
  },
  {
   "cell_type": "markdown",
   "metadata": {},
   "source": [
    "### Посчитаем статистическую значимость различий в среднем количестве заказов на посетителя между группами по «очищенным» данным."
   ]
  },
  {
   "cell_type": "markdown",
   "metadata": {},
   "source": [
    "95-й и 99-й перцентили средних чеков равны 26785 (5%) и 53904 (1%).\n",
    "\n",
    "95-й и 99-й перцентили числа заказов на одного пользователя равны 1 (5%) и 2 (1%) заказам на пользователя.\n",
    "\n",
    "Примем за аномальных пользователей тех, кто потратил более 54 тыс, либо совершил 2 и более заказов.\n",
    "\n",
    "Удалять будем именно пользователей — сначала определим аномальные заказы. Затем пользователей, совершивших их, и добавим их в список аномальных.\n",
    "\n",
    "Сформулируем гипотезу:\n",
    "\n",
    "H0:Статистически значимых отличий нет;\n",
    "\n",
    "H1:Статистически значимые отличия есть."
   ]
  },
  {
   "cell_type": "code",
   "execution_count": 34,
   "metadata": {},
   "outputs": [
    {
     "name": "stdout",
     "output_type": "stream",
     "text": [
      "P-value: 0.010\n",
      "Относительные различия: 0.164\n"
     ]
    }
   ],
   "source": [
    "usersWithManyOrders = pd.concat(\n",
    "    [\n",
    "        ordersByUsersA[ordersByUsersA['transaction_id'] > 4]['visitor_id'],\n",
    "        ordersByUsersB[ordersByUsersB['transaction_id'] > 4]['visitor_id'],\n",
    "    ],\n",
    "    axis=0,\n",
    ")\n",
    "revenue_lim = 54000\n",
    "usersWithExpensiveOrders = orders[orders['revenue'] > revenue_lim]['visitor_id']\n",
    "abnormalUsers = (\n",
    "    pd.concat([usersWithManyOrders, usersWithExpensiveOrders], axis=0)\n",
    "    .drop_duplicates()\n",
    "    .sort_values()\n",
    ")\n",
    "\n",
    "sampleAFiltered = pd.concat(\n",
    "    [\n",
    "        ordersByUsersA[\n",
    "            np.logical_not(ordersByUsersA['visitor_id'].isin(abnormalUsers))\n",
    "        ]['transaction_id'],\n",
    "        pd.Series(\n",
    "            0,\n",
    "            index=np.arange(\n",
    "                data['visitorsPerDateA'].sum() - len(ordersByUsersA['transaction_id'])\n",
    "            ),\n",
    "            name='orders',\n",
    "        ),\n",
    "    ],\n",
    "    axis=0,\n",
    ")\n",
    "\n",
    "sampleBFiltered = pd.concat(\n",
    "    [\n",
    "        ordersByUsersB[\n",
    "            np.logical_not(ordersByUsersB['visitor_id'].isin(abnormalUsers))\n",
    "        ]['transaction_id'],\n",
    "        pd.Series(\n",
    "            0,\n",
    "            index=np.arange(\n",
    "                data['visitorsPerDateB'].sum() - len(ordersByUsersB['transaction_id'])\n",
    "            ),\n",
    "            name='orders',\n",
    "        ),\n",
    "    ],\n",
    "    axis=0,\n",
    ") \n",
    "print('P-value:','{0:.3f}'.format(stats.mannwhitneyu(sampleAFiltered, sampleBFiltered)[1]))\n",
    "print('Относительные различия:','{0:.3f}'.format(sampleBFiltered.mean()/sampleAFiltered.mean()-1)) "
   ]
  },
  {
   "cell_type": "markdown",
   "metadata": {},
   "source": [
    "Значение P-value менее 0.05, значит статистически значимые отличия есть, как и в случае с \"серыми\" данными, поэтому нулевую гипотезу отвергаем. Относительный прирост равен 16,4%."
   ]
  },
  {
   "cell_type": "markdown",
   "metadata": {},
   "source": [
    "### Посчитаем статистическую значимость различий в среднем чеке заказа между группами по «очищенным» данным. "
   ]
  },
  {
   "cell_type": "markdown",
   "metadata": {},
   "source": [
    "Сформулируем гипотезу:\n",
    "\n",
    "H0:Статистически значимых отличий нет;\n",
    "\n",
    "H1:Статистически значимые отличия есть."
   ]
  },
  {
   "cell_type": "code",
   "execution_count": 35,
   "metadata": {},
   "outputs": [
    {
     "name": "stdout",
     "output_type": "stream",
     "text": [
      "P-value: 0.901\n",
      "Относительные различия: -0.032\n"
     ]
    }
   ],
   "source": [
    "print('P-value:',\n",
    "    '{0:.3f}'.format(\n",
    "        stats.mannwhitneyu(\n",
    "            orders[\n",
    "                np.logical_and(\n",
    "                    orders['group'] == 'A',\n",
    "                    np.logical_not(orders['visitor_id'].isin(abnormalUsers)),\n",
    "                )\n",
    "            ]['revenue'],\n",
    "            orders[\n",
    "                np.logical_and(\n",
    "                    orders['group'] == 'B',\n",
    "                    np.logical_not(orders['visitor_id'].isin(abnormalUsers)),\n",
    "                )\n",
    "            ]['revenue'],\n",
    "        )[1]\n",
    "    )\n",
    ")\n",
    "\n",
    "print('Относительные различия:',\n",
    "    \"{0:.3f}\".format(\n",
    "        orders[\n",
    "            np.logical_and(\n",
    "                orders['group'] == 'B',\n",
    "                np.logical_not(orders['visitor_id'].isin(abnormalUsers)),\n",
    "            )\n",
    "        ]['revenue'].mean()\n",
    "        / orders[\n",
    "            np.logical_and(\n",
    "                orders['group'] == 'A',\n",
    "                np.logical_not(orders['visitor_id'].isin(abnormalUsers)),\n",
    "            )\n",
    "        ]['revenue'].mean()\n",
    "        - 1\n",
    "    )\n",
    ") "
   ]
  },
  {
   "cell_type": "markdown",
   "metadata": {},
   "source": [
    "P-value значительно больше 0.05. Поэтому отвергнуть гипотезу не получилось. А вот средний чек группы B оказался незначительно (на 3,2%) ниже среднего чека группы A, в то время как по \"сырым\" данным он был больше на 28,7%и это различие так же не является статистически знасимым. Вот так ощутимо повлияли на результаты наши аномальные заказы с большими суммами."
   ]
  },
  {
   "cell_type": "markdown",
   "metadata": {},
   "source": [
    "### Вывод:\n",
    "Проведя анализ A/B теста можно сделать следующие выводы:\n",
    "1. График кумулятивного среднего чека по группам говорит о том, что результаты группы B лучше группы А примерно на 25%.\n",
    "2. График относительного изменения кумулятивного среднего количества заказов на посетителя группы B к группе A говорит о том, что результаты группы B лучше группы A на примерно 15%.\n",
    "3. Есть статистически значимое различие в среднем количестве заказов на посетителя между группами как по \"серым\" данным, так и по \"очищенным\" данным.\n",
    "4. Нет статистически значимого различия в среднем чеке заказа между группами ни по «сырым», ни по \"очищенным\" данным.\n",
    "\n",
    "__На основании имеющихся данных можно сделать вывод что стоит остановить тест, потому что група В уже значительно превзошла группу А.__"
   ]
  },
  {
   "cell_type": "code",
   "execution_count": null,
   "metadata": {},
   "outputs": [],
   "source": []
  }
 ],
 "metadata": {
  "ExecuteTimeLog": [
   {
    "duration": 470,
    "start_time": "2024-07-18T08:05:45.150Z"
   },
   {
    "duration": 71,
    "start_time": "2024-07-18T08:07:44.481Z"
   },
   {
    "duration": 12,
    "start_time": "2024-07-18T08:08:26.618Z"
   },
   {
    "duration": 21,
    "start_time": "2024-07-18T08:08:47.873Z"
   },
   {
    "duration": 8,
    "start_time": "2024-07-18T08:09:55.318Z"
   },
   {
    "duration": 11,
    "start_time": "2024-07-18T08:11:18.718Z"
   },
   {
    "duration": 4,
    "start_time": "2024-07-18T08:12:40.401Z"
   },
   {
    "duration": 10,
    "start_time": "2024-07-18T08:12:41.797Z"
   },
   {
    "duration": 8,
    "start_time": "2024-07-18T08:13:06.360Z"
   },
   {
    "duration": 413,
    "start_time": "2024-07-18T08:13:15.010Z"
   },
   {
    "duration": 27,
    "start_time": "2024-07-18T08:13:15.425Z"
   },
   {
    "duration": 12,
    "start_time": "2024-07-18T08:13:15.454Z"
   },
   {
    "duration": 10,
    "start_time": "2024-07-18T08:13:15.468Z"
   },
   {
    "duration": 16,
    "start_time": "2024-07-18T08:13:15.480Z"
   },
   {
    "duration": 14,
    "start_time": "2024-07-18T08:13:15.497Z"
   },
   {
    "duration": 8,
    "start_time": "2024-07-18T08:14:03.545Z"
   },
   {
    "duration": 9,
    "start_time": "2024-07-18T08:14:07.825Z"
   },
   {
    "duration": 13,
    "start_time": "2024-07-18T08:15:24.236Z"
   },
   {
    "duration": 17,
    "start_time": "2024-07-18T08:18:18.414Z"
   },
   {
    "duration": 1006,
    "start_time": "2024-07-18T08:27:17.583Z"
   },
   {
    "duration": 166,
    "start_time": "2024-07-18T08:27:57.336Z"
   },
   {
    "duration": 17,
    "start_time": "2024-07-18T08:31:43.186Z"
   },
   {
    "duration": 112,
    "start_time": "2024-07-18T08:31:52.084Z"
   },
   {
    "duration": 8,
    "start_time": "2024-07-18T08:32:03.900Z"
   },
   {
    "duration": 10,
    "start_time": "2024-07-18T08:36:18.232Z"
   },
   {
    "duration": 13,
    "start_time": "2024-07-18T08:36:26.865Z"
   },
   {
    "duration": 360,
    "start_time": "2024-07-18T08:36:43.464Z"
   },
   {
    "duration": 450,
    "start_time": "2024-07-18T08:36:56.064Z"
   },
   {
    "duration": 27,
    "start_time": "2024-07-18T08:36:56.516Z"
   },
   {
    "duration": 12,
    "start_time": "2024-07-18T08:36:56.545Z"
   },
   {
    "duration": 4,
    "start_time": "2024-07-18T08:36:56.558Z"
   },
   {
    "duration": 33,
    "start_time": "2024-07-18T08:36:56.565Z"
   },
   {
    "duration": 12,
    "start_time": "2024-07-18T08:36:56.600Z"
   },
   {
    "duration": 19,
    "start_time": "2024-07-18T08:36:56.614Z"
   },
   {
    "duration": 23,
    "start_time": "2024-07-18T08:36:56.634Z"
   },
   {
    "duration": 822,
    "start_time": "2024-07-18T08:36:56.658Z"
   },
   {
    "duration": 50,
    "start_time": "2024-07-18T08:36:57.481Z"
   },
   {
    "duration": 16,
    "start_time": "2024-07-18T08:36:57.533Z"
   },
   {
    "duration": 8,
    "start_time": "2024-07-18T08:36:57.550Z"
   },
   {
    "duration": 20,
    "start_time": "2024-07-18T08:36:57.560Z"
   },
   {
    "duration": 414,
    "start_time": "2024-07-18T08:37:09.286Z"
   },
   {
    "duration": 27,
    "start_time": "2024-07-18T08:37:09.702Z"
   },
   {
    "duration": 12,
    "start_time": "2024-07-18T08:37:09.730Z"
   },
   {
    "duration": 21,
    "start_time": "2024-07-18T08:37:09.744Z"
   },
   {
    "duration": 31,
    "start_time": "2024-07-18T08:37:09.767Z"
   },
   {
    "duration": 9,
    "start_time": "2024-07-18T08:37:09.800Z"
   },
   {
    "duration": 13,
    "start_time": "2024-07-18T08:37:09.811Z"
   },
   {
    "duration": 12,
    "start_time": "2024-07-18T08:37:09.826Z"
   },
   {
    "duration": 837,
    "start_time": "2024-07-18T08:37:09.840Z"
   },
   {
    "duration": 61,
    "start_time": "2024-07-18T08:37:10.678Z"
   },
   {
    "duration": 16,
    "start_time": "2024-07-18T08:37:10.741Z"
   },
   {
    "duration": 21,
    "start_time": "2024-07-18T08:37:10.758Z"
   },
   {
    "duration": 14,
    "start_time": "2024-07-18T08:37:10.781Z"
   },
   {
    "duration": 16,
    "start_time": "2024-07-18T08:38:15.866Z"
   },
   {
    "duration": 7,
    "start_time": "2024-07-18T08:38:28.354Z"
   },
   {
    "duration": 6,
    "start_time": "2024-07-18T08:38:39.578Z"
   },
   {
    "duration": 14,
    "start_time": "2024-07-18T08:38:44.674Z"
   },
   {
    "duration": 304,
    "start_time": "2024-07-18T09:02:23.485Z"
   },
   {
    "duration": 273,
    "start_time": "2024-07-18T09:10:43.169Z"
   },
   {
    "duration": 341,
    "start_time": "2024-07-18T09:15:38.150Z"
   },
   {
    "duration": 308,
    "start_time": "2024-07-18T09:16:46.441Z"
   },
   {
    "duration": 242,
    "start_time": "2024-07-18T09:17:02.324Z"
   },
   {
    "duration": 272,
    "start_time": "2024-07-18T09:20:19.686Z"
   },
   {
    "duration": 236,
    "start_time": "2024-07-18T09:20:24.180Z"
   },
   {
    "duration": 289,
    "start_time": "2024-07-18T09:23:29.627Z"
   },
   {
    "duration": 321,
    "start_time": "2024-07-18T09:23:37.698Z"
   },
   {
    "duration": 984,
    "start_time": "2024-07-18T09:25:14.202Z"
   },
   {
    "duration": 62,
    "start_time": "2024-07-18T09:25:22.404Z"
   },
   {
    "duration": 60,
    "start_time": "2024-07-18T09:26:45.396Z"
   },
   {
    "duration": 115,
    "start_time": "2024-07-18T09:26:59.507Z"
   },
   {
    "duration": 12,
    "start_time": "2024-07-18T09:30:41.026Z"
   },
   {
    "duration": 13,
    "start_time": "2024-07-18T09:30:48.034Z"
   },
   {
    "duration": 15,
    "start_time": "2024-07-18T09:31:07.089Z"
   },
   {
    "duration": 15,
    "start_time": "2024-07-18T09:31:43.227Z"
   },
   {
    "duration": 14,
    "start_time": "2024-07-18T09:31:49.318Z"
   },
   {
    "duration": 309,
    "start_time": "2024-07-18T09:32:04.047Z"
   },
   {
    "duration": 260,
    "start_time": "2024-07-18T09:33:29.797Z"
   },
   {
    "duration": 55,
    "start_time": "2024-07-18T09:34:44.497Z"
   },
   {
    "duration": 53,
    "start_time": "2024-07-18T09:34:53.149Z"
   },
   {
    "duration": 14,
    "start_time": "2024-07-18T09:35:02.923Z"
   },
   {
    "duration": 1369,
    "start_time": "2024-07-18T09:35:37.636Z"
   },
   {
    "duration": 9,
    "start_time": "2024-07-18T09:35:57.644Z"
   },
   {
    "duration": 9,
    "start_time": "2024-07-18T09:37:56.038Z"
   },
   {
    "duration": 8,
    "start_time": "2024-07-18T09:38:38.600Z"
   },
   {
    "duration": 369,
    "start_time": "2024-07-18T09:42:09.493Z"
   },
   {
    "duration": 245,
    "start_time": "2024-07-18T09:42:14.816Z"
   },
   {
    "duration": 367,
    "start_time": "2024-07-18T09:43:51.489Z"
   },
   {
    "duration": 343,
    "start_time": "2024-07-18T09:48:23.994Z"
   },
   {
    "duration": 243,
    "start_time": "2024-07-18T09:48:27.968Z"
   },
   {
    "duration": 267,
    "start_time": "2024-07-18T09:48:33.248Z"
   },
   {
    "duration": 247,
    "start_time": "2024-07-18T09:49:15.752Z"
   },
   {
    "duration": 289,
    "start_time": "2024-07-18T09:49:27.707Z"
   },
   {
    "duration": 276,
    "start_time": "2024-07-18T09:49:36.867Z"
   },
   {
    "duration": 263,
    "start_time": "2024-07-18T09:49:43.293Z"
   },
   {
    "duration": 274,
    "start_time": "2024-07-18T09:49:47.176Z"
   },
   {
    "duration": 527,
    "start_time": "2024-07-18T09:53:31.813Z"
   },
   {
    "duration": 436,
    "start_time": "2024-07-18T09:53:35.261Z"
   },
   {
    "duration": 387,
    "start_time": "2024-07-18T09:53:53.238Z"
   },
   {
    "duration": 16,
    "start_time": "2024-07-18T10:02:52.751Z"
   },
   {
    "duration": 23,
    "start_time": "2024-07-18T10:02:59.622Z"
   },
   {
    "duration": 62,
    "start_time": "2024-07-18T10:06:10.092Z"
   },
   {
    "duration": 68,
    "start_time": "2024-07-18T10:06:22.992Z"
   },
   {
    "duration": 65,
    "start_time": "2024-07-18T10:06:36.545Z"
   },
   {
    "duration": 5,
    "start_time": "2024-07-18T10:06:45.496Z"
   },
   {
    "duration": 20,
    "start_time": "2024-07-18T10:06:47.787Z"
   },
   {
    "duration": 490,
    "start_time": "2024-07-18T10:08:01.957Z"
   },
   {
    "duration": 27,
    "start_time": "2024-07-18T10:08:02.449Z"
   },
   {
    "duration": 88,
    "start_time": "2024-07-18T10:08:02.478Z"
   },
   {
    "duration": 37,
    "start_time": "2024-07-18T10:08:02.569Z"
   },
   {
    "duration": 52,
    "start_time": "2024-07-18T10:08:02.610Z"
   },
   {
    "duration": 56,
    "start_time": "2024-07-18T10:08:02.664Z"
   },
   {
    "duration": 44,
    "start_time": "2024-07-18T10:08:02.722Z"
   },
   {
    "duration": 38,
    "start_time": "2024-07-18T10:08:02.768Z"
   },
   {
    "duration": 875,
    "start_time": "2024-07-18T10:08:02.807Z"
   },
   {
    "duration": 62,
    "start_time": "2024-07-18T10:08:03.688Z"
   },
   {
    "duration": 17,
    "start_time": "2024-07-18T10:08:03.752Z"
   },
   {
    "duration": 5,
    "start_time": "2024-07-18T10:08:03.771Z"
   },
   {
    "duration": 12,
    "start_time": "2024-07-18T10:08:03.778Z"
   },
   {
    "duration": 27,
    "start_time": "2024-07-18T10:08:03.795Z"
   },
   {
    "duration": 38,
    "start_time": "2024-07-18T10:08:03.824Z"
   },
   {
    "duration": 6,
    "start_time": "2024-07-18T10:08:03.865Z"
   },
   {
    "duration": 35,
    "start_time": "2024-07-18T10:08:03.873Z"
   },
   {
    "duration": 190,
    "start_time": "2024-07-18T10:08:03.910Z"
   },
   {
    "duration": 0,
    "start_time": "2024-07-18T10:08:04.102Z"
   },
   {
    "duration": 0,
    "start_time": "2024-07-18T10:08:04.104Z"
   },
   {
    "duration": 0,
    "start_time": "2024-07-18T10:08:04.105Z"
   },
   {
    "duration": 0,
    "start_time": "2024-07-18T10:08:04.107Z"
   },
   {
    "duration": 0,
    "start_time": "2024-07-18T10:08:04.108Z"
   },
   {
    "duration": 0,
    "start_time": "2024-07-18T10:08:04.110Z"
   },
   {
    "duration": 395,
    "start_time": "2024-07-18T10:08:43.821Z"
   },
   {
    "duration": 470,
    "start_time": "2024-07-18T10:08:50.279Z"
   },
   {
    "duration": 28,
    "start_time": "2024-07-18T10:08:50.751Z"
   },
   {
    "duration": 23,
    "start_time": "2024-07-18T10:08:50.781Z"
   },
   {
    "duration": 13,
    "start_time": "2024-07-18T10:08:50.807Z"
   },
   {
    "duration": 34,
    "start_time": "2024-07-18T10:08:50.822Z"
   },
   {
    "duration": 9,
    "start_time": "2024-07-18T10:08:50.858Z"
   },
   {
    "duration": 37,
    "start_time": "2024-07-18T10:08:50.868Z"
   },
   {
    "duration": 16,
    "start_time": "2024-07-18T10:08:50.907Z"
   },
   {
    "duration": 919,
    "start_time": "2024-07-18T10:08:50.925Z"
   },
   {
    "duration": 69,
    "start_time": "2024-07-18T10:08:51.848Z"
   },
   {
    "duration": 19,
    "start_time": "2024-07-18T10:08:51.919Z"
   },
   {
    "duration": 6,
    "start_time": "2024-07-18T10:08:51.940Z"
   },
   {
    "duration": 5,
    "start_time": "2024-07-18T10:08:51.948Z"
   },
   {
    "duration": 33,
    "start_time": "2024-07-18T10:08:51.955Z"
   },
   {
    "duration": 25,
    "start_time": "2024-07-18T10:08:51.990Z"
   },
   {
    "duration": 22,
    "start_time": "2024-07-18T10:08:52.017Z"
   },
   {
    "duration": 12,
    "start_time": "2024-07-18T10:08:52.042Z"
   },
   {
    "duration": 347,
    "start_time": "2024-07-18T10:08:52.055Z"
   },
   {
    "duration": 358,
    "start_time": "2024-07-18T10:08:52.404Z"
   },
   {
    "duration": 276,
    "start_time": "2024-07-18T10:08:52.765Z"
   },
   {
    "duration": 420,
    "start_time": "2024-07-18T10:08:53.044Z"
   },
   {
    "duration": 300,
    "start_time": "2024-07-18T10:08:53.466Z"
   },
   {
    "duration": 481,
    "start_time": "2024-07-18T10:08:53.768Z"
   },
   {
    "duration": 130,
    "start_time": "2024-07-18T10:08:54.250Z"
   },
   {
    "duration": 168,
    "start_time": "2024-07-18T10:09:26.149Z"
   },
   {
    "duration": 188,
    "start_time": "2024-07-18T10:09:50.735Z"
   },
   {
    "duration": 183,
    "start_time": "2024-07-18T10:10:06.461Z"
   },
   {
    "duration": 187,
    "start_time": "2024-07-18T10:10:12.734Z"
   },
   {
    "duration": 175,
    "start_time": "2024-07-18T10:11:03.296Z"
   },
   {
    "duration": 1116,
    "start_time": "2024-07-18T10:16:38.437Z"
   },
   {
    "duration": 6,
    "start_time": "2024-07-18T10:16:48.461Z"
   },
   {
    "duration": 10,
    "start_time": "2024-07-18T10:21:47.434Z"
   },
   {
    "duration": 18,
    "start_time": "2024-07-18T10:22:10.372Z"
   },
   {
    "duration": 218,
    "start_time": "2024-07-18T10:22:12.167Z"
   },
   {
    "duration": 191,
    "start_time": "2024-07-18T10:22:16.148Z"
   },
   {
    "duration": 5,
    "start_time": "2024-07-18T10:24:55.452Z"
   },
   {
    "duration": 403,
    "start_time": "2024-07-18T10:42:13.026Z"
   },
   {
    "duration": 295,
    "start_time": "2024-07-18T10:42:19.400Z"
   },
   {
    "duration": 305,
    "start_time": "2024-07-18T10:42:27.808Z"
   },
   {
    "duration": 1461,
    "start_time": "2024-07-18T10:43:29.569Z"
   },
   {
    "duration": 370,
    "start_time": "2024-07-18T10:43:39.889Z"
   },
   {
    "duration": 68,
    "start_time": "2024-07-18T10:49:36.805Z"
   },
   {
    "duration": 385,
    "start_time": "2024-07-18T10:49:50.848Z"
   },
   {
    "duration": 434,
    "start_time": "2024-07-18T10:50:03.634Z"
   },
   {
    "duration": 11,
    "start_time": "2024-07-18T10:50:22.745Z"
   },
   {
    "duration": 11,
    "start_time": "2024-07-18T10:50:42.129Z"
   },
   {
    "duration": 12,
    "start_time": "2024-07-18T10:54:38.360Z"
   },
   {
    "duration": 1056,
    "start_time": "2024-07-18T10:55:09.653Z"
   },
   {
    "duration": 35,
    "start_time": "2024-07-18T10:55:22.742Z"
   },
   {
    "duration": 35,
    "start_time": "2024-07-18T10:56:50.080Z"
   },
   {
    "duration": 36,
    "start_time": "2024-07-18T10:56:57.262Z"
   },
   {
    "duration": 15,
    "start_time": "2024-07-18T11:00:33.356Z"
   },
   {
    "duration": 309,
    "start_time": "2024-07-18T11:08:41.724Z"
   },
   {
    "duration": 410,
    "start_time": "2024-07-18T11:08:54.380Z"
   },
   {
    "duration": 443,
    "start_time": "2024-07-18T11:17:59.696Z"
   },
   {
    "duration": 28,
    "start_time": "2024-07-18T11:18:00.141Z"
   },
   {
    "duration": 13,
    "start_time": "2024-07-18T11:18:00.171Z"
   },
   {
    "duration": 58,
    "start_time": "2024-07-18T11:18:00.187Z"
   },
   {
    "duration": 97,
    "start_time": "2024-07-18T11:18:00.247Z"
   },
   {
    "duration": 42,
    "start_time": "2024-07-18T11:18:00.346Z"
   },
   {
    "duration": 108,
    "start_time": "2024-07-18T11:18:00.390Z"
   },
   {
    "duration": 48,
    "start_time": "2024-07-18T11:18:00.500Z"
   },
   {
    "duration": 846,
    "start_time": "2024-07-18T11:18:00.550Z"
   },
   {
    "duration": 61,
    "start_time": "2024-07-18T11:18:01.399Z"
   },
   {
    "duration": 46,
    "start_time": "2024-07-18T11:18:01.462Z"
   },
   {
    "duration": 125,
    "start_time": "2024-07-18T11:18:01.510Z"
   },
   {
    "duration": 23,
    "start_time": "2024-07-18T11:18:01.637Z"
   },
   {
    "duration": 96,
    "start_time": "2024-07-18T11:18:01.662Z"
   },
   {
    "duration": 89,
    "start_time": "2024-07-18T11:18:01.759Z"
   },
   {
    "duration": 26,
    "start_time": "2024-07-18T11:18:01.850Z"
   },
   {
    "duration": 51,
    "start_time": "2024-07-18T11:18:01.878Z"
   },
   {
    "duration": 317,
    "start_time": "2024-07-18T11:18:01.931Z"
   },
   {
    "duration": 342,
    "start_time": "2024-07-18T11:18:02.250Z"
   },
   {
    "duration": 242,
    "start_time": "2024-07-18T11:18:02.593Z"
   },
   {
    "duration": 336,
    "start_time": "2024-07-18T11:18:02.837Z"
   },
   {
    "duration": 255,
    "start_time": "2024-07-18T11:18:03.175Z"
   },
   {
    "duration": 404,
    "start_time": "2024-07-18T11:18:03.432Z"
   },
   {
    "duration": 17,
    "start_time": "2024-07-18T11:18:03.839Z"
   },
   {
    "duration": 217,
    "start_time": "2024-07-18T11:18:03.858Z"
   },
   {
    "duration": 8,
    "start_time": "2024-07-18T11:18:04.077Z"
   },
   {
    "duration": 208,
    "start_time": "2024-07-18T11:18:04.087Z"
   },
   {
    "duration": 6,
    "start_time": "2024-07-18T11:18:04.298Z"
   },
   {
    "duration": 396,
    "start_time": "2024-07-18T11:18:04.306Z"
   },
   {
    "duration": 11,
    "start_time": "2024-07-18T11:18:04.704Z"
   },
   {
    "duration": 36,
    "start_time": "2024-07-18T11:18:04.717Z"
   },
   {
    "duration": 36,
    "start_time": "2024-07-18T11:18:04.755Z"
   },
   {
    "duration": 407,
    "start_time": "2024-07-18T11:26:48.242Z"
   },
   {
    "duration": 27,
    "start_time": "2024-07-18T11:26:48.651Z"
   },
   {
    "duration": 11,
    "start_time": "2024-07-18T11:26:48.680Z"
   },
   {
    "duration": 17,
    "start_time": "2024-07-18T11:26:48.693Z"
   },
   {
    "duration": 39,
    "start_time": "2024-07-18T11:26:48.711Z"
   },
   {
    "duration": 8,
    "start_time": "2024-07-18T11:26:48.752Z"
   },
   {
    "duration": 34,
    "start_time": "2024-07-18T11:26:48.761Z"
   },
   {
    "duration": 16,
    "start_time": "2024-07-18T11:26:48.797Z"
   },
   {
    "duration": 883,
    "start_time": "2024-07-18T11:26:48.815Z"
   },
   {
    "duration": 60,
    "start_time": "2024-07-18T11:26:49.701Z"
   },
   {
    "duration": 17,
    "start_time": "2024-07-18T11:26:49.762Z"
   },
   {
    "duration": 22,
    "start_time": "2024-07-18T11:26:49.780Z"
   },
   {
    "duration": 3,
    "start_time": "2024-07-18T11:26:49.804Z"
   },
   {
    "duration": 13,
    "start_time": "2024-07-18T11:26:49.809Z"
   },
   {
    "duration": 16,
    "start_time": "2024-07-18T11:26:49.824Z"
   },
   {
    "duration": 10,
    "start_time": "2024-07-18T11:26:49.842Z"
   },
   {
    "duration": 29,
    "start_time": "2024-07-18T11:26:49.854Z"
   },
   {
    "duration": 310,
    "start_time": "2024-07-18T11:26:49.885Z"
   },
   {
    "duration": 313,
    "start_time": "2024-07-18T11:26:50.197Z"
   },
   {
    "duration": 235,
    "start_time": "2024-07-18T11:26:50.512Z"
   },
   {
    "duration": 367,
    "start_time": "2024-07-18T11:26:50.748Z"
   },
   {
    "duration": 289,
    "start_time": "2024-07-18T11:26:51.117Z"
   },
   {
    "duration": 385,
    "start_time": "2024-07-18T11:26:51.407Z"
   },
   {
    "duration": 12,
    "start_time": "2024-07-18T11:26:51.794Z"
   },
   {
    "duration": 189,
    "start_time": "2024-07-18T11:26:51.808Z"
   },
   {
    "duration": 5,
    "start_time": "2024-07-18T11:26:51.999Z"
   },
   {
    "duration": 197,
    "start_time": "2024-07-18T11:26:52.005Z"
   },
   {
    "duration": 5,
    "start_time": "2024-07-18T11:26:52.205Z"
   },
   {
    "duration": 405,
    "start_time": "2024-07-18T11:26:52.211Z"
   },
   {
    "duration": 12,
    "start_time": "2024-07-18T11:26:52.618Z"
   },
   {
    "duration": 75,
    "start_time": "2024-07-18T11:26:52.631Z"
   },
   {
    "duration": 17,
    "start_time": "2024-07-18T11:26:52.708Z"
   },
   {
    "duration": 391,
    "start_time": "2024-07-18T11:33:38.280Z"
   },
   {
    "duration": 79,
    "start_time": "2024-07-18T11:33:38.673Z"
   },
   {
    "duration": 11,
    "start_time": "2024-07-18T11:33:38.753Z"
   },
   {
    "duration": 50,
    "start_time": "2024-07-18T11:33:38.766Z"
   },
   {
    "duration": 19,
    "start_time": "2024-07-18T11:33:38.820Z"
   },
   {
    "duration": 13,
    "start_time": "2024-07-18T11:33:38.840Z"
   },
   {
    "duration": 17,
    "start_time": "2024-07-18T11:33:38.855Z"
   },
   {
    "duration": 11,
    "start_time": "2024-07-18T11:33:38.873Z"
   },
   {
    "duration": 948,
    "start_time": "2024-07-18T11:33:38.886Z"
   },
   {
    "duration": 177,
    "start_time": "2024-07-18T11:33:39.838Z"
   },
   {
    "duration": 18,
    "start_time": "2024-07-18T11:33:40.017Z"
   },
   {
    "duration": 15,
    "start_time": "2024-07-18T11:33:40.037Z"
   },
   {
    "duration": 24,
    "start_time": "2024-07-18T11:33:40.053Z"
   },
   {
    "duration": 31,
    "start_time": "2024-07-18T11:33:40.078Z"
   },
   {
    "duration": 81,
    "start_time": "2024-07-18T11:33:40.110Z"
   },
   {
    "duration": 6,
    "start_time": "2024-07-18T11:33:40.192Z"
   },
   {
    "duration": 20,
    "start_time": "2024-07-18T11:33:40.199Z"
   },
   {
    "duration": 285,
    "start_time": "2024-07-18T11:33:40.221Z"
   },
   {
    "duration": 296,
    "start_time": "2024-07-18T11:33:40.507Z"
   },
   {
    "duration": 201,
    "start_time": "2024-07-18T11:33:40.804Z"
   },
   {
    "duration": 361,
    "start_time": "2024-07-18T11:33:41.007Z"
   },
   {
    "duration": 242,
    "start_time": "2024-07-18T11:33:41.370Z"
   },
   {
    "duration": 409,
    "start_time": "2024-07-18T11:33:41.614Z"
   },
   {
    "duration": 11,
    "start_time": "2024-07-18T11:33:42.025Z"
   },
   {
    "duration": 156,
    "start_time": "2024-07-18T11:33:42.038Z"
   },
   {
    "duration": 4,
    "start_time": "2024-07-18T11:33:42.195Z"
   },
   {
    "duration": 221,
    "start_time": "2024-07-18T11:33:42.201Z"
   },
   {
    "duration": 5,
    "start_time": "2024-07-18T11:33:42.426Z"
   },
   {
    "duration": 353,
    "start_time": "2024-07-18T11:33:42.432Z"
   },
   {
    "duration": 10,
    "start_time": "2024-07-18T11:33:42.787Z"
   },
   {
    "duration": 42,
    "start_time": "2024-07-18T11:33:42.799Z"
   },
   {
    "duration": 13,
    "start_time": "2024-07-18T11:33:42.843Z"
   },
   {
    "duration": 14,
    "start_time": "2024-07-18T14:13:25.254Z"
   },
   {
    "duration": 12,
    "start_time": "2024-07-18T14:14:27.725Z"
   },
   {
    "duration": 446,
    "start_time": "2024-07-18T14:14:40.672Z"
   },
   {
    "duration": 28,
    "start_time": "2024-07-18T14:14:41.120Z"
   },
   {
    "duration": 12,
    "start_time": "2024-07-18T14:14:41.149Z"
   },
   {
    "duration": 8,
    "start_time": "2024-07-18T14:14:41.163Z"
   },
   {
    "duration": 18,
    "start_time": "2024-07-18T14:14:41.173Z"
   },
   {
    "duration": 8,
    "start_time": "2024-07-18T14:14:41.193Z"
   },
   {
    "duration": 16,
    "start_time": "2024-07-18T14:14:41.202Z"
   },
   {
    "duration": 13,
    "start_time": "2024-07-18T14:14:41.219Z"
   },
   {
    "duration": 866,
    "start_time": "2024-07-18T14:14:41.234Z"
   },
   {
    "duration": 61,
    "start_time": "2024-07-18T14:14:42.102Z"
   },
   {
    "duration": 17,
    "start_time": "2024-07-18T14:14:42.164Z"
   },
   {
    "duration": 7,
    "start_time": "2024-07-18T14:14:42.183Z"
   },
   {
    "duration": 4,
    "start_time": "2024-07-18T14:14:42.192Z"
   },
   {
    "duration": 13,
    "start_time": "2024-07-18T14:14:42.198Z"
   },
   {
    "duration": 21,
    "start_time": "2024-07-18T14:14:42.213Z"
   },
   {
    "duration": 15,
    "start_time": "2024-07-18T14:14:42.237Z"
   },
   {
    "duration": 35,
    "start_time": "2024-07-18T14:14:42.253Z"
   },
   {
    "duration": 12,
    "start_time": "2024-07-18T14:14:42.290Z"
   },
   {
    "duration": 11,
    "start_time": "2024-07-18T14:14:42.303Z"
   },
   {
    "duration": 315,
    "start_time": "2024-07-18T14:14:42.315Z"
   },
   {
    "duration": 359,
    "start_time": "2024-07-18T14:14:42.632Z"
   },
   {
    "duration": 234,
    "start_time": "2024-07-18T14:14:42.992Z"
   },
   {
    "duration": 307,
    "start_time": "2024-07-18T14:14:43.228Z"
   },
   {
    "duration": 245,
    "start_time": "2024-07-18T14:14:43.537Z"
   },
   {
    "duration": 401,
    "start_time": "2024-07-18T14:14:43.783Z"
   },
   {
    "duration": 12,
    "start_time": "2024-07-18T14:14:44.186Z"
   },
   {
    "duration": 196,
    "start_time": "2024-07-18T14:14:44.199Z"
   },
   {
    "duration": 5,
    "start_time": "2024-07-18T14:14:44.400Z"
   },
   {
    "duration": 192,
    "start_time": "2024-07-18T14:14:44.406Z"
   },
   {
    "duration": 6,
    "start_time": "2024-07-18T14:14:44.600Z"
   },
   {
    "duration": 403,
    "start_time": "2024-07-18T14:14:44.608Z"
   },
   {
    "duration": 12,
    "start_time": "2024-07-18T14:14:45.013Z"
   },
   {
    "duration": 120,
    "start_time": "2024-07-18T14:14:45.026Z"
   },
   {
    "duration": 51,
    "start_time": "2024-07-18T14:14:45.148Z"
   },
   {
    "duration": 337,
    "start_time": "2024-07-18T14:17:48.783Z"
   },
   {
    "duration": 439,
    "start_time": "2024-07-18T14:22:44.877Z"
   },
   {
    "duration": 26,
    "start_time": "2024-07-18T14:22:45.318Z"
   },
   {
    "duration": 11,
    "start_time": "2024-07-18T14:22:45.346Z"
   },
   {
    "duration": 28,
    "start_time": "2024-07-18T14:22:45.360Z"
   },
   {
    "duration": 16,
    "start_time": "2024-07-18T14:22:45.390Z"
   },
   {
    "duration": 8,
    "start_time": "2024-07-18T14:22:45.408Z"
   },
   {
    "duration": 25,
    "start_time": "2024-07-18T14:22:45.418Z"
   },
   {
    "duration": 27,
    "start_time": "2024-07-18T14:22:45.445Z"
   },
   {
    "duration": 803,
    "start_time": "2024-07-18T14:22:45.473Z"
   },
   {
    "duration": 51,
    "start_time": "2024-07-18T14:22:46.279Z"
   },
   {
    "duration": 17,
    "start_time": "2024-07-18T14:22:46.332Z"
   },
   {
    "duration": 6,
    "start_time": "2024-07-18T14:22:46.351Z"
   },
   {
    "duration": 4,
    "start_time": "2024-07-18T14:22:46.358Z"
   },
   {
    "duration": 14,
    "start_time": "2024-07-18T14:22:46.363Z"
   },
   {
    "duration": 67,
    "start_time": "2024-07-18T14:22:46.379Z"
   },
   {
    "duration": 8,
    "start_time": "2024-07-18T14:22:46.448Z"
   },
   {
    "duration": 11,
    "start_time": "2024-07-18T14:22:46.458Z"
   },
   {
    "duration": 9,
    "start_time": "2024-07-18T14:22:46.470Z"
   },
   {
    "duration": 10,
    "start_time": "2024-07-18T14:22:46.481Z"
   },
   {
    "duration": 313,
    "start_time": "2024-07-18T14:22:46.492Z"
   },
   {
    "duration": 331,
    "start_time": "2024-07-18T14:22:46.806Z"
   },
   {
    "duration": 234,
    "start_time": "2024-07-18T14:22:47.138Z"
   },
   {
    "duration": 340,
    "start_time": "2024-07-18T14:22:47.374Z"
   },
   {
    "duration": 264,
    "start_time": "2024-07-18T14:22:47.715Z"
   },
   {
    "duration": 414,
    "start_time": "2024-07-18T14:22:47.982Z"
   },
   {
    "duration": 13,
    "start_time": "2024-07-18T14:22:48.398Z"
   },
   {
    "duration": 211,
    "start_time": "2024-07-18T14:22:48.412Z"
   },
   {
    "duration": 5,
    "start_time": "2024-07-18T14:22:48.626Z"
   },
   {
    "duration": 174,
    "start_time": "2024-07-18T14:22:48.632Z"
   },
   {
    "duration": 5,
    "start_time": "2024-07-18T14:22:48.807Z"
   },
   {
    "duration": 369,
    "start_time": "2024-07-18T14:22:48.814Z"
   },
   {
    "duration": 10,
    "start_time": "2024-07-18T14:22:49.185Z"
   },
   {
    "duration": 36,
    "start_time": "2024-07-18T14:22:49.197Z"
   },
   {
    "duration": 15,
    "start_time": "2024-07-18T14:22:49.234Z"
   },
   {
    "duration": 37,
    "start_time": "2024-07-18T14:31:50.353Z"
   },
   {
    "duration": 419,
    "start_time": "2024-07-18T14:35:53.302Z"
   },
   {
    "duration": 27,
    "start_time": "2024-07-18T14:35:53.723Z"
   },
   {
    "duration": 12,
    "start_time": "2024-07-18T14:35:53.752Z"
   },
   {
    "duration": 12,
    "start_time": "2024-07-18T14:35:53.767Z"
   },
   {
    "duration": 16,
    "start_time": "2024-07-18T14:35:53.780Z"
   },
   {
    "duration": 10,
    "start_time": "2024-07-18T14:35:53.798Z"
   },
   {
    "duration": 16,
    "start_time": "2024-07-18T14:35:53.809Z"
   },
   {
    "duration": 18,
    "start_time": "2024-07-18T14:35:53.827Z"
   },
   {
    "duration": 855,
    "start_time": "2024-07-18T14:35:53.847Z"
   },
   {
    "duration": 61,
    "start_time": "2024-07-18T14:35:54.705Z"
   },
   {
    "duration": 16,
    "start_time": "2024-07-18T14:35:54.768Z"
   },
   {
    "duration": 6,
    "start_time": "2024-07-18T14:35:54.786Z"
   },
   {
    "duration": 4,
    "start_time": "2024-07-18T14:35:54.793Z"
   },
   {
    "duration": 13,
    "start_time": "2024-07-18T14:35:54.798Z"
   },
   {
    "duration": 15,
    "start_time": "2024-07-18T14:35:54.813Z"
   },
   {
    "duration": 5,
    "start_time": "2024-07-18T14:35:54.829Z"
   },
   {
    "duration": 46,
    "start_time": "2024-07-18T14:35:54.836Z"
   },
   {
    "duration": 10,
    "start_time": "2024-07-18T14:35:54.884Z"
   },
   {
    "duration": 27,
    "start_time": "2024-07-18T14:35:54.896Z"
   },
   {
    "duration": 324,
    "start_time": "2024-07-18T14:35:54.924Z"
   },
   {
    "duration": 326,
    "start_time": "2024-07-18T14:35:55.250Z"
   },
   {
    "duration": 240,
    "start_time": "2024-07-18T14:35:55.578Z"
   },
   {
    "duration": 331,
    "start_time": "2024-07-18T14:35:55.820Z"
   },
   {
    "duration": 262,
    "start_time": "2024-07-18T14:35:56.153Z"
   },
   {
    "duration": 368,
    "start_time": "2024-07-18T14:35:56.417Z"
   },
   {
    "duration": 12,
    "start_time": "2024-07-18T14:35:56.787Z"
   },
   {
    "duration": 196,
    "start_time": "2024-07-18T14:35:56.801Z"
   },
   {
    "duration": 5,
    "start_time": "2024-07-18T14:35:57.000Z"
   },
   {
    "duration": 178,
    "start_time": "2024-07-18T14:35:57.006Z"
   },
   {
    "duration": 5,
    "start_time": "2024-07-18T14:35:57.186Z"
   },
   {
    "duration": 409,
    "start_time": "2024-07-18T14:35:57.193Z"
   },
   {
    "duration": 11,
    "start_time": "2024-07-18T14:35:57.604Z"
   },
   {
    "duration": 37,
    "start_time": "2024-07-18T14:35:57.616Z"
   },
   {
    "duration": 35,
    "start_time": "2024-07-18T14:35:57.656Z"
   },
   {
    "duration": 435,
    "start_time": "2024-07-18T14:41:06.280Z"
   },
   {
    "duration": 27,
    "start_time": "2024-07-18T14:41:06.717Z"
   },
   {
    "duration": 12,
    "start_time": "2024-07-18T14:41:06.745Z"
   },
   {
    "duration": 4,
    "start_time": "2024-07-18T14:41:06.759Z"
   },
   {
    "duration": 18,
    "start_time": "2024-07-18T14:41:06.765Z"
   },
   {
    "duration": 10,
    "start_time": "2024-07-18T14:41:06.785Z"
   },
   {
    "duration": 14,
    "start_time": "2024-07-18T14:41:06.797Z"
   },
   {
    "duration": 20,
    "start_time": "2024-07-18T14:41:06.813Z"
   },
   {
    "duration": 853,
    "start_time": "2024-07-18T14:41:06.835Z"
   },
   {
    "duration": 50,
    "start_time": "2024-07-18T14:41:07.691Z"
   },
   {
    "duration": 17,
    "start_time": "2024-07-18T14:41:07.743Z"
   },
   {
    "duration": 14,
    "start_time": "2024-07-18T14:41:07.761Z"
   },
   {
    "duration": 3,
    "start_time": "2024-07-18T14:41:07.778Z"
   },
   {
    "duration": 16,
    "start_time": "2024-07-18T14:41:07.783Z"
   },
   {
    "duration": 17,
    "start_time": "2024-07-18T14:41:07.801Z"
   },
   {
    "duration": 22,
    "start_time": "2024-07-18T14:41:07.820Z"
   },
   {
    "duration": 12,
    "start_time": "2024-07-18T14:41:07.845Z"
   },
   {
    "duration": 28,
    "start_time": "2024-07-18T14:41:07.860Z"
   },
   {
    "duration": 63,
    "start_time": "2024-07-18T14:41:07.890Z"
   },
   {
    "duration": 314,
    "start_time": "2024-07-18T14:41:07.955Z"
   },
   {
    "duration": 320,
    "start_time": "2024-07-18T14:41:08.271Z"
   },
   {
    "duration": 248,
    "start_time": "2024-07-18T14:41:08.593Z"
   },
   {
    "duration": 325,
    "start_time": "2024-07-18T14:41:08.842Z"
   },
   {
    "duration": 268,
    "start_time": "2024-07-18T14:41:09.169Z"
   },
   {
    "duration": 410,
    "start_time": "2024-07-18T14:41:09.439Z"
   },
   {
    "duration": 13,
    "start_time": "2024-07-18T14:41:09.850Z"
   },
   {
    "duration": 208,
    "start_time": "2024-07-18T14:41:09.865Z"
   },
   {
    "duration": 5,
    "start_time": "2024-07-18T14:41:10.083Z"
   },
   {
    "duration": 179,
    "start_time": "2024-07-18T14:41:10.089Z"
   },
   {
    "duration": 13,
    "start_time": "2024-07-18T14:41:10.270Z"
   },
   {
    "duration": 389,
    "start_time": "2024-07-18T14:41:10.284Z"
   },
   {
    "duration": 11,
    "start_time": "2024-07-18T14:41:10.681Z"
   },
   {
    "duration": 37,
    "start_time": "2024-07-18T14:41:10.694Z"
   },
   {
    "duration": 15,
    "start_time": "2024-07-18T14:41:10.733Z"
   },
   {
    "duration": 117,
    "start_time": "2024-07-18T14:50:37.465Z"
   },
   {
    "duration": 14,
    "start_time": "2024-07-18T14:50:52.098Z"
   },
   {
    "duration": 12,
    "start_time": "2024-07-18T14:50:57.803Z"
   },
   {
    "duration": 157,
    "start_time": "2024-07-18T14:52:01.203Z"
   },
   {
    "duration": 21,
    "start_time": "2024-07-18T14:52:15.723Z"
   },
   {
    "duration": 12,
    "start_time": "2024-07-18T14:52:59.029Z"
   },
   {
    "duration": 19,
    "start_time": "2024-07-18T14:53:27.812Z"
   },
   {
    "duration": 297,
    "start_time": "2024-07-18T14:53:41.045Z"
   },
   {
    "duration": 293,
    "start_time": "2024-07-18T14:53:49.554Z"
   },
   {
    "duration": 362,
    "start_time": "2024-07-18T14:54:13.886Z"
   },
   {
    "duration": 317,
    "start_time": "2024-07-18T14:54:19.221Z"
   },
   {
    "duration": 307,
    "start_time": "2024-07-18T14:54:26.557Z"
   },
   {
    "duration": 316,
    "start_time": "2024-07-18T14:58:21.009Z"
   },
   {
    "duration": 320,
    "start_time": "2024-07-18T14:58:28.938Z"
   },
   {
    "duration": 326,
    "start_time": "2024-07-18T14:58:38.906Z"
   },
   {
    "duration": 10,
    "start_time": "2024-07-18T14:59:30.344Z"
   },
   {
    "duration": 445,
    "start_time": "2024-07-18T14:59:35.562Z"
   },
   {
    "duration": 30,
    "start_time": "2024-07-18T14:59:36.010Z"
   },
   {
    "duration": 15,
    "start_time": "2024-07-18T14:59:36.042Z"
   },
   {
    "duration": 12,
    "start_time": "2024-07-18T14:59:36.059Z"
   },
   {
    "duration": 15,
    "start_time": "2024-07-18T14:59:36.073Z"
   },
   {
    "duration": 16,
    "start_time": "2024-07-18T14:59:36.090Z"
   },
   {
    "duration": 34,
    "start_time": "2024-07-18T14:59:36.107Z"
   },
   {
    "duration": 16,
    "start_time": "2024-07-18T14:59:36.143Z"
   },
   {
    "duration": 15,
    "start_time": "2024-07-18T14:59:36.161Z"
   },
   {
    "duration": 635,
    "start_time": "2024-07-18T14:59:36.181Z"
   },
   {
    "duration": 0,
    "start_time": "2024-07-18T14:59:36.819Z"
   },
   {
    "duration": 0,
    "start_time": "2024-07-18T14:59:36.820Z"
   },
   {
    "duration": 0,
    "start_time": "2024-07-18T14:59:36.821Z"
   },
   {
    "duration": 0,
    "start_time": "2024-07-18T14:59:36.822Z"
   },
   {
    "duration": 0,
    "start_time": "2024-07-18T14:59:36.823Z"
   },
   {
    "duration": 0,
    "start_time": "2024-07-18T14:59:36.824Z"
   },
   {
    "duration": 0,
    "start_time": "2024-07-18T14:59:36.825Z"
   },
   {
    "duration": 0,
    "start_time": "2024-07-18T14:59:36.827Z"
   },
   {
    "duration": 0,
    "start_time": "2024-07-18T14:59:36.828Z"
   },
   {
    "duration": 0,
    "start_time": "2024-07-18T14:59:36.829Z"
   },
   {
    "duration": 0,
    "start_time": "2024-07-18T14:59:36.830Z"
   },
   {
    "duration": 0,
    "start_time": "2024-07-18T14:59:36.831Z"
   },
   {
    "duration": 0,
    "start_time": "2024-07-18T14:59:36.833Z"
   },
   {
    "duration": 0,
    "start_time": "2024-07-18T14:59:36.834Z"
   },
   {
    "duration": 0,
    "start_time": "2024-07-18T14:59:36.835Z"
   },
   {
    "duration": 0,
    "start_time": "2024-07-18T14:59:36.836Z"
   },
   {
    "duration": 0,
    "start_time": "2024-07-18T14:59:36.837Z"
   },
   {
    "duration": 0,
    "start_time": "2024-07-18T14:59:36.838Z"
   },
   {
    "duration": 0,
    "start_time": "2024-07-18T14:59:36.839Z"
   },
   {
    "duration": 0,
    "start_time": "2024-07-18T14:59:36.883Z"
   },
   {
    "duration": 0,
    "start_time": "2024-07-18T14:59:36.884Z"
   },
   {
    "duration": 0,
    "start_time": "2024-07-18T14:59:36.886Z"
   },
   {
    "duration": 0,
    "start_time": "2024-07-18T14:59:36.888Z"
   },
   {
    "duration": 0,
    "start_time": "2024-07-18T14:59:36.890Z"
   },
   {
    "duration": 0,
    "start_time": "2024-07-18T14:59:36.891Z"
   },
   {
    "duration": 0,
    "start_time": "2024-07-18T14:59:36.892Z"
   },
   {
    "duration": 708,
    "start_time": "2024-07-18T15:00:03.427Z"
   },
   {
    "duration": 27,
    "start_time": "2024-07-18T15:00:04.138Z"
   },
   {
    "duration": 13,
    "start_time": "2024-07-18T15:00:04.167Z"
   },
   {
    "duration": 14,
    "start_time": "2024-07-18T15:00:04.183Z"
   },
   {
    "duration": 27,
    "start_time": "2024-07-18T15:00:04.199Z"
   },
   {
    "duration": 105,
    "start_time": "2024-07-18T15:00:04.228Z"
   },
   {
    "duration": 15,
    "start_time": "2024-07-18T15:00:04.335Z"
   },
   {
    "duration": 13,
    "start_time": "2024-07-18T15:00:04.352Z"
   },
   {
    "duration": 16,
    "start_time": "2024-07-18T15:00:04.367Z"
   },
   {
    "duration": 339,
    "start_time": "2024-07-18T15:00:04.386Z"
   },
   {
    "duration": 565,
    "start_time": "2024-07-18T15:00:04.727Z"
   },
   {
    "duration": 60,
    "start_time": "2024-07-18T15:00:05.294Z"
   },
   {
    "duration": 18,
    "start_time": "2024-07-18T15:00:05.355Z"
   },
   {
    "duration": 17,
    "start_time": "2024-07-18T15:00:05.376Z"
   },
   {
    "duration": 28,
    "start_time": "2024-07-18T15:00:05.395Z"
   },
   {
    "duration": 35,
    "start_time": "2024-07-18T15:00:05.425Z"
   },
   {
    "duration": 24,
    "start_time": "2024-07-18T15:00:05.462Z"
   },
   {
    "duration": 16,
    "start_time": "2024-07-18T15:00:05.488Z"
   },
   {
    "duration": 16,
    "start_time": "2024-07-18T15:00:05.506Z"
   },
   {
    "duration": 12,
    "start_time": "2024-07-18T15:00:05.524Z"
   },
   {
    "duration": 11,
    "start_time": "2024-07-18T15:00:05.538Z"
   },
   {
    "duration": 343,
    "start_time": "2024-07-18T15:00:05.551Z"
   },
   {
    "duration": 309,
    "start_time": "2024-07-18T15:00:05.896Z"
   },
   {
    "duration": 231,
    "start_time": "2024-07-18T15:00:06.207Z"
   },
   {
    "duration": 334,
    "start_time": "2024-07-18T15:00:06.440Z"
   },
   {
    "duration": 257,
    "start_time": "2024-07-18T15:00:06.782Z"
   },
   {
    "duration": 427,
    "start_time": "2024-07-18T15:00:07.041Z"
   },
   {
    "duration": 14,
    "start_time": "2024-07-18T15:00:07.472Z"
   },
   {
    "duration": 268,
    "start_time": "2024-07-18T15:00:07.488Z"
   },
   {
    "duration": 5,
    "start_time": "2024-07-18T15:00:07.758Z"
   },
   {
    "duration": 192,
    "start_time": "2024-07-18T15:00:07.765Z"
   },
   {
    "duration": 6,
    "start_time": "2024-07-18T15:00:07.959Z"
   },
   {
    "duration": 419,
    "start_time": "2024-07-18T15:00:07.967Z"
   },
   {
    "duration": 12,
    "start_time": "2024-07-18T15:00:08.388Z"
   },
   {
    "duration": 36,
    "start_time": "2024-07-18T15:00:08.402Z"
   },
   {
    "duration": 43,
    "start_time": "2024-07-18T15:00:08.440Z"
   },
   {
    "duration": 943,
    "start_time": "2024-07-19T06:14:06.632Z"
   },
   {
    "duration": 80,
    "start_time": "2024-07-19T06:14:07.577Z"
   },
   {
    "duration": 15,
    "start_time": "2024-07-19T06:14:07.660Z"
   },
   {
    "duration": 5,
    "start_time": "2024-07-19T06:14:07.677Z"
   },
   {
    "duration": 34,
    "start_time": "2024-07-19T06:14:07.684Z"
   },
   {
    "duration": 11,
    "start_time": "2024-07-19T06:14:07.719Z"
   },
   {
    "duration": 26,
    "start_time": "2024-07-19T06:14:07.732Z"
   },
   {
    "duration": 12,
    "start_time": "2024-07-19T06:14:07.760Z"
   },
   {
    "duration": 11,
    "start_time": "2024-07-19T06:14:07.774Z"
   },
   {
    "duration": 398,
    "start_time": "2024-07-19T06:14:07.787Z"
   },
   {
    "duration": 602,
    "start_time": "2024-07-19T06:14:08.186Z"
   },
   {
    "duration": 180,
    "start_time": "2024-07-19T06:14:08.790Z"
   },
   {
    "duration": 15,
    "start_time": "2024-07-19T06:14:08.972Z"
   },
   {
    "duration": 5,
    "start_time": "2024-07-19T06:14:08.990Z"
   },
   {
    "duration": 3,
    "start_time": "2024-07-19T06:14:08.997Z"
   },
   {
    "duration": 14,
    "start_time": "2024-07-19T06:14:09.002Z"
   },
   {
    "duration": 16,
    "start_time": "2024-07-19T06:14:09.018Z"
   },
   {
    "duration": 25,
    "start_time": "2024-07-19T06:14:09.036Z"
   },
   {
    "duration": 12,
    "start_time": "2024-07-19T06:14:09.063Z"
   },
   {
    "duration": 12,
    "start_time": "2024-07-19T06:14:09.077Z"
   },
   {
    "duration": 16,
    "start_time": "2024-07-19T06:14:09.090Z"
   },
   {
    "duration": 366,
    "start_time": "2024-07-19T06:14:09.108Z"
   },
   {
    "duration": 355,
    "start_time": "2024-07-19T06:14:09.476Z"
   },
   {
    "duration": 264,
    "start_time": "2024-07-19T06:14:09.833Z"
   },
   {
    "duration": 368,
    "start_time": "2024-07-19T06:14:10.099Z"
   },
   {
    "duration": 253,
    "start_time": "2024-07-19T06:14:10.469Z"
   },
   {
    "duration": 442,
    "start_time": "2024-07-19T06:14:10.724Z"
   },
   {
    "duration": 12,
    "start_time": "2024-07-19T06:14:11.168Z"
   },
   {
    "duration": 277,
    "start_time": "2024-07-19T06:14:11.182Z"
   },
   {
    "duration": 5,
    "start_time": "2024-07-19T06:14:11.462Z"
   },
   {
    "duration": 170,
    "start_time": "2024-07-19T06:14:11.469Z"
   },
   {
    "duration": 16,
    "start_time": "2024-07-19T06:14:11.641Z"
   },
   {
    "duration": 407,
    "start_time": "2024-07-19T06:14:11.659Z"
   },
   {
    "duration": 11,
    "start_time": "2024-07-19T06:14:12.068Z"
   },
   {
    "duration": 37,
    "start_time": "2024-07-19T06:14:12.081Z"
   },
   {
    "duration": 37,
    "start_time": "2024-07-19T06:14:12.119Z"
   },
   {
    "duration": 739,
    "start_time": "2024-07-19T06:14:18.296Z"
   },
   {
    "duration": 33,
    "start_time": "2024-07-19T06:14:19.037Z"
   },
   {
    "duration": 13,
    "start_time": "2024-07-19T06:14:19.074Z"
   },
   {
    "duration": 3,
    "start_time": "2024-07-19T06:14:19.090Z"
   },
   {
    "duration": 19,
    "start_time": "2024-07-19T06:14:19.094Z"
   },
   {
    "duration": 8,
    "start_time": "2024-07-19T06:14:19.114Z"
   },
   {
    "duration": 13,
    "start_time": "2024-07-19T06:14:19.124Z"
   },
   {
    "duration": 29,
    "start_time": "2024-07-19T06:14:19.138Z"
   },
   {
    "duration": 33,
    "start_time": "2024-07-19T06:14:19.169Z"
   },
   {
    "duration": 464,
    "start_time": "2024-07-19T06:14:19.204Z"
   },
   {
    "duration": 1005,
    "start_time": "2024-07-19T06:14:19.669Z"
   },
   {
    "duration": 85,
    "start_time": "2024-07-19T06:14:20.676Z"
   },
   {
    "duration": 18,
    "start_time": "2024-07-19T06:14:20.765Z"
   },
   {
    "duration": 5,
    "start_time": "2024-07-19T06:14:20.785Z"
   },
   {
    "duration": 3,
    "start_time": "2024-07-19T06:14:20.792Z"
   },
   {
    "duration": 60,
    "start_time": "2024-07-19T06:14:20.796Z"
   },
   {
    "duration": 16,
    "start_time": "2024-07-19T06:14:20.858Z"
   },
   {
    "duration": 7,
    "start_time": "2024-07-19T06:14:20.876Z"
   },
   {
    "duration": 15,
    "start_time": "2024-07-19T06:14:20.884Z"
   },
   {
    "duration": 62,
    "start_time": "2024-07-19T06:14:20.900Z"
   },
   {
    "duration": 15,
    "start_time": "2024-07-19T06:14:20.964Z"
   },
   {
    "duration": 541,
    "start_time": "2024-07-19T06:14:20.981Z"
   },
   {
    "duration": 335,
    "start_time": "2024-07-19T06:14:21.524Z"
   },
   {
    "duration": 249,
    "start_time": "2024-07-19T06:14:21.862Z"
   },
   {
    "duration": 360,
    "start_time": "2024-07-19T06:14:22.113Z"
   },
   {
    "duration": 287,
    "start_time": "2024-07-19T06:14:22.475Z"
   },
   {
    "duration": 373,
    "start_time": "2024-07-19T06:14:22.764Z"
   },
   {
    "duration": 22,
    "start_time": "2024-07-19T06:14:23.139Z"
   },
   {
    "duration": 268,
    "start_time": "2024-07-19T06:14:23.164Z"
   },
   {
    "duration": 5,
    "start_time": "2024-07-19T06:14:23.433Z"
   },
   {
    "duration": 179,
    "start_time": "2024-07-19T06:14:23.439Z"
   },
   {
    "duration": 5,
    "start_time": "2024-07-19T06:14:23.620Z"
   },
   {
    "duration": 417,
    "start_time": "2024-07-19T06:14:23.626Z"
   },
   {
    "duration": 15,
    "start_time": "2024-07-19T06:14:24.055Z"
   },
   {
    "duration": 39,
    "start_time": "2024-07-19T06:14:24.072Z"
   },
   {
    "duration": 13,
    "start_time": "2024-07-19T06:14:24.113Z"
   },
   {
    "duration": 55,
    "start_time": "2024-07-19T08:51:56.015Z"
   },
   {
    "duration": 1868,
    "start_time": "2024-07-19T08:52:00.804Z"
   },
   {
    "duration": 102,
    "start_time": "2024-07-19T08:52:02.674Z"
   },
   {
    "duration": 11,
    "start_time": "2024-07-19T08:52:02.778Z"
   },
   {
    "duration": 72,
    "start_time": "2024-07-19T08:52:02.791Z"
   },
   {
    "duration": 79,
    "start_time": "2024-07-19T08:52:02.866Z"
   },
   {
    "duration": 30,
    "start_time": "2024-07-19T08:52:02.947Z"
   },
   {
    "duration": 67,
    "start_time": "2024-07-19T08:52:02.978Z"
   },
   {
    "duration": 17,
    "start_time": "2024-07-19T08:52:03.054Z"
   },
   {
    "duration": 294,
    "start_time": "2024-07-19T08:52:03.074Z"
   },
   {
    "duration": 1,
    "start_time": "2024-07-19T08:52:03.371Z"
   },
   {
    "duration": 0,
    "start_time": "2024-07-19T08:52:03.373Z"
   },
   {
    "duration": 0,
    "start_time": "2024-07-19T08:52:03.374Z"
   },
   {
    "duration": 0,
    "start_time": "2024-07-19T08:52:03.376Z"
   },
   {
    "duration": 0,
    "start_time": "2024-07-19T08:52:03.377Z"
   },
   {
    "duration": 0,
    "start_time": "2024-07-19T08:52:03.379Z"
   },
   {
    "duration": 0,
    "start_time": "2024-07-19T08:52:03.380Z"
   },
   {
    "duration": 0,
    "start_time": "2024-07-19T08:52:03.440Z"
   },
   {
    "duration": 0,
    "start_time": "2024-07-19T08:52:03.443Z"
   },
   {
    "duration": 0,
    "start_time": "2024-07-19T08:52:03.445Z"
   },
   {
    "duration": 0,
    "start_time": "2024-07-19T08:52:03.446Z"
   },
   {
    "duration": 0,
    "start_time": "2024-07-19T08:52:03.447Z"
   },
   {
    "duration": 0,
    "start_time": "2024-07-19T08:52:03.449Z"
   },
   {
    "duration": 0,
    "start_time": "2024-07-19T08:52:03.450Z"
   },
   {
    "duration": 0,
    "start_time": "2024-07-19T08:52:03.451Z"
   },
   {
    "duration": 0,
    "start_time": "2024-07-19T08:52:03.453Z"
   },
   {
    "duration": 0,
    "start_time": "2024-07-19T08:52:03.454Z"
   },
   {
    "duration": 0,
    "start_time": "2024-07-19T08:52:03.456Z"
   },
   {
    "duration": 0,
    "start_time": "2024-07-19T08:52:03.457Z"
   },
   {
    "duration": 0,
    "start_time": "2024-07-19T08:52:03.458Z"
   },
   {
    "duration": 0,
    "start_time": "2024-07-19T08:52:03.460Z"
   },
   {
    "duration": 0,
    "start_time": "2024-07-19T08:52:03.461Z"
   },
   {
    "duration": 0,
    "start_time": "2024-07-19T08:52:03.463Z"
   },
   {
    "duration": 0,
    "start_time": "2024-07-19T08:52:03.464Z"
   },
   {
    "duration": 0,
    "start_time": "2024-07-19T08:52:03.466Z"
   },
   {
    "duration": 0,
    "start_time": "2024-07-19T08:52:03.467Z"
   },
   {
    "duration": 0,
    "start_time": "2024-07-19T08:52:03.468Z"
   },
   {
    "duration": 15,
    "start_time": "2024-07-19T08:52:55.356Z"
   },
   {
    "duration": 12,
    "start_time": "2024-07-19T08:54:13.162Z"
   },
   {
    "duration": 18,
    "start_time": "2024-07-19T08:55:05.137Z"
   },
   {
    "duration": 69,
    "start_time": "2024-07-19T08:55:24.312Z"
   },
   {
    "duration": 15,
    "start_time": "2024-07-19T08:55:31.170Z"
   },
   {
    "duration": 1136,
    "start_time": "2024-07-19T08:55:45.472Z"
   },
   {
    "duration": 26,
    "start_time": "2024-07-19T08:55:46.610Z"
   },
   {
    "duration": 23,
    "start_time": "2024-07-19T08:55:46.639Z"
   },
   {
    "duration": 3,
    "start_time": "2024-07-19T08:55:46.671Z"
   },
   {
    "duration": 22,
    "start_time": "2024-07-19T08:55:46.675Z"
   },
   {
    "duration": 56,
    "start_time": "2024-07-19T08:55:46.698Z"
   },
   {
    "duration": 36,
    "start_time": "2024-07-19T08:55:46.756Z"
   },
   {
    "duration": 39,
    "start_time": "2024-07-19T08:55:46.794Z"
   },
   {
    "duration": 77,
    "start_time": "2024-07-19T08:55:46.835Z"
   },
   {
    "duration": 3,
    "start_time": "2024-07-19T08:55:46.915Z"
   },
   {
    "duration": 233,
    "start_time": "2024-07-19T08:55:46.919Z"
   },
   {
    "duration": 16,
    "start_time": "2024-07-19T08:55:47.154Z"
   },
   {
    "duration": 20,
    "start_time": "2024-07-19T08:55:47.172Z"
   },
   {
    "duration": 76,
    "start_time": "2024-07-19T08:55:47.194Z"
   },
   {
    "duration": 39,
    "start_time": "2024-07-19T08:55:47.271Z"
   },
   {
    "duration": 94,
    "start_time": "2024-07-19T08:55:47.312Z"
   },
   {
    "duration": 4,
    "start_time": "2024-07-19T08:55:47.407Z"
   },
   {
    "duration": 16,
    "start_time": "2024-07-19T08:55:47.412Z"
   },
   {
    "duration": 37,
    "start_time": "2024-07-19T08:55:47.429Z"
   },
   {
    "duration": 11,
    "start_time": "2024-07-19T08:55:47.467Z"
   },
   {
    "duration": 296,
    "start_time": "2024-07-19T08:55:47.479Z"
   },
   {
    "duration": 321,
    "start_time": "2024-07-19T08:55:47.776Z"
   },
   {
    "duration": 277,
    "start_time": "2024-07-19T08:55:48.099Z"
   },
   {
    "duration": 323,
    "start_time": "2024-07-19T08:55:48.378Z"
   },
   {
    "duration": 266,
    "start_time": "2024-07-19T08:55:48.703Z"
   },
   {
    "duration": 348,
    "start_time": "2024-07-19T08:55:48.971Z"
   },
   {
    "duration": 40,
    "start_time": "2024-07-19T08:55:49.321Z"
   },
   {
    "duration": 170,
    "start_time": "2024-07-19T08:55:49.364Z"
   },
   {
    "duration": 18,
    "start_time": "2024-07-19T08:55:49.536Z"
   },
   {
    "duration": 289,
    "start_time": "2024-07-19T08:55:49.558Z"
   },
   {
    "duration": 7,
    "start_time": "2024-07-19T08:55:49.849Z"
   },
   {
    "duration": 925,
    "start_time": "2024-07-19T08:55:49.858Z"
   },
   {
    "duration": 18,
    "start_time": "2024-07-19T08:55:50.838Z"
   },
   {
    "duration": 82,
    "start_time": "2024-07-19T08:55:50.858Z"
   },
   {
    "duration": 18,
    "start_time": "2024-07-19T08:55:50.946Z"
   },
   {
    "duration": 20,
    "start_time": "2024-07-19T08:55:54.350Z"
   },
   {
    "duration": 17,
    "start_time": "2024-07-19T08:56:01.474Z"
   },
   {
    "duration": 19,
    "start_time": "2024-07-19T08:56:05.631Z"
   },
   {
    "duration": 18,
    "start_time": "2024-07-19T08:56:15.488Z"
   },
   {
    "duration": 1408,
    "start_time": "2024-07-19T15:17:23.704Z"
   },
   {
    "duration": 70,
    "start_time": "2024-07-19T15:17:25.114Z"
   },
   {
    "duration": 15,
    "start_time": "2024-07-19T15:17:25.186Z"
   },
   {
    "duration": 14,
    "start_time": "2024-07-19T15:17:25.203Z"
   },
   {
    "duration": 32,
    "start_time": "2024-07-19T15:17:25.218Z"
   },
   {
    "duration": 8,
    "start_time": "2024-07-19T15:17:25.252Z"
   },
   {
    "duration": 12,
    "start_time": "2024-07-19T15:17:25.262Z"
   },
   {
    "duration": 13,
    "start_time": "2024-07-19T15:17:25.276Z"
   },
   {
    "duration": 58,
    "start_time": "2024-07-19T15:17:25.291Z"
   },
   {
    "duration": 3,
    "start_time": "2024-07-19T15:17:25.352Z"
   },
   {
    "duration": 177,
    "start_time": "2024-07-19T15:17:25.356Z"
   },
   {
    "duration": 19,
    "start_time": "2024-07-19T15:17:25.535Z"
   },
   {
    "duration": 20,
    "start_time": "2024-07-19T15:17:25.556Z"
   },
   {
    "duration": 3,
    "start_time": "2024-07-19T15:17:25.578Z"
   },
   {
    "duration": 17,
    "start_time": "2024-07-19T15:17:25.583Z"
   },
   {
    "duration": 17,
    "start_time": "2024-07-19T15:17:25.602Z"
   },
   {
    "duration": 31,
    "start_time": "2024-07-19T15:17:25.621Z"
   },
   {
    "duration": 17,
    "start_time": "2024-07-19T15:17:25.653Z"
   },
   {
    "duration": 24,
    "start_time": "2024-07-19T15:17:25.672Z"
   },
   {
    "duration": 17,
    "start_time": "2024-07-19T15:17:25.698Z"
   },
   {
    "duration": 307,
    "start_time": "2024-07-19T15:17:25.716Z"
   },
   {
    "duration": 314,
    "start_time": "2024-07-19T15:17:26.024Z"
   },
   {
    "duration": 257,
    "start_time": "2024-07-19T15:17:26.340Z"
   },
   {
    "duration": 403,
    "start_time": "2024-07-19T15:17:26.600Z"
   },
   {
    "duration": 506,
    "start_time": "2024-07-19T15:17:27.005Z"
   },
   {
    "duration": 680,
    "start_time": "2024-07-19T15:17:27.512Z"
   },
   {
    "duration": 12,
    "start_time": "2024-07-19T15:17:28.193Z"
   },
   {
    "duration": 526,
    "start_time": "2024-07-19T15:17:28.208Z"
   },
   {
    "duration": 6,
    "start_time": "2024-07-19T15:17:28.735Z"
   },
   {
    "duration": 183,
    "start_time": "2024-07-19T15:17:28.742Z"
   },
   {
    "duration": 5,
    "start_time": "2024-07-19T15:17:28.927Z"
   },
   {
    "duration": 401,
    "start_time": "2024-07-19T15:17:28.934Z"
   },
   {
    "duration": 10,
    "start_time": "2024-07-19T15:17:29.337Z"
   },
   {
    "duration": 51,
    "start_time": "2024-07-19T15:17:29.349Z"
   },
   {
    "duration": 14,
    "start_time": "2024-07-19T15:17:29.401Z"
   },
   {
    "duration": 1084,
    "start_time": "2024-10-16T13:21:50.832Z"
   },
   {
    "duration": 72,
    "start_time": "2024-10-16T13:21:51.918Z"
   },
   {
    "duration": 40,
    "start_time": "2024-10-16T13:21:51.991Z"
   },
   {
    "duration": 5,
    "start_time": "2024-10-16T13:21:52.034Z"
   },
   {
    "duration": 13,
    "start_time": "2024-10-16T13:21:52.041Z"
   },
   {
    "duration": 8,
    "start_time": "2024-10-16T13:21:52.055Z"
   },
   {
    "duration": 16,
    "start_time": "2024-10-16T13:21:52.064Z"
   },
   {
    "duration": 9,
    "start_time": "2024-10-16T13:21:52.082Z"
   },
   {
    "duration": 66,
    "start_time": "2024-10-16T13:21:52.092Z"
   },
   {
    "duration": 3,
    "start_time": "2024-10-16T13:21:52.160Z"
   },
   {
    "duration": 194,
    "start_time": "2024-10-16T13:21:52.164Z"
   },
   {
    "duration": 14,
    "start_time": "2024-10-16T13:21:52.359Z"
   },
   {
    "duration": 78,
    "start_time": "2024-10-16T13:21:52.374Z"
   },
   {
    "duration": 11,
    "start_time": "2024-10-16T13:21:52.453Z"
   },
   {
    "duration": 20,
    "start_time": "2024-10-16T13:21:52.465Z"
   },
   {
    "duration": 25,
    "start_time": "2024-10-16T13:21:52.486Z"
   },
   {
    "duration": 7,
    "start_time": "2024-10-16T13:21:52.512Z"
   },
   {
    "duration": 16,
    "start_time": "2024-10-16T13:21:52.520Z"
   },
   {
    "duration": 21,
    "start_time": "2024-10-16T13:21:52.537Z"
   },
   {
    "duration": 10,
    "start_time": "2024-10-16T13:21:52.559Z"
   },
   {
    "duration": 264,
    "start_time": "2024-10-16T13:21:52.570Z"
   },
   {
    "duration": 264,
    "start_time": "2024-10-16T13:21:52.835Z"
   },
   {
    "duration": 193,
    "start_time": "2024-10-16T13:21:53.100Z"
   },
   {
    "duration": 274,
    "start_time": "2024-10-16T13:21:53.295Z"
   },
   {
    "duration": 217,
    "start_time": "2024-10-16T13:21:53.571Z"
   },
   {
    "duration": 343,
    "start_time": "2024-10-16T13:21:53.789Z"
   },
   {
    "duration": 9,
    "start_time": "2024-10-16T13:21:54.134Z"
   },
   {
    "duration": 170,
    "start_time": "2024-10-16T13:21:54.157Z"
   },
   {
    "duration": 5,
    "start_time": "2024-10-16T13:21:54.328Z"
   },
   {
    "duration": 322,
    "start_time": "2024-10-16T13:21:54.334Z"
   },
   {
    "duration": 4,
    "start_time": "2024-10-16T13:21:54.658Z"
   },
   {
    "duration": 321,
    "start_time": "2024-10-16T13:21:54.664Z"
   },
   {
    "duration": 9,
    "start_time": "2024-10-16T13:21:54.986Z"
   },
   {
    "duration": 36,
    "start_time": "2024-10-16T13:21:54.996Z"
   },
   {
    "duration": 15,
    "start_time": "2024-10-16T13:21:55.033Z"
   }
  ],
  "kernelspec": {
   "display_name": "Python 3 (ipykernel)",
   "language": "python",
   "name": "python3"
  },
  "language_info": {
   "codemirror_mode": {
    "name": "ipython",
    "version": 3
   },
   "file_extension": ".py",
   "mimetype": "text/x-python",
   "name": "python",
   "nbconvert_exporter": "python",
   "pygments_lexer": "ipython3",
   "version": "3.9.5"
  },
  "toc": {
   "base_numbering": 1,
   "nav_menu": {},
   "number_sections": true,
   "sideBar": true,
   "skip_h1_title": true,
   "title_cell": "Table of Contents",
   "title_sidebar": "Contents",
   "toc_cell": false,
   "toc_position": {
    "height": "calc(100% - 180px)",
    "left": "10px",
    "top": "150px",
    "width": "345.994px"
   },
   "toc_section_display": true,
   "toc_window_display": true
  }
 },
 "nbformat": 4,
 "nbformat_minor": 2
}
