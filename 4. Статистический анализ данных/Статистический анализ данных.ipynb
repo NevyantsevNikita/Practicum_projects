{
 "cells": [
  {
   "cell_type": "markdown",
   "id": "ed00a7f7",
   "metadata": {},
   "source": [
    "# Проект: Статистический анализ данных\n",
    "Вы аналитик популярного сервиса аренды самокатов GoFast. Вам передали данные о некоторых пользователях из нескольких городов, а также об их поездках. Проанализируйте данные и проверьте некоторые гипотезы, которые могут помочь бизнесу вырасти.  \n",
    "Чтобы совершать поездки по городу, пользователи сервиса GoFast пользуются мобильным приложением. Сервисом можно пользоваться:  \n",
    "* без подписки \n",
    "    * абонентская плата отсутствует;  \n",
    "    * стоимость одной минуты поездки — 8 рублей;\n",
    "    * стоимость старта (начала поездки) — 50 рублей;\n",
    "* с подпиской Ultra\n",
    "    * абонентская плата — 199 рублей в месяц;\n",
    "    * стоимость одной минуты поездки — 6 рублей;\n",
    "    * стоимость старта — бесплатно."
   ]
  },
  {
   "cell_type": "markdown",
   "id": "11c43a0e",
   "metadata": {},
   "source": [
    "# Описание данных\n",
    "\n",
    "В основных данных есть информация о пользователях, их поездках и подписках.\n",
    "\n",
    "**Пользователи** — `users_go.csv`  \n",
    "`user_id` - уникальный идентификатор пользователя  \n",
    "`name` - имя пользователя  \n",
    "`age` - возраст  \n",
    "`city` - город  \n",
    "`subscription_type` - тип подписки (free, ultra)  \n",
    "\n",
    "**Поездки** — `rides_go.csv`  \n",
    "`user_id` - уникальный идентификатор пользователя  \n",
    "`distance` - расстояние, которое пользователь проехал в текущей сессии (в метрах)  \n",
    "`duration` - продолжительность сессии (в минутах) — время с того момента, как пользователь нажал кнопку «Начать поездку» до момента, как он нажал кнопку «Завершить поездку»  \n",
    "`date` - дата совершения поездки  \n",
    "\n",
    "**Подписки** — `subscriptions_go.csv`  \n",
    "`subscription_type` - тип подписки  \n",
    "`minute_price` - стоимость одной минуты поездки по данной подписке  \n",
    "`start_ride_price` - стоимость начала поездки  \n",
    "`subscription_fee` - стоимость ежемесячного платежа  "
   ]
  },
  {
   "cell_type": "markdown",
   "id": "f861faa6",
   "metadata": {},
   "source": [
    "#### Импорт библиотек"
   ]
  },
  {
   "cell_type": "code",
   "execution_count": 1,
   "id": "eff9f206",
   "metadata": {},
   "outputs": [],
   "source": [
    "import pandas as pd\n",
    "import matplotlib.pyplot as plt\n",
    "import numpy as np\n",
    "from scipy import stats\n",
    "from scipy.stats import binom"
   ]
  },
  {
   "cell_type": "markdown",
   "id": "c42cbe00",
   "metadata": {},
   "source": [
    "### Загрузка данных"
   ]
  },
  {
   "cell_type": "markdown",
   "id": "39b0c476",
   "metadata": {},
   "source": [
    "#### Считаем CSV-файлы и зададим переменные"
   ]
  },
  {
   "cell_type": "code",
   "execution_count": 2,
   "id": "c14c3215",
   "metadata": {},
   "outputs": [],
   "source": [
    "users_go = pd.read_csv('/datasets/users_go.csv')\n",
    "rides_go = pd.read_csv('/datasets/rides_go.csv')\n",
    "subscriptions_go = pd.read_csv('/datasets/subscriptions_go.csv')"
   ]
  },
  {
   "cell_type": "markdown",
   "id": "f5b6623d",
   "metadata": {},
   "source": [
    "#### Просмотр первых 5 строк каждой таблицы"
   ]
  },
  {
   "cell_type": "code",
   "execution_count": 3,
   "id": "5fa66a08",
   "metadata": {},
   "outputs": [
    {
     "data": {
      "text/html": [
       "<div>\n",
       "<style scoped>\n",
       "    .dataframe tbody tr th:only-of-type {\n",
       "        vertical-align: middle;\n",
       "    }\n",
       "\n",
       "    .dataframe tbody tr th {\n",
       "        vertical-align: top;\n",
       "    }\n",
       "\n",
       "    .dataframe thead th {\n",
       "        text-align: right;\n",
       "    }\n",
       "</style>\n",
       "<table border=\"1\" class=\"dataframe\">\n",
       "  <thead>\n",
       "    <tr style=\"text-align: right;\">\n",
       "      <th></th>\n",
       "      <th>user_id</th>\n",
       "      <th>name</th>\n",
       "      <th>age</th>\n",
       "      <th>city</th>\n",
       "      <th>subscription_type</th>\n",
       "    </tr>\n",
       "  </thead>\n",
       "  <tbody>\n",
       "    <tr>\n",
       "      <th>0</th>\n",
       "      <td>1</td>\n",
       "      <td>Кира</td>\n",
       "      <td>22</td>\n",
       "      <td>Тюмень</td>\n",
       "      <td>ultra</td>\n",
       "    </tr>\n",
       "    <tr>\n",
       "      <th>1</th>\n",
       "      <td>2</td>\n",
       "      <td>Станислав</td>\n",
       "      <td>31</td>\n",
       "      <td>Омск</td>\n",
       "      <td>ultra</td>\n",
       "    </tr>\n",
       "    <tr>\n",
       "      <th>2</th>\n",
       "      <td>3</td>\n",
       "      <td>Алексей</td>\n",
       "      <td>20</td>\n",
       "      <td>Москва</td>\n",
       "      <td>ultra</td>\n",
       "    </tr>\n",
       "    <tr>\n",
       "      <th>3</th>\n",
       "      <td>4</td>\n",
       "      <td>Константин</td>\n",
       "      <td>26</td>\n",
       "      <td>Ростов-на-Дону</td>\n",
       "      <td>ultra</td>\n",
       "    </tr>\n",
       "    <tr>\n",
       "      <th>4</th>\n",
       "      <td>5</td>\n",
       "      <td>Адель</td>\n",
       "      <td>28</td>\n",
       "      <td>Омск</td>\n",
       "      <td>ultra</td>\n",
       "    </tr>\n",
       "  </tbody>\n",
       "</table>\n",
       "</div>"
      ],
      "text/plain": [
       "   user_id        name  age            city subscription_type\n",
       "0        1        Кира   22          Тюмень             ultra\n",
       "1        2   Станислав   31            Омск             ultra\n",
       "2        3     Алексей   20          Москва             ultra\n",
       "3        4  Константин   26  Ростов-на-Дону             ultra\n",
       "4        5       Адель   28            Омск             ultra"
      ]
     },
     "execution_count": 3,
     "metadata": {},
     "output_type": "execute_result"
    }
   ],
   "source": [
    "users_go.head()"
   ]
  },
  {
   "cell_type": "code",
   "execution_count": 4,
   "id": "643f2b34",
   "metadata": {},
   "outputs": [
    {
     "data": {
      "text/html": [
       "<div>\n",
       "<style scoped>\n",
       "    .dataframe tbody tr th:only-of-type {\n",
       "        vertical-align: middle;\n",
       "    }\n",
       "\n",
       "    .dataframe tbody tr th {\n",
       "        vertical-align: top;\n",
       "    }\n",
       "\n",
       "    .dataframe thead th {\n",
       "        text-align: right;\n",
       "    }\n",
       "</style>\n",
       "<table border=\"1\" class=\"dataframe\">\n",
       "  <thead>\n",
       "    <tr style=\"text-align: right;\">\n",
       "      <th></th>\n",
       "      <th>user_id</th>\n",
       "      <th>distance</th>\n",
       "      <th>duration</th>\n",
       "      <th>date</th>\n",
       "    </tr>\n",
       "  </thead>\n",
       "  <tbody>\n",
       "    <tr>\n",
       "      <th>0</th>\n",
       "      <td>1</td>\n",
       "      <td>4409.919140</td>\n",
       "      <td>25.599769</td>\n",
       "      <td>2021-01-01</td>\n",
       "    </tr>\n",
       "    <tr>\n",
       "      <th>1</th>\n",
       "      <td>1</td>\n",
       "      <td>2617.592153</td>\n",
       "      <td>15.816871</td>\n",
       "      <td>2021-01-18</td>\n",
       "    </tr>\n",
       "    <tr>\n",
       "      <th>2</th>\n",
       "      <td>1</td>\n",
       "      <td>754.159807</td>\n",
       "      <td>6.232113</td>\n",
       "      <td>2021-04-20</td>\n",
       "    </tr>\n",
       "    <tr>\n",
       "      <th>3</th>\n",
       "      <td>1</td>\n",
       "      <td>2694.783254</td>\n",
       "      <td>18.511000</td>\n",
       "      <td>2021-08-11</td>\n",
       "    </tr>\n",
       "    <tr>\n",
       "      <th>4</th>\n",
       "      <td>1</td>\n",
       "      <td>4028.687306</td>\n",
       "      <td>26.265803</td>\n",
       "      <td>2021-08-28</td>\n",
       "    </tr>\n",
       "  </tbody>\n",
       "</table>\n",
       "</div>"
      ],
      "text/plain": [
       "   user_id     distance   duration        date\n",
       "0        1  4409.919140  25.599769  2021-01-01\n",
       "1        1  2617.592153  15.816871  2021-01-18\n",
       "2        1   754.159807   6.232113  2021-04-20\n",
       "3        1  2694.783254  18.511000  2021-08-11\n",
       "4        1  4028.687306  26.265803  2021-08-28"
      ]
     },
     "execution_count": 4,
     "metadata": {},
     "output_type": "execute_result"
    }
   ],
   "source": [
    "rides_go.head()"
   ]
  },
  {
   "cell_type": "code",
   "execution_count": 5,
   "id": "0e917a92",
   "metadata": {},
   "outputs": [
    {
     "data": {
      "text/html": [
       "<div>\n",
       "<style scoped>\n",
       "    .dataframe tbody tr th:only-of-type {\n",
       "        vertical-align: middle;\n",
       "    }\n",
       "\n",
       "    .dataframe tbody tr th {\n",
       "        vertical-align: top;\n",
       "    }\n",
       "\n",
       "    .dataframe thead th {\n",
       "        text-align: right;\n",
       "    }\n",
       "</style>\n",
       "<table border=\"1\" class=\"dataframe\">\n",
       "  <thead>\n",
       "    <tr style=\"text-align: right;\">\n",
       "      <th></th>\n",
       "      <th>subscription_type</th>\n",
       "      <th>minute_price</th>\n",
       "      <th>start_ride_price</th>\n",
       "      <th>subscription_fee</th>\n",
       "    </tr>\n",
       "  </thead>\n",
       "  <tbody>\n",
       "    <tr>\n",
       "      <th>0</th>\n",
       "      <td>free</td>\n",
       "      <td>8</td>\n",
       "      <td>50</td>\n",
       "      <td>0</td>\n",
       "    </tr>\n",
       "    <tr>\n",
       "      <th>1</th>\n",
       "      <td>ultra</td>\n",
       "      <td>6</td>\n",
       "      <td>0</td>\n",
       "      <td>199</td>\n",
       "    </tr>\n",
       "  </tbody>\n",
       "</table>\n",
       "</div>"
      ],
      "text/plain": [
       "  subscription_type  minute_price  start_ride_price  subscription_fee\n",
       "0              free             8                50                 0\n",
       "1             ultra             6                 0               199"
      ]
     },
     "execution_count": 5,
     "metadata": {},
     "output_type": "execute_result"
    }
   ],
   "source": [
    "subscriptions_go.head()"
   ]
  },
  {
   "cell_type": "markdown",
   "id": "37262e61",
   "metadata": {},
   "source": [
    "#### Общая информация о каждой таблице и проверка на дубликаты"
   ]
  },
  {
   "cell_type": "code",
   "execution_count": 6,
   "id": "e79b33b2",
   "metadata": {},
   "outputs": [
    {
     "name": "stdout",
     "output_type": "stream",
     "text": [
      "<class 'pandas.core.frame.DataFrame'>\n",
      "RangeIndex: 1565 entries, 0 to 1564\n",
      "Data columns (total 5 columns):\n",
      " #   Column             Non-Null Count  Dtype \n",
      "---  ------             --------------  ----- \n",
      " 0   user_id            1565 non-null   int64 \n",
      " 1   name               1565 non-null   object\n",
      " 2   age                1565 non-null   int64 \n",
      " 3   city               1565 non-null   object\n",
      " 4   subscription_type  1565 non-null   object\n",
      "dtypes: int64(2), object(3)\n",
      "memory usage: 61.3+ KB\n"
     ]
    }
   ],
   "source": [
    "users_go.info()"
   ]
  },
  {
   "cell_type": "code",
   "execution_count": 7,
   "id": "5fdeb7f8",
   "metadata": {},
   "outputs": [
    {
     "name": "stdout",
     "output_type": "stream",
     "text": [
      "Количество дубликатов: 31\n"
     ]
    }
   ],
   "source": [
    "print('Количество дубликатов:', users_go.duplicated().sum())"
   ]
  },
  {
   "cell_type": "code",
   "execution_count": 8,
   "id": "642dd7f9",
   "metadata": {},
   "outputs": [
    {
     "name": "stdout",
     "output_type": "stream",
     "text": [
      "<class 'pandas.core.frame.DataFrame'>\n",
      "RangeIndex: 18068 entries, 0 to 18067\n",
      "Data columns (total 4 columns):\n",
      " #   Column    Non-Null Count  Dtype  \n",
      "---  ------    --------------  -----  \n",
      " 0   user_id   18068 non-null  int64  \n",
      " 1   distance  18068 non-null  float64\n",
      " 2   duration  18068 non-null  float64\n",
      " 3   date      18068 non-null  object \n",
      "dtypes: float64(2), int64(1), object(1)\n",
      "memory usage: 564.8+ KB\n"
     ]
    }
   ],
   "source": [
    "rides_go.info()"
   ]
  },
  {
   "cell_type": "code",
   "execution_count": 9,
   "id": "14a9deeb",
   "metadata": {},
   "outputs": [
    {
     "name": "stdout",
     "output_type": "stream",
     "text": [
      "Количество дубликатов: 0\n"
     ]
    }
   ],
   "source": [
    "print('Количество дубликатов:', rides_go.duplicated().sum())"
   ]
  },
  {
   "cell_type": "code",
   "execution_count": 10,
   "id": "09daa537",
   "metadata": {},
   "outputs": [
    {
     "name": "stdout",
     "output_type": "stream",
     "text": [
      "<class 'pandas.core.frame.DataFrame'>\n",
      "RangeIndex: 2 entries, 0 to 1\n",
      "Data columns (total 4 columns):\n",
      " #   Column             Non-Null Count  Dtype \n",
      "---  ------             --------------  ----- \n",
      " 0   subscription_type  2 non-null      object\n",
      " 1   minute_price       2 non-null      int64 \n",
      " 2   start_ride_price   2 non-null      int64 \n",
      " 3   subscription_fee   2 non-null      int64 \n",
      "dtypes: int64(3), object(1)\n",
      "memory usage: 192.0+ bytes\n"
     ]
    }
   ],
   "source": [
    "subscriptions_go.info()"
   ]
  },
  {
   "cell_type": "code",
   "execution_count": 11,
   "id": "7595181b",
   "metadata": {},
   "outputs": [
    {
     "name": "stdout",
     "output_type": "stream",
     "text": [
      "Количество дубликатов: 0\n"
     ]
    }
   ],
   "source": [
    "print('Количество дубликатов:', subscriptions_go.duplicated().sum())"
   ]
  },
  {
   "cell_type": "markdown",
   "id": "f5efe5e4",
   "metadata": {},
   "source": [
    "#### Вывод"
   ]
  },
  {
   "cell_type": "markdown",
   "id": "9e80ceff",
   "metadata": {},
   "source": [
    "После изучения данных можно сделать следующие выводы:\n",
    "1. В таблице `users_go`(пользователи) всего 1565 записей, в которых есть 31 явных дубликатов. Пропусков нет.\n",
    "2. В таблице `rides_go`(поездки) всего 18068 записей и 0 явных дубликатов. Пропусков нет.\n",
    "3. В таблице `subscriptions_go`(подписки) всего 2 записи и 0 явных дубликатов. Пропусков нет.  \n",
    "\n",
    "Ошибок или неточностей в названии столбцов нет. Некоторые столбцы имеют некорректный тип данынх."
   ]
  },
  {
   "cell_type": "markdown",
   "id": "e95ebca7",
   "metadata": {},
   "source": [
    "### Предобработка данных"
   ]
  },
  {
   "cell_type": "markdown",
   "id": "61a87d97",
   "metadata": {},
   "source": [
    "#### Предобработка `users_go`"
   ]
  },
  {
   "cell_type": "code",
   "execution_count": 12,
   "id": "cdfd4950",
   "metadata": {},
   "outputs": [],
   "source": [
    "# Удаление явных дубликатов\n",
    "users_go = users_go.drop_duplicates()"
   ]
  },
  {
   "cell_type": "markdown",
   "id": "420dd0ab",
   "metadata": {},
   "source": [
    "#### Предобработка `rides_go`"
   ]
  },
  {
   "cell_type": "code",
   "execution_count": 13,
   "id": "6d6b6aec",
   "metadata": {},
   "outputs": [
    {
     "name": "stdout",
     "output_type": "stream",
     "text": [
      "<class 'pandas.core.frame.DataFrame'>\n",
      "RangeIndex: 18068 entries, 0 to 18067\n",
      "Data columns (total 5 columns):\n",
      " #   Column    Non-Null Count  Dtype         \n",
      "---  ------    --------------  -----         \n",
      " 0   user_id   18068 non-null  int64         \n",
      " 1   distance  18068 non-null  float64       \n",
      " 2   duration  18068 non-null  int64         \n",
      " 3   date      18068 non-null  datetime64[ns]\n",
      " 4   month     18068 non-null  int64         \n",
      "dtypes: datetime64[ns](1), float64(1), int64(3)\n",
      "memory usage: 705.9 KB\n"
     ]
    },
    {
     "data": {
      "text/html": [
       "<div>\n",
       "<style scoped>\n",
       "    .dataframe tbody tr th:only-of-type {\n",
       "        vertical-align: middle;\n",
       "    }\n",
       "\n",
       "    .dataframe tbody tr th {\n",
       "        vertical-align: top;\n",
       "    }\n",
       "\n",
       "    .dataframe thead th {\n",
       "        text-align: right;\n",
       "    }\n",
       "</style>\n",
       "<table border=\"1\" class=\"dataframe\">\n",
       "  <thead>\n",
       "    <tr style=\"text-align: right;\">\n",
       "      <th></th>\n",
       "      <th>user_id</th>\n",
       "      <th>distance</th>\n",
       "      <th>duration</th>\n",
       "      <th>date</th>\n",
       "      <th>month</th>\n",
       "    </tr>\n",
       "  </thead>\n",
       "  <tbody>\n",
       "    <tr>\n",
       "      <th>0</th>\n",
       "      <td>1</td>\n",
       "      <td>4409.92</td>\n",
       "      <td>26</td>\n",
       "      <td>2021-01-01</td>\n",
       "      <td>1</td>\n",
       "    </tr>\n",
       "    <tr>\n",
       "      <th>1</th>\n",
       "      <td>1</td>\n",
       "      <td>2617.59</td>\n",
       "      <td>16</td>\n",
       "      <td>2021-01-18</td>\n",
       "      <td>1</td>\n",
       "    </tr>\n",
       "    <tr>\n",
       "      <th>2</th>\n",
       "      <td>1</td>\n",
       "      <td>754.16</td>\n",
       "      <td>7</td>\n",
       "      <td>2021-04-20</td>\n",
       "      <td>4</td>\n",
       "    </tr>\n",
       "    <tr>\n",
       "      <th>3</th>\n",
       "      <td>1</td>\n",
       "      <td>2694.78</td>\n",
       "      <td>19</td>\n",
       "      <td>2021-08-11</td>\n",
       "      <td>8</td>\n",
       "    </tr>\n",
       "    <tr>\n",
       "      <th>4</th>\n",
       "      <td>1</td>\n",
       "      <td>4028.69</td>\n",
       "      <td>27</td>\n",
       "      <td>2021-08-28</td>\n",
       "      <td>8</td>\n",
       "    </tr>\n",
       "  </tbody>\n",
       "</table>\n",
       "</div>"
      ],
      "text/plain": [
       "   user_id  distance  duration       date  month\n",
       "0        1   4409.92        26 2021-01-01      1\n",
       "1        1   2617.59        16 2021-01-18      1\n",
       "2        1    754.16         7 2021-04-20      4\n",
       "3        1   2694.78        19 2021-08-11      8\n",
       "4        1   4028.69        27 2021-08-28      8"
      ]
     },
     "execution_count": 13,
     "metadata": {},
     "output_type": "execute_result"
    }
   ],
   "source": [
    "# В столбце distance слишком много знаков после запятой, уменьшим их количество до 2\n",
    "rides_go['distance'] = rides_go['distance'].round(2)\n",
    "# Столбец duration показывает сколько времени самокат был в аренде. \n",
    "# Нам нужны значения полных минут со сдвигом вверх, поэтому уберем все значения после запятой изменив тип даных на Int\n",
    "rides_go['duration'] = np.ceil(rides_go['duration']).astype('int')\n",
    "# В столбце date нужно изменить тип данных на дату\n",
    "rides_go['date'] = pd.to_datetime(rides_go['date'], format='%Y-%m-%d')\n",
    "# Создадим навый столбец month в котором будут записаны номера месяцев из таблицы date \n",
    "rides_go['month'] = rides_go['date'].dt.month\n",
    "rides_go.info()\n",
    "rides_go.head()"
   ]
  },
  {
   "cell_type": "markdown",
   "id": "5840d969",
   "metadata": {},
   "source": [
    "#### Предобработка `subscriptions_go` не требуется"
   ]
  },
  {
   "cell_type": "markdown",
   "id": "9ed16e3f",
   "metadata": {},
   "source": [
    "#### Вывод"
   ]
  },
  {
   "cell_type": "markdown",
   "id": "aac0740e",
   "metadata": {},
   "source": [
    "Во время проведения предобработки данных были выполнены следующие действия:\n",
    "1. В таблице `users_go` были удалены дубликаты. До удаления было 1565 записей, после - 1534.\n",
    "\n",
    "2. В таблице `rides_go`:\n",
    "    * Округлены все значения в столбце `distance` до 2 знаков после запятой.\n",
    "    * Округлены все значения в столбце `duration` до целых значений вверх (пункт 5.2) и изменен тип данных на int.\n",
    "    * В столбце `date` изменен тип данынх на datetime.\n",
    "    * Добавлен новый столбец `month` содержащий номер месяца (пункт 2.2).\n",
    "    \n",
    "    \n",
    "3. В таблице `subscriptions_go` не было проведено никаких изменений."
   ]
  },
  {
   "cell_type": "markdown",
   "id": "212593c7",
   "metadata": {},
   "source": [
    "### Исследовательский анализ данных"
   ]
  },
  {
   "cell_type": "markdown",
   "id": "5c5b364b",
   "metadata": {},
   "source": [
    "#### Частота встречаемости городов"
   ]
  },
  {
   "cell_type": "code",
   "execution_count": 14,
   "id": "0865a858",
   "metadata": {},
   "outputs": [
    {
     "data": {
      "text/html": [
       "<div>\n",
       "<style scoped>\n",
       "    .dataframe tbody tr th:only-of-type {\n",
       "        vertical-align: middle;\n",
       "    }\n",
       "\n",
       "    .dataframe tbody tr th {\n",
       "        vertical-align: top;\n",
       "    }\n",
       "\n",
       "    .dataframe thead th {\n",
       "        text-align: right;\n",
       "    }\n",
       "</style>\n",
       "<table border=\"1\" class=\"dataframe\">\n",
       "  <thead>\n",
       "    <tr style=\"text-align: right;\">\n",
       "      <th></th>\n",
       "      <th>user_id</th>\n",
       "    </tr>\n",
       "    <tr>\n",
       "      <th>city</th>\n",
       "      <th></th>\n",
       "    </tr>\n",
       "  </thead>\n",
       "  <tbody>\n",
       "    <tr>\n",
       "      <th>Пятигорск</th>\n",
       "      <td>219</td>\n",
       "    </tr>\n",
       "    <tr>\n",
       "      <th>Екатеринбург</th>\n",
       "      <td>204</td>\n",
       "    </tr>\n",
       "    <tr>\n",
       "      <th>Ростов-на-Дону</th>\n",
       "      <td>198</td>\n",
       "    </tr>\n",
       "    <tr>\n",
       "      <th>Краснодар</th>\n",
       "      <td>193</td>\n",
       "    </tr>\n",
       "    <tr>\n",
       "      <th>Сочи</th>\n",
       "      <td>189</td>\n",
       "    </tr>\n",
       "    <tr>\n",
       "      <th>Омск</th>\n",
       "      <td>183</td>\n",
       "    </tr>\n",
       "    <tr>\n",
       "      <th>Тюмень</th>\n",
       "      <td>180</td>\n",
       "    </tr>\n",
       "    <tr>\n",
       "      <th>Москва</th>\n",
       "      <td>168</td>\n",
       "    </tr>\n",
       "  </tbody>\n",
       "</table>\n",
       "</div>"
      ],
      "text/plain": [
       "                user_id\n",
       "city                   \n",
       "Пятигорск           219\n",
       "Екатеринбург        204\n",
       "Ростов-на-Дону      198\n",
       "Краснодар           193\n",
       "Сочи                189\n",
       "Омск                183\n",
       "Тюмень              180\n",
       "Москва              168"
      ]
     },
     "execution_count": 14,
     "metadata": {},
     "output_type": "execute_result"
    },
    {
     "data": {
      "image/png": "[encoded data removed]",
      "text/plain": [
       "<Figure size 720x360 with 1 Axes>"
      ]
     },
     "metadata": {
      "needs_background": "light"
     },
     "output_type": "display_data"
    }
   ],
   "source": [
    "(\n",
    "    users_go.pivot_table(index='city', values='user_id', aggfunc='count').sort_values(by='user_id', ascending=False)\n",
    "    .plot(title='Количество пользователей по городам', xlabel='Города', ylabel='Количество пользователей', kind='bar', \n",
    "          figsize=(10, 5))\n",
    ")\n",
    "\n",
    "users_go.pivot_table(index='city', values='user_id', aggfunc='count').sort_values(by='user_id', ascending=False)"
   ]
  },
  {
   "cell_type": "markdown",
   "id": "f5898fdb",
   "metadata": {},
   "source": [
    "Больше всего пользователей в Пятигорске, в то время как меньше всего в Москве. Также можно заметить что больше пользователей в южных городах, кроме Екатеринбурга, который располагается на 2 месте."
   ]
  },
  {
   "cell_type": "markdown",
   "id": "5601d449",
   "metadata": {},
   "source": [
    "#### Соотношение пользователей с подпиской и без подписки"
   ]
  },
  {
   "cell_type": "code",
   "execution_count": 15,
   "id": "284549cb",
   "metadata": {},
   "outputs": [
    {
     "data": {
      "image/png": "[encoded data removed]",
      "text/plain": [
       "<Figure size 360x360 with 1 Axes>"
      ]
     },
     "metadata": {},
     "output_type": "display_data"
    }
   ],
   "source": [
    "(\n",
    "    users_go.pivot_table(index='subscription_type', values='user_id', aggfunc='count')\n",
    "    .plot(kind='pie', subplots=True, figsize=(5,5),  ylabel='Количество пользователей', autopct='%.0f%%',    \n",
    "    title='Отношение пользователей без подписки и с подпиской')\n",
    "\n",
    ")\n",
    "plt.axis('equal')\n",
    "plt.show()"
   ]
  },
  {
   "cell_type": "markdown",
   "id": "1a0ef6b0",
   "metadata": {},
   "source": [
    "Больше половины(54%) пользователей пользуются приложением без подписки(46%)."
   ]
  },
  {
   "cell_type": "markdown",
   "id": "b464ce55",
   "metadata": {},
   "source": [
    "#### Возраст пользователей"
   ]
  },
  {
   "cell_type": "code",
   "execution_count": 16,
   "id": "7794d27b",
   "metadata": {},
   "outputs": [
    {
     "data": {
      "text/html": [
       "<div>\n",
       "<style scoped>\n",
       "    .dataframe tbody tr th:only-of-type {\n",
       "        vertical-align: middle;\n",
       "    }\n",
       "\n",
       "    .dataframe tbody tr th {\n",
       "        vertical-align: top;\n",
       "    }\n",
       "\n",
       "    .dataframe thead th {\n",
       "        text-align: right;\n",
       "    }\n",
       "</style>\n",
       "<table border=\"1\" class=\"dataframe\">\n",
       "  <thead>\n",
       "    <tr style=\"text-align: right;\">\n",
       "      <th></th>\n",
       "      <th>user_id</th>\n",
       "    </tr>\n",
       "    <tr>\n",
       "      <th>age</th>\n",
       "      <th></th>\n",
       "    </tr>\n",
       "  </thead>\n",
       "  <tbody>\n",
       "    <tr>\n",
       "      <th>12</th>\n",
       "      <td>4</td>\n",
       "    </tr>\n",
       "    <tr>\n",
       "      <th>13</th>\n",
       "      <td>8</td>\n",
       "    </tr>\n",
       "    <tr>\n",
       "      <th>14</th>\n",
       "      <td>9</td>\n",
       "    </tr>\n",
       "    <tr>\n",
       "      <th>15</th>\n",
       "      <td>13</td>\n",
       "    </tr>\n",
       "    <tr>\n",
       "      <th>16</th>\n",
       "      <td>19</td>\n",
       "    </tr>\n",
       "    <tr>\n",
       "      <th>17</th>\n",
       "      <td>26</td>\n",
       "    </tr>\n",
       "    <tr>\n",
       "      <th>18</th>\n",
       "      <td>46</td>\n",
       "    </tr>\n",
       "    <tr>\n",
       "      <th>19</th>\n",
       "      <td>47</td>\n",
       "    </tr>\n",
       "    <tr>\n",
       "      <th>20</th>\n",
       "      <td>71</td>\n",
       "    </tr>\n",
       "    <tr>\n",
       "      <th>21</th>\n",
       "      <td>93</td>\n",
       "    </tr>\n",
       "    <tr>\n",
       "      <th>22</th>\n",
       "      <td>119</td>\n",
       "    </tr>\n",
       "    <tr>\n",
       "      <th>23</th>\n",
       "      <td>129</td>\n",
       "    </tr>\n",
       "    <tr>\n",
       "      <th>24</th>\n",
       "      <td>132</td>\n",
       "    </tr>\n",
       "    <tr>\n",
       "      <th>25</th>\n",
       "      <td>145</td>\n",
       "    </tr>\n",
       "    <tr>\n",
       "      <th>26</th>\n",
       "      <td>131</td>\n",
       "    </tr>\n",
       "    <tr>\n",
       "      <th>27</th>\n",
       "      <td>119</td>\n",
       "    </tr>\n",
       "    <tr>\n",
       "      <th>28</th>\n",
       "      <td>112</td>\n",
       "    </tr>\n",
       "    <tr>\n",
       "      <th>29</th>\n",
       "      <td>68</td>\n",
       "    </tr>\n",
       "    <tr>\n",
       "      <th>30</th>\n",
       "      <td>68</td>\n",
       "    </tr>\n",
       "    <tr>\n",
       "      <th>31</th>\n",
       "      <td>48</td>\n",
       "    </tr>\n",
       "    <tr>\n",
       "      <th>32</th>\n",
       "      <td>41</td>\n",
       "    </tr>\n",
       "    <tr>\n",
       "      <th>33</th>\n",
       "      <td>39</td>\n",
       "    </tr>\n",
       "    <tr>\n",
       "      <th>34</th>\n",
       "      <td>19</td>\n",
       "    </tr>\n",
       "    <tr>\n",
       "      <th>35</th>\n",
       "      <td>15</td>\n",
       "    </tr>\n",
       "    <tr>\n",
       "      <th>36</th>\n",
       "      <td>6</td>\n",
       "    </tr>\n",
       "    <tr>\n",
       "      <th>37</th>\n",
       "      <td>2</td>\n",
       "    </tr>\n",
       "    <tr>\n",
       "      <th>38</th>\n",
       "      <td>3</td>\n",
       "    </tr>\n",
       "    <tr>\n",
       "      <th>39</th>\n",
       "      <td>1</td>\n",
       "    </tr>\n",
       "    <tr>\n",
       "      <th>43</th>\n",
       "      <td>1</td>\n",
       "    </tr>\n",
       "  </tbody>\n",
       "</table>\n",
       "</div>"
      ],
      "text/plain": [
       "     user_id\n",
       "age         \n",
       "12         4\n",
       "13         8\n",
       "14         9\n",
       "15        13\n",
       "16        19\n",
       "17        26\n",
       "18        46\n",
       "19        47\n",
       "20        71\n",
       "21        93\n",
       "22       119\n",
       "23       129\n",
       "24       132\n",
       "25       145\n",
       "26       131\n",
       "27       119\n",
       "28       112\n",
       "29        68\n",
       "30        68\n",
       "31        48\n",
       "32        41\n",
       "33        39\n",
       "34        19\n",
       "35        15\n",
       "36         6\n",
       "37         2\n",
       "38         3\n",
       "39         1\n",
       "43         1"
      ]
     },
     "execution_count": 16,
     "metadata": {},
     "output_type": "execute_result"
    },
    {
     "data": {
      "image/png": "[encoded data removed]",
      "text/plain": [
       "<Figure size 720x360 with 1 Axes>"
      ]
     },
     "metadata": {
      "needs_background": "light"
     },
     "output_type": "display_data"
    }
   ],
   "source": [
    "(\n",
    "    users_go.pivot_table(index='age', values='user_id', aggfunc='count').sort_values(by='age', ascending=True).\n",
    "    plot(kind='bar', title='Количество пользователей в зависимости от возраста', \n",
    "         xlabel='Возраст', ylabel='Количество пользователей', figsize=(10,5))\n",
    ")\n",
    "users_go.pivot_table(index='age', values='user_id', aggfunc='count').sort_values(by='age', ascending=True)"
   ]
  },
  {
   "cell_type": "markdown",
   "id": "d484cd09",
   "metadata": {},
   "source": [
    "По графику видно что возраст пользователей от 12 до 43 лет. Также видно больше всего пользователей 25 лет."
   ]
  },
  {
   "cell_type": "markdown",
   "id": "26ef1b8f",
   "metadata": {},
   "source": [
    "#### Расстояние, которое пользователь преодолел за одну поездку"
   ]
  },
  {
   "cell_type": "code",
   "execution_count": 17,
   "id": "113c4b08",
   "metadata": {},
   "outputs": [
    {
     "data": {
      "text/plain": [
       "count    18068.000000\n",
       "mean      3070.659992\n",
       "std       1116.831222\n",
       "min          0.860000\n",
       "25%       2543.227500\n",
       "50%       3133.610000\n",
       "75%       3776.220000\n",
       "max       7211.010000\n",
       "Name: distance, dtype: float64"
      ]
     },
     "execution_count": 17,
     "metadata": {},
     "output_type": "execute_result"
    }
   ],
   "source": [
    "rides_go['distance'].describe()"
   ]
  },
  {
   "cell_type": "code",
   "execution_count": 18,
   "id": "c572a442",
   "metadata": {},
   "outputs": [
    {
     "data": {
      "image/png": "[encoded data removed]",
      "text/plain": [
       "<Figure size 432x288 with 1 Axes>"
      ]
     },
     "metadata": {
      "needs_background": "light"
     },
     "output_type": "display_data"
    }
   ],
   "source": [
    "plt.hist(rides_go['distance'], bins=100, range=(1,7211))\n",
    "plt.title('Количество поездок в зависимости от расстояния поездки')\n",
    "plt.xlabel('Расстояние в метрах')\n",
    "plt.ylabel('Количество поездок')\n",
    "plt.show()"
   ]
  },
  {
   "cell_type": "markdown",
   "id": "184a0194",
   "metadata": {},
   "source": [
    "Максимальное расстояние которое преодолевали пользователи - 7211 метров, самое же минимальное - 1 метр. Среднее расстояние, которое преодолевают пользователи - 3070 метров. Также есть относительно небольшая группа пользователей произжающих короткие дистанции до 1500 метров."
   ]
  },
  {
   "cell_type": "markdown",
   "id": "4a05c0a6",
   "metadata": {},
   "source": [
    "#### Продолжительность поездок"
   ]
  },
  {
   "cell_type": "code",
   "execution_count": 19,
   "id": "aa45ff6b",
   "metadata": {},
   "outputs": [
    {
     "data": {
      "text/plain": [
       "count    18068.000000\n",
       "mean        18.303520\n",
       "std          6.094928\n",
       "min          1.000000\n",
       "25%         14.000000\n",
       "50%         18.000000\n",
       "75%         22.000000\n",
       "max         41.000000\n",
       "Name: duration, dtype: float64"
      ]
     },
     "execution_count": 19,
     "metadata": {},
     "output_type": "execute_result"
    }
   ],
   "source": [
    "rides_go['duration'].describe()"
   ]
  },
  {
   "cell_type": "code",
   "execution_count": 20,
   "id": "a946eee1",
   "metadata": {},
   "outputs": [
    {
     "data": {
      "image/png": "[encoded data removed]",
      "text/plain": [
       "<Figure size 432x288 with 1 Axes>"
      ]
     },
     "metadata": {
      "needs_background": "light"
     },
     "output_type": "display_data"
    }
   ],
   "source": [
    "plt.hist(rides_go['duration'], bins=100, range=(1,41))\n",
    "plt.title('Количество поездок в зависимости от продолжительности')\n",
    "plt.xlabel('продолжительность поездки')\n",
    "plt.ylabel('Количество поездок')\n",
    "plt.show()"
   ]
  },
  {
   "cell_type": "markdown",
   "id": "f0d4cf36",
   "metadata": {},
   "source": [
    "Минимальное время поздки 1 минута, максимальное - 41 минута. Самое большое количество поездок находится в пределах 18 минут."
   ]
  },
  {
   "cell_type": "markdown",
   "id": "db13c5b3",
   "metadata": {},
   "source": [
    "#### Вывод"
   ]
  },
  {
   "cell_type": "markdown",
   "id": "34dd581e",
   "metadata": {},
   "source": [
    "По итогу исследования можно сделать несколько выводов:\n",
    "1. Чаще услугами сервиса пользуются в южных регионах страны(скорее всего это связано с тем что сезон проката там дольше, чем в других регионах), однако в Екатеринбурге спрос на сервис выше чем во многих южных городах.\n",
    "2. Больше половины(54%) пользователей пользуются приложением без подписки(46%).\n",
    "3. Возраст пользователу сервиса от 12 до 43 лет. Самое большое количество пользователей в возрасте 25 лет.\n",
    "4. Максимальное расстояние которое преодолевали пользователи - 7211 метров, самое же минимальное - 1 метр. Среднее расстояние, которое преодолевают пользователи - 3070 метров. Также есть относительно небольшая группа пользователей произжающих короткие дистанции до 1500 метров.\n",
    "5. Минимальное время поздки 1 минута, максимальное - 41 минута. Самое большое количество поездок находится в пределах 18 минут."
   ]
  },
  {
   "cell_type": "markdown",
   "id": "4ef51331",
   "metadata": {},
   "source": [
    "### Объединение данных"
   ]
  },
  {
   "cell_type": "markdown",
   "id": "4ee7bcfe",
   "metadata": {},
   "source": [
    "#### Объедините данные о пользователях, поездках и подписках в один датафрейм"
   ]
  },
  {
   "cell_type": "code",
   "execution_count": 21,
   "id": "c41bde7e",
   "metadata": {},
   "outputs": [
    {
     "name": "stdout",
     "output_type": "stream",
     "text": [
      "<class 'pandas.core.frame.DataFrame'>\n",
      "Int64Index: 18068 entries, 0 to 18067\n",
      "Data columns (total 12 columns):\n",
      " #   Column             Non-Null Count  Dtype         \n",
      "---  ------             --------------  -----         \n",
      " 0   user_id            18068 non-null  int64         \n",
      " 1   name               18068 non-null  object        \n",
      " 2   age                18068 non-null  int64         \n",
      " 3   city               18068 non-null  object        \n",
      " 4   subscription_type  18068 non-null  object        \n",
      " 5   distance           18068 non-null  float64       \n",
      " 6   duration           18068 non-null  int64         \n",
      " 7   date               18068 non-null  datetime64[ns]\n",
      " 8   month              18068 non-null  int64         \n",
      " 9   minute_price       18068 non-null  int64         \n",
      " 10  start_ride_price   18068 non-null  int64         \n",
      " 11  subscription_fee   18068 non-null  int64         \n",
      "dtypes: datetime64[ns](1), float64(1), int64(7), object(3)\n",
      "memory usage: 1.8+ MB\n"
     ]
    }
   ],
   "source": [
    "df = users_go.merge(rides_go, on='user_id').merge(subscriptions_go, on='subscription_type')\n",
    "df.info()"
   ]
  },
  {
   "cell_type": "markdown",
   "id": "cd6c3752",
   "metadata": {},
   "source": [
    "Созданный датафрейм `df` объединяет в себе таблицы `users_go` `rides_go` и `subscriptions_go`. В итоге датафрейм имеет 18067 строк, количество которых соответствует самой большой по размеру таблице `rides_go`. "
   ]
  },
  {
   "cell_type": "markdown",
   "id": "8433764f",
   "metadata": {},
   "source": [
    "#### Создайте ещё два датафрейма из датафрейма, созданного на этапе 4.1"
   ]
  },
  {
   "cell_type": "markdown",
   "id": "1cce4909",
   "metadata": {},
   "source": [
    "##### С данными о пользователях без подписки"
   ]
  },
  {
   "cell_type": "code",
   "execution_count": 22,
   "id": "956e62c1",
   "metadata": {
    "scrolled": false
   },
   "outputs": [
    {
     "data": {
      "text/html": [
       "<div>\n",
       "<style scoped>\n",
       "    .dataframe tbody tr th:only-of-type {\n",
       "        vertical-align: middle;\n",
       "    }\n",
       "\n",
       "    .dataframe tbody tr th {\n",
       "        vertical-align: top;\n",
       "    }\n",
       "\n",
       "    .dataframe thead th {\n",
       "        text-align: right;\n",
       "    }\n",
       "</style>\n",
       "<table border=\"1\" class=\"dataframe\">\n",
       "  <thead>\n",
       "    <tr style=\"text-align: right;\">\n",
       "      <th></th>\n",
       "      <th>user_id</th>\n",
       "      <th>name</th>\n",
       "      <th>age</th>\n",
       "      <th>city</th>\n",
       "      <th>subscription_type</th>\n",
       "      <th>distance</th>\n",
       "      <th>duration</th>\n",
       "      <th>date</th>\n",
       "      <th>month</th>\n",
       "      <th>minute_price</th>\n",
       "      <th>start_ride_price</th>\n",
       "      <th>subscription_fee</th>\n",
       "    </tr>\n",
       "  </thead>\n",
       "  <tbody>\n",
       "    <tr>\n",
       "      <th>6500</th>\n",
       "      <td>700</td>\n",
       "      <td>Айдар</td>\n",
       "      <td>22</td>\n",
       "      <td>Омск</td>\n",
       "      <td>free</td>\n",
       "      <td>2515.69</td>\n",
       "      <td>15</td>\n",
       "      <td>2021-01-02</td>\n",
       "      <td>1</td>\n",
       "      <td>8</td>\n",
       "      <td>50</td>\n",
       "      <td>0</td>\n",
       "    </tr>\n",
       "    <tr>\n",
       "      <th>6501</th>\n",
       "      <td>700</td>\n",
       "      <td>Айдар</td>\n",
       "      <td>22</td>\n",
       "      <td>Омск</td>\n",
       "      <td>free</td>\n",
       "      <td>846.93</td>\n",
       "      <td>17</td>\n",
       "      <td>2021-02-01</td>\n",
       "      <td>2</td>\n",
       "      <td>8</td>\n",
       "      <td>50</td>\n",
       "      <td>0</td>\n",
       "    </tr>\n",
       "    <tr>\n",
       "      <th>6502</th>\n",
       "      <td>700</td>\n",
       "      <td>Айдар</td>\n",
       "      <td>22</td>\n",
       "      <td>Омск</td>\n",
       "      <td>free</td>\n",
       "      <td>4004.43</td>\n",
       "      <td>21</td>\n",
       "      <td>2021-02-04</td>\n",
       "      <td>2</td>\n",
       "      <td>8</td>\n",
       "      <td>50</td>\n",
       "      <td>0</td>\n",
       "    </tr>\n",
       "    <tr>\n",
       "      <th>6503</th>\n",
       "      <td>700</td>\n",
       "      <td>Айдар</td>\n",
       "      <td>22</td>\n",
       "      <td>Омск</td>\n",
       "      <td>free</td>\n",
       "      <td>1205.91</td>\n",
       "      <td>10</td>\n",
       "      <td>2021-02-10</td>\n",
       "      <td>2</td>\n",
       "      <td>8</td>\n",
       "      <td>50</td>\n",
       "      <td>0</td>\n",
       "    </tr>\n",
       "    <tr>\n",
       "      <th>6504</th>\n",
       "      <td>700</td>\n",
       "      <td>Айдар</td>\n",
       "      <td>22</td>\n",
       "      <td>Омск</td>\n",
       "      <td>free</td>\n",
       "      <td>3047.38</td>\n",
       "      <td>18</td>\n",
       "      <td>2021-02-14</td>\n",
       "      <td>2</td>\n",
       "      <td>8</td>\n",
       "      <td>50</td>\n",
       "      <td>0</td>\n",
       "    </tr>\n",
       "  </tbody>\n",
       "</table>\n",
       "</div>"
      ],
      "text/plain": [
       "      user_id   name  age  city subscription_type  distance  duration  \\\n",
       "6500      700  Айдар   22  Омск              free   2515.69        15   \n",
       "6501      700  Айдар   22  Омск              free    846.93        17   \n",
       "6502      700  Айдар   22  Омск              free   4004.43        21   \n",
       "6503      700  Айдар   22  Омск              free   1205.91        10   \n",
       "6504      700  Айдар   22  Омск              free   3047.38        18   \n",
       "\n",
       "           date  month  minute_price  start_ride_price  subscription_fee  \n",
       "6500 2021-01-02      1             8                50                 0  \n",
       "6501 2021-02-01      2             8                50                 0  \n",
       "6502 2021-02-04      2             8                50                 0  \n",
       "6503 2021-02-10      2             8                50                 0  \n",
       "6504 2021-02-14      2             8                50                 0  "
      ]
     },
     "execution_count": 22,
     "metadata": {},
     "output_type": "execute_result"
    }
   ],
   "source": [
    "df_free = df[df['subscription_type'] == 'free']\n",
    "df_free.head()"
   ]
  },
  {
   "cell_type": "markdown",
   "id": "b48f105c",
   "metadata": {},
   "source": [
    "##### С данными о пользователях с подпиской"
   ]
  },
  {
   "cell_type": "code",
   "execution_count": 23,
   "id": "e42f488a",
   "metadata": {},
   "outputs": [
    {
     "data": {
      "text/html": [
       "<div>\n",
       "<style scoped>\n",
       "    .dataframe tbody tr th:only-of-type {\n",
       "        vertical-align: middle;\n",
       "    }\n",
       "\n",
       "    .dataframe tbody tr th {\n",
       "        vertical-align: top;\n",
       "    }\n",
       "\n",
       "    .dataframe thead th {\n",
       "        text-align: right;\n",
       "    }\n",
       "</style>\n",
       "<table border=\"1\" class=\"dataframe\">\n",
       "  <thead>\n",
       "    <tr style=\"text-align: right;\">\n",
       "      <th></th>\n",
       "      <th>user_id</th>\n",
       "      <th>name</th>\n",
       "      <th>age</th>\n",
       "      <th>city</th>\n",
       "      <th>subscription_type</th>\n",
       "      <th>distance</th>\n",
       "      <th>duration</th>\n",
       "      <th>date</th>\n",
       "      <th>month</th>\n",
       "      <th>minute_price</th>\n",
       "      <th>start_ride_price</th>\n",
       "      <th>subscription_fee</th>\n",
       "    </tr>\n",
       "  </thead>\n",
       "  <tbody>\n",
       "    <tr>\n",
       "      <th>0</th>\n",
       "      <td>1</td>\n",
       "      <td>Кира</td>\n",
       "      <td>22</td>\n",
       "      <td>Тюмень</td>\n",
       "      <td>ultra</td>\n",
       "      <td>4409.92</td>\n",
       "      <td>26</td>\n",
       "      <td>2021-01-01</td>\n",
       "      <td>1</td>\n",
       "      <td>6</td>\n",
       "      <td>0</td>\n",
       "      <td>199</td>\n",
       "    </tr>\n",
       "    <tr>\n",
       "      <th>1</th>\n",
       "      <td>1</td>\n",
       "      <td>Кира</td>\n",
       "      <td>22</td>\n",
       "      <td>Тюмень</td>\n",
       "      <td>ultra</td>\n",
       "      <td>2617.59</td>\n",
       "      <td>16</td>\n",
       "      <td>2021-01-18</td>\n",
       "      <td>1</td>\n",
       "      <td>6</td>\n",
       "      <td>0</td>\n",
       "      <td>199</td>\n",
       "    </tr>\n",
       "    <tr>\n",
       "      <th>2</th>\n",
       "      <td>1</td>\n",
       "      <td>Кира</td>\n",
       "      <td>22</td>\n",
       "      <td>Тюмень</td>\n",
       "      <td>ultra</td>\n",
       "      <td>754.16</td>\n",
       "      <td>7</td>\n",
       "      <td>2021-04-20</td>\n",
       "      <td>4</td>\n",
       "      <td>6</td>\n",
       "      <td>0</td>\n",
       "      <td>199</td>\n",
       "    </tr>\n",
       "    <tr>\n",
       "      <th>3</th>\n",
       "      <td>1</td>\n",
       "      <td>Кира</td>\n",
       "      <td>22</td>\n",
       "      <td>Тюмень</td>\n",
       "      <td>ultra</td>\n",
       "      <td>2694.78</td>\n",
       "      <td>19</td>\n",
       "      <td>2021-08-11</td>\n",
       "      <td>8</td>\n",
       "      <td>6</td>\n",
       "      <td>0</td>\n",
       "      <td>199</td>\n",
       "    </tr>\n",
       "    <tr>\n",
       "      <th>4</th>\n",
       "      <td>1</td>\n",
       "      <td>Кира</td>\n",
       "      <td>22</td>\n",
       "      <td>Тюмень</td>\n",
       "      <td>ultra</td>\n",
       "      <td>4028.69</td>\n",
       "      <td>27</td>\n",
       "      <td>2021-08-28</td>\n",
       "      <td>8</td>\n",
       "      <td>6</td>\n",
       "      <td>0</td>\n",
       "      <td>199</td>\n",
       "    </tr>\n",
       "  </tbody>\n",
       "</table>\n",
       "</div>"
      ],
      "text/plain": [
       "   user_id  name  age    city subscription_type  distance  duration  \\\n",
       "0        1  Кира   22  Тюмень             ultra   4409.92        26   \n",
       "1        1  Кира   22  Тюмень             ultra   2617.59        16   \n",
       "2        1  Кира   22  Тюмень             ultra    754.16         7   \n",
       "3        1  Кира   22  Тюмень             ultra   2694.78        19   \n",
       "4        1  Кира   22  Тюмень             ultra   4028.69        27   \n",
       "\n",
       "        date  month  minute_price  start_ride_price  subscription_fee  \n",
       "0 2021-01-01      1             6                 0               199  \n",
       "1 2021-01-18      1             6                 0               199  \n",
       "2 2021-04-20      4             6                 0               199  \n",
       "3 2021-08-11      8             6                 0               199  \n",
       "4 2021-08-28      8             6                 0               199  "
      ]
     },
     "execution_count": 23,
     "metadata": {},
     "output_type": "execute_result"
    }
   ],
   "source": [
    "df_ultra = df[df['subscription_type'] == 'ultra']\n",
    "df_ultra.head()"
   ]
  },
  {
   "cell_type": "markdown",
   "id": "9531051f",
   "metadata": {},
   "source": [
    "#### Визуализируйте информацию о расстоянии и времени поездок для пользователей обеих категорий"
   ]
  },
  {
   "cell_type": "markdown",
   "id": "3e8bdb98",
   "metadata": {},
   "source": [
    "##### Количество поездок в зависимости от расстояния"
   ]
  },
  {
   "cell_type": "code",
   "execution_count": 24,
   "id": "da323747",
   "metadata": {
    "scrolled": false
   },
   "outputs": [
    {
     "data": {
      "text/plain": [
       "count    11568.000000\n",
       "mean      3045.495284\n",
       "std       1246.173810\n",
       "min          0.860000\n",
       "25%       2366.560000\n",
       "50%       3114.650000\n",
       "75%       3905.695000\n",
       "max       7211.010000\n",
       "Name: distance, dtype: float64"
      ]
     },
     "execution_count": 24,
     "metadata": {},
     "output_type": "execute_result"
    }
   ],
   "source": [
    "df_free['distance'].describe()"
   ]
  },
  {
   "cell_type": "code",
   "execution_count": 25,
   "id": "815b9ec0",
   "metadata": {},
   "outputs": [
    {
     "data": {
      "text/plain": [
       "count    6500.000000\n",
       "mean     3115.445431\n",
       "std       836.895369\n",
       "min       244.210000\n",
       "25%      2785.447500\n",
       "50%      3148.640000\n",
       "75%      3560.577500\n",
       "max      5699.770000\n",
       "Name: distance, dtype: float64"
      ]
     },
     "execution_count": 25,
     "metadata": {},
     "output_type": "execute_result"
    }
   ],
   "source": [
    "df_ultra['distance'].describe()"
   ]
  },
  {
   "cell_type": "code",
   "execution_count": 26,
   "id": "4de99010",
   "metadata": {},
   "outputs": [
    {
     "data": {
      "image/png": "[encoded data removed]",
      "text/plain": [
       "<Figure size 432x288 with 1 Axes>"
      ]
     },
     "metadata": {
      "needs_background": "light"
     },
     "output_type": "display_data"
    }
   ],
   "source": [
    "plt.hist([df_free['distance'], df_ultra['distance']], bins=50, range=(1,7211), label=['free', 'ultra'])\n",
    "plt.legend(loc='upper right')\n",
    "plt.title('Количество поездок в зависимости от расстояния')\n",
    "plt.xlabel('Расстояние в метрах')\n",
    "plt.ylabel('Количество поездок')\n",
    "plt.show()"
   ]
  },
  {
   "cell_type": "markdown",
   "id": "4c3e3038",
   "metadata": {},
   "source": [
    "##### Количество поездок в зависимости от времени поездки"
   ]
  },
  {
   "cell_type": "code",
   "execution_count": 27,
   "id": "6728084b",
   "metadata": {},
   "outputs": [
    {
     "data": {
      "text/plain": [
       "count    11568.000000\n",
       "mean        17.890992\n",
       "std          6.330250\n",
       "min          1.000000\n",
       "25%         13.000000\n",
       "50%         18.000000\n",
       "75%         22.000000\n",
       "max         35.000000\n",
       "Name: duration, dtype: float64"
      ]
     },
     "execution_count": 27,
     "metadata": {},
     "output_type": "execute_result"
    }
   ],
   "source": [
    "df_free['duration'].describe()"
   ]
  },
  {
   "cell_type": "code",
   "execution_count": 28,
   "id": "19ef0c0a",
   "metadata": {},
   "outputs": [
    {
     "data": {
      "text/plain": [
       "count    6500.000000\n",
       "mean       19.037692\n",
       "std         5.577439\n",
       "min         4.000000\n",
       "25%        15.000000\n",
       "50%        19.000000\n",
       "75%        22.000000\n",
       "max        41.000000\n",
       "Name: duration, dtype: float64"
      ]
     },
     "execution_count": 28,
     "metadata": {},
     "output_type": "execute_result"
    }
   ],
   "source": [
    "df_ultra['duration'].describe()"
   ]
  },
  {
   "cell_type": "code",
   "execution_count": 29,
   "id": "568940fb",
   "metadata": {},
   "outputs": [
    {
     "data": {
      "image/png": "[encoded data removed]",
      "text/plain": [
       "<Figure size 432x288 with 1 Axes>"
      ]
     },
     "metadata": {
      "needs_background": "light"
     },
     "output_type": "display_data"
    }
   ],
   "source": [
    "plt.hist([df_free['duration'], df_ultra['duration']], bins=30, range=(1,30), label=['free', 'ultra'])\n",
    "plt.legend(loc='upper right')\n",
    "plt.title('Количество поездок в зависимости от времени поездки')\n",
    "plt.xlabel('Время поездки')\n",
    "plt.ylabel('Количество поездок')\n",
    "plt.show()"
   ]
  },
  {
   "cell_type": "markdown",
   "id": "1c0e10df",
   "metadata": {},
   "source": [
    "#### Вывод"
   ]
  },
  {
   "cell_type": "markdown",
   "id": "7cedebdf",
   "metadata": {},
   "source": [
    "По итогу объединения и визуализации данных по типу подписки можно сделать следующий вывод:\n",
    "1. Тип подписки влияет на среднее расстояние, которое проезжают пользователи. Пользователи без подписки проезжают расстояние меньше, чем пользователи с подпиской (3045 против 3115). Также у пользователей без подписки разброс выше, чем у пользователей с подпиской (1246 и 836).\n",
    "2. Тип подписки влияет на время поездки. Пользователи без подписки в среднем тратят времени на поездки меньше, чем пользователи с подпиской (в среднем 18 минут без подписки и 19 минут с подпиской). "
   ]
  },
  {
   "cell_type": "markdown",
   "id": "ad847398",
   "metadata": {},
   "source": [
    "### Подсчёт выручки"
   ]
  },
  {
   "cell_type": "markdown",
   "id": "3d581345",
   "metadata": {},
   "source": [
    "#### Создайте датафрейм с агрегированными данными о поездках на основе датафрейма с объединёнными данными из шага 4: найдите суммарное расстояние, количество поездок и суммарное время для каждого пользователя за каждый месяц."
   ]
  },
  {
   "cell_type": "code",
   "execution_count": 30,
   "id": "42a5e3ae",
   "metadata": {},
   "outputs": [
    {
     "data": {
      "text/html": [
       "<div>\n",
       "<style scoped>\n",
       "    .dataframe tbody tr th:only-of-type {\n",
       "        vertical-align: middle;\n",
       "    }\n",
       "\n",
       "    .dataframe tbody tr th {\n",
       "        vertical-align: top;\n",
       "    }\n",
       "\n",
       "    .dataframe thead th {\n",
       "        text-align: right;\n",
       "    }\n",
       "</style>\n",
       "<table border=\"1\" class=\"dataframe\">\n",
       "  <thead>\n",
       "    <tr style=\"text-align: right;\">\n",
       "      <th></th>\n",
       "      <th></th>\n",
       "      <th>rides_count</th>\n",
       "      <th>distance</th>\n",
       "      <th>duration</th>\n",
       "      <th>minute_price</th>\n",
       "      <th>start_ride_price</th>\n",
       "      <th>subscription_fee</th>\n",
       "    </tr>\n",
       "    <tr>\n",
       "      <th>user_id</th>\n",
       "      <th>month</th>\n",
       "      <th></th>\n",
       "      <th></th>\n",
       "      <th></th>\n",
       "      <th></th>\n",
       "      <th></th>\n",
       "      <th></th>\n",
       "    </tr>\n",
       "  </thead>\n",
       "  <tbody>\n",
       "    <tr>\n",
       "      <th rowspan=\"5\" valign=\"top\">1</th>\n",
       "      <th>1</th>\n",
       "      <td>2</td>\n",
       "      <td>7027.51</td>\n",
       "      <td>42</td>\n",
       "      <td>6</td>\n",
       "      <td>0</td>\n",
       "      <td>199</td>\n",
       "    </tr>\n",
       "    <tr>\n",
       "      <th>4</th>\n",
       "      <td>1</td>\n",
       "      <td>754.16</td>\n",
       "      <td>7</td>\n",
       "      <td>6</td>\n",
       "      <td>0</td>\n",
       "      <td>199</td>\n",
       "    </tr>\n",
       "    <tr>\n",
       "      <th>8</th>\n",
       "      <td>2</td>\n",
       "      <td>6723.47</td>\n",
       "      <td>46</td>\n",
       "      <td>6</td>\n",
       "      <td>0</td>\n",
       "      <td>199</td>\n",
       "    </tr>\n",
       "    <tr>\n",
       "      <th>10</th>\n",
       "      <td>2</td>\n",
       "      <td>5809.91</td>\n",
       "      <td>32</td>\n",
       "      <td>6</td>\n",
       "      <td>0</td>\n",
       "      <td>199</td>\n",
       "    </tr>\n",
       "    <tr>\n",
       "      <th>11</th>\n",
       "      <td>3</td>\n",
       "      <td>7003.50</td>\n",
       "      <td>56</td>\n",
       "      <td>6</td>\n",
       "      <td>0</td>\n",
       "      <td>199</td>\n",
       "    </tr>\n",
       "  </tbody>\n",
       "</table>\n",
       "</div>"
      ],
      "text/plain": [
       "               rides_count  distance  duration  minute_price  \\\n",
       "user_id month                                                  \n",
       "1       1                2   7027.51        42             6   \n",
       "        4                1    754.16         7             6   \n",
       "        8                2   6723.47        46             6   \n",
       "        10               2   5809.91        32             6   \n",
       "        11               3   7003.50        56             6   \n",
       "\n",
       "               start_ride_price  subscription_fee  \n",
       "user_id month                                      \n",
       "1       1                     0               199  \n",
       "        4                     0               199  \n",
       "        8                     0               199  \n",
       "        10                    0               199  \n",
       "        11                    0               199  "
      ]
     },
     "execution_count": 30,
     "metadata": {},
     "output_type": "execute_result"
    }
   ],
   "source": [
    "users_months_rides = df.pivot_table(\n",
    "    index=('user_id', 'month'), \n",
    "    values=(\n",
    "        'distance', \n",
    "        'duration', \n",
    "        'minute_price', \n",
    "        'start_ride_price', \n",
    "        'subscription_fee'\n",
    "    ), \n",
    "    aggfunc=({'distance':{'count', 'sum'}, \n",
    "             'duration':'sum',\n",
    "             'minute_price': 'mean',\n",
    "             'start_ride_price':'mean',\n",
    "             'subscription_fee':'mean',})\n",
    ")\n",
    "users_months_rides.columns = [\n",
    "    'rides_count', 'distance', \n",
    "    'duration', \n",
    "    'minute_price',\n",
    "    'start_ride_price', \n",
    "    'subscription_fee'\n",
    "]\n",
    "users_months_rides.head()"
   ]
  },
  {
   "cell_type": "markdown",
   "id": "14ecb5bb",
   "metadata": {},
   "source": [
    "####  В этот же датафрейм добавьте столбец с помесячной выручкой, которую принёс каждый пользователь. "
   ]
  },
  {
   "cell_type": "code",
   "execution_count": 31,
   "id": "1e5c0f25",
   "metadata": {},
   "outputs": [
    {
     "data": {
      "text/html": [
       "<div>\n",
       "<style scoped>\n",
       "    .dataframe tbody tr th:only-of-type {\n",
       "        vertical-align: middle;\n",
       "    }\n",
       "\n",
       "    .dataframe tbody tr th {\n",
       "        vertical-align: top;\n",
       "    }\n",
       "\n",
       "    .dataframe thead th {\n",
       "        text-align: right;\n",
       "    }\n",
       "</style>\n",
       "<table border=\"1\" class=\"dataframe\">\n",
       "  <thead>\n",
       "    <tr style=\"text-align: right;\">\n",
       "      <th></th>\n",
       "      <th></th>\n",
       "      <th>rides_count</th>\n",
       "      <th>distance</th>\n",
       "      <th>duration</th>\n",
       "      <th>minute_price</th>\n",
       "      <th>start_ride_price</th>\n",
       "      <th>subscription_fee</th>\n",
       "      <th>revenue</th>\n",
       "    </tr>\n",
       "    <tr>\n",
       "      <th>user_id</th>\n",
       "      <th>month</th>\n",
       "      <th></th>\n",
       "      <th></th>\n",
       "      <th></th>\n",
       "      <th></th>\n",
       "      <th></th>\n",
       "      <th></th>\n",
       "      <th></th>\n",
       "    </tr>\n",
       "  </thead>\n",
       "  <tbody>\n",
       "    <tr>\n",
       "      <th rowspan=\"5\" valign=\"top\">1</th>\n",
       "      <th>1</th>\n",
       "      <td>2</td>\n",
       "      <td>7027.51</td>\n",
       "      <td>42</td>\n",
       "      <td>6</td>\n",
       "      <td>0</td>\n",
       "      <td>199</td>\n",
       "      <td>451</td>\n",
       "    </tr>\n",
       "    <tr>\n",
       "      <th>4</th>\n",
       "      <td>1</td>\n",
       "      <td>754.16</td>\n",
       "      <td>7</td>\n",
       "      <td>6</td>\n",
       "      <td>0</td>\n",
       "      <td>199</td>\n",
       "      <td>241</td>\n",
       "    </tr>\n",
       "    <tr>\n",
       "      <th>8</th>\n",
       "      <td>2</td>\n",
       "      <td>6723.47</td>\n",
       "      <td>46</td>\n",
       "      <td>6</td>\n",
       "      <td>0</td>\n",
       "      <td>199</td>\n",
       "      <td>475</td>\n",
       "    </tr>\n",
       "    <tr>\n",
       "      <th>10</th>\n",
       "      <td>2</td>\n",
       "      <td>5809.91</td>\n",
       "      <td>32</td>\n",
       "      <td>6</td>\n",
       "      <td>0</td>\n",
       "      <td>199</td>\n",
       "      <td>391</td>\n",
       "    </tr>\n",
       "    <tr>\n",
       "      <th>11</th>\n",
       "      <td>3</td>\n",
       "      <td>7003.50</td>\n",
       "      <td>56</td>\n",
       "      <td>6</td>\n",
       "      <td>0</td>\n",
       "      <td>199</td>\n",
       "      <td>535</td>\n",
       "    </tr>\n",
       "  </tbody>\n",
       "</table>\n",
       "</div>"
      ],
      "text/plain": [
       "               rides_count  distance  duration  minute_price  \\\n",
       "user_id month                                                  \n",
       "1       1                2   7027.51        42             6   \n",
       "        4                1    754.16         7             6   \n",
       "        8                2   6723.47        46             6   \n",
       "        10               2   5809.91        32             6   \n",
       "        11               3   7003.50        56             6   \n",
       "\n",
       "               start_ride_price  subscription_fee  revenue  \n",
       "user_id month                                               \n",
       "1       1                     0               199      451  \n",
       "        4                     0               199      241  \n",
       "        8                     0               199      475  \n",
       "        10                    0               199      391  \n",
       "        11                    0               199      535  "
      ]
     },
     "execution_count": 31,
     "metadata": {},
     "output_type": "execute_result"
    }
   ],
   "source": [
    "users_months_rides['revenue'] = (\n",
    "users_months_rides['start_ride_price']*users_months_rides['rides_count']+\n",
    "users_months_rides['minute_price']*users_months_rides['duration']+\n",
    "users_months_rides['subscription_fee'])\n",
    "users_months_rides.head()"
   ]
  },
  {
   "cell_type": "markdown",
   "id": "c2aea972",
   "metadata": {},
   "source": [
    "#### Вывод и подсчет выручки"
   ]
  },
  {
   "cell_type": "code",
   "execution_count": 32,
   "id": "56864001",
   "metadata": {},
   "outputs": [
    {
     "name": "stdout",
     "output_type": "stream",
     "text": [
      "Записи с  2021-01-01 00:00:00 по 2021-12-30 00:00:00\n",
      "Выручка за 2021 год составила : 3878641 руб.\n"
     ]
    }
   ],
   "source": [
    "print('Записи с ', df['date'].min(), 'по', df['date'].max())\n",
    "print ('Выручка за 2021 год составила :',users_months_rides['revenue'].sum(), 'руб.')"
   ]
  },
  {
   "cell_type": "markdown",
   "id": "88c8673a",
   "metadata": {},
   "source": [
    "В общей сложности за 2021 год пользователи принести 3 878 641 рублей"
   ]
  },
  {
   "cell_type": "markdown",
   "id": "41545ac0",
   "metadata": {},
   "source": [
    "### Проверка гипотез"
   ]
  },
  {
   "cell_type": "markdown",
   "id": "b6d3075e",
   "metadata": {},
   "source": [
    "Продакт-менеджеры сервиса хотят увеличить количество пользователей с подпиской. Для этого они будут проводить различные акции, но сначала нужно выяснить несколько важных моментов."
   ]
  },
  {
   "cell_type": "markdown",
   "id": "4be72841",
   "metadata": {},
   "source": [
    "#### Важно понять, тратят ли пользователи с подпиской больше времени на поездки? Если да, то пользователи с подпиской могут быть «выгоднее» для компании. Проверьте гипотезу. Используйте исходные данные о продолжительности каждой сессии — отдельно для подписчиков и тех, у кого нет подписки."
   ]
  },
  {
   "cell_type": "markdown",
   "id": "f0aec303",
   "metadata": {},
   "source": [
    "Выдвинем следующие гипотезы:\n",
    "1. H0:Средняя продолжительность поездок с подпиской и без равна\n",
    "2. H1:Средняя продолжительность поездок с подпиской больше продолжительности поездок без подписок \n",
    "\n",
    "Проверим гипотезы используя исходные данные о продолжительности сессии для пользователей с подпиской и без неё"
   ]
  },
  {
   "cell_type": "code",
   "execution_count": 33,
   "id": "dd57506f",
   "metadata": {},
   "outputs": [
    {
     "name": "stdout",
     "output_type": "stream",
     "text": [
      "2.4959453720736625e-34\n",
      "Отвергаем нулевую гипотезу\n"
     ]
    }
   ],
   "source": [
    "res = stats.ttest_ind(\n",
    "    df_ultra['duration'], \n",
    "    df_free['duration'], \n",
    "    equal_var=True, \n",
    "    alternative='greater')\n",
    "print(res.pvalue)\n",
    "\n",
    "alpha = 0.05\n",
    "if res.pvalue < alpha:\n",
    "    print('Отвергаем нулевую гипотезу')\n",
    "else:\n",
    "    print('Не получилось отвергнуть нулевую гипотезу')"
   ]
  },
  {
   "cell_type": "markdown",
   "id": "3f4fa557",
   "metadata": {},
   "source": [
    "Нулевая гипотеза отвергнута. Значит можно утверждать что средняя продолжительность поездки пользователей с подпиской больше продолжительности поездок пользователей без подписки (при установленном уровне значимости в 5 %)"
   ]
  },
  {
   "cell_type": "markdown",
   "id": "be452a0f",
   "metadata": {},
   "source": [
    "#### Расстояние одной поездки в 3130 метров — оптимальное с точки зрения износа самоката. Можно ли сказать, что среднее расстояние, которое проезжают пользователи с подпиской за одну поездку, не превышает 3130 метров? Проверьте гипотезу и сделайте выводы."
   ]
  },
  {
   "cell_type": "markdown",
   "id": "3cdc49f9",
   "metadata": {},
   "source": [
    "Выдвинем следующие гипотезы:\n",
    "1. H0:Среднее расстояние поездок с подпиской равно оптимальному расстоянию в 3130 метров.\n",
    "2. H1:Среднее расстояние поездок с подпиской больше оптимального в 3130 метров.\n",
    "\n",
    "Проверим гипотезы используя данные только о пользователях с подпиской."
   ]
  },
  {
   "cell_type": "code",
   "execution_count": 34,
   "id": "52b4569a",
   "metadata": {},
   "outputs": [
    {
     "name": "stdout",
     "output_type": "stream",
     "text": [
      "0.9195362605842414\n",
      "Не получилось отвергнуть нулевую гипотезу\n"
     ]
    }
   ],
   "source": [
    "distance = 3130\n",
    "alpha = 0.05\n",
    "\n",
    "res = stats.ttest_1samp(\n",
    "    df_ultra['distance'], \n",
    "    distance,\n",
    "    alternative='greater')\n",
    "\n",
    "print(res.pvalue)\n",
    "\n",
    "if res.pvalue < alpha:\n",
    "    print('Отвергаем нулевую гипотезу')\n",
    "else:\n",
    "    print('Не получилось отвергнуть нулевую гипотезу')"
   ]
  },
  {
   "cell_type": "markdown",
   "id": "02e07403",
   "metadata": {},
   "source": [
    "Нулевую гипотезу не удалось отвергнуть. Значит можно утверждать что среднее расстояние поездки пользователей с подпиской не превышает оптимальное расстоянием в 3130 метров с точки зрения износа самоката (при установленном уровне значимости в 5 %)"
   ]
  },
  {
   "cell_type": "markdown",
   "id": "df22b317",
   "metadata": {},
   "source": [
    "#### Проверьте гипотезу о том, будет ли помесячная выручка от пользователей с подпиской по месяцам выше, чем выручка от пользователей без подписки. Сделайте вывод."
   ]
  },
  {
   "cell_type": "markdown",
   "id": "94a6696e",
   "metadata": {},
   "source": [
    "Выдвинем следующие гипотезы:\n",
    "1. Н0: Помесячная средняя выручка от пользователей с подпиской равна помесячной средней выручке от пользователей без подписки.\n",
    "2. Н1: Помесячная средняя выручка от пользователей с подпиской больше помесячной средней выручки от пользователей без подписки.\n",
    "\n",
    "Проверим гипотезы используя данные всех пользователей с подпиской и без."
   ]
  },
  {
   "cell_type": "code",
   "execution_count": 35,
   "id": "ccba6b7b",
   "metadata": {},
   "outputs": [
    {
     "name": "stdout",
     "output_type": "stream",
     "text": [
      "1.8850394384715216e-31\n",
      "Отвергаем нулевую гипотезу\n"
     ]
    }
   ],
   "source": [
    "res = stats.ttest_ind(\n",
    "    users_months_rides.loc[users_months_rides['subscription_fee'] > 0, 'revenue'], \n",
    "    users_months_rides.loc[users_months_rides['subscription_fee'] == 0, 'revenue'], \n",
    "    equal_var=True, \n",
    "    alternative='greater')\n",
    "print(res.pvalue)\n",
    "\n",
    "alpha = 0.05\n",
    "if res.pvalue < alpha:\n",
    "    print('Отвергаем нулевую гипотезу')\n",
    "else:\n",
    "    print('Не получилось отвергнуть нулевую гипотезу')"
   ]
  },
  {
   "cell_type": "markdown",
   "id": "72c09e4d",
   "metadata": {},
   "source": [
    "Нулевая гипотеза отвергнута. Значит можно утверждать что средняя выручка с пользователей с подпиской выше, чем без неё (при установленном уровне значимости в 5 %)."
   ]
  },
  {
   "cell_type": "markdown",
   "id": "eb7166be",
   "metadata": {},
   "source": [
    "#### Представьте такую ситуацию: техническая команда сервиса обновила сервера, с которыми взаимодействует мобильное приложение. Она надеется, что из-за этого количество обращений в техподдержку значимо снизилось. Некоторый файл содержит для каждого пользователя данные о количестве обращений до обновления и после него. Какой тест вам понадобился бы для проверки этой гипотезы?"
   ]
  },
  {
   "cell_type": "markdown",
   "id": "84631ffe",
   "metadata": {},
   "source": [
    "Будем использовать гипотезу о равенстве средних для зависимых (парных) выборок.\n",
    "\n",
    "Гипотезы будут сформулированы так:\n",
    "\n",
    "H0 : μ1 = μ2\n",
    "H1 : μ1 != μ2\n",
    "где μ1 и μ2 - средние значения количество обращений в техподдержку до и после изменения.\n",
    "\n",
    "Метод, который нужно использовать при сравнении: `scipy.stats.ttest_rel()`"
   ]
  },
  {
   "cell_type": "markdown",
   "id": "c08d89f7",
   "metadata": {},
   "source": [
    "#### Вывод"
   ]
  },
  {
   "cell_type": "markdown",
   "id": "6ea58f28",
   "metadata": {},
   "source": [
    "1. Нулевая гипотеза отвергнута. Значит можно утверждать что средняя продолжительность поездки пользователей с подпиской больше продолжительности поездок пользователей без подписки (при установленном уровне значимости в 5 %)\n",
    "2. Нулевую гипотезу не удалось отвергнуть. Значит можно утверждать что среднее расстояние поездки пользователей с подпиской не превышает оптимальное расстоянием в 3130 метров с точки зрения износа самоката (при установленном уровне значимости в 5 %)\n",
    "3. Нулевая гипотеза отвергнута. Значит можно утверждать что средняя выручка с пользователей с подпиской выше, чем без неё (при установленном уровне значимости в 5 %)."
   ]
  },
  {
   "cell_type": "markdown",
   "id": "61213c5e",
   "metadata": {},
   "source": [
    "### Распределения"
   ]
  },
  {
   "cell_type": "markdown",
   "id": "1748eb64",
   "metadata": {},
   "source": [
    "Отделу маркетинга GoFast поставили задачу: нужно провести акцию с раздачей промокодов на один бесплатный месяц подписки, в рамках которой как минимум 100 существующих клиентов должны продлить эту подписку. То есть по завершении периода действия подписки пользователь может либо отказаться от неё, либо продлить, совершив соответствующий платёж. \n",
    "\n",
    "Эта акция уже проводилась ранее и по итогу выяснилось, что после бесплатного пробного периода подписку продлевают 10 % пользователей. Выясните, какое минимальное количество промокодов нужно разослать, чтобы вероятность не выполнить план была примерно 5 %. Подберите параметры распределения, описывающего эту ситуацию, постройте график распределения и сформулируйте ответ на вопрос о количестве промокодов."
   ]
  },
  {
   "cell_type": "code",
   "execution_count": 36,
   "id": "5e8f9803",
   "metadata": {},
   "outputs": [
    {
     "name": "stdout",
     "output_type": "stream",
     "text": [
      "При раздаче промокодов в количестве 1161 вероятность, не выполнить план меньше 5.0 %\n"
     ]
    },
    {
     "data": {
      "image/png": "[encoded data removed]",
      "text/plain": [
       "<Figure size 432x288 with 1 Axes>"
      ]
     },
     "metadata": {
      "needs_background": "light"
     },
     "output_type": "display_data"
    }
   ],
   "source": [
    "n = 1000\n",
    "p = 0.1\n",
    "k = 99\n",
    "binom_cdf = 0.05\n",
    "\n",
    "while binom_cdf < binom.cdf(k, n, p):\n",
    "    n += 1\n",
    "print(f'При раздаче промокодов в количестве {n} вероятность, не выполнить план меньше {binom.cdf(k, n, p).round(2)*100} %')\n",
    "\n",
    "mu = n * p\n",
    "sigma = (n * p * (1 - p))**0.5\n",
    "\n",
    "arange = np.arange((mu - 4 * sigma),(mu + 4 * sigma),1)\n",
    "\n",
    "plt.plot(arange, stats.norm.pdf(arange, mu, sigma), 'b-')\n",
    "plt.axvline(x=k, color='red')\n",
    "plt.axvline(x=mu, color='green')\n",
    "plt.show()"
   ]
  },
  {
   "cell_type": "markdown",
   "id": "76030f22",
   "metadata": {},
   "source": [
    "Для того чтобы хотя бы 100 клиентов продлили подписку необходимо разослать как минимум 1161 уведомлений (для 5% вероятности не выполнить план)"
   ]
  },
  {
   "cell_type": "markdown",
   "id": "1315965e",
   "metadata": {},
   "source": [
    "Отдел маркетинга рассылает клиентам push-уведомления в мобильном приложении. Клиенты могут открыть его или не открывать. Известно, что уведомления открывают около 40 % получивших клиентов. Отдел планирует разослать 1 млн уведомлений. С помощью аппроксимации постройте примерный график распределения и оцените вероятность того, что уведомление откроют не более 399,5 тыс. пользователей."
   ]
  },
  {
   "cell_type": "code",
   "execution_count": 37,
   "id": "e852415c",
   "metadata": {},
   "outputs": [
    {
     "name": "stdout",
     "output_type": "stream",
     "text": [
      "Вероятность открытия сообщений: 0.15371708296369768\n"
     ]
    },
    {
     "data": {
      "image/png": "[encoded data removed]",
      "text/plain": [
       "<Figure size 432x288 with 1 Axes>"
      ]
     },
     "metadata": {
      "needs_background": "light"
     },
     "output_type": "display_data"
    }
   ],
   "source": [
    "n = 1000000\n",
    "p = 0.4\n",
    "k = 399500\n",
    "\n",
    "mu = n * p\n",
    "sigma = (n * p * (1 - p))**0.5\n",
    "\n",
    "distr = stats.norm(mu, sigma) \n",
    "\n",
    "result = distr.cdf(k)\n",
    "print('Вероятность открытия сообщений:', result)\n",
    "\n",
    "arange = np.arange((mu - 4 * sigma),(mu + 4 * sigma),1)\n",
    "plt.plot(arange, stats.norm.pdf(arange, mu, sigma), 'b-')\n",
    "plt.xticks(rotation=90)\n",
    "plt.axvline(x=k, color='red')\n",
    "plt.axvline(x=mu, color='green')\n",
    "plt.show()"
   ]
  },
  {
   "cell_type": "markdown",
   "id": "226a760e",
   "metadata": {},
   "source": [
    "Если разослать 1 млн уведомлений пользователям, которые откроют сообщение с 40% вероятностью, то вероятность того что пользователи откроют уведомление не более 399,5 тыс составляет 15%."
   ]
  },
  {
   "cell_type": "markdown",
   "id": "6162a338",
   "metadata": {},
   "source": [
    "### Общий вывод"
   ]
  },
  {
   "cell_type": "markdown",
   "id": "8ac2bd7f",
   "metadata": {},
   "source": [
    "По итогу проделанной работы можно сделать следующие выводы:\n",
    "1. Загрузка данных\n",
    "    * В таблице `users_go`(пользователи) всего 1565 записей, в которых есть 31 явных дубликатов. Пропусков нет.\n",
    "    * В таблице `rides_go`(поездки) всего 18068 записей и 0 явных дубликатов. Пропусков нет.\n",
    "    * В таблице `subscriptions_go`(подписки) всего 2 записи и 0 явных дубликатов. Пропусков нет.  \n",
    "    * Ошибок или неточностей в названии столбцов нет. Некоторые столбцы имеют некорректный тип данынх.\n",
    "    \n",
    "\n",
    "2. Предобработка данных\n",
    "    * В таблице `users_go` были удалены дубликаты. До удаления было 1565 записей, после - 1534.\n",
    "    * В таблице `rides_go`:\n",
    "        * Округлены все значения в столбце `distance` до 2 знаков после запятой.\n",
    "        * Округлены все значения в столбце `duration` до целых значений вверх (пункт 5.2) и изменен тип данных на int.\n",
    "        * В столбце `date` изменен тип данынх на datetime.\n",
    "        * Добавлен новый столбец `month` содержащий номер месяца (пункт 2.2).\n",
    "    * В таблице `subscriptions_go` не было проведено никаких изменений.\n",
    "    \n",
    "    \n",
    "3. Исследовательский анализ данных\n",
    "    * Чаще услугами сервиса пользуются в южных регионах страны(скорее всего это связано с тем что сезон проката там дольше, чем в других регионах), однако в Екатеринбурге спрос на сервис выше чем во многих южных городах.\n",
    "    * Больше половины(54%) пользователей пользуются приложением без подписки(46%).\n",
    "    * Возраст пользователу сервиса от 12 до 43 лет. Самое большое количество пользователей в возрасте 25 лет.\n",
    "    * Максимальное расстояние которое преодолевали пользователи - 7211 метров, самое же минимальное - 1 метр. Среднее расстояние, которое преодолевают пользователи - 3070 метров. Также есть относительно небольшая группа пользователей произжающих короткие дистанции до 1500 метров.\n",
    "    * Минимальное время поздки 1 минута, максимальное - 41 минута. Самое большое количество поездок находится в пределах 18 минут.\n",
    "    \n",
    "\n",
    "4. Объединение данных\n",
    "    * Тип подписки влияет на среднее расстояние, которое проезжают пользователи. Пользователи без подписки проезжают расстояние меньше, чем пользователи с подпиской (3045 против 3115). Также у пользователей без подписки разброс выше, чем у пользователей с подпиской (1246 и 836).\n",
    "    * Тип подписки влияет на время поездки. Пользователи без подписки в среднем тратят времени на поездки меньше, чем пользователи с подпиской (в среднем 18 минут без подписки и 19 минут с подпиской). \n",
    "    \n",
    "    \n",
    "5. Подсчет выручки\n",
    "    * В общей сложности за 2021 год пользователи принести 3 878 641 рублей.\n",
    "    \n",
    "    \n",
    "6. Проверка гипотез\n",
    "    * После проведения статистического анализа данных была отвергнута нулевая гипотеза, что означает, что средняя продолжительность поездок пользователей с подпиской значимо превышает продолжительность поездок пользователей без подписки на уровне значимости 5%. Это означает, что пользователи с подпиской склонны дольше пользоваться услугами компании, чем пользователи без подписки.\n",
    "    * На основании проведенного анализа данных нулевая гипотеза о том, что среднее расстояние поездки пользователей с подпиской превышает оптимальное значение в 3130 метров, не была отвергнута на уровне значимости 5%. Это означает, что пользователи с подпиской обычно выбирают расстояния на поездки, которые не превышают оптимальное значение, установленное для износа самоката.\n",
    "    * После статистического анализа данных была отвергнута нулевая гипотеза о том, что средняя выручка от пользователей с подпиской и без нее одинакова. Это означает, что средняя выручка от пользователей с подпиской значимо выше, чем от пользователей без подписки, на уровне значимости 5%. Это может быть интересным выводом для компании, так как показывает, что подписка может стимулировать пользователей к большему объему пользования услугами и, как следствие, к увеличению выручки.\n",
    "    \n",
    "    \n",
    "7. Распределения\n",
    "    * Для того чтобы хотя бы 100 клиентов продлили подписку необходимо разослать как минимум 1161 уведомлений (для 5% вероятности не выполнить план)\n",
    "    * Если разослать 1 млн уведомлений пользователям, которые откроют сообщение с 40% вероятностью, то вероятность того что пользователи откроют уведомление не более 399,5 тыс составляет 15%."
   ]
  }
 ],
 "metadata": {
  "ExecuteTimeLog": [
   {
    "duration": 414,
    "start_time": "2024-04-18T01:33:06.538Z"
   },
   {
    "duration": 935,
    "start_time": "2024-04-18T01:37:18.931Z"
   },
   {
    "duration": 308,
    "start_time": "2024-04-18T01:41:35.905Z"
   },
   {
    "duration": 11,
    "start_time": "2024-04-18T01:42:40.265Z"
   },
   {
    "duration": 5,
    "start_time": "2024-04-18T01:43:08.152Z"
   },
   {
    "duration": 11,
    "start_time": "2024-04-18T01:43:27.290Z"
   },
   {
    "duration": 7,
    "start_time": "2024-04-18T01:43:28.255Z"
   },
   {
    "duration": 5,
    "start_time": "2024-04-18T01:43:28.790Z"
   },
   {
    "duration": 6,
    "start_time": "2024-04-18T01:43:46.949Z"
   },
   {
    "duration": 7,
    "start_time": "2024-04-18T01:43:47.717Z"
   },
   {
    "duration": 5,
    "start_time": "2024-04-18T01:43:48.182Z"
   },
   {
    "duration": 3,
    "start_time": "2024-04-18T01:44:09.252Z"
   },
   {
    "duration": 5,
    "start_time": "2024-04-18T01:44:16.348Z"
   },
   {
    "duration": 7,
    "start_time": "2024-04-18T01:44:17.019Z"
   },
   {
    "duration": 6,
    "start_time": "2024-04-18T01:44:17.491Z"
   },
   {
    "duration": 66,
    "start_time": "2024-04-18T01:46:33.466Z"
   },
   {
    "duration": 15,
    "start_time": "2024-04-18T01:47:33.702Z"
   },
   {
    "duration": 12,
    "start_time": "2024-04-18T01:47:34.525Z"
   },
   {
    "duration": 11,
    "start_time": "2024-04-18T01:47:34.941Z"
   },
   {
    "duration": 7,
    "start_time": "2024-04-18T01:48:26.554Z"
   },
   {
    "duration": 9,
    "start_time": "2024-04-18T01:48:51.937Z"
   },
   {
    "duration": 7,
    "start_time": "2024-04-18T01:49:00.001Z"
   },
   {
    "duration": 9,
    "start_time": "2024-04-18T01:49:00.673Z"
   },
   {
    "duration": 5,
    "start_time": "2024-04-18T01:50:03.262Z"
   },
   {
    "duration": 5670,
    "start_time": "2024-04-18T01:50:18.372Z"
   },
   {
    "duration": 13,
    "start_time": "2024-04-18T01:54:39.820Z"
   },
   {
    "duration": 15,
    "start_time": "2024-04-18T01:54:45.780Z"
   },
   {
    "duration": 91,
    "start_time": "2024-04-18T01:54:54.059Z"
   },
   {
    "duration": 103,
    "start_time": "2024-04-18T01:55:02.387Z"
   },
   {
    "duration": 15,
    "start_time": "2024-04-18T01:55:08.706Z"
   },
   {
    "duration": 18,
    "start_time": "2024-04-18T01:55:51.930Z"
   },
   {
    "duration": 12,
    "start_time": "2024-04-18T01:55:52.609Z"
   },
   {
    "duration": 16,
    "start_time": "2024-04-18T01:56:11.038Z"
   },
   {
    "duration": 14,
    "start_time": "2024-04-18T01:56:19.518Z"
   },
   {
    "duration": 16,
    "start_time": "2024-04-18T01:56:26.910Z"
   },
   {
    "duration": 16,
    "start_time": "2024-04-18T01:56:32.093Z"
   },
   {
    "duration": 110,
    "start_time": "2024-04-18T01:56:40.941Z"
   },
   {
    "duration": 20,
    "start_time": "2024-04-18T01:56:46.716Z"
   },
   {
    "duration": 15,
    "start_time": "2024-04-18T01:56:55.708Z"
   },
   {
    "duration": 86,
    "start_time": "2024-04-18T01:57:08.291Z"
   },
   {
    "duration": 16,
    "start_time": "2024-04-18T01:57:13.892Z"
   },
   {
    "duration": 17,
    "start_time": "2024-04-18T01:57:35.746Z"
   },
   {
    "duration": 17,
    "start_time": "2024-04-18T01:57:46.665Z"
   },
   {
    "duration": 16,
    "start_time": "2024-04-18T01:57:52.665Z"
   },
   {
    "duration": 17,
    "start_time": "2024-04-18T02:06:47.045Z"
   },
   {
    "duration": 113,
    "start_time": "2024-04-18T02:07:43.532Z"
   },
   {
    "duration": 9,
    "start_time": "2024-04-18T02:07:51.033Z"
   },
   {
    "duration": 16,
    "start_time": "2024-04-18T02:07:58.618Z"
   },
   {
    "duration": 7,
    "start_time": "2024-04-18T02:08:03.153Z"
   },
   {
    "duration": 14,
    "start_time": "2024-04-18T02:09:44.244Z"
   },
   {
    "duration": 14,
    "start_time": "2024-04-18T02:09:56.746Z"
   },
   {
    "duration": 14,
    "start_time": "2024-04-18T02:10:08.082Z"
   },
   {
    "duration": 17,
    "start_time": "2024-04-18T02:10:35.729Z"
   },
   {
    "duration": 17,
    "start_time": "2024-04-18T02:11:17.303Z"
   },
   {
    "duration": 33,
    "start_time": "2024-04-18T02:11:38.966Z"
   },
   {
    "duration": 15,
    "start_time": "2024-04-18T02:12:09.606Z"
   },
   {
    "duration": 9,
    "start_time": "2024-04-18T02:12:28.019Z"
   },
   {
    "duration": 15,
    "start_time": "2024-04-18T02:13:13.945Z"
   },
   {
    "duration": 8,
    "start_time": "2024-04-18T02:13:15.632Z"
   },
   {
    "duration": 16,
    "start_time": "2024-04-18T02:14:11.062Z"
   },
   {
    "duration": 1160,
    "start_time": "2024-04-18T02:14:15.715Z"
   },
   {
    "duration": 69,
    "start_time": "2024-04-18T02:14:16.877Z"
   },
   {
    "duration": 11,
    "start_time": "2024-04-18T02:14:16.947Z"
   },
   {
    "duration": 9,
    "start_time": "2024-04-18T02:14:16.960Z"
   },
   {
    "duration": 40,
    "start_time": "2024-04-18T02:14:16.971Z"
   },
   {
    "duration": 24,
    "start_time": "2024-04-18T02:14:17.013Z"
   },
   {
    "duration": 53,
    "start_time": "2024-04-18T02:14:17.039Z"
   },
   {
    "duration": 12,
    "start_time": "2024-04-18T02:14:17.094Z"
   },
   {
    "duration": 19,
    "start_time": "2024-04-18T02:14:17.108Z"
   },
   {
    "duration": 4,
    "start_time": "2024-04-18T02:16:11.081Z"
   },
   {
    "duration": 6,
    "start_time": "2024-04-18T02:16:43.747Z"
   },
   {
    "duration": 5,
    "start_time": "2024-04-18T02:19:46.502Z"
   },
   {
    "duration": 14,
    "start_time": "2024-04-18T02:19:58.254Z"
   },
   {
    "duration": 11,
    "start_time": "2024-04-18T02:20:03.621Z"
   },
   {
    "duration": 111,
    "start_time": "2024-04-18T02:21:30.714Z"
   },
   {
    "duration": 13,
    "start_time": "2024-04-18T02:21:36.841Z"
   },
   {
    "duration": 11,
    "start_time": "2024-04-18T02:22:31.062Z"
   },
   {
    "duration": 17,
    "start_time": "2024-04-18T02:24:08.433Z"
   },
   {
    "duration": 21,
    "start_time": "2024-04-18T02:24:19.377Z"
   },
   {
    "duration": 22,
    "start_time": "2024-04-18T02:24:46.991Z"
   },
   {
    "duration": 20,
    "start_time": "2024-04-18T02:24:59.263Z"
   },
   {
    "duration": 1107,
    "start_time": "2024-04-18T02:25:35.049Z"
   },
   {
    "duration": 66,
    "start_time": "2024-04-18T02:25:36.158Z"
   },
   {
    "duration": 10,
    "start_time": "2024-04-18T02:25:36.226Z"
   },
   {
    "duration": 7,
    "start_time": "2024-04-18T02:25:36.238Z"
   },
   {
    "duration": 16,
    "start_time": "2024-04-18T02:25:36.247Z"
   },
   {
    "duration": 26,
    "start_time": "2024-04-18T02:25:36.264Z"
   },
   {
    "duration": 18,
    "start_time": "2024-04-18T02:25:36.292Z"
   },
   {
    "duration": 17,
    "start_time": "2024-04-18T02:25:36.312Z"
   },
   {
    "duration": 23,
    "start_time": "2024-04-18T02:25:36.331Z"
   },
   {
    "duration": 24,
    "start_time": "2024-04-18T02:25:36.356Z"
   },
   {
    "duration": 108,
    "start_time": "2024-04-18T02:28:29.568Z"
   },
   {
    "duration": 24,
    "start_time": "2024-04-18T02:28:40.496Z"
   },
   {
    "duration": 37,
    "start_time": "2024-04-18T02:32:57.508Z"
   },
   {
    "duration": 31,
    "start_time": "2024-04-18T02:33:04.431Z"
   },
   {
    "duration": 1482,
    "start_time": "2024-04-18T02:33:17.958Z"
   },
   {
    "duration": 73,
    "start_time": "2024-04-18T02:33:19.442Z"
   },
   {
    "duration": 10,
    "start_time": "2024-04-18T02:33:19.517Z"
   },
   {
    "duration": 11,
    "start_time": "2024-04-18T02:33:19.529Z"
   },
   {
    "duration": 7,
    "start_time": "2024-04-18T02:33:19.542Z"
   },
   {
    "duration": 14,
    "start_time": "2024-04-18T02:33:19.550Z"
   },
   {
    "duration": 26,
    "start_time": "2024-04-18T02:33:19.565Z"
   },
   {
    "duration": 11,
    "start_time": "2024-04-18T02:33:19.593Z"
   },
   {
    "duration": 22,
    "start_time": "2024-04-18T02:33:19.605Z"
   },
   {
    "duration": 53,
    "start_time": "2024-04-18T02:33:19.630Z"
   },
   {
    "duration": 1151,
    "start_time": "2024-04-18T02:40:44.922Z"
   },
   {
    "duration": 73,
    "start_time": "2024-04-18T02:40:46.074Z"
   },
   {
    "duration": 11,
    "start_time": "2024-04-18T02:40:46.149Z"
   },
   {
    "duration": 19,
    "start_time": "2024-04-18T02:40:46.162Z"
   },
   {
    "duration": 6,
    "start_time": "2024-04-18T02:40:46.183Z"
   },
   {
    "duration": 26,
    "start_time": "2024-04-18T02:40:46.191Z"
   },
   {
    "duration": 17,
    "start_time": "2024-04-18T02:40:46.219Z"
   },
   {
    "duration": 22,
    "start_time": "2024-04-18T02:40:46.237Z"
   },
   {
    "duration": 31,
    "start_time": "2024-04-18T02:40:46.261Z"
   },
   {
    "duration": 26,
    "start_time": "2024-04-18T02:40:46.295Z"
   },
   {
    "duration": 46,
    "start_time": "2024-04-18T09:07:56.224Z"
   },
   {
    "duration": 1259,
    "start_time": "2024-04-18T09:08:04.544Z"
   },
   {
    "duration": 208,
    "start_time": "2024-04-18T09:08:05.805Z"
   },
   {
    "duration": 11,
    "start_time": "2024-04-18T09:08:06.014Z"
   },
   {
    "duration": 49,
    "start_time": "2024-04-18T09:08:06.026Z"
   },
   {
    "duration": 27,
    "start_time": "2024-04-18T09:08:06.077Z"
   },
   {
    "duration": 30,
    "start_time": "2024-04-18T09:08:06.106Z"
   },
   {
    "duration": 22,
    "start_time": "2024-04-18T09:08:06.139Z"
   },
   {
    "duration": 11,
    "start_time": "2024-04-18T09:08:06.163Z"
   },
   {
    "duration": 21,
    "start_time": "2024-04-18T09:08:06.176Z"
   },
   {
    "duration": 25,
    "start_time": "2024-04-18T09:08:06.200Z"
   },
   {
    "duration": 11,
    "start_time": "2024-04-18T09:08:12.589Z"
   },
   {
    "duration": 6,
    "start_time": "2024-04-18T09:08:27.036Z"
   },
   {
    "duration": 4,
    "start_time": "2024-04-18T09:08:30.708Z"
   },
   {
    "duration": 5,
    "start_time": "2024-04-18T09:08:34.668Z"
   },
   {
    "duration": 3,
    "start_time": "2024-04-18T09:08:57.355Z"
   },
   {
    "duration": 6,
    "start_time": "2024-04-18T09:09:08.458Z"
   },
   {
    "duration": 5,
    "start_time": "2024-04-18T09:09:18.457Z"
   },
   {
    "duration": 1042,
    "start_time": "2024-04-18T09:09:53.945Z"
   },
   {
    "duration": 68,
    "start_time": "2024-04-18T09:09:54.989Z"
   },
   {
    "duration": 9,
    "start_time": "2024-04-18T09:09:55.059Z"
   },
   {
    "duration": 13,
    "start_time": "2024-04-18T09:09:55.071Z"
   },
   {
    "duration": 15,
    "start_time": "2024-04-18T09:09:55.085Z"
   },
   {
    "duration": 24,
    "start_time": "2024-04-18T09:09:55.101Z"
   },
   {
    "duration": 27,
    "start_time": "2024-04-18T09:09:55.127Z"
   },
   {
    "duration": 17,
    "start_time": "2024-04-18T09:09:55.156Z"
   },
   {
    "duration": 8,
    "start_time": "2024-04-18T09:09:55.174Z"
   },
   {
    "duration": 41,
    "start_time": "2024-04-18T09:09:55.184Z"
   },
   {
    "duration": 33,
    "start_time": "2024-04-18T09:09:55.226Z"
   },
   {
    "duration": 30,
    "start_time": "2024-04-18T09:09:55.260Z"
   },
   {
    "duration": 24,
    "start_time": "2024-04-18T09:09:55.291Z"
   },
   {
    "duration": 1112,
    "start_time": "2024-04-18T09:10:18.290Z"
   },
   {
    "duration": 72,
    "start_time": "2024-04-18T09:10:19.404Z"
   },
   {
    "duration": 14,
    "start_time": "2024-04-18T09:10:19.478Z"
   },
   {
    "duration": 29,
    "start_time": "2024-04-18T09:10:19.494Z"
   },
   {
    "duration": 46,
    "start_time": "2024-04-18T09:10:19.525Z"
   },
   {
    "duration": 66,
    "start_time": "2024-04-18T09:10:19.572Z"
   },
   {
    "duration": 51,
    "start_time": "2024-04-18T09:10:19.639Z"
   },
   {
    "duration": 49,
    "start_time": "2024-04-18T09:10:19.692Z"
   },
   {
    "duration": 23,
    "start_time": "2024-04-18T09:10:19.742Z"
   },
   {
    "duration": 11,
    "start_time": "2024-04-18T09:10:19.768Z"
   },
   {
    "duration": 37,
    "start_time": "2024-04-18T09:10:19.781Z"
   },
   {
    "duration": 56,
    "start_time": "2024-04-18T09:10:19.819Z"
   },
   {
    "duration": 33,
    "start_time": "2024-04-18T09:10:19.877Z"
   },
   {
    "duration": 193,
    "start_time": "2024-04-18T09:13:38.730Z"
   },
   {
    "duration": 125,
    "start_time": "2024-04-18T09:13:52.056Z"
   },
   {
    "duration": 178,
    "start_time": "2024-04-18T09:14:03.151Z"
   },
   {
    "duration": 168,
    "start_time": "2024-04-18T09:14:40.509Z"
   },
   {
    "duration": 171,
    "start_time": "2024-04-18T09:14:48.461Z"
   },
   {
    "duration": 68,
    "start_time": "2024-04-18T09:15:43.922Z"
   },
   {
    "duration": 63,
    "start_time": "2024-04-18T09:16:37.983Z"
   },
   {
    "duration": 67,
    "start_time": "2024-04-18T09:16:46.638Z"
   },
   {
    "duration": 109,
    "start_time": "2024-04-18T09:16:49.926Z"
   },
   {
    "duration": 54,
    "start_time": "2024-04-18T09:17:08.509Z"
   },
   {
    "duration": 173,
    "start_time": "2024-04-18T09:17:52.695Z"
   },
   {
    "duration": 167,
    "start_time": "2024-04-18T09:18:28.761Z"
   },
   {
    "duration": 184,
    "start_time": "2024-04-18T09:18:36.592Z"
   },
   {
    "duration": 168,
    "start_time": "2024-04-18T09:18:43.467Z"
   },
   {
    "duration": 252,
    "start_time": "2024-04-18T09:19:01.456Z"
   },
   {
    "duration": 174,
    "start_time": "2024-04-18T09:19:08.848Z"
   },
   {
    "duration": 177,
    "start_time": "2024-04-18T09:19:21.679Z"
   },
   {
    "duration": 182,
    "start_time": "2024-04-18T09:19:37.614Z"
   },
   {
    "duration": 166,
    "start_time": "2024-04-18T09:19:44.325Z"
   },
   {
    "duration": 193,
    "start_time": "2024-04-18T09:20:47.658Z"
   },
   {
    "duration": 170,
    "start_time": "2024-04-18T09:20:55.210Z"
   },
   {
    "duration": 62,
    "start_time": "2024-04-18T09:21:45.049Z"
   },
   {
    "duration": 182,
    "start_time": "2024-04-18T09:22:08.214Z"
   },
   {
    "duration": 193,
    "start_time": "2024-04-18T09:22:20.998Z"
   },
   {
    "duration": 222,
    "start_time": "2024-04-18T09:22:38.661Z"
   },
   {
    "duration": 183,
    "start_time": "2024-04-18T09:23:28.388Z"
   },
   {
    "duration": 257,
    "start_time": "2024-04-18T09:23:35.498Z"
   },
   {
    "duration": 176,
    "start_time": "2024-04-18T09:23:41.114Z"
   },
   {
    "duration": 179,
    "start_time": "2024-04-18T09:23:58.587Z"
   },
   {
    "duration": 210,
    "start_time": "2024-04-18T09:24:01.129Z"
   },
   {
    "duration": 212,
    "start_time": "2024-04-18T09:24:05.433Z"
   },
   {
    "duration": 183,
    "start_time": "2024-04-18T09:24:18.921Z"
   },
   {
    "duration": 182,
    "start_time": "2024-04-18T09:24:21.751Z"
   },
   {
    "duration": 174,
    "start_time": "2024-04-18T09:28:57.202Z"
   },
   {
    "duration": 162,
    "start_time": "2024-04-18T09:29:04.210Z"
   },
   {
    "duration": 158,
    "start_time": "2024-04-18T09:29:14.378Z"
   },
   {
    "duration": 166,
    "start_time": "2024-04-18T09:30:05.999Z"
   },
   {
    "duration": 15,
    "start_time": "2024-04-18T09:30:13.598Z"
   },
   {
    "duration": 14,
    "start_time": "2024-04-18T09:30:22.983Z"
   },
   {
    "duration": 226,
    "start_time": "2024-04-18T09:30:39.821Z"
   },
   {
    "duration": 171,
    "start_time": "2024-04-18T09:30:59.699Z"
   },
   {
    "duration": 170,
    "start_time": "2024-04-18T09:31:05.388Z"
   },
   {
    "duration": 936,
    "start_time": "2024-04-18T09:32:01.444Z"
   },
   {
    "duration": 161,
    "start_time": "2024-04-18T09:32:22.272Z"
   },
   {
    "duration": 144,
    "start_time": "2024-04-18T09:35:01.968Z"
   },
   {
    "duration": 14,
    "start_time": "2024-04-18T09:35:14.407Z"
   },
   {
    "duration": 147,
    "start_time": "2024-04-18T09:35:29.121Z"
   },
   {
    "duration": 15,
    "start_time": "2024-04-18T09:35:53.021Z"
   },
   {
    "duration": 146,
    "start_time": "2024-04-18T09:36:04.908Z"
   },
   {
    "duration": 143,
    "start_time": "2024-04-18T09:38:29.605Z"
   },
   {
    "duration": 171,
    "start_time": "2024-04-18T09:39:23.674Z"
   },
   {
    "duration": 149,
    "start_time": "2024-04-18T09:39:29.909Z"
   },
   {
    "duration": 153,
    "start_time": "2024-04-18T09:40:37.223Z"
   },
   {
    "duration": 157,
    "start_time": "2024-04-18T09:41:09.869Z"
   },
   {
    "duration": 167,
    "start_time": "2024-04-18T09:41:39.611Z"
   },
   {
    "duration": 162,
    "start_time": "2024-04-18T09:42:36.559Z"
   },
   {
    "duration": 13,
    "start_time": "2024-04-18T09:44:25.691Z"
   },
   {
    "duration": 15,
    "start_time": "2024-04-18T09:44:38.713Z"
   },
   {
    "duration": 16,
    "start_time": "2024-04-18T09:45:06.787Z"
   },
   {
    "duration": 13,
    "start_time": "2024-04-18T09:45:21.135Z"
   },
   {
    "duration": 15,
    "start_time": "2024-04-18T09:45:47.494Z"
   },
   {
    "duration": 12,
    "start_time": "2024-04-18T09:45:55.870Z"
   },
   {
    "duration": 13,
    "start_time": "2024-04-18T09:46:06.773Z"
   },
   {
    "duration": 399,
    "start_time": "2024-04-18T09:47:15.794Z"
   },
   {
    "duration": 138,
    "start_time": "2024-04-18T09:47:52.751Z"
   },
   {
    "duration": 294,
    "start_time": "2024-04-18T09:48:16.007Z"
   },
   {
    "duration": 318,
    "start_time": "2024-04-18T09:48:53.469Z"
   },
   {
    "duration": 342,
    "start_time": "2024-04-18T09:49:03.660Z"
   },
   {
    "duration": 314,
    "start_time": "2024-04-18T09:49:12.164Z"
   },
   {
    "duration": 352,
    "start_time": "2024-04-18T09:49:27.676Z"
   },
   {
    "duration": 808,
    "start_time": "2024-04-18T09:55:04.403Z"
   },
   {
    "duration": 116,
    "start_time": "2024-04-18T09:56:21.798Z"
   },
   {
    "duration": 118,
    "start_time": "2024-04-18T09:56:55.637Z"
   },
   {
    "duration": 10,
    "start_time": "2024-04-18T09:58:39.820Z"
   },
   {
    "duration": 796,
    "start_time": "2024-04-18T09:59:07.702Z"
   },
   {
    "duration": 188,
    "start_time": "2024-04-18T09:59:50.348Z"
   },
   {
    "duration": 222,
    "start_time": "2024-04-18T09:59:55.331Z"
   },
   {
    "duration": 231,
    "start_time": "2024-04-18T10:00:25.731Z"
   },
   {
    "duration": 8,
    "start_time": "2024-04-18T10:00:42.689Z"
   },
   {
    "duration": 232,
    "start_time": "2024-04-18T10:01:25.527Z"
   },
   {
    "duration": 368,
    "start_time": "2024-04-18T10:01:30.830Z"
   },
   {
    "duration": 232,
    "start_time": "2024-04-18T10:03:45.833Z"
   },
   {
    "duration": 249,
    "start_time": "2024-04-18T10:03:51.466Z"
   },
   {
    "duration": 8,
    "start_time": "2024-04-18T10:09:12.863Z"
   },
   {
    "duration": 8,
    "start_time": "2024-04-18T10:09:16.557Z"
   },
   {
    "duration": 8,
    "start_time": "2024-04-18T10:09:30.669Z"
   },
   {
    "duration": 200,
    "start_time": "2024-04-18T10:09:59.506Z"
   },
   {
    "duration": 181,
    "start_time": "2024-04-18T10:10:05.671Z"
   },
   {
    "duration": 177,
    "start_time": "2024-04-18T10:10:09.914Z"
   },
   {
    "duration": 243,
    "start_time": "2024-04-18T10:12:45.139Z"
   },
   {
    "duration": 349,
    "start_time": "2024-04-18T10:13:40.893Z"
   },
   {
    "duration": 9,
    "start_time": "2024-04-18T10:24:31.235Z"
   },
   {
    "duration": 7,
    "start_time": "2024-04-18T10:24:42.281Z"
   },
   {
    "duration": 23,
    "start_time": "2024-04-18T10:24:52.864Z"
   },
   {
    "duration": 10,
    "start_time": "2024-04-18T10:25:37.006Z"
   },
   {
    "duration": 6,
    "start_time": "2024-04-18T10:26:46.738Z"
   },
   {
    "duration": 13,
    "start_time": "2024-04-18T10:26:55.106Z"
   },
   {
    "duration": 8,
    "start_time": "2024-04-18T10:27:43.583Z"
   },
   {
    "duration": 9,
    "start_time": "2024-04-18T10:27:47.655Z"
   },
   {
    "duration": 14,
    "start_time": "2024-04-18T10:27:48.102Z"
   },
   {
    "duration": 10,
    "start_time": "2024-04-18T10:28:01.974Z"
   },
   {
    "duration": 13,
    "start_time": "2024-04-18T10:28:03.150Z"
   },
   {
    "duration": 10,
    "start_time": "2024-04-18T10:28:12.638Z"
   },
   {
    "duration": 14,
    "start_time": "2024-04-18T10:28:13.486Z"
   },
   {
    "duration": 18,
    "start_time": "2024-04-18T10:29:16.786Z"
   },
   {
    "duration": 26,
    "start_time": "2024-04-18T10:29:42.768Z"
   },
   {
    "duration": 16,
    "start_time": "2024-04-18T10:31:40.852Z"
   },
   {
    "duration": 24,
    "start_time": "2024-04-18T10:31:59.418Z"
   },
   {
    "duration": 24,
    "start_time": "2024-04-18T10:32:24.512Z"
   },
   {
    "duration": 9,
    "start_time": "2024-04-18T10:32:59.869Z"
   },
   {
    "duration": 13,
    "start_time": "2024-04-18T10:33:09.910Z"
   },
   {
    "duration": 12,
    "start_time": "2024-04-18T10:33:16.229Z"
   },
   {
    "duration": 11,
    "start_time": "2024-04-18T10:33:21.077Z"
   },
   {
    "duration": 5,
    "start_time": "2024-04-18T10:33:51.069Z"
   },
   {
    "duration": 9,
    "start_time": "2024-04-18T10:34:08.862Z"
   },
   {
    "duration": 8,
    "start_time": "2024-04-18T10:34:13.688Z"
   },
   {
    "duration": 1032,
    "start_time": "2024-04-18T10:34:39.762Z"
   },
   {
    "duration": 68,
    "start_time": "2024-04-18T10:34:40.795Z"
   },
   {
    "duration": 12,
    "start_time": "2024-04-18T10:34:40.865Z"
   },
   {
    "duration": 12,
    "start_time": "2024-04-18T10:34:40.878Z"
   },
   {
    "duration": 14,
    "start_time": "2024-04-18T10:34:40.892Z"
   },
   {
    "duration": 16,
    "start_time": "2024-04-18T10:34:40.907Z"
   },
   {
    "duration": 6,
    "start_time": "2024-04-18T10:34:40.924Z"
   },
   {
    "duration": 11,
    "start_time": "2024-04-18T10:34:40.931Z"
   },
   {
    "duration": 7,
    "start_time": "2024-04-18T10:34:40.945Z"
   },
   {
    "duration": 8,
    "start_time": "2024-04-18T10:34:40.954Z"
   },
   {
    "duration": 8,
    "start_time": "2024-04-18T10:34:40.964Z"
   },
   {
    "duration": 7,
    "start_time": "2024-04-18T10:34:40.974Z"
   },
   {
    "duration": 22,
    "start_time": "2024-04-18T10:34:40.982Z"
   },
   {
    "duration": 199,
    "start_time": "2024-04-18T10:34:41.006Z"
   },
   {
    "duration": 143,
    "start_time": "2024-04-18T10:34:41.206Z"
   },
   {
    "duration": 286,
    "start_time": "2024-04-18T10:34:41.351Z"
   },
   {
    "duration": 11,
    "start_time": "2024-04-18T10:34:41.639Z"
   },
   {
    "duration": 270,
    "start_time": "2024-04-18T10:34:41.652Z"
   },
   {
    "duration": 7,
    "start_time": "2024-04-18T10:34:41.923Z"
   },
   {
    "duration": 258,
    "start_time": "2024-04-18T10:34:41.932Z"
   },
   {
    "duration": 25,
    "start_time": "2024-04-18T10:34:42.191Z"
   },
   {
    "duration": 10,
    "start_time": "2024-04-18T10:34:42.218Z"
   },
   {
    "duration": 13,
    "start_time": "2024-04-18T11:15:48.689Z"
   },
   {
    "duration": 15,
    "start_time": "2024-04-18T11:15:51.080Z"
   },
   {
    "duration": 8,
    "start_time": "2024-04-18T11:15:51.768Z"
   },
   {
    "duration": 9,
    "start_time": "2024-04-18T11:15:51.963Z"
   },
   {
    "duration": 264,
    "start_time": "2024-04-18T11:15:52.166Z"
   },
   {
    "duration": 9,
    "start_time": "2024-04-18T11:15:52.519Z"
   },
   {
    "duration": 9,
    "start_time": "2024-04-18T11:15:52.729Z"
   },
   {
    "duration": 232,
    "start_time": "2024-04-18T11:15:53.360Z"
   },
   {
    "duration": 49,
    "start_time": "2024-04-19T02:14:09.460Z"
   },
   {
    "duration": 1287,
    "start_time": "2024-04-19T02:14:16.116Z"
   },
   {
    "duration": 214,
    "start_time": "2024-04-19T02:14:17.404Z"
   },
   {
    "duration": 14,
    "start_time": "2024-04-19T02:14:17.620Z"
   },
   {
    "duration": 188,
    "start_time": "2024-04-19T02:14:17.636Z"
   },
   {
    "duration": 135,
    "start_time": "2024-04-19T02:14:17.826Z"
   },
   {
    "duration": 85,
    "start_time": "2024-04-19T02:14:17.963Z"
   },
   {
    "duration": 67,
    "start_time": "2024-04-19T02:14:18.050Z"
   },
   {
    "duration": 85,
    "start_time": "2024-04-19T02:14:18.118Z"
   },
   {
    "duration": 54,
    "start_time": "2024-04-19T02:14:18.204Z"
   },
   {
    "duration": 23,
    "start_time": "2024-04-19T02:14:18.261Z"
   },
   {
    "duration": 31,
    "start_time": "2024-04-19T02:14:18.285Z"
   },
   {
    "duration": 30,
    "start_time": "2024-04-19T02:14:18.318Z"
   },
   {
    "duration": 34,
    "start_time": "2024-04-19T02:14:18.350Z"
   },
   {
    "duration": 200,
    "start_time": "2024-04-19T02:14:18.385Z"
   },
   {
    "duration": 147,
    "start_time": "2024-04-19T02:14:18.586Z"
   },
   {
    "duration": 314,
    "start_time": "2024-04-19T02:14:18.735Z"
   },
   {
    "duration": 10,
    "start_time": "2024-04-19T02:14:19.050Z"
   },
   {
    "duration": 276,
    "start_time": "2024-04-19T02:14:19.062Z"
   },
   {
    "duration": 8,
    "start_time": "2024-04-19T02:14:19.339Z"
   },
   {
    "duration": 282,
    "start_time": "2024-04-19T02:14:19.349Z"
   },
   {
    "duration": 26,
    "start_time": "2024-04-19T02:14:19.633Z"
   },
   {
    "duration": 22,
    "start_time": "2024-04-19T02:14:19.661Z"
   },
   {
    "duration": 26,
    "start_time": "2024-04-19T02:14:19.684Z"
   },
   {
    "duration": 13,
    "start_time": "2024-04-19T02:14:19.712Z"
   },
   {
    "duration": 24,
    "start_time": "2024-04-19T02:14:19.726Z"
   },
   {
    "duration": 376,
    "start_time": "2024-04-19T02:14:19.751Z"
   },
   {
    "duration": 8,
    "start_time": "2024-04-19T02:14:20.128Z"
   },
   {
    "duration": 21,
    "start_time": "2024-04-19T02:14:20.138Z"
   },
   {
    "duration": 232,
    "start_time": "2024-04-19T02:14:20.160Z"
   },
   {
    "duration": 50,
    "start_time": "2024-04-19T02:14:20.394Z"
   },
   {
    "duration": 49,
    "start_time": "2024-04-19T02:14:46.279Z"
   },
   {
    "duration": 372,
    "start_time": "2024-04-19T02:15:08.758Z"
   },
   {
    "duration": 45,
    "start_time": "2024-04-19T02:15:24.132Z"
   },
   {
    "duration": 8,
    "start_time": "2024-04-19T02:16:52.832Z"
   },
   {
    "duration": 1168,
    "start_time": "2024-04-19T02:17:02.463Z"
   },
   {
    "duration": 5,
    "start_time": "2024-04-19T02:17:12.975Z"
   },
   {
    "duration": 11,
    "start_time": "2024-04-19T02:17:29.461Z"
   },
   {
    "duration": 5,
    "start_time": "2024-04-19T02:18:59.569Z"
   },
   {
    "duration": 5,
    "start_time": "2024-04-19T02:19:33.855Z"
   },
   {
    "duration": 6,
    "start_time": "2024-04-19T02:19:44.326Z"
   },
   {
    "duration": 12,
    "start_time": "2024-04-19T02:19:58.957Z"
   },
   {
    "duration": 5,
    "start_time": "2024-04-19T02:20:07.558Z"
   },
   {
    "duration": 11,
    "start_time": "2024-04-19T02:22:26.471Z"
   },
   {
    "duration": 11,
    "start_time": "2024-04-19T02:29:43.161Z"
   },
   {
    "duration": 5,
    "start_time": "2024-04-19T02:29:48.465Z"
   },
   {
    "duration": 11,
    "start_time": "2024-04-19T02:32:43.152Z"
   },
   {
    "duration": 5,
    "start_time": "2024-04-19T02:32:51.735Z"
   },
   {
    "duration": 5,
    "start_time": "2024-04-19T02:38:10.448Z"
   },
   {
    "duration": 8,
    "start_time": "2024-04-19T02:42:51.620Z"
   },
   {
    "duration": 321,
    "start_time": "2024-04-19T02:57:36.932Z"
   },
   {
    "duration": 245,
    "start_time": "2024-04-19T02:57:58.556Z"
   },
   {
    "duration": 255,
    "start_time": "2024-04-19T02:58:12.058Z"
   },
   {
    "duration": 275,
    "start_time": "2024-04-19T03:03:28.220Z"
   },
   {
    "duration": 1112,
    "start_time": "2024-04-19T03:11:53.290Z"
   },
   {
    "duration": 71,
    "start_time": "2024-04-19T03:11:54.404Z"
   },
   {
    "duration": 18,
    "start_time": "2024-04-19T03:11:54.478Z"
   },
   {
    "duration": 45,
    "start_time": "2024-04-19T03:11:54.499Z"
   },
   {
    "duration": 54,
    "start_time": "2024-04-19T03:11:54.546Z"
   },
   {
    "duration": 55,
    "start_time": "2024-04-19T03:11:54.602Z"
   },
   {
    "duration": 16,
    "start_time": "2024-04-19T03:11:54.659Z"
   },
   {
    "duration": 24,
    "start_time": "2024-04-19T03:11:54.677Z"
   },
   {
    "duration": 57,
    "start_time": "2024-04-19T03:11:54.703Z"
   },
   {
    "duration": 24,
    "start_time": "2024-04-19T03:11:54.764Z"
   },
   {
    "duration": 20,
    "start_time": "2024-04-19T03:11:54.791Z"
   },
   {
    "duration": 9,
    "start_time": "2024-04-19T03:11:54.813Z"
   },
   {
    "duration": 28,
    "start_time": "2024-04-19T03:11:54.824Z"
   },
   {
    "duration": 232,
    "start_time": "2024-04-19T03:11:54.854Z"
   },
   {
    "duration": 163,
    "start_time": "2024-04-19T03:11:55.087Z"
   },
   {
    "duration": 331,
    "start_time": "2024-04-19T03:11:55.252Z"
   },
   {
    "duration": 11,
    "start_time": "2024-04-19T03:11:55.586Z"
   },
   {
    "duration": 321,
    "start_time": "2024-04-19T03:11:55.600Z"
   },
   {
    "duration": 12,
    "start_time": "2024-04-19T03:11:55.923Z"
   },
   {
    "duration": 315,
    "start_time": "2024-04-19T03:11:55.937Z"
   },
   {
    "duration": 28,
    "start_time": "2024-04-19T03:11:56.253Z"
   },
   {
    "duration": 19,
    "start_time": "2024-04-19T03:11:56.283Z"
   },
   {
    "duration": 28,
    "start_time": "2024-04-19T03:11:56.303Z"
   },
   {
    "duration": 13,
    "start_time": "2024-04-19T03:11:56.333Z"
   },
   {
    "duration": 10,
    "start_time": "2024-04-19T03:11:56.347Z"
   },
   {
    "duration": 389,
    "start_time": "2024-04-19T03:11:56.359Z"
   },
   {
    "duration": 12,
    "start_time": "2024-04-19T03:11:56.750Z"
   },
   {
    "duration": 10,
    "start_time": "2024-04-19T03:11:56.767Z"
   },
   {
    "duration": 282,
    "start_time": "2024-04-19T03:11:56.779Z"
   },
   {
    "duration": 51,
    "start_time": "2024-04-19T03:11:57.063Z"
   },
   {
    "duration": 24,
    "start_time": "2024-04-19T03:11:57.116Z"
   },
   {
    "duration": 11,
    "start_time": "2024-04-19T03:11:57.142Z"
   },
   {
    "duration": 6,
    "start_time": "2024-04-19T03:11:57.156Z"
   },
   {
    "duration": 22,
    "start_time": "2024-04-19T03:11:57.164Z"
   },
   {
    "duration": 15,
    "start_time": "2024-04-19T03:11:57.188Z"
   },
   {
    "duration": 311,
    "start_time": "2024-04-19T03:11:57.206Z"
   },
   {
    "duration": 291,
    "start_time": "2024-04-19T03:11:57.530Z"
   },
   {
    "duration": 1208,
    "start_time": "2024-04-19T03:12:46.015Z"
   },
   {
    "duration": 71,
    "start_time": "2024-04-19T03:12:47.225Z"
   },
   {
    "duration": 13,
    "start_time": "2024-04-19T03:12:47.298Z"
   },
   {
    "duration": 24,
    "start_time": "2024-04-19T03:12:47.313Z"
   },
   {
    "duration": 15,
    "start_time": "2024-04-19T03:12:47.338Z"
   },
   {
    "duration": 33,
    "start_time": "2024-04-19T03:12:47.355Z"
   },
   {
    "duration": 13,
    "start_time": "2024-04-19T03:12:47.390Z"
   },
   {
    "duration": 14,
    "start_time": "2024-04-19T03:12:47.405Z"
   },
   {
    "duration": 13,
    "start_time": "2024-04-19T03:12:47.420Z"
   },
   {
    "duration": 12,
    "start_time": "2024-04-19T03:12:47.436Z"
   },
   {
    "duration": 9,
    "start_time": "2024-04-19T03:12:47.449Z"
   },
   {
    "duration": 15,
    "start_time": "2024-04-19T03:12:47.459Z"
   },
   {
    "duration": 45,
    "start_time": "2024-04-19T03:12:47.476Z"
   },
   {
    "duration": 228,
    "start_time": "2024-04-19T03:12:47.523Z"
   },
   {
    "duration": 160,
    "start_time": "2024-04-19T03:12:47.752Z"
   },
   {
    "duration": 328,
    "start_time": "2024-04-19T03:12:47.913Z"
   },
   {
    "duration": 9,
    "start_time": "2024-04-19T03:12:48.242Z"
   },
   {
    "duration": 294,
    "start_time": "2024-04-19T03:12:48.253Z"
   },
   {
    "duration": 11,
    "start_time": "2024-04-19T03:12:48.549Z"
   },
   {
    "duration": 287,
    "start_time": "2024-04-19T03:12:48.562Z"
   },
   {
    "duration": 27,
    "start_time": "2024-04-19T03:12:48.850Z"
   },
   {
    "duration": 16,
    "start_time": "2024-04-19T03:12:48.879Z"
   },
   {
    "duration": 33,
    "start_time": "2024-04-19T03:12:48.897Z"
   },
   {
    "duration": 14,
    "start_time": "2024-04-19T03:12:48.932Z"
   },
   {
    "duration": 18,
    "start_time": "2024-04-19T03:12:48.947Z"
   },
   {
    "duration": 379,
    "start_time": "2024-04-19T03:12:48.967Z"
   },
   {
    "duration": 9,
    "start_time": "2024-04-19T03:12:49.348Z"
   },
   {
    "duration": 9,
    "start_time": "2024-04-19T03:12:49.360Z"
   },
   {
    "duration": 249,
    "start_time": "2024-04-19T03:12:49.370Z"
   },
   {
    "duration": 75,
    "start_time": "2024-04-19T03:12:49.621Z"
   },
   {
    "duration": 13,
    "start_time": "2024-04-19T03:12:49.697Z"
   },
   {
    "duration": 22,
    "start_time": "2024-04-19T03:12:49.711Z"
   },
   {
    "duration": 31,
    "start_time": "2024-04-19T03:12:49.735Z"
   },
   {
    "duration": 35,
    "start_time": "2024-04-19T03:12:49.768Z"
   },
   {
    "duration": 20,
    "start_time": "2024-04-19T03:12:49.804Z"
   },
   {
    "duration": 104,
    "start_time": "2024-04-19T03:12:49.825Z"
   },
   {
    "duration": 0,
    "start_time": "2024-04-19T03:12:49.931Z"
   },
   {
    "duration": 1129,
    "start_time": "2024-04-19T03:14:24.277Z"
   },
   {
    "duration": 69,
    "start_time": "2024-04-19T03:14:25.408Z"
   },
   {
    "duration": 29,
    "start_time": "2024-04-19T03:14:25.478Z"
   },
   {
    "duration": 9,
    "start_time": "2024-04-19T03:14:25.510Z"
   },
   {
    "duration": 9,
    "start_time": "2024-04-19T03:14:25.520Z"
   },
   {
    "duration": 15,
    "start_time": "2024-04-19T03:14:25.530Z"
   },
   {
    "duration": 45,
    "start_time": "2024-04-19T03:14:25.546Z"
   },
   {
    "duration": 27,
    "start_time": "2024-04-19T03:14:25.593Z"
   },
   {
    "duration": 19,
    "start_time": "2024-04-19T03:14:25.622Z"
   },
   {
    "duration": 19,
    "start_time": "2024-04-19T03:14:25.644Z"
   },
   {
    "duration": 15,
    "start_time": "2024-04-19T03:14:25.665Z"
   },
   {
    "duration": 20,
    "start_time": "2024-04-19T03:14:25.682Z"
   },
   {
    "duration": 33,
    "start_time": "2024-04-19T03:14:25.704Z"
   },
   {
    "duration": 228,
    "start_time": "2024-04-19T03:14:25.738Z"
   },
   {
    "duration": 163,
    "start_time": "2024-04-19T03:14:25.968Z"
   },
   {
    "duration": 302,
    "start_time": "2024-04-19T03:14:26.132Z"
   },
   {
    "duration": 8,
    "start_time": "2024-04-19T03:14:26.436Z"
   },
   {
    "duration": 307,
    "start_time": "2024-04-19T03:14:26.446Z"
   },
   {
    "duration": 9,
    "start_time": "2024-04-19T03:14:26.755Z"
   },
   {
    "duration": 305,
    "start_time": "2024-04-19T03:14:26.765Z"
   },
   {
    "duration": 34,
    "start_time": "2024-04-19T03:14:27.072Z"
   },
   {
    "duration": 31,
    "start_time": "2024-04-19T03:14:27.108Z"
   },
   {
    "duration": 15,
    "start_time": "2024-04-19T03:14:27.141Z"
   },
   {
    "duration": 8,
    "start_time": "2024-04-19T03:14:27.157Z"
   },
   {
    "duration": 32,
    "start_time": "2024-04-19T03:14:27.167Z"
   },
   {
    "duration": 400,
    "start_time": "2024-04-19T03:14:27.201Z"
   },
   {
    "duration": 8,
    "start_time": "2024-04-19T03:14:27.602Z"
   },
   {
    "duration": 47,
    "start_time": "2024-04-19T03:14:27.613Z"
   },
   {
    "duration": 239,
    "start_time": "2024-04-19T03:14:27.662Z"
   },
   {
    "duration": 51,
    "start_time": "2024-04-19T03:14:27.903Z"
   },
   {
    "duration": 11,
    "start_time": "2024-04-19T03:14:27.956Z"
   },
   {
    "duration": 36,
    "start_time": "2024-04-19T03:14:27.968Z"
   },
   {
    "duration": 19,
    "start_time": "2024-04-19T03:14:28.005Z"
   },
   {
    "duration": 35,
    "start_time": "2024-04-19T03:14:28.026Z"
   },
   {
    "duration": 29,
    "start_time": "2024-04-19T03:14:28.063Z"
   },
   {
    "duration": 131,
    "start_time": "2024-04-19T03:14:28.094Z"
   },
   {
    "duration": 0,
    "start_time": "2024-04-19T03:14:28.229Z"
   },
   {
    "duration": 1173,
    "start_time": "2024-04-19T03:15:32.448Z"
   },
   {
    "duration": 69,
    "start_time": "2024-04-19T03:15:33.623Z"
   },
   {
    "duration": 14,
    "start_time": "2024-04-19T03:15:33.694Z"
   },
   {
    "duration": 9,
    "start_time": "2024-04-19T03:15:33.711Z"
   },
   {
    "duration": 8,
    "start_time": "2024-04-19T03:15:33.722Z"
   },
   {
    "duration": 14,
    "start_time": "2024-04-19T03:15:33.732Z"
   },
   {
    "duration": 8,
    "start_time": "2024-04-19T03:15:33.748Z"
   },
   {
    "duration": 10,
    "start_time": "2024-04-19T03:15:33.758Z"
   },
   {
    "duration": 10,
    "start_time": "2024-04-19T03:15:33.770Z"
   },
   {
    "duration": 10,
    "start_time": "2024-04-19T03:15:33.783Z"
   },
   {
    "duration": 36,
    "start_time": "2024-04-19T03:15:33.794Z"
   },
   {
    "duration": 21,
    "start_time": "2024-04-19T03:15:33.832Z"
   },
   {
    "duration": 25,
    "start_time": "2024-04-19T03:15:33.855Z"
   },
   {
    "duration": 232,
    "start_time": "2024-04-19T03:15:33.881Z"
   },
   {
    "duration": 150,
    "start_time": "2024-04-19T03:15:34.115Z"
   },
   {
    "duration": 309,
    "start_time": "2024-04-19T03:15:34.267Z"
   },
   {
    "duration": 9,
    "start_time": "2024-04-19T03:15:34.578Z"
   },
   {
    "duration": 295,
    "start_time": "2024-04-19T03:15:34.588Z"
   },
   {
    "duration": 8,
    "start_time": "2024-04-19T03:15:34.886Z"
   },
   {
    "duration": 286,
    "start_time": "2024-04-19T03:15:34.896Z"
   },
   {
    "duration": 46,
    "start_time": "2024-04-19T03:15:35.183Z"
   },
   {
    "duration": 16,
    "start_time": "2024-04-19T03:15:35.231Z"
   },
   {
    "duration": 31,
    "start_time": "2024-04-19T03:15:35.249Z"
   },
   {
    "duration": 22,
    "start_time": "2024-04-19T03:15:35.282Z"
   },
   {
    "duration": 33,
    "start_time": "2024-04-19T03:15:35.307Z"
   },
   {
    "duration": 395,
    "start_time": "2024-04-19T03:15:35.342Z"
   },
   {
    "duration": 8,
    "start_time": "2024-04-19T03:15:35.739Z"
   },
   {
    "duration": 9,
    "start_time": "2024-04-19T03:15:35.750Z"
   },
   {
    "duration": 241,
    "start_time": "2024-04-19T03:15:35.761Z"
   },
   {
    "duration": 53,
    "start_time": "2024-04-19T03:15:36.003Z"
   },
   {
    "duration": 12,
    "start_time": "2024-04-19T03:15:36.058Z"
   },
   {
    "duration": 5,
    "start_time": "2024-04-19T03:15:36.072Z"
   },
   {
    "duration": 4,
    "start_time": "2024-04-19T03:15:36.079Z"
   },
   {
    "duration": 33,
    "start_time": "2024-04-19T03:15:36.085Z"
   },
   {
    "duration": 10,
    "start_time": "2024-04-19T03:15:36.120Z"
   },
   {
    "duration": 263,
    "start_time": "2024-04-19T03:15:36.132Z"
   },
   {
    "duration": 115,
    "start_time": "2024-04-19T03:15:36.396Z"
   },
   {
    "duration": 1230,
    "start_time": "2024-04-19T03:15:46.876Z"
   },
   {
    "duration": 75,
    "start_time": "2024-04-19T03:15:48.108Z"
   },
   {
    "duration": 12,
    "start_time": "2024-04-19T03:15:48.185Z"
   },
   {
    "duration": 33,
    "start_time": "2024-04-19T03:15:48.199Z"
   },
   {
    "duration": 12,
    "start_time": "2024-04-19T03:15:48.236Z"
   },
   {
    "duration": 73,
    "start_time": "2024-04-19T03:15:48.250Z"
   },
   {
    "duration": 19,
    "start_time": "2024-04-19T03:15:48.325Z"
   },
   {
    "duration": 11,
    "start_time": "2024-04-19T03:15:48.346Z"
   },
   {
    "duration": 8,
    "start_time": "2024-04-19T03:15:48.359Z"
   },
   {
    "duration": 11,
    "start_time": "2024-04-19T03:15:48.369Z"
   },
   {
    "duration": 9,
    "start_time": "2024-04-19T03:15:48.381Z"
   },
   {
    "duration": 8,
    "start_time": "2024-04-19T03:15:48.392Z"
   },
   {
    "duration": 46,
    "start_time": "2024-04-19T03:15:48.402Z"
   },
   {
    "duration": 244,
    "start_time": "2024-04-19T03:15:48.450Z"
   },
   {
    "duration": 173,
    "start_time": "2024-04-19T03:15:48.696Z"
   },
   {
    "duration": 324,
    "start_time": "2024-04-19T03:15:48.871Z"
   },
   {
    "duration": 8,
    "start_time": "2024-04-19T03:15:49.196Z"
   },
   {
    "duration": 311,
    "start_time": "2024-04-19T03:15:49.206Z"
   },
   {
    "duration": 8,
    "start_time": "2024-04-19T03:15:49.519Z"
   },
   {
    "duration": 297,
    "start_time": "2024-04-19T03:15:49.529Z"
   },
   {
    "duration": 35,
    "start_time": "2024-04-19T03:15:49.827Z"
   },
   {
    "duration": 16,
    "start_time": "2024-04-19T03:15:49.864Z"
   },
   {
    "duration": 60,
    "start_time": "2024-04-19T03:15:49.882Z"
   },
   {
    "duration": 10,
    "start_time": "2024-04-19T03:15:49.944Z"
   },
   {
    "duration": 17,
    "start_time": "2024-04-19T03:15:49.955Z"
   },
   {
    "duration": 400,
    "start_time": "2024-04-19T03:15:49.974Z"
   },
   {
    "duration": 9,
    "start_time": "2024-04-19T03:15:50.376Z"
   },
   {
    "duration": 10,
    "start_time": "2024-04-19T03:15:50.388Z"
   },
   {
    "duration": 268,
    "start_time": "2024-04-19T03:15:50.400Z"
   },
   {
    "duration": 47,
    "start_time": "2024-04-19T03:15:50.670Z"
   },
   {
    "duration": 33,
    "start_time": "2024-04-19T03:15:50.719Z"
   },
   {
    "duration": 6,
    "start_time": "2024-04-19T03:15:50.754Z"
   },
   {
    "duration": 11,
    "start_time": "2024-04-19T03:15:50.762Z"
   },
   {
    "duration": 24,
    "start_time": "2024-04-19T03:15:50.775Z"
   },
   {
    "duration": 21,
    "start_time": "2024-04-19T03:15:50.801Z"
   },
   {
    "duration": 285,
    "start_time": "2024-04-19T03:15:50.823Z"
   },
   {
    "duration": 293,
    "start_time": "2024-04-19T03:15:51.109Z"
   },
   {
    "duration": 1163,
    "start_time": "2024-04-19T21:26:11.955Z"
   },
   {
    "duration": 308,
    "start_time": "2024-04-19T21:26:13.122Z"
   },
   {
    "duration": 13,
    "start_time": "2024-04-19T21:26:13.432Z"
   },
   {
    "duration": 10,
    "start_time": "2024-04-19T21:26:13.446Z"
   },
   {
    "duration": 9,
    "start_time": "2024-04-19T21:26:13.458Z"
   },
   {
    "duration": 21,
    "start_time": "2024-04-19T21:26:13.469Z"
   },
   {
    "duration": 12,
    "start_time": "2024-04-19T21:26:13.491Z"
   },
   {
    "duration": 16,
    "start_time": "2024-04-19T21:26:13.504Z"
   },
   {
    "duration": 8,
    "start_time": "2024-04-19T21:26:13.522Z"
   },
   {
    "duration": 13,
    "start_time": "2024-04-19T21:26:13.531Z"
   },
   {
    "duration": 6,
    "start_time": "2024-04-19T21:26:13.545Z"
   },
   {
    "duration": 17,
    "start_time": "2024-04-19T21:26:13.552Z"
   },
   {
    "duration": 34,
    "start_time": "2024-04-19T21:26:13.572Z"
   },
   {
    "duration": 220,
    "start_time": "2024-04-19T21:26:13.608Z"
   },
   {
    "duration": 165,
    "start_time": "2024-04-19T21:26:13.830Z"
   },
   {
    "duration": 318,
    "start_time": "2024-04-19T21:26:13.996Z"
   },
   {
    "duration": 8,
    "start_time": "2024-04-19T21:26:14.315Z"
   },
   {
    "duration": 271,
    "start_time": "2024-04-19T21:26:14.325Z"
   },
   {
    "duration": 8,
    "start_time": "2024-04-19T21:26:14.598Z"
   },
   {
    "duration": 277,
    "start_time": "2024-04-19T21:26:14.607Z"
   },
   {
    "duration": 25,
    "start_time": "2024-04-19T21:26:14.886Z"
   },
   {
    "duration": 16,
    "start_time": "2024-04-19T21:26:14.912Z"
   },
   {
    "duration": 18,
    "start_time": "2024-04-19T21:26:14.929Z"
   },
   {
    "duration": 36,
    "start_time": "2024-04-19T21:26:14.949Z"
   },
   {
    "duration": 8,
    "start_time": "2024-04-19T21:26:14.987Z"
   },
   {
    "duration": 401,
    "start_time": "2024-04-19T21:26:14.997Z"
   },
   {
    "duration": 8,
    "start_time": "2024-04-19T21:26:15.402Z"
   },
   {
    "duration": 45,
    "start_time": "2024-04-19T21:26:15.411Z"
   },
   {
    "duration": 268,
    "start_time": "2024-04-19T21:26:15.458Z"
   },
   {
    "duration": 52,
    "start_time": "2024-04-19T21:26:15.728Z"
   },
   {
    "duration": 12,
    "start_time": "2024-04-19T21:26:15.782Z"
   },
   {
    "duration": 27,
    "start_time": "2024-04-19T21:26:15.795Z"
   },
   {
    "duration": 4,
    "start_time": "2024-04-19T21:26:15.824Z"
   },
   {
    "duration": 20,
    "start_time": "2024-04-19T21:26:15.830Z"
   },
   {
    "duration": 34,
    "start_time": "2024-04-19T21:26:15.852Z"
   },
   {
    "duration": 263,
    "start_time": "2024-04-19T21:26:15.888Z"
   },
   {
    "duration": 266,
    "start_time": "2024-04-19T21:26:16.176Z"
   },
   {
    "duration": 1087,
    "start_time": "2024-10-16T13:06:20.112Z"
   },
   {
    "duration": 299,
    "start_time": "2024-10-16T13:06:21.201Z"
   },
   {
    "duration": 16,
    "start_time": "2024-10-16T13:06:21.502Z"
   },
   {
    "duration": 11,
    "start_time": "2024-10-16T13:06:21.521Z"
   },
   {
    "duration": 8,
    "start_time": "2024-10-16T13:06:21.533Z"
   },
   {
    "duration": 24,
    "start_time": "2024-10-16T13:06:21.543Z"
   },
   {
    "duration": 12,
    "start_time": "2024-10-16T13:06:21.568Z"
   },
   {
    "duration": 11,
    "start_time": "2024-10-16T13:06:21.582Z"
   },
   {
    "duration": 20,
    "start_time": "2024-10-16T13:06:21.595Z"
   },
   {
    "duration": 14,
    "start_time": "2024-10-16T13:06:21.618Z"
   },
   {
    "duration": 17,
    "start_time": "2024-10-16T13:06:21.634Z"
   },
   {
    "duration": 6,
    "start_time": "2024-10-16T13:06:21.652Z"
   },
   {
    "duration": 29,
    "start_time": "2024-10-16T13:06:21.659Z"
   },
   {
    "duration": 186,
    "start_time": "2024-10-16T13:06:21.689Z"
   },
   {
    "duration": 148,
    "start_time": "2024-10-16T13:06:21.877Z"
   },
   {
    "duration": 313,
    "start_time": "2024-10-16T13:06:22.027Z"
   },
   {
    "duration": 19,
    "start_time": "2024-10-16T13:06:22.342Z"
   },
   {
    "duration": 217,
    "start_time": "2024-10-16T13:06:22.363Z"
   },
   {
    "duration": 10,
    "start_time": "2024-10-16T13:06:22.581Z"
   },
   {
    "duration": 220,
    "start_time": "2024-10-16T13:06:22.593Z"
   },
   {
    "duration": 24,
    "start_time": "2024-10-16T13:06:22.814Z"
   },
   {
    "duration": 29,
    "start_time": "2024-10-16T13:06:22.839Z"
   },
   {
    "duration": 17,
    "start_time": "2024-10-16T13:06:22.870Z"
   },
   {
    "duration": 8,
    "start_time": "2024-10-16T13:06:22.889Z"
   },
   {
    "duration": 9,
    "start_time": "2024-10-16T13:06:22.899Z"
   },
   {
    "duration": 327,
    "start_time": "2024-10-16T13:06:22.910Z"
   },
   {
    "duration": 8,
    "start_time": "2024-10-16T13:06:23.238Z"
   },
   {
    "duration": 12,
    "start_time": "2024-10-16T13:06:23.257Z"
   },
   {
    "duration": 221,
    "start_time": "2024-10-16T13:06:23.271Z"
   },
   {
    "duration": 64,
    "start_time": "2024-10-16T13:06:23.494Z"
   },
   {
    "duration": 11,
    "start_time": "2024-10-16T13:06:23.561Z"
   },
   {
    "duration": 10,
    "start_time": "2024-10-16T13:06:23.573Z"
   },
   {
    "duration": 5,
    "start_time": "2024-10-16T13:06:23.584Z"
   },
   {
    "duration": 5,
    "start_time": "2024-10-16T13:06:23.591Z"
   },
   {
    "duration": 10,
    "start_time": "2024-10-16T13:06:23.598Z"
   },
   {
    "duration": 301,
    "start_time": "2024-10-16T13:06:23.609Z"
   },
   {
    "duration": 208,
    "start_time": "2024-10-16T13:06:23.912Z"
   }
  ],
  "kernelspec": {
   "display_name": "Python 3 (ipykernel)",
   "language": "python",
   "name": "python3"
  },
  "language_info": {
   "codemirror_mode": {
    "name": "ipython",
    "version": 3
   },
   "file_extension": ".py",
   "mimetype": "text/x-python",
   "name": "python",
   "nbconvert_exporter": "python",
   "pygments_lexer": "ipython3",
   "version": "3.9.5"
  },
  "toc": {
   "base_numbering": 1,
   "nav_menu": {},
   "number_sections": true,
   "sideBar": true,
   "skip_h1_title": true,
   "title_cell": "Table of Contents",
   "title_sidebar": "Contents",
   "toc_cell": false,
   "toc_position": {
    "height": "calc(100% - 180px)",
    "left": "10px",
    "top": "150px",
    "width": "384px"
   },
   "toc_section_display": true,
   "toc_window_display": true
  }
 },
 "nbformat": 4,
 "nbformat_minor": 5
}
